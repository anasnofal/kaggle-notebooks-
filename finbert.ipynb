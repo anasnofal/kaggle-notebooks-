{
 "cells": [
  {
   "cell_type": "code",
   "execution_count": 1,
   "id": "702f8a1d",
   "metadata": {
    "_cell_guid": "b1076dfc-b9ad-4769-8c92-a6c4dae69d19",
    "_uuid": "8f2839f25d086af736a60e9eeb907d3b93b6e0e5",
    "execution": {
     "iopub.execute_input": "2025-06-10T14:26:15.337022Z",
     "iopub.status.busy": "2025-06-10T14:26:15.336769Z",
     "iopub.status.idle": "2025-06-10T14:26:31.236147Z",
     "shell.execute_reply": "2025-06-10T14:26:31.235461Z"
    },
    "papermill": {
     "duration": 15.909087,
     "end_time": "2025-06-10T14:26:31.237727",
     "exception": false,
     "start_time": "2025-06-10T14:26:15.328640",
     "status": "completed"
    },
    "tags": []
   },
   "outputs": [
    {
     "name": "stdout",
     "output_type": "stream",
     "text": [
      "env: TOKENIZERS_PARALLELISM=false\n",
      "env: WANDB_DISABLED=true\n"
     ]
    }
   ],
   "source": [
    "%env TOKENIZERS_PARALLELISM=false\n",
    "%env WANDB_DISABLED=true\n",
    "import numpy as np\n",
    "import pandas as pd\n",
    "\n",
    "from sklearn.preprocessing import LabelEncoder\n",
    "from sklearn.model_selection import train_test_split\n",
    "\n",
    "from transformers import (\n",
    "    AutoTokenizer, \n",
    "    AutoModel, \n",
    "    AdamW, \n",
    "    AutoConfig, \n",
    "    DataCollatorWithPadding,\n",
    "    TrainingArguments,\n",
    "    Trainer,\n",
    "    AutoModelForSequenceClassification\n",
    ")\n",
    "\n",
    "from datasets import Dataset\n",
    "\n",
    "import torch\n",
    "import torch.nn as nn\n",
    "from tqdm.auto import tqdm\n",
    "from torch.utils.data import DataLoader"
   ]
  },
  {
   "cell_type": "code",
   "execution_count": 2,
   "id": "2e85d909",
   "metadata": {
    "execution": {
     "iopub.execute_input": "2025-06-10T14:26:31.253353Z",
     "iopub.status.busy": "2025-06-10T14:26:31.252843Z",
     "iopub.status.idle": "2025-06-10T14:26:31.256194Z",
     "shell.execute_reply": "2025-06-10T14:26:31.255570Z"
    },
    "papermill": {
     "duration": 0.011946,
     "end_time": "2025-06-10T14:26:31.257398",
     "exception": false,
     "start_time": "2025-06-10T14:26:31.245452",
     "status": "completed"
    },
    "tags": []
   },
   "outputs": [],
   "source": [
    "class args:\n",
    "    model = 'ProsusAI/finbert'"
   ]
  },
  {
   "cell_type": "code",
   "execution_count": 3,
   "id": "f767d6c5",
   "metadata": {
    "execution": {
     "iopub.execute_input": "2025-06-10T14:26:31.271403Z",
     "iopub.status.busy": "2025-06-10T14:26:31.271195Z",
     "iopub.status.idle": "2025-06-10T14:26:33.279884Z",
     "shell.execute_reply": "2025-06-10T14:26:33.278870Z"
    },
    "papermill": {
     "duration": 2.017373,
     "end_time": "2025-06-10T14:26:33.281471",
     "exception": false,
     "start_time": "2025-06-10T14:26:31.264098",
     "status": "completed"
    },
    "tags": []
   },
   "outputs": [],
   "source": [
    "\n",
    "df = pd.read_csv('/kaggle/input/news-sentiment-analysis/news.csv')"
   ]
  },
  {
   "cell_type": "code",
   "execution_count": 4,
   "id": "666b2011",
   "metadata": {
    "execution": {
     "iopub.execute_input": "2025-06-10T14:26:33.296822Z",
     "iopub.status.busy": "2025-06-10T14:26:33.296560Z",
     "iopub.status.idle": "2025-06-10T14:26:33.360908Z",
     "shell.execute_reply": "2025-06-10T14:26:33.360009Z"
    },
    "papermill": {
     "duration": 0.073462,
     "end_time": "2025-06-10T14:26:33.362282",
     "exception": false,
     "start_time": "2025-06-10T14:26:33.288820",
     "status": "completed"
    },
    "tags": []
   },
   "outputs": [],
   "source": [
    "df.rename(columns={'sentiment': 'labels', 'news': 'messages'}, inplace=True)\n",
    "\n",
    "# Set date as index\n",
    "df['date'] = pd.to_datetime(df['date'])  # Convert to datetime if necessary\n",
    "df.set_index('date', inplace=True)"
   ]
  },
  {
   "cell_type": "code",
   "execution_count": 5,
   "id": "70386cfe",
   "metadata": {
    "execution": {
     "iopub.execute_input": "2025-06-10T14:26:33.376951Z",
     "iopub.status.busy": "2025-06-10T14:26:33.376684Z",
     "iopub.status.idle": "2025-06-10T14:26:33.449467Z",
     "shell.execute_reply": "2025-06-10T14:26:33.448634Z"
    },
    "papermill": {
     "duration": 0.081304,
     "end_time": "2025-06-10T14:26:33.450735",
     "exception": false,
     "start_time": "2025-06-10T14:26:33.369431",
     "status": "completed"
    },
    "tags": []
   },
   "outputs": [
    {
     "data": {
      "text/plain": [
       "labels\n",
       "0    217443\n",
       "1    210039\n",
       "Name: count, dtype: int64"
      ]
     },
     "execution_count": 5,
     "metadata": {},
     "output_type": "execute_result"
    }
   ],
   "source": [
    "le = LabelEncoder()\n",
    "df['labels'] = le.fit_transform(df['labels'])\n",
    "df['labels'].value_counts()"
   ]
  },
  {
   "cell_type": "code",
   "execution_count": 6,
   "id": "f308cdd8",
   "metadata": {
    "execution": {
     "iopub.execute_input": "2025-06-10T14:26:33.466029Z",
     "iopub.status.busy": "2025-06-10T14:26:33.465753Z",
     "iopub.status.idle": "2025-06-10T14:26:33.550974Z",
     "shell.execute_reply": "2025-06-10T14:26:33.550138Z"
    },
    "papermill": {
     "duration": 0.094122,
     "end_time": "2025-06-10T14:26:33.552232",
     "exception": false,
     "start_time": "2025-06-10T14:26:33.458110",
     "status": "completed"
    },
    "tags": []
   },
   "outputs": [
    {
     "data": {
      "text/plain": [
       "1586"
      ]
     },
     "execution_count": 6,
     "metadata": {},
     "output_type": "execute_result"
    }
   ],
   "source": [
    "sentences_lengths = np.array(list(map(len, df['messages'])))\n",
    "np.max(sentences_lengths)"
   ]
  },
  {
   "cell_type": "code",
   "execution_count": 7,
   "id": "62f49db9",
   "metadata": {
    "execution": {
     "iopub.execute_input": "2025-06-10T14:26:33.566575Z",
     "iopub.status.busy": "2025-06-10T14:26:33.566359Z",
     "iopub.status.idle": "2025-06-10T14:26:33.576516Z",
     "shell.execute_reply": "2025-06-10T14:26:33.575917Z"
    },
    "papermill": {
     "duration": 0.018579,
     "end_time": "2025-06-10T14:26:33.577672",
     "exception": false,
     "start_time": "2025-06-10T14:26:33.559093",
     "status": "completed"
    },
    "tags": []
   },
   "outputs": [
    {
     "data": {
      "text/plain": [
       "177"
      ]
     },
     "execution_count": 7,
     "metadata": {},
     "output_type": "execute_result"
    }
   ],
   "source": [
    "MAX_LEN = int(np.ceil(np.percentile(sentences_lengths, 90)))\n",
    "MAX_LEN"
   ]
  },
  {
   "cell_type": "markdown",
   "id": "5a718cdd",
   "metadata": {
    "execution": {
     "iopub.execute_input": "2022-03-21T08:54:02.661604Z",
     "iopub.status.busy": "2022-03-21T08:54:02.661079Z",
     "iopub.status.idle": "2022-03-21T08:54:02.674078Z",
     "shell.execute_reply": "2022-03-21T08:54:02.673369Z",
     "shell.execute_reply.started": "2022-03-21T08:54:02.661565Z"
    },
    "papermill": {
     "duration": 0.006744,
     "end_time": "2025-06-10T14:26:33.591666",
     "exception": false,
     "start_time": "2025-06-10T14:26:33.584922",
     "status": "completed"
    },
    "tags": []
   },
   "source": [
    "Now let's split the given data into train, test and validation\n",
    "\n",
    "We will be using the train data to train the mode, the validation data to determiine the performance of the model and the test data to check how the model performs on unseen data\n",
    "\n",
    "We will stratify on the `labels` so that the data remains balanced for train, test and validation data"
   ]
  },
  {
   "cell_type": "code",
   "execution_count": 8,
   "id": "a84fa6b4",
   "metadata": {
    "execution": {
     "iopub.execute_input": "2025-06-10T14:26:33.606297Z",
     "iopub.status.busy": "2025-06-10T14:26:33.606086Z",
     "iopub.status.idle": "2025-06-10T14:26:33.608695Z",
     "shell.execute_reply": "2025-06-10T14:26:33.608091Z"
    },
    "papermill": {
     "duration": 0.011168,
     "end_time": "2025-06-10T14:26:33.609851",
     "exception": false,
     "start_time": "2025-06-10T14:26:33.598683",
     "status": "completed"
    },
    "tags": []
   },
   "outputs": [],
   "source": [
    "# X, y = df['messages'].values, df['labels'].values\n",
    "\n",
    "# # train : test = 0.9 : 0.1\n",
    "# xtrain, xtest, ytrain, ytest = train_test_split(X, y, test_size=0.2, stratify=y)\n",
    "\n",
    "# # train : valid = 0.8 : 0.2\n",
    "# xtrain, xvalid, ytrain, yvalid = train_test_split(xtrain, ytrain, test_size=0.2, stratify=ytrain)\n",
    "\n",
    "# # train : valid : test = 0.72 : 0.18 : 0.10 (stratified on 'labels')"
   ]
  },
  {
   "cell_type": "code",
   "execution_count": 9,
   "id": "8abd3c53",
   "metadata": {
    "execution": {
     "iopub.execute_input": "2025-06-10T14:26:33.624523Z",
     "iopub.status.busy": "2025-06-10T14:26:33.624327Z",
     "iopub.status.idle": "2025-06-10T14:26:33.627170Z",
     "shell.execute_reply": "2025-06-10T14:26:33.626564Z"
    },
    "papermill": {
     "duration": 0.011453,
     "end_time": "2025-06-10T14:26:33.628375",
     "exception": false,
     "start_time": "2025-06-10T14:26:33.616922",
     "status": "completed"
    },
    "tags": []
   },
   "outputs": [],
   "source": [
    "#df= df.sample(frac=0.001)"
   ]
  },
  {
   "cell_type": "code",
   "execution_count": 10,
   "id": "7bf91be1",
   "metadata": {
    "execution": {
     "iopub.execute_input": "2025-06-10T14:26:33.643059Z",
     "iopub.status.busy": "2025-06-10T14:26:33.642824Z",
     "iopub.status.idle": "2025-06-10T14:26:33.672371Z",
     "shell.execute_reply": "2025-06-10T14:26:33.671763Z"
    },
    "papermill": {
     "duration": 0.038353,
     "end_time": "2025-06-10T14:26:33.673674",
     "exception": false,
     "start_time": "2025-06-10T14:26:33.635321",
     "status": "completed"
    },
    "tags": []
   },
   "outputs": [],
   "source": [
    "df = df.sort_index()\n",
    "\n",
    "total_rows = len(df)\n",
    "train_end = int(total_rows * 0.72)\n",
    "valid_end = train_end + int(total_rows * 0.18)\n",
    "\n",
    "train = df.iloc[:train_end]\n",
    "valid = df.iloc[train_end:valid_end]\n",
    "test = df.iloc[valid_end:]"
   ]
  },
  {
   "cell_type": "code",
   "execution_count": 11,
   "id": "927411d6",
   "metadata": {
    "execution": {
     "iopub.execute_input": "2025-06-10T14:26:33.689073Z",
     "iopub.status.busy": "2025-06-10T14:26:33.688817Z",
     "iopub.status.idle": "2025-06-10T14:26:33.818208Z",
     "shell.execute_reply": "2025-06-10T14:26:33.817452Z"
    },
    "papermill": {
     "duration": 0.138699,
     "end_time": "2025-06-10T14:26:33.819729",
     "exception": false,
     "start_time": "2025-06-10T14:26:33.681030",
     "status": "completed"
    },
    "tags": []
   },
   "outputs": [],
   "source": [
    "# Convert to NumPy arrays\n",
    "X_train = train.drop(columns=['labels']).to_numpy()  # Features for training\n",
    "y_train = train['labels'].to_numpy()                # Target labels for training\n",
    "\n",
    "X_valid = valid.drop(columns=['labels']).to_numpy()  # Features for validation\n",
    "y_valid = valid['labels'].to_numpy()                 # Target labels for validation\n",
    "\n",
    "X_test = test.drop(columns=['labels']).to_numpy()    # Features for testing\n",
    "y_test = test['labels'].to_numpy()"
   ]
  },
  {
   "cell_type": "markdown",
   "id": "414b2ee2",
   "metadata": {
    "papermill": {
     "duration": 0.006649,
     "end_time": "2025-06-10T14:26:33.833611",
     "exception": false,
     "start_time": "2025-06-10T14:26:33.826962",
     "status": "completed"
    },
    "tags": []
   },
   "source": [
    "# Dataset"
   ]
  },
  {
   "cell_type": "code",
   "execution_count": 12,
   "id": "8dfc5a50",
   "metadata": {
    "execution": {
     "iopub.execute_input": "2025-06-10T14:26:33.848048Z",
     "iopub.status.busy": "2025-06-10T14:26:33.847782Z",
     "iopub.status.idle": "2025-06-10T14:26:43.038911Z",
     "shell.execute_reply": "2025-06-10T14:26:43.038186Z"
    },
    "papermill": {
     "duration": 9.2002,
     "end_time": "2025-06-10T14:26:43.040596",
     "exception": false,
     "start_time": "2025-06-10T14:26:33.840396",
     "status": "completed"
    },
    "tags": []
   },
   "outputs": [],
   "source": [
    "X_train = [str(x) for x in X_train]\n",
    "X_valid = [str(x) for x in X_valid]\n",
    "X_test = [str(x) for x in X_test]"
   ]
  },
  {
   "cell_type": "code",
   "execution_count": 13,
   "id": "692afb72",
   "metadata": {
    "execution": {
     "iopub.execute_input": "2025-06-10T14:26:43.056428Z",
     "iopub.status.busy": "2025-06-10T14:26:43.056189Z",
     "iopub.status.idle": "2025-06-10T14:26:43.872156Z",
     "shell.execute_reply": "2025-06-10T14:26:43.871352Z"
    },
    "papermill": {
     "duration": 0.825126,
     "end_time": "2025-06-10T14:26:43.873417",
     "exception": false,
     "start_time": "2025-06-10T14:26:43.048291",
     "status": "completed"
    },
    "tags": []
   },
   "outputs": [
    {
     "data": {
      "text/plain": [
       "Dataset({\n",
       "    features: ['text'],\n",
       "    num_rows: 42749\n",
       "})"
      ]
     },
     "execution_count": 13,
     "metadata": {},
     "output_type": "execute_result"
    }
   ],
   "source": [
    "train_dataset_raw = Dataset.from_dict({'text':X_train, 'labels':y_train})\n",
    "valid_dataset_raw = Dataset.from_dict({'text':X_valid, 'labels':y_valid})\n",
    "pred_dataset_raw = Dataset.from_dict({'text': X_test})\n",
    "pred_dataset_raw"
   ]
  },
  {
   "cell_type": "code",
   "execution_count": 14,
   "id": "d575bb8c",
   "metadata": {
    "execution": {
     "iopub.execute_input": "2025-06-10T14:26:43.888444Z",
     "iopub.status.busy": "2025-06-10T14:26:43.888203Z",
     "iopub.status.idle": "2025-06-10T14:26:43.891529Z",
     "shell.execute_reply": "2025-06-10T14:26:43.890888Z"
    },
    "papermill": {
     "duration": 0.012045,
     "end_time": "2025-06-10T14:26:43.892788",
     "exception": false,
     "start_time": "2025-06-10T14:26:43.880743",
     "status": "completed"
    },
    "tags": []
   },
   "outputs": [],
   "source": [
    "def tokenize_fn(examples):\n",
    "    return tokenizer(examples['text'], truncation=True)"
   ]
  },
  {
   "cell_type": "code",
   "execution_count": 15,
   "id": "41f20f04",
   "metadata": {
    "execution": {
     "iopub.execute_input": "2025-06-10T14:26:43.907252Z",
     "iopub.status.busy": "2025-06-10T14:26:43.907055Z",
     "iopub.status.idle": "2025-06-10T14:26:44.584228Z",
     "shell.execute_reply": "2025-06-10T14:26:44.583209Z"
    },
    "papermill": {
     "duration": 0.685945,
     "end_time": "2025-06-10T14:26:44.585608",
     "exception": false,
     "start_time": "2025-06-10T14:26:43.899663",
     "status": "completed"
    },
    "tags": []
   },
   "outputs": [
    {
     "data": {
      "application/vnd.jupyter.widget-view+json": {
       "model_id": "4d8e172cbb94456f912a4f9339aa2da1",
       "version_major": 2,
       "version_minor": 0
      },
      "text/plain": [
       "tokenizer_config.json:   0%|          | 0.00/252 [00:00<?, ?B/s]"
      ]
     },
     "metadata": {},
     "output_type": "display_data"
    },
    {
     "data": {
      "application/vnd.jupyter.widget-view+json": {
       "model_id": "1a56fe44fee64212a4751af97e748254",
       "version_major": 2,
       "version_minor": 0
      },
      "text/plain": [
       "config.json:   0%|          | 0.00/758 [00:00<?, ?B/s]"
      ]
     },
     "metadata": {},
     "output_type": "display_data"
    },
    {
     "data": {
      "application/vnd.jupyter.widget-view+json": {
       "model_id": "e54acf1b3cb5406c8e1d9b149dadca44",
       "version_major": 2,
       "version_minor": 0
      },
      "text/plain": [
       "vocab.txt:   0%|          | 0.00/232k [00:00<?, ?B/s]"
      ]
     },
     "metadata": {},
     "output_type": "display_data"
    },
    {
     "data": {
      "application/vnd.jupyter.widget-view+json": {
       "model_id": "e23a697be98844768ae1d4da7fc1c81c",
       "version_major": 2,
       "version_minor": 0
      },
      "text/plain": [
       "special_tokens_map.json:   0%|          | 0.00/112 [00:00<?, ?B/s]"
      ]
     },
     "metadata": {},
     "output_type": "display_data"
    },
    {
     "name": "stderr",
     "output_type": "stream",
     "text": [
      "/usr/local/lib/python3.10/dist-packages/transformers/tokenization_utils_base.py:1601: FutureWarning: `clean_up_tokenization_spaces` was not set. It will be set to `True` by default. This behavior will be depracted in transformers v4.45, and will be then set to `False` by default. For more details check this issue: https://github.com/huggingface/transformers/issues/31884\n",
      "  warnings.warn(\n"
     ]
    }
   ],
   "source": [
    "tokenizer = AutoTokenizer.from_pretrained(args.model)"
   ]
  },
  {
   "cell_type": "code",
   "execution_count": 16,
   "id": "8a16a224",
   "metadata": {
    "execution": {
     "iopub.execute_input": "2025-06-10T14:26:44.602022Z",
     "iopub.status.busy": "2025-06-10T14:26:44.601760Z",
     "iopub.status.idle": "2025-06-10T14:26:44.606176Z",
     "shell.execute_reply": "2025-06-10T14:26:44.605389Z"
    },
    "papermill": {
     "duration": 0.013906,
     "end_time": "2025-06-10T14:26:44.607515",
     "exception": false,
     "start_time": "2025-06-10T14:26:44.593609",
     "status": "completed"
    },
    "tags": []
   },
   "outputs": [
    {
     "data": {
      "text/plain": [
       "Dataset({\n",
       "    features: ['text', 'labels'],\n",
       "    num_rows: 307787\n",
       "})"
      ]
     },
     "execution_count": 16,
     "metadata": {},
     "output_type": "execute_result"
    }
   ],
   "source": [
    "train_dataset_raw"
   ]
  },
  {
   "cell_type": "code",
   "execution_count": 17,
   "id": "006cfdf5",
   "metadata": {
    "execution": {
     "iopub.execute_input": "2025-06-10T14:26:44.623027Z",
     "iopub.status.busy": "2025-06-10T14:26:44.622787Z",
     "iopub.status.idle": "2025-06-10T14:27:45.218307Z",
     "shell.execute_reply": "2025-06-10T14:27:45.217643Z"
    },
    "papermill": {
     "duration": 60.604476,
     "end_time": "2025-06-10T14:27:45.219603",
     "exception": false,
     "start_time": "2025-06-10T14:26:44.615127",
     "status": "completed"
    },
    "tags": []
   },
   "outputs": [
    {
     "data": {
      "application/vnd.jupyter.widget-view+json": {
       "model_id": "46a11b32c1a64925ab537acd5ec10068",
       "version_major": 2,
       "version_minor": 0
      },
      "text/plain": [
       "Map:   0%|          | 0/307787 [00:00<?, ? examples/s]"
      ]
     },
     "metadata": {},
     "output_type": "display_data"
    },
    {
     "data": {
      "application/vnd.jupyter.widget-view+json": {
       "model_id": "e8e854dc62ff48768bb55a606fea21ec",
       "version_major": 2,
       "version_minor": 0
      },
      "text/plain": [
       "Map:   0%|          | 0/76946 [00:00<?, ? examples/s]"
      ]
     },
     "metadata": {},
     "output_type": "display_data"
    }
   ],
   "source": [
    "train_dataset = train_dataset_raw.map(tokenize_fn, batched=True)\n",
    "valid_dataset = valid_dataset_raw.map(tokenize_fn, batched=True)\n",
    "\n",
    "data_collator = DataCollatorWithPadding(tokenizer)"
   ]
  },
  {
   "cell_type": "code",
   "execution_count": 18,
   "id": "a1b38162",
   "metadata": {
    "execution": {
     "iopub.execute_input": "2025-06-10T14:27:45.236666Z",
     "iopub.status.busy": "2025-06-10T14:27:45.236416Z",
     "iopub.status.idle": "2025-06-10T14:27:48.976652Z",
     "shell.execute_reply": "2025-06-10T14:27:48.975946Z"
    },
    "papermill": {
     "duration": 3.749739,
     "end_time": "2025-06-10T14:27:48.977910",
     "exception": false,
     "start_time": "2025-06-10T14:27:45.228171",
     "status": "completed"
    },
    "tags": []
   },
   "outputs": [
    {
     "data": {
      "application/vnd.jupyter.widget-view+json": {
       "model_id": "4c51470a7cfa4446929dbf2af3d6678e",
       "version_major": 2,
       "version_minor": 0
      },
      "text/plain": [
       "pytorch_model.bin:   0%|          | 0.00/438M [00:00<?, ?B/s]"
      ]
     },
     "metadata": {},
     "output_type": "display_data"
    },
    {
     "name": "stderr",
     "output_type": "stream",
     "text": [
      "Some weights of BertForSequenceClassification were not initialized from the model checkpoint at ProsusAI/finbert and are newly initialized because the shapes did not match:\n",
      "- classifier.weight: found shape torch.Size([3, 768]) in the checkpoint and torch.Size([2, 768]) in the model instantiated\n",
      "- classifier.bias: found shape torch.Size([3]) in the checkpoint and torch.Size([2]) in the model instantiated\n",
      "You should probably TRAIN this model on a down-stream task to be able to use it for predictions and inference.\n"
     ]
    },
    {
     "data": {
      "text/plain": [
       "tensor([0., 0.])"
      ]
     },
     "execution_count": 18,
     "metadata": {},
     "output_type": "execute_result"
    }
   ],
   "source": [
    "from torch.nn.init import xavier_uniform_\n",
    "model = AutoModelForSequenceClassification.from_pretrained(args.model,num_labels=2,ignore_mismatched_sizes=True)\n",
    "\n",
    "\n",
    "# Reinitialize the classification layer\n",
    "xavier_uniform_(model.classifier.weight)\n",
    "model.classifier.bias.data.zero_()"
   ]
  },
  {
   "cell_type": "code",
   "execution_count": 19,
   "id": "101fbf53",
   "metadata": {
    "execution": {
     "iopub.execute_input": "2025-06-10T14:27:48.995423Z",
     "iopub.status.busy": "2025-06-10T14:27:48.995200Z",
     "iopub.status.idle": "2025-06-10T14:27:49.180730Z",
     "shell.execute_reply": "2025-06-10T14:27:49.180070Z"
    },
    "papermill": {
     "duration": 0.195887,
     "end_time": "2025-06-10T14:27:49.182220",
     "exception": false,
     "start_time": "2025-06-10T14:27:48.986333",
     "status": "completed"
    },
    "tags": []
   },
   "outputs": [],
   "source": [
    "\n",
    "import optuna\n",
    "import torch\n",
    "from transformers import Trainer, TrainingArguments, AdamW\n",
    "from sklearn.metrics import balanced_accuracy_score, roc_auc_score, f1_score\n",
    "from transformers import get_scheduler\n",
    "\n",
    "def compute_metrics(eval_preds):\n",
    "    logits, labels = eval_preds\n",
    "    predictions = np.argmax(logits, axis=-1)\n",
    "    balanced_acc = balanced_accuracy_score(labels, predictions)\n",
    "    auc = roc_auc_score(labels, predictions, multi_class='ovr')  # Adjust for multi-class\n",
    "    f1 = f1_score(labels, predictions, average='weighted')\n",
    "    return {\n",
    "        \"balanced_accuracy\": balanced_acc,\n",
    "        \"auc\": auc,\n",
    "        \"f1\": f1\n",
    "        }"
   ]
  },
  {
   "cell_type": "code",
   "execution_count": 20,
   "id": "a962e9b0",
   "metadata": {
    "execution": {
     "iopub.execute_input": "2025-06-10T14:27:49.199448Z",
     "iopub.status.busy": "2025-06-10T14:27:49.199211Z",
     "iopub.status.idle": "2025-06-11T02:16:09.695682Z",
     "shell.execute_reply": "2025-06-11T02:16:09.694796Z"
    },
    "papermill": {
     "duration": 42500.506494,
     "end_time": "2025-06-11T02:16:09.697067",
     "exception": false,
     "start_time": "2025-06-10T14:27:49.190573",
     "status": "completed"
    },
    "tags": []
   },
   "outputs": [
    {
     "name": "stdout",
     "output_type": "stream",
     "text": [
      "Found file !\n",
      "0.5029949857704297\n"
     ]
    },
    {
     "data": {
      "application/vnd.jupyter.widget-view+json": {
       "model_id": "74aa3c6f0f754111a0d634e7f717190c",
       "version_major": 2,
       "version_minor": 0
      },
      "text/plain": [
       "  0%|          | 0/1000000 [00:00<?, ?it/s]"
      ]
     },
     "metadata": {},
     "output_type": "display_data"
    },
    {
     "data": {
      "text/html": [
       "\n",
       "    <div>\n",
       "      \n",
       "      <progress value='57714' max='57714' style='width:300px; height:20px; vertical-align: middle;'></progress>\n",
       "      [57714/57714 6:12:37, Epoch 6/6]\n",
       "    </div>\n",
       "    <table border=\"1\" class=\"dataframe\">\n",
       "  <thead>\n",
       " <tr style=\"text-align: left;\">\n",
       "      <th>Epoch</th>\n",
       "      <th>Training Loss</th>\n",
       "      <th>Validation Loss</th>\n",
       "      <th>Balanced Accuracy</th>\n",
       "      <th>Auc</th>\n",
       "      <th>F1</th>\n",
       "    </tr>\n",
       "  </thead>\n",
       "  <tbody>\n",
       "    <tr>\n",
       "      <td>1</td>\n",
       "      <td>0.066000</td>\n",
       "      <td>0.076043</td>\n",
       "      <td>0.969876</td>\n",
       "      <td>0.997534</td>\n",
       "      <td>0.971205</td>\n",
       "    </tr>\n",
       "    <tr>\n",
       "      <td>2</td>\n",
       "      <td>0.049300</td>\n",
       "      <td>0.098687</td>\n",
       "      <td>0.969688</td>\n",
       "      <td>0.996238</td>\n",
       "      <td>0.970140</td>\n",
       "    </tr>\n",
       "    <tr>\n",
       "      <td>3</td>\n",
       "      <td>0.028600</td>\n",
       "      <td>0.179927</td>\n",
       "      <td>0.945436</td>\n",
       "      <td>0.994581</td>\n",
       "      <td>0.949730</td>\n",
       "    </tr>\n",
       "    <tr>\n",
       "      <td>4</td>\n",
       "      <td>0.022400</td>\n",
       "      <td>0.139752</td>\n",
       "      <td>0.958061</td>\n",
       "      <td>0.996257</td>\n",
       "      <td>0.960880</td>\n",
       "    </tr>\n",
       "    <tr>\n",
       "      <td>5</td>\n",
       "      <td>0.018200</td>\n",
       "      <td>0.162010</td>\n",
       "      <td>0.968984</td>\n",
       "      <td>0.997090</td>\n",
       "      <td>0.970383</td>\n",
       "    </tr>\n",
       "    <tr>\n",
       "      <td>6</td>\n",
       "      <td>0.013900</td>\n",
       "      <td>0.159233</td>\n",
       "      <td>0.969566</td>\n",
       "      <td>0.996569</td>\n",
       "      <td>0.970726</td>\n",
       "    </tr>\n",
       "  </tbody>\n",
       "</table><p>"
      ],
      "text/plain": [
       "<IPython.core.display.HTML object>"
      ]
     },
     "metadata": {},
     "output_type": "display_data"
    },
    {
     "data": {
      "text/html": [
       "\n",
       "    <div>\n",
       "      \n",
       "      <progress value='1203' max='1203' style='width:300px; height:20px; vertical-align: middle;'></progress>\n",
       "      [1203/1203 04:28]\n",
       "    </div>\n",
       "    "
      ],
      "text/plain": [
       "<IPython.core.display.HTML object>"
      ]
     },
     "metadata": {},
     "output_type": "display_data"
    },
    {
     "data": {
      "text/html": [
       "\n",
       "    <div>\n",
       "      \n",
       "      <progress value='51664' max='57714' style='width:300px; height:20px; vertical-align: middle;'></progress>\n",
       "      [51664/57714 5:31:08 < 38:46, 2.60 it/s, Epoch 5.37/6]\n",
       "    </div>\n",
       "    <table border=\"1\" class=\"dataframe\">\n",
       "  <thead>\n",
       " <tr style=\"text-align: left;\">\n",
       "      <th>Epoch</th>\n",
       "      <th>Training Loss</th>\n",
       "      <th>Validation Loss</th>\n",
       "      <th>Balanced Accuracy</th>\n",
       "      <th>Auc</th>\n",
       "      <th>F1</th>\n",
       "    </tr>\n",
       "  </thead>\n",
       "  <tbody>\n",
       "    <tr>\n",
       "      <td>1</td>\n",
       "      <td>0.012700</td>\n",
       "      <td>0.108385</td>\n",
       "      <td>0.972439</td>\n",
       "      <td>0.997982</td>\n",
       "      <td>0.973771</td>\n",
       "    </tr>\n",
       "    <tr>\n",
       "      <td>2</td>\n",
       "      <td>0.032000</td>\n",
       "      <td>0.093291</td>\n",
       "      <td>0.973867</td>\n",
       "      <td>0.998120</td>\n",
       "      <td>0.974791</td>\n",
       "    </tr>\n",
       "    <tr>\n",
       "      <td>3</td>\n",
       "      <td>0.022900</td>\n",
       "      <td>0.103427</td>\n",
       "      <td>0.972508</td>\n",
       "      <td>0.998131</td>\n",
       "      <td>0.973978</td>\n",
       "    </tr>\n",
       "    <tr>\n",
       "      <td>4</td>\n",
       "      <td>0.021800</td>\n",
       "      <td>0.111173</td>\n",
       "      <td>0.973768</td>\n",
       "      <td>0.998186</td>\n",
       "      <td>0.975000</td>\n",
       "    </tr>\n",
       "    <tr>\n",
       "      <td>5</td>\n",
       "      <td>0.015400</td>\n",
       "      <td>0.128486</td>\n",
       "      <td>0.974079</td>\n",
       "      <td>0.998195</td>\n",
       "      <td>0.975300</td>\n",
       "    </tr>\n",
       "  </tbody>\n",
       "</table><p>"
      ],
      "text/plain": [
       "<IPython.core.display.HTML object>"
      ]
     },
     "metadata": {},
     "output_type": "display_data"
    }
   ],
   "source": [
    "from transformers import Trainer, TrainingArguments\n",
    "import optuna\n",
    "from optuna.pruners import MedianPruner\n",
    "from optuna.samplers import TPESampler\n",
    "import numpy as np\n",
    "from sklearn.metrics import balanced_accuracy_score, roc_auc_score, f1_score\n",
    "import torch\n",
    "from transformers.integrations import is_optuna_available\n",
    "import joblib\n",
    "\n",
    "\n",
    "# Define a custom compute_metrics function that returns multiple metrics\n",
    "def compute_metrics(pred):\n",
    "    labels = pred.label_ids\n",
    "    preds = pred.predictions.argmax(-1)\n",
    "    \n",
    "    # Convert predictions to probabilities for AUC (for binary classification)\n",
    "    probs = torch.nn.functional.softmax(torch.tensor(pred.predictions), dim=-1).numpy()\n",
    "    \n",
    "    # Calculate metrics\n",
    "    balanced_acc = balanced_accuracy_score(labels, preds)\n",
    "    \n",
    "    # Use the probability of the positive class\n",
    "    auc = roc_auc_score(labels, probs[:, 1])\n",
    "    f1 = f1_score(labels, preds)\n",
    "    \n",
    "    return {\n",
    "        'balanced_accuracy': balanced_acc,\n",
    "        'auc': auc,\n",
    "        'f1': f1\n",
    "    }\n",
    "\n",
    "# Define the objective function for Optuna\n",
    "def objective(trial):\n",
    "    # Define hyperparameters to optimize\n",
    "    batch_size = trial.suggest_categorical(\"batch_size\", [8, 16, 32])\n",
    "    learning_rate = trial.suggest_float(\"learning_rate\", 1e-6, 1e-4, log=True)\n",
    "    weight_decay = trial.suggest_float(\"weight_decay\", 0.005, 0.02)\n",
    "    warmup_ratio = trial.suggest_float(\"warmup_ratio\", 0.05, 0.2)\n",
    "    num_epochs = trial.suggest_int(\"num_epochs\", 2, 8)\n",
    "    \n",
    "    # Optimizer selection\n",
    "    optimizer_name = trial.suggest_categorical(\"optimizer_name\", [ \"adamw_hf\",\"adafactor\", \"sgd\"])\n",
    "    \n",
    "    # Define training arguments\n",
    "    training_args = TrainingArguments(\n",
    "        output_dir=f'/kaggle/Finbert_Trial_{trial.number}/',\n",
    "        per_device_train_batch_size=batch_size,\n",
    "        per_device_eval_batch_size=batch_size*2,\n",
    "        num_train_epochs=num_epochs,\n",
    "        learning_rate=learning_rate,\n",
    "        weight_decay=weight_decay,\n",
    "        warmup_ratio=warmup_ratio,\n",
    "        do_eval=True,\n",
    "        do_train=True,\n",
    "        evaluation_strategy='epoch',\n",
    "        save_strategy=\"epoch\",\n",
    "        load_best_model_at_end=True,\n",
    "        metric_for_best_model='eval_f1',  # Change this to your desired metric\n",
    "        greater_is_better=True,\n",
    "        optim=optimizer_name.lower(),\n",
    "        # ReduceLROnPlateau-like functionality\n",
    "        lr_scheduler_type=\"reduce_lr_on_plateau\",\n",
    "        logging_dir=f'/kaggle/Finbert_Logs_{trial.number}/',\n",
    "        report_to=\"none\",  # Disable wandb, tensorboard etc. during hyperparameter search\n",
    "    )\n",
    "    \n",
    "    # Initialize the Trainer\n",
    "    trainer = Trainer(\n",
    "        model=model,  # Make sure this is already defined in your global scope\n",
    "        args=training_args,\n",
    "        train_dataset=train_dataset,\n",
    "        eval_dataset=valid_dataset,\n",
    "        data_collator=data_collator,\n",
    "        tokenizer=tokenizer,\n",
    "        compute_metrics=compute_metrics,\n",
    "    )\n",
    "    \n",
    "    # Train the model\n",
    "    trainer.train()\n",
    "    \n",
    "    # Evaluate on validation set\n",
    "    eval_result = trainer.evaluate()\n",
    "    try:\n",
    "        joblib.dump(study, 'finbert_optuna_result.pkl')\n",
    "    except Exception as e:\n",
    "        print(\"There is a tiny error with saving. Moving on... \", e)\n",
    "        print(param)\n",
    "\n",
    "    return eval_result[\"eval_f1\"]\n",
    "\n",
    "\n",
    "from stopit import threading_timeoutable as timeoutable\n",
    " \n",
    "@timeoutable()\n",
    "def start():\n",
    "    ### import warnings \n",
    "    import warnings \n",
    "    import optuna\n",
    " \n",
    "    warnings.filterwarnings(\"ignore\")\n",
    " \n",
    "    optuna.logging.set_verbosity(optuna.logging.ERROR)\n",
    "    global study\n",
    "\n",
    "    USE_PREVIOUS_TRIALS=True\n",
    "    \n",
    "    import os\n",
    "    if os.path.isfile('/kaggle/input/finbert-hyper-tuning/finbert_optuna_result.pkl') and USE_PREVIOUS_TRIALS==True:\n",
    "        print(\"Found file !\")\n",
    "        study = joblib.load('/kaggle/input/finbert-hyper-tuning/finbert_optuna_result.pkl')\n",
    "        print(study.best_trial.value)\n",
    "    else:\n",
    "        print(\"STARTING NEW TRAINING\")\n",
    "        sampler = optuna.samplers.TPESampler(multivariate=True, warn_independent_sampling=False)\n",
    "        pruner = MedianPruner(n_startup_trials=5, n_warmup_steps=5)\n",
    "\n",
    "        study = optuna.create_study(direction='maximize', load_if_exists=True,sampler=sampler,pruner=pruner)\n",
    " \n",
    "    study.optimize(objective, n_trials=1_000_000, gc_after_trial=True,\n",
    "                  show_progress_bar=True, n_jobs=1, )\n",
    "    joblib.dump(study, 'finbert_optuna_result.pkl')\n",
    "\n",
    "\n",
    "# # Create the Optuna study\n",
    "# sampler = TPESampler(seed=42)  # For reproducibility\n",
    "# pruner = MedianPruner(n_startup_trials=5, n_warmup_steps=5)\n",
    "\n",
    "# study = optuna.create_study(\n",
    "#     study_name=\"finbert_optimization\",\n",
    "#     direction=\"maximize\",  # We want to maximize our metrics\n",
    "#     sampler=sampler,\n",
    "#     pruner=pruner\n",
    "# )\n",
    "\n",
    "# # Run the optimization\n",
    "# n_trials = 8\n",
    "# study.optimize(objective, n_trials=n_trials)\n",
    "\n",
    " \n",
    "try:\n",
    "    start(timeout=42_500) #42_500\n",
    "except Exception as e:\n",
    "    print(\"Hoba, oshibka !: \", e)\n"
   ]
  },
  {
   "cell_type": "code",
   "execution_count": 21,
   "id": "e87bdd3e",
   "metadata": {
    "execution": {
     "iopub.execute_input": "2025-06-11T02:16:09.743601Z",
     "iopub.status.busy": "2025-06-11T02:16:09.743352Z",
     "iopub.status.idle": "2025-06-11T02:16:09.747639Z",
     "shell.execute_reply": "2025-06-11T02:16:09.746759Z"
    },
    "papermill": {
     "duration": 0.014869,
     "end_time": "2025-06-11T02:16:09.749070",
     "exception": false,
     "start_time": "2025-06-11T02:16:09.734201",
     "status": "completed"
    },
    "tags": []
   },
   "outputs": [
    {
     "name": "stdout",
     "output_type": "stream",
     "text": [
      "DONE\n"
     ]
    }
   ],
   "source": [
    "print(\"DONE\")"
   ]
  },
  {
   "cell_type": "code",
   "execution_count": 22,
   "id": "c222045e",
   "metadata": {
    "execution": {
     "iopub.execute_input": "2025-06-11T02:16:09.767595Z",
     "iopub.status.busy": "2025-06-11T02:16:09.767385Z",
     "iopub.status.idle": "2025-06-11T02:16:09.775611Z",
     "shell.execute_reply": "2025-06-11T02:16:09.774733Z"
    },
    "papermill": {
     "duration": 0.018664,
     "end_time": "2025-06-11T02:16:09.776772",
     "exception": false,
     "start_time": "2025-06-11T02:16:09.758108",
     "status": "completed"
    },
    "tags": []
   },
   "outputs": [
    {
     "name": "stdout",
     "output_type": "stream",
     "text": [
      "Best trial:\n",
      "  Value: 0.5029949857704297\n",
      "  Params: \n",
      "    batch_size: 32\n",
      "    learning_rate: 2.8445060587748435e-06\n",
      "    weight_decay: 0.019476579288667823\n",
      "    warmup_ratio: 0.13883693882206333\n",
      "    num_epochs: 3\n",
      "    optimizer_name: sgd\n"
     ]
    }
   ],
   "source": [
    "study = joblib.load('finbert_optuna_result.pkl')\n",
    "print(\"Best trial:\")\n",
    "trial = study.best_trial\n",
    "print(f\"  Value: {trial.value}\")\n",
    "print(\"  Params: \")\n",
    "for key, value in trial.params.items():\n",
    "    print(f\"    {key}: {value}\")"
   ]
  },
  {
   "cell_type": "code",
   "execution_count": 23,
   "id": "8df5a298",
   "metadata": {
    "execution": {
     "iopub.execute_input": "2025-06-11T02:16:09.794699Z",
     "iopub.status.busy": "2025-06-11T02:16:09.794476Z",
     "iopub.status.idle": "2025-06-11T02:16:09.797820Z",
     "shell.execute_reply": "2025-06-11T02:16:09.797044Z"
    },
    "papermill": {
     "duration": 0.01368,
     "end_time": "2025-06-11T02:16:09.799119",
     "exception": false,
     "start_time": "2025-06-11T02:16:09.785439",
     "status": "completed"
    },
    "tags": []
   },
   "outputs": [],
   "source": [
    "# # Print the results\n",
    "\n",
    "# study = joblib.load('finbert_optuna_result.pkl')\n",
    "# print(\"Best trial:\")\n",
    "# trial = study.best_trial\n",
    "# print(f\"  Value: {trial.value}\")\n",
    "# print(\"  Params: \")\n",
    "# for key, value in trial.params.items():\n",
    "#     print(f\"    {key}: {value}\")\n",
    "\n",
    "# # Train the final model with the best parameters\n",
    "# best_batch_size = trial.params[\"batch_size\"]\n",
    "# best_lr = trial.params[\"learning_rate\"]\n",
    "# best_weight_decay = trial.params[\"weight_decay\"]\n",
    "# best_warmup_ratio = trial.params[\"warmup_ratio\"]\n",
    "# best_num_epochs = trial.params[\"num_epochs\"]\n",
    "# best_optimizer = trial.params[\"optimizer\"]\n",
    "\n",
    "# final_training_args = TrainingArguments(\n",
    "#     output_dir='./Finbert_Final/',\n",
    "#     per_device_train_batch_size=best_batch_size,\n",
    "#     per_device_eval_batch_size=best_batch_size*2,\n",
    "#     num_train_epochs=best_num_epochs,\n",
    "#     learning_rate=best_lr,\n",
    "#     weight_decay=best_weight_decay,\n",
    "#     warmup_ratio=best_warmup_ratio,\n",
    "#     do_eval=True,\n",
    "#     do_train=True,\n",
    "#     evaluation_strategy='epoch',\n",
    "#     save_strategy=\"epoch\",\n",
    "#     load_best_model_at_end=True,\n",
    "#     metric_for_best_model='f1',\n",
    "#     optim=best_optimizer.lower(),\n",
    "#     lr_scheduler_type=\"reduce_lr_on_plateau\",\n",
    "# )\n",
    "\n",
    "# final_trainer = Trainer(\n",
    "#     model=model,\n",
    "#     args=final_training_args,\n",
    "#     train_dataset=train_dataset,\n",
    "#     eval_dataset=valid_dataset,\n",
    "#     data_collator=data_collator,\n",
    "#     tokenizer=tokenizer,\n",
    "#     compute_metrics=compute_metrics,\n",
    "# )\n",
    "\n",
    "# # Train the final model\n",
    "# print(\"Training final model with best parameters...\")\n",
    "# final_trainer.train()\n",
    "\n",
    "# # Evaluate the final model\n",
    "# final_metrics = final_trainer.evaluate()\n",
    "# print(f\"Final model metrics: {final_metrics}\")"
   ]
  },
  {
   "cell_type": "code",
   "execution_count": 24,
   "id": "d920f661",
   "metadata": {
    "execution": {
     "iopub.execute_input": "2025-06-11T02:16:09.816893Z",
     "iopub.status.busy": "2025-06-11T02:16:09.816672Z",
     "iopub.status.idle": "2025-06-11T02:16:09.819329Z",
     "shell.execute_reply": "2025-06-11T02:16:09.818712Z"
    },
    "papermill": {
     "duration": 0.012826,
     "end_time": "2025-06-11T02:16:09.820540",
     "exception": false,
     "start_time": "2025-06-11T02:16:09.807714",
     "status": "completed"
    },
    "tags": []
   },
   "outputs": [],
   "source": [
    "# train_args = TrainingArguments(\n",
    "#     './Finbert Trained/',\n",
    "#     per_device_train_batch_size=16,\n",
    "#     per_device_eval_batch_size=2*16,\n",
    "#     num_train_epochs=5,\n",
    "#     learning_rate=1e-5,\n",
    "#     weight_decay=0.01,\n",
    "#     warmup_ratio=0.1,    \n",
    "#     do_eval=True,\n",
    "#     do_train=True,\n",
    "#     do_predict=True,\n",
    "#     eval_strategy='epoch',\n",
    "#     save_strategy=\"no\",\n",
    "# )"
   ]
  },
  {
   "cell_type": "code",
   "execution_count": 25,
   "id": "d64f4038",
   "metadata": {
    "execution": {
     "iopub.execute_input": "2025-06-11T02:16:09.838286Z",
     "iopub.status.busy": "2025-06-11T02:16:09.838058Z",
     "iopub.status.idle": "2025-06-11T02:16:09.841206Z",
     "shell.execute_reply": "2025-06-11T02:16:09.840390Z"
    },
    "papermill": {
     "duration": 0.013348,
     "end_time": "2025-06-11T02:16:09.842483",
     "exception": false,
     "start_time": "2025-06-11T02:16:09.829135",
     "status": "completed"
    },
    "tags": []
   },
   "outputs": [],
   "source": [
    "# trainer = Trainer(\n",
    "#     model,\n",
    "#     train_args,\n",
    "#     train_dataset=train_dataset,\n",
    "#     eval_dataset=valid_dataset,\n",
    "#     data_collator=data_collator,\n",
    "#     tokenizer=tokenizer,\n",
    "#     compute_metrics=compute_metrics,\n",
    "# )"
   ]
  },
  {
   "cell_type": "code",
   "execution_count": 26,
   "id": "1233cb38",
   "metadata": {
    "execution": {
     "iopub.execute_input": "2025-06-11T02:16:09.860346Z",
     "iopub.status.busy": "2025-06-11T02:16:09.860122Z",
     "iopub.status.idle": "2025-06-11T02:16:09.863017Z",
     "shell.execute_reply": "2025-06-11T02:16:09.862241Z"
    },
    "papermill": {
     "duration": 0.013198,
     "end_time": "2025-06-11T02:16:09.864347",
     "exception": false,
     "start_time": "2025-06-11T02:16:09.851149",
     "status": "completed"
    },
    "tags": []
   },
   "outputs": [],
   "source": [
    "# trainer.train()"
   ]
  },
  {
   "cell_type": "code",
   "execution_count": 27,
   "id": "c05b2434",
   "metadata": {
    "execution": {
     "iopub.execute_input": "2025-06-11T02:16:09.882482Z",
     "iopub.status.busy": "2025-06-11T02:16:09.882239Z",
     "iopub.status.idle": "2025-06-11T02:16:09.885316Z",
     "shell.execute_reply": "2025-06-11T02:16:09.884537Z"
    },
    "papermill": {
     "duration": 0.013351,
     "end_time": "2025-06-11T02:16:09.886474",
     "exception": false,
     "start_time": "2025-06-11T02:16:09.873123",
     "status": "completed"
    },
    "tags": []
   },
   "outputs": [],
   "source": [
    "# trainer.save_model('finbert_finetuned.bin')"
   ]
  },
  {
   "cell_type": "code",
   "execution_count": 28,
   "id": "2437ff75",
   "metadata": {
    "execution": {
     "iopub.execute_input": "2025-06-11T02:16:09.904509Z",
     "iopub.status.busy": "2025-06-11T02:16:09.904310Z",
     "iopub.status.idle": "2025-06-11T02:16:09.907206Z",
     "shell.execute_reply": "2025-06-11T02:16:09.906431Z"
    },
    "papermill": {
     "duration": 0.013271,
     "end_time": "2025-06-11T02:16:09.908475",
     "exception": false,
     "start_time": "2025-06-11T02:16:09.895204",
     "status": "completed"
    },
    "tags": []
   },
   "outputs": [],
   "source": [
    "# pred_dataset = pred_dataset_raw.map(tokenize_fn, batched=False)"
   ]
  },
  {
   "cell_type": "code",
   "execution_count": 29,
   "id": "657e858d",
   "metadata": {
    "execution": {
     "iopub.execute_input": "2025-06-11T02:16:09.926599Z",
     "iopub.status.busy": "2025-06-11T02:16:09.926305Z",
     "iopub.status.idle": "2025-06-11T02:16:09.929599Z",
     "shell.execute_reply": "2025-06-11T02:16:09.928730Z"
    },
    "papermill": {
     "duration": 0.013533,
     "end_time": "2025-06-11T02:16:09.930814",
     "exception": false,
     "start_time": "2025-06-11T02:16:09.917281",
     "status": "completed"
    },
    "tags": []
   },
   "outputs": [],
   "source": [
    "# len(pred_dataset[0]['input_ids'])"
   ]
  },
  {
   "cell_type": "code",
   "execution_count": 30,
   "id": "66c8cd7a",
   "metadata": {
    "execution": {
     "iopub.execute_input": "2025-06-11T02:16:09.949100Z",
     "iopub.status.busy": "2025-06-11T02:16:09.948885Z",
     "iopub.status.idle": "2025-06-11T02:16:09.951503Z",
     "shell.execute_reply": "2025-06-11T02:16:09.950888Z"
    },
    "papermill": {
     "duration": 0.013157,
     "end_time": "2025-06-11T02:16:09.952650",
     "exception": false,
     "start_time": "2025-06-11T02:16:09.939493",
     "status": "completed"
    },
    "tags": []
   },
   "outputs": [],
   "source": [
    "# output = trainer.predict(\n",
    "#     test_dataset=pred_dataset,\n",
    "# )"
   ]
  },
  {
   "cell_type": "code",
   "execution_count": 31,
   "id": "14304f08",
   "metadata": {
    "execution": {
     "iopub.execute_input": "2025-06-11T02:16:09.970982Z",
     "iopub.status.busy": "2025-06-11T02:16:09.970730Z",
     "iopub.status.idle": "2025-06-11T02:16:09.973357Z",
     "shell.execute_reply": "2025-06-11T02:16:09.972761Z"
    },
    "papermill": {
     "duration": 0.012944,
     "end_time": "2025-06-11T02:16:09.974503",
     "exception": false,
     "start_time": "2025-06-11T02:16:09.961559",
     "status": "completed"
    },
    "tags": []
   },
   "outputs": [],
   "source": [
    "# output.predictions"
   ]
  },
  {
   "cell_type": "code",
   "execution_count": 32,
   "id": "8165c852",
   "metadata": {
    "execution": {
     "iopub.execute_input": "2025-06-11T02:16:09.992910Z",
     "iopub.status.busy": "2025-06-11T02:16:09.992679Z",
     "iopub.status.idle": "2025-06-11T02:16:09.995332Z",
     "shell.execute_reply": "2025-06-11T02:16:09.994719Z"
    },
    "papermill": {
     "duration": 0.013115,
     "end_time": "2025-06-11T02:16:09.996563",
     "exception": false,
     "start_time": "2025-06-11T02:16:09.983448",
     "status": "completed"
    },
    "tags": []
   },
   "outputs": [],
   "source": [
    "# preds = [np.argmax(x) for x in output.predictions]"
   ]
  },
  {
   "cell_type": "code",
   "execution_count": 33,
   "id": "abc8e499",
   "metadata": {
    "execution": {
     "iopub.execute_input": "2025-06-11T02:16:10.015339Z",
     "iopub.status.busy": "2025-06-11T02:16:10.015124Z",
     "iopub.status.idle": "2025-06-11T02:16:10.017824Z",
     "shell.execute_reply": "2025-06-11T02:16:10.017240Z"
    },
    "papermill": {
     "duration": 0.013326,
     "end_time": "2025-06-11T02:16:10.019060",
     "exception": false,
     "start_time": "2025-06-11T02:16:10.005734",
     "status": "completed"
    },
    "tags": []
   },
   "outputs": [],
   "source": [
    "\n",
    "# from sklearn.metrics import confusion_matrix, accuracy_score\n",
    "# import seaborn as sns\n",
    "# import matplotlib.pyplot as plt\n",
    "\n",
    "# cm = confusion_matrix(y_test, preds)\n",
    "\n",
    "# # Define class labels\n",
    "# labels = [0, 1]\n",
    "\n",
    "# # Create a heatmap\n",
    "# plt.figure(figsize=(8, 6))\n",
    "# sns.heatmap(cm, annot=True, fmt='d', cmap='Blues',\n",
    "#             xticklabels=labels, yticklabels=labels)\n",
    "\n",
    "# # Add labels and title\n",
    "# plt.xlabel('Predicted Labels')\n",
    "# plt.ylabel('True Labels')\n",
    "# plt.title('Confusion Matrix Heatmap')\n",
    "\n",
    "# # Display the plot\n",
    "# plt.show()"
   ]
  },
  {
   "cell_type": "code",
   "execution_count": 34,
   "id": "2c1af991",
   "metadata": {
    "execution": {
     "iopub.execute_input": "2025-06-11T02:16:10.037634Z",
     "iopub.status.busy": "2025-06-11T02:16:10.037434Z",
     "iopub.status.idle": "2025-06-11T02:16:10.040033Z",
     "shell.execute_reply": "2025-06-11T02:16:10.039421Z"
    },
    "papermill": {
     "duration": 0.013125,
     "end_time": "2025-06-11T02:16:10.041257",
     "exception": false,
     "start_time": "2025-06-11T02:16:10.028132",
     "status": "completed"
    },
    "tags": []
   },
   "outputs": [],
   "source": [
    "# accuracy_score(y_test, preds)"
   ]
  },
  {
   "cell_type": "code",
   "execution_count": 35,
   "id": "477ca510",
   "metadata": {
    "execution": {
     "iopub.execute_input": "2025-06-11T02:16:10.059628Z",
     "iopub.status.busy": "2025-06-11T02:16:10.059431Z",
     "iopub.status.idle": "2025-06-11T02:16:10.061944Z",
     "shell.execute_reply": "2025-06-11T02:16:10.061331Z"
    },
    "papermill": {
     "duration": 0.013022,
     "end_time": "2025-06-11T02:16:10.063149",
     "exception": false,
     "start_time": "2025-06-11T02:16:10.050127",
     "status": "completed"
    },
    "tags": []
   },
   "outputs": [],
   "source": [
    "# from sklearn.metrics import classification_report\n",
    "# print(classification_report(y_test, preds))"
   ]
  },
  {
   "cell_type": "code",
   "execution_count": 36,
   "id": "f07f4347",
   "metadata": {
    "execution": {
     "iopub.execute_input": "2025-06-11T02:16:10.082104Z",
     "iopub.status.busy": "2025-06-11T02:16:10.081899Z",
     "iopub.status.idle": "2025-06-11T02:16:10.084449Z",
     "shell.execute_reply": "2025-06-11T02:16:10.083849Z"
    },
    "papermill": {
     "duration": 0.013341,
     "end_time": "2025-06-11T02:16:10.085613",
     "exception": false,
     "start_time": "2025-06-11T02:16:10.072272",
     "status": "completed"
    },
    "tags": []
   },
   "outputs": [],
   "source": [
    "# news = pd.read_csv('/kaggle/input/sentiment-analysis-for-financial-news/all-data.csv',names= ['Sentiment','Sentence'],encoding='ISO-8859-1')"
   ]
  },
  {
   "cell_type": "code",
   "execution_count": 37,
   "id": "741c8196",
   "metadata": {
    "execution": {
     "iopub.execute_input": "2025-06-11T02:16:10.104226Z",
     "iopub.status.busy": "2025-06-11T02:16:10.104018Z",
     "iopub.status.idle": "2025-06-11T02:16:10.106492Z",
     "shell.execute_reply": "2025-06-11T02:16:10.105951Z"
    },
    "papermill": {
     "duration": 0.012971,
     "end_time": "2025-06-11T02:16:10.107651",
     "exception": false,
     "start_time": "2025-06-11T02:16:10.094680",
     "status": "completed"
    },
    "tags": []
   },
   "outputs": [],
   "source": [
    "# news"
   ]
  },
  {
   "cell_type": "code",
   "execution_count": 38,
   "id": "88b84ae1",
   "metadata": {
    "execution": {
     "iopub.execute_input": "2025-06-11T02:16:10.126274Z",
     "iopub.status.busy": "2025-06-11T02:16:10.126070Z",
     "iopub.status.idle": "2025-06-11T02:16:10.128644Z",
     "shell.execute_reply": "2025-06-11T02:16:10.128067Z"
    },
    "papermill": {
     "duration": 0.013102,
     "end_time": "2025-06-11T02:16:10.129798",
     "exception": false,
     "start_time": "2025-06-11T02:16:10.116696",
     "status": "completed"
    },
    "tags": []
   },
   "outputs": [],
   "source": [
    "# x_test, Y_test = news['Sentence'].values, news['Sentiment'].values"
   ]
  },
  {
   "cell_type": "code",
   "execution_count": 39,
   "id": "d5e77241",
   "metadata": {
    "execution": {
     "iopub.execute_input": "2025-06-11T02:16:10.148712Z",
     "iopub.status.busy": "2025-06-11T02:16:10.148516Z",
     "iopub.status.idle": "2025-06-11T02:16:10.151031Z",
     "shell.execute_reply": "2025-06-11T02:16:10.150450Z"
    },
    "papermill": {
     "duration": 0.013267,
     "end_time": "2025-06-11T02:16:10.152204",
     "exception": false,
     "start_time": "2025-06-11T02:16:10.138937",
     "status": "completed"
    },
    "tags": []
   },
   "outputs": [],
   "source": [
    "# le = LabelEncoder()\n",
    "# Y_test = le.fit_transform(Y_test)"
   ]
  },
  {
   "cell_type": "code",
   "execution_count": 40,
   "id": "2fdad098",
   "metadata": {
    "execution": {
     "iopub.execute_input": "2025-06-11T02:16:10.171064Z",
     "iopub.status.busy": "2025-06-11T02:16:10.170822Z",
     "iopub.status.idle": "2025-06-11T02:16:10.173417Z",
     "shell.execute_reply": "2025-06-11T02:16:10.172808Z"
    },
    "papermill": {
     "duration": 0.013213,
     "end_time": "2025-06-11T02:16:10.174581",
     "exception": false,
     "start_time": "2025-06-11T02:16:10.161368",
     "status": "completed"
    },
    "tags": []
   },
   "outputs": [],
   "source": [
    "# np.unique(Y_test)"
   ]
  },
  {
   "cell_type": "code",
   "execution_count": 41,
   "id": "6dbcaa9a",
   "metadata": {
    "execution": {
     "iopub.execute_input": "2025-06-11T02:16:10.193334Z",
     "iopub.status.busy": "2025-06-11T02:16:10.193132Z",
     "iopub.status.idle": "2025-06-11T02:16:10.195610Z",
     "shell.execute_reply": "2025-06-11T02:16:10.195044Z"
    },
    "papermill": {
     "duration": 0.013106,
     "end_time": "2025-06-11T02:16:10.196788",
     "exception": false,
     "start_time": "2025-06-11T02:16:10.183682",
     "status": "completed"
    },
    "tags": []
   },
   "outputs": [],
   "source": [
    "# test_dataset_raw = Dataset.from_dict({'text': x_test})\n",
    "# test_dataset_raw"
   ]
  },
  {
   "cell_type": "code",
   "execution_count": 42,
   "id": "5cee9ea0",
   "metadata": {
    "execution": {
     "iopub.execute_input": "2025-06-11T02:16:10.215674Z",
     "iopub.status.busy": "2025-06-11T02:16:10.215481Z",
     "iopub.status.idle": "2025-06-11T02:16:10.217987Z",
     "shell.execute_reply": "2025-06-11T02:16:10.217403Z"
    },
    "papermill": {
     "duration": 0.013244,
     "end_time": "2025-06-11T02:16:10.219235",
     "exception": false,
     "start_time": "2025-06-11T02:16:10.205991",
     "status": "completed"
    },
    "tags": []
   },
   "outputs": [],
   "source": [
    "# test_dataset = test_dataset_raw.map(tokenize_fn, batched=False)"
   ]
  },
  {
   "cell_type": "code",
   "execution_count": 43,
   "id": "966beb96",
   "metadata": {
    "execution": {
     "iopub.execute_input": "2025-06-11T02:16:10.238082Z",
     "iopub.status.busy": "2025-06-11T02:16:10.237835Z",
     "iopub.status.idle": "2025-06-11T02:16:10.240335Z",
     "shell.execute_reply": "2025-06-11T02:16:10.239770Z"
    },
    "papermill": {
     "duration": 0.013187,
     "end_time": "2025-06-11T02:16:10.241505",
     "exception": false,
     "start_time": "2025-06-11T02:16:10.228318",
     "status": "completed"
    },
    "tags": []
   },
   "outputs": [],
   "source": [
    "# output = trainer.predict(\n",
    "#     test_dataset=test_dataset,\n",
    "# )"
   ]
  },
  {
   "cell_type": "code",
   "execution_count": 44,
   "id": "a1e3e794",
   "metadata": {
    "execution": {
     "iopub.execute_input": "2025-06-11T02:16:10.260602Z",
     "iopub.status.busy": "2025-06-11T02:16:10.260389Z",
     "iopub.status.idle": "2025-06-11T02:16:10.263057Z",
     "shell.execute_reply": "2025-06-11T02:16:10.262468Z"
    },
    "papermill": {
     "duration": 0.013458,
     "end_time": "2025-06-11T02:16:10.264277",
     "exception": false,
     "start_time": "2025-06-11T02:16:10.250819",
     "status": "completed"
    },
    "tags": []
   },
   "outputs": [],
   "source": [
    "# preds = [np.argmax(x) for x in output.predictions]"
   ]
  },
  {
   "cell_type": "code",
   "execution_count": 45,
   "id": "d2e34ca5",
   "metadata": {
    "execution": {
     "iopub.execute_input": "2025-06-11T02:16:10.283585Z",
     "iopub.status.busy": "2025-06-11T02:16:10.283379Z",
     "iopub.status.idle": "2025-06-11T02:16:10.285994Z",
     "shell.execute_reply": "2025-06-11T02:16:10.285377Z"
    },
    "papermill": {
     "duration": 0.01357,
     "end_time": "2025-06-11T02:16:10.287174",
     "exception": false,
     "start_time": "2025-06-11T02:16:10.273604",
     "status": "completed"
    },
    "tags": []
   },
   "outputs": [],
   "source": [
    "# output.predictions"
   ]
  },
  {
   "cell_type": "code",
   "execution_count": 46,
   "id": "ae46fa61",
   "metadata": {
    "execution": {
     "iopub.execute_input": "2025-06-11T02:16:10.306437Z",
     "iopub.status.busy": "2025-06-11T02:16:10.306204Z",
     "iopub.status.idle": "2025-06-11T02:16:10.308899Z",
     "shell.execute_reply": "2025-06-11T02:16:10.308321Z"
    },
    "papermill": {
     "duration": 0.013551,
     "end_time": "2025-06-11T02:16:10.310095",
     "exception": false,
     "start_time": "2025-06-11T02:16:10.296544",
     "status": "completed"
    },
    "tags": []
   },
   "outputs": [],
   "source": [
    "# np.unique(preds)"
   ]
  },
  {
   "cell_type": "code",
   "execution_count": 47,
   "id": "902d3e17",
   "metadata": {
    "execution": {
     "iopub.execute_input": "2025-06-11T02:16:10.329383Z",
     "iopub.status.busy": "2025-06-11T02:16:10.329154Z",
     "iopub.status.idle": "2025-06-11T02:16:10.332089Z",
     "shell.execute_reply": "2025-06-11T02:16:10.331317Z"
    },
    "papermill": {
     "duration": 0.013923,
     "end_time": "2025-06-11T02:16:10.333225",
     "exception": false,
     "start_time": "2025-06-11T02:16:10.319302",
     "status": "completed"
    },
    "tags": []
   },
   "outputs": [],
   "source": [
    "# def transform(x):\n",
    "#     if x == 2:\n",
    "#         return 1\n",
    "#     elif x == 1:\n",
    "#         return 1\n",
    "#     else:  # x == 0\n",
    "#         return 0\n",
    "        \n",
    "# vectorized_transform = np.vectorize(transform)\n",
    "# Y_test = vectorized_transform(Y_test)"
   ]
  },
  {
   "cell_type": "code",
   "execution_count": 48,
   "id": "b7f51b37",
   "metadata": {
    "execution": {
     "iopub.execute_input": "2025-06-11T02:16:10.352208Z",
     "iopub.status.busy": "2025-06-11T02:16:10.352011Z",
     "iopub.status.idle": "2025-06-11T02:16:10.354523Z",
     "shell.execute_reply": "2025-06-11T02:16:10.353944Z"
    },
    "papermill": {
     "duration": 0.013152,
     "end_time": "2025-06-11T02:16:10.355597",
     "exception": false,
     "start_time": "2025-06-11T02:16:10.342445",
     "status": "completed"
    },
    "tags": []
   },
   "outputs": [],
   "source": [
    "# np.unique(Y_test)"
   ]
  },
  {
   "cell_type": "code",
   "execution_count": 49,
   "id": "6748de26",
   "metadata": {
    "execution": {
     "iopub.execute_input": "2025-06-11T02:16:10.374716Z",
     "iopub.status.busy": "2025-06-11T02:16:10.374520Z",
     "iopub.status.idle": "2025-06-11T02:16:10.377216Z",
     "shell.execute_reply": "2025-06-11T02:16:10.376619Z"
    },
    "papermill": {
     "duration": 0.013615,
     "end_time": "2025-06-11T02:16:10.378378",
     "exception": false,
     "start_time": "2025-06-11T02:16:10.364763",
     "status": "completed"
    },
    "tags": []
   },
   "outputs": [],
   "source": [
    "# cm = confusion_matrix(Y_test, preds)\n",
    "\n",
    "# # Define class labels\n",
    "# labels = [0, 1]\n",
    "\n",
    "# # Create a heatmap\n",
    "# plt.figure(figsize=(8, 6))\n",
    "# sns.heatmap(cm, annot=True, fmt='d', cmap='Blues',\n",
    "#             xticklabels=labels, yticklabels=labels)\n",
    "\n",
    "# # Add labels and title\n",
    "# plt.xlabel('Predicted Labels')\n",
    "# plt.ylabel('True Labels')\n",
    "# plt.title('Confusion Matrix Heatmap')\n",
    "\n",
    "# # Display the plot\n",
    "# plt.show()"
   ]
  },
  {
   "cell_type": "code",
   "execution_count": 50,
   "id": "3a387846",
   "metadata": {
    "execution": {
     "iopub.execute_input": "2025-06-11T02:16:10.397530Z",
     "iopub.status.busy": "2025-06-11T02:16:10.397326Z",
     "iopub.status.idle": "2025-06-11T02:16:10.400114Z",
     "shell.execute_reply": "2025-06-11T02:16:10.399237Z"
    },
    "papermill": {
     "duration": 0.013623,
     "end_time": "2025-06-11T02:16:10.401378",
     "exception": false,
     "start_time": "2025-06-11T02:16:10.387755",
     "status": "completed"
    },
    "tags": []
   },
   "outputs": [],
   "source": [
    "# accuracy_score(Y_test, preds)"
   ]
  },
  {
   "cell_type": "code",
   "execution_count": 51,
   "id": "74f0eadd",
   "metadata": {
    "execution": {
     "iopub.execute_input": "2025-06-11T02:16:10.421181Z",
     "iopub.status.busy": "2025-06-11T02:16:10.420981Z",
     "iopub.status.idle": "2025-06-11T02:16:10.423486Z",
     "shell.execute_reply": "2025-06-11T02:16:10.422927Z"
    },
    "papermill": {
     "duration": 0.01383,
     "end_time": "2025-06-11T02:16:10.424534",
     "exception": false,
     "start_time": "2025-06-11T02:16:10.410704",
     "status": "completed"
    },
    "tags": []
   },
   "outputs": [],
   "source": [
    "# print(classification_report(Y_test, preds))"
   ]
  },
  {
   "cell_type": "code",
   "execution_count": null,
   "id": "27944a34",
   "metadata": {
    "papermill": {
     "duration": 0.009386,
     "end_time": "2025-06-11T02:16:10.443384",
     "exception": false,
     "start_time": "2025-06-11T02:16:10.433998",
     "status": "completed"
    },
    "tags": []
   },
   "outputs": [],
   "source": []
  }
 ],
 "metadata": {
  "kaggle": {
   "accelerator": "nvidiaTeslaT4",
   "dataSources": [
    {
     "datasetId": 622510,
     "sourceId": 1192499,
     "sourceType": "datasetVersion"
    },
    {
     "datasetId": 5490281,
     "sourceId": 9097274,
     "sourceType": "datasetVersion"
    },
    {
     "datasetId": 6886982,
     "sourceId": 12072183,
     "sourceType": "datasetVersion"
    },
    {
     "sourceId": 243930408,
     "sourceType": "kernelVersion"
    }
   ],
   "dockerImageVersionId": 30822,
   "isGpuEnabled": true,
   "isInternetEnabled": true,
   "language": "python",
   "sourceType": "notebook"
  },
  "kernelspec": {
   "display_name": "Python 3",
   "language": "python",
   "name": "python3"
  },
  "language_info": {
   "codemirror_mode": {
    "name": "ipython",
    "version": 3
   },
   "file_extension": ".py",
   "mimetype": "text/x-python",
   "name": "python",
   "nbconvert_exporter": "python",
   "pygments_lexer": "ipython3",
   "version": "3.10.12"
  },
  "papermill": {
   "default_parameters": {},
   "duration": 42600.499546,
   "end_time": "2025-06-11T02:16:13.479801",
   "environment_variables": {},
   "exception": null,
   "input_path": "__notebook__.ipynb",
   "output_path": "__notebook__.ipynb",
   "parameters": {},
   "start_time": "2025-06-10T14:26:12.980255",
   "version": "2.6.0"
  },
  "widgets": {
   "application/vnd.jupyter.widget-state+json": {
    "state": {
     "02506e6fe27b4dbfb62e9815e2a75436": {
      "model_module": "@jupyter-widgets/controls",
      "model_module_version": "2.0.0",
      "model_name": "FloatProgressModel",
      "state": {
       "_dom_classes": [],
       "_model_module": "@jupyter-widgets/controls",
       "_model_module_version": "2.0.0",
       "_model_name": "FloatProgressModel",
       "_view_count": null,
       "_view_module": "@jupyter-widgets/controls",
       "_view_module_version": "2.0.0",
       "_view_name": "ProgressView",
       "bar_style": "success",
       "description": "",
       "description_allow_html": false,
       "layout": "IPY_MODEL_09c4d61ea5ec4919995f6bd43a7084a6",
       "max": 76946.0,
       "min": 0.0,
       "orientation": "horizontal",
       "style": "IPY_MODEL_d68064097c064894a03967ca3d3cf6b7",
       "tabbable": null,
       "tooltip": null,
       "value": 76946.0
      }
     },
     "079cb36a636b4b02b81e375878d4cc37": {
      "model_module": "@jupyter-widgets/controls",
      "model_module_version": "2.0.0",
      "model_name": "HTMLModel",
      "state": {
       "_dom_classes": [],
       "_model_module": "@jupyter-widgets/controls",
       "_model_module_version": "2.0.0",
       "_model_name": "HTMLModel",
       "_view_count": null,
       "_view_module": "@jupyter-widgets/controls",
       "_view_module_version": "2.0.0",
       "_view_name": "HTMLView",
       "description": "",
       "description_allow_html": false,
       "layout": "IPY_MODEL_777cf61d7ace4e5fb59671585bceaad6",
       "placeholder": "​",
       "style": "IPY_MODEL_0b8f84d49d8c4e8f9c9ceae6ed640b6d",
       "tabbable": null,
       "tooltip": null,
       "value": " 307787/307787 [00:48&lt;00:00, 6247.45 examples/s]"
      }
     },
     "09c4d61ea5ec4919995f6bd43a7084a6": {
      "model_module": "@jupyter-widgets/base",
      "model_module_version": "2.0.0",
      "model_name": "LayoutModel",
      "state": {
       "_model_module": "@jupyter-widgets/base",
       "_model_module_version": "2.0.0",
       "_model_name": "LayoutModel",
       "_view_count": null,
       "_view_module": "@jupyter-widgets/base",
       "_view_module_version": "2.0.0",
       "_view_name": "LayoutView",
       "align_content": null,
       "align_items": null,
       "align_self": null,
       "border_bottom": null,
       "border_left": null,
       "border_right": null,
       "border_top": null,
       "bottom": null,
       "display": null,
       "flex": null,
       "flex_flow": null,
       "grid_area": null,
       "grid_auto_columns": null,
       "grid_auto_flow": null,
       "grid_auto_rows": null,
       "grid_column": null,
       "grid_gap": null,
       "grid_row": null,
       "grid_template_areas": null,
       "grid_template_columns": null,
       "grid_template_rows": null,
       "height": null,
       "justify_content": null,
       "justify_items": null,
       "left": null,
       "margin": null,
       "max_height": null,
       "max_width": null,
       "min_height": null,
       "min_width": null,
       "object_fit": null,
       "object_position": null,
       "order": null,
       "overflow": null,
       "padding": null,
       "right": null,
       "top": null,
       "visibility": null,
       "width": null
      }
     },
     "0aff65531d7b4dc7bc48dfce14134204": {
      "model_module": "@jupyter-widgets/controls",
      "model_module_version": "2.0.0",
      "model_name": "HTMLStyleModel",
      "state": {
       "_model_module": "@jupyter-widgets/controls",
       "_model_module_version": "2.0.0",
       "_model_name": "HTMLStyleModel",
       "_view_count": null,
       "_view_module": "@jupyter-widgets/base",
       "_view_module_version": "2.0.0",
       "_view_name": "StyleView",
       "background": null,
       "description_width": "",
       "font_size": null,
       "text_color": null
      }
     },
     "0b8f84d49d8c4e8f9c9ceae6ed640b6d": {
      "model_module": "@jupyter-widgets/controls",
      "model_module_version": "2.0.0",
      "model_name": "HTMLStyleModel",
      "state": {
       "_model_module": "@jupyter-widgets/controls",
       "_model_module_version": "2.0.0",
       "_model_name": "HTMLStyleModel",
       "_view_count": null,
       "_view_module": "@jupyter-widgets/base",
       "_view_module_version": "2.0.0",
       "_view_name": "StyleView",
       "background": null,
       "description_width": "",
       "font_size": null,
       "text_color": null
      }
     },
     "0c674c9e033748198101945139689fd2": {
      "model_module": "@jupyter-widgets/controls",
      "model_module_version": "2.0.0",
      "model_name": "FloatProgressModel",
      "state": {
       "_dom_classes": [],
       "_model_module": "@jupyter-widgets/controls",
       "_model_module_version": "2.0.0",
       "_model_name": "FloatProgressModel",
       "_view_count": null,
       "_view_module": "@jupyter-widgets/controls",
       "_view_module_version": "2.0.0",
       "_view_name": "ProgressView",
       "bar_style": "success",
       "description": "",
       "description_allow_html": false,
       "layout": "IPY_MODEL_c94769a1092a46d1b46ac2393dd46284",
       "max": 231508.0,
       "min": 0.0,
       "orientation": "horizontal",
       "style": "IPY_MODEL_b82765b4e1e340e8825b7fab3eadfa39",
       "tabbable": null,
       "tooltip": null,
       "value": 231508.0
      }
     },
     "1257a9de3684495ea3a3e0f32533feb8": {
      "model_module": "@jupyter-widgets/controls",
      "model_module_version": "2.0.0",
      "model_name": "FloatProgressModel",
      "state": {
       "_dom_classes": [],
       "_model_module": "@jupyter-widgets/controls",
       "_model_module_version": "2.0.0",
       "_model_name": "FloatProgressModel",
       "_view_count": null,
       "_view_module": "@jupyter-widgets/controls",
       "_view_module_version": "2.0.0",
       "_view_name": "ProgressView",
       "bar_style": "success",
       "description": "",
       "description_allow_html": false,
       "layout": "IPY_MODEL_84f1a0135aa548f7906245c9914db4d0",
       "max": 252.0,
       "min": 0.0,
       "orientation": "horizontal",
       "style": "IPY_MODEL_bd9b516744b345d59e7a0ce58dce4ed8",
       "tabbable": null,
       "tooltip": null,
       "value": 252.0
      }
     },
     "165919ca3d914be19a631a8d47519cff": {
      "model_module": "@jupyter-widgets/base",
      "model_module_version": "2.0.0",
      "model_name": "LayoutModel",
      "state": {
       "_model_module": "@jupyter-widgets/base",
       "_model_module_version": "2.0.0",
       "_model_name": "LayoutModel",
       "_view_count": null,
       "_view_module": "@jupyter-widgets/base",
       "_view_module_version": "2.0.0",
       "_view_name": "LayoutView",
       "align_content": null,
       "align_items": null,
       "align_self": null,
       "border_bottom": null,
       "border_left": null,
       "border_right": null,
       "border_top": null,
       "bottom": null,
       "display": null,
       "flex": null,
       "flex_flow": null,
       "grid_area": null,
       "grid_auto_columns": null,
       "grid_auto_flow": null,
       "grid_auto_rows": null,
       "grid_column": null,
       "grid_gap": null,
       "grid_row": null,
       "grid_template_areas": null,
       "grid_template_columns": null,
       "grid_template_rows": null,
       "height": null,
       "justify_content": null,
       "justify_items": null,
       "left": null,
       "margin": null,
       "max_height": null,
       "max_width": null,
       "min_height": null,
       "min_width": null,
       "object_fit": null,
       "object_position": null,
       "order": null,
       "overflow": null,
       "padding": null,
       "right": null,
       "top": null,
       "visibility": null,
       "width": null
      }
     },
     "1a56fe44fee64212a4751af97e748254": {
      "model_module": "@jupyter-widgets/controls",
      "model_module_version": "2.0.0",
      "model_name": "HBoxModel",
      "state": {
       "_dom_classes": [],
       "_model_module": "@jupyter-widgets/controls",
       "_model_module_version": "2.0.0",
       "_model_name": "HBoxModel",
       "_view_count": null,
       "_view_module": "@jupyter-widgets/controls",
       "_view_module_version": "2.0.0",
       "_view_name": "HBoxView",
       "box_style": "",
       "children": [
        "IPY_MODEL_7fe4772d77e1481eba88fbd3213108a6",
        "IPY_MODEL_d3069dfe5bb842db820607620235f35f",
        "IPY_MODEL_e716da90ac7643878c2304d6b21d36e2"
       ],
       "layout": "IPY_MODEL_4d9cdc9d5c5346db91093a11379b98d3",
       "tabbable": null,
       "tooltip": null
      }
     },
     "2309e2b774fb4e1099cbecd64558a677": {
      "model_module": "@jupyter-widgets/base",
      "model_module_version": "2.0.0",
      "model_name": "LayoutModel",
      "state": {
       "_model_module": "@jupyter-widgets/base",
       "_model_module_version": "2.0.0",
       "_model_name": "LayoutModel",
       "_view_count": null,
       "_view_module": "@jupyter-widgets/base",
       "_view_module_version": "2.0.0",
       "_view_name": "LayoutView",
       "align_content": null,
       "align_items": null,
       "align_self": null,
       "border_bottom": null,
       "border_left": null,
       "border_right": null,
       "border_top": null,
       "bottom": null,
       "display": null,
       "flex": null,
       "flex_flow": null,
       "grid_area": null,
       "grid_auto_columns": null,
       "grid_auto_flow": null,
       "grid_auto_rows": null,
       "grid_column": null,
       "grid_gap": null,
       "grid_row": null,
       "grid_template_areas": null,
       "grid_template_columns": null,
       "grid_template_rows": null,
       "height": null,
       "justify_content": null,
       "justify_items": null,
       "left": null,
       "margin": null,
       "max_height": null,
       "max_width": null,
       "min_height": null,
       "min_width": null,
       "object_fit": null,
       "object_position": null,
       "order": null,
       "overflow": null,
       "padding": null,
       "right": null,
       "top": null,
       "visibility": null,
       "width": null
      }
     },
     "256b96bbdc1b44c7ab8dd26f70f647bd": {
      "model_module": "@jupyter-widgets/controls",
      "model_module_version": "2.0.0",
      "model_name": "HTMLStyleModel",
      "state": {
       "_model_module": "@jupyter-widgets/controls",
       "_model_module_version": "2.0.0",
       "_model_name": "HTMLStyleModel",
       "_view_count": null,
       "_view_module": "@jupyter-widgets/base",
       "_view_module_version": "2.0.0",
       "_view_name": "StyleView",
       "background": null,
       "description_width": "",
       "font_size": null,
       "text_color": null
      }
     },
     "31ff5039a23d4305bd9e5632fb539046": {
      "model_module": "@jupyter-widgets/base",
      "model_module_version": "2.0.0",
      "model_name": "LayoutModel",
      "state": {
       "_model_module": "@jupyter-widgets/base",
       "_model_module_version": "2.0.0",
       "_model_name": "LayoutModel",
       "_view_count": null,
       "_view_module": "@jupyter-widgets/base",
       "_view_module_version": "2.0.0",
       "_view_name": "LayoutView",
       "align_content": null,
       "align_items": null,
       "align_self": null,
       "border_bottom": null,
       "border_left": null,
       "border_right": null,
       "border_top": null,
       "bottom": null,
       "display": null,
       "flex": null,
       "flex_flow": null,
       "grid_area": null,
       "grid_auto_columns": null,
       "grid_auto_flow": null,
       "grid_auto_rows": null,
       "grid_column": null,
       "grid_gap": null,
       "grid_row": null,
       "grid_template_areas": null,
       "grid_template_columns": null,
       "grid_template_rows": null,
       "height": null,
       "justify_content": null,
       "justify_items": null,
       "left": null,
       "margin": null,
       "max_height": null,
       "max_width": null,
       "min_height": null,
       "min_width": null,
       "object_fit": null,
       "object_position": null,
       "order": null,
       "overflow": null,
       "padding": null,
       "right": null,
       "top": null,
       "visibility": null,
       "width": null
      }
     },
     "3539bdcdc21d4706be1dcc8cf8a530ff": {
      "model_module": "@jupyter-widgets/base",
      "model_module_version": "2.0.0",
      "model_name": "LayoutModel",
      "state": {
       "_model_module": "@jupyter-widgets/base",
       "_model_module_version": "2.0.0",
       "_model_name": "LayoutModel",
       "_view_count": null,
       "_view_module": "@jupyter-widgets/base",
       "_view_module_version": "2.0.0",
       "_view_name": "LayoutView",
       "align_content": null,
       "align_items": null,
       "align_self": null,
       "border_bottom": null,
       "border_left": null,
       "border_right": null,
       "border_top": null,
       "bottom": null,
       "display": null,
       "flex": null,
       "flex_flow": null,
       "grid_area": null,
       "grid_auto_columns": null,
       "grid_auto_flow": null,
       "grid_auto_rows": null,
       "grid_column": null,
       "grid_gap": null,
       "grid_row": null,
       "grid_template_areas": null,
       "grid_template_columns": null,
       "grid_template_rows": null,
       "height": null,
       "justify_content": null,
       "justify_items": null,
       "left": null,
       "margin": null,
       "max_height": null,
       "max_width": null,
       "min_height": null,
       "min_width": null,
       "object_fit": null,
       "object_position": null,
       "order": null,
       "overflow": null,
       "padding": null,
       "right": null,
       "top": null,
       "visibility": null,
       "width": null
      }
     },
     "3ac943e8fc7c4906ba4725676e5712b8": {
      "model_module": "@jupyter-widgets/base",
      "model_module_version": "2.0.0",
      "model_name": "LayoutModel",
      "state": {
       "_model_module": "@jupyter-widgets/base",
       "_model_module_version": "2.0.0",
       "_model_name": "LayoutModel",
       "_view_count": null,
       "_view_module": "@jupyter-widgets/base",
       "_view_module_version": "2.0.0",
       "_view_name": "LayoutView",
       "align_content": null,
       "align_items": null,
       "align_self": null,
       "border_bottom": null,
       "border_left": null,
       "border_right": null,
       "border_top": null,
       "bottom": null,
       "display": null,
       "flex": null,
       "flex_flow": null,
       "grid_area": null,
       "grid_auto_columns": null,
       "grid_auto_flow": null,
       "grid_auto_rows": null,
       "grid_column": null,
       "grid_gap": null,
       "grid_row": null,
       "grid_template_areas": null,
       "grid_template_columns": null,
       "grid_template_rows": null,
       "height": null,
       "justify_content": null,
       "justify_items": null,
       "left": null,
       "margin": null,
       "max_height": null,
       "max_width": null,
       "min_height": null,
       "min_width": null,
       "object_fit": null,
       "object_position": null,
       "order": null,
       "overflow": null,
       "padding": null,
       "right": null,
       "top": null,
       "visibility": null,
       "width": null
      }
     },
     "40672130ddc14d6eab9ee69d9126995d": {
      "model_module": "@jupyter-widgets/controls",
      "model_module_version": "2.0.0",
      "model_name": "HTMLModel",
      "state": {
       "_dom_classes": [],
       "_model_module": "@jupyter-widgets/controls",
       "_model_module_version": "2.0.0",
       "_model_name": "HTMLModel",
       "_view_count": null,
       "_view_module": "@jupyter-widgets/controls",
       "_view_module_version": "2.0.0",
       "_view_name": "HTMLView",
       "description": "",
       "description_allow_html": false,
       "layout": "IPY_MODEL_7ff4e1211fa546699ce895c2f2c30464",
       "placeholder": "​",
       "style": "IPY_MODEL_62c59f6d7bf2446d96cddb61d938db2a",
       "tabbable": null,
       "tooltip": null,
       "value": " 76946/76946 [00:12&lt;00:00, 5529.40 examples/s]"
      }
     },
     "46a11b32c1a64925ab537acd5ec10068": {
      "model_module": "@jupyter-widgets/controls",
      "model_module_version": "2.0.0",
      "model_name": "HBoxModel",
      "state": {
       "_dom_classes": [],
       "_model_module": "@jupyter-widgets/controls",
       "_model_module_version": "2.0.0",
       "_model_name": "HBoxModel",
       "_view_count": null,
       "_view_module": "@jupyter-widgets/controls",
       "_view_module_version": "2.0.0",
       "_view_name": "HBoxView",
       "box_style": "",
       "children": [
        "IPY_MODEL_5b2d8503eb304e908721bb5a8079b565",
        "IPY_MODEL_ddfb1c4ed7a54b75a1a34f7bc5ddabf1",
        "IPY_MODEL_079cb36a636b4b02b81e375878d4cc37"
       ],
       "layout": "IPY_MODEL_3539bdcdc21d4706be1dcc8cf8a530ff",
       "tabbable": null,
       "tooltip": null
      }
     },
     "47488284aa7a47ecaca43bba16d629d0": {
      "model_module": "@jupyter-widgets/controls",
      "model_module_version": "2.0.0",
      "model_name": "HTMLStyleModel",
      "state": {
       "_model_module": "@jupyter-widgets/controls",
       "_model_module_version": "2.0.0",
       "_model_name": "HTMLStyleModel",
       "_view_count": null,
       "_view_module": "@jupyter-widgets/base",
       "_view_module_version": "2.0.0",
       "_view_name": "StyleView",
       "background": null,
       "description_width": "",
       "font_size": null,
       "text_color": null
      }
     },
     "4ab6d6bca2154d2eaab46ea0c135c3a7": {
      "model_module": "@jupyter-widgets/controls",
      "model_module_version": "2.0.0",
      "model_name": "HTMLStyleModel",
      "state": {
       "_model_module": "@jupyter-widgets/controls",
       "_model_module_version": "2.0.0",
       "_model_name": "HTMLStyleModel",
       "_view_count": null,
       "_view_module": "@jupyter-widgets/base",
       "_view_module_version": "2.0.0",
       "_view_name": "StyleView",
       "background": null,
       "description_width": "",
       "font_size": null,
       "text_color": null
      }
     },
     "4c51470a7cfa4446929dbf2af3d6678e": {
      "model_module": "@jupyter-widgets/controls",
      "model_module_version": "2.0.0",
      "model_name": "HBoxModel",
      "state": {
       "_dom_classes": [],
       "_model_module": "@jupyter-widgets/controls",
       "_model_module_version": "2.0.0",
       "_model_name": "HBoxModel",
       "_view_count": null,
       "_view_module": "@jupyter-widgets/controls",
       "_view_module_version": "2.0.0",
       "_view_name": "HBoxView",
       "box_style": "",
       "children": [
        "IPY_MODEL_66e66794f52140edbd6b190908d95ca1",
        "IPY_MODEL_ecb3c53df9854aa0960131328b75b521",
        "IPY_MODEL_aeca41069a2549ef938a538d64dba64f"
       ],
       "layout": "IPY_MODEL_31ff5039a23d4305bd9e5632fb539046",
       "tabbable": null,
       "tooltip": null
      }
     },
     "4d8e172cbb94456f912a4f9339aa2da1": {
      "model_module": "@jupyter-widgets/controls",
      "model_module_version": "2.0.0",
      "model_name": "HBoxModel",
      "state": {
       "_dom_classes": [],
       "_model_module": "@jupyter-widgets/controls",
       "_model_module_version": "2.0.0",
       "_model_name": "HBoxModel",
       "_view_count": null,
       "_view_module": "@jupyter-widgets/controls",
       "_view_module_version": "2.0.0",
       "_view_name": "HBoxView",
       "box_style": "",
       "children": [
        "IPY_MODEL_948c1c3fb23846f7a915af9d87744f01",
        "IPY_MODEL_1257a9de3684495ea3a3e0f32533feb8",
        "IPY_MODEL_66e665e4ecef4872be63cc2606e760dc"
       ],
       "layout": "IPY_MODEL_2309e2b774fb4e1099cbecd64558a677",
       "tabbable": null,
       "tooltip": null
      }
     },
     "4d9cdc9d5c5346db91093a11379b98d3": {
      "model_module": "@jupyter-widgets/base",
      "model_module_version": "2.0.0",
      "model_name": "LayoutModel",
      "state": {
       "_model_module": "@jupyter-widgets/base",
       "_model_module_version": "2.0.0",
       "_model_name": "LayoutModel",
       "_view_count": null,
       "_view_module": "@jupyter-widgets/base",
       "_view_module_version": "2.0.0",
       "_view_name": "LayoutView",
       "align_content": null,
       "align_items": null,
       "align_self": null,
       "border_bottom": null,
       "border_left": null,
       "border_right": null,
       "border_top": null,
       "bottom": null,
       "display": null,
       "flex": null,
       "flex_flow": null,
       "grid_area": null,
       "grid_auto_columns": null,
       "grid_auto_flow": null,
       "grid_auto_rows": null,
       "grid_column": null,
       "grid_gap": null,
       "grid_row": null,
       "grid_template_areas": null,
       "grid_template_columns": null,
       "grid_template_rows": null,
       "height": null,
       "justify_content": null,
       "justify_items": null,
       "left": null,
       "margin": null,
       "max_height": null,
       "max_width": null,
       "min_height": null,
       "min_width": null,
       "object_fit": null,
       "object_position": null,
       "order": null,
       "overflow": null,
       "padding": null,
       "right": null,
       "top": null,
       "visibility": null,
       "width": null
      }
     },
     "56931a4511fd4bcd98831bcf827685ba": {
      "model_module": "@jupyter-widgets/controls",
      "model_module_version": "2.0.0",
      "model_name": "FloatProgressModel",
      "state": {
       "_dom_classes": [],
       "_model_module": "@jupyter-widgets/controls",
       "_model_module_version": "2.0.0",
       "_model_name": "FloatProgressModel",
       "_view_count": null,
       "_view_module": "@jupyter-widgets/controls",
       "_view_module_version": "2.0.0",
       "_view_name": "ProgressView",
       "bar_style": "success",
       "description": "",
       "description_allow_html": false,
       "layout": "IPY_MODEL_7296ae6fb6ff44d4abd9d17a3be807fa",
       "max": 112.0,
       "min": 0.0,
       "orientation": "horizontal",
       "style": "IPY_MODEL_b34f41660ea14357b9bf880500e13e41",
       "tabbable": null,
       "tooltip": null,
       "value": 112.0
      }
     },
     "5b2d8503eb304e908721bb5a8079b565": {
      "model_module": "@jupyter-widgets/controls",
      "model_module_version": "2.0.0",
      "model_name": "HTMLModel",
      "state": {
       "_dom_classes": [],
       "_model_module": "@jupyter-widgets/controls",
       "_model_module_version": "2.0.0",
       "_model_name": "HTMLModel",
       "_view_count": null,
       "_view_module": "@jupyter-widgets/controls",
       "_view_module_version": "2.0.0",
       "_view_name": "HTMLView",
       "description": "",
       "description_allow_html": false,
       "layout": "IPY_MODEL_3ac943e8fc7c4906ba4725676e5712b8",
       "placeholder": "​",
       "style": "IPY_MODEL_79b38cc510c844ad9089bac01fce1b1f",
       "tabbable": null,
       "tooltip": null,
       "value": "Map: 100%"
      }
     },
     "5dcffeab159a45f0be7030e96147a1ec": {
      "model_module": "@jupyter-widgets/controls",
      "model_module_version": "2.0.0",
      "model_name": "HTMLModel",
      "state": {
       "_dom_classes": [],
       "_model_module": "@jupyter-widgets/controls",
       "_model_module_version": "2.0.0",
       "_model_name": "HTMLModel",
       "_view_count": null,
       "_view_module": "@jupyter-widgets/controls",
       "_view_module_version": "2.0.0",
       "_view_name": "HTMLView",
       "description": "",
       "description_allow_html": false,
       "layout": "IPY_MODEL_f24a513fbbc14cbc9488ab80612d29f5",
       "placeholder": "​",
       "style": "IPY_MODEL_a3fa381e14704d2d98ce186319e47d83",
       "tabbable": null,
       "tooltip": null,
       "value": " 112/112 [00:00&lt;00:00, 12.5kB/s]"
      }
     },
     "62c59f6d7bf2446d96cddb61d938db2a": {
      "model_module": "@jupyter-widgets/controls",
      "model_module_version": "2.0.0",
      "model_name": "HTMLStyleModel",
      "state": {
       "_model_module": "@jupyter-widgets/controls",
       "_model_module_version": "2.0.0",
       "_model_name": "HTMLStyleModel",
       "_view_count": null,
       "_view_module": "@jupyter-widgets/base",
       "_view_module_version": "2.0.0",
       "_view_name": "StyleView",
       "background": null,
       "description_width": "",
       "font_size": null,
       "text_color": null
      }
     },
     "63f4c64137e448729f9902160970e52b": {
      "model_module": "@jupyter-widgets/controls",
      "model_module_version": "2.0.0",
      "model_name": "HTMLModel",
      "state": {
       "_dom_classes": [],
       "_model_module": "@jupyter-widgets/controls",
       "_model_module_version": "2.0.0",
       "_model_name": "HTMLModel",
       "_view_count": null,
       "_view_module": "@jupyter-widgets/controls",
       "_view_module_version": "2.0.0",
       "_view_name": "HTMLView",
       "description": "",
       "description_allow_html": false,
       "layout": "IPY_MODEL_b9c2154cbb6040ebb1111354f33c8d3f",
       "placeholder": "​",
       "style": "IPY_MODEL_9919acd03a8046b9883b83376de8b1e1",
       "tabbable": null,
       "tooltip": null,
       "value": "vocab.txt: 100%"
      }
     },
     "64e3473605a948829f4d08e14d4d17a0": {
      "model_module": "@jupyter-widgets/controls",
      "model_module_version": "2.0.0",
      "model_name": "HTMLStyleModel",
      "state": {
       "_model_module": "@jupyter-widgets/controls",
       "_model_module_version": "2.0.0",
       "_model_name": "HTMLStyleModel",
       "_view_count": null,
       "_view_module": "@jupyter-widgets/base",
       "_view_module_version": "2.0.0",
       "_view_name": "StyleView",
       "background": null,
       "description_width": "",
       "font_size": null,
       "text_color": null
      }
     },
     "66e665e4ecef4872be63cc2606e760dc": {
      "model_module": "@jupyter-widgets/controls",
      "model_module_version": "2.0.0",
      "model_name": "HTMLModel",
      "state": {
       "_dom_classes": [],
       "_model_module": "@jupyter-widgets/controls",
       "_model_module_version": "2.0.0",
       "_model_name": "HTMLModel",
       "_view_count": null,
       "_view_module": "@jupyter-widgets/controls",
       "_view_module_version": "2.0.0",
       "_view_name": "HTMLView",
       "description": "",
       "description_allow_html": false,
       "layout": "IPY_MODEL_6de7693febef4486838b3dc115addf53",
       "placeholder": "​",
       "style": "IPY_MODEL_980e566102a94953ace74172a2808486",
       "tabbable": null,
       "tooltip": null,
       "value": " 252/252 [00:00&lt;00:00, 23.8kB/s]"
      }
     },
     "66e66794f52140edbd6b190908d95ca1": {
      "model_module": "@jupyter-widgets/controls",
      "model_module_version": "2.0.0",
      "model_name": "HTMLModel",
      "state": {
       "_dom_classes": [],
       "_model_module": "@jupyter-widgets/controls",
       "_model_module_version": "2.0.0",
       "_model_name": "HTMLModel",
       "_view_count": null,
       "_view_module": "@jupyter-widgets/controls",
       "_view_module_version": "2.0.0",
       "_view_name": "HTMLView",
       "description": "",
       "description_allow_html": false,
       "layout": "IPY_MODEL_6a249ef8eeef4e6c8f07d8ac09f59e1a",
       "placeholder": "​",
       "style": "IPY_MODEL_f6c824f8fcc3410cbfc6cedad2282d04",
       "tabbable": null,
       "tooltip": null,
       "value": "pytorch_model.bin: 100%"
      }
     },
     "67170dbb080c44758cfd5d56d34346e5": {
      "model_module": "@jupyter-widgets/controls",
      "model_module_version": "2.0.0",
      "model_name": "HTMLStyleModel",
      "state": {
       "_model_module": "@jupyter-widgets/controls",
       "_model_module_version": "2.0.0",
       "_model_name": "HTMLStyleModel",
       "_view_count": null,
       "_view_module": "@jupyter-widgets/base",
       "_view_module_version": "2.0.0",
       "_view_name": "StyleView",
       "background": null,
       "description_width": "",
       "font_size": null,
       "text_color": null
      }
     },
     "696e1d18d5d14ccd86149f9e59ce6144": {
      "model_module": "@jupyter-widgets/controls",
      "model_module_version": "2.0.0",
      "model_name": "HTMLStyleModel",
      "state": {
       "_model_module": "@jupyter-widgets/controls",
       "_model_module_version": "2.0.0",
       "_model_name": "HTMLStyleModel",
       "_view_count": null,
       "_view_module": "@jupyter-widgets/base",
       "_view_module_version": "2.0.0",
       "_view_name": "StyleView",
       "background": null,
       "description_width": "",
       "font_size": null,
       "text_color": null
      }
     },
     "6a249ef8eeef4e6c8f07d8ac09f59e1a": {
      "model_module": "@jupyter-widgets/base",
      "model_module_version": "2.0.0",
      "model_name": "LayoutModel",
      "state": {
       "_model_module": "@jupyter-widgets/base",
       "_model_module_version": "2.0.0",
       "_model_name": "LayoutModel",
       "_view_count": null,
       "_view_module": "@jupyter-widgets/base",
       "_view_module_version": "2.0.0",
       "_view_name": "LayoutView",
       "align_content": null,
       "align_items": null,
       "align_self": null,
       "border_bottom": null,
       "border_left": null,
       "border_right": null,
       "border_top": null,
       "bottom": null,
       "display": null,
       "flex": null,
       "flex_flow": null,
       "grid_area": null,
       "grid_auto_columns": null,
       "grid_auto_flow": null,
       "grid_auto_rows": null,
       "grid_column": null,
       "grid_gap": null,
       "grid_row": null,
       "grid_template_areas": null,
       "grid_template_columns": null,
       "grid_template_rows": null,
       "height": null,
       "justify_content": null,
       "justify_items": null,
       "left": null,
       "margin": null,
       "max_height": null,
       "max_width": null,
       "min_height": null,
       "min_width": null,
       "object_fit": null,
       "object_position": null,
       "order": null,
       "overflow": null,
       "padding": null,
       "right": null,
       "top": null,
       "visibility": null,
       "width": null
      }
     },
     "6de7693febef4486838b3dc115addf53": {
      "model_module": "@jupyter-widgets/base",
      "model_module_version": "2.0.0",
      "model_name": "LayoutModel",
      "state": {
       "_model_module": "@jupyter-widgets/base",
       "_model_module_version": "2.0.0",
       "_model_name": "LayoutModel",
       "_view_count": null,
       "_view_module": "@jupyter-widgets/base",
       "_view_module_version": "2.0.0",
       "_view_name": "LayoutView",
       "align_content": null,
       "align_items": null,
       "align_self": null,
       "border_bottom": null,
       "border_left": null,
       "border_right": null,
       "border_top": null,
       "bottom": null,
       "display": null,
       "flex": null,
       "flex_flow": null,
       "grid_area": null,
       "grid_auto_columns": null,
       "grid_auto_flow": null,
       "grid_auto_rows": null,
       "grid_column": null,
       "grid_gap": null,
       "grid_row": null,
       "grid_template_areas": null,
       "grid_template_columns": null,
       "grid_template_rows": null,
       "height": null,
       "justify_content": null,
       "justify_items": null,
       "left": null,
       "margin": null,
       "max_height": null,
       "max_width": null,
       "min_height": null,
       "min_width": null,
       "object_fit": null,
       "object_position": null,
       "order": null,
       "overflow": null,
       "padding": null,
       "right": null,
       "top": null,
       "visibility": null,
       "width": null
      }
     },
     "6e04b11dcdc340be9fe3d9d4c41f3cf3": {
      "model_module": "@jupyter-widgets/controls",
      "model_module_version": "2.0.0",
      "model_name": "HTMLModel",
      "state": {
       "_dom_classes": [],
       "_model_module": "@jupyter-widgets/controls",
       "_model_module_version": "2.0.0",
       "_model_name": "HTMLModel",
       "_view_count": null,
       "_view_module": "@jupyter-widgets/controls",
       "_view_module_version": "2.0.0",
       "_view_name": "HTMLView",
       "description": "",
       "description_allow_html": false,
       "layout": "IPY_MODEL_fcf4ed649cbf42f088380f337f07833c",
       "placeholder": "​",
       "style": "IPY_MODEL_47488284aa7a47ecaca43bba16d629d0",
       "tabbable": null,
       "tooltip": null,
       "value": " 1/1000000 [11:48:20&lt;6286059:03:03, 22629.84s/it]"
      }
     },
     "6ee39f202184445e951f2560e0cba1b8": {
      "model_module": "@jupyter-widgets/controls",
      "model_module_version": "2.0.0",
      "model_name": "HTMLModel",
      "state": {
       "_dom_classes": [],
       "_model_module": "@jupyter-widgets/controls",
       "_model_module_version": "2.0.0",
       "_model_name": "HTMLModel",
       "_view_count": null,
       "_view_module": "@jupyter-widgets/controls",
       "_view_module_version": "2.0.0",
       "_view_name": "HTMLView",
       "description": "",
       "description_allow_html": false,
       "layout": "IPY_MODEL_a931f43327b7412fb14935dd43f6e3f3",
       "placeholder": "​",
       "style": "IPY_MODEL_4ab6d6bca2154d2eaab46ea0c135c3a7",
       "tabbable": null,
       "tooltip": null,
       "value": " 232k/232k [00:00&lt;00:00, 5.78MB/s]"
      }
     },
     "70dbd14779e04e95a875fdb955e8f14a": {
      "model_module": "@jupyter-widgets/controls",
      "model_module_version": "2.0.0",
      "model_name": "ProgressStyleModel",
      "state": {
       "_model_module": "@jupyter-widgets/controls",
       "_model_module_version": "2.0.0",
       "_model_name": "ProgressStyleModel",
       "_view_count": null,
       "_view_module": "@jupyter-widgets/base",
       "_view_module_version": "2.0.0",
       "_view_name": "StyleView",
       "bar_color": null,
       "description_width": ""
      }
     },
     "7296ae6fb6ff44d4abd9d17a3be807fa": {
      "model_module": "@jupyter-widgets/base",
      "model_module_version": "2.0.0",
      "model_name": "LayoutModel",
      "state": {
       "_model_module": "@jupyter-widgets/base",
       "_model_module_version": "2.0.0",
       "_model_name": "LayoutModel",
       "_view_count": null,
       "_view_module": "@jupyter-widgets/base",
       "_view_module_version": "2.0.0",
       "_view_name": "LayoutView",
       "align_content": null,
       "align_items": null,
       "align_self": null,
       "border_bottom": null,
       "border_left": null,
       "border_right": null,
       "border_top": null,
       "bottom": null,
       "display": null,
       "flex": null,
       "flex_flow": null,
       "grid_area": null,
       "grid_auto_columns": null,
       "grid_auto_flow": null,
       "grid_auto_rows": null,
       "grid_column": null,
       "grid_gap": null,
       "grid_row": null,
       "grid_template_areas": null,
       "grid_template_columns": null,
       "grid_template_rows": null,
       "height": null,
       "justify_content": null,
       "justify_items": null,
       "left": null,
       "margin": null,
       "max_height": null,
       "max_width": null,
       "min_height": null,
       "min_width": null,
       "object_fit": null,
       "object_position": null,
       "order": null,
       "overflow": null,
       "padding": null,
       "right": null,
       "top": null,
       "visibility": null,
       "width": null
      }
     },
     "74aa3c6f0f754111a0d634e7f717190c": {
      "model_module": "@jupyter-widgets/controls",
      "model_module_version": "2.0.0",
      "model_name": "HBoxModel",
      "state": {
       "_dom_classes": [],
       "_model_module": "@jupyter-widgets/controls",
       "_model_module_version": "2.0.0",
       "_model_name": "HBoxModel",
       "_view_count": null,
       "_view_module": "@jupyter-widgets/controls",
       "_view_module_version": "2.0.0",
       "_view_name": "HBoxView",
       "box_style": "",
       "children": [
        "IPY_MODEL_8e54e46966a441979e59dedb2764144f",
        "IPY_MODEL_d5bba6d0f33a429eb2b498c8014c64b1",
        "IPY_MODEL_6e04b11dcdc340be9fe3d9d4c41f3cf3"
       ],
       "layout": "IPY_MODEL_876a8fc700ce4554b91bd28e4e906a35",
       "tabbable": null,
       "tooltip": null
      }
     },
     "777cf61d7ace4e5fb59671585bceaad6": {
      "model_module": "@jupyter-widgets/base",
      "model_module_version": "2.0.0",
      "model_name": "LayoutModel",
      "state": {
       "_model_module": "@jupyter-widgets/base",
       "_model_module_version": "2.0.0",
       "_model_name": "LayoutModel",
       "_view_count": null,
       "_view_module": "@jupyter-widgets/base",
       "_view_module_version": "2.0.0",
       "_view_name": "LayoutView",
       "align_content": null,
       "align_items": null,
       "align_self": null,
       "border_bottom": null,
       "border_left": null,
       "border_right": null,
       "border_top": null,
       "bottom": null,
       "display": null,
       "flex": null,
       "flex_flow": null,
       "grid_area": null,
       "grid_auto_columns": null,
       "grid_auto_flow": null,
       "grid_auto_rows": null,
       "grid_column": null,
       "grid_gap": null,
       "grid_row": null,
       "grid_template_areas": null,
       "grid_template_columns": null,
       "grid_template_rows": null,
       "height": null,
       "justify_content": null,
       "justify_items": null,
       "left": null,
       "margin": null,
       "max_height": null,
       "max_width": null,
       "min_height": null,
       "min_width": null,
       "object_fit": null,
       "object_position": null,
       "order": null,
       "overflow": null,
       "padding": null,
       "right": null,
       "top": null,
       "visibility": null,
       "width": null
      }
     },
     "79b38cc510c844ad9089bac01fce1b1f": {
      "model_module": "@jupyter-widgets/controls",
      "model_module_version": "2.0.0",
      "model_name": "HTMLStyleModel",
      "state": {
       "_model_module": "@jupyter-widgets/controls",
       "_model_module_version": "2.0.0",
       "_model_name": "HTMLStyleModel",
       "_view_count": null,
       "_view_module": "@jupyter-widgets/base",
       "_view_module_version": "2.0.0",
       "_view_name": "StyleView",
       "background": null,
       "description_width": "",
       "font_size": null,
       "text_color": null
      }
     },
     "7b32786b7b2247de83556bdb6b057c9c": {
      "model_module": "@jupyter-widgets/base",
      "model_module_version": "2.0.0",
      "model_name": "LayoutModel",
      "state": {
       "_model_module": "@jupyter-widgets/base",
       "_model_module_version": "2.0.0",
       "_model_name": "LayoutModel",
       "_view_count": null,
       "_view_module": "@jupyter-widgets/base",
       "_view_module_version": "2.0.0",
       "_view_name": "LayoutView",
       "align_content": null,
       "align_items": null,
       "align_self": null,
       "border_bottom": null,
       "border_left": null,
       "border_right": null,
       "border_top": null,
       "bottom": null,
       "display": null,
       "flex": null,
       "flex_flow": null,
       "grid_area": null,
       "grid_auto_columns": null,
       "grid_auto_flow": null,
       "grid_auto_rows": null,
       "grid_column": null,
       "grid_gap": null,
       "grid_row": null,
       "grid_template_areas": null,
       "grid_template_columns": null,
       "grid_template_rows": null,
       "height": null,
       "justify_content": null,
       "justify_items": null,
       "left": null,
       "margin": null,
       "max_height": null,
       "max_width": null,
       "min_height": null,
       "min_width": null,
       "object_fit": null,
       "object_position": null,
       "order": null,
       "overflow": null,
       "padding": null,
       "right": null,
       "top": null,
       "visibility": null,
       "width": null
      }
     },
     "7fe4772d77e1481eba88fbd3213108a6": {
      "model_module": "@jupyter-widgets/controls",
      "model_module_version": "2.0.0",
      "model_name": "HTMLModel",
      "state": {
       "_dom_classes": [],
       "_model_module": "@jupyter-widgets/controls",
       "_model_module_version": "2.0.0",
       "_model_name": "HTMLModel",
       "_view_count": null,
       "_view_module": "@jupyter-widgets/controls",
       "_view_module_version": "2.0.0",
       "_view_name": "HTMLView",
       "description": "",
       "description_allow_html": false,
       "layout": "IPY_MODEL_c4e23abd6fdc49d4ad71359ac1f82377",
       "placeholder": "​",
       "style": "IPY_MODEL_67170dbb080c44758cfd5d56d34346e5",
       "tabbable": null,
       "tooltip": null,
       "value": "config.json: 100%"
      }
     },
     "7ff4e1211fa546699ce895c2f2c30464": {
      "model_module": "@jupyter-widgets/base",
      "model_module_version": "2.0.0",
      "model_name": "LayoutModel",
      "state": {
       "_model_module": "@jupyter-widgets/base",
       "_model_module_version": "2.0.0",
       "_model_name": "LayoutModel",
       "_view_count": null,
       "_view_module": "@jupyter-widgets/base",
       "_view_module_version": "2.0.0",
       "_view_name": "LayoutView",
       "align_content": null,
       "align_items": null,
       "align_self": null,
       "border_bottom": null,
       "border_left": null,
       "border_right": null,
       "border_top": null,
       "bottom": null,
       "display": null,
       "flex": null,
       "flex_flow": null,
       "grid_area": null,
       "grid_auto_columns": null,
       "grid_auto_flow": null,
       "grid_auto_rows": null,
       "grid_column": null,
       "grid_gap": null,
       "grid_row": null,
       "grid_template_areas": null,
       "grid_template_columns": null,
       "grid_template_rows": null,
       "height": null,
       "justify_content": null,
       "justify_items": null,
       "left": null,
       "margin": null,
       "max_height": null,
       "max_width": null,
       "min_height": null,
       "min_width": null,
       "object_fit": null,
       "object_position": null,
       "order": null,
       "overflow": null,
       "padding": null,
       "right": null,
       "top": null,
       "visibility": null,
       "width": null
      }
     },
     "8045d0ec754b4fa48f24d4d9020c0ee0": {
      "model_module": "@jupyter-widgets/controls",
      "model_module_version": "2.0.0",
      "model_name": "HTMLStyleModel",
      "state": {
       "_model_module": "@jupyter-widgets/controls",
       "_model_module_version": "2.0.0",
       "_model_name": "HTMLStyleModel",
       "_view_count": null,
       "_view_module": "@jupyter-widgets/base",
       "_view_module_version": "2.0.0",
       "_view_name": "StyleView",
       "background": null,
       "description_width": "",
       "font_size": null,
       "text_color": null
      }
     },
     "81a79ee234034e04b2f7a39337215ca8": {
      "model_module": "@jupyter-widgets/controls",
      "model_module_version": "2.0.0",
      "model_name": "ProgressStyleModel",
      "state": {
       "_model_module": "@jupyter-widgets/controls",
       "_model_module_version": "2.0.0",
       "_model_name": "ProgressStyleModel",
       "_view_count": null,
       "_view_module": "@jupyter-widgets/base",
       "_view_module_version": "2.0.0",
       "_view_name": "StyleView",
       "bar_color": null,
       "description_width": ""
      }
     },
     "84f1a0135aa548f7906245c9914db4d0": {
      "model_module": "@jupyter-widgets/base",
      "model_module_version": "2.0.0",
      "model_name": "LayoutModel",
      "state": {
       "_model_module": "@jupyter-widgets/base",
       "_model_module_version": "2.0.0",
       "_model_name": "LayoutModel",
       "_view_count": null,
       "_view_module": "@jupyter-widgets/base",
       "_view_module_version": "2.0.0",
       "_view_name": "LayoutView",
       "align_content": null,
       "align_items": null,
       "align_self": null,
       "border_bottom": null,
       "border_left": null,
       "border_right": null,
       "border_top": null,
       "bottom": null,
       "display": null,
       "flex": null,
       "flex_flow": null,
       "grid_area": null,
       "grid_auto_columns": null,
       "grid_auto_flow": null,
       "grid_auto_rows": null,
       "grid_column": null,
       "grid_gap": null,
       "grid_row": null,
       "grid_template_areas": null,
       "grid_template_columns": null,
       "grid_template_rows": null,
       "height": null,
       "justify_content": null,
       "justify_items": null,
       "left": null,
       "margin": null,
       "max_height": null,
       "max_width": null,
       "min_height": null,
       "min_width": null,
       "object_fit": null,
       "object_position": null,
       "order": null,
       "overflow": null,
       "padding": null,
       "right": null,
       "top": null,
       "visibility": null,
       "width": null
      }
     },
     "863f5c6880b247eb9fd222d66a2f21a5": {
      "model_module": "@jupyter-widgets/controls",
      "model_module_version": "2.0.0",
      "model_name": "HTMLModel",
      "state": {
       "_dom_classes": [],
       "_model_module": "@jupyter-widgets/controls",
       "_model_module_version": "2.0.0",
       "_model_name": "HTMLModel",
       "_view_count": null,
       "_view_module": "@jupyter-widgets/controls",
       "_view_module_version": "2.0.0",
       "_view_name": "HTMLView",
       "description": "",
       "description_allow_html": false,
       "layout": "IPY_MODEL_e81dd1e27d10454d9db85173c1e284c5",
       "placeholder": "​",
       "style": "IPY_MODEL_8045d0ec754b4fa48f24d4d9020c0ee0",
       "tabbable": null,
       "tooltip": null,
       "value": "Map: 100%"
      }
     },
     "876a8fc700ce4554b91bd28e4e906a35": {
      "model_module": "@jupyter-widgets/base",
      "model_module_version": "2.0.0",
      "model_name": "LayoutModel",
      "state": {
       "_model_module": "@jupyter-widgets/base",
       "_model_module_version": "2.0.0",
       "_model_name": "LayoutModel",
       "_view_count": null,
       "_view_module": "@jupyter-widgets/base",
       "_view_module_version": "2.0.0",
       "_view_name": "LayoutView",
       "align_content": null,
       "align_items": null,
       "align_self": null,
       "border_bottom": null,
       "border_left": null,
       "border_right": null,
       "border_top": null,
       "bottom": null,
       "display": null,
       "flex": null,
       "flex_flow": null,
       "grid_area": null,
       "grid_auto_columns": null,
       "grid_auto_flow": null,
       "grid_auto_rows": null,
       "grid_column": null,
       "grid_gap": null,
       "grid_row": null,
       "grid_template_areas": null,
       "grid_template_columns": null,
       "grid_template_rows": null,
       "height": null,
       "justify_content": null,
       "justify_items": null,
       "left": null,
       "margin": null,
       "max_height": null,
       "max_width": null,
       "min_height": null,
       "min_width": null,
       "object_fit": null,
       "object_position": null,
       "order": null,
       "overflow": null,
       "padding": null,
       "right": null,
       "top": null,
       "visibility": null,
       "width": null
      }
     },
     "88576ce79ad34ddab769c05a369293cf": {
      "model_module": "@jupyter-widgets/base",
      "model_module_version": "2.0.0",
      "model_name": "LayoutModel",
      "state": {
       "_model_module": "@jupyter-widgets/base",
       "_model_module_version": "2.0.0",
       "_model_name": "LayoutModel",
       "_view_count": null,
       "_view_module": "@jupyter-widgets/base",
       "_view_module_version": "2.0.0",
       "_view_name": "LayoutView",
       "align_content": null,
       "align_items": null,
       "align_self": null,
       "border_bottom": null,
       "border_left": null,
       "border_right": null,
       "border_top": null,
       "bottom": null,
       "display": null,
       "flex": null,
       "flex_flow": null,
       "grid_area": null,
       "grid_auto_columns": null,
       "grid_auto_flow": null,
       "grid_auto_rows": null,
       "grid_column": null,
       "grid_gap": null,
       "grid_row": null,
       "grid_template_areas": null,
       "grid_template_columns": null,
       "grid_template_rows": null,
       "height": null,
       "justify_content": null,
       "justify_items": null,
       "left": null,
       "margin": null,
       "max_height": null,
       "max_width": null,
       "min_height": null,
       "min_width": null,
       "object_fit": null,
       "object_position": null,
       "order": null,
       "overflow": null,
       "padding": null,
       "right": null,
       "top": null,
       "visibility": null,
       "width": null
      }
     },
     "8b23df36c2884bf9abbd0c2c4be070f8": {
      "model_module": "@jupyter-widgets/controls",
      "model_module_version": "2.0.0",
      "model_name": "HTMLModel",
      "state": {
       "_dom_classes": [],
       "_model_module": "@jupyter-widgets/controls",
       "_model_module_version": "2.0.0",
       "_model_name": "HTMLModel",
       "_view_count": null,
       "_view_module": "@jupyter-widgets/controls",
       "_view_module_version": "2.0.0",
       "_view_name": "HTMLView",
       "description": "",
       "description_allow_html": false,
       "layout": "IPY_MODEL_eae38ad6225b4ee2a74213a967a21c1c",
       "placeholder": "​",
       "style": "IPY_MODEL_256b96bbdc1b44c7ab8dd26f70f647bd",
       "tabbable": null,
       "tooltip": null,
       "value": "special_tokens_map.json: 100%"
      }
     },
     "8e54e46966a441979e59dedb2764144f": {
      "model_module": "@jupyter-widgets/controls",
      "model_module_version": "2.0.0",
      "model_name": "HTMLModel",
      "state": {
       "_dom_classes": [],
       "_model_module": "@jupyter-widgets/controls",
       "_model_module_version": "2.0.0",
       "_model_name": "HTMLModel",
       "_view_count": null,
       "_view_module": "@jupyter-widgets/controls",
       "_view_module_version": "2.0.0",
       "_view_name": "HTMLView",
       "description": "",
       "description_allow_html": false,
       "layout": "IPY_MODEL_d8b854ce72bc45c485c196bb1977850d",
       "placeholder": "​",
       "style": "IPY_MODEL_696e1d18d5d14ccd86149f9e59ce6144",
       "tabbable": null,
       "tooltip": null,
       "value": "Best trial: 2. Best value: 0.971205:   0%"
      }
     },
     "948c1c3fb23846f7a915af9d87744f01": {
      "model_module": "@jupyter-widgets/controls",
      "model_module_version": "2.0.0",
      "model_name": "HTMLModel",
      "state": {
       "_dom_classes": [],
       "_model_module": "@jupyter-widgets/controls",
       "_model_module_version": "2.0.0",
       "_model_name": "HTMLModel",
       "_view_count": null,
       "_view_module": "@jupyter-widgets/controls",
       "_view_module_version": "2.0.0",
       "_view_name": "HTMLView",
       "description": "",
       "description_allow_html": false,
       "layout": "IPY_MODEL_165919ca3d914be19a631a8d47519cff",
       "placeholder": "​",
       "style": "IPY_MODEL_c46c1ff0faf5493eb33c50df0d535ee6",
       "tabbable": null,
       "tooltip": null,
       "value": "tokenizer_config.json: 100%"
      }
     },
     "980e566102a94953ace74172a2808486": {
      "model_module": "@jupyter-widgets/controls",
      "model_module_version": "2.0.0",
      "model_name": "HTMLStyleModel",
      "state": {
       "_model_module": "@jupyter-widgets/controls",
       "_model_module_version": "2.0.0",
       "_model_name": "HTMLStyleModel",
       "_view_count": null,
       "_view_module": "@jupyter-widgets/base",
       "_view_module_version": "2.0.0",
       "_view_name": "StyleView",
       "background": null,
       "description_width": "",
       "font_size": null,
       "text_color": null
      }
     },
     "9919acd03a8046b9883b83376de8b1e1": {
      "model_module": "@jupyter-widgets/controls",
      "model_module_version": "2.0.0",
      "model_name": "HTMLStyleModel",
      "state": {
       "_model_module": "@jupyter-widgets/controls",
       "_model_module_version": "2.0.0",
       "_model_name": "HTMLStyleModel",
       "_view_count": null,
       "_view_module": "@jupyter-widgets/base",
       "_view_module_version": "2.0.0",
       "_view_name": "StyleView",
       "background": null,
       "description_width": "",
       "font_size": null,
       "text_color": null
      }
     },
     "a3fa381e14704d2d98ce186319e47d83": {
      "model_module": "@jupyter-widgets/controls",
      "model_module_version": "2.0.0",
      "model_name": "HTMLStyleModel",
      "state": {
       "_model_module": "@jupyter-widgets/controls",
       "_model_module_version": "2.0.0",
       "_model_name": "HTMLStyleModel",
       "_view_count": null,
       "_view_module": "@jupyter-widgets/base",
       "_view_module_version": "2.0.0",
       "_view_name": "StyleView",
       "background": null,
       "description_width": "",
       "font_size": null,
       "text_color": null
      }
     },
     "a73ea67404cf4a2688b127ccd385fb09": {
      "model_module": "@jupyter-widgets/controls",
      "model_module_version": "2.0.0",
      "model_name": "ProgressStyleModel",
      "state": {
       "_model_module": "@jupyter-widgets/controls",
       "_model_module_version": "2.0.0",
       "_model_name": "ProgressStyleModel",
       "_view_count": null,
       "_view_module": "@jupyter-widgets/base",
       "_view_module_version": "2.0.0",
       "_view_name": "StyleView",
       "bar_color": null,
       "description_width": ""
      }
     },
     "a931f43327b7412fb14935dd43f6e3f3": {
      "model_module": "@jupyter-widgets/base",
      "model_module_version": "2.0.0",
      "model_name": "LayoutModel",
      "state": {
       "_model_module": "@jupyter-widgets/base",
       "_model_module_version": "2.0.0",
       "_model_name": "LayoutModel",
       "_view_count": null,
       "_view_module": "@jupyter-widgets/base",
       "_view_module_version": "2.0.0",
       "_view_name": "LayoutView",
       "align_content": null,
       "align_items": null,
       "align_self": null,
       "border_bottom": null,
       "border_left": null,
       "border_right": null,
       "border_top": null,
       "bottom": null,
       "display": null,
       "flex": null,
       "flex_flow": null,
       "grid_area": null,
       "grid_auto_columns": null,
       "grid_auto_flow": null,
       "grid_auto_rows": null,
       "grid_column": null,
       "grid_gap": null,
       "grid_row": null,
       "grid_template_areas": null,
       "grid_template_columns": null,
       "grid_template_rows": null,
       "height": null,
       "justify_content": null,
       "justify_items": null,
       "left": null,
       "margin": null,
       "max_height": null,
       "max_width": null,
       "min_height": null,
       "min_width": null,
       "object_fit": null,
       "object_position": null,
       "order": null,
       "overflow": null,
       "padding": null,
       "right": null,
       "top": null,
       "visibility": null,
       "width": null
      }
     },
     "aeca41069a2549ef938a538d64dba64f": {
      "model_module": "@jupyter-widgets/controls",
      "model_module_version": "2.0.0",
      "model_name": "HTMLModel",
      "state": {
       "_dom_classes": [],
       "_model_module": "@jupyter-widgets/controls",
       "_model_module_version": "2.0.0",
       "_model_name": "HTMLModel",
       "_view_count": null,
       "_view_module": "@jupyter-widgets/controls",
       "_view_module_version": "2.0.0",
       "_view_name": "HTMLView",
       "description": "",
       "description_allow_html": false,
       "layout": "IPY_MODEL_ec63759a93ac4784926d77eff9f71096",
       "placeholder": "​",
       "style": "IPY_MODEL_64e3473605a948829f4d08e14d4d17a0",
       "tabbable": null,
       "tooltip": null,
       "value": " 438M/438M [00:01&lt;00:00, 247MB/s]"
      }
     },
     "b34f41660ea14357b9bf880500e13e41": {
      "model_module": "@jupyter-widgets/controls",
      "model_module_version": "2.0.0",
      "model_name": "ProgressStyleModel",
      "state": {
       "_model_module": "@jupyter-widgets/controls",
       "_model_module_version": "2.0.0",
       "_model_name": "ProgressStyleModel",
       "_view_count": null,
       "_view_module": "@jupyter-widgets/base",
       "_view_module_version": "2.0.0",
       "_view_name": "StyleView",
       "bar_color": null,
       "description_width": ""
      }
     },
     "b82765b4e1e340e8825b7fab3eadfa39": {
      "model_module": "@jupyter-widgets/controls",
      "model_module_version": "2.0.0",
      "model_name": "ProgressStyleModel",
      "state": {
       "_model_module": "@jupyter-widgets/controls",
       "_model_module_version": "2.0.0",
       "_model_name": "ProgressStyleModel",
       "_view_count": null,
       "_view_module": "@jupyter-widgets/base",
       "_view_module_version": "2.0.0",
       "_view_name": "StyleView",
       "bar_color": null,
       "description_width": ""
      }
     },
     "b9c2154cbb6040ebb1111354f33c8d3f": {
      "model_module": "@jupyter-widgets/base",
      "model_module_version": "2.0.0",
      "model_name": "LayoutModel",
      "state": {
       "_model_module": "@jupyter-widgets/base",
       "_model_module_version": "2.0.0",
       "_model_name": "LayoutModel",
       "_view_count": null,
       "_view_module": "@jupyter-widgets/base",
       "_view_module_version": "2.0.0",
       "_view_name": "LayoutView",
       "align_content": null,
       "align_items": null,
       "align_self": null,
       "border_bottom": null,
       "border_left": null,
       "border_right": null,
       "border_top": null,
       "bottom": null,
       "display": null,
       "flex": null,
       "flex_flow": null,
       "grid_area": null,
       "grid_auto_columns": null,
       "grid_auto_flow": null,
       "grid_auto_rows": null,
       "grid_column": null,
       "grid_gap": null,
       "grid_row": null,
       "grid_template_areas": null,
       "grid_template_columns": null,
       "grid_template_rows": null,
       "height": null,
       "justify_content": null,
       "justify_items": null,
       "left": null,
       "margin": null,
       "max_height": null,
       "max_width": null,
       "min_height": null,
       "min_width": null,
       "object_fit": null,
       "object_position": null,
       "order": null,
       "overflow": null,
       "padding": null,
       "right": null,
       "top": null,
       "visibility": null,
       "width": null
      }
     },
     "bb7b34639ee84061bfadc97c30360b3a": {
      "model_module": "@jupyter-widgets/controls",
      "model_module_version": "2.0.0",
      "model_name": "ProgressStyleModel",
      "state": {
       "_model_module": "@jupyter-widgets/controls",
       "_model_module_version": "2.0.0",
       "_model_name": "ProgressStyleModel",
       "_view_count": null,
       "_view_module": "@jupyter-widgets/base",
       "_view_module_version": "2.0.0",
       "_view_name": "StyleView",
       "bar_color": null,
       "description_width": ""
      }
     },
     "bd9b516744b345d59e7a0ce58dce4ed8": {
      "model_module": "@jupyter-widgets/controls",
      "model_module_version": "2.0.0",
      "model_name": "ProgressStyleModel",
      "state": {
       "_model_module": "@jupyter-widgets/controls",
       "_model_module_version": "2.0.0",
       "_model_name": "ProgressStyleModel",
       "_view_count": null,
       "_view_module": "@jupyter-widgets/base",
       "_view_module_version": "2.0.0",
       "_view_name": "StyleView",
       "bar_color": null,
       "description_width": ""
      }
     },
     "c46c1ff0faf5493eb33c50df0d535ee6": {
      "model_module": "@jupyter-widgets/controls",
      "model_module_version": "2.0.0",
      "model_name": "HTMLStyleModel",
      "state": {
       "_model_module": "@jupyter-widgets/controls",
       "_model_module_version": "2.0.0",
       "_model_name": "HTMLStyleModel",
       "_view_count": null,
       "_view_module": "@jupyter-widgets/base",
       "_view_module_version": "2.0.0",
       "_view_name": "StyleView",
       "background": null,
       "description_width": "",
       "font_size": null,
       "text_color": null
      }
     },
     "c4e23abd6fdc49d4ad71359ac1f82377": {
      "model_module": "@jupyter-widgets/base",
      "model_module_version": "2.0.0",
      "model_name": "LayoutModel",
      "state": {
       "_model_module": "@jupyter-widgets/base",
       "_model_module_version": "2.0.0",
       "_model_name": "LayoutModel",
       "_view_count": null,
       "_view_module": "@jupyter-widgets/base",
       "_view_module_version": "2.0.0",
       "_view_name": "LayoutView",
       "align_content": null,
       "align_items": null,
       "align_self": null,
       "border_bottom": null,
       "border_left": null,
       "border_right": null,
       "border_top": null,
       "bottom": null,
       "display": null,
       "flex": null,
       "flex_flow": null,
       "grid_area": null,
       "grid_auto_columns": null,
       "grid_auto_flow": null,
       "grid_auto_rows": null,
       "grid_column": null,
       "grid_gap": null,
       "grid_row": null,
       "grid_template_areas": null,
       "grid_template_columns": null,
       "grid_template_rows": null,
       "height": null,
       "justify_content": null,
       "justify_items": null,
       "left": null,
       "margin": null,
       "max_height": null,
       "max_width": null,
       "min_height": null,
       "min_width": null,
       "object_fit": null,
       "object_position": null,
       "order": null,
       "overflow": null,
       "padding": null,
       "right": null,
       "top": null,
       "visibility": null,
       "width": null
      }
     },
     "c94769a1092a46d1b46ac2393dd46284": {
      "model_module": "@jupyter-widgets/base",
      "model_module_version": "2.0.0",
      "model_name": "LayoutModel",
      "state": {
       "_model_module": "@jupyter-widgets/base",
       "_model_module_version": "2.0.0",
       "_model_name": "LayoutModel",
       "_view_count": null,
       "_view_module": "@jupyter-widgets/base",
       "_view_module_version": "2.0.0",
       "_view_name": "LayoutView",
       "align_content": null,
       "align_items": null,
       "align_self": null,
       "border_bottom": null,
       "border_left": null,
       "border_right": null,
       "border_top": null,
       "bottom": null,
       "display": null,
       "flex": null,
       "flex_flow": null,
       "grid_area": null,
       "grid_auto_columns": null,
       "grid_auto_flow": null,
       "grid_auto_rows": null,
       "grid_column": null,
       "grid_gap": null,
       "grid_row": null,
       "grid_template_areas": null,
       "grid_template_columns": null,
       "grid_template_rows": null,
       "height": null,
       "justify_content": null,
       "justify_items": null,
       "left": null,
       "margin": null,
       "max_height": null,
       "max_width": null,
       "min_height": null,
       "min_width": null,
       "object_fit": null,
       "object_position": null,
       "order": null,
       "overflow": null,
       "padding": null,
       "right": null,
       "top": null,
       "visibility": null,
       "width": null
      }
     },
     "c997b595236b4c649bf5a94a6f47b29e": {
      "model_module": "@jupyter-widgets/base",
      "model_module_version": "2.0.0",
      "model_name": "LayoutModel",
      "state": {
       "_model_module": "@jupyter-widgets/base",
       "_model_module_version": "2.0.0",
       "_model_name": "LayoutModel",
       "_view_count": null,
       "_view_module": "@jupyter-widgets/base",
       "_view_module_version": "2.0.0",
       "_view_name": "LayoutView",
       "align_content": null,
       "align_items": null,
       "align_self": null,
       "border_bottom": null,
       "border_left": null,
       "border_right": null,
       "border_top": null,
       "bottom": null,
       "display": null,
       "flex": null,
       "flex_flow": null,
       "grid_area": null,
       "grid_auto_columns": null,
       "grid_auto_flow": null,
       "grid_auto_rows": null,
       "grid_column": null,
       "grid_gap": null,
       "grid_row": null,
       "grid_template_areas": null,
       "grid_template_columns": null,
       "grid_template_rows": null,
       "height": null,
       "justify_content": null,
       "justify_items": null,
       "left": null,
       "margin": null,
       "max_height": null,
       "max_width": null,
       "min_height": null,
       "min_width": null,
       "object_fit": null,
       "object_position": null,
       "order": null,
       "overflow": null,
       "padding": null,
       "right": null,
       "top": null,
       "visibility": null,
       "width": null
      }
     },
     "d23ce12f0a1f4275bb25f2340269e1c3": {
      "model_module": "@jupyter-widgets/base",
      "model_module_version": "2.0.0",
      "model_name": "LayoutModel",
      "state": {
       "_model_module": "@jupyter-widgets/base",
       "_model_module_version": "2.0.0",
       "_model_name": "LayoutModel",
       "_view_count": null,
       "_view_module": "@jupyter-widgets/base",
       "_view_module_version": "2.0.0",
       "_view_name": "LayoutView",
       "align_content": null,
       "align_items": null,
       "align_self": null,
       "border_bottom": null,
       "border_left": null,
       "border_right": null,
       "border_top": null,
       "bottom": null,
       "display": null,
       "flex": null,
       "flex_flow": null,
       "grid_area": null,
       "grid_auto_columns": null,
       "grid_auto_flow": null,
       "grid_auto_rows": null,
       "grid_column": null,
       "grid_gap": null,
       "grid_row": null,
       "grid_template_areas": null,
       "grid_template_columns": null,
       "grid_template_rows": null,
       "height": null,
       "justify_content": null,
       "justify_items": null,
       "left": null,
       "margin": null,
       "max_height": null,
       "max_width": null,
       "min_height": null,
       "min_width": null,
       "object_fit": null,
       "object_position": null,
       "order": null,
       "overflow": null,
       "padding": null,
       "right": null,
       "top": null,
       "visibility": null,
       "width": null
      }
     },
     "d3069dfe5bb842db820607620235f35f": {
      "model_module": "@jupyter-widgets/controls",
      "model_module_version": "2.0.0",
      "model_name": "FloatProgressModel",
      "state": {
       "_dom_classes": [],
       "_model_module": "@jupyter-widgets/controls",
       "_model_module_version": "2.0.0",
       "_model_name": "FloatProgressModel",
       "_view_count": null,
       "_view_module": "@jupyter-widgets/controls",
       "_view_module_version": "2.0.0",
       "_view_name": "ProgressView",
       "bar_style": "success",
       "description": "",
       "description_allow_html": false,
       "layout": "IPY_MODEL_d6f7674462df43caad8c4d9d39d17521",
       "max": 758.0,
       "min": 0.0,
       "orientation": "horizontal",
       "style": "IPY_MODEL_bb7b34639ee84061bfadc97c30360b3a",
       "tabbable": null,
       "tooltip": null,
       "value": 758.0
      }
     },
     "d5bba6d0f33a429eb2b498c8014c64b1": {
      "model_module": "@jupyter-widgets/controls",
      "model_module_version": "2.0.0",
      "model_name": "FloatProgressModel",
      "state": {
       "_dom_classes": [],
       "_model_module": "@jupyter-widgets/controls",
       "_model_module_version": "2.0.0",
       "_model_name": "FloatProgressModel",
       "_view_count": null,
       "_view_module": "@jupyter-widgets/controls",
       "_view_module_version": "2.0.0",
       "_view_name": "ProgressView",
       "bar_style": "danger",
       "description": "",
       "description_allow_html": false,
       "layout": "IPY_MODEL_dd709da977004569927e1df501684512",
       "max": 1000000.0,
       "min": 0.0,
       "orientation": "horizontal",
       "style": "IPY_MODEL_70dbd14779e04e95a875fdb955e8f14a",
       "tabbable": null,
       "tooltip": null,
       "value": 1.0
      }
     },
     "d68064097c064894a03967ca3d3cf6b7": {
      "model_module": "@jupyter-widgets/controls",
      "model_module_version": "2.0.0",
      "model_name": "ProgressStyleModel",
      "state": {
       "_model_module": "@jupyter-widgets/controls",
       "_model_module_version": "2.0.0",
       "_model_name": "ProgressStyleModel",
       "_view_count": null,
       "_view_module": "@jupyter-widgets/base",
       "_view_module_version": "2.0.0",
       "_view_name": "StyleView",
       "bar_color": null,
       "description_width": ""
      }
     },
     "d6f7674462df43caad8c4d9d39d17521": {
      "model_module": "@jupyter-widgets/base",
      "model_module_version": "2.0.0",
      "model_name": "LayoutModel",
      "state": {
       "_model_module": "@jupyter-widgets/base",
       "_model_module_version": "2.0.0",
       "_model_name": "LayoutModel",
       "_view_count": null,
       "_view_module": "@jupyter-widgets/base",
       "_view_module_version": "2.0.0",
       "_view_name": "LayoutView",
       "align_content": null,
       "align_items": null,
       "align_self": null,
       "border_bottom": null,
       "border_left": null,
       "border_right": null,
       "border_top": null,
       "bottom": null,
       "display": null,
       "flex": null,
       "flex_flow": null,
       "grid_area": null,
       "grid_auto_columns": null,
       "grid_auto_flow": null,
       "grid_auto_rows": null,
       "grid_column": null,
       "grid_gap": null,
       "grid_row": null,
       "grid_template_areas": null,
       "grid_template_columns": null,
       "grid_template_rows": null,
       "height": null,
       "justify_content": null,
       "justify_items": null,
       "left": null,
       "margin": null,
       "max_height": null,
       "max_width": null,
       "min_height": null,
       "min_width": null,
       "object_fit": null,
       "object_position": null,
       "order": null,
       "overflow": null,
       "padding": null,
       "right": null,
       "top": null,
       "visibility": null,
       "width": null
      }
     },
     "d8b854ce72bc45c485c196bb1977850d": {
      "model_module": "@jupyter-widgets/base",
      "model_module_version": "2.0.0",
      "model_name": "LayoutModel",
      "state": {
       "_model_module": "@jupyter-widgets/base",
       "_model_module_version": "2.0.0",
       "_model_name": "LayoutModel",
       "_view_count": null,
       "_view_module": "@jupyter-widgets/base",
       "_view_module_version": "2.0.0",
       "_view_name": "LayoutView",
       "align_content": null,
       "align_items": null,
       "align_self": null,
       "border_bottom": null,
       "border_left": null,
       "border_right": null,
       "border_top": null,
       "bottom": null,
       "display": null,
       "flex": null,
       "flex_flow": null,
       "grid_area": null,
       "grid_auto_columns": null,
       "grid_auto_flow": null,
       "grid_auto_rows": null,
       "grid_column": null,
       "grid_gap": null,
       "grid_row": null,
       "grid_template_areas": null,
       "grid_template_columns": null,
       "grid_template_rows": null,
       "height": null,
       "justify_content": null,
       "justify_items": null,
       "left": null,
       "margin": null,
       "max_height": null,
       "max_width": null,
       "min_height": null,
       "min_width": null,
       "object_fit": null,
       "object_position": null,
       "order": null,
       "overflow": null,
       "padding": null,
       "right": null,
       "top": null,
       "visibility": null,
       "width": null
      }
     },
     "dd709da977004569927e1df501684512": {
      "model_module": "@jupyter-widgets/base",
      "model_module_version": "2.0.0",
      "model_name": "LayoutModel",
      "state": {
       "_model_module": "@jupyter-widgets/base",
       "_model_module_version": "2.0.0",
       "_model_name": "LayoutModel",
       "_view_count": null,
       "_view_module": "@jupyter-widgets/base",
       "_view_module_version": "2.0.0",
       "_view_name": "LayoutView",
       "align_content": null,
       "align_items": null,
       "align_self": null,
       "border_bottom": null,
       "border_left": null,
       "border_right": null,
       "border_top": null,
       "bottom": null,
       "display": null,
       "flex": null,
       "flex_flow": null,
       "grid_area": null,
       "grid_auto_columns": null,
       "grid_auto_flow": null,
       "grid_auto_rows": null,
       "grid_column": null,
       "grid_gap": null,
       "grid_row": null,
       "grid_template_areas": null,
       "grid_template_columns": null,
       "grid_template_rows": null,
       "height": null,
       "justify_content": null,
       "justify_items": null,
       "left": null,
       "margin": null,
       "max_height": null,
       "max_width": null,
       "min_height": null,
       "min_width": null,
       "object_fit": null,
       "object_position": null,
       "order": null,
       "overflow": null,
       "padding": null,
       "right": null,
       "top": null,
       "visibility": null,
       "width": null
      }
     },
     "ddfb1c4ed7a54b75a1a34f7bc5ddabf1": {
      "model_module": "@jupyter-widgets/controls",
      "model_module_version": "2.0.0",
      "model_name": "FloatProgressModel",
      "state": {
       "_dom_classes": [],
       "_model_module": "@jupyter-widgets/controls",
       "_model_module_version": "2.0.0",
       "_model_name": "FloatProgressModel",
       "_view_count": null,
       "_view_module": "@jupyter-widgets/controls",
       "_view_module_version": "2.0.0",
       "_view_name": "ProgressView",
       "bar_style": "success",
       "description": "",
       "description_allow_html": false,
       "layout": "IPY_MODEL_eb0b9c48e7a64b279bfbeda2bf2dcd38",
       "max": 307787.0,
       "min": 0.0,
       "orientation": "horizontal",
       "style": "IPY_MODEL_81a79ee234034e04b2f7a39337215ca8",
       "tabbable": null,
       "tooltip": null,
       "value": 307787.0
      }
     },
     "e0dc5a3d06e74285b6174bfa3db8fb9c": {
      "model_module": "@jupyter-widgets/base",
      "model_module_version": "2.0.0",
      "model_name": "LayoutModel",
      "state": {
       "_model_module": "@jupyter-widgets/base",
       "_model_module_version": "2.0.0",
       "_model_name": "LayoutModel",
       "_view_count": null,
       "_view_module": "@jupyter-widgets/base",
       "_view_module_version": "2.0.0",
       "_view_name": "LayoutView",
       "align_content": null,
       "align_items": null,
       "align_self": null,
       "border_bottom": null,
       "border_left": null,
       "border_right": null,
       "border_top": null,
       "bottom": null,
       "display": null,
       "flex": null,
       "flex_flow": null,
       "grid_area": null,
       "grid_auto_columns": null,
       "grid_auto_flow": null,
       "grid_auto_rows": null,
       "grid_column": null,
       "grid_gap": null,
       "grid_row": null,
       "grid_template_areas": null,
       "grid_template_columns": null,
       "grid_template_rows": null,
       "height": null,
       "justify_content": null,
       "justify_items": null,
       "left": null,
       "margin": null,
       "max_height": null,
       "max_width": null,
       "min_height": null,
       "min_width": null,
       "object_fit": null,
       "object_position": null,
       "order": null,
       "overflow": null,
       "padding": null,
       "right": null,
       "top": null,
       "visibility": null,
       "width": null
      }
     },
     "e23a697be98844768ae1d4da7fc1c81c": {
      "model_module": "@jupyter-widgets/controls",
      "model_module_version": "2.0.0",
      "model_name": "HBoxModel",
      "state": {
       "_dom_classes": [],
       "_model_module": "@jupyter-widgets/controls",
       "_model_module_version": "2.0.0",
       "_model_name": "HBoxModel",
       "_view_count": null,
       "_view_module": "@jupyter-widgets/controls",
       "_view_module_version": "2.0.0",
       "_view_name": "HBoxView",
       "box_style": "",
       "children": [
        "IPY_MODEL_8b23df36c2884bf9abbd0c2c4be070f8",
        "IPY_MODEL_56931a4511fd4bcd98831bcf827685ba",
        "IPY_MODEL_5dcffeab159a45f0be7030e96147a1ec"
       ],
       "layout": "IPY_MODEL_d23ce12f0a1f4275bb25f2340269e1c3",
       "tabbable": null,
       "tooltip": null
      }
     },
     "e54acf1b3cb5406c8e1d9b149dadca44": {
      "model_module": "@jupyter-widgets/controls",
      "model_module_version": "2.0.0",
      "model_name": "HBoxModel",
      "state": {
       "_dom_classes": [],
       "_model_module": "@jupyter-widgets/controls",
       "_model_module_version": "2.0.0",
       "_model_name": "HBoxModel",
       "_view_count": null,
       "_view_module": "@jupyter-widgets/controls",
       "_view_module_version": "2.0.0",
       "_view_name": "HBoxView",
       "box_style": "",
       "children": [
        "IPY_MODEL_63f4c64137e448729f9902160970e52b",
        "IPY_MODEL_0c674c9e033748198101945139689fd2",
        "IPY_MODEL_6ee39f202184445e951f2560e0cba1b8"
       ],
       "layout": "IPY_MODEL_e0dc5a3d06e74285b6174bfa3db8fb9c",
       "tabbable": null,
       "tooltip": null
      }
     },
     "e716da90ac7643878c2304d6b21d36e2": {
      "model_module": "@jupyter-widgets/controls",
      "model_module_version": "2.0.0",
      "model_name": "HTMLModel",
      "state": {
       "_dom_classes": [],
       "_model_module": "@jupyter-widgets/controls",
       "_model_module_version": "2.0.0",
       "_model_name": "HTMLModel",
       "_view_count": null,
       "_view_module": "@jupyter-widgets/controls",
       "_view_module_version": "2.0.0",
       "_view_name": "HTMLView",
       "description": "",
       "description_allow_html": false,
       "layout": "IPY_MODEL_88576ce79ad34ddab769c05a369293cf",
       "placeholder": "​",
       "style": "IPY_MODEL_0aff65531d7b4dc7bc48dfce14134204",
       "tabbable": null,
       "tooltip": null,
       "value": " 758/758 [00:00&lt;00:00, 85.0kB/s]"
      }
     },
     "e81dd1e27d10454d9db85173c1e284c5": {
      "model_module": "@jupyter-widgets/base",
      "model_module_version": "2.0.0",
      "model_name": "LayoutModel",
      "state": {
       "_model_module": "@jupyter-widgets/base",
       "_model_module_version": "2.0.0",
       "_model_name": "LayoutModel",
       "_view_count": null,
       "_view_module": "@jupyter-widgets/base",
       "_view_module_version": "2.0.0",
       "_view_name": "LayoutView",
       "align_content": null,
       "align_items": null,
       "align_self": null,
       "border_bottom": null,
       "border_left": null,
       "border_right": null,
       "border_top": null,
       "bottom": null,
       "display": null,
       "flex": null,
       "flex_flow": null,
       "grid_area": null,
       "grid_auto_columns": null,
       "grid_auto_flow": null,
       "grid_auto_rows": null,
       "grid_column": null,
       "grid_gap": null,
       "grid_row": null,
       "grid_template_areas": null,
       "grid_template_columns": null,
       "grid_template_rows": null,
       "height": null,
       "justify_content": null,
       "justify_items": null,
       "left": null,
       "margin": null,
       "max_height": null,
       "max_width": null,
       "min_height": null,
       "min_width": null,
       "object_fit": null,
       "object_position": null,
       "order": null,
       "overflow": null,
       "padding": null,
       "right": null,
       "top": null,
       "visibility": null,
       "width": null
      }
     },
     "e8e854dc62ff48768bb55a606fea21ec": {
      "model_module": "@jupyter-widgets/controls",
      "model_module_version": "2.0.0",
      "model_name": "HBoxModel",
      "state": {
       "_dom_classes": [],
       "_model_module": "@jupyter-widgets/controls",
       "_model_module_version": "2.0.0",
       "_model_name": "HBoxModel",
       "_view_count": null,
       "_view_module": "@jupyter-widgets/controls",
       "_view_module_version": "2.0.0",
       "_view_name": "HBoxView",
       "box_style": "",
       "children": [
        "IPY_MODEL_863f5c6880b247eb9fd222d66a2f21a5",
        "IPY_MODEL_02506e6fe27b4dbfb62e9815e2a75436",
        "IPY_MODEL_40672130ddc14d6eab9ee69d9126995d"
       ],
       "layout": "IPY_MODEL_c997b595236b4c649bf5a94a6f47b29e",
       "tabbable": null,
       "tooltip": null
      }
     },
     "eae38ad6225b4ee2a74213a967a21c1c": {
      "model_module": "@jupyter-widgets/base",
      "model_module_version": "2.0.0",
      "model_name": "LayoutModel",
      "state": {
       "_model_module": "@jupyter-widgets/base",
       "_model_module_version": "2.0.0",
       "_model_name": "LayoutModel",
       "_view_count": null,
       "_view_module": "@jupyter-widgets/base",
       "_view_module_version": "2.0.0",
       "_view_name": "LayoutView",
       "align_content": null,
       "align_items": null,
       "align_self": null,
       "border_bottom": null,
       "border_left": null,
       "border_right": null,
       "border_top": null,
       "bottom": null,
       "display": null,
       "flex": null,
       "flex_flow": null,
       "grid_area": null,
       "grid_auto_columns": null,
       "grid_auto_flow": null,
       "grid_auto_rows": null,
       "grid_column": null,
       "grid_gap": null,
       "grid_row": null,
       "grid_template_areas": null,
       "grid_template_columns": null,
       "grid_template_rows": null,
       "height": null,
       "justify_content": null,
       "justify_items": null,
       "left": null,
       "margin": null,
       "max_height": null,
       "max_width": null,
       "min_height": null,
       "min_width": null,
       "object_fit": null,
       "object_position": null,
       "order": null,
       "overflow": null,
       "padding": null,
       "right": null,
       "top": null,
       "visibility": null,
       "width": null
      }
     },
     "eb0b9c48e7a64b279bfbeda2bf2dcd38": {
      "model_module": "@jupyter-widgets/base",
      "model_module_version": "2.0.0",
      "model_name": "LayoutModel",
      "state": {
       "_model_module": "@jupyter-widgets/base",
       "_model_module_version": "2.0.0",
       "_model_name": "LayoutModel",
       "_view_count": null,
       "_view_module": "@jupyter-widgets/base",
       "_view_module_version": "2.0.0",
       "_view_name": "LayoutView",
       "align_content": null,
       "align_items": null,
       "align_self": null,
       "border_bottom": null,
       "border_left": null,
       "border_right": null,
       "border_top": null,
       "bottom": null,
       "display": null,
       "flex": null,
       "flex_flow": null,
       "grid_area": null,
       "grid_auto_columns": null,
       "grid_auto_flow": null,
       "grid_auto_rows": null,
       "grid_column": null,
       "grid_gap": null,
       "grid_row": null,
       "grid_template_areas": null,
       "grid_template_columns": null,
       "grid_template_rows": null,
       "height": null,
       "justify_content": null,
       "justify_items": null,
       "left": null,
       "margin": null,
       "max_height": null,
       "max_width": null,
       "min_height": null,
       "min_width": null,
       "object_fit": null,
       "object_position": null,
       "order": null,
       "overflow": null,
       "padding": null,
       "right": null,
       "top": null,
       "visibility": null,
       "width": null
      }
     },
     "ec63759a93ac4784926d77eff9f71096": {
      "model_module": "@jupyter-widgets/base",
      "model_module_version": "2.0.0",
      "model_name": "LayoutModel",
      "state": {
       "_model_module": "@jupyter-widgets/base",
       "_model_module_version": "2.0.0",
       "_model_name": "LayoutModel",
       "_view_count": null,
       "_view_module": "@jupyter-widgets/base",
       "_view_module_version": "2.0.0",
       "_view_name": "LayoutView",
       "align_content": null,
       "align_items": null,
       "align_self": null,
       "border_bottom": null,
       "border_left": null,
       "border_right": null,
       "border_top": null,
       "bottom": null,
       "display": null,
       "flex": null,
       "flex_flow": null,
       "grid_area": null,
       "grid_auto_columns": null,
       "grid_auto_flow": null,
       "grid_auto_rows": null,
       "grid_column": null,
       "grid_gap": null,
       "grid_row": null,
       "grid_template_areas": null,
       "grid_template_columns": null,
       "grid_template_rows": null,
       "height": null,
       "justify_content": null,
       "justify_items": null,
       "left": null,
       "margin": null,
       "max_height": null,
       "max_width": null,
       "min_height": null,
       "min_width": null,
       "object_fit": null,
       "object_position": null,
       "order": null,
       "overflow": null,
       "padding": null,
       "right": null,
       "top": null,
       "visibility": null,
       "width": null
      }
     },
     "ecb3c53df9854aa0960131328b75b521": {
      "model_module": "@jupyter-widgets/controls",
      "model_module_version": "2.0.0",
      "model_name": "FloatProgressModel",
      "state": {
       "_dom_classes": [],
       "_model_module": "@jupyter-widgets/controls",
       "_model_module_version": "2.0.0",
       "_model_name": "FloatProgressModel",
       "_view_count": null,
       "_view_module": "@jupyter-widgets/controls",
       "_view_module_version": "2.0.0",
       "_view_name": "ProgressView",
       "bar_style": "success",
       "description": "",
       "description_allow_html": false,
       "layout": "IPY_MODEL_7b32786b7b2247de83556bdb6b057c9c",
       "max": 437992753.0,
       "min": 0.0,
       "orientation": "horizontal",
       "style": "IPY_MODEL_a73ea67404cf4a2688b127ccd385fb09",
       "tabbable": null,
       "tooltip": null,
       "value": 437992753.0
      }
     },
     "f24a513fbbc14cbc9488ab80612d29f5": {
      "model_module": "@jupyter-widgets/base",
      "model_module_version": "2.0.0",
      "model_name": "LayoutModel",
      "state": {
       "_model_module": "@jupyter-widgets/base",
       "_model_module_version": "2.0.0",
       "_model_name": "LayoutModel",
       "_view_count": null,
       "_view_module": "@jupyter-widgets/base",
       "_view_module_version": "2.0.0",
       "_view_name": "LayoutView",
       "align_content": null,
       "align_items": null,
       "align_self": null,
       "border_bottom": null,
       "border_left": null,
       "border_right": null,
       "border_top": null,
       "bottom": null,
       "display": null,
       "flex": null,
       "flex_flow": null,
       "grid_area": null,
       "grid_auto_columns": null,
       "grid_auto_flow": null,
       "grid_auto_rows": null,
       "grid_column": null,
       "grid_gap": null,
       "grid_row": null,
       "grid_template_areas": null,
       "grid_template_columns": null,
       "grid_template_rows": null,
       "height": null,
       "justify_content": null,
       "justify_items": null,
       "left": null,
       "margin": null,
       "max_height": null,
       "max_width": null,
       "min_height": null,
       "min_width": null,
       "object_fit": null,
       "object_position": null,
       "order": null,
       "overflow": null,
       "padding": null,
       "right": null,
       "top": null,
       "visibility": null,
       "width": null
      }
     },
     "f6c824f8fcc3410cbfc6cedad2282d04": {
      "model_module": "@jupyter-widgets/controls",
      "model_module_version": "2.0.0",
      "model_name": "HTMLStyleModel",
      "state": {
       "_model_module": "@jupyter-widgets/controls",
       "_model_module_version": "2.0.0",
       "_model_name": "HTMLStyleModel",
       "_view_count": null,
       "_view_module": "@jupyter-widgets/base",
       "_view_module_version": "2.0.0",
       "_view_name": "StyleView",
       "background": null,
       "description_width": "",
       "font_size": null,
       "text_color": null
      }
     },
     "fcf4ed649cbf42f088380f337f07833c": {
      "model_module": "@jupyter-widgets/base",
      "model_module_version": "2.0.0",
      "model_name": "LayoutModel",
      "state": {
       "_model_module": "@jupyter-widgets/base",
       "_model_module_version": "2.0.0",
       "_model_name": "LayoutModel",
       "_view_count": null,
       "_view_module": "@jupyter-widgets/base",
       "_view_module_version": "2.0.0",
       "_view_name": "LayoutView",
       "align_content": null,
       "align_items": null,
       "align_self": null,
       "border_bottom": null,
       "border_left": null,
       "border_right": null,
       "border_top": null,
       "bottom": null,
       "display": null,
       "flex": null,
       "flex_flow": null,
       "grid_area": null,
       "grid_auto_columns": null,
       "grid_auto_flow": null,
       "grid_auto_rows": null,
       "grid_column": null,
       "grid_gap": null,
       "grid_row": null,
       "grid_template_areas": null,
       "grid_template_columns": null,
       "grid_template_rows": null,
       "height": null,
       "justify_content": null,
       "justify_items": null,
       "left": null,
       "margin": null,
       "max_height": null,
       "max_width": null,
       "min_height": null,
       "min_width": null,
       "object_fit": null,
       "object_position": null,
       "order": null,
       "overflow": null,
       "padding": null,
       "right": null,
       "top": null,
       "visibility": null,
       "width": null
      }
     }
    },
    "version_major": 2,
    "version_minor": 0
   }
  }
 },
 "nbformat": 4,
 "nbformat_minor": 5
}
