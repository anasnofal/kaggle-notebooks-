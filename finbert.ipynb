{
 "cells": [
  {
   "cell_type": "code",
   "execution_count": 1,
   "id": "f657c5ab",
   "metadata": {
    "_cell_guid": "b1076dfc-b9ad-4769-8c92-a6c4dae69d19",
    "_uuid": "8f2839f25d086af736a60e9eeb907d3b93b6e0e5",
    "execution": {
     "iopub.execute_input": "2025-01-07T19:02:43.084389Z",
     "iopub.status.busy": "2025-01-07T19:02:43.084188Z",
     "iopub.status.idle": "2025-01-07T19:03:00.069926Z",
     "shell.execute_reply": "2025-01-07T19:03:00.069245Z"
    },
    "papermill": {
     "duration": 16.995452,
     "end_time": "2025-01-07T19:03:00.071546",
     "exception": false,
     "start_time": "2025-01-07T19:02:43.076094",
     "status": "completed"
    },
    "tags": []
   },
   "outputs": [
    {
     "name": "stdout",
     "output_type": "stream",
     "text": [
      "env: TOKENIZERS_PARALLELISM=false\n",
      "env: WANDB_DISABLED=true\n"
     ]
    }
   ],
   "source": [
    "%env TOKENIZERS_PARALLELISM=false\n",
    "%env WANDB_DISABLED=true\n",
    "import numpy as np\n",
    "import pandas as pd\n",
    "\n",
    "from sklearn.preprocessing import LabelEncoder\n",
    "from sklearn.model_selection import train_test_split\n",
    "\n",
    "from transformers import (\n",
    "    AutoTokenizer, \n",
    "    AutoModel, \n",
    "    AdamW, \n",
    "    AutoConfig, \n",
    "    DataCollatorWithPadding,\n",
    "    TrainingArguments,\n",
    "    Trainer,\n",
    "    AutoModelForSequenceClassification\n",
    ")\n",
    "\n",
    "from datasets import Dataset\n",
    "\n",
    "import torch\n",
    "import torch.nn as nn\n",
    "from tqdm.auto import tqdm\n",
    "from torch.utils.data import DataLoader"
   ]
  },
  {
   "cell_type": "code",
   "execution_count": 2,
   "id": "808e3ba1",
   "metadata": {
    "execution": {
     "iopub.execute_input": "2025-01-07T19:03:00.086893Z",
     "iopub.status.busy": "2025-01-07T19:03:00.086354Z",
     "iopub.status.idle": "2025-01-07T19:03:00.089727Z",
     "shell.execute_reply": "2025-01-07T19:03:00.089090Z"
    },
    "papermill": {
     "duration": 0.011787,
     "end_time": "2025-01-07T19:03:00.090929",
     "exception": false,
     "start_time": "2025-01-07T19:03:00.079142",
     "status": "completed"
    },
    "tags": []
   },
   "outputs": [],
   "source": [
    "class args:\n",
    "    model = 'ProsusAI/finbert'"
   ]
  },
  {
   "cell_type": "code",
   "execution_count": 3,
   "id": "4787aabc",
   "metadata": {
    "execution": {
     "iopub.execute_input": "2025-01-07T19:03:00.104914Z",
     "iopub.status.busy": "2025-01-07T19:03:00.104671Z",
     "iopub.status.idle": "2025-01-07T19:03:02.389524Z",
     "shell.execute_reply": "2025-01-07T19:03:02.388761Z"
    },
    "papermill": {
     "duration": 2.293715,
     "end_time": "2025-01-07T19:03:02.391293",
     "exception": false,
     "start_time": "2025-01-07T19:03:00.097578",
     "status": "completed"
    },
    "tags": []
   },
   "outputs": [],
   "source": [
    "\n",
    "df = pd.read_csv('/kaggle/input/news-sentiment-analysis/news.csv')"
   ]
  },
  {
   "cell_type": "code",
   "execution_count": 4,
   "id": "acb42391",
   "metadata": {
    "execution": {
     "iopub.execute_input": "2025-01-07T19:03:02.407158Z",
     "iopub.status.busy": "2025-01-07T19:03:02.406841Z",
     "iopub.status.idle": "2025-01-07T19:03:02.467825Z",
     "shell.execute_reply": "2025-01-07T19:03:02.466878Z"
    },
    "papermill": {
     "duration": 0.07033,
     "end_time": "2025-01-07T19:03:02.469300",
     "exception": false,
     "start_time": "2025-01-07T19:03:02.398970",
     "status": "completed"
    },
    "tags": []
   },
   "outputs": [],
   "source": [
    "df.rename(columns={'sentiment': 'labels', 'news': 'messages'}, inplace=True)\n",
    "\n",
    "# Set date as index\n",
    "df['date'] = pd.to_datetime(df['date'])  # Convert to datetime if necessary\n",
    "df.set_index('date', inplace=True)"
   ]
  },
  {
   "cell_type": "code",
   "execution_count": 5,
   "id": "0b1c4aa4",
   "metadata": {
    "execution": {
     "iopub.execute_input": "2025-01-07T19:03:02.483791Z",
     "iopub.status.busy": "2025-01-07T19:03:02.483544Z",
     "iopub.status.idle": "2025-01-07T19:03:02.562179Z",
     "shell.execute_reply": "2025-01-07T19:03:02.561226Z"
    },
    "papermill": {
     "duration": 0.08735,
     "end_time": "2025-01-07T19:03:02.563558",
     "exception": false,
     "start_time": "2025-01-07T19:03:02.476208",
     "status": "completed"
    },
    "tags": []
   },
   "outputs": [
    {
     "data": {
      "text/plain": [
       "labels\n",
       "0    217443\n",
       "1    210039\n",
       "Name: count, dtype: int64"
      ]
     },
     "execution_count": 5,
     "metadata": {},
     "output_type": "execute_result"
    }
   ],
   "source": [
    "le = LabelEncoder()\n",
    "df['labels'] = le.fit_transform(df['labels'])\n",
    "df['labels'].value_counts()"
   ]
  },
  {
   "cell_type": "markdown",
   "id": "fcc762fe",
   "metadata": {
    "execution": {
     "iopub.execute_input": "2022-03-21T08:54:02.661604Z",
     "iopub.status.busy": "2022-03-21T08:54:02.661079Z",
     "iopub.status.idle": "2022-03-21T08:54:02.674078Z",
     "shell.execute_reply": "2022-03-21T08:54:02.673369Z",
     "shell.execute_reply.started": "2022-03-21T08:54:02.661565Z"
    },
    "papermill": {
     "duration": 0.006844,
     "end_time": "2025-01-07T19:03:02.578220",
     "exception": false,
     "start_time": "2025-01-07T19:03:02.571376",
     "status": "completed"
    },
    "tags": []
   },
   "source": [
    "Now let's split the given data into train, test and validation\n",
    "\n",
    "We will be using the train data to train the mode, the validation data to determiine the performance of the model and the test data to check how the model performs on unseen data\n",
    "\n",
    "We will stratify on the `labels` so that the data remains balanced for train, test and validation data"
   ]
  },
  {
   "cell_type": "code",
   "execution_count": 6,
   "id": "79feb77d",
   "metadata": {
    "execution": {
     "iopub.execute_input": "2025-01-07T19:03:02.593931Z",
     "iopub.status.busy": "2025-01-07T19:03:02.593606Z",
     "iopub.status.idle": "2025-01-07T19:03:02.597077Z",
     "shell.execute_reply": "2025-01-07T19:03:02.596193Z"
    },
    "papermill": {
     "duration": 0.012858,
     "end_time": "2025-01-07T19:03:02.598388",
     "exception": false,
     "start_time": "2025-01-07T19:03:02.585530",
     "status": "completed"
    },
    "tags": []
   },
   "outputs": [],
   "source": [
    "# X, y = df['messages'].values, df['labels'].values\n",
    "\n",
    "# # train : test = 0.9 : 0.1\n",
    "# xtrain, xtest, ytrain, ytest = train_test_split(X, y, test_size=0.2, stratify=y)\n",
    "\n",
    "# # train : valid = 0.8 : 0.2\n",
    "# xtrain, xvalid, ytrain, yvalid = train_test_split(xtrain, ytrain, test_size=0.2, stratify=ytrain)\n",
    "\n",
    "# # train : valid : test = 0.72 : 0.18 : 0.10 (stratified on 'labels')"
   ]
  },
  {
   "cell_type": "code",
   "execution_count": 7,
   "id": "da81df7b",
   "metadata": {
    "execution": {
     "iopub.execute_input": "2025-01-07T19:03:02.614443Z",
     "iopub.status.busy": "2025-01-07T19:03:02.614220Z",
     "iopub.status.idle": "2025-01-07T19:03:02.644124Z",
     "shell.execute_reply": "2025-01-07T19:03:02.643443Z"
    },
    "papermill": {
     "duration": 0.039361,
     "end_time": "2025-01-07T19:03:02.645430",
     "exception": false,
     "start_time": "2025-01-07T19:03:02.606069",
     "status": "completed"
    },
    "tags": []
   },
   "outputs": [],
   "source": [
    "df = df.sort_index()\n",
    "\n",
    "total_rows = len(df)\n",
    "train_end = int(total_rows * 0.72)\n",
    "valid_end = train_end + int(total_rows * 0.18)\n",
    "\n",
    "train = df.iloc[:train_end]\n",
    "valid = df.iloc[train_end:valid_end]\n",
    "test = df.iloc[valid_end:]"
   ]
  },
  {
   "cell_type": "code",
   "execution_count": 8,
   "id": "145a7662",
   "metadata": {
    "execution": {
     "iopub.execute_input": "2025-01-07T19:03:02.661655Z",
     "iopub.status.busy": "2025-01-07T19:03:02.661431Z",
     "iopub.status.idle": "2025-01-07T19:03:02.785300Z",
     "shell.execute_reply": "2025-01-07T19:03:02.784542Z"
    },
    "papermill": {
     "duration": 0.133659,
     "end_time": "2025-01-07T19:03:02.786851",
     "exception": false,
     "start_time": "2025-01-07T19:03:02.653192",
     "status": "completed"
    },
    "tags": []
   },
   "outputs": [],
   "source": [
    "# Convert to NumPy arrays\n",
    "X_train = train.drop(columns=['labels']).to_numpy()  # Features for training\n",
    "y_train = train['labels'].to_numpy()                # Target labels for training\n",
    "\n",
    "X_valid = valid.drop(columns=['labels']).to_numpy()  # Features for validation\n",
    "y_valid = valid['labels'].to_numpy()                 # Target labels for validation\n",
    "\n",
    "X_test = test.drop(columns=['labels']).to_numpy()    # Features for testing\n",
    "y_test = test['labels'].to_numpy()"
   ]
  },
  {
   "cell_type": "markdown",
   "id": "7c77b05b",
   "metadata": {
    "papermill": {
     "duration": 0.006764,
     "end_time": "2025-01-07T19:03:02.800813",
     "exception": false,
     "start_time": "2025-01-07T19:03:02.794049",
     "status": "completed"
    },
    "tags": []
   },
   "source": [
    "# Dataset"
   ]
  },
  {
   "cell_type": "code",
   "execution_count": 9,
   "id": "00226e8f",
   "metadata": {
    "execution": {
     "iopub.execute_input": "2025-01-07T19:03:02.815306Z",
     "iopub.status.busy": "2025-01-07T19:03:02.815066Z",
     "iopub.status.idle": "2025-01-07T19:03:11.843003Z",
     "shell.execute_reply": "2025-01-07T19:03:11.842295Z"
    },
    "papermill": {
     "duration": 9.036832,
     "end_time": "2025-01-07T19:03:11.844450",
     "exception": false,
     "start_time": "2025-01-07T19:03:02.807618",
     "status": "completed"
    },
    "tags": []
   },
   "outputs": [],
   "source": [
    "X_train = [str(x) for x in X_train]\n",
    "X_valid = [str(x) for x in X_valid]\n",
    "X_test = [str(x) for x in X_test]"
   ]
  },
  {
   "cell_type": "code",
   "execution_count": 10,
   "id": "0b40cf07",
   "metadata": {
    "execution": {
     "iopub.execute_input": "2025-01-07T19:03:11.859197Z",
     "iopub.status.busy": "2025-01-07T19:03:11.858942Z",
     "iopub.status.idle": "2025-01-07T19:03:12.708903Z",
     "shell.execute_reply": "2025-01-07T19:03:12.707913Z"
    },
    "papermill": {
     "duration": 0.858715,
     "end_time": "2025-01-07T19:03:12.710413",
     "exception": false,
     "start_time": "2025-01-07T19:03:11.851698",
     "status": "completed"
    },
    "tags": []
   },
   "outputs": [
    {
     "data": {
      "text/plain": [
       "Dataset({\n",
       "    features: ['text'],\n",
       "    num_rows: 42749\n",
       "})"
      ]
     },
     "execution_count": 10,
     "metadata": {},
     "output_type": "execute_result"
    }
   ],
   "source": [
    "train_dataset_raw = Dataset.from_dict({'text':X_train, 'labels':y_train})\n",
    "valid_dataset_raw = Dataset.from_dict({'text':X_valid, 'labels':y_valid})\n",
    "pred_dataset_raw = Dataset.from_dict({'text': X_test})\n",
    "pred_dataset_raw"
   ]
  },
  {
   "cell_type": "code",
   "execution_count": 11,
   "id": "3186d63f",
   "metadata": {
    "execution": {
     "iopub.execute_input": "2025-01-07T19:03:12.725551Z",
     "iopub.status.busy": "2025-01-07T19:03:12.725321Z",
     "iopub.status.idle": "2025-01-07T19:03:12.728673Z",
     "shell.execute_reply": "2025-01-07T19:03:12.727939Z"
    },
    "papermill": {
     "duration": 0.0122,
     "end_time": "2025-01-07T19:03:12.729962",
     "exception": false,
     "start_time": "2025-01-07T19:03:12.717762",
     "status": "completed"
    },
    "tags": []
   },
   "outputs": [],
   "source": [
    "def tokenize_fn(examples):\n",
    "    return tokenizer(examples['text'], truncation=True)"
   ]
  },
  {
   "cell_type": "code",
   "execution_count": 12,
   "id": "70e9a381",
   "metadata": {
    "execution": {
     "iopub.execute_input": "2025-01-07T19:03:12.744582Z",
     "iopub.status.busy": "2025-01-07T19:03:12.744378Z",
     "iopub.status.idle": "2025-01-07T19:03:13.498567Z",
     "shell.execute_reply": "2025-01-07T19:03:13.497657Z"
    },
    "papermill": {
     "duration": 0.763504,
     "end_time": "2025-01-07T19:03:13.500419",
     "exception": false,
     "start_time": "2025-01-07T19:03:12.736915",
     "status": "completed"
    },
    "tags": []
   },
   "outputs": [
    {
     "data": {
      "application/vnd.jupyter.widget-view+json": {
       "model_id": "9db416b851054500a07e6d886b97fb5e",
       "version_major": 2,
       "version_minor": 0
      },
      "text/plain": [
       "tokenizer_config.json:   0%|          | 0.00/252 [00:00<?, ?B/s]"
      ]
     },
     "metadata": {},
     "output_type": "display_data"
    },
    {
     "data": {
      "application/vnd.jupyter.widget-view+json": {
       "model_id": "0a7f07e9f3cc443f93c765c366ad547d",
       "version_major": 2,
       "version_minor": 0
      },
      "text/plain": [
       "config.json:   0%|          | 0.00/758 [00:00<?, ?B/s]"
      ]
     },
     "metadata": {},
     "output_type": "display_data"
    },
    {
     "data": {
      "application/vnd.jupyter.widget-view+json": {
       "model_id": "cdb68790bfd8467baab12fe52e650a12",
       "version_major": 2,
       "version_minor": 0
      },
      "text/plain": [
       "vocab.txt:   0%|          | 0.00/232k [00:00<?, ?B/s]"
      ]
     },
     "metadata": {},
     "output_type": "display_data"
    },
    {
     "data": {
      "application/vnd.jupyter.widget-view+json": {
       "model_id": "aa229499317243d7a5ea7d407ebb0bdc",
       "version_major": 2,
       "version_minor": 0
      },
      "text/plain": [
       "special_tokens_map.json:   0%|          | 0.00/112 [00:00<?, ?B/s]"
      ]
     },
     "metadata": {},
     "output_type": "display_data"
    },
    {
     "name": "stderr",
     "output_type": "stream",
     "text": [
      "/usr/local/lib/python3.10/dist-packages/transformers/tokenization_utils_base.py:1601: FutureWarning: `clean_up_tokenization_spaces` was not set. It will be set to `True` by default. This behavior will be depracted in transformers v4.45, and will be then set to `False` by default. For more details check this issue: https://github.com/huggingface/transformers/issues/31884\n",
      "  warnings.warn(\n"
     ]
    }
   ],
   "source": [
    "tokenizer = AutoTokenizer.from_pretrained(args.model)"
   ]
  },
  {
   "cell_type": "code",
   "execution_count": 13,
   "id": "0763bad0",
   "metadata": {
    "execution": {
     "iopub.execute_input": "2025-01-07T19:03:13.523537Z",
     "iopub.status.busy": "2025-01-07T19:03:13.523267Z",
     "iopub.status.idle": "2025-01-07T19:03:13.528167Z",
     "shell.execute_reply": "2025-01-07T19:03:13.527376Z"
    },
    "papermill": {
     "duration": 0.014701,
     "end_time": "2025-01-07T19:03:13.529441",
     "exception": false,
     "start_time": "2025-01-07T19:03:13.514740",
     "status": "completed"
    },
    "tags": []
   },
   "outputs": [
    {
     "data": {
      "text/plain": [
       "Dataset({\n",
       "    features: ['text', 'labels'],\n",
       "    num_rows: 307787\n",
       "})"
      ]
     },
     "execution_count": 13,
     "metadata": {},
     "output_type": "execute_result"
    }
   ],
   "source": [
    "train_dataset_raw"
   ]
  },
  {
   "cell_type": "code",
   "execution_count": 14,
   "id": "0a9583d5",
   "metadata": {
    "execution": {
     "iopub.execute_input": "2025-01-07T19:03:13.545150Z",
     "iopub.status.busy": "2025-01-07T19:03:13.544830Z",
     "iopub.status.idle": "2025-01-07T19:04:13.029896Z",
     "shell.execute_reply": "2025-01-07T19:04:13.029166Z"
    },
    "papermill": {
     "duration": 59.494389,
     "end_time": "2025-01-07T19:04:13.031250",
     "exception": false,
     "start_time": "2025-01-07T19:03:13.536861",
     "status": "completed"
    },
    "tags": []
   },
   "outputs": [
    {
     "data": {
      "application/vnd.jupyter.widget-view+json": {
       "model_id": "d0e1296183524030b3fcb45053a58884",
       "version_major": 2,
       "version_minor": 0
      },
      "text/plain": [
       "Map:   0%|          | 0/307787 [00:00<?, ? examples/s]"
      ]
     },
     "metadata": {},
     "output_type": "display_data"
    },
    {
     "data": {
      "application/vnd.jupyter.widget-view+json": {
       "model_id": "4fef314391654167b15b32d2fd7166fb",
       "version_major": 2,
       "version_minor": 0
      },
      "text/plain": [
       "Map:   0%|          | 0/76946 [00:00<?, ? examples/s]"
      ]
     },
     "metadata": {},
     "output_type": "display_data"
    }
   ],
   "source": [
    "train_dataset = train_dataset_raw.map(tokenize_fn, batched=True)\n",
    "valid_dataset = valid_dataset_raw.map(tokenize_fn, batched=True)\n",
    "\n",
    "data_collator = DataCollatorWithPadding(tokenizer)"
   ]
  },
  {
   "cell_type": "code",
   "execution_count": 15,
   "id": "78909dbf",
   "metadata": {
    "execution": {
     "iopub.execute_input": "2025-01-07T19:04:13.048143Z",
     "iopub.status.busy": "2025-01-07T19:04:13.047914Z",
     "iopub.status.idle": "2025-01-07T19:04:17.237846Z",
     "shell.execute_reply": "2025-01-07T19:04:17.236677Z"
    },
    "papermill": {
     "duration": 4.199779,
     "end_time": "2025-01-07T19:04:17.239437",
     "exception": false,
     "start_time": "2025-01-07T19:04:13.039658",
     "status": "completed"
    },
    "tags": []
   },
   "outputs": [
    {
     "data": {
      "application/vnd.jupyter.widget-view+json": {
       "model_id": "29da7385672647378ab44f4323dcf507",
       "version_major": 2,
       "version_minor": 0
      },
      "text/plain": [
       "pytorch_model.bin:   0%|          | 0.00/438M [00:00<?, ?B/s]"
      ]
     },
     "metadata": {},
     "output_type": "display_data"
    },
    {
     "name": "stderr",
     "output_type": "stream",
     "text": [
      "Some weights of BertForSequenceClassification were not initialized from the model checkpoint at ProsusAI/finbert and are newly initialized because the shapes did not match:\n",
      "- classifier.weight: found shape torch.Size([3, 768]) in the checkpoint and torch.Size([2, 768]) in the model instantiated\n",
      "- classifier.bias: found shape torch.Size([3]) in the checkpoint and torch.Size([2]) in the model instantiated\n",
      "You should probably TRAIN this model on a down-stream task to be able to use it for predictions and inference.\n"
     ]
    },
    {
     "data": {
      "text/plain": [
       "tensor([0., 0.])"
      ]
     },
     "execution_count": 15,
     "metadata": {},
     "output_type": "execute_result"
    }
   ],
   "source": [
    "from torch.nn.init import xavier_uniform_\n",
    "model = AutoModelForSequenceClassification.from_pretrained(args.model,num_labels=2,ignore_mismatched_sizes=True)\n",
    "\n",
    "\n",
    "# Reinitialize the classification layer\n",
    "xavier_uniform_(model.classifier.weight)\n",
    "model.classifier.bias.data.zero_()"
   ]
  },
  {
   "cell_type": "code",
   "execution_count": 16,
   "id": "5cb45fb1",
   "metadata": {
    "execution": {
     "iopub.execute_input": "2025-01-07T19:04:17.260586Z",
     "iopub.status.busy": "2025-01-07T19:04:17.260227Z",
     "iopub.status.idle": "2025-01-07T19:04:17.265580Z",
     "shell.execute_reply": "2025-01-07T19:04:17.264619Z"
    },
    "papermill": {
     "duration": 0.016402,
     "end_time": "2025-01-07T19:04:17.267586",
     "exception": false,
     "start_time": "2025-01-07T19:04:17.251184",
     "status": "completed"
    },
    "tags": []
   },
   "outputs": [],
   "source": [
    "from sklearn.metrics import accuracy_score\n",
    "\n",
    "def compute_metrics(eval_preds):\n",
    "    logits, labels = eval_preds\n",
    "    preds = np.argmax(logits, axis=-1)\n",
    "    return {'accuracy': accuracy_score(labels, preds)}"
   ]
  },
  {
   "cell_type": "code",
   "execution_count": 17,
   "id": "1872e371",
   "metadata": {
    "execution": {
     "iopub.execute_input": "2025-01-07T19:04:17.290871Z",
     "iopub.status.busy": "2025-01-07T19:04:17.290459Z",
     "iopub.status.idle": "2025-01-07T19:04:17.452579Z",
     "shell.execute_reply": "2025-01-07T19:04:17.451894Z"
    },
    "papermill": {
     "duration": 0.174291,
     "end_time": "2025-01-07T19:04:17.453770",
     "exception": false,
     "start_time": "2025-01-07T19:04:17.279479",
     "status": "completed"
    },
    "tags": []
   },
   "outputs": [
    {
     "name": "stderr",
     "output_type": "stream",
     "text": [
      "Using the `WANDB_DISABLED` environment variable is deprecated and will be removed in v5. Use the --report_to flag to control the integrations used for logging result (for instance --report_to none).\n"
     ]
    }
   ],
   "source": [
    "train_args = TrainingArguments(\n",
    "    './Finbert Trained/',\n",
    "    per_device_train_batch_size=16,\n",
    "    per_device_eval_batch_size=2*16,\n",
    "    num_train_epochs=5,\n",
    "    learning_rate=1e-5,\n",
    "    weight_decay=0.01,\n",
    "    warmup_ratio=0.1,    \n",
    "    do_eval=True,\n",
    "    do_train=True,\n",
    "    do_predict=True,\n",
    "    eval_strategy='epoch',\n",
    "    save_strategy=\"no\",\n",
    ")"
   ]
  },
  {
   "cell_type": "code",
   "execution_count": 18,
   "id": "3b56fef8",
   "metadata": {
    "execution": {
     "iopub.execute_input": "2025-01-07T19:04:17.471092Z",
     "iopub.status.busy": "2025-01-07T19:04:17.470866Z",
     "iopub.status.idle": "2025-01-07T19:04:17.916122Z",
     "shell.execute_reply": "2025-01-07T19:04:17.915355Z"
    },
    "papermill": {
     "duration": 0.455474,
     "end_time": "2025-01-07T19:04:17.917594",
     "exception": false,
     "start_time": "2025-01-07T19:04:17.462120",
     "status": "completed"
    },
    "tags": []
   },
   "outputs": [],
   "source": [
    "trainer = Trainer(\n",
    "    model,\n",
    "    train_args,\n",
    "    train_dataset=train_dataset,\n",
    "    eval_dataset=valid_dataset,\n",
    "    data_collator=data_collator,\n",
    "    tokenizer=tokenizer,\n",
    "    compute_metrics=compute_metrics,\n",
    ")"
   ]
  },
  {
   "cell_type": "code",
   "execution_count": 19,
   "id": "fce9f3a6",
   "metadata": {
    "execution": {
     "iopub.execute_input": "2025-01-07T19:04:17.934759Z",
     "iopub.status.busy": "2025-01-07T19:04:17.934534Z",
     "iopub.status.idle": "2025-01-08T00:13:07.702927Z",
     "shell.execute_reply": "2025-01-08T00:13:07.701868Z"
    },
    "papermill": {
     "duration": 18529.778535,
     "end_time": "2025-01-08T00:13:07.704540",
     "exception": false,
     "start_time": "2025-01-07T19:04:17.926005",
     "status": "completed"
    },
    "tags": []
   },
   "outputs": [
    {
     "name": "stderr",
     "output_type": "stream",
     "text": [
      "/usr/local/lib/python3.10/dist-packages/torch/nn/parallel/_functions.py:68: UserWarning: Was asked to gather along dimension 0, but all input tensors were scalars; will instead unsqueeze and return a vector.\n",
      "  warnings.warn('Was asked to gather along dimension 0, but all '\n"
     ]
    },
    {
     "data": {
      "text/html": [
       "\n",
       "    <div>\n",
       "      \n",
       "      <progress value='48095' max='48095' style='width:300px; height:20px; vertical-align: middle;'></progress>\n",
       "      [48095/48095 5:08:46, Epoch 5/5]\n",
       "    </div>\n",
       "    <table border=\"1\" class=\"dataframe\">\n",
       "  <thead>\n",
       " <tr style=\"text-align: left;\">\n",
       "      <th>Epoch</th>\n",
       "      <th>Training Loss</th>\n",
       "      <th>Validation Loss</th>\n",
       "      <th>Accuracy</th>\n",
       "    </tr>\n",
       "  </thead>\n",
       "  <tbody>\n",
       "    <tr>\n",
       "      <td>1</td>\n",
       "      <td>0.066000</td>\n",
       "      <td>0.072285</td>\n",
       "      <td>0.970070</td>\n",
       "    </tr>\n",
       "    <tr>\n",
       "      <td>2</td>\n",
       "      <td>0.051400</td>\n",
       "      <td>0.070103</td>\n",
       "      <td>0.973124</td>\n",
       "    </tr>\n",
       "    <tr>\n",
       "      <td>3</td>\n",
       "      <td>0.028600</td>\n",
       "      <td>0.089130</td>\n",
       "      <td>0.974242</td>\n",
       "    </tr>\n",
       "    <tr>\n",
       "      <td>4</td>\n",
       "      <td>0.014600</td>\n",
       "      <td>0.128894</td>\n",
       "      <td>0.973072</td>\n",
       "    </tr>\n",
       "    <tr>\n",
       "      <td>5</td>\n",
       "      <td>0.009200</td>\n",
       "      <td>0.162156</td>\n",
       "      <td>0.974554</td>\n",
       "    </tr>\n",
       "  </tbody>\n",
       "</table><p>"
      ],
      "text/plain": [
       "<IPython.core.display.HTML object>"
      ]
     },
     "metadata": {},
     "output_type": "display_data"
    },
    {
     "name": "stderr",
     "output_type": "stream",
     "text": [
      "/usr/local/lib/python3.10/dist-packages/torch/nn/parallel/_functions.py:68: UserWarning: Was asked to gather along dimension 0, but all input tensors were scalars; will instead unsqueeze and return a vector.\n",
      "  warnings.warn('Was asked to gather along dimension 0, but all '\n",
      "/usr/local/lib/python3.10/dist-packages/torch/nn/parallel/_functions.py:68: UserWarning: Was asked to gather along dimension 0, but all input tensors were scalars; will instead unsqueeze and return a vector.\n",
      "  warnings.warn('Was asked to gather along dimension 0, but all '\n",
      "/usr/local/lib/python3.10/dist-packages/torch/nn/parallel/_functions.py:68: UserWarning: Was asked to gather along dimension 0, but all input tensors were scalars; will instead unsqueeze and return a vector.\n",
      "  warnings.warn('Was asked to gather along dimension 0, but all '\n",
      "/usr/local/lib/python3.10/dist-packages/torch/nn/parallel/_functions.py:68: UserWarning: Was asked to gather along dimension 0, but all input tensors were scalars; will instead unsqueeze and return a vector.\n",
      "  warnings.warn('Was asked to gather along dimension 0, but all '\n"
     ]
    },
    {
     "data": {
      "text/plain": [
       "TrainOutput(global_step=48095, training_loss=0.04481345879237188, metrics={'train_runtime': 18528.5769, 'train_samples_per_second': 83.057, 'train_steps_per_second': 2.596, 'total_flos': 6.261622037101669e+16, 'train_loss': 0.04481345879237188, 'epoch': 5.0})"
      ]
     },
     "execution_count": 19,
     "metadata": {},
     "output_type": "execute_result"
    }
   ],
   "source": [
    "trainer.train()"
   ]
  },
  {
   "cell_type": "code",
   "execution_count": 20,
   "id": "7fb7504e",
   "metadata": {
    "execution": {
     "iopub.execute_input": "2025-01-08T00:13:07.725874Z",
     "iopub.status.busy": "2025-01-08T00:13:07.725486Z",
     "iopub.status.idle": "2025-01-08T00:13:08.616699Z",
     "shell.execute_reply": "2025-01-08T00:13:08.615683Z"
    },
    "papermill": {
     "duration": 0.90393,
     "end_time": "2025-01-08T00:13:08.618504",
     "exception": false,
     "start_time": "2025-01-08T00:13:07.714574",
     "status": "completed"
    },
    "tags": []
   },
   "outputs": [],
   "source": [
    "trainer.save_model('finbert_finetuned.bin')"
   ]
  },
  {
   "cell_type": "code",
   "execution_count": 21,
   "id": "5a6d5488",
   "metadata": {
    "execution": {
     "iopub.execute_input": "2025-01-08T00:13:08.638125Z",
     "iopub.status.busy": "2025-01-08T00:13:08.637828Z",
     "iopub.status.idle": "2025-01-08T00:13:21.571499Z",
     "shell.execute_reply": "2025-01-08T00:13:21.570497Z"
    },
    "papermill": {
     "duration": 12.9449,
     "end_time": "2025-01-08T00:13:21.573032",
     "exception": false,
     "start_time": "2025-01-08T00:13:08.628132",
     "status": "completed"
    },
    "tags": []
   },
   "outputs": [
    {
     "data": {
      "application/vnd.jupyter.widget-view+json": {
       "model_id": "a778e8d521ba4299b1f7c54f1e6e2163",
       "version_major": 2,
       "version_minor": 0
      },
      "text/plain": [
       "Map:   0%|          | 0/42749 [00:00<?, ? examples/s]"
      ]
     },
     "metadata": {},
     "output_type": "display_data"
    }
   ],
   "source": [
    "pred_dataset = pred_dataset_raw.map(tokenize_fn, batched=False)"
   ]
  },
  {
   "cell_type": "code",
   "execution_count": 22,
   "id": "de2472fa",
   "metadata": {
    "execution": {
     "iopub.execute_input": "2025-01-08T00:13:21.593499Z",
     "iopub.status.busy": "2025-01-08T00:13:21.593237Z",
     "iopub.status.idle": "2025-01-08T00:13:21.599660Z",
     "shell.execute_reply": "2025-01-08T00:13:21.598812Z"
    },
    "papermill": {
     "duration": 0.018095,
     "end_time": "2025-01-08T00:13:21.601158",
     "exception": false,
     "start_time": "2025-01-08T00:13:21.583063",
     "status": "completed"
    },
    "tags": []
   },
   "outputs": [
    {
     "data": {
      "text/plain": [
       "56"
      ]
     },
     "execution_count": 22,
     "metadata": {},
     "output_type": "execute_result"
    }
   ],
   "source": [
    "len(pred_dataset[0]['input_ids'])"
   ]
  },
  {
   "cell_type": "code",
   "execution_count": 23,
   "id": "8d70abf2",
   "metadata": {
    "execution": {
     "iopub.execute_input": "2025-01-08T00:13:21.626921Z",
     "iopub.status.busy": "2025-01-08T00:13:21.626599Z",
     "iopub.status.idle": "2025-01-08T00:15:28.635405Z",
     "shell.execute_reply": "2025-01-08T00:15:28.634609Z"
    },
    "papermill": {
     "duration": 127.020109,
     "end_time": "2025-01-08T00:15:28.636793",
     "exception": false,
     "start_time": "2025-01-08T00:13:21.616684",
     "status": "completed"
    },
    "tags": []
   },
   "outputs": [
    {
     "data": {
      "text/html": [],
      "text/plain": [
       "<IPython.core.display.HTML object>"
      ]
     },
     "metadata": {},
     "output_type": "display_data"
    }
   ],
   "source": [
    "output = trainer.predict(\n",
    "    test_dataset=pred_dataset,\n",
    ")"
   ]
  },
  {
   "cell_type": "code",
   "execution_count": 24,
   "id": "ae85e05b",
   "metadata": {
    "execution": {
     "iopub.execute_input": "2025-01-08T00:15:28.657412Z",
     "iopub.status.busy": "2025-01-08T00:15:28.657138Z",
     "iopub.status.idle": "2025-01-08T00:15:28.662680Z",
     "shell.execute_reply": "2025-01-08T00:15:28.661716Z"
    },
    "papermill": {
     "duration": 0.01771,
     "end_time": "2025-01-08T00:15:28.664215",
     "exception": false,
     "start_time": "2025-01-08T00:15:28.646505",
     "status": "completed"
    },
    "tags": []
   },
   "outputs": [
    {
     "data": {
      "text/plain": [
       "array([[-7.1901965,  7.9286437],\n",
       "       [-7.146272 ,  8.063237 ],\n",
       "       [-7.2060237,  7.8526754],\n",
       "       ...,\n",
       "       [ 6.8941875, -8.271556 ],\n",
       "       [-7.138821 ,  8.072662 ],\n",
       "       [-3.2037811,  4.9615793]], dtype=float32)"
      ]
     },
     "execution_count": 24,
     "metadata": {},
     "output_type": "execute_result"
    }
   ],
   "source": [
    "output.predictions"
   ]
  },
  {
   "cell_type": "code",
   "execution_count": 25,
   "id": "dd19b080",
   "metadata": {
    "execution": {
     "iopub.execute_input": "2025-01-08T00:15:28.685442Z",
     "iopub.status.busy": "2025-01-08T00:15:28.685178Z",
     "iopub.status.idle": "2025-01-08T00:15:28.760539Z",
     "shell.execute_reply": "2025-01-08T00:15:28.759702Z"
    },
    "papermill": {
     "duration": 0.087888,
     "end_time": "2025-01-08T00:15:28.762251",
     "exception": false,
     "start_time": "2025-01-08T00:15:28.674363",
     "status": "completed"
    },
    "tags": []
   },
   "outputs": [],
   "source": [
    "preds = [np.argmax(x) for x in output.predictions]"
   ]
  },
  {
   "cell_type": "code",
   "execution_count": 26,
   "id": "fd0ee8de",
   "metadata": {
    "execution": {
     "iopub.execute_input": "2025-01-08T00:15:28.783632Z",
     "iopub.status.busy": "2025-01-08T00:15:28.783337Z",
     "iopub.status.idle": "2025-01-08T00:15:29.374846Z",
     "shell.execute_reply": "2025-01-08T00:15:29.373845Z"
    },
    "papermill": {
     "duration": 0.60319,
     "end_time": "2025-01-08T00:15:29.376385",
     "exception": false,
     "start_time": "2025-01-08T00:15:28.773195",
     "status": "completed"
    },
    "tags": []
   },
   "outputs": [
    {
     "data": {
      "image/png": "[encoded data removed]",
      "text/plain": [
       "<Figure size 800x600 with 2 Axes>"
      ]
     },
     "metadata": {},
     "output_type": "display_data"
    }
   ],
   "source": [
    "\n",
    "from sklearn.metrics import confusion_matrix, accuracy_score\n",
    "import seaborn as sns\n",
    "import matplotlib.pyplot as plt\n",
    "\n",
    "cm = confusion_matrix(y_test, preds)\n",
    "\n",
    "# Define class labels\n",
    "labels = [0, 1]\n",
    "\n",
    "# Create a heatmap\n",
    "plt.figure(figsize=(8, 6))\n",
    "sns.heatmap(cm, annot=True, fmt='d', cmap='Blues',\n",
    "            xticklabels=labels, yticklabels=labels)\n",
    "\n",
    "# Add labels and title\n",
    "plt.xlabel('Predicted Labels')\n",
    "plt.ylabel('True Labels')\n",
    "plt.title('Confusion Matrix Heatmap')\n",
    "\n",
    "# Display the plot\n",
    "plt.show()"
   ]
  },
  {
   "cell_type": "code",
   "execution_count": 27,
   "id": "e97e29a8",
   "metadata": {
    "execution": {
     "iopub.execute_input": "2025-01-08T00:15:29.399751Z",
     "iopub.status.busy": "2025-01-08T00:15:29.399123Z",
     "iopub.status.idle": "2025-01-08T00:15:29.414159Z",
     "shell.execute_reply": "2025-01-08T00:15:29.413142Z"
    },
    "papermill": {
     "duration": 0.028092,
     "end_time": "2025-01-08T00:15:29.415646",
     "exception": false,
     "start_time": "2025-01-08T00:15:29.387554",
     "status": "completed"
    },
    "tags": []
   },
   "outputs": [
    {
     "data": {
      "text/plain": [
       "0.9729584317761819"
      ]
     },
     "execution_count": 27,
     "metadata": {},
     "output_type": "execute_result"
    }
   ],
   "source": [
    "accuracy_score(y_test, preds)"
   ]
  },
  {
   "cell_type": "code",
   "execution_count": 28,
   "id": "1f0f03d6",
   "metadata": {
    "execution": {
     "iopub.execute_input": "2025-01-08T00:15:29.438138Z",
     "iopub.status.busy": "2025-01-08T00:15:29.437775Z",
     "iopub.status.idle": "2025-01-08T00:15:29.471288Z",
     "shell.execute_reply": "2025-01-08T00:15:29.470193Z"
    },
    "papermill": {
     "duration": 0.046519,
     "end_time": "2025-01-08T00:15:29.472787",
     "exception": false,
     "start_time": "2025-01-08T00:15:29.426268",
     "status": "completed"
    },
    "tags": []
   },
   "outputs": [
    {
     "name": "stdout",
     "output_type": "stream",
     "text": [
      "              precision    recall  f1-score   support\n",
      "\n",
      "           0       0.98      0.97      0.97     22265\n",
      "           1       0.97      0.98      0.97     20484\n",
      "\n",
      "    accuracy                           0.97     42749\n",
      "   macro avg       0.97      0.97      0.97     42749\n",
      "weighted avg       0.97      0.97      0.97     42749\n",
      "\n"
     ]
    }
   ],
   "source": [
    "from sklearn.metrics import classification_report\n",
    "print(classification_report(y_test, preds))"
   ]
  },
  {
   "cell_type": "code",
   "execution_count": 29,
   "id": "98efed24",
   "metadata": {
    "execution": {
     "iopub.execute_input": "2025-01-08T00:15:29.495021Z",
     "iopub.status.busy": "2025-01-08T00:15:29.494719Z",
     "iopub.status.idle": "2025-01-08T00:15:29.540854Z",
     "shell.execute_reply": "2025-01-08T00:15:29.540083Z"
    },
    "papermill": {
     "duration": 0.058866,
     "end_time": "2025-01-08T00:15:29.542540",
     "exception": false,
     "start_time": "2025-01-08T00:15:29.483674",
     "status": "completed"
    },
    "tags": []
   },
   "outputs": [],
   "source": [
    "news = pd.read_csv('/kaggle/input/sentiment-analysis-for-financial-news/all-data.csv',names= ['Sentiment','Sentence'],encoding='ISO-8859-1')"
   ]
  },
  {
   "cell_type": "code",
   "execution_count": 30,
   "id": "8a790663",
   "metadata": {
    "execution": {
     "iopub.execute_input": "2025-01-08T00:15:29.565836Z",
     "iopub.status.busy": "2025-01-08T00:15:29.565526Z",
     "iopub.status.idle": "2025-01-08T00:15:29.581549Z",
     "shell.execute_reply": "2025-01-08T00:15:29.580586Z"
    },
    "papermill": {
     "duration": 0.029072,
     "end_time": "2025-01-08T00:15:29.582981",
     "exception": false,
     "start_time": "2025-01-08T00:15:29.553909",
     "status": "completed"
    },
    "tags": []
   },
   "outputs": [
    {
     "data": {
      "text/html": [
       "<div>\n",
       "<style scoped>\n",
       "    .dataframe tbody tr th:only-of-type {\n",
       "        vertical-align: middle;\n",
       "    }\n",
       "\n",
       "    .dataframe tbody tr th {\n",
       "        vertical-align: top;\n",
       "    }\n",
       "\n",
       "    .dataframe thead th {\n",
       "        text-align: right;\n",
       "    }\n",
       "</style>\n",
       "<table border=\"1\" class=\"dataframe\">\n",
       "  <thead>\n",
       "    <tr style=\"text-align: right;\">\n",
       "      <th></th>\n",
       "      <th>Sentiment</th>\n",
       "      <th>Sentence</th>\n",
       "    </tr>\n",
       "  </thead>\n",
       "  <tbody>\n",
       "    <tr>\n",
       "      <th>0</th>\n",
       "      <td>neutral</td>\n",
       "      <td>According to Gran , the company has no plans t...</td>\n",
       "    </tr>\n",
       "    <tr>\n",
       "      <th>1</th>\n",
       "      <td>neutral</td>\n",
       "      <td>Technopolis plans to develop in stages an area...</td>\n",
       "    </tr>\n",
       "    <tr>\n",
       "      <th>2</th>\n",
       "      <td>negative</td>\n",
       "      <td>The international electronic industry company ...</td>\n",
       "    </tr>\n",
       "    <tr>\n",
       "      <th>3</th>\n",
       "      <td>positive</td>\n",
       "      <td>With the new production plant the company woul...</td>\n",
       "    </tr>\n",
       "    <tr>\n",
       "      <th>4</th>\n",
       "      <td>positive</td>\n",
       "      <td>According to the company 's updated strategy f...</td>\n",
       "    </tr>\n",
       "    <tr>\n",
       "      <th>...</th>\n",
       "      <td>...</td>\n",
       "      <td>...</td>\n",
       "    </tr>\n",
       "    <tr>\n",
       "      <th>4841</th>\n",
       "      <td>negative</td>\n",
       "      <td>LONDON MarketWatch -- Share prices ended lower...</td>\n",
       "    </tr>\n",
       "    <tr>\n",
       "      <th>4842</th>\n",
       "      <td>neutral</td>\n",
       "      <td>Rinkuskiai 's beer sales fell by 6.5 per cent ...</td>\n",
       "    </tr>\n",
       "    <tr>\n",
       "      <th>4843</th>\n",
       "      <td>negative</td>\n",
       "      <td>Operating profit fell to EUR 35.4 mn from EUR ...</td>\n",
       "    </tr>\n",
       "    <tr>\n",
       "      <th>4844</th>\n",
       "      <td>negative</td>\n",
       "      <td>Net sales of the Paper segment decreased to EU...</td>\n",
       "    </tr>\n",
       "    <tr>\n",
       "      <th>4845</th>\n",
       "      <td>negative</td>\n",
       "      <td>Sales in Finland decreased by 10.5 % in Januar...</td>\n",
       "    </tr>\n",
       "  </tbody>\n",
       "</table>\n",
       "<p>4846 rows × 2 columns</p>\n",
       "</div>"
      ],
      "text/plain": [
       "     Sentiment                                           Sentence\n",
       "0      neutral  According to Gran , the company has no plans t...\n",
       "1      neutral  Technopolis plans to develop in stages an area...\n",
       "2     negative  The international electronic industry company ...\n",
       "3     positive  With the new production plant the company woul...\n",
       "4     positive  According to the company 's updated strategy f...\n",
       "...        ...                                                ...\n",
       "4841  negative  LONDON MarketWatch -- Share prices ended lower...\n",
       "4842   neutral  Rinkuskiai 's beer sales fell by 6.5 per cent ...\n",
       "4843  negative  Operating profit fell to EUR 35.4 mn from EUR ...\n",
       "4844  negative  Net sales of the Paper segment decreased to EU...\n",
       "4845  negative  Sales in Finland decreased by 10.5 % in Januar...\n",
       "\n",
       "[4846 rows x 2 columns]"
      ]
     },
     "execution_count": 30,
     "metadata": {},
     "output_type": "execute_result"
    }
   ],
   "source": [
    "news"
   ]
  },
  {
   "cell_type": "code",
   "execution_count": 31,
   "id": "9402b624",
   "metadata": {
    "execution": {
     "iopub.execute_input": "2025-01-08T00:15:29.605464Z",
     "iopub.status.busy": "2025-01-08T00:15:29.605212Z",
     "iopub.status.idle": "2025-01-08T00:15:29.608760Z",
     "shell.execute_reply": "2025-01-08T00:15:29.608058Z"
    },
    "papermill": {
     "duration": 0.016021,
     "end_time": "2025-01-08T00:15:29.610178",
     "exception": false,
     "start_time": "2025-01-08T00:15:29.594157",
     "status": "completed"
    },
    "tags": []
   },
   "outputs": [],
   "source": [
    "x_test, Y_test = news['Sentence'].values, news['Sentiment'].values"
   ]
  },
  {
   "cell_type": "code",
   "execution_count": 32,
   "id": "75092f81",
   "metadata": {
    "execution": {
     "iopub.execute_input": "2025-01-08T00:15:29.632536Z",
     "iopub.status.busy": "2025-01-08T00:15:29.632290Z",
     "iopub.status.idle": "2025-01-08T00:15:29.636560Z",
     "shell.execute_reply": "2025-01-08T00:15:29.635865Z"
    },
    "papermill": {
     "duration": 0.016817,
     "end_time": "2025-01-08T00:15:29.637815",
     "exception": false,
     "start_time": "2025-01-08T00:15:29.620998",
     "status": "completed"
    },
    "tags": []
   },
   "outputs": [],
   "source": [
    "le = LabelEncoder()\n",
    "Y_test = le.fit_transform(Y_test)"
   ]
  },
  {
   "cell_type": "code",
   "execution_count": 33,
   "id": "15b80459",
   "metadata": {
    "execution": {
     "iopub.execute_input": "2025-01-08T00:15:29.660075Z",
     "iopub.status.busy": "2025-01-08T00:15:29.659787Z",
     "iopub.status.idle": "2025-01-08T00:15:29.665137Z",
     "shell.execute_reply": "2025-01-08T00:15:29.664190Z"
    },
    "papermill": {
     "duration": 0.018189,
     "end_time": "2025-01-08T00:15:29.666608",
     "exception": false,
     "start_time": "2025-01-08T00:15:29.648419",
     "status": "completed"
    },
    "tags": []
   },
   "outputs": [
    {
     "data": {
      "text/plain": [
       "array([0, 1, 2])"
      ]
     },
     "execution_count": 33,
     "metadata": {},
     "output_type": "execute_result"
    }
   ],
   "source": [
    "np.unique(Y_test)"
   ]
  },
  {
   "cell_type": "code",
   "execution_count": 34,
   "id": "34edebfe",
   "metadata": {
    "execution": {
     "iopub.execute_input": "2025-01-08T00:15:29.691471Z",
     "iopub.status.busy": "2025-01-08T00:15:29.691146Z",
     "iopub.status.idle": "2025-01-08T00:15:29.703005Z",
     "shell.execute_reply": "2025-01-08T00:15:29.702184Z"
    },
    "papermill": {
     "duration": 0.025653,
     "end_time": "2025-01-08T00:15:29.704480",
     "exception": false,
     "start_time": "2025-01-08T00:15:29.678827",
     "status": "completed"
    },
    "tags": []
   },
   "outputs": [
    {
     "data": {
      "text/plain": [
       "Dataset({\n",
       "    features: ['text'],\n",
       "    num_rows: 4846\n",
       "})"
      ]
     },
     "execution_count": 34,
     "metadata": {},
     "output_type": "execute_result"
    }
   ],
   "source": [
    "test_dataset_raw = Dataset.from_dict({'text': x_test})\n",
    "test_dataset_raw"
   ]
  },
  {
   "cell_type": "code",
   "execution_count": 35,
   "id": "366a9183",
   "metadata": {
    "execution": {
     "iopub.execute_input": "2025-01-08T00:15:29.729182Z",
     "iopub.status.busy": "2025-01-08T00:15:29.728767Z",
     "iopub.status.idle": "2025-01-08T00:15:31.005430Z",
     "shell.execute_reply": "2025-01-08T00:15:31.004470Z"
    },
    "papermill": {
     "duration": 1.29084,
     "end_time": "2025-01-08T00:15:31.006986",
     "exception": false,
     "start_time": "2025-01-08T00:15:29.716146",
     "status": "completed"
    },
    "tags": []
   },
   "outputs": [
    {
     "data": {
      "application/vnd.jupyter.widget-view+json": {
       "model_id": "632ea8b565c94d1c992c5b502db6c011",
       "version_major": 2,
       "version_minor": 0
      },
      "text/plain": [
       "Map:   0%|          | 0/4846 [00:00<?, ? examples/s]"
      ]
     },
     "metadata": {},
     "output_type": "display_data"
    }
   ],
   "source": [
    "test_dataset = test_dataset_raw.map(tokenize_fn, batched=False)"
   ]
  },
  {
   "cell_type": "code",
   "execution_count": 36,
   "id": "85d44298",
   "metadata": {
    "execution": {
     "iopub.execute_input": "2025-01-08T00:15:31.031584Z",
     "iopub.status.busy": "2025-01-08T00:15:31.031283Z",
     "iopub.status.idle": "2025-01-08T00:15:44.548964Z",
     "shell.execute_reply": "2025-01-08T00:15:44.547972Z"
    },
    "papermill": {
     "duration": 13.530559,
     "end_time": "2025-01-08T00:15:44.550536",
     "exception": false,
     "start_time": "2025-01-08T00:15:31.019977",
     "status": "completed"
    },
    "tags": []
   },
   "outputs": [
    {
     "data": {
      "text/html": [],
      "text/plain": [
       "<IPython.core.display.HTML object>"
      ]
     },
     "metadata": {},
     "output_type": "display_data"
    }
   ],
   "source": [
    "output = trainer.predict(\n",
    "    test_dataset=test_dataset,\n",
    ")"
   ]
  },
  {
   "cell_type": "code",
   "execution_count": 37,
   "id": "2a38f1c7",
   "metadata": {
    "execution": {
     "iopub.execute_input": "2025-01-08T00:15:44.574881Z",
     "iopub.status.busy": "2025-01-08T00:15:44.574527Z",
     "iopub.status.idle": "2025-01-08T00:15:44.589746Z",
     "shell.execute_reply": "2025-01-08T00:15:44.588781Z"
    },
    "papermill": {
     "duration": 0.029203,
     "end_time": "2025-01-08T00:15:44.591467",
     "exception": false,
     "start_time": "2025-01-08T00:15:44.562264",
     "status": "completed"
    },
    "tags": []
   },
   "outputs": [],
   "source": [
    "preds = [np.argmax(x) for x in output.predictions]"
   ]
  },
  {
   "cell_type": "code",
   "execution_count": 38,
   "id": "c04955d1",
   "metadata": {
    "execution": {
     "iopub.execute_input": "2025-01-08T00:15:44.616435Z",
     "iopub.status.busy": "2025-01-08T00:15:44.616077Z",
     "iopub.status.idle": "2025-01-08T00:15:44.622172Z",
     "shell.execute_reply": "2025-01-08T00:15:44.621229Z"
    },
    "papermill": {
     "duration": 0.020326,
     "end_time": "2025-01-08T00:15:44.623917",
     "exception": false,
     "start_time": "2025-01-08T00:15:44.603591",
     "status": "completed"
    },
    "tags": []
   },
   "outputs": [
    {
     "data": {
      "text/plain": [
       "array([[ 1.1306946, -1.2269255],\n",
       "       [-2.1537461,  2.4970188],\n",
       "       [ 4.0509453, -4.716724 ],\n",
       "       ...,\n",
       "       [ 4.987737 , -5.526959 ],\n",
       "       [ 5.814077 , -6.639133 ],\n",
       "       [ 5.815946 , -6.4994617]], dtype=float32)"
      ]
     },
     "execution_count": 38,
     "metadata": {},
     "output_type": "execute_result"
    }
   ],
   "source": [
    "output.predictions"
   ]
  },
  {
   "cell_type": "code",
   "execution_count": 39,
   "id": "58118900",
   "metadata": {
    "execution": {
     "iopub.execute_input": "2025-01-08T00:15:44.647933Z",
     "iopub.status.busy": "2025-01-08T00:15:44.647612Z",
     "iopub.status.idle": "2025-01-08T00:15:44.653180Z",
     "shell.execute_reply": "2025-01-08T00:15:44.652372Z"
    },
    "papermill": {
     "duration": 0.018312,
     "end_time": "2025-01-08T00:15:44.654483",
     "exception": false,
     "start_time": "2025-01-08T00:15:44.636171",
     "status": "completed"
    },
    "tags": []
   },
   "outputs": [
    {
     "data": {
      "text/plain": [
       "array([0, 1])"
      ]
     },
     "execution_count": 39,
     "metadata": {},
     "output_type": "execute_result"
    }
   ],
   "source": [
    "np.unique(preds)"
   ]
  },
  {
   "cell_type": "code",
   "execution_count": 40,
   "id": "bad2437d",
   "metadata": {
    "execution": {
     "iopub.execute_input": "2025-01-08T00:15:44.677681Z",
     "iopub.status.busy": "2025-01-08T00:15:44.677444Z",
     "iopub.status.idle": "2025-01-08T00:15:44.682209Z",
     "shell.execute_reply": "2025-01-08T00:15:44.681302Z"
    },
    "papermill": {
     "duration": 0.017627,
     "end_time": "2025-01-08T00:15:44.683641",
     "exception": false,
     "start_time": "2025-01-08T00:15:44.666014",
     "status": "completed"
    },
    "tags": []
   },
   "outputs": [],
   "source": [
    "def transform(x):\n",
    "    if x == 2:\n",
    "        return 1\n",
    "    elif x == 1:\n",
    "        return 0\n",
    "    else:  # x == 0\n",
    "        return 0\n",
    "        \n",
    "vectorized_transform = np.vectorize(transform)\n",
    "Y_test = vectorized_transform(Y_test)"
   ]
  },
  {
   "cell_type": "code",
   "execution_count": 41,
   "id": "702627bc",
   "metadata": {
    "execution": {
     "iopub.execute_input": "2025-01-08T00:15:44.706966Z",
     "iopub.status.busy": "2025-01-08T00:15:44.706640Z",
     "iopub.status.idle": "2025-01-08T00:15:44.712648Z",
     "shell.execute_reply": "2025-01-08T00:15:44.711829Z"
    },
    "papermill": {
     "duration": 0.01913,
     "end_time": "2025-01-08T00:15:44.714185",
     "exception": false,
     "start_time": "2025-01-08T00:15:44.695055",
     "status": "completed"
    },
    "tags": []
   },
   "outputs": [
    {
     "data": {
      "text/plain": [
       "array([0, 1])"
      ]
     },
     "execution_count": 41,
     "metadata": {},
     "output_type": "execute_result"
    }
   ],
   "source": [
    "np.unique(Y_test)"
   ]
  },
  {
   "cell_type": "code",
   "execution_count": 42,
   "id": "08bf933b",
   "metadata": {
    "execution": {
     "iopub.execute_input": "2025-01-08T00:15:44.738608Z",
     "iopub.status.busy": "2025-01-08T00:15:44.738323Z",
     "iopub.status.idle": "2025-01-08T00:15:44.947519Z",
     "shell.execute_reply": "2025-01-08T00:15:44.946403Z"
    },
    "papermill": {
     "duration": 0.222459,
     "end_time": "2025-01-08T00:15:44.949152",
     "exception": false,
     "start_time": "2025-01-08T00:15:44.726693",
     "status": "completed"
    },
    "tags": []
   },
   "outputs": [
    {
     "data": {
      "image/png": "[encoded data removed]",
      "text/plain": [
       "<Figure size 800x600 with 2 Axes>"
      ]
     },
     "metadata": {},
     "output_type": "display_data"
    }
   ],
   "source": [
    "cm = confusion_matrix(Y_test, preds)\n",
    "\n",
    "# Define class labels\n",
    "labels = [0, 1]\n",
    "\n",
    "# Create a heatmap\n",
    "plt.figure(figsize=(8, 6))\n",
    "sns.heatmap(cm, annot=True, fmt='d', cmap='Blues',\n",
    "            xticklabels=labels, yticklabels=labels)\n",
    "\n",
    "# Add labels and title\n",
    "plt.xlabel('Predicted Labels')\n",
    "plt.ylabel('True Labels')\n",
    "plt.title('Confusion Matrix Heatmap')\n",
    "\n",
    "# Display the plot\n",
    "plt.show()"
   ]
  },
  {
   "cell_type": "code",
   "execution_count": 43,
   "id": "ba9fccfc",
   "metadata": {
    "execution": {
     "iopub.execute_input": "2025-01-08T00:15:44.973528Z",
     "iopub.status.busy": "2025-01-08T00:15:44.973274Z",
     "iopub.status.idle": "2025-01-08T00:15:44.980683Z",
     "shell.execute_reply": "2025-01-08T00:15:44.980012Z"
    },
    "papermill": {
     "duration": 0.021307,
     "end_time": "2025-01-08T00:15:44.982358",
     "exception": false,
     "start_time": "2025-01-08T00:15:44.961051",
     "status": "completed"
    },
    "tags": []
   },
   "outputs": [
    {
     "data": {
      "text/plain": [
       "0.5453982666116385"
      ]
     },
     "execution_count": 43,
     "metadata": {},
     "output_type": "execute_result"
    }
   ],
   "source": [
    "accuracy_score(Y_test, preds)"
   ]
  },
  {
   "cell_type": "code",
   "execution_count": 44,
   "id": "78971ae5",
   "metadata": {
    "execution": {
     "iopub.execute_input": "2025-01-08T00:15:45.009263Z",
     "iopub.status.busy": "2025-01-08T00:15:45.008966Z",
     "iopub.status.idle": "2025-01-08T00:15:45.029775Z",
     "shell.execute_reply": "2025-01-08T00:15:45.028915Z"
    },
    "papermill": {
     "duration": 0.035398,
     "end_time": "2025-01-08T00:15:45.031399",
     "exception": false,
     "start_time": "2025-01-08T00:15:44.996001",
     "status": "completed"
    },
    "tags": []
   },
   "outputs": [
    {
     "name": "stdout",
     "output_type": "stream",
     "text": [
      "              precision    recall  f1-score   support\n",
      "\n",
      "           0       0.84      0.45      0.59      3483\n",
      "           1       0.36      0.78      0.49      1363\n",
      "\n",
      "    accuracy                           0.55      4846\n",
      "   macro avg       0.60      0.62      0.54      4846\n",
      "weighted avg       0.70      0.55      0.56      4846\n",
      "\n"
     ]
    }
   ],
   "source": [
    "print(classification_report(Y_test, preds))"
   ]
  },
  {
   "cell_type": "code",
   "execution_count": null,
   "id": "7384ace3",
   "metadata": {
    "papermill": {
     "duration": 0.011808,
     "end_time": "2025-01-08T00:15:45.057376",
     "exception": false,
     "start_time": "2025-01-08T00:15:45.045568",
     "status": "completed"
    },
    "tags": []
   },
   "outputs": [],
   "source": []
  }
 ],
 "metadata": {
  "kaggle": {
   "accelerator": "nvidiaTeslaT4",
   "dataSources": [
    {
     "datasetId": 622510,
     "sourceId": 1192499,
     "sourceType": "datasetVersion"
    },
    {
     "datasetId": 5490281,
     "sourceId": 9097274,
     "sourceType": "datasetVersion"
    }
   ],
   "dockerImageVersionId": 30822,
   "isGpuEnabled": true,
   "isInternetEnabled": true,
   "language": "python",
   "sourceType": "notebook"
  },
  "kernelspec": {
   "display_name": "Python 3",
   "language": "python",
   "name": "python3"
  },
  "language_info": {
   "codemirror_mode": {
    "name": "ipython",
    "version": 3
   },
   "file_extension": ".py",
   "mimetype": "text/x-python",
   "name": "python",
   "nbconvert_exporter": "python",
   "pygments_lexer": "ipython3",
   "version": "3.10.12"
  },
  "papermill": {
   "default_parameters": {},
   "duration": 18787.638915,
   "end_time": "2025-01-08T00:15:48.281468",
   "environment_variables": {},
   "exception": null,
   "input_path": "__notebook__.ipynb",
   "output_path": "__notebook__.ipynb",
   "parameters": {},
   "start_time": "2025-01-07T19:02:40.642553",
   "version": "2.6.0"
  },
  "widgets": {
   "application/vnd.jupyter.widget-state+json": {
    "state": {
     "02a26425fd584ad0abba899c3fa68c40": {
      "model_module": "@jupyter-widgets/base",
      "model_module_version": "2.0.0",
      "model_name": "LayoutModel",
      "state": {
       "_model_module": "@jupyter-widgets/base",
       "_model_module_version": "2.0.0",
       "_model_name": "LayoutModel",
       "_view_count": null,
       "_view_module": "@jupyter-widgets/base",
       "_view_module_version": "2.0.0",
       "_view_name": "LayoutView",
       "align_content": null,
       "align_items": null,
       "align_self": null,
       "border_bottom": null,
       "border_left": null,
       "border_right": null,
       "border_top": null,
       "bottom": null,
       "display": null,
       "flex": null,
       "flex_flow": null,
       "grid_area": null,
       "grid_auto_columns": null,
       "grid_auto_flow": null,
       "grid_auto_rows": null,
       "grid_column": null,
       "grid_gap": null,
       "grid_row": null,
       "grid_template_areas": null,
       "grid_template_columns": null,
       "grid_template_rows": null,
       "height": null,
       "justify_content": null,
       "justify_items": null,
       "left": null,
       "margin": null,
       "max_height": null,
       "max_width": null,
       "min_height": null,
       "min_width": null,
       "object_fit": null,
       "object_position": null,
       "order": null,
       "overflow": null,
       "padding": null,
       "right": null,
       "top": null,
       "visibility": null,
       "width": null
      }
     },
     "06b6174e63c2499dbb78ee4c260c3ecf": {
      "model_module": "@jupyter-widgets/base",
      "model_module_version": "2.0.0",
      "model_name": "LayoutModel",
      "state": {
       "_model_module": "@jupyter-widgets/base",
       "_model_module_version": "2.0.0",
       "_model_name": "LayoutModel",
       "_view_count": null,
       "_view_module": "@jupyter-widgets/base",
       "_view_module_version": "2.0.0",
       "_view_name": "LayoutView",
       "align_content": null,
       "align_items": null,
       "align_self": null,
       "border_bottom": null,
       "border_left": null,
       "border_right": null,
       "border_top": null,
       "bottom": null,
       "display": null,
       "flex": null,
       "flex_flow": null,
       "grid_area": null,
       "grid_auto_columns": null,
       "grid_auto_flow": null,
       "grid_auto_rows": null,
       "grid_column": null,
       "grid_gap": null,
       "grid_row": null,
       "grid_template_areas": null,
       "grid_template_columns": null,
       "grid_template_rows": null,
       "height": null,
       "justify_content": null,
       "justify_items": null,
       "left": null,
       "margin": null,
       "max_height": null,
       "max_width": null,
       "min_height": null,
       "min_width": null,
       "object_fit": null,
       "object_position": null,
       "order": null,
       "overflow": null,
       "padding": null,
       "right": null,
       "top": null,
       "visibility": null,
       "width": null
      }
     },
     "071302533b6b4cedafe0e0760358f7dd": {
      "model_module": "@jupyter-widgets/controls",
      "model_module_version": "2.0.0",
      "model_name": "HTMLModel",
      "state": {
       "_dom_classes": [],
       "_model_module": "@jupyter-widgets/controls",
       "_model_module_version": "2.0.0",
       "_model_name": "HTMLModel",
       "_view_count": null,
       "_view_module": "@jupyter-widgets/controls",
       "_view_module_version": "2.0.0",
       "_view_name": "HTMLView",
       "description": "",
       "description_allow_html": false,
       "layout": "IPY_MODEL_f88c0b69182c4fc2afb2df7d987ec663",
       "placeholder": "​",
       "style": "IPY_MODEL_982a368cec4743a2b1ce10847cd25fa0",
       "tabbable": null,
       "tooltip": null,
       "value": " 76946/76946 [00:12&lt;00:00, 5600.93 examples/s]"
      }
     },
     "08cb6c55d9a6498a9d50a79b641c90cc": {
      "model_module": "@jupyter-widgets/controls",
      "model_module_version": "2.0.0",
      "model_name": "HTMLStyleModel",
      "state": {
       "_model_module": "@jupyter-widgets/controls",
       "_model_module_version": "2.0.0",
       "_model_name": "HTMLStyleModel",
       "_view_count": null,
       "_view_module": "@jupyter-widgets/base",
       "_view_module_version": "2.0.0",
       "_view_name": "StyleView",
       "background": null,
       "description_width": "",
       "font_size": null,
       "text_color": null
      }
     },
     "0a71b5b394e142dd8b801dbfdd7c7d44": {
      "model_module": "@jupyter-widgets/controls",
      "model_module_version": "2.0.0",
      "model_name": "ProgressStyleModel",
      "state": {
       "_model_module": "@jupyter-widgets/controls",
       "_model_module_version": "2.0.0",
       "_model_name": "ProgressStyleModel",
       "_view_count": null,
       "_view_module": "@jupyter-widgets/base",
       "_view_module_version": "2.0.0",
       "_view_name": "StyleView",
       "bar_color": null,
       "description_width": ""
      }
     },
     "0a7f07e9f3cc443f93c765c366ad547d": {
      "model_module": "@jupyter-widgets/controls",
      "model_module_version": "2.0.0",
      "model_name": "HBoxModel",
      "state": {
       "_dom_classes": [],
       "_model_module": "@jupyter-widgets/controls",
       "_model_module_version": "2.0.0",
       "_model_name": "HBoxModel",
       "_view_count": null,
       "_view_module": "@jupyter-widgets/controls",
       "_view_module_version": "2.0.0",
       "_view_name": "HBoxView",
       "box_style": "",
       "children": [
        "IPY_MODEL_5fe1a3c86bfe49acb4547d7a735851ce",
        "IPY_MODEL_6459047a19d342808fe6229aad916d3f",
        "IPY_MODEL_49f797cdb3ed467994091c9a0ef5d79f"
       ],
       "layout": "IPY_MODEL_9935f84cb7a9497ea6a421390ef8e938",
       "tabbable": null,
       "tooltip": null
      }
     },
     "10a03b5ce01b41c6a03c3ea0d4f7c248": {
      "model_module": "@jupyter-widgets/controls",
      "model_module_version": "2.0.0",
      "model_name": "HTMLStyleModel",
      "state": {
       "_model_module": "@jupyter-widgets/controls",
       "_model_module_version": "2.0.0",
       "_model_name": "HTMLStyleModel",
       "_view_count": null,
       "_view_module": "@jupyter-widgets/base",
       "_view_module_version": "2.0.0",
       "_view_name": "StyleView",
       "background": null,
       "description_width": "",
       "font_size": null,
       "text_color": null
      }
     },
     "10a5f6001921436c9130071da5d5b14d": {
      "model_module": "@jupyter-widgets/controls",
      "model_module_version": "2.0.0",
      "model_name": "FloatProgressModel",
      "state": {
       "_dom_classes": [],
       "_model_module": "@jupyter-widgets/controls",
       "_model_module_version": "2.0.0",
       "_model_name": "FloatProgressModel",
       "_view_count": null,
       "_view_module": "@jupyter-widgets/controls",
       "_view_module_version": "2.0.0",
       "_view_name": "ProgressView",
       "bar_style": "success",
       "description": "",
       "description_allow_html": false,
       "layout": "IPY_MODEL_27fa707f609244ee9190070b6afcf0fa",
       "max": 231508.0,
       "min": 0.0,
       "orientation": "horizontal",
       "style": "IPY_MODEL_1a124e4a6ed5451b8e0a2107cfc13741",
       "tabbable": null,
       "tooltip": null,
       "value": 231508.0
      }
     },
     "15cdf4c3d83d46b18e3cdced8cfb79d6": {
      "model_module": "@jupyter-widgets/controls",
      "model_module_version": "2.0.0",
      "model_name": "ProgressStyleModel",
      "state": {
       "_model_module": "@jupyter-widgets/controls",
       "_model_module_version": "2.0.0",
       "_model_name": "ProgressStyleModel",
       "_view_count": null,
       "_view_module": "@jupyter-widgets/base",
       "_view_module_version": "2.0.0",
       "_view_name": "StyleView",
       "bar_color": null,
       "description_width": ""
      }
     },
     "16b293b732f748d79a4487ba038ecc7b": {
      "model_module": "@jupyter-widgets/base",
      "model_module_version": "2.0.0",
      "model_name": "LayoutModel",
      "state": {
       "_model_module": "@jupyter-widgets/base",
       "_model_module_version": "2.0.0",
       "_model_name": "LayoutModel",
       "_view_count": null,
       "_view_module": "@jupyter-widgets/base",
       "_view_module_version": "2.0.0",
       "_view_name": "LayoutView",
       "align_content": null,
       "align_items": null,
       "align_self": null,
       "border_bottom": null,
       "border_left": null,
       "border_right": null,
       "border_top": null,
       "bottom": null,
       "display": null,
       "flex": null,
       "flex_flow": null,
       "grid_area": null,
       "grid_auto_columns": null,
       "grid_auto_flow": null,
       "grid_auto_rows": null,
       "grid_column": null,
       "grid_gap": null,
       "grid_row": null,
       "grid_template_areas": null,
       "grid_template_columns": null,
       "grid_template_rows": null,
       "height": null,
       "justify_content": null,
       "justify_items": null,
       "left": null,
       "margin": null,
       "max_height": null,
       "max_width": null,
       "min_height": null,
       "min_width": null,
       "object_fit": null,
       "object_position": null,
       "order": null,
       "overflow": null,
       "padding": null,
       "right": null,
       "top": null,
       "visibility": null,
       "width": null
      }
     },
     "1a124e4a6ed5451b8e0a2107cfc13741": {
      "model_module": "@jupyter-widgets/controls",
      "model_module_version": "2.0.0",
      "model_name": "ProgressStyleModel",
      "state": {
       "_model_module": "@jupyter-widgets/controls",
       "_model_module_version": "2.0.0",
       "_model_name": "ProgressStyleModel",
       "_view_count": null,
       "_view_module": "@jupyter-widgets/base",
       "_view_module_version": "2.0.0",
       "_view_name": "StyleView",
       "bar_color": null,
       "description_width": ""
      }
     },
     "1a7809277c464f25a94abfac21c13ec4": {
      "model_module": "@jupyter-widgets/controls",
      "model_module_version": "2.0.0",
      "model_name": "FloatProgressModel",
      "state": {
       "_dom_classes": [],
       "_model_module": "@jupyter-widgets/controls",
       "_model_module_version": "2.0.0",
       "_model_name": "FloatProgressModel",
       "_view_count": null,
       "_view_module": "@jupyter-widgets/controls",
       "_view_module_version": "2.0.0",
       "_view_name": "ProgressView",
       "bar_style": "success",
       "description": "",
       "description_allow_html": false,
       "layout": "IPY_MODEL_97271e7971734b20b5e2c8f24ddfe9b5",
       "max": 112.0,
       "min": 0.0,
       "orientation": "horizontal",
       "style": "IPY_MODEL_bb756f0632d7490e992c0b318a5c2471",
       "tabbable": null,
       "tooltip": null,
       "value": 112.0
      }
     },
     "1f98e0f454b54e36a1f4696bbffb2d9b": {
      "model_module": "@jupyter-widgets/controls",
      "model_module_version": "2.0.0",
      "model_name": "ProgressStyleModel",
      "state": {
       "_model_module": "@jupyter-widgets/controls",
       "_model_module_version": "2.0.0",
       "_model_name": "ProgressStyleModel",
       "_view_count": null,
       "_view_module": "@jupyter-widgets/base",
       "_view_module_version": "2.0.0",
       "_view_name": "StyleView",
       "bar_color": null,
       "description_width": ""
      }
     },
     "2230840b8bb74467a51146630ff4fcd2": {
      "model_module": "@jupyter-widgets/controls",
      "model_module_version": "2.0.0",
      "model_name": "FloatProgressModel",
      "state": {
       "_dom_classes": [],
       "_model_module": "@jupyter-widgets/controls",
       "_model_module_version": "2.0.0",
       "_model_name": "FloatProgressModel",
       "_view_count": null,
       "_view_module": "@jupyter-widgets/controls",
       "_view_module_version": "2.0.0",
       "_view_name": "ProgressView",
       "bar_style": "success",
       "description": "",
       "description_allow_html": false,
       "layout": "IPY_MODEL_f03b5bf15396457797de7dff3b92183f",
       "max": 4846.0,
       "min": 0.0,
       "orientation": "horizontal",
       "style": "IPY_MODEL_b2470a7058d149afb107e02bb8badaa6",
       "tabbable": null,
       "tooltip": null,
       "value": 4846.0
      }
     },
     "27fa707f609244ee9190070b6afcf0fa": {
      "model_module": "@jupyter-widgets/base",
      "model_module_version": "2.0.0",
      "model_name": "LayoutModel",
      "state": {
       "_model_module": "@jupyter-widgets/base",
       "_model_module_version": "2.0.0",
       "_model_name": "LayoutModel",
       "_view_count": null,
       "_view_module": "@jupyter-widgets/base",
       "_view_module_version": "2.0.0",
       "_view_name": "LayoutView",
       "align_content": null,
       "align_items": null,
       "align_self": null,
       "border_bottom": null,
       "border_left": null,
       "border_right": null,
       "border_top": null,
       "bottom": null,
       "display": null,
       "flex": null,
       "flex_flow": null,
       "grid_area": null,
       "grid_auto_columns": null,
       "grid_auto_flow": null,
       "grid_auto_rows": null,
       "grid_column": null,
       "grid_gap": null,
       "grid_row": null,
       "grid_template_areas": null,
       "grid_template_columns": null,
       "grid_template_rows": null,
       "height": null,
       "justify_content": null,
       "justify_items": null,
       "left": null,
       "margin": null,
       "max_height": null,
       "max_width": null,
       "min_height": null,
       "min_width": null,
       "object_fit": null,
       "object_position": null,
       "order": null,
       "overflow": null,
       "padding": null,
       "right": null,
       "top": null,
       "visibility": null,
       "width": null
      }
     },
     "29da7385672647378ab44f4323dcf507": {
      "model_module": "@jupyter-widgets/controls",
      "model_module_version": "2.0.0",
      "model_name": "HBoxModel",
      "state": {
       "_dom_classes": [],
       "_model_module": "@jupyter-widgets/controls",
       "_model_module_version": "2.0.0",
       "_model_name": "HBoxModel",
       "_view_count": null,
       "_view_module": "@jupyter-widgets/controls",
       "_view_module_version": "2.0.0",
       "_view_name": "HBoxView",
       "box_style": "",
       "children": [
        "IPY_MODEL_5267aba504b34beba837e20abce9e1f5",
        "IPY_MODEL_c8698f15483a45b485f2ab1c25487e99",
        "IPY_MODEL_2f0c7aed58b144f8a8a160cbb1708f0c"
       ],
       "layout": "IPY_MODEL_528b965c993d4ca296c431b80f9f34f6",
       "tabbable": null,
       "tooltip": null
      }
     },
     "2cd4b79583ae48cf8abd5f938bf3d93d": {
      "model_module": "@jupyter-widgets/base",
      "model_module_version": "2.0.0",
      "model_name": "LayoutModel",
      "state": {
       "_model_module": "@jupyter-widgets/base",
       "_model_module_version": "2.0.0",
       "_model_name": "LayoutModel",
       "_view_count": null,
       "_view_module": "@jupyter-widgets/base",
       "_view_module_version": "2.0.0",
       "_view_name": "LayoutView",
       "align_content": null,
       "align_items": null,
       "align_self": null,
       "border_bottom": null,
       "border_left": null,
       "border_right": null,
       "border_top": null,
       "bottom": null,
       "display": null,
       "flex": null,
       "flex_flow": null,
       "grid_area": null,
       "grid_auto_columns": null,
       "grid_auto_flow": null,
       "grid_auto_rows": null,
       "grid_column": null,
       "grid_gap": null,
       "grid_row": null,
       "grid_template_areas": null,
       "grid_template_columns": null,
       "grid_template_rows": null,
       "height": null,
       "justify_content": null,
       "justify_items": null,
       "left": null,
       "margin": null,
       "max_height": null,
       "max_width": null,
       "min_height": null,
       "min_width": null,
       "object_fit": null,
       "object_position": null,
       "order": null,
       "overflow": null,
       "padding": null,
       "right": null,
       "top": null,
       "visibility": null,
       "width": null
      }
     },
     "2f0c7aed58b144f8a8a160cbb1708f0c": {
      "model_module": "@jupyter-widgets/controls",
      "model_module_version": "2.0.0",
      "model_name": "HTMLModel",
      "state": {
       "_dom_classes": [],
       "_model_module": "@jupyter-widgets/controls",
       "_model_module_version": "2.0.0",
       "_model_name": "HTMLModel",
       "_view_count": null,
       "_view_module": "@jupyter-widgets/controls",
       "_view_module_version": "2.0.0",
       "_view_name": "HTMLView",
       "description": "",
       "description_allow_html": false,
       "layout": "IPY_MODEL_7a382122e2fd42a6a5a39822015a59df",
       "placeholder": "​",
       "style": "IPY_MODEL_10a03b5ce01b41c6a03c3ea0d4f7c248",
       "tabbable": null,
       "tooltip": null,
       "value": " 438M/438M [00:02&lt;00:00, 215MB/s]"
      }
     },
     "35437e96d4224475aa998d2fc38ddf0f": {
      "model_module": "@jupyter-widgets/controls",
      "model_module_version": "2.0.0",
      "model_name": "HTMLStyleModel",
      "state": {
       "_model_module": "@jupyter-widgets/controls",
       "_model_module_version": "2.0.0",
       "_model_name": "HTMLStyleModel",
       "_view_count": null,
       "_view_module": "@jupyter-widgets/base",
       "_view_module_version": "2.0.0",
       "_view_name": "StyleView",
       "background": null,
       "description_width": "",
       "font_size": null,
       "text_color": null
      }
     },
     "3a2271a4d4d7450e9578c84d49213675": {
      "model_module": "@jupyter-widgets/base",
      "model_module_version": "2.0.0",
      "model_name": "LayoutModel",
      "state": {
       "_model_module": "@jupyter-widgets/base",
       "_model_module_version": "2.0.0",
       "_model_name": "LayoutModel",
       "_view_count": null,
       "_view_module": "@jupyter-widgets/base",
       "_view_module_version": "2.0.0",
       "_view_name": "LayoutView",
       "align_content": null,
       "align_items": null,
       "align_self": null,
       "border_bottom": null,
       "border_left": null,
       "border_right": null,
       "border_top": null,
       "bottom": null,
       "display": null,
       "flex": null,
       "flex_flow": null,
       "grid_area": null,
       "grid_auto_columns": null,
       "grid_auto_flow": null,
       "grid_auto_rows": null,
       "grid_column": null,
       "grid_gap": null,
       "grid_row": null,
       "grid_template_areas": null,
       "grid_template_columns": null,
       "grid_template_rows": null,
       "height": null,
       "justify_content": null,
       "justify_items": null,
       "left": null,
       "margin": null,
       "max_height": null,
       "max_width": null,
       "min_height": null,
       "min_width": null,
       "object_fit": null,
       "object_position": null,
       "order": null,
       "overflow": null,
       "padding": null,
       "right": null,
       "top": null,
       "visibility": null,
       "width": null
      }
     },
     "3da5ca25a0f44cdaaf4354add085f00a": {
      "model_module": "@jupyter-widgets/controls",
      "model_module_version": "2.0.0",
      "model_name": "HTMLStyleModel",
      "state": {
       "_model_module": "@jupyter-widgets/controls",
       "_model_module_version": "2.0.0",
       "_model_name": "HTMLStyleModel",
       "_view_count": null,
       "_view_module": "@jupyter-widgets/base",
       "_view_module_version": "2.0.0",
       "_view_name": "StyleView",
       "background": null,
       "description_width": "",
       "font_size": null,
       "text_color": null
      }
     },
     "3da8acdfef4b4388bb5a59b3a5c8b6dd": {
      "model_module": "@jupyter-widgets/base",
      "model_module_version": "2.0.0",
      "model_name": "LayoutModel",
      "state": {
       "_model_module": "@jupyter-widgets/base",
       "_model_module_version": "2.0.0",
       "_model_name": "LayoutModel",
       "_view_count": null,
       "_view_module": "@jupyter-widgets/base",
       "_view_module_version": "2.0.0",
       "_view_name": "LayoutView",
       "align_content": null,
       "align_items": null,
       "align_self": null,
       "border_bottom": null,
       "border_left": null,
       "border_right": null,
       "border_top": null,
       "bottom": null,
       "display": null,
       "flex": null,
       "flex_flow": null,
       "grid_area": null,
       "grid_auto_columns": null,
       "grid_auto_flow": null,
       "grid_auto_rows": null,
       "grid_column": null,
       "grid_gap": null,
       "grid_row": null,
       "grid_template_areas": null,
       "grid_template_columns": null,
       "grid_template_rows": null,
       "height": null,
       "justify_content": null,
       "justify_items": null,
       "left": null,
       "margin": null,
       "max_height": null,
       "max_width": null,
       "min_height": null,
       "min_width": null,
       "object_fit": null,
       "object_position": null,
       "order": null,
       "overflow": null,
       "padding": null,
       "right": null,
       "top": null,
       "visibility": null,
       "width": null
      }
     },
     "3e09dc7685e745efa8ac7ca247d4baf5": {
      "model_module": "@jupyter-widgets/controls",
      "model_module_version": "2.0.0",
      "model_name": "HTMLStyleModel",
      "state": {
       "_model_module": "@jupyter-widgets/controls",
       "_model_module_version": "2.0.0",
       "_model_name": "HTMLStyleModel",
       "_view_count": null,
       "_view_module": "@jupyter-widgets/base",
       "_view_module_version": "2.0.0",
       "_view_name": "StyleView",
       "background": null,
       "description_width": "",
       "font_size": null,
       "text_color": null
      }
     },
     "452e7b9702bb4591bc23b43d30669eff": {
      "model_module": "@jupyter-widgets/base",
      "model_module_version": "2.0.0",
      "model_name": "LayoutModel",
      "state": {
       "_model_module": "@jupyter-widgets/base",
       "_model_module_version": "2.0.0",
       "_model_name": "LayoutModel",
       "_view_count": null,
       "_view_module": "@jupyter-widgets/base",
       "_view_module_version": "2.0.0",
       "_view_name": "LayoutView",
       "align_content": null,
       "align_items": null,
       "align_self": null,
       "border_bottom": null,
       "border_left": null,
       "border_right": null,
       "border_top": null,
       "bottom": null,
       "display": null,
       "flex": null,
       "flex_flow": null,
       "grid_area": null,
       "grid_auto_columns": null,
       "grid_auto_flow": null,
       "grid_auto_rows": null,
       "grid_column": null,
       "grid_gap": null,
       "grid_row": null,
       "grid_template_areas": null,
       "grid_template_columns": null,
       "grid_template_rows": null,
       "height": null,
       "justify_content": null,
       "justify_items": null,
       "left": null,
       "margin": null,
       "max_height": null,
       "max_width": null,
       "min_height": null,
       "min_width": null,
       "object_fit": null,
       "object_position": null,
       "order": null,
       "overflow": null,
       "padding": null,
       "right": null,
       "top": null,
       "visibility": null,
       "width": null
      }
     },
     "49f797cdb3ed467994091c9a0ef5d79f": {
      "model_module": "@jupyter-widgets/controls",
      "model_module_version": "2.0.0",
      "model_name": "HTMLModel",
      "state": {
       "_dom_classes": [],
       "_model_module": "@jupyter-widgets/controls",
       "_model_module_version": "2.0.0",
       "_model_name": "HTMLModel",
       "_view_count": null,
       "_view_module": "@jupyter-widgets/controls",
       "_view_module_version": "2.0.0",
       "_view_name": "HTMLView",
       "description": "",
       "description_allow_html": false,
       "layout": "IPY_MODEL_f831922b5f8e4ec6b2d6de26d964c8dd",
       "placeholder": "​",
       "style": "IPY_MODEL_db3395cd79ca45cdbe975ca976635365",
       "tabbable": null,
       "tooltip": null,
       "value": " 758/758 [00:00&lt;00:00, 83.1kB/s]"
      }
     },
     "4c1947b366064b409c141726ffddb47f": {
      "model_module": "@jupyter-widgets/controls",
      "model_module_version": "2.0.0",
      "model_name": "HTMLStyleModel",
      "state": {
       "_model_module": "@jupyter-widgets/controls",
       "_model_module_version": "2.0.0",
       "_model_name": "HTMLStyleModel",
       "_view_count": null,
       "_view_module": "@jupyter-widgets/base",
       "_view_module_version": "2.0.0",
       "_view_name": "StyleView",
       "background": null,
       "description_width": "",
       "font_size": null,
       "text_color": null
      }
     },
     "4c903c8187cd4ed7a17a0ceed9605b6c": {
      "model_module": "@jupyter-widgets/controls",
      "model_module_version": "2.0.0",
      "model_name": "HTMLStyleModel",
      "state": {
       "_model_module": "@jupyter-widgets/controls",
       "_model_module_version": "2.0.0",
       "_model_name": "HTMLStyleModel",
       "_view_count": null,
       "_view_module": "@jupyter-widgets/base",
       "_view_module_version": "2.0.0",
       "_view_name": "StyleView",
       "background": null,
       "description_width": "",
       "font_size": null,
       "text_color": null
      }
     },
     "4efe53ebc61548f2b78dd8a186b8f39f": {
      "model_module": "@jupyter-widgets/controls",
      "model_module_version": "2.0.0",
      "model_name": "HTMLModel",
      "state": {
       "_dom_classes": [],
       "_model_module": "@jupyter-widgets/controls",
       "_model_module_version": "2.0.0",
       "_model_name": "HTMLModel",
       "_view_count": null,
       "_view_module": "@jupyter-widgets/controls",
       "_view_module_version": "2.0.0",
       "_view_name": "HTMLView",
       "description": "",
       "description_allow_html": false,
       "layout": "IPY_MODEL_ae0fbfc1644e49a4902259776fc331fb",
       "placeholder": "​",
       "style": "IPY_MODEL_f3b1004bb25e408fbd9f5e7958d0a082",
       "tabbable": null,
       "tooltip": null,
       "value": " 232k/232k [00:00&lt;00:00, 6.38MB/s]"
      }
     },
     "4f6c7f0cb6eb495d9f0cef31354e461e": {
      "model_module": "@jupyter-widgets/base",
      "model_module_version": "2.0.0",
      "model_name": "LayoutModel",
      "state": {
       "_model_module": "@jupyter-widgets/base",
       "_model_module_version": "2.0.0",
       "_model_name": "LayoutModel",
       "_view_count": null,
       "_view_module": "@jupyter-widgets/base",
       "_view_module_version": "2.0.0",
       "_view_name": "LayoutView",
       "align_content": null,
       "align_items": null,
       "align_self": null,
       "border_bottom": null,
       "border_left": null,
       "border_right": null,
       "border_top": null,
       "bottom": null,
       "display": null,
       "flex": null,
       "flex_flow": null,
       "grid_area": null,
       "grid_auto_columns": null,
       "grid_auto_flow": null,
       "grid_auto_rows": null,
       "grid_column": null,
       "grid_gap": null,
       "grid_row": null,
       "grid_template_areas": null,
       "grid_template_columns": null,
       "grid_template_rows": null,
       "height": null,
       "justify_content": null,
       "justify_items": null,
       "left": null,
       "margin": null,
       "max_height": null,
       "max_width": null,
       "min_height": null,
       "min_width": null,
       "object_fit": null,
       "object_position": null,
       "order": null,
       "overflow": null,
       "padding": null,
       "right": null,
       "top": null,
       "visibility": null,
       "width": null
      }
     },
     "4fef314391654167b15b32d2fd7166fb": {
      "model_module": "@jupyter-widgets/controls",
      "model_module_version": "2.0.0",
      "model_name": "HBoxModel",
      "state": {
       "_dom_classes": [],
       "_model_module": "@jupyter-widgets/controls",
       "_model_module_version": "2.0.0",
       "_model_name": "HBoxModel",
       "_view_count": null,
       "_view_module": "@jupyter-widgets/controls",
       "_view_module_version": "2.0.0",
       "_view_name": "HBoxView",
       "box_style": "",
       "children": [
        "IPY_MODEL_af91eea7663d44149f9fa9d900d2033f",
        "IPY_MODEL_b9e5ef86201c43e8a3d2a28cdc053651",
        "IPY_MODEL_071302533b6b4cedafe0e0760358f7dd"
       ],
       "layout": "IPY_MODEL_02a26425fd584ad0abba899c3fa68c40",
       "tabbable": null,
       "tooltip": null
      }
     },
     "5161212f6def4de2bf793dec509a67de": {
      "model_module": "@jupyter-widgets/controls",
      "model_module_version": "2.0.0",
      "model_name": "HTMLModel",
      "state": {
       "_dom_classes": [],
       "_model_module": "@jupyter-widgets/controls",
       "_model_module_version": "2.0.0",
       "_model_name": "HTMLModel",
       "_view_count": null,
       "_view_module": "@jupyter-widgets/controls",
       "_view_module_version": "2.0.0",
       "_view_name": "HTMLView",
       "description": "",
       "description_allow_html": false,
       "layout": "IPY_MODEL_799ca061f67b4685a55091cc0d9d7266",
       "placeholder": "​",
       "style": "IPY_MODEL_533474fe04f947c6a6755f533eb793eb",
       "tabbable": null,
       "tooltip": null,
       "value": "Map: 100%"
      }
     },
     "5267aba504b34beba837e20abce9e1f5": {
      "model_module": "@jupyter-widgets/controls",
      "model_module_version": "2.0.0",
      "model_name": "HTMLModel",
      "state": {
       "_dom_classes": [],
       "_model_module": "@jupyter-widgets/controls",
       "_model_module_version": "2.0.0",
       "_model_name": "HTMLModel",
       "_view_count": null,
       "_view_module": "@jupyter-widgets/controls",
       "_view_module_version": "2.0.0",
       "_view_name": "HTMLView",
       "description": "",
       "description_allow_html": false,
       "layout": "IPY_MODEL_16b293b732f748d79a4487ba038ecc7b",
       "placeholder": "​",
       "style": "IPY_MODEL_3e09dc7685e745efa8ac7ca247d4baf5",
       "tabbable": null,
       "tooltip": null,
       "value": "pytorch_model.bin: 100%"
      }
     },
     "528b965c993d4ca296c431b80f9f34f6": {
      "model_module": "@jupyter-widgets/base",
      "model_module_version": "2.0.0",
      "model_name": "LayoutModel",
      "state": {
       "_model_module": "@jupyter-widgets/base",
       "_model_module_version": "2.0.0",
       "_model_name": "LayoutModel",
       "_view_count": null,
       "_view_module": "@jupyter-widgets/base",
       "_view_module_version": "2.0.0",
       "_view_name": "LayoutView",
       "align_content": null,
       "align_items": null,
       "align_self": null,
       "border_bottom": null,
       "border_left": null,
       "border_right": null,
       "border_top": null,
       "bottom": null,
       "display": null,
       "flex": null,
       "flex_flow": null,
       "grid_area": null,
       "grid_auto_columns": null,
       "grid_auto_flow": null,
       "grid_auto_rows": null,
       "grid_column": null,
       "grid_gap": null,
       "grid_row": null,
       "grid_template_areas": null,
       "grid_template_columns": null,
       "grid_template_rows": null,
       "height": null,
       "justify_content": null,
       "justify_items": null,
       "left": null,
       "margin": null,
       "max_height": null,
       "max_width": null,
       "min_height": null,
       "min_width": null,
       "object_fit": null,
       "object_position": null,
       "order": null,
       "overflow": null,
       "padding": null,
       "right": null,
       "top": null,
       "visibility": null,
       "width": null
      }
     },
     "533474fe04f947c6a6755f533eb793eb": {
      "model_module": "@jupyter-widgets/controls",
      "model_module_version": "2.0.0",
      "model_name": "HTMLStyleModel",
      "state": {
       "_model_module": "@jupyter-widgets/controls",
       "_model_module_version": "2.0.0",
       "_model_name": "HTMLStyleModel",
       "_view_count": null,
       "_view_module": "@jupyter-widgets/base",
       "_view_module_version": "2.0.0",
       "_view_name": "StyleView",
       "background": null,
       "description_width": "",
       "font_size": null,
       "text_color": null
      }
     },
     "53695d1bad504f1c8b5837a628a591a9": {
      "model_module": "@jupyter-widgets/base",
      "model_module_version": "2.0.0",
      "model_name": "LayoutModel",
      "state": {
       "_model_module": "@jupyter-widgets/base",
       "_model_module_version": "2.0.0",
       "_model_name": "LayoutModel",
       "_view_count": null,
       "_view_module": "@jupyter-widgets/base",
       "_view_module_version": "2.0.0",
       "_view_name": "LayoutView",
       "align_content": null,
       "align_items": null,
       "align_self": null,
       "border_bottom": null,
       "border_left": null,
       "border_right": null,
       "border_top": null,
       "bottom": null,
       "display": null,
       "flex": null,
       "flex_flow": null,
       "grid_area": null,
       "grid_auto_columns": null,
       "grid_auto_flow": null,
       "grid_auto_rows": null,
       "grid_column": null,
       "grid_gap": null,
       "grid_row": null,
       "grid_template_areas": null,
       "grid_template_columns": null,
       "grid_template_rows": null,
       "height": null,
       "justify_content": null,
       "justify_items": null,
       "left": null,
       "margin": null,
       "max_height": null,
       "max_width": null,
       "min_height": null,
       "min_width": null,
       "object_fit": null,
       "object_position": null,
       "order": null,
       "overflow": null,
       "padding": null,
       "right": null,
       "top": null,
       "visibility": null,
       "width": null
      }
     },
     "551a21a67a0246f8a51566502701be11": {
      "model_module": "@jupyter-widgets/controls",
      "model_module_version": "2.0.0",
      "model_name": "HTMLModel",
      "state": {
       "_dom_classes": [],
       "_model_module": "@jupyter-widgets/controls",
       "_model_module_version": "2.0.0",
       "_model_name": "HTMLModel",
       "_view_count": null,
       "_view_module": "@jupyter-widgets/controls",
       "_view_module_version": "2.0.0",
       "_view_name": "HTMLView",
       "description": "",
       "description_allow_html": false,
       "layout": "IPY_MODEL_8a72be34d7ea44f3a19096835e58c6a1",
       "placeholder": "​",
       "style": "IPY_MODEL_8122ab7d80e340d2a8cff81ad398400f",
       "tabbable": null,
       "tooltip": null,
       "value": "Map: 100%"
      }
     },
     "581cdaa611c7483db07a37736b909d50": {
      "model_module": "@jupyter-widgets/controls",
      "model_module_version": "2.0.0",
      "model_name": "ProgressStyleModel",
      "state": {
       "_model_module": "@jupyter-widgets/controls",
       "_model_module_version": "2.0.0",
       "_model_name": "ProgressStyleModel",
       "_view_count": null,
       "_view_module": "@jupyter-widgets/base",
       "_view_module_version": "2.0.0",
       "_view_name": "StyleView",
       "bar_color": null,
       "description_width": ""
      }
     },
     "5888560ac0b1451ba519e24d22b3d238": {
      "model_module": "@jupyter-widgets/controls",
      "model_module_version": "2.0.0",
      "model_name": "HTMLModel",
      "state": {
       "_dom_classes": [],
       "_model_module": "@jupyter-widgets/controls",
       "_model_module_version": "2.0.0",
       "_model_name": "HTMLModel",
       "_view_count": null,
       "_view_module": "@jupyter-widgets/controls",
       "_view_module_version": "2.0.0",
       "_view_name": "HTMLView",
       "description": "",
       "description_allow_html": false,
       "layout": "IPY_MODEL_8088e557223748709be1ec238e3a5aaf",
       "placeholder": "​",
       "style": "IPY_MODEL_4c1947b366064b409c141726ffddb47f",
       "tabbable": null,
       "tooltip": null,
       "value": " 4846/4846 [00:01&lt;00:00, 3999.27 examples/s]"
      }
     },
     "5da225f404d74933872929863beec117": {
      "model_module": "@jupyter-widgets/controls",
      "model_module_version": "2.0.0",
      "model_name": "ProgressStyleModel",
      "state": {
       "_model_module": "@jupyter-widgets/controls",
       "_model_module_version": "2.0.0",
       "_model_name": "ProgressStyleModel",
       "_view_count": null,
       "_view_module": "@jupyter-widgets/base",
       "_view_module_version": "2.0.0",
       "_view_name": "StyleView",
       "bar_color": null,
       "description_width": ""
      }
     },
     "5e39f97a8fd648f881c4480ae54d74f9": {
      "model_module": "@jupyter-widgets/base",
      "model_module_version": "2.0.0",
      "model_name": "LayoutModel",
      "state": {
       "_model_module": "@jupyter-widgets/base",
       "_model_module_version": "2.0.0",
       "_model_name": "LayoutModel",
       "_view_count": null,
       "_view_module": "@jupyter-widgets/base",
       "_view_module_version": "2.0.0",
       "_view_name": "LayoutView",
       "align_content": null,
       "align_items": null,
       "align_self": null,
       "border_bottom": null,
       "border_left": null,
       "border_right": null,
       "border_top": null,
       "bottom": null,
       "display": null,
       "flex": null,
       "flex_flow": null,
       "grid_area": null,
       "grid_auto_columns": null,
       "grid_auto_flow": null,
       "grid_auto_rows": null,
       "grid_column": null,
       "grid_gap": null,
       "grid_row": null,
       "grid_template_areas": null,
       "grid_template_columns": null,
       "grid_template_rows": null,
       "height": null,
       "justify_content": null,
       "justify_items": null,
       "left": null,
       "margin": null,
       "max_height": null,
       "max_width": null,
       "min_height": null,
       "min_width": null,
       "object_fit": null,
       "object_position": null,
       "order": null,
       "overflow": null,
       "padding": null,
       "right": null,
       "top": null,
       "visibility": null,
       "width": null
      }
     },
     "5fe1a3c86bfe49acb4547d7a735851ce": {
      "model_module": "@jupyter-widgets/controls",
      "model_module_version": "2.0.0",
      "model_name": "HTMLModel",
      "state": {
       "_dom_classes": [],
       "_model_module": "@jupyter-widgets/controls",
       "_model_module_version": "2.0.0",
       "_model_name": "HTMLModel",
       "_view_count": null,
       "_view_module": "@jupyter-widgets/controls",
       "_view_module_version": "2.0.0",
       "_view_name": "HTMLView",
       "description": "",
       "description_allow_html": false,
       "layout": "IPY_MODEL_e3387c1338c4417781dd57bf7f99f586",
       "placeholder": "​",
       "style": "IPY_MODEL_612e1994dafe4fcf8ca0ae4fb302c9a2",
       "tabbable": null,
       "tooltip": null,
       "value": "config.json: 100%"
      }
     },
     "609f79656f96403792d50a436d237cb1": {
      "model_module": "@jupyter-widgets/base",
      "model_module_version": "2.0.0",
      "model_name": "LayoutModel",
      "state": {
       "_model_module": "@jupyter-widgets/base",
       "_model_module_version": "2.0.0",
       "_model_name": "LayoutModel",
       "_view_count": null,
       "_view_module": "@jupyter-widgets/base",
       "_view_module_version": "2.0.0",
       "_view_name": "LayoutView",
       "align_content": null,
       "align_items": null,
       "align_self": null,
       "border_bottom": null,
       "border_left": null,
       "border_right": null,
       "border_top": null,
       "bottom": null,
       "display": null,
       "flex": null,
       "flex_flow": null,
       "grid_area": null,
       "grid_auto_columns": null,
       "grid_auto_flow": null,
       "grid_auto_rows": null,
       "grid_column": null,
       "grid_gap": null,
       "grid_row": null,
       "grid_template_areas": null,
       "grid_template_columns": null,
       "grid_template_rows": null,
       "height": null,
       "justify_content": null,
       "justify_items": null,
       "left": null,
       "margin": null,
       "max_height": null,
       "max_width": null,
       "min_height": null,
       "min_width": null,
       "object_fit": null,
       "object_position": null,
       "order": null,
       "overflow": null,
       "padding": null,
       "right": null,
       "top": null,
       "visibility": null,
       "width": null
      }
     },
     "612e1994dafe4fcf8ca0ae4fb302c9a2": {
      "model_module": "@jupyter-widgets/controls",
      "model_module_version": "2.0.0",
      "model_name": "HTMLStyleModel",
      "state": {
       "_model_module": "@jupyter-widgets/controls",
       "_model_module_version": "2.0.0",
       "_model_name": "HTMLStyleModel",
       "_view_count": null,
       "_view_module": "@jupyter-widgets/base",
       "_view_module_version": "2.0.0",
       "_view_name": "StyleView",
       "background": null,
       "description_width": "",
       "font_size": null,
       "text_color": null
      }
     },
     "632ea8b565c94d1c992c5b502db6c011": {
      "model_module": "@jupyter-widgets/controls",
      "model_module_version": "2.0.0",
      "model_name": "HBoxModel",
      "state": {
       "_dom_classes": [],
       "_model_module": "@jupyter-widgets/controls",
       "_model_module_version": "2.0.0",
       "_model_name": "HBoxModel",
       "_view_count": null,
       "_view_module": "@jupyter-widgets/controls",
       "_view_module_version": "2.0.0",
       "_view_name": "HBoxView",
       "box_style": "",
       "children": [
        "IPY_MODEL_ee59d6f52f5c49e589e2b66887fb6faa",
        "IPY_MODEL_2230840b8bb74467a51146630ff4fcd2",
        "IPY_MODEL_5888560ac0b1451ba519e24d22b3d238"
       ],
       "layout": "IPY_MODEL_4f6c7f0cb6eb495d9f0cef31354e461e",
       "tabbable": null,
       "tooltip": null
      }
     },
     "6459047a19d342808fe6229aad916d3f": {
      "model_module": "@jupyter-widgets/controls",
      "model_module_version": "2.0.0",
      "model_name": "FloatProgressModel",
      "state": {
       "_dom_classes": [],
       "_model_module": "@jupyter-widgets/controls",
       "_model_module_version": "2.0.0",
       "_model_name": "FloatProgressModel",
       "_view_count": null,
       "_view_module": "@jupyter-widgets/controls",
       "_view_module_version": "2.0.0",
       "_view_name": "ProgressView",
       "bar_style": "success",
       "description": "",
       "description_allow_html": false,
       "layout": "IPY_MODEL_7aea38a73db542b2ad12d24dfda34e30",
       "max": 758.0,
       "min": 0.0,
       "orientation": "horizontal",
       "style": "IPY_MODEL_581cdaa611c7483db07a37736b909d50",
       "tabbable": null,
       "tooltip": null,
       "value": 758.0
      }
     },
     "650212e259e04fd6aa486eeaf41587f5": {
      "model_module": "@jupyter-widgets/controls",
      "model_module_version": "2.0.0",
      "model_name": "HTMLModel",
      "state": {
       "_dom_classes": [],
       "_model_module": "@jupyter-widgets/controls",
       "_model_module_version": "2.0.0",
       "_model_name": "HTMLModel",
       "_view_count": null,
       "_view_module": "@jupyter-widgets/controls",
       "_view_module_version": "2.0.0",
       "_view_name": "HTMLView",
       "description": "",
       "description_allow_html": false,
       "layout": "IPY_MODEL_e969a71dbbf2445c911046b0e800bd99",
       "placeholder": "​",
       "style": "IPY_MODEL_08cb6c55d9a6498a9d50a79b641c90cc",
       "tabbable": null,
       "tooltip": null,
       "value": " 42749/42749 [00:12&lt;00:00, 3333.59 examples/s]"
      }
     },
     "73c96ed893134242b09b158c15fcf90f": {
      "model_module": "@jupyter-widgets/controls",
      "model_module_version": "2.0.0",
      "model_name": "HTMLStyleModel",
      "state": {
       "_model_module": "@jupyter-widgets/controls",
       "_model_module_version": "2.0.0",
       "_model_name": "HTMLStyleModel",
       "_view_count": null,
       "_view_module": "@jupyter-widgets/base",
       "_view_module_version": "2.0.0",
       "_view_name": "StyleView",
       "background": null,
       "description_width": "",
       "font_size": null,
       "text_color": null
      }
     },
     "799b05347e114eb4973cd3dcf06fdbaf": {
      "model_module": "@jupyter-widgets/controls",
      "model_module_version": "2.0.0",
      "model_name": "FloatProgressModel",
      "state": {
       "_dom_classes": [],
       "_model_module": "@jupyter-widgets/controls",
       "_model_module_version": "2.0.0",
       "_model_name": "FloatProgressModel",
       "_view_count": null,
       "_view_module": "@jupyter-widgets/controls",
       "_view_module_version": "2.0.0",
       "_view_name": "ProgressView",
       "bar_style": "success",
       "description": "",
       "description_allow_html": false,
       "layout": "IPY_MODEL_ece7510b9ad34b2e8dc7f57a4c075893",
       "max": 252.0,
       "min": 0.0,
       "orientation": "horizontal",
       "style": "IPY_MODEL_0a71b5b394e142dd8b801dbfdd7c7d44",
       "tabbable": null,
       "tooltip": null,
       "value": 252.0
      }
     },
     "799ca061f67b4685a55091cc0d9d7266": {
      "model_module": "@jupyter-widgets/base",
      "model_module_version": "2.0.0",
      "model_name": "LayoutModel",
      "state": {
       "_model_module": "@jupyter-widgets/base",
       "_model_module_version": "2.0.0",
       "_model_name": "LayoutModel",
       "_view_count": null,
       "_view_module": "@jupyter-widgets/base",
       "_view_module_version": "2.0.0",
       "_view_name": "LayoutView",
       "align_content": null,
       "align_items": null,
       "align_self": null,
       "border_bottom": null,
       "border_left": null,
       "border_right": null,
       "border_top": null,
       "bottom": null,
       "display": null,
       "flex": null,
       "flex_flow": null,
       "grid_area": null,
       "grid_auto_columns": null,
       "grid_auto_flow": null,
       "grid_auto_rows": null,
       "grid_column": null,
       "grid_gap": null,
       "grid_row": null,
       "grid_template_areas": null,
       "grid_template_columns": null,
       "grid_template_rows": null,
       "height": null,
       "justify_content": null,
       "justify_items": null,
       "left": null,
       "margin": null,
       "max_height": null,
       "max_width": null,
       "min_height": null,
       "min_width": null,
       "object_fit": null,
       "object_position": null,
       "order": null,
       "overflow": null,
       "padding": null,
       "right": null,
       "top": null,
       "visibility": null,
       "width": null
      }
     },
     "7a382122e2fd42a6a5a39822015a59df": {
      "model_module": "@jupyter-widgets/base",
      "model_module_version": "2.0.0",
      "model_name": "LayoutModel",
      "state": {
       "_model_module": "@jupyter-widgets/base",
       "_model_module_version": "2.0.0",
       "_model_name": "LayoutModel",
       "_view_count": null,
       "_view_module": "@jupyter-widgets/base",
       "_view_module_version": "2.0.0",
       "_view_name": "LayoutView",
       "align_content": null,
       "align_items": null,
       "align_self": null,
       "border_bottom": null,
       "border_left": null,
       "border_right": null,
       "border_top": null,
       "bottom": null,
       "display": null,
       "flex": null,
       "flex_flow": null,
       "grid_area": null,
       "grid_auto_columns": null,
       "grid_auto_flow": null,
       "grid_auto_rows": null,
       "grid_column": null,
       "grid_gap": null,
       "grid_row": null,
       "grid_template_areas": null,
       "grid_template_columns": null,
       "grid_template_rows": null,
       "height": null,
       "justify_content": null,
       "justify_items": null,
       "left": null,
       "margin": null,
       "max_height": null,
       "max_width": null,
       "min_height": null,
       "min_width": null,
       "object_fit": null,
       "object_position": null,
       "order": null,
       "overflow": null,
       "padding": null,
       "right": null,
       "top": null,
       "visibility": null,
       "width": null
      }
     },
     "7aea38a73db542b2ad12d24dfda34e30": {
      "model_module": "@jupyter-widgets/base",
      "model_module_version": "2.0.0",
      "model_name": "LayoutModel",
      "state": {
       "_model_module": "@jupyter-widgets/base",
       "_model_module_version": "2.0.0",
       "_model_name": "LayoutModel",
       "_view_count": null,
       "_view_module": "@jupyter-widgets/base",
       "_view_module_version": "2.0.0",
       "_view_name": "LayoutView",
       "align_content": null,
       "align_items": null,
       "align_self": null,
       "border_bottom": null,
       "border_left": null,
       "border_right": null,
       "border_top": null,
       "bottom": null,
       "display": null,
       "flex": null,
       "flex_flow": null,
       "grid_area": null,
       "grid_auto_columns": null,
       "grid_auto_flow": null,
       "grid_auto_rows": null,
       "grid_column": null,
       "grid_gap": null,
       "grid_row": null,
       "grid_template_areas": null,
       "grid_template_columns": null,
       "grid_template_rows": null,
       "height": null,
       "justify_content": null,
       "justify_items": null,
       "left": null,
       "margin": null,
       "max_height": null,
       "max_width": null,
       "min_height": null,
       "min_width": null,
       "object_fit": null,
       "object_position": null,
       "order": null,
       "overflow": null,
       "padding": null,
       "right": null,
       "top": null,
       "visibility": null,
       "width": null
      }
     },
     "8088e557223748709be1ec238e3a5aaf": {
      "model_module": "@jupyter-widgets/base",
      "model_module_version": "2.0.0",
      "model_name": "LayoutModel",
      "state": {
       "_model_module": "@jupyter-widgets/base",
       "_model_module_version": "2.0.0",
       "_model_name": "LayoutModel",
       "_view_count": null,
       "_view_module": "@jupyter-widgets/base",
       "_view_module_version": "2.0.0",
       "_view_name": "LayoutView",
       "align_content": null,
       "align_items": null,
       "align_self": null,
       "border_bottom": null,
       "border_left": null,
       "border_right": null,
       "border_top": null,
       "bottom": null,
       "display": null,
       "flex": null,
       "flex_flow": null,
       "grid_area": null,
       "grid_auto_columns": null,
       "grid_auto_flow": null,
       "grid_auto_rows": null,
       "grid_column": null,
       "grid_gap": null,
       "grid_row": null,
       "grid_template_areas": null,
       "grid_template_columns": null,
       "grid_template_rows": null,
       "height": null,
       "justify_content": null,
       "justify_items": null,
       "left": null,
       "margin": null,
       "max_height": null,
       "max_width": null,
       "min_height": null,
       "min_width": null,
       "object_fit": null,
       "object_position": null,
       "order": null,
       "overflow": null,
       "padding": null,
       "right": null,
       "top": null,
       "visibility": null,
       "width": null
      }
     },
     "8122ab7d80e340d2a8cff81ad398400f": {
      "model_module": "@jupyter-widgets/controls",
      "model_module_version": "2.0.0",
      "model_name": "HTMLStyleModel",
      "state": {
       "_model_module": "@jupyter-widgets/controls",
       "_model_module_version": "2.0.0",
       "_model_name": "HTMLStyleModel",
       "_view_count": null,
       "_view_module": "@jupyter-widgets/base",
       "_view_module_version": "2.0.0",
       "_view_name": "StyleView",
       "background": null,
       "description_width": "",
       "font_size": null,
       "text_color": null
      }
     },
     "85df2f82f1ea4abba5bb47cd70443f71": {
      "model_module": "@jupyter-widgets/base",
      "model_module_version": "2.0.0",
      "model_name": "LayoutModel",
      "state": {
       "_model_module": "@jupyter-widgets/base",
       "_model_module_version": "2.0.0",
       "_model_name": "LayoutModel",
       "_view_count": null,
       "_view_module": "@jupyter-widgets/base",
       "_view_module_version": "2.0.0",
       "_view_name": "LayoutView",
       "align_content": null,
       "align_items": null,
       "align_self": null,
       "border_bottom": null,
       "border_left": null,
       "border_right": null,
       "border_top": null,
       "bottom": null,
       "display": null,
       "flex": null,
       "flex_flow": null,
       "grid_area": null,
       "grid_auto_columns": null,
       "grid_auto_flow": null,
       "grid_auto_rows": null,
       "grid_column": null,
       "grid_gap": null,
       "grid_row": null,
       "grid_template_areas": null,
       "grid_template_columns": null,
       "grid_template_rows": null,
       "height": null,
       "justify_content": null,
       "justify_items": null,
       "left": null,
       "margin": null,
       "max_height": null,
       "max_width": null,
       "min_height": null,
       "min_width": null,
       "object_fit": null,
       "object_position": null,
       "order": null,
       "overflow": null,
       "padding": null,
       "right": null,
       "top": null,
       "visibility": null,
       "width": null
      }
     },
     "870bc3f9744c4439a4714080858f949e": {
      "model_module": "@jupyter-widgets/controls",
      "model_module_version": "2.0.0",
      "model_name": "FloatProgressModel",
      "state": {
       "_dom_classes": [],
       "_model_module": "@jupyter-widgets/controls",
       "_model_module_version": "2.0.0",
       "_model_name": "FloatProgressModel",
       "_view_count": null,
       "_view_module": "@jupyter-widgets/controls",
       "_view_module_version": "2.0.0",
       "_view_name": "ProgressView",
       "bar_style": "success",
       "description": "",
       "description_allow_html": false,
       "layout": "IPY_MODEL_3a2271a4d4d7450e9578c84d49213675",
       "max": 42749.0,
       "min": 0.0,
       "orientation": "horizontal",
       "style": "IPY_MODEL_1f98e0f454b54e36a1f4696bbffb2d9b",
       "tabbable": null,
       "tooltip": null,
       "value": 42749.0
      }
     },
     "8a1b7b3013c34a4b9fb8efcb0069d381": {
      "model_module": "@jupyter-widgets/base",
      "model_module_version": "2.0.0",
      "model_name": "LayoutModel",
      "state": {
       "_model_module": "@jupyter-widgets/base",
       "_model_module_version": "2.0.0",
       "_model_name": "LayoutModel",
       "_view_count": null,
       "_view_module": "@jupyter-widgets/base",
       "_view_module_version": "2.0.0",
       "_view_name": "LayoutView",
       "align_content": null,
       "align_items": null,
       "align_self": null,
       "border_bottom": null,
       "border_left": null,
       "border_right": null,
       "border_top": null,
       "bottom": null,
       "display": null,
       "flex": null,
       "flex_flow": null,
       "grid_area": null,
       "grid_auto_columns": null,
       "grid_auto_flow": null,
       "grid_auto_rows": null,
       "grid_column": null,
       "grid_gap": null,
       "grid_row": null,
       "grid_template_areas": null,
       "grid_template_columns": null,
       "grid_template_rows": null,
       "height": null,
       "justify_content": null,
       "justify_items": null,
       "left": null,
       "margin": null,
       "max_height": null,
       "max_width": null,
       "min_height": null,
       "min_width": null,
       "object_fit": null,
       "object_position": null,
       "order": null,
       "overflow": null,
       "padding": null,
       "right": null,
       "top": null,
       "visibility": null,
       "width": null
      }
     },
     "8a72be34d7ea44f3a19096835e58c6a1": {
      "model_module": "@jupyter-widgets/base",
      "model_module_version": "2.0.0",
      "model_name": "LayoutModel",
      "state": {
       "_model_module": "@jupyter-widgets/base",
       "_model_module_version": "2.0.0",
       "_model_name": "LayoutModel",
       "_view_count": null,
       "_view_module": "@jupyter-widgets/base",
       "_view_module_version": "2.0.0",
       "_view_name": "LayoutView",
       "align_content": null,
       "align_items": null,
       "align_self": null,
       "border_bottom": null,
       "border_left": null,
       "border_right": null,
       "border_top": null,
       "bottom": null,
       "display": null,
       "flex": null,
       "flex_flow": null,
       "grid_area": null,
       "grid_auto_columns": null,
       "grid_auto_flow": null,
       "grid_auto_rows": null,
       "grid_column": null,
       "grid_gap": null,
       "grid_row": null,
       "grid_template_areas": null,
       "grid_template_columns": null,
       "grid_template_rows": null,
       "height": null,
       "justify_content": null,
       "justify_items": null,
       "left": null,
       "margin": null,
       "max_height": null,
       "max_width": null,
       "min_height": null,
       "min_width": null,
       "object_fit": null,
       "object_position": null,
       "order": null,
       "overflow": null,
       "padding": null,
       "right": null,
       "top": null,
       "visibility": null,
       "width": null
      }
     },
     "97271e7971734b20b5e2c8f24ddfe9b5": {
      "model_module": "@jupyter-widgets/base",
      "model_module_version": "2.0.0",
      "model_name": "LayoutModel",
      "state": {
       "_model_module": "@jupyter-widgets/base",
       "_model_module_version": "2.0.0",
       "_model_name": "LayoutModel",
       "_view_count": null,
       "_view_module": "@jupyter-widgets/base",
       "_view_module_version": "2.0.0",
       "_view_name": "LayoutView",
       "align_content": null,
       "align_items": null,
       "align_self": null,
       "border_bottom": null,
       "border_left": null,
       "border_right": null,
       "border_top": null,
       "bottom": null,
       "display": null,
       "flex": null,
       "flex_flow": null,
       "grid_area": null,
       "grid_auto_columns": null,
       "grid_auto_flow": null,
       "grid_auto_rows": null,
       "grid_column": null,
       "grid_gap": null,
       "grid_row": null,
       "grid_template_areas": null,
       "grid_template_columns": null,
       "grid_template_rows": null,
       "height": null,
       "justify_content": null,
       "justify_items": null,
       "left": null,
       "margin": null,
       "max_height": null,
       "max_width": null,
       "min_height": null,
       "min_width": null,
       "object_fit": null,
       "object_position": null,
       "order": null,
       "overflow": null,
       "padding": null,
       "right": null,
       "top": null,
       "visibility": null,
       "width": null
      }
     },
     "982a368cec4743a2b1ce10847cd25fa0": {
      "model_module": "@jupyter-widgets/controls",
      "model_module_version": "2.0.0",
      "model_name": "HTMLStyleModel",
      "state": {
       "_model_module": "@jupyter-widgets/controls",
       "_model_module_version": "2.0.0",
       "_model_name": "HTMLStyleModel",
       "_view_count": null,
       "_view_module": "@jupyter-widgets/base",
       "_view_module_version": "2.0.0",
       "_view_name": "StyleView",
       "background": null,
       "description_width": "",
       "font_size": null,
       "text_color": null
      }
     },
     "985fceb88ade476aa43aaf204d262356": {
      "model_module": "@jupyter-widgets/base",
      "model_module_version": "2.0.0",
      "model_name": "LayoutModel",
      "state": {
       "_model_module": "@jupyter-widgets/base",
       "_model_module_version": "2.0.0",
       "_model_name": "LayoutModel",
       "_view_count": null,
       "_view_module": "@jupyter-widgets/base",
       "_view_module_version": "2.0.0",
       "_view_name": "LayoutView",
       "align_content": null,
       "align_items": null,
       "align_self": null,
       "border_bottom": null,
       "border_left": null,
       "border_right": null,
       "border_top": null,
       "bottom": null,
       "display": null,
       "flex": null,
       "flex_flow": null,
       "grid_area": null,
       "grid_auto_columns": null,
       "grid_auto_flow": null,
       "grid_auto_rows": null,
       "grid_column": null,
       "grid_gap": null,
       "grid_row": null,
       "grid_template_areas": null,
       "grid_template_columns": null,
       "grid_template_rows": null,
       "height": null,
       "justify_content": null,
       "justify_items": null,
       "left": null,
       "margin": null,
       "max_height": null,
       "max_width": null,
       "min_height": null,
       "min_width": null,
       "object_fit": null,
       "object_position": null,
       "order": null,
       "overflow": null,
       "padding": null,
       "right": null,
       "top": null,
       "visibility": null,
       "width": null
      }
     },
     "9935f84cb7a9497ea6a421390ef8e938": {
      "model_module": "@jupyter-widgets/base",
      "model_module_version": "2.0.0",
      "model_name": "LayoutModel",
      "state": {
       "_model_module": "@jupyter-widgets/base",
       "_model_module_version": "2.0.0",
       "_model_name": "LayoutModel",
       "_view_count": null,
       "_view_module": "@jupyter-widgets/base",
       "_view_module_version": "2.0.0",
       "_view_name": "LayoutView",
       "align_content": null,
       "align_items": null,
       "align_self": null,
       "border_bottom": null,
       "border_left": null,
       "border_right": null,
       "border_top": null,
       "bottom": null,
       "display": null,
       "flex": null,
       "flex_flow": null,
       "grid_area": null,
       "grid_auto_columns": null,
       "grid_auto_flow": null,
       "grid_auto_rows": null,
       "grid_column": null,
       "grid_gap": null,
       "grid_row": null,
       "grid_template_areas": null,
       "grid_template_columns": null,
       "grid_template_rows": null,
       "height": null,
       "justify_content": null,
       "justify_items": null,
       "left": null,
       "margin": null,
       "max_height": null,
       "max_width": null,
       "min_height": null,
       "min_width": null,
       "object_fit": null,
       "object_position": null,
       "order": null,
       "overflow": null,
       "padding": null,
       "right": null,
       "top": null,
       "visibility": null,
       "width": null
      }
     },
     "9bc4575550124b9e92318e6495eb4509": {
      "model_module": "@jupyter-widgets/base",
      "model_module_version": "2.0.0",
      "model_name": "LayoutModel",
      "state": {
       "_model_module": "@jupyter-widgets/base",
       "_model_module_version": "2.0.0",
       "_model_name": "LayoutModel",
       "_view_count": null,
       "_view_module": "@jupyter-widgets/base",
       "_view_module_version": "2.0.0",
       "_view_name": "LayoutView",
       "align_content": null,
       "align_items": null,
       "align_self": null,
       "border_bottom": null,
       "border_left": null,
       "border_right": null,
       "border_top": null,
       "bottom": null,
       "display": null,
       "flex": null,
       "flex_flow": null,
       "grid_area": null,
       "grid_auto_columns": null,
       "grid_auto_flow": null,
       "grid_auto_rows": null,
       "grid_column": null,
       "grid_gap": null,
       "grid_row": null,
       "grid_template_areas": null,
       "grid_template_columns": null,
       "grid_template_rows": null,
       "height": null,
       "justify_content": null,
       "justify_items": null,
       "left": null,
       "margin": null,
       "max_height": null,
       "max_width": null,
       "min_height": null,
       "min_width": null,
       "object_fit": null,
       "object_position": null,
       "order": null,
       "overflow": null,
       "padding": null,
       "right": null,
       "top": null,
       "visibility": null,
       "width": null
      }
     },
     "9db416b851054500a07e6d886b97fb5e": {
      "model_module": "@jupyter-widgets/controls",
      "model_module_version": "2.0.0",
      "model_name": "HBoxModel",
      "state": {
       "_dom_classes": [],
       "_model_module": "@jupyter-widgets/controls",
       "_model_module_version": "2.0.0",
       "_model_name": "HBoxModel",
       "_view_count": null,
       "_view_module": "@jupyter-widgets/controls",
       "_view_module_version": "2.0.0",
       "_view_name": "HBoxView",
       "box_style": "",
       "children": [
        "IPY_MODEL_f77692cd671b4d848585ff719dd022ef",
        "IPY_MODEL_799b05347e114eb4973cd3dcf06fdbaf",
        "IPY_MODEL_dfa3562e6fcc40609c73ad6d2dfc9374"
       ],
       "layout": "IPY_MODEL_85df2f82f1ea4abba5bb47cd70443f71",
       "tabbable": null,
       "tooltip": null
      }
     },
     "9e5d0829f8b741e5a2899efbe5c69dd4": {
      "model_module": "@jupyter-widgets/controls",
      "model_module_version": "2.0.0",
      "model_name": "ProgressStyleModel",
      "state": {
       "_model_module": "@jupyter-widgets/controls",
       "_model_module_version": "2.0.0",
       "_model_name": "ProgressStyleModel",
       "_view_count": null,
       "_view_module": "@jupyter-widgets/base",
       "_view_module_version": "2.0.0",
       "_view_name": "StyleView",
       "bar_color": null,
       "description_width": ""
      }
     },
     "a5f25d3723dd42d2af3025ee4c878810": {
      "model_module": "@jupyter-widgets/base",
      "model_module_version": "2.0.0",
      "model_name": "LayoutModel",
      "state": {
       "_model_module": "@jupyter-widgets/base",
       "_model_module_version": "2.0.0",
       "_model_name": "LayoutModel",
       "_view_count": null,
       "_view_module": "@jupyter-widgets/base",
       "_view_module_version": "2.0.0",
       "_view_name": "LayoutView",
       "align_content": null,
       "align_items": null,
       "align_self": null,
       "border_bottom": null,
       "border_left": null,
       "border_right": null,
       "border_top": null,
       "bottom": null,
       "display": null,
       "flex": null,
       "flex_flow": null,
       "grid_area": null,
       "grid_auto_columns": null,
       "grid_auto_flow": null,
       "grid_auto_rows": null,
       "grid_column": null,
       "grid_gap": null,
       "grid_row": null,
       "grid_template_areas": null,
       "grid_template_columns": null,
       "grid_template_rows": null,
       "height": null,
       "justify_content": null,
       "justify_items": null,
       "left": null,
       "margin": null,
       "max_height": null,
       "max_width": null,
       "min_height": null,
       "min_width": null,
       "object_fit": null,
       "object_position": null,
       "order": null,
       "overflow": null,
       "padding": null,
       "right": null,
       "top": null,
       "visibility": null,
       "width": null
      }
     },
     "a778e8d521ba4299b1f7c54f1e6e2163": {
      "model_module": "@jupyter-widgets/controls",
      "model_module_version": "2.0.0",
      "model_name": "HBoxModel",
      "state": {
       "_dom_classes": [],
       "_model_module": "@jupyter-widgets/controls",
       "_model_module_version": "2.0.0",
       "_model_name": "HBoxModel",
       "_view_count": null,
       "_view_module": "@jupyter-widgets/controls",
       "_view_module_version": "2.0.0",
       "_view_name": "HBoxView",
       "box_style": "",
       "children": [
        "IPY_MODEL_5161212f6def4de2bf793dec509a67de",
        "IPY_MODEL_870bc3f9744c4439a4714080858f949e",
        "IPY_MODEL_650212e259e04fd6aa486eeaf41587f5"
       ],
       "layout": "IPY_MODEL_452e7b9702bb4591bc23b43d30669eff",
       "tabbable": null,
       "tooltip": null
      }
     },
     "aa229499317243d7a5ea7d407ebb0bdc": {
      "model_module": "@jupyter-widgets/controls",
      "model_module_version": "2.0.0",
      "model_name": "HBoxModel",
      "state": {
       "_dom_classes": [],
       "_model_module": "@jupyter-widgets/controls",
       "_model_module_version": "2.0.0",
       "_model_name": "HBoxModel",
       "_view_count": null,
       "_view_module": "@jupyter-widgets/controls",
       "_view_module_version": "2.0.0",
       "_view_name": "HBoxView",
       "box_style": "",
       "children": [
        "IPY_MODEL_f6026c9ef9f44147ac147b9f3e97327e",
        "IPY_MODEL_1a7809277c464f25a94abfac21c13ec4",
        "IPY_MODEL_e6a52bbe2b3a4cb1a512fcc0a45c5d8f"
       ],
       "layout": "IPY_MODEL_609f79656f96403792d50a436d237cb1",
       "tabbable": null,
       "tooltip": null
      }
     },
     "ab4efa1b61ee40fd826ec689c3a5be13": {
      "model_module": "@jupyter-widgets/controls",
      "model_module_version": "2.0.0",
      "model_name": "HTMLStyleModel",
      "state": {
       "_model_module": "@jupyter-widgets/controls",
       "_model_module_version": "2.0.0",
       "_model_name": "HTMLStyleModel",
       "_view_count": null,
       "_view_module": "@jupyter-widgets/base",
       "_view_module_version": "2.0.0",
       "_view_name": "StyleView",
       "background": null,
       "description_width": "",
       "font_size": null,
       "text_color": null
      }
     },
     "acaf790474654f41a5a58d1f80a034b5": {
      "model_module": "@jupyter-widgets/controls",
      "model_module_version": "2.0.0",
      "model_name": "HTMLStyleModel",
      "state": {
       "_model_module": "@jupyter-widgets/controls",
       "_model_module_version": "2.0.0",
       "_model_name": "HTMLStyleModel",
       "_view_count": null,
       "_view_module": "@jupyter-widgets/base",
       "_view_module_version": "2.0.0",
       "_view_name": "StyleView",
       "background": null,
       "description_width": "",
       "font_size": null,
       "text_color": null
      }
     },
     "ae0fbfc1644e49a4902259776fc331fb": {
      "model_module": "@jupyter-widgets/base",
      "model_module_version": "2.0.0",
      "model_name": "LayoutModel",
      "state": {
       "_model_module": "@jupyter-widgets/base",
       "_model_module_version": "2.0.0",
       "_model_name": "LayoutModel",
       "_view_count": null,
       "_view_module": "@jupyter-widgets/base",
       "_view_module_version": "2.0.0",
       "_view_name": "LayoutView",
       "align_content": null,
       "align_items": null,
       "align_self": null,
       "border_bottom": null,
       "border_left": null,
       "border_right": null,
       "border_top": null,
       "bottom": null,
       "display": null,
       "flex": null,
       "flex_flow": null,
       "grid_area": null,
       "grid_auto_columns": null,
       "grid_auto_flow": null,
       "grid_auto_rows": null,
       "grid_column": null,
       "grid_gap": null,
       "grid_row": null,
       "grid_template_areas": null,
       "grid_template_columns": null,
       "grid_template_rows": null,
       "height": null,
       "justify_content": null,
       "justify_items": null,
       "left": null,
       "margin": null,
       "max_height": null,
       "max_width": null,
       "min_height": null,
       "min_width": null,
       "object_fit": null,
       "object_position": null,
       "order": null,
       "overflow": null,
       "padding": null,
       "right": null,
       "top": null,
       "visibility": null,
       "width": null
      }
     },
     "af91eea7663d44149f9fa9d900d2033f": {
      "model_module": "@jupyter-widgets/controls",
      "model_module_version": "2.0.0",
      "model_name": "HTMLModel",
      "state": {
       "_dom_classes": [],
       "_model_module": "@jupyter-widgets/controls",
       "_model_module_version": "2.0.0",
       "_model_name": "HTMLModel",
       "_view_count": null,
       "_view_module": "@jupyter-widgets/controls",
       "_view_module_version": "2.0.0",
       "_view_name": "HTMLView",
       "description": "",
       "description_allow_html": false,
       "layout": "IPY_MODEL_06b6174e63c2499dbb78ee4c260c3ecf",
       "placeholder": "​",
       "style": "IPY_MODEL_35437e96d4224475aa998d2fc38ddf0f",
       "tabbable": null,
       "tooltip": null,
       "value": "Map: 100%"
      }
     },
     "b2470a7058d149afb107e02bb8badaa6": {
      "model_module": "@jupyter-widgets/controls",
      "model_module_version": "2.0.0",
      "model_name": "ProgressStyleModel",
      "state": {
       "_model_module": "@jupyter-widgets/controls",
       "_model_module_version": "2.0.0",
       "_model_name": "ProgressStyleModel",
       "_view_count": null,
       "_view_module": "@jupyter-widgets/base",
       "_view_module_version": "2.0.0",
       "_view_name": "StyleView",
       "bar_color": null,
       "description_width": ""
      }
     },
     "b9e5ef86201c43e8a3d2a28cdc053651": {
      "model_module": "@jupyter-widgets/controls",
      "model_module_version": "2.0.0",
      "model_name": "FloatProgressModel",
      "state": {
       "_dom_classes": [],
       "_model_module": "@jupyter-widgets/controls",
       "_model_module_version": "2.0.0",
       "_model_name": "FloatProgressModel",
       "_view_count": null,
       "_view_module": "@jupyter-widgets/controls",
       "_view_module_version": "2.0.0",
       "_view_name": "ProgressView",
       "bar_style": "success",
       "description": "",
       "description_allow_html": false,
       "layout": "IPY_MODEL_f80f6ee29c4c4e0d9b1e3396817235f4",
       "max": 76946.0,
       "min": 0.0,
       "orientation": "horizontal",
       "style": "IPY_MODEL_9e5d0829f8b741e5a2899efbe5c69dd4",
       "tabbable": null,
       "tooltip": null,
       "value": 76946.0
      }
     },
     "bb756f0632d7490e992c0b318a5c2471": {
      "model_module": "@jupyter-widgets/controls",
      "model_module_version": "2.0.0",
      "model_name": "ProgressStyleModel",
      "state": {
       "_model_module": "@jupyter-widgets/controls",
       "_model_module_version": "2.0.0",
       "_model_name": "ProgressStyleModel",
       "_view_count": null,
       "_view_module": "@jupyter-widgets/base",
       "_view_module_version": "2.0.0",
       "_view_name": "StyleView",
       "bar_color": null,
       "description_width": ""
      }
     },
     "c8698f15483a45b485f2ab1c25487e99": {
      "model_module": "@jupyter-widgets/controls",
      "model_module_version": "2.0.0",
      "model_name": "FloatProgressModel",
      "state": {
       "_dom_classes": [],
       "_model_module": "@jupyter-widgets/controls",
       "_model_module_version": "2.0.0",
       "_model_name": "FloatProgressModel",
       "_view_count": null,
       "_view_module": "@jupyter-widgets/controls",
       "_view_module_version": "2.0.0",
       "_view_name": "ProgressView",
       "bar_style": "success",
       "description": "",
       "description_allow_html": false,
       "layout": "IPY_MODEL_9bc4575550124b9e92318e6495eb4509",
       "max": 437992753.0,
       "min": 0.0,
       "orientation": "horizontal",
       "style": "IPY_MODEL_5da225f404d74933872929863beec117",
       "tabbable": null,
       "tooltip": null,
       "value": 437992753.0
      }
     },
     "cdb68790bfd8467baab12fe52e650a12": {
      "model_module": "@jupyter-widgets/controls",
      "model_module_version": "2.0.0",
      "model_name": "HBoxModel",
      "state": {
       "_dom_classes": [],
       "_model_module": "@jupyter-widgets/controls",
       "_model_module_version": "2.0.0",
       "_model_name": "HBoxModel",
       "_view_count": null,
       "_view_module": "@jupyter-widgets/controls",
       "_view_module_version": "2.0.0",
       "_view_name": "HBoxView",
       "box_style": "",
       "children": [
        "IPY_MODEL_dafc86455e6a448a8cddacfd0c197b52",
        "IPY_MODEL_10a5f6001921436c9130071da5d5b14d",
        "IPY_MODEL_4efe53ebc61548f2b78dd8a186b8f39f"
       ],
       "layout": "IPY_MODEL_2cd4b79583ae48cf8abd5f938bf3d93d",
       "tabbable": null,
       "tooltip": null
      }
     },
     "cdd933e725464112ace1e99fb5daba9d": {
      "model_module": "@jupyter-widgets/controls",
      "model_module_version": "2.0.0",
      "model_name": "FloatProgressModel",
      "state": {
       "_dom_classes": [],
       "_model_module": "@jupyter-widgets/controls",
       "_model_module_version": "2.0.0",
       "_model_name": "FloatProgressModel",
       "_view_count": null,
       "_view_module": "@jupyter-widgets/controls",
       "_view_module_version": "2.0.0",
       "_view_name": "ProgressView",
       "bar_style": "success",
       "description": "",
       "description_allow_html": false,
       "layout": "IPY_MODEL_dcf69189cfe44ae39fb2be7d54f81559",
       "max": 307787.0,
       "min": 0.0,
       "orientation": "horizontal",
       "style": "IPY_MODEL_15cdf4c3d83d46b18e3cdced8cfb79d6",
       "tabbable": null,
       "tooltip": null,
       "value": 307787.0
      }
     },
     "ce127c44dfb14b848405bc0d8c02ca75": {
      "model_module": "@jupyter-widgets/controls",
      "model_module_version": "2.0.0",
      "model_name": "HTMLModel",
      "state": {
       "_dom_classes": [],
       "_model_module": "@jupyter-widgets/controls",
       "_model_module_version": "2.0.0",
       "_model_name": "HTMLModel",
       "_view_count": null,
       "_view_module": "@jupyter-widgets/controls",
       "_view_module_version": "2.0.0",
       "_view_name": "HTMLView",
       "description": "",
       "description_allow_html": false,
       "layout": "IPY_MODEL_e7a595df008f4019b94972e70ed9eaf4",
       "placeholder": "​",
       "style": "IPY_MODEL_f7314ac6e0304813a56bb6718d146635",
       "tabbable": null,
       "tooltip": null,
       "value": " 307787/307787 [00:47&lt;00:00, 6241.35 examples/s]"
      }
     },
     "d0e1296183524030b3fcb45053a58884": {
      "model_module": "@jupyter-widgets/controls",
      "model_module_version": "2.0.0",
      "model_name": "HBoxModel",
      "state": {
       "_dom_classes": [],
       "_model_module": "@jupyter-widgets/controls",
       "_model_module_version": "2.0.0",
       "_model_name": "HBoxModel",
       "_view_count": null,
       "_view_module": "@jupyter-widgets/controls",
       "_view_module_version": "2.0.0",
       "_view_name": "HBoxView",
       "box_style": "",
       "children": [
        "IPY_MODEL_551a21a67a0246f8a51566502701be11",
        "IPY_MODEL_cdd933e725464112ace1e99fb5daba9d",
        "IPY_MODEL_ce127c44dfb14b848405bc0d8c02ca75"
       ],
       "layout": "IPY_MODEL_985fceb88ade476aa43aaf204d262356",
       "tabbable": null,
       "tooltip": null
      }
     },
     "dafc86455e6a448a8cddacfd0c197b52": {
      "model_module": "@jupyter-widgets/controls",
      "model_module_version": "2.0.0",
      "model_name": "HTMLModel",
      "state": {
       "_dom_classes": [],
       "_model_module": "@jupyter-widgets/controls",
       "_model_module_version": "2.0.0",
       "_model_name": "HTMLModel",
       "_view_count": null,
       "_view_module": "@jupyter-widgets/controls",
       "_view_module_version": "2.0.0",
       "_view_name": "HTMLView",
       "description": "",
       "description_allow_html": false,
       "layout": "IPY_MODEL_8a1b7b3013c34a4b9fb8efcb0069d381",
       "placeholder": "​",
       "style": "IPY_MODEL_ab4efa1b61ee40fd826ec689c3a5be13",
       "tabbable": null,
       "tooltip": null,
       "value": "vocab.txt: 100%"
      }
     },
     "db3395cd79ca45cdbe975ca976635365": {
      "model_module": "@jupyter-widgets/controls",
      "model_module_version": "2.0.0",
      "model_name": "HTMLStyleModel",
      "state": {
       "_model_module": "@jupyter-widgets/controls",
       "_model_module_version": "2.0.0",
       "_model_name": "HTMLStyleModel",
       "_view_count": null,
       "_view_module": "@jupyter-widgets/base",
       "_view_module_version": "2.0.0",
       "_view_name": "StyleView",
       "background": null,
       "description_width": "",
       "font_size": null,
       "text_color": null
      }
     },
     "dc0b369a50ed483d96a8033255728c39": {
      "model_module": "@jupyter-widgets/controls",
      "model_module_version": "2.0.0",
      "model_name": "HTMLStyleModel",
      "state": {
       "_model_module": "@jupyter-widgets/controls",
       "_model_module_version": "2.0.0",
       "_model_name": "HTMLStyleModel",
       "_view_count": null,
       "_view_module": "@jupyter-widgets/base",
       "_view_module_version": "2.0.0",
       "_view_name": "StyleView",
       "background": null,
       "description_width": "",
       "font_size": null,
       "text_color": null
      }
     },
     "dcf69189cfe44ae39fb2be7d54f81559": {
      "model_module": "@jupyter-widgets/base",
      "model_module_version": "2.0.0",
      "model_name": "LayoutModel",
      "state": {
       "_model_module": "@jupyter-widgets/base",
       "_model_module_version": "2.0.0",
       "_model_name": "LayoutModel",
       "_view_count": null,
       "_view_module": "@jupyter-widgets/base",
       "_view_module_version": "2.0.0",
       "_view_name": "LayoutView",
       "align_content": null,
       "align_items": null,
       "align_self": null,
       "border_bottom": null,
       "border_left": null,
       "border_right": null,
       "border_top": null,
       "bottom": null,
       "display": null,
       "flex": null,
       "flex_flow": null,
       "grid_area": null,
       "grid_auto_columns": null,
       "grid_auto_flow": null,
       "grid_auto_rows": null,
       "grid_column": null,
       "grid_gap": null,
       "grid_row": null,
       "grid_template_areas": null,
       "grid_template_columns": null,
       "grid_template_rows": null,
       "height": null,
       "justify_content": null,
       "justify_items": null,
       "left": null,
       "margin": null,
       "max_height": null,
       "max_width": null,
       "min_height": null,
       "min_width": null,
       "object_fit": null,
       "object_position": null,
       "order": null,
       "overflow": null,
       "padding": null,
       "right": null,
       "top": null,
       "visibility": null,
       "width": null
      }
     },
     "dfa3562e6fcc40609c73ad6d2dfc9374": {
      "model_module": "@jupyter-widgets/controls",
      "model_module_version": "2.0.0",
      "model_name": "HTMLModel",
      "state": {
       "_dom_classes": [],
       "_model_module": "@jupyter-widgets/controls",
       "_model_module_version": "2.0.0",
       "_model_name": "HTMLModel",
       "_view_count": null,
       "_view_module": "@jupyter-widgets/controls",
       "_view_module_version": "2.0.0",
       "_view_name": "HTMLView",
       "description": "",
       "description_allow_html": false,
       "layout": "IPY_MODEL_f130009b6cae43369f9a9fd8b480f6ad",
       "placeholder": "​",
       "style": "IPY_MODEL_73c96ed893134242b09b158c15fcf90f",
       "tabbable": null,
       "tooltip": null,
       "value": " 252/252 [00:00&lt;00:00, 24.5kB/s]"
      }
     },
     "e3387c1338c4417781dd57bf7f99f586": {
      "model_module": "@jupyter-widgets/base",
      "model_module_version": "2.0.0",
      "model_name": "LayoutModel",
      "state": {
       "_model_module": "@jupyter-widgets/base",
       "_model_module_version": "2.0.0",
       "_model_name": "LayoutModel",
       "_view_count": null,
       "_view_module": "@jupyter-widgets/base",
       "_view_module_version": "2.0.0",
       "_view_name": "LayoutView",
       "align_content": null,
       "align_items": null,
       "align_self": null,
       "border_bottom": null,
       "border_left": null,
       "border_right": null,
       "border_top": null,
       "bottom": null,
       "display": null,
       "flex": null,
       "flex_flow": null,
       "grid_area": null,
       "grid_auto_columns": null,
       "grid_auto_flow": null,
       "grid_auto_rows": null,
       "grid_column": null,
       "grid_gap": null,
       "grid_row": null,
       "grid_template_areas": null,
       "grid_template_columns": null,
       "grid_template_rows": null,
       "height": null,
       "justify_content": null,
       "justify_items": null,
       "left": null,
       "margin": null,
       "max_height": null,
       "max_width": null,
       "min_height": null,
       "min_width": null,
       "object_fit": null,
       "object_position": null,
       "order": null,
       "overflow": null,
       "padding": null,
       "right": null,
       "top": null,
       "visibility": null,
       "width": null
      }
     },
     "e6a52bbe2b3a4cb1a512fcc0a45c5d8f": {
      "model_module": "@jupyter-widgets/controls",
      "model_module_version": "2.0.0",
      "model_name": "HTMLModel",
      "state": {
       "_dom_classes": [],
       "_model_module": "@jupyter-widgets/controls",
       "_model_module_version": "2.0.0",
       "_model_name": "HTMLModel",
       "_view_count": null,
       "_view_module": "@jupyter-widgets/controls",
       "_view_module_version": "2.0.0",
       "_view_name": "HTMLView",
       "description": "",
       "description_allow_html": false,
       "layout": "IPY_MODEL_5e39f97a8fd648f881c4480ae54d74f9",
       "placeholder": "​",
       "style": "IPY_MODEL_4c903c8187cd4ed7a17a0ceed9605b6c",
       "tabbable": null,
       "tooltip": null,
       "value": " 112/112 [00:00&lt;00:00, 11.5kB/s]"
      }
     },
     "e7a595df008f4019b94972e70ed9eaf4": {
      "model_module": "@jupyter-widgets/base",
      "model_module_version": "2.0.0",
      "model_name": "LayoutModel",
      "state": {
       "_model_module": "@jupyter-widgets/base",
       "_model_module_version": "2.0.0",
       "_model_name": "LayoutModel",
       "_view_count": null,
       "_view_module": "@jupyter-widgets/base",
       "_view_module_version": "2.0.0",
       "_view_name": "LayoutView",
       "align_content": null,
       "align_items": null,
       "align_self": null,
       "border_bottom": null,
       "border_left": null,
       "border_right": null,
       "border_top": null,
       "bottom": null,
       "display": null,
       "flex": null,
       "flex_flow": null,
       "grid_area": null,
       "grid_auto_columns": null,
       "grid_auto_flow": null,
       "grid_auto_rows": null,
       "grid_column": null,
       "grid_gap": null,
       "grid_row": null,
       "grid_template_areas": null,
       "grid_template_columns": null,
       "grid_template_rows": null,
       "height": null,
       "justify_content": null,
       "justify_items": null,
       "left": null,
       "margin": null,
       "max_height": null,
       "max_width": null,
       "min_height": null,
       "min_width": null,
       "object_fit": null,
       "object_position": null,
       "order": null,
       "overflow": null,
       "padding": null,
       "right": null,
       "top": null,
       "visibility": null,
       "width": null
      }
     },
     "e969a71dbbf2445c911046b0e800bd99": {
      "model_module": "@jupyter-widgets/base",
      "model_module_version": "2.0.0",
      "model_name": "LayoutModel",
      "state": {
       "_model_module": "@jupyter-widgets/base",
       "_model_module_version": "2.0.0",
       "_model_name": "LayoutModel",
       "_view_count": null,
       "_view_module": "@jupyter-widgets/base",
       "_view_module_version": "2.0.0",
       "_view_name": "LayoutView",
       "align_content": null,
       "align_items": null,
       "align_self": null,
       "border_bottom": null,
       "border_left": null,
       "border_right": null,
       "border_top": null,
       "bottom": null,
       "display": null,
       "flex": null,
       "flex_flow": null,
       "grid_area": null,
       "grid_auto_columns": null,
       "grid_auto_flow": null,
       "grid_auto_rows": null,
       "grid_column": null,
       "grid_gap": null,
       "grid_row": null,
       "grid_template_areas": null,
       "grid_template_columns": null,
       "grid_template_rows": null,
       "height": null,
       "justify_content": null,
       "justify_items": null,
       "left": null,
       "margin": null,
       "max_height": null,
       "max_width": null,
       "min_height": null,
       "min_width": null,
       "object_fit": null,
       "object_position": null,
       "order": null,
       "overflow": null,
       "padding": null,
       "right": null,
       "top": null,
       "visibility": null,
       "width": null
      }
     },
     "ece7510b9ad34b2e8dc7f57a4c075893": {
      "model_module": "@jupyter-widgets/base",
      "model_module_version": "2.0.0",
      "model_name": "LayoutModel",
      "state": {
       "_model_module": "@jupyter-widgets/base",
       "_model_module_version": "2.0.0",
       "_model_name": "LayoutModel",
       "_view_count": null,
       "_view_module": "@jupyter-widgets/base",
       "_view_module_version": "2.0.0",
       "_view_name": "LayoutView",
       "align_content": null,
       "align_items": null,
       "align_self": null,
       "border_bottom": null,
       "border_left": null,
       "border_right": null,
       "border_top": null,
       "bottom": null,
       "display": null,
       "flex": null,
       "flex_flow": null,
       "grid_area": null,
       "grid_auto_columns": null,
       "grid_auto_flow": null,
       "grid_auto_rows": null,
       "grid_column": null,
       "grid_gap": null,
       "grid_row": null,
       "grid_template_areas": null,
       "grid_template_columns": null,
       "grid_template_rows": null,
       "height": null,
       "justify_content": null,
       "justify_items": null,
       "left": null,
       "margin": null,
       "max_height": null,
       "max_width": null,
       "min_height": null,
       "min_width": null,
       "object_fit": null,
       "object_position": null,
       "order": null,
       "overflow": null,
       "padding": null,
       "right": null,
       "top": null,
       "visibility": null,
       "width": null
      }
     },
     "ee59d6f52f5c49e589e2b66887fb6faa": {
      "model_module": "@jupyter-widgets/controls",
      "model_module_version": "2.0.0",
      "model_name": "HTMLModel",
      "state": {
       "_dom_classes": [],
       "_model_module": "@jupyter-widgets/controls",
       "_model_module_version": "2.0.0",
       "_model_name": "HTMLModel",
       "_view_count": null,
       "_view_module": "@jupyter-widgets/controls",
       "_view_module_version": "2.0.0",
       "_view_name": "HTMLView",
       "description": "",
       "description_allow_html": false,
       "layout": "IPY_MODEL_3da8acdfef4b4388bb5a59b3a5c8b6dd",
       "placeholder": "​",
       "style": "IPY_MODEL_3da5ca25a0f44cdaaf4354add085f00a",
       "tabbable": null,
       "tooltip": null,
       "value": "Map: 100%"
      }
     },
     "f03b5bf15396457797de7dff3b92183f": {
      "model_module": "@jupyter-widgets/base",
      "model_module_version": "2.0.0",
      "model_name": "LayoutModel",
      "state": {
       "_model_module": "@jupyter-widgets/base",
       "_model_module_version": "2.0.0",
       "_model_name": "LayoutModel",
       "_view_count": null,
       "_view_module": "@jupyter-widgets/base",
       "_view_module_version": "2.0.0",
       "_view_name": "LayoutView",
       "align_content": null,
       "align_items": null,
       "align_self": null,
       "border_bottom": null,
       "border_left": null,
       "border_right": null,
       "border_top": null,
       "bottom": null,
       "display": null,
       "flex": null,
       "flex_flow": null,
       "grid_area": null,
       "grid_auto_columns": null,
       "grid_auto_flow": null,
       "grid_auto_rows": null,
       "grid_column": null,
       "grid_gap": null,
       "grid_row": null,
       "grid_template_areas": null,
       "grid_template_columns": null,
       "grid_template_rows": null,
       "height": null,
       "justify_content": null,
       "justify_items": null,
       "left": null,
       "margin": null,
       "max_height": null,
       "max_width": null,
       "min_height": null,
       "min_width": null,
       "object_fit": null,
       "object_position": null,
       "order": null,
       "overflow": null,
       "padding": null,
       "right": null,
       "top": null,
       "visibility": null,
       "width": null
      }
     },
     "f130009b6cae43369f9a9fd8b480f6ad": {
      "model_module": "@jupyter-widgets/base",
      "model_module_version": "2.0.0",
      "model_name": "LayoutModel",
      "state": {
       "_model_module": "@jupyter-widgets/base",
       "_model_module_version": "2.0.0",
       "_model_name": "LayoutModel",
       "_view_count": null,
       "_view_module": "@jupyter-widgets/base",
       "_view_module_version": "2.0.0",
       "_view_name": "LayoutView",
       "align_content": null,
       "align_items": null,
       "align_self": null,
       "border_bottom": null,
       "border_left": null,
       "border_right": null,
       "border_top": null,
       "bottom": null,
       "display": null,
       "flex": null,
       "flex_flow": null,
       "grid_area": null,
       "grid_auto_columns": null,
       "grid_auto_flow": null,
       "grid_auto_rows": null,
       "grid_column": null,
       "grid_gap": null,
       "grid_row": null,
       "grid_template_areas": null,
       "grid_template_columns": null,
       "grid_template_rows": null,
       "height": null,
       "justify_content": null,
       "justify_items": null,
       "left": null,
       "margin": null,
       "max_height": null,
       "max_width": null,
       "min_height": null,
       "min_width": null,
       "object_fit": null,
       "object_position": null,
       "order": null,
       "overflow": null,
       "padding": null,
       "right": null,
       "top": null,
       "visibility": null,
       "width": null
      }
     },
     "f3b1004bb25e408fbd9f5e7958d0a082": {
      "model_module": "@jupyter-widgets/controls",
      "model_module_version": "2.0.0",
      "model_name": "HTMLStyleModel",
      "state": {
       "_model_module": "@jupyter-widgets/controls",
       "_model_module_version": "2.0.0",
       "_model_name": "HTMLStyleModel",
       "_view_count": null,
       "_view_module": "@jupyter-widgets/base",
       "_view_module_version": "2.0.0",
       "_view_name": "StyleView",
       "background": null,
       "description_width": "",
       "font_size": null,
       "text_color": null
      }
     },
     "f6026c9ef9f44147ac147b9f3e97327e": {
      "model_module": "@jupyter-widgets/controls",
      "model_module_version": "2.0.0",
      "model_name": "HTMLModel",
      "state": {
       "_dom_classes": [],
       "_model_module": "@jupyter-widgets/controls",
       "_model_module_version": "2.0.0",
       "_model_name": "HTMLModel",
       "_view_count": null,
       "_view_module": "@jupyter-widgets/controls",
       "_view_module_version": "2.0.0",
       "_view_name": "HTMLView",
       "description": "",
       "description_allow_html": false,
       "layout": "IPY_MODEL_53695d1bad504f1c8b5837a628a591a9",
       "placeholder": "​",
       "style": "IPY_MODEL_acaf790474654f41a5a58d1f80a034b5",
       "tabbable": null,
       "tooltip": null,
       "value": "special_tokens_map.json: 100%"
      }
     },
     "f7314ac6e0304813a56bb6718d146635": {
      "model_module": "@jupyter-widgets/controls",
      "model_module_version": "2.0.0",
      "model_name": "HTMLStyleModel",
      "state": {
       "_model_module": "@jupyter-widgets/controls",
       "_model_module_version": "2.0.0",
       "_model_name": "HTMLStyleModel",
       "_view_count": null,
       "_view_module": "@jupyter-widgets/base",
       "_view_module_version": "2.0.0",
       "_view_name": "StyleView",
       "background": null,
       "description_width": "",
       "font_size": null,
       "text_color": null
      }
     },
     "f77692cd671b4d848585ff719dd022ef": {
      "model_module": "@jupyter-widgets/controls",
      "model_module_version": "2.0.0",
      "model_name": "HTMLModel",
      "state": {
       "_dom_classes": [],
       "_model_module": "@jupyter-widgets/controls",
       "_model_module_version": "2.0.0",
       "_model_name": "HTMLModel",
       "_view_count": null,
       "_view_module": "@jupyter-widgets/controls",
       "_view_module_version": "2.0.0",
       "_view_name": "HTMLView",
       "description": "",
       "description_allow_html": false,
       "layout": "IPY_MODEL_a5f25d3723dd42d2af3025ee4c878810",
       "placeholder": "​",
       "style": "IPY_MODEL_dc0b369a50ed483d96a8033255728c39",
       "tabbable": null,
       "tooltip": null,
       "value": "tokenizer_config.json: 100%"
      }
     },
     "f80f6ee29c4c4e0d9b1e3396817235f4": {
      "model_module": "@jupyter-widgets/base",
      "model_module_version": "2.0.0",
      "model_name": "LayoutModel",
      "state": {
       "_model_module": "@jupyter-widgets/base",
       "_model_module_version": "2.0.0",
       "_model_name": "LayoutModel",
       "_view_count": null,
       "_view_module": "@jupyter-widgets/base",
       "_view_module_version": "2.0.0",
       "_view_name": "LayoutView",
       "align_content": null,
       "align_items": null,
       "align_self": null,
       "border_bottom": null,
       "border_left": null,
       "border_right": null,
       "border_top": null,
       "bottom": null,
       "display": null,
       "flex": null,
       "flex_flow": null,
       "grid_area": null,
       "grid_auto_columns": null,
       "grid_auto_flow": null,
       "grid_auto_rows": null,
       "grid_column": null,
       "grid_gap": null,
       "grid_row": null,
       "grid_template_areas": null,
       "grid_template_columns": null,
       "grid_template_rows": null,
       "height": null,
       "justify_content": null,
       "justify_items": null,
       "left": null,
       "margin": null,
       "max_height": null,
       "max_width": null,
       "min_height": null,
       "min_width": null,
       "object_fit": null,
       "object_position": null,
       "order": null,
       "overflow": null,
       "padding": null,
       "right": null,
       "top": null,
       "visibility": null,
       "width": null
      }
     },
     "f831922b5f8e4ec6b2d6de26d964c8dd": {
      "model_module": "@jupyter-widgets/base",
      "model_module_version": "2.0.0",
      "model_name": "LayoutModel",
      "state": {
       "_model_module": "@jupyter-widgets/base",
       "_model_module_version": "2.0.0",
       "_model_name": "LayoutModel",
       "_view_count": null,
       "_view_module": "@jupyter-widgets/base",
       "_view_module_version": "2.0.0",
       "_view_name": "LayoutView",
       "align_content": null,
       "align_items": null,
       "align_self": null,
       "border_bottom": null,
       "border_left": null,
       "border_right": null,
       "border_top": null,
       "bottom": null,
       "display": null,
       "flex": null,
       "flex_flow": null,
       "grid_area": null,
       "grid_auto_columns": null,
       "grid_auto_flow": null,
       "grid_auto_rows": null,
       "grid_column": null,
       "grid_gap": null,
       "grid_row": null,
       "grid_template_areas": null,
       "grid_template_columns": null,
       "grid_template_rows": null,
       "height": null,
       "justify_content": null,
       "justify_items": null,
       "left": null,
       "margin": null,
       "max_height": null,
       "max_width": null,
       "min_height": null,
       "min_width": null,
       "object_fit": null,
       "object_position": null,
       "order": null,
       "overflow": null,
       "padding": null,
       "right": null,
       "top": null,
       "visibility": null,
       "width": null
      }
     },
     "f88c0b69182c4fc2afb2df7d987ec663": {
      "model_module": "@jupyter-widgets/base",
      "model_module_version": "2.0.0",
      "model_name": "LayoutModel",
      "state": {
       "_model_module": "@jupyter-widgets/base",
       "_model_module_version": "2.0.0",
       "_model_name": "LayoutModel",
       "_view_count": null,
       "_view_module": "@jupyter-widgets/base",
       "_view_module_version": "2.0.0",
       "_view_name": "LayoutView",
       "align_content": null,
       "align_items": null,
       "align_self": null,
       "border_bottom": null,
       "border_left": null,
       "border_right": null,
       "border_top": null,
       "bottom": null,
       "display": null,
       "flex": null,
       "flex_flow": null,
       "grid_area": null,
       "grid_auto_columns": null,
       "grid_auto_flow": null,
       "grid_auto_rows": null,
       "grid_column": null,
       "grid_gap": null,
       "grid_row": null,
       "grid_template_areas": null,
       "grid_template_columns": null,
       "grid_template_rows": null,
       "height": null,
       "justify_content": null,
       "justify_items": null,
       "left": null,
       "margin": null,
       "max_height": null,
       "max_width": null,
       "min_height": null,
       "min_width": null,
       "object_fit": null,
       "object_position": null,
       "order": null,
       "overflow": null,
       "padding": null,
       "right": null,
       "top": null,
       "visibility": null,
       "width": null
      }
     }
    },
    "version_major": 2,
    "version_minor": 0
   }
  }
 },
 "nbformat": 4,
 "nbformat_minor": 5
}
