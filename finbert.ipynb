{
 "cells": [
  {
   "cell_type": "code",
   "execution_count": 1,
   "id": "89c0768c",
   "metadata": {
    "_cell_guid": "b1076dfc-b9ad-4769-8c92-a6c4dae69d19",
    "_uuid": "8f2839f25d086af736a60e9eeb907d3b93b6e0e5",
    "execution": {
     "iopub.execute_input": "2025-06-14T20:38:43.717803Z",
     "iopub.status.busy": "2025-06-14T20:38:43.717452Z",
     "iopub.status.idle": "2025-06-14T20:39:01.664881Z",
     "shell.execute_reply": "2025-06-14T20:39:01.664204Z"
    },
    "papermill": {
     "duration": 17.958178,
     "end_time": "2025-06-14T20:39:01.666405",
     "exception": false,
     "start_time": "2025-06-14T20:38:43.708227",
     "status": "completed"
    },
    "tags": []
   },
   "outputs": [
    {
     "name": "stdout",
     "output_type": "stream",
     "text": [
      "env: TOKENIZERS_PARALLELISM=false\n",
      "env: WANDB_DISABLED=true\n"
     ]
    }
   ],
   "source": [
    "%env TOKENIZERS_PARALLELISM=false\n",
    "%env WANDB_DISABLED=true\n",
    "import numpy as np\n",
    "import pandas as pd\n",
    "\n",
    "from sklearn.preprocessing import LabelEncoder\n",
    "from sklearn.model_selection import train_test_split\n",
    "\n",
    "from transformers import (\n",
    "    AutoTokenizer, \n",
    "    AutoModel, \n",
    "    AdamW, \n",
    "    AutoConfig, \n",
    "    DataCollatorWithPadding,\n",
    "    TrainingArguments,\n",
    "    Trainer,\n",
    "    AutoModelForSequenceClassification\n",
    ")\n",
    "\n",
    "from datasets import Dataset\n",
    "\n",
    "import torch\n",
    "import torch.nn as nn\n",
    "from tqdm.auto import tqdm\n",
    "from torch.utils.data import DataLoader"
   ]
  },
  {
   "cell_type": "code",
   "execution_count": 2,
   "id": "958df4eb",
   "metadata": {
    "execution": {
     "iopub.execute_input": "2025-06-14T20:39:01.681852Z",
     "iopub.status.busy": "2025-06-14T20:39:01.681346Z",
     "iopub.status.idle": "2025-06-14T20:39:01.684667Z",
     "shell.execute_reply": "2025-06-14T20:39:01.683996Z"
    },
    "papermill": {
     "duration": 0.012033,
     "end_time": "2025-06-14T20:39:01.685909",
     "exception": false,
     "start_time": "2025-06-14T20:39:01.673876",
     "status": "completed"
    },
    "tags": []
   },
   "outputs": [],
   "source": [
    "class args:\n",
    "    model = 'ProsusAI/finbert'"
   ]
  },
  {
   "cell_type": "code",
   "execution_count": 3,
   "id": "328a2a49",
   "metadata": {
    "execution": {
     "iopub.execute_input": "2025-06-14T20:39:01.700368Z",
     "iopub.status.busy": "2025-06-14T20:39:01.700115Z",
     "iopub.status.idle": "2025-06-14T20:39:03.688467Z",
     "shell.execute_reply": "2025-06-14T20:39:03.687451Z"
    },
    "papermill": {
     "duration": 1.997333,
     "end_time": "2025-06-14T20:39:03.690068",
     "exception": false,
     "start_time": "2025-06-14T20:39:01.692735",
     "status": "completed"
    },
    "tags": []
   },
   "outputs": [],
   "source": [
    "\n",
    "df = pd.read_csv('/kaggle/input/news-sentiment-analysis/news.csv')"
   ]
  },
  {
   "cell_type": "code",
   "execution_count": 4,
   "id": "75f2c6b9",
   "metadata": {
    "execution": {
     "iopub.execute_input": "2025-06-14T20:39:03.705623Z",
     "iopub.status.busy": "2025-06-14T20:39:03.705319Z",
     "iopub.status.idle": "2025-06-14T20:39:03.774261Z",
     "shell.execute_reply": "2025-06-14T20:39:03.773280Z"
    },
    "papermill": {
     "duration": 0.07795,
     "end_time": "2025-06-14T20:39:03.775712",
     "exception": false,
     "start_time": "2025-06-14T20:39:03.697762",
     "status": "completed"
    },
    "tags": []
   },
   "outputs": [],
   "source": [
    "df.rename(columns={'sentiment': 'labels', 'news': 'messages'}, inplace=True)\n",
    "\n",
    "# Set date as index\n",
    "df['date'] = pd.to_datetime(df['date'])  # Convert to datetime if necessary\n",
    "df.set_index('date', inplace=True)"
   ]
  },
  {
   "cell_type": "code",
   "execution_count": 5,
   "id": "c3f6ecef",
   "metadata": {
    "execution": {
     "iopub.execute_input": "2025-06-14T20:39:03.790101Z",
     "iopub.status.busy": "2025-06-14T20:39:03.789842Z",
     "iopub.status.idle": "2025-06-14T20:39:03.869423Z",
     "shell.execute_reply": "2025-06-14T20:39:03.868397Z"
    },
    "papermill": {
     "duration": 0.088252,
     "end_time": "2025-06-14T20:39:03.870907",
     "exception": false,
     "start_time": "2025-06-14T20:39:03.782655",
     "status": "completed"
    },
    "tags": []
   },
   "outputs": [
    {
     "data": {
      "text/plain": [
       "labels\n",
       "0    217443\n",
       "1    210039\n",
       "Name: count, dtype: int64"
      ]
     },
     "execution_count": 5,
     "metadata": {},
     "output_type": "execute_result"
    }
   ],
   "source": [
    "le = LabelEncoder()\n",
    "df['labels'] = le.fit_transform(df['labels'])\n",
    "df['labels'].value_counts()"
   ]
  },
  {
   "cell_type": "code",
   "execution_count": 6,
   "id": "91b099d0",
   "metadata": {
    "execution": {
     "iopub.execute_input": "2025-06-14T20:39:03.888585Z",
     "iopub.status.busy": "2025-06-14T20:39:03.888319Z",
     "iopub.status.idle": "2025-06-14T20:39:03.979646Z",
     "shell.execute_reply": "2025-06-14T20:39:03.978677Z"
    },
    "papermill": {
     "duration": 0.101496,
     "end_time": "2025-06-14T20:39:03.981007",
     "exception": false,
     "start_time": "2025-06-14T20:39:03.879511",
     "status": "completed"
    },
    "tags": []
   },
   "outputs": [
    {
     "data": {
      "text/plain": [
       "1586"
      ]
     },
     "execution_count": 6,
     "metadata": {},
     "output_type": "execute_result"
    }
   ],
   "source": [
    "sentences_lengths = np.array(list(map(len, df['messages'])))\n",
    "np.max(sentences_lengths)"
   ]
  },
  {
   "cell_type": "code",
   "execution_count": 7,
   "id": "fb8b34c6",
   "metadata": {
    "execution": {
     "iopub.execute_input": "2025-06-14T20:39:03.998544Z",
     "iopub.status.busy": "2025-06-14T20:39:03.998292Z",
     "iopub.status.idle": "2025-06-14T20:39:04.009716Z",
     "shell.execute_reply": "2025-06-14T20:39:04.008991Z"
    },
    "papermill": {
     "duration": 0.021151,
     "end_time": "2025-06-14T20:39:04.010978",
     "exception": false,
     "start_time": "2025-06-14T20:39:03.989827",
     "status": "completed"
    },
    "tags": []
   },
   "outputs": [
    {
     "data": {
      "text/plain": [
       "177"
      ]
     },
     "execution_count": 7,
     "metadata": {},
     "output_type": "execute_result"
    }
   ],
   "source": [
    "MAX_LEN = int(np.ceil(np.percentile(sentences_lengths, 90)))\n",
    "MAX_LEN"
   ]
  },
  {
   "cell_type": "markdown",
   "id": "f456e85e",
   "metadata": {
    "execution": {
     "iopub.execute_input": "2022-03-21T08:54:02.661604Z",
     "iopub.status.busy": "2022-03-21T08:54:02.661079Z",
     "iopub.status.idle": "2022-03-21T08:54:02.674078Z",
     "shell.execute_reply": "2022-03-21T08:54:02.673369Z",
     "shell.execute_reply.started": "2022-03-21T08:54:02.661565Z"
    },
    "papermill": {
     "duration": 0.007658,
     "end_time": "2025-06-14T20:39:04.026333",
     "exception": false,
     "start_time": "2025-06-14T20:39:04.018675",
     "status": "completed"
    },
    "tags": []
   },
   "source": [
    "Now let's split the given data into train, test and validation\n",
    "\n",
    "We will be using the train data to train the mode, the validation data to determiine the performance of the model and the test data to check how the model performs on unseen data\n",
    "\n",
    "We will stratify on the `labels` so that the data remains balanced for train, test and validation data"
   ]
  },
  {
   "cell_type": "code",
   "execution_count": 8,
   "id": "378c2515",
   "metadata": {
    "execution": {
     "iopub.execute_input": "2025-06-14T20:39:04.042191Z",
     "iopub.status.busy": "2025-06-14T20:39:04.041919Z",
     "iopub.status.idle": "2025-06-14T20:39:04.045188Z",
     "shell.execute_reply": "2025-06-14T20:39:04.044293Z"
    },
    "papermill": {
     "duration": 0.013265,
     "end_time": "2025-06-14T20:39:04.046666",
     "exception": false,
     "start_time": "2025-06-14T20:39:04.033401",
     "status": "completed"
    },
    "tags": []
   },
   "outputs": [],
   "source": [
    "# X, y = df['messages'].values, df['labels'].values\n",
    "\n",
    "# # train : test = 0.9 : 0.1\n",
    "# xtrain, xtest, ytrain, ytest = train_test_split(X, y, test_size=0.2, stratify=y)\n",
    "\n",
    "# # train : valid = 0.8 : 0.2\n",
    "# xtrain, xvalid, ytrain, yvalid = train_test_split(xtrain, ytrain, test_size=0.2, stratify=ytrain)\n",
    "\n",
    "# # train : valid : test = 0.72 : 0.18 : 0.10 (stratified on 'labels')"
   ]
  },
  {
   "cell_type": "code",
   "execution_count": 9,
   "id": "ed785038",
   "metadata": {
    "execution": {
     "iopub.execute_input": "2025-06-14T20:39:04.062971Z",
     "iopub.status.busy": "2025-06-14T20:39:04.062710Z",
     "iopub.status.idle": "2025-06-14T20:39:04.066016Z",
     "shell.execute_reply": "2025-06-14T20:39:04.065162Z"
    },
    "papermill": {
     "duration": 0.012898,
     "end_time": "2025-06-14T20:39:04.067322",
     "exception": false,
     "start_time": "2025-06-14T20:39:04.054424",
     "status": "completed"
    },
    "tags": []
   },
   "outputs": [],
   "source": [
    "#df= df.sample(frac=0.001)"
   ]
  },
  {
   "cell_type": "code",
   "execution_count": 10,
   "id": "36c96642",
   "metadata": {
    "execution": {
     "iopub.execute_input": "2025-06-14T20:39:04.083966Z",
     "iopub.status.busy": "2025-06-14T20:39:04.083709Z",
     "iopub.status.idle": "2025-06-14T20:39:04.115772Z",
     "shell.execute_reply": "2025-06-14T20:39:04.114834Z"
    },
    "papermill": {
     "duration": 0.041743,
     "end_time": "2025-06-14T20:39:04.117235",
     "exception": false,
     "start_time": "2025-06-14T20:39:04.075492",
     "status": "completed"
    },
    "tags": []
   },
   "outputs": [],
   "source": [
    "df = df.sort_index()\n",
    "\n",
    "total_rows = len(df)\n",
    "train_end = int(total_rows * 0.72)\n",
    "valid_end = train_end + int(total_rows * 0.18)\n",
    "\n",
    "train = df.iloc[:train_end]\n",
    "valid = df.iloc[train_end:valid_end]\n",
    "test = df.iloc[valid_end:]"
   ]
  },
  {
   "cell_type": "code",
   "execution_count": 11,
   "id": "3c35721b",
   "metadata": {
    "execution": {
     "iopub.execute_input": "2025-06-14T20:39:04.133783Z",
     "iopub.status.busy": "2025-06-14T20:39:04.133520Z",
     "iopub.status.idle": "2025-06-14T20:39:04.265916Z",
     "shell.execute_reply": "2025-06-14T20:39:04.264947Z"
    },
    "papermill": {
     "duration": 0.142298,
     "end_time": "2025-06-14T20:39:04.267507",
     "exception": false,
     "start_time": "2025-06-14T20:39:04.125209",
     "status": "completed"
    },
    "tags": []
   },
   "outputs": [],
   "source": [
    "# Convert to NumPy arrays\n",
    "X_train = train.drop(columns=['labels']).to_numpy()  # Features for training\n",
    "y_train = train['labels'].to_numpy()                # Target labels for training\n",
    "\n",
    "X_valid = valid.drop(columns=['labels']).to_numpy()  # Features for validation\n",
    "y_valid = valid['labels'].to_numpy()                 # Target labels for validation\n",
    "\n",
    "X_test = test.drop(columns=['labels']).to_numpy()    # Features for testing\n",
    "y_test = test['labels'].to_numpy()"
   ]
  },
  {
   "cell_type": "markdown",
   "id": "753c310c",
   "metadata": {
    "papermill": {
     "duration": 0.006812,
     "end_time": "2025-06-14T20:39:04.281527",
     "exception": false,
     "start_time": "2025-06-14T20:39:04.274715",
     "status": "completed"
    },
    "tags": []
   },
   "source": [
    "# Dataset"
   ]
  },
  {
   "cell_type": "code",
   "execution_count": 12,
   "id": "807c927f",
   "metadata": {
    "execution": {
     "iopub.execute_input": "2025-06-14T20:39:04.297468Z",
     "iopub.status.busy": "2025-06-14T20:39:04.297204Z",
     "iopub.status.idle": "2025-06-14T20:39:13.512004Z",
     "shell.execute_reply": "2025-06-14T20:39:13.511345Z"
    },
    "papermill": {
     "duration": 9.224535,
     "end_time": "2025-06-14T20:39:13.513640",
     "exception": false,
     "start_time": "2025-06-14T20:39:04.289105",
     "status": "completed"
    },
    "tags": []
   },
   "outputs": [],
   "source": [
    "X_train = [str(x) for x in X_train]\n",
    "X_valid = [str(x) for x in X_valid]\n",
    "X_test = [str(x) for x in X_test]"
   ]
  },
  {
   "cell_type": "code",
   "execution_count": 13,
   "id": "ba07c795",
   "metadata": {
    "execution": {
     "iopub.execute_input": "2025-06-14T20:39:13.529047Z",
     "iopub.status.busy": "2025-06-14T20:39:13.528816Z",
     "iopub.status.idle": "2025-06-14T20:39:14.356854Z",
     "shell.execute_reply": "2025-06-14T20:39:14.356067Z"
    },
    "papermill": {
     "duration": 0.836998,
     "end_time": "2025-06-14T20:39:14.358274",
     "exception": false,
     "start_time": "2025-06-14T20:39:13.521276",
     "status": "completed"
    },
    "tags": []
   },
   "outputs": [
    {
     "data": {
      "text/plain": [
       "Dataset({\n",
       "    features: ['text'],\n",
       "    num_rows: 42749\n",
       "})"
      ]
     },
     "execution_count": 13,
     "metadata": {},
     "output_type": "execute_result"
    }
   ],
   "source": [
    "train_dataset_raw = Dataset.from_dict({'text':X_train, 'labels':y_train})\n",
    "valid_dataset_raw = Dataset.from_dict({'text':X_valid, 'labels':y_valid})\n",
    "pred_dataset_raw = Dataset.from_dict({'text': X_test})\n",
    "pred_dataset_raw"
   ]
  },
  {
   "cell_type": "code",
   "execution_count": 14,
   "id": "72bc8995",
   "metadata": {
    "execution": {
     "iopub.execute_input": "2025-06-14T20:39:14.373600Z",
     "iopub.status.busy": "2025-06-14T20:39:14.373349Z",
     "iopub.status.idle": "2025-06-14T20:39:14.376618Z",
     "shell.execute_reply": "2025-06-14T20:39:14.375978Z"
    },
    "papermill": {
     "duration": 0.012087,
     "end_time": "2025-06-14T20:39:14.377708",
     "exception": false,
     "start_time": "2025-06-14T20:39:14.365621",
     "status": "completed"
    },
    "tags": []
   },
   "outputs": [],
   "source": [
    "def tokenize_fn(examples):\n",
    "    return tokenizer(examples['text'], truncation=True)"
   ]
  },
  {
   "cell_type": "code",
   "execution_count": 15,
   "id": "34b79104",
   "metadata": {
    "execution": {
     "iopub.execute_input": "2025-06-14T20:39:14.392428Z",
     "iopub.status.busy": "2025-06-14T20:39:14.392211Z",
     "iopub.status.idle": "2025-06-14T20:39:15.104718Z",
     "shell.execute_reply": "2025-06-14T20:39:15.103674Z"
    },
    "papermill": {
     "duration": 0.721336,
     "end_time": "2025-06-14T20:39:15.106203",
     "exception": false,
     "start_time": "2025-06-14T20:39:14.384867",
     "status": "completed"
    },
    "tags": []
   },
   "outputs": [
    {
     "data": {
      "application/vnd.jupyter.widget-view+json": {
       "model_id": "f2075e683e6241aab11c30fccf6f1d25",
       "version_major": 2,
       "version_minor": 0
      },
      "text/plain": [
       "tokenizer_config.json:   0%|          | 0.00/252 [00:00<?, ?B/s]"
      ]
     },
     "metadata": {},
     "output_type": "display_data"
    },
    {
     "data": {
      "application/vnd.jupyter.widget-view+json": {
       "model_id": "92c9c3990b00469db1593b0dbc450389",
       "version_major": 2,
       "version_minor": 0
      },
      "text/plain": [
       "config.json:   0%|          | 0.00/758 [00:00<?, ?B/s]"
      ]
     },
     "metadata": {},
     "output_type": "display_data"
    },
    {
     "data": {
      "application/vnd.jupyter.widget-view+json": {
       "model_id": "24a9cbe808d246faad8f3e957dae0c77",
       "version_major": 2,
       "version_minor": 0
      },
      "text/plain": [
       "vocab.txt:   0%|          | 0.00/232k [00:00<?, ?B/s]"
      ]
     },
     "metadata": {},
     "output_type": "display_data"
    },
    {
     "data": {
      "application/vnd.jupyter.widget-view+json": {
       "model_id": "03b1e7ef8db14c6687b787a9cdb1a1cf",
       "version_major": 2,
       "version_minor": 0
      },
      "text/plain": [
       "special_tokens_map.json:   0%|          | 0.00/112 [00:00<?, ?B/s]"
      ]
     },
     "metadata": {},
     "output_type": "display_data"
    },
    {
     "name": "stderr",
     "output_type": "stream",
     "text": [
      "/usr/local/lib/python3.10/dist-packages/transformers/tokenization_utils_base.py:1601: FutureWarning: `clean_up_tokenization_spaces` was not set. It will be set to `True` by default. This behavior will be depracted in transformers v4.45, and will be then set to `False` by default. For more details check this issue: https://github.com/huggingface/transformers/issues/31884\n",
      "  warnings.warn(\n"
     ]
    }
   ],
   "source": [
    "tokenizer = AutoTokenizer.from_pretrained(args.model)"
   ]
  },
  {
   "cell_type": "code",
   "execution_count": 16,
   "id": "ca3da4cc",
   "metadata": {
    "execution": {
     "iopub.execute_input": "2025-06-14T20:39:15.125423Z",
     "iopub.status.busy": "2025-06-14T20:39:15.125063Z",
     "iopub.status.idle": "2025-06-14T20:39:15.130336Z",
     "shell.execute_reply": "2025-06-14T20:39:15.129436Z"
    },
    "papermill": {
     "duration": 0.016065,
     "end_time": "2025-06-14T20:39:15.131699",
     "exception": false,
     "start_time": "2025-06-14T20:39:15.115634",
     "status": "completed"
    },
    "tags": []
   },
   "outputs": [
    {
     "data": {
      "text/plain": [
       "Dataset({\n",
       "    features: ['text', 'labels'],\n",
       "    num_rows: 307787\n",
       "})"
      ]
     },
     "execution_count": 16,
     "metadata": {},
     "output_type": "execute_result"
    }
   ],
   "source": [
    "train_dataset_raw"
   ]
  },
  {
   "cell_type": "code",
   "execution_count": 17,
   "id": "a3e11f44",
   "metadata": {
    "execution": {
     "iopub.execute_input": "2025-06-14T20:39:15.149685Z",
     "iopub.status.busy": "2025-06-14T20:39:15.149407Z",
     "iopub.status.idle": "2025-06-14T20:40:18.609714Z",
     "shell.execute_reply": "2025-06-14T20:40:18.609013Z"
    },
    "papermill": {
     "duration": 63.470661,
     "end_time": "2025-06-14T20:40:18.610854",
     "exception": false,
     "start_time": "2025-06-14T20:39:15.140193",
     "status": "completed"
    },
    "tags": []
   },
   "outputs": [
    {
     "data": {
      "application/vnd.jupyter.widget-view+json": {
       "model_id": "f751b8e2448c4f5ba86d03d4711adac0",
       "version_major": 2,
       "version_minor": 0
      },
      "text/plain": [
       "Map:   0%|          | 0/307787 [00:00<?, ? examples/s]"
      ]
     },
     "metadata": {},
     "output_type": "display_data"
    },
    {
     "data": {
      "application/vnd.jupyter.widget-view+json": {
       "model_id": "e0ede5ac4b8a4cb6b41eb51f7fae8977",
       "version_major": 2,
       "version_minor": 0
      },
      "text/plain": [
       "Map:   0%|          | 0/76946 [00:00<?, ? examples/s]"
      ]
     },
     "metadata": {},
     "output_type": "display_data"
    }
   ],
   "source": [
    "train_dataset = train_dataset_raw.map(tokenize_fn, batched=True)\n",
    "valid_dataset = valid_dataset_raw.map(tokenize_fn, batched=True)\n",
    "\n",
    "data_collator = DataCollatorWithPadding(tokenizer)"
   ]
  },
  {
   "cell_type": "code",
   "execution_count": 18,
   "id": "383b9c51",
   "metadata": {
    "execution": {
     "iopub.execute_input": "2025-06-14T20:40:18.628214Z",
     "iopub.status.busy": "2025-06-14T20:40:18.627927Z",
     "iopub.status.idle": "2025-06-14T20:40:22.707813Z",
     "shell.execute_reply": "2025-06-14T20:40:22.706963Z"
    },
    "papermill": {
     "duration": 4.090185,
     "end_time": "2025-06-14T20:40:22.709093",
     "exception": false,
     "start_time": "2025-06-14T20:40:18.618908",
     "status": "completed"
    },
    "tags": []
   },
   "outputs": [
    {
     "data": {
      "application/vnd.jupyter.widget-view+json": {
       "model_id": "c14566eb69384f509433d5710b472c16",
       "version_major": 2,
       "version_minor": 0
      },
      "text/plain": [
       "pytorch_model.bin:   0%|          | 0.00/438M [00:00<?, ?B/s]"
      ]
     },
     "metadata": {},
     "output_type": "display_data"
    },
    {
     "name": "stderr",
     "output_type": "stream",
     "text": [
      "Some weights of BertForSequenceClassification were not initialized from the model checkpoint at ProsusAI/finbert and are newly initialized because the shapes did not match:\n",
      "- classifier.weight: found shape torch.Size([3, 768]) in the checkpoint and torch.Size([2, 768]) in the model instantiated\n",
      "- classifier.bias: found shape torch.Size([3]) in the checkpoint and torch.Size([2]) in the model instantiated\n",
      "You should probably TRAIN this model on a down-stream task to be able to use it for predictions and inference.\n"
     ]
    },
    {
     "data": {
      "text/plain": [
       "tensor([0., 0.])"
      ]
     },
     "execution_count": 18,
     "metadata": {},
     "output_type": "execute_result"
    }
   ],
   "source": [
    "from torch.nn.init import xavier_uniform_\n",
    "model = AutoModelForSequenceClassification.from_pretrained(args.model,num_labels=2,ignore_mismatched_sizes=True)\n",
    "\n",
    "\n",
    "# Reinitialize the classification layer\n",
    "xavier_uniform_(model.classifier.weight)\n",
    "model.classifier.bias.data.zero_()"
   ]
  },
  {
   "cell_type": "code",
   "execution_count": 19,
   "id": "364f9f06",
   "metadata": {
    "execution": {
     "iopub.execute_input": "2025-06-14T20:40:22.726941Z",
     "iopub.status.busy": "2025-06-14T20:40:22.726687Z",
     "iopub.status.idle": "2025-06-14T20:40:22.931029Z",
     "shell.execute_reply": "2025-06-14T20:40:22.930166Z"
    },
    "papermill": {
     "duration": 0.214978,
     "end_time": "2025-06-14T20:40:22.932562",
     "exception": false,
     "start_time": "2025-06-14T20:40:22.717584",
     "status": "completed"
    },
    "tags": []
   },
   "outputs": [],
   "source": [
    "\n",
    "import optuna\n",
    "import torch\n",
    "from transformers import Trainer, TrainingArguments, AdamW\n",
    "from sklearn.metrics import balanced_accuracy_score, roc_auc_score, f1_score\n",
    "from transformers import get_scheduler\n",
    "\n",
    "def compute_metrics(eval_preds):\n",
    "    logits, labels = eval_preds\n",
    "    predictions = np.argmax(logits, axis=-1)\n",
    "    balanced_acc = balanced_accuracy_score(labels, predictions)\n",
    "    auc = roc_auc_score(labels, predictions, multi_class='ovr')  # Adjust for multi-class\n",
    "    f1 = f1_score(labels, predictions, average='weighted')\n",
    "    return {\n",
    "        \"balanced_accuracy\": balanced_acc,\n",
    "        \"auc\": auc,\n",
    "        \"f1\": f1\n",
    "        }"
   ]
  },
  {
   "cell_type": "code",
   "execution_count": 20,
   "id": "6b5e3dec",
   "metadata": {
    "execution": {
     "iopub.execute_input": "2025-06-14T20:40:22.950524Z",
     "iopub.status.busy": "2025-06-14T20:40:22.950269Z",
     "iopub.status.idle": "2025-06-15T08:28:43.470945Z",
     "shell.execute_reply": "2025-06-15T08:28:43.470072Z"
    },
    "papermill": {
     "duration": 42500.531467,
     "end_time": "2025-06-15T08:28:43.472355",
     "exception": false,
     "start_time": "2025-06-14T20:40:22.940888",
     "status": "completed"
    },
    "tags": []
   },
   "outputs": [
    {
     "name": "stdout",
     "output_type": "stream",
     "text": [
      "Found file !\n",
      "0.5029949857704297\n"
     ]
    },
    {
     "data": {
      "application/vnd.jupyter.widget-view+json": {
       "model_id": "2b863ec0333844d7b02876fd25fc61d7",
       "version_major": 2,
       "version_minor": 0
      },
      "text/plain": [
       "  0%|          | 0/1000000 [00:00<?, ?it/s]"
      ]
     },
     "metadata": {},
     "output_type": "display_data"
    },
    {
     "data": {
      "text/html": [
       "\n",
       "    <div>\n",
       "      \n",
       "      <progress value='57714' max='57714' style='width:300px; height:20px; vertical-align: middle;'></progress>\n",
       "      [57714/57714 6:14:08, Epoch 6/6]\n",
       "    </div>\n",
       "    <table border=\"1\" class=\"dataframe\">\n",
       "  <thead>\n",
       " <tr style=\"text-align: left;\">\n",
       "      <th>Epoch</th>\n",
       "      <th>Training Loss</th>\n",
       "      <th>Validation Loss</th>\n",
       "      <th>Balanced Accuracy</th>\n",
       "      <th>Auc</th>\n",
       "      <th>F1</th>\n",
       "    </tr>\n",
       "  </thead>\n",
       "  <tbody>\n",
       "    <tr>\n",
       "      <td>1</td>\n",
       "      <td>0.076800</td>\n",
       "      <td>0.084672</td>\n",
       "      <td>0.964760</td>\n",
       "      <td>0.995883</td>\n",
       "      <td>0.965989</td>\n",
       "    </tr>\n",
       "    <tr>\n",
       "      <td>2</td>\n",
       "      <td>0.071200</td>\n",
       "      <td>0.075228</td>\n",
       "      <td>0.968349</td>\n",
       "      <td>0.997125</td>\n",
       "      <td>0.969134</td>\n",
       "    </tr>\n",
       "    <tr>\n",
       "      <td>3</td>\n",
       "      <td>0.054800</td>\n",
       "      <td>0.100365</td>\n",
       "      <td>0.949726</td>\n",
       "      <td>0.996072</td>\n",
       "      <td>0.953847</td>\n",
       "    </tr>\n",
       "    <tr>\n",
       "      <td>4</td>\n",
       "      <td>0.052000</td>\n",
       "      <td>0.081325</td>\n",
       "      <td>0.969052</td>\n",
       "      <td>0.997203</td>\n",
       "      <td>0.970643</td>\n",
       "    </tr>\n",
       "    <tr>\n",
       "      <td>5</td>\n",
       "      <td>0.050100</td>\n",
       "      <td>0.076791</td>\n",
       "      <td>0.971293</td>\n",
       "      <td>0.997470</td>\n",
       "      <td>0.972372</td>\n",
       "    </tr>\n",
       "    <tr>\n",
       "      <td>6</td>\n",
       "      <td>0.043300</td>\n",
       "      <td>0.123533</td>\n",
       "      <td>0.953802</td>\n",
       "      <td>0.996652</td>\n",
       "      <td>0.957482</td>\n",
       "    </tr>\n",
       "  </tbody>\n",
       "</table><p>"
      ],
      "text/plain": [
       "<IPython.core.display.HTML object>"
      ]
     },
     "metadata": {},
     "output_type": "display_data"
    },
    {
     "data": {
      "text/html": [
       "\n",
       "    <div>\n",
       "      \n",
       "      <progress value='1203' max='1203' style='width:300px; height:20px; vertical-align: middle;'></progress>\n",
       "      [1203/1203 04:31]\n",
       "    </div>\n",
       "    "
      ],
      "text/plain": [
       "<IPython.core.display.HTML object>"
      ]
     },
     "metadata": {},
     "output_type": "display_data"
    },
    {
     "data": {
      "text/html": [
       "\n",
       "    <div>\n",
       "      \n",
       "      <progress value='72630' max='96185' style='width:300px; height:20px; vertical-align: middle;'></progress>\n",
       "      [72630/96185 5:29:34 < 1:46:53, 3.67 it/s, Epoch 3.78/5]\n",
       "    </div>\n",
       "    <table border=\"1\" class=\"dataframe\">\n",
       "  <thead>\n",
       " <tr style=\"text-align: left;\">\n",
       "      <th>Epoch</th>\n",
       "      <th>Training Loss</th>\n",
       "      <th>Validation Loss</th>\n",
       "      <th>Balanced Accuracy</th>\n",
       "      <th>Auc</th>\n",
       "      <th>F1</th>\n",
       "    </tr>\n",
       "  </thead>\n",
       "  <tbody>\n",
       "    <tr>\n",
       "      <td>1</td>\n",
       "      <td>0.059500</td>\n",
       "      <td>0.205791</td>\n",
       "      <td>0.947691</td>\n",
       "      <td>0.995693</td>\n",
       "      <td>0.951839</td>\n",
       "    </tr>\n",
       "    <tr>\n",
       "      <td>2</td>\n",
       "      <td>0.059000</td>\n",
       "      <td>0.161554</td>\n",
       "      <td>0.971231</td>\n",
       "      <td>0.997894</td>\n",
       "      <td>0.973016</td>\n",
       "    </tr>\n",
       "    <tr>\n",
       "      <td>3</td>\n",
       "      <td>0.047800</td>\n",
       "      <td>0.136152</td>\n",
       "      <td>0.973191</td>\n",
       "      <td>0.997836</td>\n",
       "      <td>0.974475</td>\n",
       "    </tr>\n",
       "  </tbody>\n",
       "</table><p>"
      ],
      "text/plain": [
       "<IPython.core.display.HTML object>"
      ]
     },
     "metadata": {},
     "output_type": "display_data"
    }
   ],
   "source": [
    "from transformers import Trainer, TrainingArguments\n",
    "import optuna\n",
    "from optuna.pruners import MedianPruner\n",
    "from optuna.samplers import TPESampler\n",
    "import numpy as np\n",
    "from sklearn.metrics import balanced_accuracy_score, roc_auc_score, f1_score\n",
    "import torch\n",
    "from transformers.integrations import is_optuna_available\n",
    "import joblib\n",
    "\n",
    "\n",
    "# Define a custom compute_metrics function that returns multiple metrics\n",
    "def compute_metrics(pred):\n",
    "    labels = pred.label_ids\n",
    "    preds = pred.predictions.argmax(-1)\n",
    "    \n",
    "    # Convert predictions to probabilities for AUC (for binary classification)\n",
    "    probs = torch.nn.functional.softmax(torch.tensor(pred.predictions), dim=-1).numpy()\n",
    "    \n",
    "    # Calculate metrics\n",
    "    balanced_acc = balanced_accuracy_score(labels, preds)\n",
    "    \n",
    "    # Use the probability of the positive class\n",
    "    auc = roc_auc_score(labels, probs[:, 1])\n",
    "    f1 = f1_score(labels, preds)\n",
    "    \n",
    "    return {\n",
    "        'balanced_accuracy': balanced_acc,\n",
    "        'auc': auc,\n",
    "        'f1': f1\n",
    "    }\n",
    "\n",
    "# Define the objective function for Optuna\n",
    "def objective(trial):\n",
    "    # Define hyperparameters to optimize\n",
    "    batch_size = trial.suggest_categorical(\"batch_size\", [8, 16, 32])\n",
    "    learning_rate = trial.suggest_float(\"learning_rate\", 1e-6, 1e-4, log=True)\n",
    "    weight_decay = trial.suggest_float(\"weight_decay\", 0.005, 0.02)\n",
    "    warmup_ratio = trial.suggest_float(\"warmup_ratio\", 0.05, 0.2)\n",
    "    num_epochs = trial.suggest_int(\"num_epochs\", 2, 8)\n",
    "    \n",
    "    # Optimizer selection\n",
    "    optimizer_name = trial.suggest_categorical(\"optimizer_name\", [ \"adamw_hf\",\"adafactor\", \"sgd\"])\n",
    "    \n",
    "    # Define training arguments\n",
    "    training_args = TrainingArguments(\n",
    "        output_dir=f'/kaggle/Finbert_Trial_{trial.number}/',\n",
    "        per_device_train_batch_size=batch_size,\n",
    "        per_device_eval_batch_size=batch_size*2,\n",
    "        num_train_epochs=num_epochs,\n",
    "        learning_rate=learning_rate,\n",
    "        weight_decay=weight_decay,\n",
    "        warmup_ratio=warmup_ratio,\n",
    "        do_eval=True,\n",
    "        do_train=True,\n",
    "        evaluation_strategy='epoch',\n",
    "        save_strategy=\"epoch\",\n",
    "        load_best_model_at_end=True,\n",
    "        metric_for_best_model='eval_f1',  # Change this to your desired metric\n",
    "        greater_is_better=True,\n",
    "        optim=optimizer_name.lower(),\n",
    "        # ReduceLROnPlateau-like functionality\n",
    "        lr_scheduler_type=\"reduce_lr_on_plateau\",\n",
    "        logging_dir=f'/kaggle/Finbert_Logs_{trial.number}/',\n",
    "        report_to=\"none\",  # Disable wandb, tensorboard etc. during hyperparameter search\n",
    "    )\n",
    "    \n",
    "    # Initialize the Trainer\n",
    "    trainer = Trainer(\n",
    "        model=model,  # Make sure this is already defined in your global scope\n",
    "        args=training_args,\n",
    "        train_dataset=train_dataset,\n",
    "        eval_dataset=valid_dataset,\n",
    "        data_collator=data_collator,\n",
    "        tokenizer=tokenizer,\n",
    "        compute_metrics=compute_metrics,\n",
    "    )\n",
    "    \n",
    "    # Train the model\n",
    "    trainer.train()\n",
    "    \n",
    "    # Evaluate on validation set\n",
    "    eval_result = trainer.evaluate()\n",
    "    try:\n",
    "        joblib.dump(study, 'finbert_optuna_result.pkl')\n",
    "    except Exception as e:\n",
    "        print(\"There is a tiny error with saving. Moving on... \", e)\n",
    "        print(param)\n",
    "\n",
    "    return eval_result[\"eval_f1\"]\n",
    "\n",
    "\n",
    "from stopit import threading_timeoutable as timeoutable\n",
    " \n",
    "@timeoutable()\n",
    "def start():\n",
    "    ### import warnings \n",
    "    import warnings \n",
    "    import optuna\n",
    " \n",
    "    warnings.filterwarnings(\"ignore\")\n",
    " \n",
    "    optuna.logging.set_verbosity(optuna.logging.ERROR)\n",
    "    global study\n",
    "\n",
    "    USE_PREVIOUS_TRIALS=True\n",
    "    \n",
    "    import os\n",
    "    if os.path.isfile('/kaggle/input/finbert-hyper-tuning/finbert_optuna_result.pkl') and USE_PREVIOUS_TRIALS==True:\n",
    "        print(\"Found file !\")\n",
    "        study = joblib.load('/kaggle/input/finbert-hyper-tuning/finbert_optuna_result.pkl')\n",
    "        print(study.best_trial.value)\n",
    "    else:\n",
    "        print(\"STARTING NEW TRAINING\")\n",
    "        sampler = optuna.samplers.TPESampler(multivariate=True, warn_independent_sampling=False)\n",
    "        pruner = MedianPruner(n_startup_trials=5, n_warmup_steps=5)\n",
    "\n",
    "        study = optuna.create_study(direction='maximize', load_if_exists=True,sampler=sampler,pruner=pruner)\n",
    " \n",
    "    study.optimize(objective, n_trials=1_000_000, gc_after_trial=True,\n",
    "                  show_progress_bar=True, n_jobs=1, )\n",
    "    joblib.dump(study, 'finbert_optuna_result.pkl')\n",
    "\n",
    "\n",
    "# # Create the Optuna study\n",
    "# sampler = TPESampler(seed=42)  # For reproducibility\n",
    "# pruner = MedianPruner(n_startup_trials=5, n_warmup_steps=5)\n",
    "\n",
    "# study = optuna.create_study(\n",
    "#     study_name=\"finbert_optimization\",\n",
    "#     direction=\"maximize\",  # We want to maximize our metrics\n",
    "#     sampler=sampler,\n",
    "#     pruner=pruner\n",
    "# )\n",
    "\n",
    "# # Run the optimization\n",
    "# n_trials = 8\n",
    "# study.optimize(objective, n_trials=n_trials)\n",
    "\n",
    " \n",
    "try:\n",
    "    start(timeout=42_500) #42_500\n",
    "except Exception as e:\n",
    "    print(\"Hoba, oshibka !: \", e)\n"
   ]
  },
  {
   "cell_type": "code",
   "execution_count": 21,
   "id": "32deebe7",
   "metadata": {
    "execution": {
     "iopub.execute_input": "2025-06-15T08:28:43.490782Z",
     "iopub.status.busy": "2025-06-15T08:28:43.490534Z",
     "iopub.status.idle": "2025-06-15T08:28:43.494706Z",
     "shell.execute_reply": "2025-06-15T08:28:43.493902Z"
    },
    "papermill": {
     "duration": 0.014388,
     "end_time": "2025-06-15T08:28:43.495939",
     "exception": false,
     "start_time": "2025-06-15T08:28:43.481551",
     "status": "completed"
    },
    "tags": []
   },
   "outputs": [
    {
     "name": "stdout",
     "output_type": "stream",
     "text": [
      "DONE\n"
     ]
    }
   ],
   "source": [
    "print(\"DONE\")"
   ]
  },
  {
   "cell_type": "code",
   "execution_count": 22,
   "id": "97dbbaf0",
   "metadata": {
    "execution": {
     "iopub.execute_input": "2025-06-15T08:28:43.513658Z",
     "iopub.status.busy": "2025-06-15T08:28:43.513427Z",
     "iopub.status.idle": "2025-06-15T08:28:43.521534Z",
     "shell.execute_reply": "2025-06-15T08:28:43.520853Z"
    },
    "papermill": {
     "duration": 0.018113,
     "end_time": "2025-06-15T08:28:43.522708",
     "exception": false,
     "start_time": "2025-06-15T08:28:43.504595",
     "status": "completed"
    },
    "tags": []
   },
   "outputs": [
    {
     "name": "stdout",
     "output_type": "stream",
     "text": [
      "Best trial:\n",
      "  Value: 0.5029949857704297\n",
      "  Params: \n",
      "    batch_size: 32\n",
      "    learning_rate: 2.8445060587748435e-06\n",
      "    weight_decay: 0.019476579288667823\n",
      "    warmup_ratio: 0.13883693882206333\n",
      "    num_epochs: 3\n",
      "    optimizer_name: sgd\n"
     ]
    }
   ],
   "source": [
    "study = joblib.load('finbert_optuna_result.pkl')\n",
    "print(\"Best trial:\")\n",
    "trial = study.best_trial\n",
    "print(f\"  Value: {trial.value}\")\n",
    "print(\"  Params: \")\n",
    "for key, value in trial.params.items():\n",
    "    print(f\"    {key}: {value}\")"
   ]
  },
  {
   "cell_type": "code",
   "execution_count": 23,
   "id": "ca926836",
   "metadata": {
    "execution": {
     "iopub.execute_input": "2025-06-15T08:28:43.540443Z",
     "iopub.status.busy": "2025-06-15T08:28:43.540236Z",
     "iopub.status.idle": "2025-06-15T08:28:43.543285Z",
     "shell.execute_reply": "2025-06-15T08:28:43.542677Z"
    },
    "papermill": {
     "duration": 0.013262,
     "end_time": "2025-06-15T08:28:43.544547",
     "exception": false,
     "start_time": "2025-06-15T08:28:43.531285",
     "status": "completed"
    },
    "tags": []
   },
   "outputs": [],
   "source": [
    "# # Print the results\n",
    "\n",
    "# study = joblib.load('finbert_optuna_result.pkl')\n",
    "# print(\"Best trial:\")\n",
    "# trial = study.best_trial\n",
    "# print(f\"  Value: {trial.value}\")\n",
    "# print(\"  Params: \")\n",
    "# for key, value in trial.params.items():\n",
    "#     print(f\"    {key}: {value}\")\n",
    "\n",
    "# # Train the final model with the best parameters\n",
    "# best_batch_size = trial.params[\"batch_size\"]\n",
    "# best_lr = trial.params[\"learning_rate\"]\n",
    "# best_weight_decay = trial.params[\"weight_decay\"]\n",
    "# best_warmup_ratio = trial.params[\"warmup_ratio\"]\n",
    "# best_num_epochs = trial.params[\"num_epochs\"]\n",
    "# best_optimizer = trial.params[\"optimizer\"]\n",
    "\n",
    "# final_training_args = TrainingArguments(\n",
    "#     output_dir='./Finbert_Final/',\n",
    "#     per_device_train_batch_size=best_batch_size,\n",
    "#     per_device_eval_batch_size=best_batch_size*2,\n",
    "#     num_train_epochs=best_num_epochs,\n",
    "#     learning_rate=best_lr,\n",
    "#     weight_decay=best_weight_decay,\n",
    "#     warmup_ratio=best_warmup_ratio,\n",
    "#     do_eval=True,\n",
    "#     do_train=True,\n",
    "#     evaluation_strategy='epoch',\n",
    "#     save_strategy=\"epoch\",\n",
    "#     load_best_model_at_end=True,\n",
    "#     metric_for_best_model='f1',\n",
    "#     optim=best_optimizer.lower(),\n",
    "#     lr_scheduler_type=\"reduce_lr_on_plateau\",\n",
    "# )\n",
    "\n",
    "# final_trainer = Trainer(\n",
    "#     model=model,\n",
    "#     args=final_training_args,\n",
    "#     train_dataset=train_dataset,\n",
    "#     eval_dataset=valid_dataset,\n",
    "#     data_collator=data_collator,\n",
    "#     tokenizer=tokenizer,\n",
    "#     compute_metrics=compute_metrics,\n",
    "# )\n",
    "\n",
    "# # Train the final model\n",
    "# print(\"Training final model with best parameters...\")\n",
    "# final_trainer.train()\n",
    "\n",
    "# # Evaluate the final model\n",
    "# final_metrics = final_trainer.evaluate()\n",
    "# print(f\"Final model metrics: {final_metrics}\")"
   ]
  },
  {
   "cell_type": "code",
   "execution_count": 24,
   "id": "2c683995",
   "metadata": {
    "execution": {
     "iopub.execute_input": "2025-06-15T08:28:43.562509Z",
     "iopub.status.busy": "2025-06-15T08:28:43.562275Z",
     "iopub.status.idle": "2025-06-15T08:28:43.565554Z",
     "shell.execute_reply": "2025-06-15T08:28:43.564543Z"
    },
    "papermill": {
     "duration": 0.013555,
     "end_time": "2025-06-15T08:28:43.566938",
     "exception": false,
     "start_time": "2025-06-15T08:28:43.553383",
     "status": "completed"
    },
    "tags": []
   },
   "outputs": [],
   "source": [
    "# train_args = TrainingArguments(\n",
    "#     './Finbert Trained/',\n",
    "#     per_device_train_batch_size=16,\n",
    "#     per_device_eval_batch_size=2*16,\n",
    "#     num_train_epochs=5,\n",
    "#     learning_rate=1e-5,\n",
    "#     weight_decay=0.01,\n",
    "#     warmup_ratio=0.1,    \n",
    "#     do_eval=True,\n",
    "#     do_train=True,\n",
    "#     do_predict=True,\n",
    "#     eval_strategy='epoch',\n",
    "#     save_strategy=\"no\",\n",
    "# )"
   ]
  },
  {
   "cell_type": "code",
   "execution_count": 25,
   "id": "4fdccfca",
   "metadata": {
    "execution": {
     "iopub.execute_input": "2025-06-15T08:28:43.584917Z",
     "iopub.status.busy": "2025-06-15T08:28:43.584680Z",
     "iopub.status.idle": "2025-06-15T08:28:43.587886Z",
     "shell.execute_reply": "2025-06-15T08:28:43.586974Z"
    },
    "papermill": {
     "duration": 0.013448,
     "end_time": "2025-06-15T08:28:43.589112",
     "exception": false,
     "start_time": "2025-06-15T08:28:43.575664",
     "status": "completed"
    },
    "tags": []
   },
   "outputs": [],
   "source": [
    "# trainer = Trainer(\n",
    "#     model,\n",
    "#     train_args,\n",
    "#     train_dataset=train_dataset,\n",
    "#     eval_dataset=valid_dataset,\n",
    "#     data_collator=data_collator,\n",
    "#     tokenizer=tokenizer,\n",
    "#     compute_metrics=compute_metrics,\n",
    "# )"
   ]
  },
  {
   "cell_type": "code",
   "execution_count": 26,
   "id": "e36727f4",
   "metadata": {
    "execution": {
     "iopub.execute_input": "2025-06-15T08:28:43.606971Z",
     "iopub.status.busy": "2025-06-15T08:28:43.606744Z",
     "iopub.status.idle": "2025-06-15T08:28:43.609694Z",
     "shell.execute_reply": "2025-06-15T08:28:43.608927Z"
    },
    "papermill": {
     "duration": 0.013206,
     "end_time": "2025-06-15T08:28:43.610941",
     "exception": false,
     "start_time": "2025-06-15T08:28:43.597735",
     "status": "completed"
    },
    "tags": []
   },
   "outputs": [],
   "source": [
    "# trainer.train()"
   ]
  },
  {
   "cell_type": "code",
   "execution_count": 27,
   "id": "d1086d59",
   "metadata": {
    "execution": {
     "iopub.execute_input": "2025-06-15T08:28:43.629249Z",
     "iopub.status.busy": "2025-06-15T08:28:43.629014Z",
     "iopub.status.idle": "2025-06-15T08:28:43.632081Z",
     "shell.execute_reply": "2025-06-15T08:28:43.631271Z"
    },
    "papermill": {
     "duration": 0.013875,
     "end_time": "2025-06-15T08:28:43.633413",
     "exception": false,
     "start_time": "2025-06-15T08:28:43.619538",
     "status": "completed"
    },
    "tags": []
   },
   "outputs": [],
   "source": [
    "# trainer.save_model('finbert_finetuned.bin')"
   ]
  },
  {
   "cell_type": "code",
   "execution_count": 28,
   "id": "0cd103e2",
   "metadata": {
    "execution": {
     "iopub.execute_input": "2025-06-15T08:28:43.651298Z",
     "iopub.status.busy": "2025-06-15T08:28:43.651056Z",
     "iopub.status.idle": "2025-06-15T08:28:43.654011Z",
     "shell.execute_reply": "2025-06-15T08:28:43.653259Z"
    },
    "papermill": {
     "duration": 0.013237,
     "end_time": "2025-06-15T08:28:43.655303",
     "exception": false,
     "start_time": "2025-06-15T08:28:43.642066",
     "status": "completed"
    },
    "tags": []
   },
   "outputs": [],
   "source": [
    "# pred_dataset = pred_dataset_raw.map(tokenize_fn, batched=False)"
   ]
  },
  {
   "cell_type": "code",
   "execution_count": 29,
   "id": "28e90862",
   "metadata": {
    "execution": {
     "iopub.execute_input": "2025-06-15T08:28:43.673442Z",
     "iopub.status.busy": "2025-06-15T08:28:43.673241Z",
     "iopub.status.idle": "2025-06-15T08:28:43.675701Z",
     "shell.execute_reply": "2025-06-15T08:28:43.675106Z"
    },
    "papermill": {
     "duration": 0.012773,
     "end_time": "2025-06-15T08:28:43.676852",
     "exception": false,
     "start_time": "2025-06-15T08:28:43.664079",
     "status": "completed"
    },
    "tags": []
   },
   "outputs": [],
   "source": [
    "# len(pred_dataset[0]['input_ids'])"
   ]
  },
  {
   "cell_type": "code",
   "execution_count": 30,
   "id": "744c3536",
   "metadata": {
    "execution": {
     "iopub.execute_input": "2025-06-15T08:28:43.694951Z",
     "iopub.status.busy": "2025-06-15T08:28:43.694734Z",
     "iopub.status.idle": "2025-06-15T08:28:43.697275Z",
     "shell.execute_reply": "2025-06-15T08:28:43.696710Z"
    },
    "papermill": {
     "duration": 0.012943,
     "end_time": "2025-06-15T08:28:43.698457",
     "exception": false,
     "start_time": "2025-06-15T08:28:43.685514",
     "status": "completed"
    },
    "tags": []
   },
   "outputs": [],
   "source": [
    "# output = trainer.predict(\n",
    "#     test_dataset=pred_dataset,\n",
    "# )"
   ]
  },
  {
   "cell_type": "code",
   "execution_count": 31,
   "id": "418a598c",
   "metadata": {
    "execution": {
     "iopub.execute_input": "2025-06-15T08:28:43.716624Z",
     "iopub.status.busy": "2025-06-15T08:28:43.716420Z",
     "iopub.status.idle": "2025-06-15T08:28:43.718888Z",
     "shell.execute_reply": "2025-06-15T08:28:43.718324Z"
    },
    "papermill": {
     "duration": 0.012734,
     "end_time": "2025-06-15T08:28:43.720031",
     "exception": false,
     "start_time": "2025-06-15T08:28:43.707297",
     "status": "completed"
    },
    "tags": []
   },
   "outputs": [],
   "source": [
    "# output.predictions"
   ]
  },
  {
   "cell_type": "code",
   "execution_count": 32,
   "id": "1d37821b",
   "metadata": {
    "execution": {
     "iopub.execute_input": "2025-06-15T08:28:43.738610Z",
     "iopub.status.busy": "2025-06-15T08:28:43.738409Z",
     "iopub.status.idle": "2025-06-15T08:28:43.740943Z",
     "shell.execute_reply": "2025-06-15T08:28:43.740354Z"
    },
    "papermill": {
     "duration": 0.012837,
     "end_time": "2025-06-15T08:28:43.742076",
     "exception": false,
     "start_time": "2025-06-15T08:28:43.729239",
     "status": "completed"
    },
    "tags": []
   },
   "outputs": [],
   "source": [
    "# preds = [np.argmax(x) for x in output.predictions]"
   ]
  },
  {
   "cell_type": "code",
   "execution_count": 33,
   "id": "e509d141",
   "metadata": {
    "execution": {
     "iopub.execute_input": "2025-06-15T08:28:43.760495Z",
     "iopub.status.busy": "2025-06-15T08:28:43.760289Z",
     "iopub.status.idle": "2025-06-15T08:28:43.762895Z",
     "shell.execute_reply": "2025-06-15T08:28:43.762323Z"
    },
    "papermill": {
     "duration": 0.01305,
     "end_time": "2025-06-15T08:28:43.764095",
     "exception": false,
     "start_time": "2025-06-15T08:28:43.751045",
     "status": "completed"
    },
    "tags": []
   },
   "outputs": [],
   "source": [
    "\n",
    "# from sklearn.metrics import confusion_matrix, accuracy_score\n",
    "# import seaborn as sns\n",
    "# import matplotlib.pyplot as plt\n",
    "\n",
    "# cm = confusion_matrix(y_test, preds)\n",
    "\n",
    "# # Define class labels\n",
    "# labels = [0, 1]\n",
    "\n",
    "# # Create a heatmap\n",
    "# plt.figure(figsize=(8, 6))\n",
    "# sns.heatmap(cm, annot=True, fmt='d', cmap='Blues',\n",
    "#             xticklabels=labels, yticklabels=labels)\n",
    "\n",
    "# # Add labels and title\n",
    "# plt.xlabel('Predicted Labels')\n",
    "# plt.ylabel('True Labels')\n",
    "# plt.title('Confusion Matrix Heatmap')\n",
    "\n",
    "# # Display the plot\n",
    "# plt.show()"
   ]
  },
  {
   "cell_type": "code",
   "execution_count": 34,
   "id": "803df03d",
   "metadata": {
    "execution": {
     "iopub.execute_input": "2025-06-15T08:28:43.782191Z",
     "iopub.status.busy": "2025-06-15T08:28:43.781961Z",
     "iopub.status.idle": "2025-06-15T08:28:43.784530Z",
     "shell.execute_reply": "2025-06-15T08:28:43.783917Z"
    },
    "papermill": {
     "duration": 0.012815,
     "end_time": "2025-06-15T08:28:43.785659",
     "exception": false,
     "start_time": "2025-06-15T08:28:43.772844",
     "status": "completed"
    },
    "tags": []
   },
   "outputs": [],
   "source": [
    "# accuracy_score(y_test, preds)"
   ]
  },
  {
   "cell_type": "code",
   "execution_count": 35,
   "id": "5adec4a7",
   "metadata": {
    "execution": {
     "iopub.execute_input": "2025-06-15T08:28:43.804573Z",
     "iopub.status.busy": "2025-06-15T08:28:43.804356Z",
     "iopub.status.idle": "2025-06-15T08:28:43.806789Z",
     "shell.execute_reply": "2025-06-15T08:28:43.806228Z"
    },
    "papermill": {
     "duration": 0.013105,
     "end_time": "2025-06-15T08:28:43.807984",
     "exception": false,
     "start_time": "2025-06-15T08:28:43.794879",
     "status": "completed"
    },
    "tags": []
   },
   "outputs": [],
   "source": [
    "# from sklearn.metrics import classification_report\n",
    "# print(classification_report(y_test, preds))"
   ]
  },
  {
   "cell_type": "code",
   "execution_count": 36,
   "id": "2675d1bb",
   "metadata": {
    "execution": {
     "iopub.execute_input": "2025-06-15T08:28:43.826633Z",
     "iopub.status.busy": "2025-06-15T08:28:43.826393Z",
     "iopub.status.idle": "2025-06-15T08:28:43.829300Z",
     "shell.execute_reply": "2025-06-15T08:28:43.828522Z"
    },
    "papermill": {
     "duration": 0.013398,
     "end_time": "2025-06-15T08:28:43.830444",
     "exception": false,
     "start_time": "2025-06-15T08:28:43.817046",
     "status": "completed"
    },
    "tags": []
   },
   "outputs": [],
   "source": [
    "# news = pd.read_csv('/kaggle/input/sentiment-analysis-for-financial-news/all-data.csv',names= ['Sentiment','Sentence'],encoding='ISO-8859-1')"
   ]
  },
  {
   "cell_type": "code",
   "execution_count": 37,
   "id": "2bcbff10",
   "metadata": {
    "execution": {
     "iopub.execute_input": "2025-06-15T08:28:43.848678Z",
     "iopub.status.busy": "2025-06-15T08:28:43.848481Z",
     "iopub.status.idle": "2025-06-15T08:28:43.851205Z",
     "shell.execute_reply": "2025-06-15T08:28:43.850584Z"
    },
    "papermill": {
     "duration": 0.013007,
     "end_time": "2025-06-15T08:28:43.852333",
     "exception": false,
     "start_time": "2025-06-15T08:28:43.839326",
     "status": "completed"
    },
    "tags": []
   },
   "outputs": [],
   "source": [
    "# news"
   ]
  },
  {
   "cell_type": "code",
   "execution_count": 38,
   "id": "5dd85600",
   "metadata": {
    "execution": {
     "iopub.execute_input": "2025-06-15T08:28:43.870405Z",
     "iopub.status.busy": "2025-06-15T08:28:43.870210Z",
     "iopub.status.idle": "2025-06-15T08:28:43.872861Z",
     "shell.execute_reply": "2025-06-15T08:28:43.872264Z"
    },
    "papermill": {
     "duration": 0.012783,
     "end_time": "2025-06-15T08:28:43.873856",
     "exception": false,
     "start_time": "2025-06-15T08:28:43.861073",
     "status": "completed"
    },
    "tags": []
   },
   "outputs": [],
   "source": [
    "# x_test, Y_test = news['Sentence'].values, news['Sentiment'].values"
   ]
  },
  {
   "cell_type": "code",
   "execution_count": 39,
   "id": "209ca5f2",
   "metadata": {
    "execution": {
     "iopub.execute_input": "2025-06-15T08:28:43.892333Z",
     "iopub.status.busy": "2025-06-15T08:28:43.892092Z",
     "iopub.status.idle": "2025-06-15T08:28:43.894926Z",
     "shell.execute_reply": "2025-06-15T08:28:43.894159Z"
    },
    "papermill": {
     "duration": 0.01335,
     "end_time": "2025-06-15T08:28:43.896085",
     "exception": false,
     "start_time": "2025-06-15T08:28:43.882735",
     "status": "completed"
    },
    "tags": []
   },
   "outputs": [],
   "source": [
    "# le = LabelEncoder()\n",
    "# Y_test = le.fit_transform(Y_test)"
   ]
  },
  {
   "cell_type": "code",
   "execution_count": 40,
   "id": "c2c1acb4",
   "metadata": {
    "execution": {
     "iopub.execute_input": "2025-06-15T08:28:43.914785Z",
     "iopub.status.busy": "2025-06-15T08:28:43.914580Z",
     "iopub.status.idle": "2025-06-15T08:28:43.917285Z",
     "shell.execute_reply": "2025-06-15T08:28:43.916663Z"
    },
    "papermill": {
     "duration": 0.013353,
     "end_time": "2025-06-15T08:28:43.918409",
     "exception": false,
     "start_time": "2025-06-15T08:28:43.905056",
     "status": "completed"
    },
    "tags": []
   },
   "outputs": [],
   "source": [
    "# np.unique(Y_test)"
   ]
  },
  {
   "cell_type": "code",
   "execution_count": 41,
   "id": "30e75942",
   "metadata": {
    "execution": {
     "iopub.execute_input": "2025-06-15T08:28:43.936859Z",
     "iopub.status.busy": "2025-06-15T08:28:43.936651Z",
     "iopub.status.idle": "2025-06-15T08:28:43.939385Z",
     "shell.execute_reply": "2025-06-15T08:28:43.938749Z"
    },
    "papermill": {
     "duration": 0.013302,
     "end_time": "2025-06-15T08:28:43.940612",
     "exception": false,
     "start_time": "2025-06-15T08:28:43.927310",
     "status": "completed"
    },
    "tags": []
   },
   "outputs": [],
   "source": [
    "# test_dataset_raw = Dataset.from_dict({'text': x_test})\n",
    "# test_dataset_raw"
   ]
  },
  {
   "cell_type": "code",
   "execution_count": 42,
   "id": "30b79024",
   "metadata": {
    "execution": {
     "iopub.execute_input": "2025-06-15T08:28:43.959483Z",
     "iopub.status.busy": "2025-06-15T08:28:43.959278Z",
     "iopub.status.idle": "2025-06-15T08:28:43.961797Z",
     "shell.execute_reply": "2025-06-15T08:28:43.961217Z"
    },
    "papermill": {
     "duration": 0.013406,
     "end_time": "2025-06-15T08:28:43.962938",
     "exception": false,
     "start_time": "2025-06-15T08:28:43.949532",
     "status": "completed"
    },
    "tags": []
   },
   "outputs": [],
   "source": [
    "# test_dataset = test_dataset_raw.map(tokenize_fn, batched=False)"
   ]
  },
  {
   "cell_type": "code",
   "execution_count": 43,
   "id": "e1043b3d",
   "metadata": {
    "execution": {
     "iopub.execute_input": "2025-06-15T08:28:43.981740Z",
     "iopub.status.busy": "2025-06-15T08:28:43.981537Z",
     "iopub.status.idle": "2025-06-15T08:28:43.984000Z",
     "shell.execute_reply": "2025-06-15T08:28:43.983461Z"
    },
    "papermill": {
     "duration": 0.013068,
     "end_time": "2025-06-15T08:28:43.985029",
     "exception": false,
     "start_time": "2025-06-15T08:28:43.971961",
     "status": "completed"
    },
    "tags": []
   },
   "outputs": [],
   "source": [
    "# output = trainer.predict(\n",
    "#     test_dataset=test_dataset,\n",
    "# )"
   ]
  },
  {
   "cell_type": "code",
   "execution_count": 44,
   "id": "a1df1371",
   "metadata": {
    "execution": {
     "iopub.execute_input": "2025-06-15T08:28:44.003797Z",
     "iopub.status.busy": "2025-06-15T08:28:44.003593Z",
     "iopub.status.idle": "2025-06-15T08:28:44.006184Z",
     "shell.execute_reply": "2025-06-15T08:28:44.005588Z"
    },
    "papermill": {
     "duration": 0.013135,
     "end_time": "2025-06-15T08:28:44.007361",
     "exception": false,
     "start_time": "2025-06-15T08:28:43.994226",
     "status": "completed"
    },
    "tags": []
   },
   "outputs": [],
   "source": [
    "# preds = [np.argmax(x) for x in output.predictions]"
   ]
  },
  {
   "cell_type": "code",
   "execution_count": 45,
   "id": "fe56cb76",
   "metadata": {
    "execution": {
     "iopub.execute_input": "2025-06-15T08:28:44.026698Z",
     "iopub.status.busy": "2025-06-15T08:28:44.026503Z",
     "iopub.status.idle": "2025-06-15T08:28:44.029034Z",
     "shell.execute_reply": "2025-06-15T08:28:44.028456Z"
    },
    "papermill": {
     "duration": 0.013392,
     "end_time": "2025-06-15T08:28:44.030226",
     "exception": false,
     "start_time": "2025-06-15T08:28:44.016834",
     "status": "completed"
    },
    "tags": []
   },
   "outputs": [],
   "source": [
    "# output.predictions"
   ]
  },
  {
   "cell_type": "code",
   "execution_count": 46,
   "id": "0737452a",
   "metadata": {
    "execution": {
     "iopub.execute_input": "2025-06-15T08:28:44.049014Z",
     "iopub.status.busy": "2025-06-15T08:28:44.048819Z",
     "iopub.status.idle": "2025-06-15T08:28:44.051597Z",
     "shell.execute_reply": "2025-06-15T08:28:44.050975Z"
    },
    "papermill": {
     "duration": 0.013406,
     "end_time": "2025-06-15T08:28:44.052744",
     "exception": false,
     "start_time": "2025-06-15T08:28:44.039338",
     "status": "completed"
    },
    "tags": []
   },
   "outputs": [],
   "source": [
    "# np.unique(preds)"
   ]
  },
  {
   "cell_type": "code",
   "execution_count": 47,
   "id": "0db09f99",
   "metadata": {
    "execution": {
     "iopub.execute_input": "2025-06-15T08:28:44.071574Z",
     "iopub.status.busy": "2025-06-15T08:28:44.071372Z",
     "iopub.status.idle": "2025-06-15T08:28:44.073967Z",
     "shell.execute_reply": "2025-06-15T08:28:44.073391Z"
    },
    "papermill": {
     "duration": 0.013228,
     "end_time": "2025-06-15T08:28:44.074997",
     "exception": false,
     "start_time": "2025-06-15T08:28:44.061769",
     "status": "completed"
    },
    "tags": []
   },
   "outputs": [],
   "source": [
    "# def transform(x):\n",
    "#     if x == 2:\n",
    "#         return 1\n",
    "#     elif x == 1:\n",
    "#         return 1\n",
    "#     else:  # x == 0\n",
    "#         return 0\n",
    "        \n",
    "# vectorized_transform = np.vectorize(transform)\n",
    "# Y_test = vectorized_transform(Y_test)"
   ]
  },
  {
   "cell_type": "code",
   "execution_count": 48,
   "id": "5a241d59",
   "metadata": {
    "execution": {
     "iopub.execute_input": "2025-06-15T08:28:44.094102Z",
     "iopub.status.busy": "2025-06-15T08:28:44.093908Z",
     "iopub.status.idle": "2025-06-15T08:28:44.096470Z",
     "shell.execute_reply": "2025-06-15T08:28:44.095888Z"
    },
    "papermill": {
     "duration": 0.013416,
     "end_time": "2025-06-15T08:28:44.097628",
     "exception": false,
     "start_time": "2025-06-15T08:28:44.084212",
     "status": "completed"
    },
    "tags": []
   },
   "outputs": [],
   "source": [
    "# np.unique(Y_test)"
   ]
  },
  {
   "cell_type": "code",
   "execution_count": 49,
   "id": "6a6bb58b",
   "metadata": {
    "execution": {
     "iopub.execute_input": "2025-06-15T08:28:44.117001Z",
     "iopub.status.busy": "2025-06-15T08:28:44.116803Z",
     "iopub.status.idle": "2025-06-15T08:28:44.119620Z",
     "shell.execute_reply": "2025-06-15T08:28:44.119032Z"
    },
    "papermill": {
     "duration": 0.013383,
     "end_time": "2025-06-15T08:28:44.120711",
     "exception": false,
     "start_time": "2025-06-15T08:28:44.107328",
     "status": "completed"
    },
    "tags": []
   },
   "outputs": [],
   "source": [
    "# cm = confusion_matrix(Y_test, preds)\n",
    "\n",
    "# # Define class labels\n",
    "# labels = [0, 1]\n",
    "\n",
    "# # Create a heatmap\n",
    "# plt.figure(figsize=(8, 6))\n",
    "# sns.heatmap(cm, annot=True, fmt='d', cmap='Blues',\n",
    "#             xticklabels=labels, yticklabels=labels)\n",
    "\n",
    "# # Add labels and title\n",
    "# plt.xlabel('Predicted Labels')\n",
    "# plt.ylabel('True Labels')\n",
    "# plt.title('Confusion Matrix Heatmap')\n",
    "\n",
    "# # Display the plot\n",
    "# plt.show()"
   ]
  },
  {
   "cell_type": "code",
   "execution_count": 50,
   "id": "eab1724c",
   "metadata": {
    "execution": {
     "iopub.execute_input": "2025-06-15T08:28:44.139853Z",
     "iopub.status.busy": "2025-06-15T08:28:44.139648Z",
     "iopub.status.idle": "2025-06-15T08:28:44.142404Z",
     "shell.execute_reply": "2025-06-15T08:28:44.141789Z"
    },
    "papermill": {
     "duration": 0.013469,
     "end_time": "2025-06-15T08:28:44.143555",
     "exception": false,
     "start_time": "2025-06-15T08:28:44.130086",
     "status": "completed"
    },
    "tags": []
   },
   "outputs": [],
   "source": [
    "# accuracy_score(Y_test, preds)"
   ]
  },
  {
   "cell_type": "code",
   "execution_count": 51,
   "id": "b63b9963",
   "metadata": {
    "execution": {
     "iopub.execute_input": "2025-06-15T08:28:44.162746Z",
     "iopub.status.busy": "2025-06-15T08:28:44.162539Z",
     "iopub.status.idle": "2025-06-15T08:28:44.165034Z",
     "shell.execute_reply": "2025-06-15T08:28:44.164467Z"
    },
    "papermill": {
     "duration": 0.013246,
     "end_time": "2025-06-15T08:28:44.166301",
     "exception": false,
     "start_time": "2025-06-15T08:28:44.153055",
     "status": "completed"
    },
    "tags": []
   },
   "outputs": [],
   "source": [
    "# print(classification_report(Y_test, preds))"
   ]
  },
  {
   "cell_type": "code",
   "execution_count": null,
   "id": "3f4e4abb",
   "metadata": {
    "papermill": {
     "duration": 0.009258,
     "end_time": "2025-06-15T08:28:44.184862",
     "exception": false,
     "start_time": "2025-06-15T08:28:44.175604",
     "status": "completed"
    },
    "tags": []
   },
   "outputs": [],
   "source": []
  }
 ],
 "metadata": {
  "kaggle": {
   "accelerator": "nvidiaTeslaT4",
   "dataSources": [
    {
     "datasetId": 622510,
     "sourceId": 1192499,
     "sourceType": "datasetVersion"
    },
    {
     "datasetId": 5490281,
     "sourceId": 9097274,
     "sourceType": "datasetVersion"
    },
    {
     "datasetId": 6886982,
     "sourceId": 12072183,
     "sourceType": "datasetVersion"
    },
    {
     "sourceId": 243930408,
     "sourceType": "kernelVersion"
    }
   ],
   "dockerImageVersionId": 30822,
   "isGpuEnabled": true,
   "isInternetEnabled": true,
   "language": "python",
   "sourceType": "notebook"
  },
  "kernelspec": {
   "display_name": "Python 3",
   "language": "python",
   "name": "python3"
  },
  "language_info": {
   "codemirror_mode": {
    "name": "ipython",
    "version": 3
   },
   "file_extension": ".py",
   "mimetype": "text/x-python",
   "name": "python",
   "nbconvert_exporter": "python",
   "pygments_lexer": "ipython3",
   "version": "3.10.12"
  },
  "papermill": {
   "default_parameters": {},
   "duration": 42606.05522,
   "end_time": "2025-06-15T08:28:47.301793",
   "environment_variables": {},
   "exception": null,
   "input_path": "__notebook__.ipynb",
   "output_path": "__notebook__.ipynb",
   "parameters": {},
   "start_time": "2025-06-14T20:38:41.246573",
   "version": "2.6.0"
  },
  "widgets": {
   "application/vnd.jupyter.widget-state+json": {
    "state": {
     "012915610508467eb400cddd58b9e24b": {
      "model_module": "@jupyter-widgets/controls",
      "model_module_version": "2.0.0",
      "model_name": "HTMLStyleModel",
      "state": {
       "_model_module": "@jupyter-widgets/controls",
       "_model_module_version": "2.0.0",
       "_model_name": "HTMLStyleModel",
       "_view_count": null,
       "_view_module": "@jupyter-widgets/base",
       "_view_module_version": "2.0.0",
       "_view_name": "StyleView",
       "background": null,
       "description_width": "",
       "font_size": null,
       "text_color": null
      }
     },
     "03b1e7ef8db14c6687b787a9cdb1a1cf": {
      "model_module": "@jupyter-widgets/controls",
      "model_module_version": "2.0.0",
      "model_name": "HBoxModel",
      "state": {
       "_dom_classes": [],
       "_model_module": "@jupyter-widgets/controls",
       "_model_module_version": "2.0.0",
       "_model_name": "HBoxModel",
       "_view_count": null,
       "_view_module": "@jupyter-widgets/controls",
       "_view_module_version": "2.0.0",
       "_view_name": "HBoxView",
       "box_style": "",
       "children": [
        "IPY_MODEL_49e6858830d8428da12397a805739091",
        "IPY_MODEL_d11f3c82e62b4d89b831453f6c6088a2",
        "IPY_MODEL_6b51cbff78304c8d907a054f13ae5854"
       ],
       "layout": "IPY_MODEL_567aab631c9b443db88e81a75934022a",
       "tabbable": null,
       "tooltip": null
      }
     },
     "06ea647f042f49988bb25ea10b31a4c0": {
      "model_module": "@jupyter-widgets/base",
      "model_module_version": "2.0.0",
      "model_name": "LayoutModel",
      "state": {
       "_model_module": "@jupyter-widgets/base",
       "_model_module_version": "2.0.0",
       "_model_name": "LayoutModel",
       "_view_count": null,
       "_view_module": "@jupyter-widgets/base",
       "_view_module_version": "2.0.0",
       "_view_name": "LayoutView",
       "align_content": null,
       "align_items": null,
       "align_self": null,
       "border_bottom": null,
       "border_left": null,
       "border_right": null,
       "border_top": null,
       "bottom": null,
       "display": null,
       "flex": null,
       "flex_flow": null,
       "grid_area": null,
       "grid_auto_columns": null,
       "grid_auto_flow": null,
       "grid_auto_rows": null,
       "grid_column": null,
       "grid_gap": null,
       "grid_row": null,
       "grid_template_areas": null,
       "grid_template_columns": null,
       "grid_template_rows": null,
       "height": null,
       "justify_content": null,
       "justify_items": null,
       "left": null,
       "margin": null,
       "max_height": null,
       "max_width": null,
       "min_height": null,
       "min_width": null,
       "object_fit": null,
       "object_position": null,
       "order": null,
       "overflow": null,
       "padding": null,
       "right": null,
       "top": null,
       "visibility": null,
       "width": null
      }
     },
     "0f487f8a3309455abe97974727e22d8a": {
      "model_module": "@jupyter-widgets/controls",
      "model_module_version": "2.0.0",
      "model_name": "HTMLStyleModel",
      "state": {
       "_model_module": "@jupyter-widgets/controls",
       "_model_module_version": "2.0.0",
       "_model_name": "HTMLStyleModel",
       "_view_count": null,
       "_view_module": "@jupyter-widgets/base",
       "_view_module_version": "2.0.0",
       "_view_name": "StyleView",
       "background": null,
       "description_width": "",
       "font_size": null,
       "text_color": null
      }
     },
     "0f899a71b57842bab7ef106da3634cfd": {
      "model_module": "@jupyter-widgets/controls",
      "model_module_version": "2.0.0",
      "model_name": "HTMLModel",
      "state": {
       "_dom_classes": [],
       "_model_module": "@jupyter-widgets/controls",
       "_model_module_version": "2.0.0",
       "_model_name": "HTMLModel",
       "_view_count": null,
       "_view_module": "@jupyter-widgets/controls",
       "_view_module_version": "2.0.0",
       "_view_name": "HTMLView",
       "description": "",
       "description_allow_html": false,
       "layout": "IPY_MODEL_b6387e443b634e5fb0fc5663a85d042a",
       "placeholder": "​",
       "style": "IPY_MODEL_2190763a17024ecba99bbbfa0b27450d",
       "tabbable": null,
       "tooltip": null,
       "value": "tokenizer_config.json: 100%"
      }
     },
     "10594cab09ac42a7ba3ee8acb18fedbc": {
      "model_module": "@jupyter-widgets/controls",
      "model_module_version": "2.0.0",
      "model_name": "HTMLModel",
      "state": {
       "_dom_classes": [],
       "_model_module": "@jupyter-widgets/controls",
       "_model_module_version": "2.0.0",
       "_model_name": "HTMLModel",
       "_view_count": null,
       "_view_module": "@jupyter-widgets/controls",
       "_view_module_version": "2.0.0",
       "_view_name": "HTMLView",
       "description": "",
       "description_allow_html": false,
       "layout": "IPY_MODEL_f61caa394625451fa5d81321120459af",
       "placeholder": "​",
       "style": "IPY_MODEL_f2546a464a54451aa5d9653b4f3ad1e0",
       "tabbable": null,
       "tooltip": null,
       "value": " 1/1000000 [11:48:20&lt;6312330:46:09, 22724.41s/it]"
      }
     },
     "10e6c9f564534a7fba44086abf22ebb0": {
      "model_module": "@jupyter-widgets/base",
      "model_module_version": "2.0.0",
      "model_name": "LayoutModel",
      "state": {
       "_model_module": "@jupyter-widgets/base",
       "_model_module_version": "2.0.0",
       "_model_name": "LayoutModel",
       "_view_count": null,
       "_view_module": "@jupyter-widgets/base",
       "_view_module_version": "2.0.0",
       "_view_name": "LayoutView",
       "align_content": null,
       "align_items": null,
       "align_self": null,
       "border_bottom": null,
       "border_left": null,
       "border_right": null,
       "border_top": null,
       "bottom": null,
       "display": null,
       "flex": null,
       "flex_flow": null,
       "grid_area": null,
       "grid_auto_columns": null,
       "grid_auto_flow": null,
       "grid_auto_rows": null,
       "grid_column": null,
       "grid_gap": null,
       "grid_row": null,
       "grid_template_areas": null,
       "grid_template_columns": null,
       "grid_template_rows": null,
       "height": null,
       "justify_content": null,
       "justify_items": null,
       "left": null,
       "margin": null,
       "max_height": null,
       "max_width": null,
       "min_height": null,
       "min_width": null,
       "object_fit": null,
       "object_position": null,
       "order": null,
       "overflow": null,
       "padding": null,
       "right": null,
       "top": null,
       "visibility": null,
       "width": null
      }
     },
     "1993bbe406bf4439818ed07870f77639": {
      "model_module": "@jupyter-widgets/base",
      "model_module_version": "2.0.0",
      "model_name": "LayoutModel",
      "state": {
       "_model_module": "@jupyter-widgets/base",
       "_model_module_version": "2.0.0",
       "_model_name": "LayoutModel",
       "_view_count": null,
       "_view_module": "@jupyter-widgets/base",
       "_view_module_version": "2.0.0",
       "_view_name": "LayoutView",
       "align_content": null,
       "align_items": null,
       "align_self": null,
       "border_bottom": null,
       "border_left": null,
       "border_right": null,
       "border_top": null,
       "bottom": null,
       "display": null,
       "flex": null,
       "flex_flow": null,
       "grid_area": null,
       "grid_auto_columns": null,
       "grid_auto_flow": null,
       "grid_auto_rows": null,
       "grid_column": null,
       "grid_gap": null,
       "grid_row": null,
       "grid_template_areas": null,
       "grid_template_columns": null,
       "grid_template_rows": null,
       "height": null,
       "justify_content": null,
       "justify_items": null,
       "left": null,
       "margin": null,
       "max_height": null,
       "max_width": null,
       "min_height": null,
       "min_width": null,
       "object_fit": null,
       "object_position": null,
       "order": null,
       "overflow": null,
       "padding": null,
       "right": null,
       "top": null,
       "visibility": null,
       "width": null
      }
     },
     "212b059912f344d5ad61c944bbead4c5": {
      "model_module": "@jupyter-widgets/base",
      "model_module_version": "2.0.0",
      "model_name": "LayoutModel",
      "state": {
       "_model_module": "@jupyter-widgets/base",
       "_model_module_version": "2.0.0",
       "_model_name": "LayoutModel",
       "_view_count": null,
       "_view_module": "@jupyter-widgets/base",
       "_view_module_version": "2.0.0",
       "_view_name": "LayoutView",
       "align_content": null,
       "align_items": null,
       "align_self": null,
       "border_bottom": null,
       "border_left": null,
       "border_right": null,
       "border_top": null,
       "bottom": null,
       "display": null,
       "flex": null,
       "flex_flow": null,
       "grid_area": null,
       "grid_auto_columns": null,
       "grid_auto_flow": null,
       "grid_auto_rows": null,
       "grid_column": null,
       "grid_gap": null,
       "grid_row": null,
       "grid_template_areas": null,
       "grid_template_columns": null,
       "grid_template_rows": null,
       "height": null,
       "justify_content": null,
       "justify_items": null,
       "left": null,
       "margin": null,
       "max_height": null,
       "max_width": null,
       "min_height": null,
       "min_width": null,
       "object_fit": null,
       "object_position": null,
       "order": null,
       "overflow": null,
       "padding": null,
       "right": null,
       "top": null,
       "visibility": null,
       "width": null
      }
     },
     "2190763a17024ecba99bbbfa0b27450d": {
      "model_module": "@jupyter-widgets/controls",
      "model_module_version": "2.0.0",
      "model_name": "HTMLStyleModel",
      "state": {
       "_model_module": "@jupyter-widgets/controls",
       "_model_module_version": "2.0.0",
       "_model_name": "HTMLStyleModel",
       "_view_count": null,
       "_view_module": "@jupyter-widgets/base",
       "_view_module_version": "2.0.0",
       "_view_name": "StyleView",
       "background": null,
       "description_width": "",
       "font_size": null,
       "text_color": null
      }
     },
     "23954a807c8d4f2186df0a1155d8d606": {
      "model_module": "@jupyter-widgets/base",
      "model_module_version": "2.0.0",
      "model_name": "LayoutModel",
      "state": {
       "_model_module": "@jupyter-widgets/base",
       "_model_module_version": "2.0.0",
       "_model_name": "LayoutModel",
       "_view_count": null,
       "_view_module": "@jupyter-widgets/base",
       "_view_module_version": "2.0.0",
       "_view_name": "LayoutView",
       "align_content": null,
       "align_items": null,
       "align_self": null,
       "border_bottom": null,
       "border_left": null,
       "border_right": null,
       "border_top": null,
       "bottom": null,
       "display": null,
       "flex": null,
       "flex_flow": null,
       "grid_area": null,
       "grid_auto_columns": null,
       "grid_auto_flow": null,
       "grid_auto_rows": null,
       "grid_column": null,
       "grid_gap": null,
       "grid_row": null,
       "grid_template_areas": null,
       "grid_template_columns": null,
       "grid_template_rows": null,
       "height": null,
       "justify_content": null,
       "justify_items": null,
       "left": null,
       "margin": null,
       "max_height": null,
       "max_width": null,
       "min_height": null,
       "min_width": null,
       "object_fit": null,
       "object_position": null,
       "order": null,
       "overflow": null,
       "padding": null,
       "right": null,
       "top": null,
       "visibility": null,
       "width": null
      }
     },
     "24a9cbe808d246faad8f3e957dae0c77": {
      "model_module": "@jupyter-widgets/controls",
      "model_module_version": "2.0.0",
      "model_name": "HBoxModel",
      "state": {
       "_dom_classes": [],
       "_model_module": "@jupyter-widgets/controls",
       "_model_module_version": "2.0.0",
       "_model_name": "HBoxModel",
       "_view_count": null,
       "_view_module": "@jupyter-widgets/controls",
       "_view_module_version": "2.0.0",
       "_view_name": "HBoxView",
       "box_style": "",
       "children": [
        "IPY_MODEL_e7944e6d70cd4fe6ace32666c9ae2cdd",
        "IPY_MODEL_304343b9e2c64685812a1199ddae9e86",
        "IPY_MODEL_52f8275cb0394777a6fde99c21bedd33"
       ],
       "layout": "IPY_MODEL_23954a807c8d4f2186df0a1155d8d606",
       "tabbable": null,
       "tooltip": null
      }
     },
     "27f9106eea2241c1870fe07824b12b35": {
      "model_module": "@jupyter-widgets/controls",
      "model_module_version": "2.0.0",
      "model_name": "ProgressStyleModel",
      "state": {
       "_model_module": "@jupyter-widgets/controls",
       "_model_module_version": "2.0.0",
       "_model_name": "ProgressStyleModel",
       "_view_count": null,
       "_view_module": "@jupyter-widgets/base",
       "_view_module_version": "2.0.0",
       "_view_name": "StyleView",
       "bar_color": null,
       "description_width": ""
      }
     },
     "2b863ec0333844d7b02876fd25fc61d7": {
      "model_module": "@jupyter-widgets/controls",
      "model_module_version": "2.0.0",
      "model_name": "HBoxModel",
      "state": {
       "_dom_classes": [],
       "_model_module": "@jupyter-widgets/controls",
       "_model_module_version": "2.0.0",
       "_model_name": "HBoxModel",
       "_view_count": null,
       "_view_module": "@jupyter-widgets/controls",
       "_view_module_version": "2.0.0",
       "_view_name": "HBoxView",
       "box_style": "",
       "children": [
        "IPY_MODEL_c6beff07af7144e880de357560758106",
        "IPY_MODEL_5c7d2ef653b440d2be0ec6699daff4ad",
        "IPY_MODEL_10594cab09ac42a7ba3ee8acb18fedbc"
       ],
       "layout": "IPY_MODEL_1993bbe406bf4439818ed07870f77639",
       "tabbable": null,
       "tooltip": null
      }
     },
     "2f6f328588e3426aa3580ee289186c00": {
      "model_module": "@jupyter-widgets/controls",
      "model_module_version": "2.0.0",
      "model_name": "ProgressStyleModel",
      "state": {
       "_model_module": "@jupyter-widgets/controls",
       "_model_module_version": "2.0.0",
       "_model_name": "ProgressStyleModel",
       "_view_count": null,
       "_view_module": "@jupyter-widgets/base",
       "_view_module_version": "2.0.0",
       "_view_name": "StyleView",
       "bar_color": null,
       "description_width": ""
      }
     },
     "304343b9e2c64685812a1199ddae9e86": {
      "model_module": "@jupyter-widgets/controls",
      "model_module_version": "2.0.0",
      "model_name": "FloatProgressModel",
      "state": {
       "_dom_classes": [],
       "_model_module": "@jupyter-widgets/controls",
       "_model_module_version": "2.0.0",
       "_model_name": "FloatProgressModel",
       "_view_count": null,
       "_view_module": "@jupyter-widgets/controls",
       "_view_module_version": "2.0.0",
       "_view_name": "ProgressView",
       "bar_style": "success",
       "description": "",
       "description_allow_html": false,
       "layout": "IPY_MODEL_99136819652a49799f54ffe6e201ab8a",
       "max": 231508.0,
       "min": 0.0,
       "orientation": "horizontal",
       "style": "IPY_MODEL_2f6f328588e3426aa3580ee289186c00",
       "tabbable": null,
       "tooltip": null,
       "value": 231508.0
      }
     },
     "30b2dc72c27b47e6974570cd9c1995db": {
      "model_module": "@jupyter-widgets/base",
      "model_module_version": "2.0.0",
      "model_name": "LayoutModel",
      "state": {
       "_model_module": "@jupyter-widgets/base",
       "_model_module_version": "2.0.0",
       "_model_name": "LayoutModel",
       "_view_count": null,
       "_view_module": "@jupyter-widgets/base",
       "_view_module_version": "2.0.0",
       "_view_name": "LayoutView",
       "align_content": null,
       "align_items": null,
       "align_self": null,
       "border_bottom": null,
       "border_left": null,
       "border_right": null,
       "border_top": null,
       "bottom": null,
       "display": null,
       "flex": null,
       "flex_flow": null,
       "grid_area": null,
       "grid_auto_columns": null,
       "grid_auto_flow": null,
       "grid_auto_rows": null,
       "grid_column": null,
       "grid_gap": null,
       "grid_row": null,
       "grid_template_areas": null,
       "grid_template_columns": null,
       "grid_template_rows": null,
       "height": null,
       "justify_content": null,
       "justify_items": null,
       "left": null,
       "margin": null,
       "max_height": null,
       "max_width": null,
       "min_height": null,
       "min_width": null,
       "object_fit": null,
       "object_position": null,
       "order": null,
       "overflow": null,
       "padding": null,
       "right": null,
       "top": null,
       "visibility": null,
       "width": null
      }
     },
     "3632449d9d894ceeb1bf71f8b1b7e72b": {
      "model_module": "@jupyter-widgets/base",
      "model_module_version": "2.0.0",
      "model_name": "LayoutModel",
      "state": {
       "_model_module": "@jupyter-widgets/base",
       "_model_module_version": "2.0.0",
       "_model_name": "LayoutModel",
       "_view_count": null,
       "_view_module": "@jupyter-widgets/base",
       "_view_module_version": "2.0.0",
       "_view_name": "LayoutView",
       "align_content": null,
       "align_items": null,
       "align_self": null,
       "border_bottom": null,
       "border_left": null,
       "border_right": null,
       "border_top": null,
       "bottom": null,
       "display": null,
       "flex": null,
       "flex_flow": null,
       "grid_area": null,
       "grid_auto_columns": null,
       "grid_auto_flow": null,
       "grid_auto_rows": null,
       "grid_column": null,
       "grid_gap": null,
       "grid_row": null,
       "grid_template_areas": null,
       "grid_template_columns": null,
       "grid_template_rows": null,
       "height": null,
       "justify_content": null,
       "justify_items": null,
       "left": null,
       "margin": null,
       "max_height": null,
       "max_width": null,
       "min_height": null,
       "min_width": null,
       "object_fit": null,
       "object_position": null,
       "order": null,
       "overflow": null,
       "padding": null,
       "right": null,
       "top": null,
       "visibility": null,
       "width": null
      }
     },
     "37c9448220fa4387984de95244fe6520": {
      "model_module": "@jupyter-widgets/controls",
      "model_module_version": "2.0.0",
      "model_name": "FloatProgressModel",
      "state": {
       "_dom_classes": [],
       "_model_module": "@jupyter-widgets/controls",
       "_model_module_version": "2.0.0",
       "_model_name": "FloatProgressModel",
       "_view_count": null,
       "_view_module": "@jupyter-widgets/controls",
       "_view_module_version": "2.0.0",
       "_view_name": "ProgressView",
       "bar_style": "success",
       "description": "",
       "description_allow_html": false,
       "layout": "IPY_MODEL_cf9506fbf3974012bc652cfc270b8f77",
       "max": 307787.0,
       "min": 0.0,
       "orientation": "horizontal",
       "style": "IPY_MODEL_27f9106eea2241c1870fe07824b12b35",
       "tabbable": null,
       "tooltip": null,
       "value": 307787.0
      }
     },
     "405b6d4989824b15a4148f8ea0b83053": {
      "model_module": "@jupyter-widgets/controls",
      "model_module_version": "2.0.0",
      "model_name": "HTMLModel",
      "state": {
       "_dom_classes": [],
       "_model_module": "@jupyter-widgets/controls",
       "_model_module_version": "2.0.0",
       "_model_name": "HTMLModel",
       "_view_count": null,
       "_view_module": "@jupyter-widgets/controls",
       "_view_module_version": "2.0.0",
       "_view_name": "HTMLView",
       "description": "",
       "description_allow_html": false,
       "layout": "IPY_MODEL_9fb1d3c8c7944718b1618226a248ecb0",
       "placeholder": "​",
       "style": "IPY_MODEL_db1daa92cdfb4d3f8ef5a2e8cf0c2fa8",
       "tabbable": null,
       "tooltip": null,
       "value": " 438M/438M [00:01&lt;00:00, 241MB/s]"
      }
     },
     "40973da52f0a4c3e98244c39c542c13a": {
      "model_module": "@jupyter-widgets/controls",
      "model_module_version": "2.0.0",
      "model_name": "HTMLModel",
      "state": {
       "_dom_classes": [],
       "_model_module": "@jupyter-widgets/controls",
       "_model_module_version": "2.0.0",
       "_model_name": "HTMLModel",
       "_view_count": null,
       "_view_module": "@jupyter-widgets/controls",
       "_view_module_version": "2.0.0",
       "_view_name": "HTMLView",
       "description": "",
       "description_allow_html": false,
       "layout": "IPY_MODEL_10e6c9f564534a7fba44086abf22ebb0",
       "placeholder": "​",
       "style": "IPY_MODEL_a72d8f807b6441a8b4156127288447f1",
       "tabbable": null,
       "tooltip": null,
       "value": "Map: 100%"
      }
     },
     "42ecc58c19f54cc5bccc3012d0a461a9": {
      "model_module": "@jupyter-widgets/base",
      "model_module_version": "2.0.0",
      "model_name": "LayoutModel",
      "state": {
       "_model_module": "@jupyter-widgets/base",
       "_model_module_version": "2.0.0",
       "_model_name": "LayoutModel",
       "_view_count": null,
       "_view_module": "@jupyter-widgets/base",
       "_view_module_version": "2.0.0",
       "_view_name": "LayoutView",
       "align_content": null,
       "align_items": null,
       "align_self": null,
       "border_bottom": null,
       "border_left": null,
       "border_right": null,
       "border_top": null,
       "bottom": null,
       "display": null,
       "flex": null,
       "flex_flow": null,
       "grid_area": null,
       "grid_auto_columns": null,
       "grid_auto_flow": null,
       "grid_auto_rows": null,
       "grid_column": null,
       "grid_gap": null,
       "grid_row": null,
       "grid_template_areas": null,
       "grid_template_columns": null,
       "grid_template_rows": null,
       "height": null,
       "justify_content": null,
       "justify_items": null,
       "left": null,
       "margin": null,
       "max_height": null,
       "max_width": null,
       "min_height": null,
       "min_width": null,
       "object_fit": null,
       "object_position": null,
       "order": null,
       "overflow": null,
       "padding": null,
       "right": null,
       "top": null,
       "visibility": null,
       "width": null
      }
     },
     "47ede9c03ace44bbb90fbb0e151713e9": {
      "model_module": "@jupyter-widgets/controls",
      "model_module_version": "2.0.0",
      "model_name": "FloatProgressModel",
      "state": {
       "_dom_classes": [],
       "_model_module": "@jupyter-widgets/controls",
       "_model_module_version": "2.0.0",
       "_model_name": "FloatProgressModel",
       "_view_count": null,
       "_view_module": "@jupyter-widgets/controls",
       "_view_module_version": "2.0.0",
       "_view_name": "ProgressView",
       "bar_style": "success",
       "description": "",
       "description_allow_html": false,
       "layout": "IPY_MODEL_6c381ac800654cbe8dd4d87c4b00abc8",
       "max": 76946.0,
       "min": 0.0,
       "orientation": "horizontal",
       "style": "IPY_MODEL_5e1224f5d1e046c0956ad53e91f04b55",
       "tabbable": null,
       "tooltip": null,
       "value": 76946.0
      }
     },
     "49e6858830d8428da12397a805739091": {
      "model_module": "@jupyter-widgets/controls",
      "model_module_version": "2.0.0",
      "model_name": "HTMLModel",
      "state": {
       "_dom_classes": [],
       "_model_module": "@jupyter-widgets/controls",
       "_model_module_version": "2.0.0",
       "_model_name": "HTMLModel",
       "_view_count": null,
       "_view_module": "@jupyter-widgets/controls",
       "_view_module_version": "2.0.0",
       "_view_name": "HTMLView",
       "description": "",
       "description_allow_html": false,
       "layout": "IPY_MODEL_5f43a526e19c4beea91206a51968a7c9",
       "placeholder": "​",
       "style": "IPY_MODEL_71f68f31e3ef4a57991cd742f0a108d8",
       "tabbable": null,
       "tooltip": null,
       "value": "special_tokens_map.json: 100%"
      }
     },
     "4b0413e47c424de588e197a1a89c4f30": {
      "model_module": "@jupyter-widgets/controls",
      "model_module_version": "2.0.0",
      "model_name": "HTMLStyleModel",
      "state": {
       "_model_module": "@jupyter-widgets/controls",
       "_model_module_version": "2.0.0",
       "_model_name": "HTMLStyleModel",
       "_view_count": null,
       "_view_module": "@jupyter-widgets/base",
       "_view_module_version": "2.0.0",
       "_view_name": "StyleView",
       "background": null,
       "description_width": "",
       "font_size": null,
       "text_color": null
      }
     },
     "4dfe2a9ef0bc4fddb5307f274cb6af83": {
      "model_module": "@jupyter-widgets/base",
      "model_module_version": "2.0.0",
      "model_name": "LayoutModel",
      "state": {
       "_model_module": "@jupyter-widgets/base",
       "_model_module_version": "2.0.0",
       "_model_name": "LayoutModel",
       "_view_count": null,
       "_view_module": "@jupyter-widgets/base",
       "_view_module_version": "2.0.0",
       "_view_name": "LayoutView",
       "align_content": null,
       "align_items": null,
       "align_self": null,
       "border_bottom": null,
       "border_left": null,
       "border_right": null,
       "border_top": null,
       "bottom": null,
       "display": null,
       "flex": null,
       "flex_flow": null,
       "grid_area": null,
       "grid_auto_columns": null,
       "grid_auto_flow": null,
       "grid_auto_rows": null,
       "grid_column": null,
       "grid_gap": null,
       "grid_row": null,
       "grid_template_areas": null,
       "grid_template_columns": null,
       "grid_template_rows": null,
       "height": null,
       "justify_content": null,
       "justify_items": null,
       "left": null,
       "margin": null,
       "max_height": null,
       "max_width": null,
       "min_height": null,
       "min_width": null,
       "object_fit": null,
       "object_position": null,
       "order": null,
       "overflow": null,
       "padding": null,
       "right": null,
       "top": null,
       "visibility": null,
       "width": null
      }
     },
     "52b3281e57a247cda204a3c050aa148d": {
      "model_module": "@jupyter-widgets/controls",
      "model_module_version": "2.0.0",
      "model_name": "ProgressStyleModel",
      "state": {
       "_model_module": "@jupyter-widgets/controls",
       "_model_module_version": "2.0.0",
       "_model_name": "ProgressStyleModel",
       "_view_count": null,
       "_view_module": "@jupyter-widgets/base",
       "_view_module_version": "2.0.0",
       "_view_name": "StyleView",
       "bar_color": null,
       "description_width": ""
      }
     },
     "52f8275cb0394777a6fde99c21bedd33": {
      "model_module": "@jupyter-widgets/controls",
      "model_module_version": "2.0.0",
      "model_name": "HTMLModel",
      "state": {
       "_dom_classes": [],
       "_model_module": "@jupyter-widgets/controls",
       "_model_module_version": "2.0.0",
       "_model_name": "HTMLModel",
       "_view_count": null,
       "_view_module": "@jupyter-widgets/controls",
       "_view_module_version": "2.0.0",
       "_view_name": "HTMLView",
       "description": "",
       "description_allow_html": false,
       "layout": "IPY_MODEL_9648d252292d45bbb6ea5f08d66c5f3b",
       "placeholder": "​",
       "style": "IPY_MODEL_64af44febd1f4bca90d08b09eb18ca11",
       "tabbable": null,
       "tooltip": null,
       "value": " 232k/232k [00:00&lt;00:00, 6.45MB/s]"
      }
     },
     "53a85aec00b549f28b28d1461041afc7": {
      "model_module": "@jupyter-widgets/controls",
      "model_module_version": "2.0.0",
      "model_name": "ProgressStyleModel",
      "state": {
       "_model_module": "@jupyter-widgets/controls",
       "_model_module_version": "2.0.0",
       "_model_name": "ProgressStyleModel",
       "_view_count": null,
       "_view_module": "@jupyter-widgets/base",
       "_view_module_version": "2.0.0",
       "_view_name": "StyleView",
       "bar_color": null,
       "description_width": ""
      }
     },
     "54e6b0a519c143ba9061e0e8c833781e": {
      "model_module": "@jupyter-widgets/base",
      "model_module_version": "2.0.0",
      "model_name": "LayoutModel",
      "state": {
       "_model_module": "@jupyter-widgets/base",
       "_model_module_version": "2.0.0",
       "_model_name": "LayoutModel",
       "_view_count": null,
       "_view_module": "@jupyter-widgets/base",
       "_view_module_version": "2.0.0",
       "_view_name": "LayoutView",
       "align_content": null,
       "align_items": null,
       "align_self": null,
       "border_bottom": null,
       "border_left": null,
       "border_right": null,
       "border_top": null,
       "bottom": null,
       "display": null,
       "flex": null,
       "flex_flow": null,
       "grid_area": null,
       "grid_auto_columns": null,
       "grid_auto_flow": null,
       "grid_auto_rows": null,
       "grid_column": null,
       "grid_gap": null,
       "grid_row": null,
       "grid_template_areas": null,
       "grid_template_columns": null,
       "grid_template_rows": null,
       "height": null,
       "justify_content": null,
       "justify_items": null,
       "left": null,
       "margin": null,
       "max_height": null,
       "max_width": null,
       "min_height": null,
       "min_width": null,
       "object_fit": null,
       "object_position": null,
       "order": null,
       "overflow": null,
       "padding": null,
       "right": null,
       "top": null,
       "visibility": null,
       "width": null
      }
     },
     "567aab631c9b443db88e81a75934022a": {
      "model_module": "@jupyter-widgets/base",
      "model_module_version": "2.0.0",
      "model_name": "LayoutModel",
      "state": {
       "_model_module": "@jupyter-widgets/base",
       "_model_module_version": "2.0.0",
       "_model_name": "LayoutModel",
       "_view_count": null,
       "_view_module": "@jupyter-widgets/base",
       "_view_module_version": "2.0.0",
       "_view_name": "LayoutView",
       "align_content": null,
       "align_items": null,
       "align_self": null,
       "border_bottom": null,
       "border_left": null,
       "border_right": null,
       "border_top": null,
       "bottom": null,
       "display": null,
       "flex": null,
       "flex_flow": null,
       "grid_area": null,
       "grid_auto_columns": null,
       "grid_auto_flow": null,
       "grid_auto_rows": null,
       "grid_column": null,
       "grid_gap": null,
       "grid_row": null,
       "grid_template_areas": null,
       "grid_template_columns": null,
       "grid_template_rows": null,
       "height": null,
       "justify_content": null,
       "justify_items": null,
       "left": null,
       "margin": null,
       "max_height": null,
       "max_width": null,
       "min_height": null,
       "min_width": null,
       "object_fit": null,
       "object_position": null,
       "order": null,
       "overflow": null,
       "padding": null,
       "right": null,
       "top": null,
       "visibility": null,
       "width": null
      }
     },
     "5a17d9c8e4ee48dfa09d577b92437516": {
      "model_module": "@jupyter-widgets/controls",
      "model_module_version": "2.0.0",
      "model_name": "HTMLStyleModel",
      "state": {
       "_model_module": "@jupyter-widgets/controls",
       "_model_module_version": "2.0.0",
       "_model_name": "HTMLStyleModel",
       "_view_count": null,
       "_view_module": "@jupyter-widgets/base",
       "_view_module_version": "2.0.0",
       "_view_name": "StyleView",
       "background": null,
       "description_width": "",
       "font_size": null,
       "text_color": null
      }
     },
     "5c7d2ef653b440d2be0ec6699daff4ad": {
      "model_module": "@jupyter-widgets/controls",
      "model_module_version": "2.0.0",
      "model_name": "FloatProgressModel",
      "state": {
       "_dom_classes": [],
       "_model_module": "@jupyter-widgets/controls",
       "_model_module_version": "2.0.0",
       "_model_name": "FloatProgressModel",
       "_view_count": null,
       "_view_module": "@jupyter-widgets/controls",
       "_view_module_version": "2.0.0",
       "_view_name": "ProgressView",
       "bar_style": "danger",
       "description": "",
       "description_allow_html": false,
       "layout": "IPY_MODEL_c386b69af125452ca8b0803dd0f1a1d2",
       "max": 1000000.0,
       "min": 0.0,
       "orientation": "horizontal",
       "style": "IPY_MODEL_53a85aec00b549f28b28d1461041afc7",
       "tabbable": null,
       "tooltip": null,
       "value": 1.0
      }
     },
     "5e1224f5d1e046c0956ad53e91f04b55": {
      "model_module": "@jupyter-widgets/controls",
      "model_module_version": "2.0.0",
      "model_name": "ProgressStyleModel",
      "state": {
       "_model_module": "@jupyter-widgets/controls",
       "_model_module_version": "2.0.0",
       "_model_name": "ProgressStyleModel",
       "_view_count": null,
       "_view_module": "@jupyter-widgets/base",
       "_view_module_version": "2.0.0",
       "_view_name": "StyleView",
       "bar_color": null,
       "description_width": ""
      }
     },
     "5f43a526e19c4beea91206a51968a7c9": {
      "model_module": "@jupyter-widgets/base",
      "model_module_version": "2.0.0",
      "model_name": "LayoutModel",
      "state": {
       "_model_module": "@jupyter-widgets/base",
       "_model_module_version": "2.0.0",
       "_model_name": "LayoutModel",
       "_view_count": null,
       "_view_module": "@jupyter-widgets/base",
       "_view_module_version": "2.0.0",
       "_view_name": "LayoutView",
       "align_content": null,
       "align_items": null,
       "align_self": null,
       "border_bottom": null,
       "border_left": null,
       "border_right": null,
       "border_top": null,
       "bottom": null,
       "display": null,
       "flex": null,
       "flex_flow": null,
       "grid_area": null,
       "grid_auto_columns": null,
       "grid_auto_flow": null,
       "grid_auto_rows": null,
       "grid_column": null,
       "grid_gap": null,
       "grid_row": null,
       "grid_template_areas": null,
       "grid_template_columns": null,
       "grid_template_rows": null,
       "height": null,
       "justify_content": null,
       "justify_items": null,
       "left": null,
       "margin": null,
       "max_height": null,
       "max_width": null,
       "min_height": null,
       "min_width": null,
       "object_fit": null,
       "object_position": null,
       "order": null,
       "overflow": null,
       "padding": null,
       "right": null,
       "top": null,
       "visibility": null,
       "width": null
      }
     },
     "5f8a55ce43844960b119f9f01a9b11f5": {
      "model_module": "@jupyter-widgets/controls",
      "model_module_version": "2.0.0",
      "model_name": "ProgressStyleModel",
      "state": {
       "_model_module": "@jupyter-widgets/controls",
       "_model_module_version": "2.0.0",
       "_model_name": "ProgressStyleModel",
       "_view_count": null,
       "_view_module": "@jupyter-widgets/base",
       "_view_module_version": "2.0.0",
       "_view_name": "StyleView",
       "bar_color": null,
       "description_width": ""
      }
     },
     "64af44febd1f4bca90d08b09eb18ca11": {
      "model_module": "@jupyter-widgets/controls",
      "model_module_version": "2.0.0",
      "model_name": "HTMLStyleModel",
      "state": {
       "_model_module": "@jupyter-widgets/controls",
       "_model_module_version": "2.0.0",
       "_model_name": "HTMLStyleModel",
       "_view_count": null,
       "_view_module": "@jupyter-widgets/base",
       "_view_module_version": "2.0.0",
       "_view_name": "StyleView",
       "background": null,
       "description_width": "",
       "font_size": null,
       "text_color": null
      }
     },
     "6b51cbff78304c8d907a054f13ae5854": {
      "model_module": "@jupyter-widgets/controls",
      "model_module_version": "2.0.0",
      "model_name": "HTMLModel",
      "state": {
       "_dom_classes": [],
       "_model_module": "@jupyter-widgets/controls",
       "_model_module_version": "2.0.0",
       "_model_name": "HTMLModel",
       "_view_count": null,
       "_view_module": "@jupyter-widgets/controls",
       "_view_module_version": "2.0.0",
       "_view_name": "HTMLView",
       "description": "",
       "description_allow_html": false,
       "layout": "IPY_MODEL_b2e6ae0945c64e42b17d364e41b65a83",
       "placeholder": "​",
       "style": "IPY_MODEL_4b0413e47c424de588e197a1a89c4f30",
       "tabbable": null,
       "tooltip": null,
       "value": " 112/112 [00:00&lt;00:00, 10.7kB/s]"
      }
     },
     "6c381ac800654cbe8dd4d87c4b00abc8": {
      "model_module": "@jupyter-widgets/base",
      "model_module_version": "2.0.0",
      "model_name": "LayoutModel",
      "state": {
       "_model_module": "@jupyter-widgets/base",
       "_model_module_version": "2.0.0",
       "_model_name": "LayoutModel",
       "_view_count": null,
       "_view_module": "@jupyter-widgets/base",
       "_view_module_version": "2.0.0",
       "_view_name": "LayoutView",
       "align_content": null,
       "align_items": null,
       "align_self": null,
       "border_bottom": null,
       "border_left": null,
       "border_right": null,
       "border_top": null,
       "bottom": null,
       "display": null,
       "flex": null,
       "flex_flow": null,
       "grid_area": null,
       "grid_auto_columns": null,
       "grid_auto_flow": null,
       "grid_auto_rows": null,
       "grid_column": null,
       "grid_gap": null,
       "grid_row": null,
       "grid_template_areas": null,
       "grid_template_columns": null,
       "grid_template_rows": null,
       "height": null,
       "justify_content": null,
       "justify_items": null,
       "left": null,
       "margin": null,
       "max_height": null,
       "max_width": null,
       "min_height": null,
       "min_width": null,
       "object_fit": null,
       "object_position": null,
       "order": null,
       "overflow": null,
       "padding": null,
       "right": null,
       "top": null,
       "visibility": null,
       "width": null
      }
     },
     "6c567be52454426ab863b438b478aec2": {
      "model_module": "@jupyter-widgets/controls",
      "model_module_version": "2.0.0",
      "model_name": "HTMLModel",
      "state": {
       "_dom_classes": [],
       "_model_module": "@jupyter-widgets/controls",
       "_model_module_version": "2.0.0",
       "_model_name": "HTMLModel",
       "_view_count": null,
       "_view_module": "@jupyter-widgets/controls",
       "_view_module_version": "2.0.0",
       "_view_name": "HTMLView",
       "description": "",
       "description_allow_html": false,
       "layout": "IPY_MODEL_4dfe2a9ef0bc4fddb5307f274cb6af83",
       "placeholder": "​",
       "style": "IPY_MODEL_012915610508467eb400cddd58b9e24b",
       "tabbable": null,
       "tooltip": null,
       "value": " 307787/307787 [00:50&lt;00:00, 5738.56 examples/s]"
      }
     },
     "6c635323ca3f417db27ccde474f2a5e8": {
      "model_module": "@jupyter-widgets/controls",
      "model_module_version": "2.0.0",
      "model_name": "HTMLStyleModel",
      "state": {
       "_model_module": "@jupyter-widgets/controls",
       "_model_module_version": "2.0.0",
       "_model_name": "HTMLStyleModel",
       "_view_count": null,
       "_view_module": "@jupyter-widgets/base",
       "_view_module_version": "2.0.0",
       "_view_name": "StyleView",
       "background": null,
       "description_width": "",
       "font_size": null,
       "text_color": null
      }
     },
     "6d1bb952379f4561870e4e84c6237e7b": {
      "model_module": "@jupyter-widgets/base",
      "model_module_version": "2.0.0",
      "model_name": "LayoutModel",
      "state": {
       "_model_module": "@jupyter-widgets/base",
       "_model_module_version": "2.0.0",
       "_model_name": "LayoutModel",
       "_view_count": null,
       "_view_module": "@jupyter-widgets/base",
       "_view_module_version": "2.0.0",
       "_view_name": "LayoutView",
       "align_content": null,
       "align_items": null,
       "align_self": null,
       "border_bottom": null,
       "border_left": null,
       "border_right": null,
       "border_top": null,
       "bottom": null,
       "display": null,
       "flex": null,
       "flex_flow": null,
       "grid_area": null,
       "grid_auto_columns": null,
       "grid_auto_flow": null,
       "grid_auto_rows": null,
       "grid_column": null,
       "grid_gap": null,
       "grid_row": null,
       "grid_template_areas": null,
       "grid_template_columns": null,
       "grid_template_rows": null,
       "height": null,
       "justify_content": null,
       "justify_items": null,
       "left": null,
       "margin": null,
       "max_height": null,
       "max_width": null,
       "min_height": null,
       "min_width": null,
       "object_fit": null,
       "object_position": null,
       "order": null,
       "overflow": null,
       "padding": null,
       "right": null,
       "top": null,
       "visibility": null,
       "width": null
      }
     },
     "71d6326d881c415cbb74588881c5dedb": {
      "model_module": "@jupyter-widgets/controls",
      "model_module_version": "2.0.0",
      "model_name": "HTMLModel",
      "state": {
       "_dom_classes": [],
       "_model_module": "@jupyter-widgets/controls",
       "_model_module_version": "2.0.0",
       "_model_name": "HTMLModel",
       "_view_count": null,
       "_view_module": "@jupyter-widgets/controls",
       "_view_module_version": "2.0.0",
       "_view_name": "HTMLView",
       "description": "",
       "description_allow_html": false,
       "layout": "IPY_MODEL_212b059912f344d5ad61c944bbead4c5",
       "placeholder": "​",
       "style": "IPY_MODEL_0f487f8a3309455abe97974727e22d8a",
       "tabbable": null,
       "tooltip": null,
       "value": "config.json: 100%"
      }
     },
     "71f68f31e3ef4a57991cd742f0a108d8": {
      "model_module": "@jupyter-widgets/controls",
      "model_module_version": "2.0.0",
      "model_name": "HTMLStyleModel",
      "state": {
       "_model_module": "@jupyter-widgets/controls",
       "_model_module_version": "2.0.0",
       "_model_name": "HTMLStyleModel",
       "_view_count": null,
       "_view_module": "@jupyter-widgets/base",
       "_view_module_version": "2.0.0",
       "_view_name": "StyleView",
       "background": null,
       "description_width": "",
       "font_size": null,
       "text_color": null
      }
     },
     "72e19cd84da9465a8af1a35456db0efe": {
      "model_module": "@jupyter-widgets/base",
      "model_module_version": "2.0.0",
      "model_name": "LayoutModel",
      "state": {
       "_model_module": "@jupyter-widgets/base",
       "_model_module_version": "2.0.0",
       "_model_name": "LayoutModel",
       "_view_count": null,
       "_view_module": "@jupyter-widgets/base",
       "_view_module_version": "2.0.0",
       "_view_name": "LayoutView",
       "align_content": null,
       "align_items": null,
       "align_self": null,
       "border_bottom": null,
       "border_left": null,
       "border_right": null,
       "border_top": null,
       "bottom": null,
       "display": null,
       "flex": null,
       "flex_flow": null,
       "grid_area": null,
       "grid_auto_columns": null,
       "grid_auto_flow": null,
       "grid_auto_rows": null,
       "grid_column": null,
       "grid_gap": null,
       "grid_row": null,
       "grid_template_areas": null,
       "grid_template_columns": null,
       "grid_template_rows": null,
       "height": null,
       "justify_content": null,
       "justify_items": null,
       "left": null,
       "margin": null,
       "max_height": null,
       "max_width": null,
       "min_height": null,
       "min_width": null,
       "object_fit": null,
       "object_position": null,
       "order": null,
       "overflow": null,
       "padding": null,
       "right": null,
       "top": null,
       "visibility": null,
       "width": null
      }
     },
     "77c99529e3aa43a1bf501aa813233ad4": {
      "model_module": "@jupyter-widgets/controls",
      "model_module_version": "2.0.0",
      "model_name": "ProgressStyleModel",
      "state": {
       "_model_module": "@jupyter-widgets/controls",
       "_model_module_version": "2.0.0",
       "_model_name": "ProgressStyleModel",
       "_view_count": null,
       "_view_module": "@jupyter-widgets/base",
       "_view_module_version": "2.0.0",
       "_view_name": "StyleView",
       "bar_color": null,
       "description_width": ""
      }
     },
     "8b6f6b7add69416181590a869e1ff1eb": {
      "model_module": "@jupyter-widgets/controls",
      "model_module_version": "2.0.0",
      "model_name": "HTMLModel",
      "state": {
       "_dom_classes": [],
       "_model_module": "@jupyter-widgets/controls",
       "_model_module_version": "2.0.0",
       "_model_name": "HTMLModel",
       "_view_count": null,
       "_view_module": "@jupyter-widgets/controls",
       "_view_module_version": "2.0.0",
       "_view_name": "HTMLView",
       "description": "",
       "description_allow_html": false,
       "layout": "IPY_MODEL_42ecc58c19f54cc5bccc3012d0a461a9",
       "placeholder": "​",
       "style": "IPY_MODEL_9a390d9825924c129796cf23ac5999af",
       "tabbable": null,
       "tooltip": null,
       "value": " 252/252 [00:00&lt;00:00, 25.2kB/s]"
      }
     },
     "8da7e521e88943d2bdfff4561d95c12d": {
      "model_module": "@jupyter-widgets/controls",
      "model_module_version": "2.0.0",
      "model_name": "HTMLStyleModel",
      "state": {
       "_model_module": "@jupyter-widgets/controls",
       "_model_module_version": "2.0.0",
       "_model_name": "HTMLStyleModel",
       "_view_count": null,
       "_view_module": "@jupyter-widgets/base",
       "_view_module_version": "2.0.0",
       "_view_name": "StyleView",
       "background": null,
       "description_width": "",
       "font_size": null,
       "text_color": null
      }
     },
     "9035b30dde7b42b49f35d368111044a6": {
      "model_module": "@jupyter-widgets/base",
      "model_module_version": "2.0.0",
      "model_name": "LayoutModel",
      "state": {
       "_model_module": "@jupyter-widgets/base",
       "_model_module_version": "2.0.0",
       "_model_name": "LayoutModel",
       "_view_count": null,
       "_view_module": "@jupyter-widgets/base",
       "_view_module_version": "2.0.0",
       "_view_name": "LayoutView",
       "align_content": null,
       "align_items": null,
       "align_self": null,
       "border_bottom": null,
       "border_left": null,
       "border_right": null,
       "border_top": null,
       "bottom": null,
       "display": null,
       "flex": null,
       "flex_flow": null,
       "grid_area": null,
       "grid_auto_columns": null,
       "grid_auto_flow": null,
       "grid_auto_rows": null,
       "grid_column": null,
       "grid_gap": null,
       "grid_row": null,
       "grid_template_areas": null,
       "grid_template_columns": null,
       "grid_template_rows": null,
       "height": null,
       "justify_content": null,
       "justify_items": null,
       "left": null,
       "margin": null,
       "max_height": null,
       "max_width": null,
       "min_height": null,
       "min_width": null,
       "object_fit": null,
       "object_position": null,
       "order": null,
       "overflow": null,
       "padding": null,
       "right": null,
       "top": null,
       "visibility": null,
       "width": null
      }
     },
     "92c9c3990b00469db1593b0dbc450389": {
      "model_module": "@jupyter-widgets/controls",
      "model_module_version": "2.0.0",
      "model_name": "HBoxModel",
      "state": {
       "_dom_classes": [],
       "_model_module": "@jupyter-widgets/controls",
       "_model_module_version": "2.0.0",
       "_model_name": "HBoxModel",
       "_view_count": null,
       "_view_module": "@jupyter-widgets/controls",
       "_view_module_version": "2.0.0",
       "_view_name": "HBoxView",
       "box_style": "",
       "children": [
        "IPY_MODEL_71d6326d881c415cbb74588881c5dedb",
        "IPY_MODEL_dbc44153b21b42d3ada7e44baee8e8d7",
        "IPY_MODEL_c7f31c1aca4f48c7bfb683f16659b721"
       ],
       "layout": "IPY_MODEL_d15962df866849c3890c9dc68cd3e79c",
       "tabbable": null,
       "tooltip": null
      }
     },
     "9648d252292d45bbb6ea5f08d66c5f3b": {
      "model_module": "@jupyter-widgets/base",
      "model_module_version": "2.0.0",
      "model_name": "LayoutModel",
      "state": {
       "_model_module": "@jupyter-widgets/base",
       "_model_module_version": "2.0.0",
       "_model_name": "LayoutModel",
       "_view_count": null,
       "_view_module": "@jupyter-widgets/base",
       "_view_module_version": "2.0.0",
       "_view_name": "LayoutView",
       "align_content": null,
       "align_items": null,
       "align_self": null,
       "border_bottom": null,
       "border_left": null,
       "border_right": null,
       "border_top": null,
       "bottom": null,
       "display": null,
       "flex": null,
       "flex_flow": null,
       "grid_area": null,
       "grid_auto_columns": null,
       "grid_auto_flow": null,
       "grid_auto_rows": null,
       "grid_column": null,
       "grid_gap": null,
       "grid_row": null,
       "grid_template_areas": null,
       "grid_template_columns": null,
       "grid_template_rows": null,
       "height": null,
       "justify_content": null,
       "justify_items": null,
       "left": null,
       "margin": null,
       "max_height": null,
       "max_width": null,
       "min_height": null,
       "min_width": null,
       "object_fit": null,
       "object_position": null,
       "order": null,
       "overflow": null,
       "padding": null,
       "right": null,
       "top": null,
       "visibility": null,
       "width": null
      }
     },
     "99136819652a49799f54ffe6e201ab8a": {
      "model_module": "@jupyter-widgets/base",
      "model_module_version": "2.0.0",
      "model_name": "LayoutModel",
      "state": {
       "_model_module": "@jupyter-widgets/base",
       "_model_module_version": "2.0.0",
       "_model_name": "LayoutModel",
       "_view_count": null,
       "_view_module": "@jupyter-widgets/base",
       "_view_module_version": "2.0.0",
       "_view_name": "LayoutView",
       "align_content": null,
       "align_items": null,
       "align_self": null,
       "border_bottom": null,
       "border_left": null,
       "border_right": null,
       "border_top": null,
       "bottom": null,
       "display": null,
       "flex": null,
       "flex_flow": null,
       "grid_area": null,
       "grid_auto_columns": null,
       "grid_auto_flow": null,
       "grid_auto_rows": null,
       "grid_column": null,
       "grid_gap": null,
       "grid_row": null,
       "grid_template_areas": null,
       "grid_template_columns": null,
       "grid_template_rows": null,
       "height": null,
       "justify_content": null,
       "justify_items": null,
       "left": null,
       "margin": null,
       "max_height": null,
       "max_width": null,
       "min_height": null,
       "min_width": null,
       "object_fit": null,
       "object_position": null,
       "order": null,
       "overflow": null,
       "padding": null,
       "right": null,
       "top": null,
       "visibility": null,
       "width": null
      }
     },
     "9a390d9825924c129796cf23ac5999af": {
      "model_module": "@jupyter-widgets/controls",
      "model_module_version": "2.0.0",
      "model_name": "HTMLStyleModel",
      "state": {
       "_model_module": "@jupyter-widgets/controls",
       "_model_module_version": "2.0.0",
       "_model_name": "HTMLStyleModel",
       "_view_count": null,
       "_view_module": "@jupyter-widgets/base",
       "_view_module_version": "2.0.0",
       "_view_name": "StyleView",
       "background": null,
       "description_width": "",
       "font_size": null,
       "text_color": null
      }
     },
     "9afec95535354cd59391d2199f524162": {
      "model_module": "@jupyter-widgets/controls",
      "model_module_version": "2.0.0",
      "model_name": "HTMLModel",
      "state": {
       "_dom_classes": [],
       "_model_module": "@jupyter-widgets/controls",
       "_model_module_version": "2.0.0",
       "_model_name": "HTMLModel",
       "_view_count": null,
       "_view_module": "@jupyter-widgets/controls",
       "_view_module_version": "2.0.0",
       "_view_name": "HTMLView",
       "description": "",
       "description_allow_html": false,
       "layout": "IPY_MODEL_c9a7b5d20eea4e9fba83176492c5bb91",
       "placeholder": "​",
       "style": "IPY_MODEL_eb7fbf505b9c4d999f1a32816f26ffa7",
       "tabbable": null,
       "tooltip": null,
       "value": " 76946/76946 [00:13&lt;00:00, 5414.41 examples/s]"
      }
     },
     "9fb1d3c8c7944718b1618226a248ecb0": {
      "model_module": "@jupyter-widgets/base",
      "model_module_version": "2.0.0",
      "model_name": "LayoutModel",
      "state": {
       "_model_module": "@jupyter-widgets/base",
       "_model_module_version": "2.0.0",
       "_model_name": "LayoutModel",
       "_view_count": null,
       "_view_module": "@jupyter-widgets/base",
       "_view_module_version": "2.0.0",
       "_view_name": "LayoutView",
       "align_content": null,
       "align_items": null,
       "align_self": null,
       "border_bottom": null,
       "border_left": null,
       "border_right": null,
       "border_top": null,
       "bottom": null,
       "display": null,
       "flex": null,
       "flex_flow": null,
       "grid_area": null,
       "grid_auto_columns": null,
       "grid_auto_flow": null,
       "grid_auto_rows": null,
       "grid_column": null,
       "grid_gap": null,
       "grid_row": null,
       "grid_template_areas": null,
       "grid_template_columns": null,
       "grid_template_rows": null,
       "height": null,
       "justify_content": null,
       "justify_items": null,
       "left": null,
       "margin": null,
       "max_height": null,
       "max_width": null,
       "min_height": null,
       "min_width": null,
       "object_fit": null,
       "object_position": null,
       "order": null,
       "overflow": null,
       "padding": null,
       "right": null,
       "top": null,
       "visibility": null,
       "width": null
      }
     },
     "a72d8f807b6441a8b4156127288447f1": {
      "model_module": "@jupyter-widgets/controls",
      "model_module_version": "2.0.0",
      "model_name": "HTMLStyleModel",
      "state": {
       "_model_module": "@jupyter-widgets/controls",
       "_model_module_version": "2.0.0",
       "_model_name": "HTMLStyleModel",
       "_view_count": null,
       "_view_module": "@jupyter-widgets/base",
       "_view_module_version": "2.0.0",
       "_view_name": "StyleView",
       "background": null,
       "description_width": "",
       "font_size": null,
       "text_color": null
      }
     },
     "b2e6ae0945c64e42b17d364e41b65a83": {
      "model_module": "@jupyter-widgets/base",
      "model_module_version": "2.0.0",
      "model_name": "LayoutModel",
      "state": {
       "_model_module": "@jupyter-widgets/base",
       "_model_module_version": "2.0.0",
       "_model_name": "LayoutModel",
       "_view_count": null,
       "_view_module": "@jupyter-widgets/base",
       "_view_module_version": "2.0.0",
       "_view_name": "LayoutView",
       "align_content": null,
       "align_items": null,
       "align_self": null,
       "border_bottom": null,
       "border_left": null,
       "border_right": null,
       "border_top": null,
       "bottom": null,
       "display": null,
       "flex": null,
       "flex_flow": null,
       "grid_area": null,
       "grid_auto_columns": null,
       "grid_auto_flow": null,
       "grid_auto_rows": null,
       "grid_column": null,
       "grid_gap": null,
       "grid_row": null,
       "grid_template_areas": null,
       "grid_template_columns": null,
       "grid_template_rows": null,
       "height": null,
       "justify_content": null,
       "justify_items": null,
       "left": null,
       "margin": null,
       "max_height": null,
       "max_width": null,
       "min_height": null,
       "min_width": null,
       "object_fit": null,
       "object_position": null,
       "order": null,
       "overflow": null,
       "padding": null,
       "right": null,
       "top": null,
       "visibility": null,
       "width": null
      }
     },
     "b6387e443b634e5fb0fc5663a85d042a": {
      "model_module": "@jupyter-widgets/base",
      "model_module_version": "2.0.0",
      "model_name": "LayoutModel",
      "state": {
       "_model_module": "@jupyter-widgets/base",
       "_model_module_version": "2.0.0",
       "_model_name": "LayoutModel",
       "_view_count": null,
       "_view_module": "@jupyter-widgets/base",
       "_view_module_version": "2.0.0",
       "_view_name": "LayoutView",
       "align_content": null,
       "align_items": null,
       "align_self": null,
       "border_bottom": null,
       "border_left": null,
       "border_right": null,
       "border_top": null,
       "bottom": null,
       "display": null,
       "flex": null,
       "flex_flow": null,
       "grid_area": null,
       "grid_auto_columns": null,
       "grid_auto_flow": null,
       "grid_auto_rows": null,
       "grid_column": null,
       "grid_gap": null,
       "grid_row": null,
       "grid_template_areas": null,
       "grid_template_columns": null,
       "grid_template_rows": null,
       "height": null,
       "justify_content": null,
       "justify_items": null,
       "left": null,
       "margin": null,
       "max_height": null,
       "max_width": null,
       "min_height": null,
       "min_width": null,
       "object_fit": null,
       "object_position": null,
       "order": null,
       "overflow": null,
       "padding": null,
       "right": null,
       "top": null,
       "visibility": null,
       "width": null
      }
     },
     "b88650c4070744318c4ee8b2252661fd": {
      "model_module": "@jupyter-widgets/controls",
      "model_module_version": "2.0.0",
      "model_name": "ProgressStyleModel",
      "state": {
       "_model_module": "@jupyter-widgets/controls",
       "_model_module_version": "2.0.0",
       "_model_name": "ProgressStyleModel",
       "_view_count": null,
       "_view_module": "@jupyter-widgets/base",
       "_view_module_version": "2.0.0",
       "_view_name": "StyleView",
       "bar_color": null,
       "description_width": ""
      }
     },
     "c14566eb69384f509433d5710b472c16": {
      "model_module": "@jupyter-widgets/controls",
      "model_module_version": "2.0.0",
      "model_name": "HBoxModel",
      "state": {
       "_dom_classes": [],
       "_model_module": "@jupyter-widgets/controls",
       "_model_module_version": "2.0.0",
       "_model_name": "HBoxModel",
       "_view_count": null,
       "_view_module": "@jupyter-widgets/controls",
       "_view_module_version": "2.0.0",
       "_view_name": "HBoxView",
       "box_style": "",
       "children": [
        "IPY_MODEL_c82afc82086d41c8ae76814618d54145",
        "IPY_MODEL_f6d44a667ea64c7689257eae729d42b9",
        "IPY_MODEL_405b6d4989824b15a4148f8ea0b83053"
       ],
       "layout": "IPY_MODEL_72e19cd84da9465a8af1a35456db0efe",
       "tabbable": null,
       "tooltip": null
      }
     },
     "c386b69af125452ca8b0803dd0f1a1d2": {
      "model_module": "@jupyter-widgets/base",
      "model_module_version": "2.0.0",
      "model_name": "LayoutModel",
      "state": {
       "_model_module": "@jupyter-widgets/base",
       "_model_module_version": "2.0.0",
       "_model_name": "LayoutModel",
       "_view_count": null,
       "_view_module": "@jupyter-widgets/base",
       "_view_module_version": "2.0.0",
       "_view_name": "LayoutView",
       "align_content": null,
       "align_items": null,
       "align_self": null,
       "border_bottom": null,
       "border_left": null,
       "border_right": null,
       "border_top": null,
       "bottom": null,
       "display": null,
       "flex": null,
       "flex_flow": null,
       "grid_area": null,
       "grid_auto_columns": null,
       "grid_auto_flow": null,
       "grid_auto_rows": null,
       "grid_column": null,
       "grid_gap": null,
       "grid_row": null,
       "grid_template_areas": null,
       "grid_template_columns": null,
       "grid_template_rows": null,
       "height": null,
       "justify_content": null,
       "justify_items": null,
       "left": null,
       "margin": null,
       "max_height": null,
       "max_width": null,
       "min_height": null,
       "min_width": null,
       "object_fit": null,
       "object_position": null,
       "order": null,
       "overflow": null,
       "padding": null,
       "right": null,
       "top": null,
       "visibility": null,
       "width": null
      }
     },
     "c4bad8802dea4bed83b92966613f753d": {
      "model_module": "@jupyter-widgets/base",
      "model_module_version": "2.0.0",
      "model_name": "LayoutModel",
      "state": {
       "_model_module": "@jupyter-widgets/base",
       "_model_module_version": "2.0.0",
       "_model_name": "LayoutModel",
       "_view_count": null,
       "_view_module": "@jupyter-widgets/base",
       "_view_module_version": "2.0.0",
       "_view_name": "LayoutView",
       "align_content": null,
       "align_items": null,
       "align_self": null,
       "border_bottom": null,
       "border_left": null,
       "border_right": null,
       "border_top": null,
       "bottom": null,
       "display": null,
       "flex": null,
       "flex_flow": null,
       "grid_area": null,
       "grid_auto_columns": null,
       "grid_auto_flow": null,
       "grid_auto_rows": null,
       "grid_column": null,
       "grid_gap": null,
       "grid_row": null,
       "grid_template_areas": null,
       "grid_template_columns": null,
       "grid_template_rows": null,
       "height": null,
       "justify_content": null,
       "justify_items": null,
       "left": null,
       "margin": null,
       "max_height": null,
       "max_width": null,
       "min_height": null,
       "min_width": null,
       "object_fit": null,
       "object_position": null,
       "order": null,
       "overflow": null,
       "padding": null,
       "right": null,
       "top": null,
       "visibility": null,
       "width": null
      }
     },
     "c6beff07af7144e880de357560758106": {
      "model_module": "@jupyter-widgets/controls",
      "model_module_version": "2.0.0",
      "model_name": "HTMLModel",
      "state": {
       "_dom_classes": [],
       "_model_module": "@jupyter-widgets/controls",
       "_model_module_version": "2.0.0",
       "_model_name": "HTMLModel",
       "_view_count": null,
       "_view_module": "@jupyter-widgets/controls",
       "_view_module_version": "2.0.0",
       "_view_name": "HTMLView",
       "description": "",
       "description_allow_html": false,
       "layout": "IPY_MODEL_54e6b0a519c143ba9061e0e8c833781e",
       "placeholder": "​",
       "style": "IPY_MODEL_5a17d9c8e4ee48dfa09d577b92437516",
       "tabbable": null,
       "tooltip": null,
       "value": "Best trial: 3. Best value: 0.972372:   0%"
      }
     },
     "c7f31c1aca4f48c7bfb683f16659b721": {
      "model_module": "@jupyter-widgets/controls",
      "model_module_version": "2.0.0",
      "model_name": "HTMLModel",
      "state": {
       "_dom_classes": [],
       "_model_module": "@jupyter-widgets/controls",
       "_model_module_version": "2.0.0",
       "_model_name": "HTMLModel",
       "_view_count": null,
       "_view_module": "@jupyter-widgets/controls",
       "_view_module_version": "2.0.0",
       "_view_name": "HTMLView",
       "description": "",
       "description_allow_html": false,
       "layout": "IPY_MODEL_06ea647f042f49988bb25ea10b31a4c0",
       "placeholder": "​",
       "style": "IPY_MODEL_e5d3f8525c49422da0fb0de5a30a1e03",
       "tabbable": null,
       "tooltip": null,
       "value": " 758/758 [00:00&lt;00:00, 79.1kB/s]"
      }
     },
     "c82afc82086d41c8ae76814618d54145": {
      "model_module": "@jupyter-widgets/controls",
      "model_module_version": "2.0.0",
      "model_name": "HTMLModel",
      "state": {
       "_dom_classes": [],
       "_model_module": "@jupyter-widgets/controls",
       "_model_module_version": "2.0.0",
       "_model_name": "HTMLModel",
       "_view_count": null,
       "_view_module": "@jupyter-widgets/controls",
       "_view_module_version": "2.0.0",
       "_view_name": "HTMLView",
       "description": "",
       "description_allow_html": false,
       "layout": "IPY_MODEL_9035b30dde7b42b49f35d368111044a6",
       "placeholder": "​",
       "style": "IPY_MODEL_6c635323ca3f417db27ccde474f2a5e8",
       "tabbable": null,
       "tooltip": null,
       "value": "pytorch_model.bin: 100%"
      }
     },
     "c9a7b5d20eea4e9fba83176492c5bb91": {
      "model_module": "@jupyter-widgets/base",
      "model_module_version": "2.0.0",
      "model_name": "LayoutModel",
      "state": {
       "_model_module": "@jupyter-widgets/base",
       "_model_module_version": "2.0.0",
       "_model_name": "LayoutModel",
       "_view_count": null,
       "_view_module": "@jupyter-widgets/base",
       "_view_module_version": "2.0.0",
       "_view_name": "LayoutView",
       "align_content": null,
       "align_items": null,
       "align_self": null,
       "border_bottom": null,
       "border_left": null,
       "border_right": null,
       "border_top": null,
       "bottom": null,
       "display": null,
       "flex": null,
       "flex_flow": null,
       "grid_area": null,
       "grid_auto_columns": null,
       "grid_auto_flow": null,
       "grid_auto_rows": null,
       "grid_column": null,
       "grid_gap": null,
       "grid_row": null,
       "grid_template_areas": null,
       "grid_template_columns": null,
       "grid_template_rows": null,
       "height": null,
       "justify_content": null,
       "justify_items": null,
       "left": null,
       "margin": null,
       "max_height": null,
       "max_width": null,
       "min_height": null,
       "min_width": null,
       "object_fit": null,
       "object_position": null,
       "order": null,
       "overflow": null,
       "padding": null,
       "right": null,
       "top": null,
       "visibility": null,
       "width": null
      }
     },
     "cbb14f81fb0d470b8b613a7b434d4d63": {
      "model_module": "@jupyter-widgets/controls",
      "model_module_version": "2.0.0",
      "model_name": "HTMLModel",
      "state": {
       "_dom_classes": [],
       "_model_module": "@jupyter-widgets/controls",
       "_model_module_version": "2.0.0",
       "_model_name": "HTMLModel",
       "_view_count": null,
       "_view_module": "@jupyter-widgets/controls",
       "_view_module_version": "2.0.0",
       "_view_name": "HTMLView",
       "description": "",
       "description_allow_html": false,
       "layout": "IPY_MODEL_d766dd1499604bda9420fffe393c2897",
       "placeholder": "​",
       "style": "IPY_MODEL_f3539fac1c804aeca0c5b54906765b9d",
       "tabbable": null,
       "tooltip": null,
       "value": "Map: 100%"
      }
     },
     "cf9506fbf3974012bc652cfc270b8f77": {
      "model_module": "@jupyter-widgets/base",
      "model_module_version": "2.0.0",
      "model_name": "LayoutModel",
      "state": {
       "_model_module": "@jupyter-widgets/base",
       "_model_module_version": "2.0.0",
       "_model_name": "LayoutModel",
       "_view_count": null,
       "_view_module": "@jupyter-widgets/base",
       "_view_module_version": "2.0.0",
       "_view_name": "LayoutView",
       "align_content": null,
       "align_items": null,
       "align_self": null,
       "border_bottom": null,
       "border_left": null,
       "border_right": null,
       "border_top": null,
       "bottom": null,
       "display": null,
       "flex": null,
       "flex_flow": null,
       "grid_area": null,
       "grid_auto_columns": null,
       "grid_auto_flow": null,
       "grid_auto_rows": null,
       "grid_column": null,
       "grid_gap": null,
       "grid_row": null,
       "grid_template_areas": null,
       "grid_template_columns": null,
       "grid_template_rows": null,
       "height": null,
       "justify_content": null,
       "justify_items": null,
       "left": null,
       "margin": null,
       "max_height": null,
       "max_width": null,
       "min_height": null,
       "min_width": null,
       "object_fit": null,
       "object_position": null,
       "order": null,
       "overflow": null,
       "padding": null,
       "right": null,
       "top": null,
       "visibility": null,
       "width": null
      }
     },
     "d11f3c82e62b4d89b831453f6c6088a2": {
      "model_module": "@jupyter-widgets/controls",
      "model_module_version": "2.0.0",
      "model_name": "FloatProgressModel",
      "state": {
       "_dom_classes": [],
       "_model_module": "@jupyter-widgets/controls",
       "_model_module_version": "2.0.0",
       "_model_name": "FloatProgressModel",
       "_view_count": null,
       "_view_module": "@jupyter-widgets/controls",
       "_view_module_version": "2.0.0",
       "_view_name": "ProgressView",
       "bar_style": "success",
       "description": "",
       "description_allow_html": false,
       "layout": "IPY_MODEL_6d1bb952379f4561870e4e84c6237e7b",
       "max": 112.0,
       "min": 0.0,
       "orientation": "horizontal",
       "style": "IPY_MODEL_52b3281e57a247cda204a3c050aa148d",
       "tabbable": null,
       "tooltip": null,
       "value": 112.0
      }
     },
     "d15962df866849c3890c9dc68cd3e79c": {
      "model_module": "@jupyter-widgets/base",
      "model_module_version": "2.0.0",
      "model_name": "LayoutModel",
      "state": {
       "_model_module": "@jupyter-widgets/base",
       "_model_module_version": "2.0.0",
       "_model_name": "LayoutModel",
       "_view_count": null,
       "_view_module": "@jupyter-widgets/base",
       "_view_module_version": "2.0.0",
       "_view_name": "LayoutView",
       "align_content": null,
       "align_items": null,
       "align_self": null,
       "border_bottom": null,
       "border_left": null,
       "border_right": null,
       "border_top": null,
       "bottom": null,
       "display": null,
       "flex": null,
       "flex_flow": null,
       "grid_area": null,
       "grid_auto_columns": null,
       "grid_auto_flow": null,
       "grid_auto_rows": null,
       "grid_column": null,
       "grid_gap": null,
       "grid_row": null,
       "grid_template_areas": null,
       "grid_template_columns": null,
       "grid_template_rows": null,
       "height": null,
       "justify_content": null,
       "justify_items": null,
       "left": null,
       "margin": null,
       "max_height": null,
       "max_width": null,
       "min_height": null,
       "min_width": null,
       "object_fit": null,
       "object_position": null,
       "order": null,
       "overflow": null,
       "padding": null,
       "right": null,
       "top": null,
       "visibility": null,
       "width": null
      }
     },
     "d766dd1499604bda9420fffe393c2897": {
      "model_module": "@jupyter-widgets/base",
      "model_module_version": "2.0.0",
      "model_name": "LayoutModel",
      "state": {
       "_model_module": "@jupyter-widgets/base",
       "_model_module_version": "2.0.0",
       "_model_name": "LayoutModel",
       "_view_count": null,
       "_view_module": "@jupyter-widgets/base",
       "_view_module_version": "2.0.0",
       "_view_name": "LayoutView",
       "align_content": null,
       "align_items": null,
       "align_self": null,
       "border_bottom": null,
       "border_left": null,
       "border_right": null,
       "border_top": null,
       "bottom": null,
       "display": null,
       "flex": null,
       "flex_flow": null,
       "grid_area": null,
       "grid_auto_columns": null,
       "grid_auto_flow": null,
       "grid_auto_rows": null,
       "grid_column": null,
       "grid_gap": null,
       "grid_row": null,
       "grid_template_areas": null,
       "grid_template_columns": null,
       "grid_template_rows": null,
       "height": null,
       "justify_content": null,
       "justify_items": null,
       "left": null,
       "margin": null,
       "max_height": null,
       "max_width": null,
       "min_height": null,
       "min_width": null,
       "object_fit": null,
       "object_position": null,
       "order": null,
       "overflow": null,
       "padding": null,
       "right": null,
       "top": null,
       "visibility": null,
       "width": null
      }
     },
     "db1daa92cdfb4d3f8ef5a2e8cf0c2fa8": {
      "model_module": "@jupyter-widgets/controls",
      "model_module_version": "2.0.0",
      "model_name": "HTMLStyleModel",
      "state": {
       "_model_module": "@jupyter-widgets/controls",
       "_model_module_version": "2.0.0",
       "_model_name": "HTMLStyleModel",
       "_view_count": null,
       "_view_module": "@jupyter-widgets/base",
       "_view_module_version": "2.0.0",
       "_view_name": "StyleView",
       "background": null,
       "description_width": "",
       "font_size": null,
       "text_color": null
      }
     },
     "dbc44153b21b42d3ada7e44baee8e8d7": {
      "model_module": "@jupyter-widgets/controls",
      "model_module_version": "2.0.0",
      "model_name": "FloatProgressModel",
      "state": {
       "_dom_classes": [],
       "_model_module": "@jupyter-widgets/controls",
       "_model_module_version": "2.0.0",
       "_model_name": "FloatProgressModel",
       "_view_count": null,
       "_view_module": "@jupyter-widgets/controls",
       "_view_module_version": "2.0.0",
       "_view_name": "ProgressView",
       "bar_style": "success",
       "description": "",
       "description_allow_html": false,
       "layout": "IPY_MODEL_dbc64cffa4544a58ace9b7ed446211d7",
       "max": 758.0,
       "min": 0.0,
       "orientation": "horizontal",
       "style": "IPY_MODEL_b88650c4070744318c4ee8b2252661fd",
       "tabbable": null,
       "tooltip": null,
       "value": 758.0
      }
     },
     "dbc64cffa4544a58ace9b7ed446211d7": {
      "model_module": "@jupyter-widgets/base",
      "model_module_version": "2.0.0",
      "model_name": "LayoutModel",
      "state": {
       "_model_module": "@jupyter-widgets/base",
       "_model_module_version": "2.0.0",
       "_model_name": "LayoutModel",
       "_view_count": null,
       "_view_module": "@jupyter-widgets/base",
       "_view_module_version": "2.0.0",
       "_view_name": "LayoutView",
       "align_content": null,
       "align_items": null,
       "align_self": null,
       "border_bottom": null,
       "border_left": null,
       "border_right": null,
       "border_top": null,
       "bottom": null,
       "display": null,
       "flex": null,
       "flex_flow": null,
       "grid_area": null,
       "grid_auto_columns": null,
       "grid_auto_flow": null,
       "grid_auto_rows": null,
       "grid_column": null,
       "grid_gap": null,
       "grid_row": null,
       "grid_template_areas": null,
       "grid_template_columns": null,
       "grid_template_rows": null,
       "height": null,
       "justify_content": null,
       "justify_items": null,
       "left": null,
       "margin": null,
       "max_height": null,
       "max_width": null,
       "min_height": null,
       "min_width": null,
       "object_fit": null,
       "object_position": null,
       "order": null,
       "overflow": null,
       "padding": null,
       "right": null,
       "top": null,
       "visibility": null,
       "width": null
      }
     },
     "e0ede5ac4b8a4cb6b41eb51f7fae8977": {
      "model_module": "@jupyter-widgets/controls",
      "model_module_version": "2.0.0",
      "model_name": "HBoxModel",
      "state": {
       "_dom_classes": [],
       "_model_module": "@jupyter-widgets/controls",
       "_model_module_version": "2.0.0",
       "_model_name": "HBoxModel",
       "_view_count": null,
       "_view_module": "@jupyter-widgets/controls",
       "_view_module_version": "2.0.0",
       "_view_name": "HBoxView",
       "box_style": "",
       "children": [
        "IPY_MODEL_cbb14f81fb0d470b8b613a7b434d4d63",
        "IPY_MODEL_47ede9c03ace44bbb90fbb0e151713e9",
        "IPY_MODEL_9afec95535354cd59391d2199f524162"
       ],
       "layout": "IPY_MODEL_c4bad8802dea4bed83b92966613f753d",
       "tabbable": null,
       "tooltip": null
      }
     },
     "e5d3f8525c49422da0fb0de5a30a1e03": {
      "model_module": "@jupyter-widgets/controls",
      "model_module_version": "2.0.0",
      "model_name": "HTMLStyleModel",
      "state": {
       "_model_module": "@jupyter-widgets/controls",
       "_model_module_version": "2.0.0",
       "_model_name": "HTMLStyleModel",
       "_view_count": null,
       "_view_module": "@jupyter-widgets/base",
       "_view_module_version": "2.0.0",
       "_view_name": "StyleView",
       "background": null,
       "description_width": "",
       "font_size": null,
       "text_color": null
      }
     },
     "e7944e6d70cd4fe6ace32666c9ae2cdd": {
      "model_module": "@jupyter-widgets/controls",
      "model_module_version": "2.0.0",
      "model_name": "HTMLModel",
      "state": {
       "_dom_classes": [],
       "_model_module": "@jupyter-widgets/controls",
       "_model_module_version": "2.0.0",
       "_model_name": "HTMLModel",
       "_view_count": null,
       "_view_module": "@jupyter-widgets/controls",
       "_view_module_version": "2.0.0",
       "_view_name": "HTMLView",
       "description": "",
       "description_allow_html": false,
       "layout": "IPY_MODEL_30b2dc72c27b47e6974570cd9c1995db",
       "placeholder": "​",
       "style": "IPY_MODEL_8da7e521e88943d2bdfff4561d95c12d",
       "tabbable": null,
       "tooltip": null,
       "value": "vocab.txt: 100%"
      }
     },
     "eb7fbf505b9c4d999f1a32816f26ffa7": {
      "model_module": "@jupyter-widgets/controls",
      "model_module_version": "2.0.0",
      "model_name": "HTMLStyleModel",
      "state": {
       "_model_module": "@jupyter-widgets/controls",
       "_model_module_version": "2.0.0",
       "_model_name": "HTMLStyleModel",
       "_view_count": null,
       "_view_module": "@jupyter-widgets/base",
       "_view_module_version": "2.0.0",
       "_view_name": "StyleView",
       "background": null,
       "description_width": "",
       "font_size": null,
       "text_color": null
      }
     },
     "ecefd6688d8f47628d55f5755f5ec30f": {
      "model_module": "@jupyter-widgets/controls",
      "model_module_version": "2.0.0",
      "model_name": "FloatProgressModel",
      "state": {
       "_dom_classes": [],
       "_model_module": "@jupyter-widgets/controls",
       "_model_module_version": "2.0.0",
       "_model_name": "FloatProgressModel",
       "_view_count": null,
       "_view_module": "@jupyter-widgets/controls",
       "_view_module_version": "2.0.0",
       "_view_name": "ProgressView",
       "bar_style": "success",
       "description": "",
       "description_allow_html": false,
       "layout": "IPY_MODEL_ed78d7d363b9465396f2ca289d560201",
       "max": 252.0,
       "min": 0.0,
       "orientation": "horizontal",
       "style": "IPY_MODEL_77c99529e3aa43a1bf501aa813233ad4",
       "tabbable": null,
       "tooltip": null,
       "value": 252.0
      }
     },
     "ed1fcaa40c904b64a583527a3751f2eb": {
      "model_module": "@jupyter-widgets/base",
      "model_module_version": "2.0.0",
      "model_name": "LayoutModel",
      "state": {
       "_model_module": "@jupyter-widgets/base",
       "_model_module_version": "2.0.0",
       "_model_name": "LayoutModel",
       "_view_count": null,
       "_view_module": "@jupyter-widgets/base",
       "_view_module_version": "2.0.0",
       "_view_name": "LayoutView",
       "align_content": null,
       "align_items": null,
       "align_self": null,
       "border_bottom": null,
       "border_left": null,
       "border_right": null,
       "border_top": null,
       "bottom": null,
       "display": null,
       "flex": null,
       "flex_flow": null,
       "grid_area": null,
       "grid_auto_columns": null,
       "grid_auto_flow": null,
       "grid_auto_rows": null,
       "grid_column": null,
       "grid_gap": null,
       "grid_row": null,
       "grid_template_areas": null,
       "grid_template_columns": null,
       "grid_template_rows": null,
       "height": null,
       "justify_content": null,
       "justify_items": null,
       "left": null,
       "margin": null,
       "max_height": null,
       "max_width": null,
       "min_height": null,
       "min_width": null,
       "object_fit": null,
       "object_position": null,
       "order": null,
       "overflow": null,
       "padding": null,
       "right": null,
       "top": null,
       "visibility": null,
       "width": null
      }
     },
     "ed78d7d363b9465396f2ca289d560201": {
      "model_module": "@jupyter-widgets/base",
      "model_module_version": "2.0.0",
      "model_name": "LayoutModel",
      "state": {
       "_model_module": "@jupyter-widgets/base",
       "_model_module_version": "2.0.0",
       "_model_name": "LayoutModel",
       "_view_count": null,
       "_view_module": "@jupyter-widgets/base",
       "_view_module_version": "2.0.0",
       "_view_name": "LayoutView",
       "align_content": null,
       "align_items": null,
       "align_self": null,
       "border_bottom": null,
       "border_left": null,
       "border_right": null,
       "border_top": null,
       "bottom": null,
       "display": null,
       "flex": null,
       "flex_flow": null,
       "grid_area": null,
       "grid_auto_columns": null,
       "grid_auto_flow": null,
       "grid_auto_rows": null,
       "grid_column": null,
       "grid_gap": null,
       "grid_row": null,
       "grid_template_areas": null,
       "grid_template_columns": null,
       "grid_template_rows": null,
       "height": null,
       "justify_content": null,
       "justify_items": null,
       "left": null,
       "margin": null,
       "max_height": null,
       "max_width": null,
       "min_height": null,
       "min_width": null,
       "object_fit": null,
       "object_position": null,
       "order": null,
       "overflow": null,
       "padding": null,
       "right": null,
       "top": null,
       "visibility": null,
       "width": null
      }
     },
     "f0c31b31004741519ff196bff675a32a": {
      "model_module": "@jupyter-widgets/base",
      "model_module_version": "2.0.0",
      "model_name": "LayoutModel",
      "state": {
       "_model_module": "@jupyter-widgets/base",
       "_model_module_version": "2.0.0",
       "_model_name": "LayoutModel",
       "_view_count": null,
       "_view_module": "@jupyter-widgets/base",
       "_view_module_version": "2.0.0",
       "_view_name": "LayoutView",
       "align_content": null,
       "align_items": null,
       "align_self": null,
       "border_bottom": null,
       "border_left": null,
       "border_right": null,
       "border_top": null,
       "bottom": null,
       "display": null,
       "flex": null,
       "flex_flow": null,
       "grid_area": null,
       "grid_auto_columns": null,
       "grid_auto_flow": null,
       "grid_auto_rows": null,
       "grid_column": null,
       "grid_gap": null,
       "grid_row": null,
       "grid_template_areas": null,
       "grid_template_columns": null,
       "grid_template_rows": null,
       "height": null,
       "justify_content": null,
       "justify_items": null,
       "left": null,
       "margin": null,
       "max_height": null,
       "max_width": null,
       "min_height": null,
       "min_width": null,
       "object_fit": null,
       "object_position": null,
       "order": null,
       "overflow": null,
       "padding": null,
       "right": null,
       "top": null,
       "visibility": null,
       "width": null
      }
     },
     "f2075e683e6241aab11c30fccf6f1d25": {
      "model_module": "@jupyter-widgets/controls",
      "model_module_version": "2.0.0",
      "model_name": "HBoxModel",
      "state": {
       "_dom_classes": [],
       "_model_module": "@jupyter-widgets/controls",
       "_model_module_version": "2.0.0",
       "_model_name": "HBoxModel",
       "_view_count": null,
       "_view_module": "@jupyter-widgets/controls",
       "_view_module_version": "2.0.0",
       "_view_name": "HBoxView",
       "box_style": "",
       "children": [
        "IPY_MODEL_0f899a71b57842bab7ef106da3634cfd",
        "IPY_MODEL_ecefd6688d8f47628d55f5755f5ec30f",
        "IPY_MODEL_8b6f6b7add69416181590a869e1ff1eb"
       ],
       "layout": "IPY_MODEL_f0c31b31004741519ff196bff675a32a",
       "tabbable": null,
       "tooltip": null
      }
     },
     "f2546a464a54451aa5d9653b4f3ad1e0": {
      "model_module": "@jupyter-widgets/controls",
      "model_module_version": "2.0.0",
      "model_name": "HTMLStyleModel",
      "state": {
       "_model_module": "@jupyter-widgets/controls",
       "_model_module_version": "2.0.0",
       "_model_name": "HTMLStyleModel",
       "_view_count": null,
       "_view_module": "@jupyter-widgets/base",
       "_view_module_version": "2.0.0",
       "_view_name": "StyleView",
       "background": null,
       "description_width": "",
       "font_size": null,
       "text_color": null
      }
     },
     "f3539fac1c804aeca0c5b54906765b9d": {
      "model_module": "@jupyter-widgets/controls",
      "model_module_version": "2.0.0",
      "model_name": "HTMLStyleModel",
      "state": {
       "_model_module": "@jupyter-widgets/controls",
       "_model_module_version": "2.0.0",
       "_model_name": "HTMLStyleModel",
       "_view_count": null,
       "_view_module": "@jupyter-widgets/base",
       "_view_module_version": "2.0.0",
       "_view_name": "StyleView",
       "background": null,
       "description_width": "",
       "font_size": null,
       "text_color": null
      }
     },
     "f61caa394625451fa5d81321120459af": {
      "model_module": "@jupyter-widgets/base",
      "model_module_version": "2.0.0",
      "model_name": "LayoutModel",
      "state": {
       "_model_module": "@jupyter-widgets/base",
       "_model_module_version": "2.0.0",
       "_model_name": "LayoutModel",
       "_view_count": null,
       "_view_module": "@jupyter-widgets/base",
       "_view_module_version": "2.0.0",
       "_view_name": "LayoutView",
       "align_content": null,
       "align_items": null,
       "align_self": null,
       "border_bottom": null,
       "border_left": null,
       "border_right": null,
       "border_top": null,
       "bottom": null,
       "display": null,
       "flex": null,
       "flex_flow": null,
       "grid_area": null,
       "grid_auto_columns": null,
       "grid_auto_flow": null,
       "grid_auto_rows": null,
       "grid_column": null,
       "grid_gap": null,
       "grid_row": null,
       "grid_template_areas": null,
       "grid_template_columns": null,
       "grid_template_rows": null,
       "height": null,
       "justify_content": null,
       "justify_items": null,
       "left": null,
       "margin": null,
       "max_height": null,
       "max_width": null,
       "min_height": null,
       "min_width": null,
       "object_fit": null,
       "object_position": null,
       "order": null,
       "overflow": null,
       "padding": null,
       "right": null,
       "top": null,
       "visibility": null,
       "width": null
      }
     },
     "f6d44a667ea64c7689257eae729d42b9": {
      "model_module": "@jupyter-widgets/controls",
      "model_module_version": "2.0.0",
      "model_name": "FloatProgressModel",
      "state": {
       "_dom_classes": [],
       "_model_module": "@jupyter-widgets/controls",
       "_model_module_version": "2.0.0",
       "_model_name": "FloatProgressModel",
       "_view_count": null,
       "_view_module": "@jupyter-widgets/controls",
       "_view_module_version": "2.0.0",
       "_view_name": "ProgressView",
       "bar_style": "success",
       "description": "",
       "description_allow_html": false,
       "layout": "IPY_MODEL_3632449d9d894ceeb1bf71f8b1b7e72b",
       "max": 437992753.0,
       "min": 0.0,
       "orientation": "horizontal",
       "style": "IPY_MODEL_5f8a55ce43844960b119f9f01a9b11f5",
       "tabbable": null,
       "tooltip": null,
       "value": 437992753.0
      }
     },
     "f751b8e2448c4f5ba86d03d4711adac0": {
      "model_module": "@jupyter-widgets/controls",
      "model_module_version": "2.0.0",
      "model_name": "HBoxModel",
      "state": {
       "_dom_classes": [],
       "_model_module": "@jupyter-widgets/controls",
       "_model_module_version": "2.0.0",
       "_model_name": "HBoxModel",
       "_view_count": null,
       "_view_module": "@jupyter-widgets/controls",
       "_view_module_version": "2.0.0",
       "_view_name": "HBoxView",
       "box_style": "",
       "children": [
        "IPY_MODEL_40973da52f0a4c3e98244c39c542c13a",
        "IPY_MODEL_37c9448220fa4387984de95244fe6520",
        "IPY_MODEL_6c567be52454426ab863b438b478aec2"
       ],
       "layout": "IPY_MODEL_ed1fcaa40c904b64a583527a3751f2eb",
       "tabbable": null,
       "tooltip": null
      }
     }
    },
    "version_major": 2,
    "version_minor": 0
   }
  }
 },
 "nbformat": 4,
 "nbformat_minor": 5
}
