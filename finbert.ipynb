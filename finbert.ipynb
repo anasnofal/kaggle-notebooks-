{
 "cells": [
  {
   "cell_type": "code",
   "execution_count": 1,
   "id": "8417ccce",
   "metadata": {
    "_cell_guid": "b1076dfc-b9ad-4769-8c92-a6c4dae69d19",
    "_uuid": "8f2839f25d086af736a60e9eeb907d3b93b6e0e5",
    "execution": {
     "iopub.execute_input": "2025-06-05T16:18:22.744026Z",
     "iopub.status.busy": "2025-06-05T16:18:22.743786Z",
     "iopub.status.idle": "2025-06-05T16:18:37.407333Z",
     "shell.execute_reply": "2025-06-05T16:18:37.406641Z"
    },
    "papermill": {
     "duration": 14.673519,
     "end_time": "2025-06-05T16:18:37.408828",
     "exception": false,
     "start_time": "2025-06-05T16:18:22.735309",
     "status": "completed"
    },
    "tags": []
   },
   "outputs": [
    {
     "name": "stdout",
     "output_type": "stream",
     "text": [
      "env: TOKENIZERS_PARALLELISM=false\n",
      "env: WANDB_DISABLED=true\n"
     ]
    }
   ],
   "source": [
    "%env TOKENIZERS_PARALLELISM=false\n",
    "%env WANDB_DISABLED=true\n",
    "import numpy as np\n",
    "import pandas as pd\n",
    "\n",
    "from sklearn.preprocessing import LabelEncoder\n",
    "from sklearn.model_selection import train_test_split\n",
    "\n",
    "from transformers import (\n",
    "    AutoTokenizer, \n",
    "    AutoModel, \n",
    "    AdamW, \n",
    "    AutoConfig, \n",
    "    DataCollatorWithPadding,\n",
    "    TrainingArguments,\n",
    "    Trainer,\n",
    "    AutoModelForSequenceClassification\n",
    ")\n",
    "\n",
    "from datasets import Dataset\n",
    "\n",
    "import torch\n",
    "import torch.nn as nn\n",
    "from tqdm.auto import tqdm\n",
    "from torch.utils.data import DataLoader"
   ]
  },
  {
   "cell_type": "code",
   "execution_count": 2,
   "id": "821911b9",
   "metadata": {
    "execution": {
     "iopub.execute_input": "2025-06-05T16:18:37.424056Z",
     "iopub.status.busy": "2025-06-05T16:18:37.423552Z",
     "iopub.status.idle": "2025-06-05T16:18:37.426949Z",
     "shell.execute_reply": "2025-06-05T16:18:37.426328Z"
    },
    "papermill": {
     "duration": 0.011997,
     "end_time": "2025-06-05T16:18:37.428258",
     "exception": false,
     "start_time": "2025-06-05T16:18:37.416261",
     "status": "completed"
    },
    "tags": []
   },
   "outputs": [],
   "source": [
    "class args:\n",
    "    model = 'ProsusAI/finbert'"
   ]
  },
  {
   "cell_type": "code",
   "execution_count": 3,
   "id": "edee90df",
   "metadata": {
    "execution": {
     "iopub.execute_input": "2025-06-05T16:18:37.442474Z",
     "iopub.status.busy": "2025-06-05T16:18:37.442271Z",
     "iopub.status.idle": "2025-06-05T16:18:39.484638Z",
     "shell.execute_reply": "2025-06-05T16:18:39.483675Z"
    },
    "papermill": {
     "duration": 2.051295,
     "end_time": "2025-06-05T16:18:39.486257",
     "exception": false,
     "start_time": "2025-06-05T16:18:37.434962",
     "status": "completed"
    },
    "tags": []
   },
   "outputs": [],
   "source": [
    "\n",
    "df = pd.read_csv('/kaggle/input/news-sentiment-analysis/news.csv')"
   ]
  },
  {
   "cell_type": "code",
   "execution_count": 4,
   "id": "60bb472c",
   "metadata": {
    "execution": {
     "iopub.execute_input": "2025-06-05T16:18:39.500912Z",
     "iopub.status.busy": "2025-06-05T16:18:39.500648Z",
     "iopub.status.idle": "2025-06-05T16:18:39.561881Z",
     "shell.execute_reply": "2025-06-05T16:18:39.560956Z"
    },
    "papermill": {
     "duration": 0.069928,
     "end_time": "2025-06-05T16:18:39.563252",
     "exception": false,
     "start_time": "2025-06-05T16:18:39.493324",
     "status": "completed"
    },
    "tags": []
   },
   "outputs": [],
   "source": [
    "df.rename(columns={'sentiment': 'labels', 'news': 'messages'}, inplace=True)\n",
    "\n",
    "# Set date as index\n",
    "df['date'] = pd.to_datetime(df['date'])  # Convert to datetime if necessary\n",
    "df.set_index('date', inplace=True)"
   ]
  },
  {
   "cell_type": "code",
   "execution_count": 5,
   "id": "7fe6148b",
   "metadata": {
    "execution": {
     "iopub.execute_input": "2025-06-05T16:18:39.577293Z",
     "iopub.status.busy": "2025-06-05T16:18:39.577025Z",
     "iopub.status.idle": "2025-06-05T16:18:39.648954Z",
     "shell.execute_reply": "2025-06-05T16:18:39.648215Z"
    },
    "papermill": {
     "duration": 0.080318,
     "end_time": "2025-06-05T16:18:39.650289",
     "exception": false,
     "start_time": "2025-06-05T16:18:39.569971",
     "status": "completed"
    },
    "tags": []
   },
   "outputs": [
    {
     "data": {
      "text/plain": [
       "labels\n",
       "0    217443\n",
       "1    210039\n",
       "Name: count, dtype: int64"
      ]
     },
     "execution_count": 5,
     "metadata": {},
     "output_type": "execute_result"
    }
   ],
   "source": [
    "le = LabelEncoder()\n",
    "df['labels'] = le.fit_transform(df['labels'])\n",
    "df['labels'].value_counts()"
   ]
  },
  {
   "cell_type": "code",
   "execution_count": 6,
   "id": "d3969081",
   "metadata": {
    "execution": {
     "iopub.execute_input": "2025-06-05T16:18:39.665040Z",
     "iopub.status.busy": "2025-06-05T16:18:39.664765Z",
     "iopub.status.idle": "2025-06-05T16:18:39.748353Z",
     "shell.execute_reply": "2025-06-05T16:18:39.747673Z"
    },
    "papermill": {
     "duration": 0.091942,
     "end_time": "2025-06-05T16:18:39.749549",
     "exception": false,
     "start_time": "2025-06-05T16:18:39.657607",
     "status": "completed"
    },
    "tags": []
   },
   "outputs": [
    {
     "data": {
      "text/plain": [
       "1586"
      ]
     },
     "execution_count": 6,
     "metadata": {},
     "output_type": "execute_result"
    }
   ],
   "source": [
    "sentences_lengths = np.array(list(map(len, df['messages'])))\n",
    "np.max(sentences_lengths)"
   ]
  },
  {
   "cell_type": "code",
   "execution_count": 7,
   "id": "3f820b75",
   "metadata": {
    "execution": {
     "iopub.execute_input": "2025-06-05T16:18:39.764152Z",
     "iopub.status.busy": "2025-06-05T16:18:39.763901Z",
     "iopub.status.idle": "2025-06-05T16:18:39.773346Z",
     "shell.execute_reply": "2025-06-05T16:18:39.772699Z"
    },
    "papermill": {
     "duration": 0.017968,
     "end_time": "2025-06-05T16:18:39.774501",
     "exception": false,
     "start_time": "2025-06-05T16:18:39.756533",
     "status": "completed"
    },
    "tags": []
   },
   "outputs": [
    {
     "data": {
      "text/plain": [
       "177"
      ]
     },
     "execution_count": 7,
     "metadata": {},
     "output_type": "execute_result"
    }
   ],
   "source": [
    "MAX_LEN = int(np.ceil(np.percentile(sentences_lengths, 90)))\n",
    "MAX_LEN"
   ]
  },
  {
   "cell_type": "markdown",
   "id": "678370d1",
   "metadata": {
    "execution": {
     "iopub.execute_input": "2022-03-21T08:54:02.661604Z",
     "iopub.status.busy": "2022-03-21T08:54:02.661079Z",
     "iopub.status.idle": "2022-03-21T08:54:02.674078Z",
     "shell.execute_reply": "2022-03-21T08:54:02.673369Z",
     "shell.execute_reply.started": "2022-03-21T08:54:02.661565Z"
    },
    "papermill": {
     "duration": 0.006688,
     "end_time": "2025-06-05T16:18:39.789232",
     "exception": false,
     "start_time": "2025-06-05T16:18:39.782544",
     "status": "completed"
    },
    "tags": []
   },
   "source": [
    "Now let's split the given data into train, test and validation\n",
    "\n",
    "We will be using the train data to train the mode, the validation data to determiine the performance of the model and the test data to check how the model performs on unseen data\n",
    "\n",
    "We will stratify on the `labels` so that the data remains balanced for train, test and validation data"
   ]
  },
  {
   "cell_type": "code",
   "execution_count": 8,
   "id": "3fa188cc",
   "metadata": {
    "execution": {
     "iopub.execute_input": "2025-06-05T16:18:39.803851Z",
     "iopub.status.busy": "2025-06-05T16:18:39.803644Z",
     "iopub.status.idle": "2025-06-05T16:18:39.806256Z",
     "shell.execute_reply": "2025-06-05T16:18:39.805682Z"
    },
    "papermill": {
     "duration": 0.011439,
     "end_time": "2025-06-05T16:18:39.807454",
     "exception": false,
     "start_time": "2025-06-05T16:18:39.796015",
     "status": "completed"
    },
    "tags": []
   },
   "outputs": [],
   "source": [
    "# X, y = df['messages'].values, df['labels'].values\n",
    "\n",
    "# # train : test = 0.9 : 0.1\n",
    "# xtrain, xtest, ytrain, ytest = train_test_split(X, y, test_size=0.2, stratify=y)\n",
    "\n",
    "# # train : valid = 0.8 : 0.2\n",
    "# xtrain, xvalid, ytrain, yvalid = train_test_split(xtrain, ytrain, test_size=0.2, stratify=ytrain)\n",
    "\n",
    "# # train : valid : test = 0.72 : 0.18 : 0.10 (stratified on 'labels')"
   ]
  },
  {
   "cell_type": "code",
   "execution_count": 9,
   "id": "e2bda095",
   "metadata": {
    "execution": {
     "iopub.execute_input": "2025-06-05T16:18:39.821607Z",
     "iopub.status.busy": "2025-06-05T16:18:39.821369Z",
     "iopub.status.idle": "2025-06-05T16:18:39.824357Z",
     "shell.execute_reply": "2025-06-05T16:18:39.823572Z"
    },
    "papermill": {
     "duration": 0.011388,
     "end_time": "2025-06-05T16:18:39.825629",
     "exception": false,
     "start_time": "2025-06-05T16:18:39.814241",
     "status": "completed"
    },
    "tags": []
   },
   "outputs": [],
   "source": [
    "#df= df.sample(frac=0.001)"
   ]
  },
  {
   "cell_type": "code",
   "execution_count": 10,
   "id": "6ecb1c80",
   "metadata": {
    "execution": {
     "iopub.execute_input": "2025-06-05T16:18:39.840039Z",
     "iopub.status.busy": "2025-06-05T16:18:39.839801Z",
     "iopub.status.idle": "2025-06-05T16:18:39.870051Z",
     "shell.execute_reply": "2025-06-05T16:18:39.869423Z"
    },
    "papermill": {
     "duration": 0.03914,
     "end_time": "2025-06-05T16:18:39.871541",
     "exception": false,
     "start_time": "2025-06-05T16:18:39.832401",
     "status": "completed"
    },
    "tags": []
   },
   "outputs": [],
   "source": [
    "df = df.sort_index()\n",
    "\n",
    "total_rows = len(df)\n",
    "train_end = int(total_rows * 0.72)\n",
    "valid_end = train_end + int(total_rows * 0.18)\n",
    "\n",
    "train = df.iloc[:train_end]\n",
    "valid = df.iloc[train_end:valid_end]\n",
    "test = df.iloc[valid_end:]"
   ]
  },
  {
   "cell_type": "code",
   "execution_count": 11,
   "id": "06f7440c",
   "metadata": {
    "execution": {
     "iopub.execute_input": "2025-06-05T16:18:39.886899Z",
     "iopub.status.busy": "2025-06-05T16:18:39.886694Z",
     "iopub.status.idle": "2025-06-05T16:18:40.019689Z",
     "shell.execute_reply": "2025-06-05T16:18:40.019000Z"
    },
    "papermill": {
     "duration": 0.142094,
     "end_time": "2025-06-05T16:18:40.021272",
     "exception": false,
     "start_time": "2025-06-05T16:18:39.879178",
     "status": "completed"
    },
    "tags": []
   },
   "outputs": [],
   "source": [
    "# Convert to NumPy arrays\n",
    "X_train = train.drop(columns=['labels']).to_numpy()  # Features for training\n",
    "y_train = train['labels'].to_numpy()                # Target labels for training\n",
    "\n",
    "X_valid = valid.drop(columns=['labels']).to_numpy()  # Features for validation\n",
    "y_valid = valid['labels'].to_numpy()                 # Target labels for validation\n",
    "\n",
    "X_test = test.drop(columns=['labels']).to_numpy()    # Features for testing\n",
    "y_test = test['labels'].to_numpy()"
   ]
  },
  {
   "cell_type": "markdown",
   "id": "7bcf6468",
   "metadata": {
    "papermill": {
     "duration": 0.006632,
     "end_time": "2025-06-05T16:18:40.035100",
     "exception": false,
     "start_time": "2025-06-05T16:18:40.028468",
     "status": "completed"
    },
    "tags": []
   },
   "source": [
    "# Dataset"
   ]
  },
  {
   "cell_type": "code",
   "execution_count": 12,
   "id": "cb337c2d",
   "metadata": {
    "execution": {
     "iopub.execute_input": "2025-06-05T16:18:40.049348Z",
     "iopub.status.busy": "2025-06-05T16:18:40.049113Z",
     "iopub.status.idle": "2025-06-05T16:18:48.969222Z",
     "shell.execute_reply": "2025-06-05T16:18:48.968511Z"
    },
    "papermill": {
     "duration": 8.928986,
     "end_time": "2025-06-05T16:18:48.970771",
     "exception": false,
     "start_time": "2025-06-05T16:18:40.041785",
     "status": "completed"
    },
    "tags": []
   },
   "outputs": [],
   "source": [
    "X_train = [str(x) for x in X_train]\n",
    "X_valid = [str(x) for x in X_valid]\n",
    "X_test = [str(x) for x in X_test]"
   ]
  },
  {
   "cell_type": "code",
   "execution_count": 13,
   "id": "f2e2e1a9",
   "metadata": {
    "execution": {
     "iopub.execute_input": "2025-06-05T16:18:48.985910Z",
     "iopub.status.busy": "2025-06-05T16:18:48.985672Z",
     "iopub.status.idle": "2025-06-05T16:18:49.793273Z",
     "shell.execute_reply": "2025-06-05T16:18:49.792446Z"
    },
    "papermill": {
     "duration": 0.816267,
     "end_time": "2025-06-05T16:18:49.794530",
     "exception": false,
     "start_time": "2025-06-05T16:18:48.978263",
     "status": "completed"
    },
    "tags": []
   },
   "outputs": [
    {
     "data": {
      "text/plain": [
       "Dataset({\n",
       "    features: ['text'],\n",
       "    num_rows: 42749\n",
       "})"
      ]
     },
     "execution_count": 13,
     "metadata": {},
     "output_type": "execute_result"
    }
   ],
   "source": [
    "train_dataset_raw = Dataset.from_dict({'text':X_train, 'labels':y_train})\n",
    "valid_dataset_raw = Dataset.from_dict({'text':X_valid, 'labels':y_valid})\n",
    "pred_dataset_raw = Dataset.from_dict({'text': X_test})\n",
    "pred_dataset_raw"
   ]
  },
  {
   "cell_type": "code",
   "execution_count": 14,
   "id": "374e2705",
   "metadata": {
    "execution": {
     "iopub.execute_input": "2025-06-05T16:18:49.809834Z",
     "iopub.status.busy": "2025-06-05T16:18:49.809607Z",
     "iopub.status.idle": "2025-06-05T16:18:49.812584Z",
     "shell.execute_reply": "2025-06-05T16:18:49.812023Z"
    },
    "papermill": {
     "duration": 0.011624,
     "end_time": "2025-06-05T16:18:49.813755",
     "exception": false,
     "start_time": "2025-06-05T16:18:49.802131",
     "status": "completed"
    },
    "tags": []
   },
   "outputs": [],
   "source": [
    "def tokenize_fn(examples):\n",
    "    return tokenizer(examples['text'], truncation=True)"
   ]
  },
  {
   "cell_type": "code",
   "execution_count": 15,
   "id": "e733a0b2",
   "metadata": {
    "execution": {
     "iopub.execute_input": "2025-06-05T16:18:49.828216Z",
     "iopub.status.busy": "2025-06-05T16:18:49.827973Z",
     "iopub.status.idle": "2025-06-05T16:18:50.487608Z",
     "shell.execute_reply": "2025-06-05T16:18:50.486596Z"
    },
    "papermill": {
     "duration": 0.668412,
     "end_time": "2025-06-05T16:18:50.489086",
     "exception": false,
     "start_time": "2025-06-05T16:18:49.820674",
     "status": "completed"
    },
    "tags": []
   },
   "outputs": [
    {
     "data": {
      "application/vnd.jupyter.widget-view+json": {
       "model_id": "4f3771918f6c46ff9c43e2d315f870e0",
       "version_major": 2,
       "version_minor": 0
      },
      "text/plain": [
       "tokenizer_config.json:   0%|          | 0.00/252 [00:00<?, ?B/s]"
      ]
     },
     "metadata": {},
     "output_type": "display_data"
    },
    {
     "data": {
      "application/vnd.jupyter.widget-view+json": {
       "model_id": "2d735e10e5e747d490d35aa768ffccde",
       "version_major": 2,
       "version_minor": 0
      },
      "text/plain": [
       "config.json:   0%|          | 0.00/758 [00:00<?, ?B/s]"
      ]
     },
     "metadata": {},
     "output_type": "display_data"
    },
    {
     "data": {
      "application/vnd.jupyter.widget-view+json": {
       "model_id": "776b30b0c51640ea878778cc6599c2ba",
       "version_major": 2,
       "version_minor": 0
      },
      "text/plain": [
       "vocab.txt:   0%|          | 0.00/232k [00:00<?, ?B/s]"
      ]
     },
     "metadata": {},
     "output_type": "display_data"
    },
    {
     "data": {
      "application/vnd.jupyter.widget-view+json": {
       "model_id": "839ed6805bc54224b94b4bd6aefdfd46",
       "version_major": 2,
       "version_minor": 0
      },
      "text/plain": [
       "special_tokens_map.json:   0%|          | 0.00/112 [00:00<?, ?B/s]"
      ]
     },
     "metadata": {},
     "output_type": "display_data"
    },
    {
     "name": "stderr",
     "output_type": "stream",
     "text": [
      "/usr/local/lib/python3.10/dist-packages/transformers/tokenization_utils_base.py:1601: FutureWarning: `clean_up_tokenization_spaces` was not set. It will be set to `True` by default. This behavior will be depracted in transformers v4.45, and will be then set to `False` by default. For more details check this issue: https://github.com/huggingface/transformers/issues/31884\n",
      "  warnings.warn(\n"
     ]
    }
   ],
   "source": [
    "tokenizer = AutoTokenizer.from_pretrained(args.model)"
   ]
  },
  {
   "cell_type": "code",
   "execution_count": 16,
   "id": "8237a61a",
   "metadata": {
    "execution": {
     "iopub.execute_input": "2025-06-05T16:18:50.504950Z",
     "iopub.status.busy": "2025-06-05T16:18:50.504710Z",
     "iopub.status.idle": "2025-06-05T16:18:50.509150Z",
     "shell.execute_reply": "2025-06-05T16:18:50.508342Z"
    },
    "papermill": {
     "duration": 0.013635,
     "end_time": "2025-06-05T16:18:50.510501",
     "exception": false,
     "start_time": "2025-06-05T16:18:50.496866",
     "status": "completed"
    },
    "tags": []
   },
   "outputs": [
    {
     "data": {
      "text/plain": [
       "Dataset({\n",
       "    features: ['text', 'labels'],\n",
       "    num_rows: 307787\n",
       "})"
      ]
     },
     "execution_count": 16,
     "metadata": {},
     "output_type": "execute_result"
    }
   ],
   "source": [
    "train_dataset_raw"
   ]
  },
  {
   "cell_type": "code",
   "execution_count": 17,
   "id": "1c06baa0",
   "metadata": {
    "execution": {
     "iopub.execute_input": "2025-06-05T16:18:50.525938Z",
     "iopub.status.busy": "2025-06-05T16:18:50.525704Z",
     "iopub.status.idle": "2025-06-05T16:19:50.772643Z",
     "shell.execute_reply": "2025-06-05T16:19:50.771812Z"
    },
    "papermill": {
     "duration": 60.261064,
     "end_time": "2025-06-05T16:19:50.779018",
     "exception": false,
     "start_time": "2025-06-05T16:18:50.517954",
     "status": "completed"
    },
    "tags": []
   },
   "outputs": [
    {
     "data": {
      "application/vnd.jupyter.widget-view+json": {
       "model_id": "0fc9adfacc40463098b4b5ac0776386c",
       "version_major": 2,
       "version_minor": 0
      },
      "text/plain": [
       "Map:   0%|          | 0/307787 [00:00<?, ? examples/s]"
      ]
     },
     "metadata": {},
     "output_type": "display_data"
    },
    {
     "data": {
      "application/vnd.jupyter.widget-view+json": {
       "model_id": "45d923c702c04bc7a3ace0dc7c70a3ee",
       "version_major": 2,
       "version_minor": 0
      },
      "text/plain": [
       "Map:   0%|          | 0/76946 [00:00<?, ? examples/s]"
      ]
     },
     "metadata": {},
     "output_type": "display_data"
    }
   ],
   "source": [
    "train_dataset = train_dataset_raw.map(tokenize_fn, batched=True)\n",
    "valid_dataset = valid_dataset_raw.map(tokenize_fn, batched=True)\n",
    "\n",
    "data_collator = DataCollatorWithPadding(tokenizer)"
   ]
  },
  {
   "cell_type": "code",
   "execution_count": 18,
   "id": "9c642c86",
   "metadata": {
    "execution": {
     "iopub.execute_input": "2025-06-05T16:19:50.795114Z",
     "iopub.status.busy": "2025-06-05T16:19:50.794854Z",
     "iopub.status.idle": "2025-06-05T16:19:54.604777Z",
     "shell.execute_reply": "2025-06-05T16:19:54.603888Z"
    },
    "papermill": {
     "duration": 3.81952,
     "end_time": "2025-06-05T16:19:54.606284",
     "exception": false,
     "start_time": "2025-06-05T16:19:50.786764",
     "status": "completed"
    },
    "tags": []
   },
   "outputs": [
    {
     "data": {
      "application/vnd.jupyter.widget-view+json": {
       "model_id": "3b0da66097ab4ea887cff8187e96fb3b",
       "version_major": 2,
       "version_minor": 0
      },
      "text/plain": [
       "pytorch_model.bin:   0%|          | 0.00/438M [00:00<?, ?B/s]"
      ]
     },
     "metadata": {},
     "output_type": "display_data"
    },
    {
     "name": "stderr",
     "output_type": "stream",
     "text": [
      "Some weights of BertForSequenceClassification were not initialized from the model checkpoint at ProsusAI/finbert and are newly initialized because the shapes did not match:\n",
      "- classifier.weight: found shape torch.Size([3, 768]) in the checkpoint and torch.Size([2, 768]) in the model instantiated\n",
      "- classifier.bias: found shape torch.Size([3]) in the checkpoint and torch.Size([2]) in the model instantiated\n",
      "You should probably TRAIN this model on a down-stream task to be able to use it for predictions and inference.\n"
     ]
    },
    {
     "data": {
      "text/plain": [
       "tensor([0., 0.])"
      ]
     },
     "execution_count": 18,
     "metadata": {},
     "output_type": "execute_result"
    }
   ],
   "source": [
    "from torch.nn.init import xavier_uniform_\n",
    "model = AutoModelForSequenceClassification.from_pretrained(args.model,num_labels=2,ignore_mismatched_sizes=True)\n",
    "\n",
    "\n",
    "# Reinitialize the classification layer\n",
    "xavier_uniform_(model.classifier.weight)\n",
    "model.classifier.bias.data.zero_()"
   ]
  },
  {
   "cell_type": "code",
   "execution_count": 19,
   "id": "8d29c8a7",
   "metadata": {
    "execution": {
     "iopub.execute_input": "2025-06-05T16:19:54.623412Z",
     "iopub.status.busy": "2025-06-05T16:19:54.623161Z",
     "iopub.status.idle": "2025-06-05T16:19:54.807096Z",
     "shell.execute_reply": "2025-06-05T16:19:54.806228Z"
    },
    "papermill": {
     "duration": 0.193763,
     "end_time": "2025-06-05T16:19:54.808514",
     "exception": false,
     "start_time": "2025-06-05T16:19:54.614751",
     "status": "completed"
    },
    "tags": []
   },
   "outputs": [],
   "source": [
    "\n",
    "import optuna\n",
    "import torch\n",
    "from transformers import Trainer, TrainingArguments, AdamW\n",
    "from sklearn.metrics import balanced_accuracy_score, roc_auc_score, f1_score\n",
    "from transformers import get_scheduler\n",
    "\n",
    "def compute_metrics(eval_preds):\n",
    "    logits, labels = eval_preds\n",
    "    predictions = np.argmax(logits, axis=-1)\n",
    "    balanced_acc = balanced_accuracy_score(labels, predictions)\n",
    "    auc = roc_auc_score(labels, predictions, multi_class='ovr')  # Adjust for multi-class\n",
    "    f1 = f1_score(labels, predictions, average='weighted')\n",
    "    return {\n",
    "        \"balanced_accuracy\": balanced_acc,\n",
    "        \"auc\": auc,\n",
    "        \"f1\": f1\n",
    "        }"
   ]
  },
  {
   "cell_type": "code",
   "execution_count": 20,
   "id": "15daefa2",
   "metadata": {
    "execution": {
     "iopub.execute_input": "2025-06-05T16:19:54.825575Z",
     "iopub.status.busy": "2025-06-05T16:19:54.825354Z",
     "iopub.status.idle": "2025-06-06T04:08:15.349171Z",
     "shell.execute_reply": "2025-06-06T04:08:15.348463Z"
    },
    "papermill": {
     "duration": 42500.533834,
     "end_time": "2025-06-06T04:08:15.350613",
     "exception": false,
     "start_time": "2025-06-05T16:19:54.816779",
     "status": "completed"
    },
    "tags": []
   },
   "outputs": [
    {
     "name": "stdout",
     "output_type": "stream",
     "text": [
      "STARTING NEW TRAINING\n"
     ]
    },
    {
     "data": {
      "application/vnd.jupyter.widget-view+json": {
       "model_id": "9149197d31084c6f891073c21260a4cf",
       "version_major": 2,
       "version_minor": 0
      },
      "text/plain": [
       "  0%|          | 0/1000000 [00:00<?, ?it/s]"
      ]
     },
     "metadata": {},
     "output_type": "display_data"
    },
    {
     "data": {
      "text/html": [
       "\n",
       "    <div>\n",
       "      \n",
       "      <progress value='14430' max='14430' style='width:300px; height:20px; vertical-align: middle;'></progress>\n",
       "      [14430/14430 2:28:50, Epoch 3/3]\n",
       "    </div>\n",
       "    <table border=\"1\" class=\"dataframe\">\n",
       "  <thead>\n",
       " <tr style=\"text-align: left;\">\n",
       "      <th>Epoch</th>\n",
       "      <th>Training Loss</th>\n",
       "      <th>Validation Loss</th>\n",
       "      <th>Balanced Accuracy</th>\n",
       "      <th>Auc</th>\n",
       "      <th>F1</th>\n",
       "    </tr>\n",
       "  </thead>\n",
       "  <tbody>\n",
       "    <tr>\n",
       "      <td>1</td>\n",
       "      <td>0.817100</td>\n",
       "      <td>0.785436</td>\n",
       "      <td>0.359119</td>\n",
       "      <td>0.316298</td>\n",
       "      <td>0.299918</td>\n",
       "    </tr>\n",
       "    <tr>\n",
       "      <td>2</td>\n",
       "      <td>0.771500</td>\n",
       "      <td>0.735457</td>\n",
       "      <td>0.423157</td>\n",
       "      <td>0.392222</td>\n",
       "      <td>0.358368</td>\n",
       "    </tr>\n",
       "    <tr>\n",
       "      <td>3</td>\n",
       "      <td>0.739700</td>\n",
       "      <td>0.699798</td>\n",
       "      <td>0.525681</td>\n",
       "      <td>0.521612</td>\n",
       "      <td>0.502995</td>\n",
       "    </tr>\n",
       "  </tbody>\n",
       "</table><p>"
      ],
      "text/plain": [
       "<IPython.core.display.HTML object>"
      ]
     },
     "metadata": {},
     "output_type": "display_data"
    },
    {
     "data": {
      "text/html": [
       "\n",
       "    <div>\n",
       "      \n",
       "      <progress value='602' max='602' style='width:300px; height:20px; vertical-align: middle;'></progress>\n",
       "      [602/602 04:06]\n",
       "    </div>\n",
       "    "
      ],
      "text/plain": [
       "<IPython.core.display.HTML object>"
      ]
     },
     "metadata": {},
     "output_type": "display_data"
    },
    {
     "data": {
      "text/html": [
       "\n",
       "    <div>\n",
       "      \n",
       "      <progress value='96185' max='96185' style='width:300px; height:20px; vertical-align: middle;'></progress>\n",
       "      [96185/96185 6:30:19, Epoch 5/5]\n",
       "    </div>\n",
       "    <table border=\"1\" class=\"dataframe\">\n",
       "  <thead>\n",
       " <tr style=\"text-align: left;\">\n",
       "      <th>Epoch</th>\n",
       "      <th>Training Loss</th>\n",
       "      <th>Validation Loss</th>\n",
       "      <th>Balanced Accuracy</th>\n",
       "      <th>Auc</th>\n",
       "      <th>F1</th>\n",
       "    </tr>\n",
       "  </thead>\n",
       "  <tbody>\n",
       "    <tr>\n",
       "      <td>1</td>\n",
       "      <td>0.076000</td>\n",
       "      <td>0.128751</td>\n",
       "      <td>0.945199</td>\n",
       "      <td>0.995360</td>\n",
       "      <td>0.949256</td>\n",
       "    </tr>\n",
       "    <tr>\n",
       "      <td>2</td>\n",
       "      <td>0.060000</td>\n",
       "      <td>0.114539</td>\n",
       "      <td>0.971798</td>\n",
       "      <td>0.997735</td>\n",
       "      <td>0.972559</td>\n",
       "    </tr>\n",
       "    <tr>\n",
       "      <td>3</td>\n",
       "      <td>0.034600</td>\n",
       "      <td>0.139375</td>\n",
       "      <td>0.971155</td>\n",
       "      <td>0.997419</td>\n",
       "      <td>0.971793</td>\n",
       "    </tr>\n",
       "    <tr>\n",
       "      <td>4</td>\n",
       "      <td>0.024100</td>\n",
       "      <td>0.171776</td>\n",
       "      <td>0.970877</td>\n",
       "      <td>0.996658</td>\n",
       "      <td>0.972036</td>\n",
       "    </tr>\n",
       "    <tr>\n",
       "      <td>5</td>\n",
       "      <td>0.019900</td>\n",
       "      <td>0.212268</td>\n",
       "      <td>0.968603</td>\n",
       "      <td>0.997171</td>\n",
       "      <td>0.970623</td>\n",
       "    </tr>\n",
       "  </tbody>\n",
       "</table><p>"
      ],
      "text/plain": [
       "<IPython.core.display.HTML object>"
      ]
     },
     "metadata": {},
     "output_type": "display_data"
    },
    {
     "data": {
      "text/html": [
       "\n",
       "    <div>\n",
       "      \n",
       "      <progress value='2405' max='2405' style='width:300px; height:20px; vertical-align: middle;'></progress>\n",
       "      [2405/2405 04:32]\n",
       "    </div>\n",
       "    "
      ],
      "text/plain": [
       "<IPython.core.display.HTML object>"
      ]
     },
     "metadata": {},
     "output_type": "display_data"
    },
    {
     "data": {
      "text/html": [
       "\n",
       "    <div>\n",
       "      \n",
       "      <progress value='26274' max='57714' style='width:300px; height:20px; vertical-align: middle;'></progress>\n",
       "      [26274/57714 2:40:24 < 3:11:58, 2.73 it/s, Epoch 2.73/6]\n",
       "    </div>\n",
       "    <table border=\"1\" class=\"dataframe\">\n",
       "  <thead>\n",
       " <tr style=\"text-align: left;\">\n",
       "      <th>Epoch</th>\n",
       "      <th>Training Loss</th>\n",
       "      <th>Validation Loss</th>\n",
       "      <th>Balanced Accuracy</th>\n",
       "      <th>Auc</th>\n",
       "      <th>F1</th>\n",
       "    </tr>\n",
       "  </thead>\n",
       "  <tbody>\n",
       "    <tr>\n",
       "      <td>1</td>\n",
       "      <td>0.034300</td>\n",
       "      <td>0.200471</td>\n",
       "      <td>0.945339</td>\n",
       "      <td>0.995704</td>\n",
       "      <td>0.949851</td>\n",
       "    </tr>\n",
       "    <tr>\n",
       "      <td>2</td>\n",
       "      <td>0.023100</td>\n",
       "      <td>0.140338</td>\n",
       "      <td>0.969606</td>\n",
       "      <td>0.997083</td>\n",
       "      <td>0.970495</td>\n",
       "    </tr>\n",
       "  </tbody>\n",
       "</table><p>"
      ],
      "text/plain": [
       "<IPython.core.display.HTML object>"
      ]
     },
     "metadata": {},
     "output_type": "display_data"
    }
   ],
   "source": [
    "from transformers import Trainer, TrainingArguments\n",
    "import optuna\n",
    "from optuna.pruners import MedianPruner\n",
    "from optuna.samplers import TPESampler\n",
    "import numpy as np\n",
    "from sklearn.metrics import balanced_accuracy_score, roc_auc_score, f1_score\n",
    "import torch\n",
    "from transformers.integrations import is_optuna_available\n",
    "import joblib\n",
    "\n",
    "\n",
    "# Define a custom compute_metrics function that returns multiple metrics\n",
    "def compute_metrics(pred):\n",
    "    labels = pred.label_ids\n",
    "    preds = pred.predictions.argmax(-1)\n",
    "    \n",
    "    # Convert predictions to probabilities for AUC (for binary classification)\n",
    "    probs = torch.nn.functional.softmax(torch.tensor(pred.predictions), dim=-1).numpy()\n",
    "    \n",
    "    # Calculate metrics\n",
    "    balanced_acc = balanced_accuracy_score(labels, preds)\n",
    "    \n",
    "    # Use the probability of the positive class\n",
    "    auc = roc_auc_score(labels, probs[:, 1])\n",
    "    f1 = f1_score(labels, preds)\n",
    "    \n",
    "    return {\n",
    "        'balanced_accuracy': balanced_acc,\n",
    "        'auc': auc,\n",
    "        'f1': f1\n",
    "    }\n",
    "\n",
    "# Define the objective function for Optuna\n",
    "def objective(trial):\n",
    "    # Define hyperparameters to optimize\n",
    "    batch_size = trial.suggest_categorical(\"batch_size\", [8, 16, 32])\n",
    "    learning_rate = trial.suggest_float(\"learning_rate\", 1e-6, 1e-4, log=True)\n",
    "    weight_decay = trial.suggest_float(\"weight_decay\", 0.005, 0.02)\n",
    "    warmup_ratio = trial.suggest_float(\"warmup_ratio\", 0.05, 0.2)\n",
    "    num_epochs = trial.suggest_int(\"num_epochs\", 2, 8)\n",
    "    \n",
    "    # Optimizer selection\n",
    "    optimizer_name = trial.suggest_categorical(\"optimizer_name\", [ \"adamw_hf\",\"adafactor\", \"sgd\"])\n",
    "    \n",
    "    # Define training arguments\n",
    "    training_args = TrainingArguments(\n",
    "        output_dir=f'/kaggle/Finbert_Trial_{trial.number}/',\n",
    "        per_device_train_batch_size=batch_size,\n",
    "        per_device_eval_batch_size=batch_size*2,\n",
    "        num_train_epochs=num_epochs,\n",
    "        learning_rate=learning_rate,\n",
    "        weight_decay=weight_decay,\n",
    "        warmup_ratio=warmup_ratio,\n",
    "        do_eval=True,\n",
    "        do_train=True,\n",
    "        evaluation_strategy='epoch',\n",
    "        save_strategy=\"epoch\",\n",
    "        load_best_model_at_end=True,\n",
    "        metric_for_best_model='eval_f1',  # Change this to your desired metric\n",
    "        greater_is_better=True,\n",
    "        optim=optimizer_name.lower(),\n",
    "        # ReduceLROnPlateau-like functionality\n",
    "        lr_scheduler_type=\"reduce_lr_on_plateau\",\n",
    "        logging_dir=f'/kaggle/Finbert_Logs_{trial.number}/',\n",
    "        report_to=\"none\",  # Disable wandb, tensorboard etc. during hyperparameter search\n",
    "    )\n",
    "    \n",
    "    # Initialize the Trainer\n",
    "    trainer = Trainer(\n",
    "        model=model,  # Make sure this is already defined in your global scope\n",
    "        args=training_args,\n",
    "        train_dataset=train_dataset,\n",
    "        eval_dataset=valid_dataset,\n",
    "        data_collator=data_collator,\n",
    "        tokenizer=tokenizer,\n",
    "        compute_metrics=compute_metrics,\n",
    "    )\n",
    "    \n",
    "    # Train the model\n",
    "    trainer.train()\n",
    "    \n",
    "    # Evaluate on validation set\n",
    "    eval_result = trainer.evaluate()\n",
    "    try:\n",
    "        joblib.dump(study, 'finbert_optuna_result.pkl')\n",
    "    except Exception as e:\n",
    "        print(\"There is a tiny error with saving. Moving on... \", e)\n",
    "        print(param)\n",
    "\n",
    "    return eval_result[\"eval_f1\"]\n",
    "\n",
    "\n",
    "from stopit import threading_timeoutable as timeoutable\n",
    " \n",
    "@timeoutable()\n",
    "def start():\n",
    "    ### import warnings \n",
    "    import warnings \n",
    "    import optuna\n",
    " \n",
    "    warnings.filterwarnings(\"ignore\")\n",
    " \n",
    "    optuna.logging.set_verbosity(optuna.logging.ERROR)\n",
    "    global study\n",
    "\n",
    "    USE_PREVIOUS_TRIALS=False\n",
    "    \n",
    "    import os\n",
    "    if os.path.isfile('/kaggle/input/finbert-hyper-tuning/finbert_optuna_result.pkl') and USE_PREVIOUS_TRIALS==True:\n",
    "        print(\"Found file !\")\n",
    "        study = joblib.load('/kaggle/input/finbert-hyper-tuning/finbert_optuna_result.pkl')\n",
    "        print(study.best_trial.value)\n",
    "    else:\n",
    "        print(\"STARTING NEW TRAINING\")\n",
    "        sampler = optuna.samplers.TPESampler(multivariate=True, warn_independent_sampling=False)\n",
    "        pruner = MedianPruner(n_startup_trials=5, n_warmup_steps=5)\n",
    "\n",
    "        study = optuna.create_study(direction='maximize', load_if_exists=True,sampler=sampler,pruner=pruner)\n",
    " \n",
    "    study.optimize(objective, n_trials=1_000_000, gc_after_trial=True,\n",
    "                  show_progress_bar=True, n_jobs=1, )\n",
    "    joblib.dump(study, 'finbert_optuna_result.pkl')\n",
    "\n",
    "\n",
    "# # Create the Optuna study\n",
    "# sampler = TPESampler(seed=42)  # For reproducibility\n",
    "# pruner = MedianPruner(n_startup_trials=5, n_warmup_steps=5)\n",
    "\n",
    "# study = optuna.create_study(\n",
    "#     study_name=\"finbert_optimization\",\n",
    "#     direction=\"maximize\",  # We want to maximize our metrics\n",
    "#     sampler=sampler,\n",
    "#     pruner=pruner\n",
    "# )\n",
    "\n",
    "# # Run the optimization\n",
    "# n_trials = 8\n",
    "# study.optimize(objective, n_trials=n_trials)\n",
    "\n",
    " \n",
    "try:\n",
    "    start(timeout=42_500) #42_500\n",
    "except Exception as e:\n",
    "    print(\"Hoba, oshibka !: \", e)\n"
   ]
  },
  {
   "cell_type": "code",
   "execution_count": 21,
   "id": "9326d62c",
   "metadata": {
    "execution": {
     "iopub.execute_input": "2025-06-06T04:08:15.369803Z",
     "iopub.status.busy": "2025-06-06T04:08:15.369581Z",
     "iopub.status.idle": "2025-06-06T04:08:15.373672Z",
     "shell.execute_reply": "2025-06-06T04:08:15.372828Z"
    },
    "papermill": {
     "duration": 0.014759,
     "end_time": "2025-06-06T04:08:15.375147",
     "exception": false,
     "start_time": "2025-06-06T04:08:15.360388",
     "status": "completed"
    },
    "tags": []
   },
   "outputs": [
    {
     "name": "stdout",
     "output_type": "stream",
     "text": [
      "DONE\n"
     ]
    }
   ],
   "source": [
    "print(\"DONE\")"
   ]
  },
  {
   "cell_type": "code",
   "execution_count": 22,
   "id": "a90bca0e",
   "metadata": {
    "execution": {
     "iopub.execute_input": "2025-06-06T04:08:15.393318Z",
     "iopub.status.busy": "2025-06-06T04:08:15.393106Z",
     "iopub.status.idle": "2025-06-06T04:08:15.402190Z",
     "shell.execute_reply": "2025-06-06T04:08:15.401389Z"
    },
    "papermill": {
     "duration": 0.019443,
     "end_time": "2025-06-06T04:08:15.403294",
     "exception": false,
     "start_time": "2025-06-06T04:08:15.383851",
     "status": "completed"
    },
    "tags": []
   },
   "outputs": [
    {
     "name": "stdout",
     "output_type": "stream",
     "text": [
      "Best trial:\n",
      "  Value: 0.5029949857704297\n",
      "  Params: \n",
      "    batch_size: 32\n",
      "    learning_rate: 2.8445060587748435e-06\n",
      "    weight_decay: 0.019476579288667823\n",
      "    warmup_ratio: 0.13883693882206333\n",
      "    num_epochs: 3\n",
      "    optimizer_name: sgd\n"
     ]
    }
   ],
   "source": [
    "study = joblib.load('finbert_optuna_result.pkl')\n",
    "print(\"Best trial:\")\n",
    "trial = study.best_trial\n",
    "print(f\"  Value: {trial.value}\")\n",
    "print(\"  Params: \")\n",
    "for key, value in trial.params.items():\n",
    "    print(f\"    {key}: {value}\")"
   ]
  },
  {
   "cell_type": "code",
   "execution_count": 23,
   "id": "8757ea80",
   "metadata": {
    "execution": {
     "iopub.execute_input": "2025-06-06T04:08:15.421254Z",
     "iopub.status.busy": "2025-06-06T04:08:15.421028Z",
     "iopub.status.idle": "2025-06-06T04:08:15.424280Z",
     "shell.execute_reply": "2025-06-06T04:08:15.423628Z"
    },
    "papermill": {
     "duration": 0.013564,
     "end_time": "2025-06-06T04:08:15.425437",
     "exception": false,
     "start_time": "2025-06-06T04:08:15.411873",
     "status": "completed"
    },
    "tags": []
   },
   "outputs": [],
   "source": [
    "# # Print the results\n",
    "\n",
    "# study = joblib.load('finbert_optuna_result.pkl')\n",
    "# print(\"Best trial:\")\n",
    "# trial = study.best_trial\n",
    "# print(f\"  Value: {trial.value}\")\n",
    "# print(\"  Params: \")\n",
    "# for key, value in trial.params.items():\n",
    "#     print(f\"    {key}: {value}\")\n",
    "\n",
    "# # Train the final model with the best parameters\n",
    "# best_batch_size = trial.params[\"batch_size\"]\n",
    "# best_lr = trial.params[\"learning_rate\"]\n",
    "# best_weight_decay = trial.params[\"weight_decay\"]\n",
    "# best_warmup_ratio = trial.params[\"warmup_ratio\"]\n",
    "# best_num_epochs = trial.params[\"num_epochs\"]\n",
    "# best_optimizer = trial.params[\"optimizer\"]\n",
    "\n",
    "# final_training_args = TrainingArguments(\n",
    "#     output_dir='./Finbert_Final/',\n",
    "#     per_device_train_batch_size=best_batch_size,\n",
    "#     per_device_eval_batch_size=best_batch_size*2,\n",
    "#     num_train_epochs=best_num_epochs,\n",
    "#     learning_rate=best_lr,\n",
    "#     weight_decay=best_weight_decay,\n",
    "#     warmup_ratio=best_warmup_ratio,\n",
    "#     do_eval=True,\n",
    "#     do_train=True,\n",
    "#     evaluation_strategy='epoch',\n",
    "#     save_strategy=\"epoch\",\n",
    "#     load_best_model_at_end=True,\n",
    "#     metric_for_best_model='f1',\n",
    "#     optim=best_optimizer.lower(),\n",
    "#     lr_scheduler_type=\"reduce_lr_on_plateau\",\n",
    "# )\n",
    "\n",
    "# final_trainer = Trainer(\n",
    "#     model=model,\n",
    "#     args=final_training_args,\n",
    "#     train_dataset=train_dataset,\n",
    "#     eval_dataset=valid_dataset,\n",
    "#     data_collator=data_collator,\n",
    "#     tokenizer=tokenizer,\n",
    "#     compute_metrics=compute_metrics,\n",
    "# )\n",
    "\n",
    "# # Train the final model\n",
    "# print(\"Training final model with best parameters...\")\n",
    "# final_trainer.train()\n",
    "\n",
    "# # Evaluate the final model\n",
    "# final_metrics = final_trainer.evaluate()\n",
    "# print(f\"Final model metrics: {final_metrics}\")"
   ]
  },
  {
   "cell_type": "code",
   "execution_count": 24,
   "id": "316114c0",
   "metadata": {
    "execution": {
     "iopub.execute_input": "2025-06-06T04:08:15.443505Z",
     "iopub.status.busy": "2025-06-06T04:08:15.443291Z",
     "iopub.status.idle": "2025-06-06T04:08:15.446151Z",
     "shell.execute_reply": "2025-06-06T04:08:15.445448Z"
    },
    "papermill": {
     "duration": 0.013233,
     "end_time": "2025-06-06T04:08:15.447274",
     "exception": false,
     "start_time": "2025-06-06T04:08:15.434041",
     "status": "completed"
    },
    "tags": []
   },
   "outputs": [],
   "source": [
    "# train_args = TrainingArguments(\n",
    "#     './Finbert Trained/',\n",
    "#     per_device_train_batch_size=16,\n",
    "#     per_device_eval_batch_size=2*16,\n",
    "#     num_train_epochs=5,\n",
    "#     learning_rate=1e-5,\n",
    "#     weight_decay=0.01,\n",
    "#     warmup_ratio=0.1,    \n",
    "#     do_eval=True,\n",
    "#     do_train=True,\n",
    "#     do_predict=True,\n",
    "#     eval_strategy='epoch',\n",
    "#     save_strategy=\"no\",\n",
    "# )"
   ]
  },
  {
   "cell_type": "code",
   "execution_count": 25,
   "id": "52dc6e89",
   "metadata": {
    "execution": {
     "iopub.execute_input": "2025-06-06T04:08:15.465207Z",
     "iopub.status.busy": "2025-06-06T04:08:15.464952Z",
     "iopub.status.idle": "2025-06-06T04:08:15.467788Z",
     "shell.execute_reply": "2025-06-06T04:08:15.467132Z"
    },
    "papermill": {
     "duration": 0.013033,
     "end_time": "2025-06-06T04:08:15.468891",
     "exception": false,
     "start_time": "2025-06-06T04:08:15.455858",
     "status": "completed"
    },
    "tags": []
   },
   "outputs": [],
   "source": [
    "# trainer = Trainer(\n",
    "#     model,\n",
    "#     train_args,\n",
    "#     train_dataset=train_dataset,\n",
    "#     eval_dataset=valid_dataset,\n",
    "#     data_collator=data_collator,\n",
    "#     tokenizer=tokenizer,\n",
    "#     compute_metrics=compute_metrics,\n",
    "# )"
   ]
  },
  {
   "cell_type": "code",
   "execution_count": 26,
   "id": "902ec0ea",
   "metadata": {
    "execution": {
     "iopub.execute_input": "2025-06-06T04:08:15.486896Z",
     "iopub.status.busy": "2025-06-06T04:08:15.486684Z",
     "iopub.status.idle": "2025-06-06T04:08:15.489803Z",
     "shell.execute_reply": "2025-06-06T04:08:15.488965Z"
    },
    "papermill": {
     "duration": 0.013419,
     "end_time": "2025-06-06T04:08:15.491023",
     "exception": false,
     "start_time": "2025-06-06T04:08:15.477604",
     "status": "completed"
    },
    "tags": []
   },
   "outputs": [],
   "source": [
    "# trainer.train()"
   ]
  },
  {
   "cell_type": "code",
   "execution_count": 27,
   "id": "6e4144ed",
   "metadata": {
    "execution": {
     "iopub.execute_input": "2025-06-06T04:08:15.510412Z",
     "iopub.status.busy": "2025-06-06T04:08:15.510187Z",
     "iopub.status.idle": "2025-06-06T04:08:15.512910Z",
     "shell.execute_reply": "2025-06-06T04:08:15.512293Z"
    },
    "papermill": {
     "duration": 0.013597,
     "end_time": "2025-06-06T04:08:15.514119",
     "exception": false,
     "start_time": "2025-06-06T04:08:15.500522",
     "status": "completed"
    },
    "tags": []
   },
   "outputs": [],
   "source": [
    "# trainer.save_model('finbert_finetuned.bin')"
   ]
  },
  {
   "cell_type": "code",
   "execution_count": 28,
   "id": "5c117212",
   "metadata": {
    "execution": {
     "iopub.execute_input": "2025-06-06T04:08:15.533866Z",
     "iopub.status.busy": "2025-06-06T04:08:15.533637Z",
     "iopub.status.idle": "2025-06-06T04:08:15.536515Z",
     "shell.execute_reply": "2025-06-06T04:08:15.535888Z"
    },
    "papermill": {
     "duration": 0.013956,
     "end_time": "2025-06-06T04:08:15.537781",
     "exception": false,
     "start_time": "2025-06-06T04:08:15.523825",
     "status": "completed"
    },
    "tags": []
   },
   "outputs": [],
   "source": [
    "# pred_dataset = pred_dataset_raw.map(tokenize_fn, batched=False)"
   ]
  },
  {
   "cell_type": "code",
   "execution_count": 29,
   "id": "93c8271d",
   "metadata": {
    "execution": {
     "iopub.execute_input": "2025-06-06T04:08:15.557535Z",
     "iopub.status.busy": "2025-06-06T04:08:15.557320Z",
     "iopub.status.idle": "2025-06-06T04:08:15.560918Z",
     "shell.execute_reply": "2025-06-06T04:08:15.559412Z"
    },
    "papermill": {
     "duration": 0.015067,
     "end_time": "2025-06-06T04:08:15.562371",
     "exception": false,
     "start_time": "2025-06-06T04:08:15.547304",
     "status": "completed"
    },
    "tags": []
   },
   "outputs": [],
   "source": [
    "# len(pred_dataset[0]['input_ids'])"
   ]
  },
  {
   "cell_type": "code",
   "execution_count": 30,
   "id": "45b94e00",
   "metadata": {
    "execution": {
     "iopub.execute_input": "2025-06-06T04:08:15.582781Z",
     "iopub.status.busy": "2025-06-06T04:08:15.582537Z",
     "iopub.status.idle": "2025-06-06T04:08:15.585416Z",
     "shell.execute_reply": "2025-06-06T04:08:15.584750Z"
    },
    "papermill": {
     "duration": 0.01438,
     "end_time": "2025-06-06T04:08:15.586650",
     "exception": false,
     "start_time": "2025-06-06T04:08:15.572270",
     "status": "completed"
    },
    "tags": []
   },
   "outputs": [],
   "source": [
    "# output = trainer.predict(\n",
    "#     test_dataset=pred_dataset,\n",
    "# )"
   ]
  },
  {
   "cell_type": "code",
   "execution_count": 31,
   "id": "9f6c7e35",
   "metadata": {
    "execution": {
     "iopub.execute_input": "2025-06-06T04:08:15.606954Z",
     "iopub.status.busy": "2025-06-06T04:08:15.606692Z",
     "iopub.status.idle": "2025-06-06T04:08:15.609866Z",
     "shell.execute_reply": "2025-06-06T04:08:15.609020Z"
    },
    "papermill": {
     "duration": 0.014878,
     "end_time": "2025-06-06T04:08:15.611334",
     "exception": false,
     "start_time": "2025-06-06T04:08:15.596456",
     "status": "completed"
    },
    "tags": []
   },
   "outputs": [],
   "source": [
    "# output.predictions"
   ]
  },
  {
   "cell_type": "code",
   "execution_count": 32,
   "id": "b5fb08d0",
   "metadata": {
    "execution": {
     "iopub.execute_input": "2025-06-06T04:08:15.631639Z",
     "iopub.status.busy": "2025-06-06T04:08:15.631416Z",
     "iopub.status.idle": "2025-06-06T04:08:15.634099Z",
     "shell.execute_reply": "2025-06-06T04:08:15.633511Z"
    },
    "papermill": {
     "duration": 0.013995,
     "end_time": "2025-06-06T04:08:15.635312",
     "exception": false,
     "start_time": "2025-06-06T04:08:15.621317",
     "status": "completed"
    },
    "tags": []
   },
   "outputs": [],
   "source": [
    "# preds = [np.argmax(x) for x in output.predictions]"
   ]
  },
  {
   "cell_type": "code",
   "execution_count": 33,
   "id": "12a11f06",
   "metadata": {
    "execution": {
     "iopub.execute_input": "2025-06-06T04:08:15.653756Z",
     "iopub.status.busy": "2025-06-06T04:08:15.653561Z",
     "iopub.status.idle": "2025-06-06T04:08:15.656397Z",
     "shell.execute_reply": "2025-06-06T04:08:15.655800Z"
    },
    "papermill": {
     "duration": 0.013366,
     "end_time": "2025-06-06T04:08:15.657553",
     "exception": false,
     "start_time": "2025-06-06T04:08:15.644187",
     "status": "completed"
    },
    "tags": []
   },
   "outputs": [],
   "source": [
    "\n",
    "# from sklearn.metrics import confusion_matrix, accuracy_score\n",
    "# import seaborn as sns\n",
    "# import matplotlib.pyplot as plt\n",
    "\n",
    "# cm = confusion_matrix(y_test, preds)\n",
    "\n",
    "# # Define class labels\n",
    "# labels = [0, 1]\n",
    "\n",
    "# # Create a heatmap\n",
    "# plt.figure(figsize=(8, 6))\n",
    "# sns.heatmap(cm, annot=True, fmt='d', cmap='Blues',\n",
    "#             xticklabels=labels, yticklabels=labels)\n",
    "\n",
    "# # Add labels and title\n",
    "# plt.xlabel('Predicted Labels')\n",
    "# plt.ylabel('True Labels')\n",
    "# plt.title('Confusion Matrix Heatmap')\n",
    "\n",
    "# # Display the plot\n",
    "# plt.show()"
   ]
  },
  {
   "cell_type": "code",
   "execution_count": 34,
   "id": "4d92a3e4",
   "metadata": {
    "execution": {
     "iopub.execute_input": "2025-06-06T04:08:15.676261Z",
     "iopub.status.busy": "2025-06-06T04:08:15.676052Z",
     "iopub.status.idle": "2025-06-06T04:08:15.678739Z",
     "shell.execute_reply": "2025-06-06T04:08:15.678157Z"
    },
    "papermill": {
     "duration": 0.013216,
     "end_time": "2025-06-06T04:08:15.679777",
     "exception": false,
     "start_time": "2025-06-06T04:08:15.666561",
     "status": "completed"
    },
    "tags": []
   },
   "outputs": [],
   "source": [
    "# accuracy_score(y_test, preds)"
   ]
  },
  {
   "cell_type": "code",
   "execution_count": 35,
   "id": "ca5e405b",
   "metadata": {
    "execution": {
     "iopub.execute_input": "2025-06-06T04:08:15.698624Z",
     "iopub.status.busy": "2025-06-06T04:08:15.698408Z",
     "iopub.status.idle": "2025-06-06T04:08:15.701204Z",
     "shell.execute_reply": "2025-06-06T04:08:15.700480Z"
    },
    "papermill": {
     "duration": 0.013594,
     "end_time": "2025-06-06T04:08:15.702497",
     "exception": false,
     "start_time": "2025-06-06T04:08:15.688903",
     "status": "completed"
    },
    "tags": []
   },
   "outputs": [],
   "source": [
    "# from sklearn.metrics import classification_report\n",
    "# print(classification_report(y_test, preds))"
   ]
  },
  {
   "cell_type": "code",
   "execution_count": 36,
   "id": "f164f5ff",
   "metadata": {
    "execution": {
     "iopub.execute_input": "2025-06-06T04:08:15.721430Z",
     "iopub.status.busy": "2025-06-06T04:08:15.721206Z",
     "iopub.status.idle": "2025-06-06T04:08:15.724099Z",
     "shell.execute_reply": "2025-06-06T04:08:15.723318Z"
    },
    "papermill": {
     "duration": 0.013565,
     "end_time": "2025-06-06T04:08:15.725391",
     "exception": false,
     "start_time": "2025-06-06T04:08:15.711826",
     "status": "completed"
    },
    "tags": []
   },
   "outputs": [],
   "source": [
    "# news = pd.read_csv('/kaggle/input/sentiment-analysis-for-financial-news/all-data.csv',names= ['Sentiment','Sentence'],encoding='ISO-8859-1')"
   ]
  },
  {
   "cell_type": "code",
   "execution_count": 37,
   "id": "8a2ccc81",
   "metadata": {
    "execution": {
     "iopub.execute_input": "2025-06-06T04:08:15.744342Z",
     "iopub.status.busy": "2025-06-06T04:08:15.744142Z",
     "iopub.status.idle": "2025-06-06T04:08:15.746746Z",
     "shell.execute_reply": "2025-06-06T04:08:15.746168Z"
    },
    "papermill": {
     "duration": 0.013242,
     "end_time": "2025-06-06T04:08:15.747872",
     "exception": false,
     "start_time": "2025-06-06T04:08:15.734630",
     "status": "completed"
    },
    "tags": []
   },
   "outputs": [],
   "source": [
    "# news"
   ]
  },
  {
   "cell_type": "code",
   "execution_count": 38,
   "id": "67c77693",
   "metadata": {
    "execution": {
     "iopub.execute_input": "2025-06-06T04:08:15.766694Z",
     "iopub.status.busy": "2025-06-06T04:08:15.766497Z",
     "iopub.status.idle": "2025-06-06T04:08:15.769196Z",
     "shell.execute_reply": "2025-06-06T04:08:15.768578Z"
    },
    "papermill": {
     "duration": 0.013336,
     "end_time": "2025-06-06T04:08:15.770285",
     "exception": false,
     "start_time": "2025-06-06T04:08:15.756949",
     "status": "completed"
    },
    "tags": []
   },
   "outputs": [],
   "source": [
    "# x_test, Y_test = news['Sentence'].values, news['Sentiment'].values"
   ]
  },
  {
   "cell_type": "code",
   "execution_count": 39,
   "id": "de8c74f0",
   "metadata": {
    "execution": {
     "iopub.execute_input": "2025-06-06T04:08:15.789022Z",
     "iopub.status.busy": "2025-06-06T04:08:15.788803Z",
     "iopub.status.idle": "2025-06-06T04:08:15.791502Z",
     "shell.execute_reply": "2025-06-06T04:08:15.790884Z"
    },
    "papermill": {
     "duration": 0.013444,
     "end_time": "2025-06-06T04:08:15.792703",
     "exception": false,
     "start_time": "2025-06-06T04:08:15.779259",
     "status": "completed"
    },
    "tags": []
   },
   "outputs": [],
   "source": [
    "# le = LabelEncoder()\n",
    "# Y_test = le.fit_transform(Y_test)"
   ]
  },
  {
   "cell_type": "code",
   "execution_count": 40,
   "id": "7bf9b334",
   "metadata": {
    "execution": {
     "iopub.execute_input": "2025-06-06T04:08:15.811804Z",
     "iopub.status.busy": "2025-06-06T04:08:15.811587Z",
     "iopub.status.idle": "2025-06-06T04:08:15.814416Z",
     "shell.execute_reply": "2025-06-06T04:08:15.813796Z"
    },
    "papermill": {
     "duration": 0.013731,
     "end_time": "2025-06-06T04:08:15.815625",
     "exception": false,
     "start_time": "2025-06-06T04:08:15.801894",
     "status": "completed"
    },
    "tags": []
   },
   "outputs": [],
   "source": [
    "# np.unique(Y_test)"
   ]
  },
  {
   "cell_type": "code",
   "execution_count": 41,
   "id": "dc68eb3f",
   "metadata": {
    "execution": {
     "iopub.execute_input": "2025-06-06T04:08:15.834512Z",
     "iopub.status.busy": "2025-06-06T04:08:15.834290Z",
     "iopub.status.idle": "2025-06-06T04:08:15.836747Z",
     "shell.execute_reply": "2025-06-06T04:08:15.836174Z"
    },
    "papermill": {
     "duration": 0.013144,
     "end_time": "2025-06-06T04:08:15.837916",
     "exception": false,
     "start_time": "2025-06-06T04:08:15.824772",
     "status": "completed"
    },
    "tags": []
   },
   "outputs": [],
   "source": [
    "# test_dataset_raw = Dataset.from_dict({'text': x_test})\n",
    "# test_dataset_raw"
   ]
  },
  {
   "cell_type": "code",
   "execution_count": 42,
   "id": "ffa3cb71",
   "metadata": {
    "execution": {
     "iopub.execute_input": "2025-06-06T04:08:15.857127Z",
     "iopub.status.busy": "2025-06-06T04:08:15.856888Z",
     "iopub.status.idle": "2025-06-06T04:08:15.859773Z",
     "shell.execute_reply": "2025-06-06T04:08:15.859013Z"
    },
    "papermill": {
     "duration": 0.013596,
     "end_time": "2025-06-06T04:08:15.860915",
     "exception": false,
     "start_time": "2025-06-06T04:08:15.847319",
     "status": "completed"
    },
    "tags": []
   },
   "outputs": [],
   "source": [
    "# test_dataset = test_dataset_raw.map(tokenize_fn, batched=False)"
   ]
  },
  {
   "cell_type": "code",
   "execution_count": 43,
   "id": "5a6b5756",
   "metadata": {
    "execution": {
     "iopub.execute_input": "2025-06-06T04:08:15.880089Z",
     "iopub.status.busy": "2025-06-06T04:08:15.879846Z",
     "iopub.status.idle": "2025-06-06T04:08:15.882692Z",
     "shell.execute_reply": "2025-06-06T04:08:15.881898Z"
    },
    "papermill": {
     "duration": 0.013941,
     "end_time": "2025-06-06T04:08:15.884120",
     "exception": false,
     "start_time": "2025-06-06T04:08:15.870179",
     "status": "completed"
    },
    "tags": []
   },
   "outputs": [],
   "source": [
    "# output = trainer.predict(\n",
    "#     test_dataset=test_dataset,\n",
    "# )"
   ]
  },
  {
   "cell_type": "code",
   "execution_count": 44,
   "id": "247df682",
   "metadata": {
    "execution": {
     "iopub.execute_input": "2025-06-06T04:08:15.904433Z",
     "iopub.status.busy": "2025-06-06T04:08:15.904236Z",
     "iopub.status.idle": "2025-06-06T04:08:15.907046Z",
     "shell.execute_reply": "2025-06-06T04:08:15.906345Z"
    },
    "papermill": {
     "duration": 0.014606,
     "end_time": "2025-06-06T04:08:15.908208",
     "exception": false,
     "start_time": "2025-06-06T04:08:15.893602",
     "status": "completed"
    },
    "tags": []
   },
   "outputs": [],
   "source": [
    "# preds = [np.argmax(x) for x in output.predictions]"
   ]
  },
  {
   "cell_type": "code",
   "execution_count": 45,
   "id": "112ad727",
   "metadata": {
    "execution": {
     "iopub.execute_input": "2025-06-06T04:08:15.927619Z",
     "iopub.status.busy": "2025-06-06T04:08:15.927423Z",
     "iopub.status.idle": "2025-06-06T04:08:15.930168Z",
     "shell.execute_reply": "2025-06-06T04:08:15.929520Z"
    },
    "papermill": {
     "duration": 0.013741,
     "end_time": "2025-06-06T04:08:15.931255",
     "exception": false,
     "start_time": "2025-06-06T04:08:15.917514",
     "status": "completed"
    },
    "tags": []
   },
   "outputs": [],
   "source": [
    "# output.predictions"
   ]
  },
  {
   "cell_type": "code",
   "execution_count": 46,
   "id": "b7ac359a",
   "metadata": {
    "execution": {
     "iopub.execute_input": "2025-06-06T04:08:15.950680Z",
     "iopub.status.busy": "2025-06-06T04:08:15.950461Z",
     "iopub.status.idle": "2025-06-06T04:08:15.953279Z",
     "shell.execute_reply": "2025-06-06T04:08:15.952629Z"
    },
    "papermill": {
     "duration": 0.013786,
     "end_time": "2025-06-06T04:08:15.954367",
     "exception": false,
     "start_time": "2025-06-06T04:08:15.940581",
     "status": "completed"
    },
    "tags": []
   },
   "outputs": [],
   "source": [
    "# np.unique(preds)"
   ]
  },
  {
   "cell_type": "code",
   "execution_count": 47,
   "id": "14c89d63",
   "metadata": {
    "execution": {
     "iopub.execute_input": "2025-06-06T04:08:15.974187Z",
     "iopub.status.busy": "2025-06-06T04:08:15.973945Z",
     "iopub.status.idle": "2025-06-06T04:08:15.976643Z",
     "shell.execute_reply": "2025-06-06T04:08:15.976056Z"
    },
    "papermill": {
     "duration": 0.013774,
     "end_time": "2025-06-06T04:08:15.977722",
     "exception": false,
     "start_time": "2025-06-06T04:08:15.963948",
     "status": "completed"
    },
    "tags": []
   },
   "outputs": [],
   "source": [
    "# def transform(x):\n",
    "#     if x == 2:\n",
    "#         return 1\n",
    "#     elif x == 1:\n",
    "#         return 1\n",
    "#     else:  # x == 0\n",
    "#         return 0\n",
    "        \n",
    "# vectorized_transform = np.vectorize(transform)\n",
    "# Y_test = vectorized_transform(Y_test)"
   ]
  },
  {
   "cell_type": "code",
   "execution_count": 48,
   "id": "156739f0",
   "metadata": {
    "execution": {
     "iopub.execute_input": "2025-06-06T04:08:15.997338Z",
     "iopub.status.busy": "2025-06-06T04:08:15.997138Z",
     "iopub.status.idle": "2025-06-06T04:08:15.999818Z",
     "shell.execute_reply": "2025-06-06T04:08:15.999205Z"
    },
    "papermill": {
     "duration": 0.013554,
     "end_time": "2025-06-06T04:08:16.000889",
     "exception": false,
     "start_time": "2025-06-06T04:08:15.987335",
     "status": "completed"
    },
    "tags": []
   },
   "outputs": [],
   "source": [
    "# np.unique(Y_test)"
   ]
  },
  {
   "cell_type": "code",
   "execution_count": 49,
   "id": "c367f9c3",
   "metadata": {
    "execution": {
     "iopub.execute_input": "2025-06-06T04:08:16.020475Z",
     "iopub.status.busy": "2025-06-06T04:08:16.020280Z",
     "iopub.status.idle": "2025-06-06T04:08:16.023063Z",
     "shell.execute_reply": "2025-06-06T04:08:16.022423Z"
    },
    "papermill": {
     "duration": 0.013895,
     "end_time": "2025-06-06T04:08:16.024208",
     "exception": false,
     "start_time": "2025-06-06T04:08:16.010313",
     "status": "completed"
    },
    "tags": []
   },
   "outputs": [],
   "source": [
    "# cm = confusion_matrix(Y_test, preds)\n",
    "\n",
    "# # Define class labels\n",
    "# labels = [0, 1]\n",
    "\n",
    "# # Create a heatmap\n",
    "# plt.figure(figsize=(8, 6))\n",
    "# sns.heatmap(cm, annot=True, fmt='d', cmap='Blues',\n",
    "#             xticklabels=labels, yticklabels=labels)\n",
    "\n",
    "# # Add labels and title\n",
    "# plt.xlabel('Predicted Labels')\n",
    "# plt.ylabel('True Labels')\n",
    "# plt.title('Confusion Matrix Heatmap')\n",
    "\n",
    "# # Display the plot\n",
    "# plt.show()"
   ]
  },
  {
   "cell_type": "code",
   "execution_count": 50,
   "id": "b407f66c",
   "metadata": {
    "execution": {
     "iopub.execute_input": "2025-06-06T04:08:16.043672Z",
     "iopub.status.busy": "2025-06-06T04:08:16.043466Z",
     "iopub.status.idle": "2025-06-06T04:08:16.046201Z",
     "shell.execute_reply": "2025-06-06T04:08:16.045558Z"
    },
    "papermill": {
     "duration": 0.013705,
     "end_time": "2025-06-06T04:08:16.047310",
     "exception": false,
     "start_time": "2025-06-06T04:08:16.033605",
     "status": "completed"
    },
    "tags": []
   },
   "outputs": [],
   "source": [
    "# accuracy_score(Y_test, preds)"
   ]
  },
  {
   "cell_type": "code",
   "execution_count": 51,
   "id": "56041aa8",
   "metadata": {
    "execution": {
     "iopub.execute_input": "2025-06-06T04:08:16.067005Z",
     "iopub.status.busy": "2025-06-06T04:08:16.066792Z",
     "iopub.status.idle": "2025-06-06T04:08:16.069543Z",
     "shell.execute_reply": "2025-06-06T04:08:16.068917Z"
    },
    "papermill": {
     "duration": 0.013817,
     "end_time": "2025-06-06T04:08:16.070622",
     "exception": false,
     "start_time": "2025-06-06T04:08:16.056805",
     "status": "completed"
    },
    "tags": []
   },
   "outputs": [],
   "source": [
    "# print(classification_report(Y_test, preds))"
   ]
  },
  {
   "cell_type": "code",
   "execution_count": null,
   "id": "376d3119",
   "metadata": {
    "papermill": {
     "duration": 0.009274,
     "end_time": "2025-06-06T04:08:16.089332",
     "exception": false,
     "start_time": "2025-06-06T04:08:16.080058",
     "status": "completed"
    },
    "tags": []
   },
   "outputs": [],
   "source": []
  }
 ],
 "metadata": {
  "kaggle": {
   "accelerator": "nvidiaTeslaT4",
   "dataSources": [
    {
     "datasetId": 622510,
     "sourceId": 1192499,
     "sourceType": "datasetVersion"
    },
    {
     "datasetId": 5490281,
     "sourceId": 9097274,
     "sourceType": "datasetVersion"
    },
    {
     "datasetId": 6886982,
     "sourceId": 12072183,
     "sourceType": "datasetVersion"
    },
    {
     "sourceId": 243930408,
     "sourceType": "kernelVersion"
    }
   ],
   "dockerImageVersionId": 30822,
   "isGpuEnabled": true,
   "isInternetEnabled": true,
   "language": "python",
   "sourceType": "notebook"
  },
  "kernelspec": {
   "display_name": "Python 3",
   "language": "python",
   "name": "python3"
  },
  "language_info": {
   "codemirror_mode": {
    "name": "ipython",
    "version": 3
   },
   "file_extension": ".py",
   "mimetype": "text/x-python",
   "name": "python",
   "nbconvert_exporter": "python",
   "pygments_lexer": "ipython3",
   "version": "3.10.12"
  },
  "papermill": {
   "default_parameters": {},
   "duration": 42598.499568,
   "end_time": "2025-06-06T04:08:18.972102",
   "environment_variables": {},
   "exception": null,
   "input_path": "__notebook__.ipynb",
   "output_path": "__notebook__.ipynb",
   "parameters": {},
   "start_time": "2025-06-05T16:18:20.472534",
   "version": "2.6.0"
  },
  "widgets": {
   "application/vnd.jupyter.widget-state+json": {
    "state": {
     "00b5ea0807584870a006acbbecf1849d": {
      "model_module": "@jupyter-widgets/controls",
      "model_module_version": "2.0.0",
      "model_name": "ProgressStyleModel",
      "state": {
       "_model_module": "@jupyter-widgets/controls",
       "_model_module_version": "2.0.0",
       "_model_name": "ProgressStyleModel",
       "_view_count": null,
       "_view_module": "@jupyter-widgets/base",
       "_view_module_version": "2.0.0",
       "_view_name": "StyleView",
       "bar_color": null,
       "description_width": ""
      }
     },
     "01763fcf03574401b56aba45ee049aa5": {
      "model_module": "@jupyter-widgets/controls",
      "model_module_version": "2.0.0",
      "model_name": "ProgressStyleModel",
      "state": {
       "_model_module": "@jupyter-widgets/controls",
       "_model_module_version": "2.0.0",
       "_model_name": "ProgressStyleModel",
       "_view_count": null,
       "_view_module": "@jupyter-widgets/base",
       "_view_module_version": "2.0.0",
       "_view_name": "StyleView",
       "bar_color": null,
       "description_width": ""
      }
     },
     "0740242883de400296697a584569465e": {
      "model_module": "@jupyter-widgets/base",
      "model_module_version": "2.0.0",
      "model_name": "LayoutModel",
      "state": {
       "_model_module": "@jupyter-widgets/base",
       "_model_module_version": "2.0.0",
       "_model_name": "LayoutModel",
       "_view_count": null,
       "_view_module": "@jupyter-widgets/base",
       "_view_module_version": "2.0.0",
       "_view_name": "LayoutView",
       "align_content": null,
       "align_items": null,
       "align_self": null,
       "border_bottom": null,
       "border_left": null,
       "border_right": null,
       "border_top": null,
       "bottom": null,
       "display": null,
       "flex": null,
       "flex_flow": null,
       "grid_area": null,
       "grid_auto_columns": null,
       "grid_auto_flow": null,
       "grid_auto_rows": null,
       "grid_column": null,
       "grid_gap": null,
       "grid_row": null,
       "grid_template_areas": null,
       "grid_template_columns": null,
       "grid_template_rows": null,
       "height": null,
       "justify_content": null,
       "justify_items": null,
       "left": null,
       "margin": null,
       "max_height": null,
       "max_width": null,
       "min_height": null,
       "min_width": null,
       "object_fit": null,
       "object_position": null,
       "order": null,
       "overflow": null,
       "padding": null,
       "right": null,
       "top": null,
       "visibility": null,
       "width": null
      }
     },
     "0f03abb2ba4e4998a20e962bdab1ccd1": {
      "model_module": "@jupyter-widgets/controls",
      "model_module_version": "2.0.0",
      "model_name": "HTMLModel",
      "state": {
       "_dom_classes": [],
       "_model_module": "@jupyter-widgets/controls",
       "_model_module_version": "2.0.0",
       "_model_name": "HTMLModel",
       "_view_count": null,
       "_view_module": "@jupyter-widgets/controls",
       "_view_module_version": "2.0.0",
       "_view_name": "HTMLView",
       "description": "",
       "description_allow_html": false,
       "layout": "IPY_MODEL_721cd6832f39400f8a63d04be28339d1",
       "placeholder": "​",
       "style": "IPY_MODEL_2d59fa0d57514acb8c308b2bf0179b76",
       "tabbable": null,
       "tooltip": null,
       "value": "pytorch_model.bin: 100%"
      }
     },
     "0f13d40120794544adfdebc744893039": {
      "model_module": "@jupyter-widgets/base",
      "model_module_version": "2.0.0",
      "model_name": "LayoutModel",
      "state": {
       "_model_module": "@jupyter-widgets/base",
       "_model_module_version": "2.0.0",
       "_model_name": "LayoutModel",
       "_view_count": null,
       "_view_module": "@jupyter-widgets/base",
       "_view_module_version": "2.0.0",
       "_view_name": "LayoutView",
       "align_content": null,
       "align_items": null,
       "align_self": null,
       "border_bottom": null,
       "border_left": null,
       "border_right": null,
       "border_top": null,
       "bottom": null,
       "display": null,
       "flex": null,
       "flex_flow": null,
       "grid_area": null,
       "grid_auto_columns": null,
       "grid_auto_flow": null,
       "grid_auto_rows": null,
       "grid_column": null,
       "grid_gap": null,
       "grid_row": null,
       "grid_template_areas": null,
       "grid_template_columns": null,
       "grid_template_rows": null,
       "height": null,
       "justify_content": null,
       "justify_items": null,
       "left": null,
       "margin": null,
       "max_height": null,
       "max_width": null,
       "min_height": null,
       "min_width": null,
       "object_fit": null,
       "object_position": null,
       "order": null,
       "overflow": null,
       "padding": null,
       "right": null,
       "top": null,
       "visibility": null,
       "width": null
      }
     },
     "0fc9adfacc40463098b4b5ac0776386c": {
      "model_module": "@jupyter-widgets/controls",
      "model_module_version": "2.0.0",
      "model_name": "HBoxModel",
      "state": {
       "_dom_classes": [],
       "_model_module": "@jupyter-widgets/controls",
       "_model_module_version": "2.0.0",
       "_model_name": "HBoxModel",
       "_view_count": null,
       "_view_module": "@jupyter-widgets/controls",
       "_view_module_version": "2.0.0",
       "_view_name": "HBoxView",
       "box_style": "",
       "children": [
        "IPY_MODEL_78fb67d7b7594e39beb949009bad86aa",
        "IPY_MODEL_6599c7411f1e472696a8bfdc841dd619",
        "IPY_MODEL_73e81c35d5f747698c9f731633e22e95"
       ],
       "layout": "IPY_MODEL_b0b5acd1b9414fa1afd4b41d6b11b50b",
       "tabbable": null,
       "tooltip": null
      }
     },
     "12f27b8acbc244938aea7152006a388a": {
      "model_module": "@jupyter-widgets/base",
      "model_module_version": "2.0.0",
      "model_name": "LayoutModel",
      "state": {
       "_model_module": "@jupyter-widgets/base",
       "_model_module_version": "2.0.0",
       "_model_name": "LayoutModel",
       "_view_count": null,
       "_view_module": "@jupyter-widgets/base",
       "_view_module_version": "2.0.0",
       "_view_name": "LayoutView",
       "align_content": null,
       "align_items": null,
       "align_self": null,
       "border_bottom": null,
       "border_left": null,
       "border_right": null,
       "border_top": null,
       "bottom": null,
       "display": null,
       "flex": null,
       "flex_flow": null,
       "grid_area": null,
       "grid_auto_columns": null,
       "grid_auto_flow": null,
       "grid_auto_rows": null,
       "grid_column": null,
       "grid_gap": null,
       "grid_row": null,
       "grid_template_areas": null,
       "grid_template_columns": null,
       "grid_template_rows": null,
       "height": null,
       "justify_content": null,
       "justify_items": null,
       "left": null,
       "margin": null,
       "max_height": null,
       "max_width": null,
       "min_height": null,
       "min_width": null,
       "object_fit": null,
       "object_position": null,
       "order": null,
       "overflow": null,
       "padding": null,
       "right": null,
       "top": null,
       "visibility": null,
       "width": null
      }
     },
     "16191970e77543019a4bb231bf57be29": {
      "model_module": "@jupyter-widgets/base",
      "model_module_version": "2.0.0",
      "model_name": "LayoutModel",
      "state": {
       "_model_module": "@jupyter-widgets/base",
       "_model_module_version": "2.0.0",
       "_model_name": "LayoutModel",
       "_view_count": null,
       "_view_module": "@jupyter-widgets/base",
       "_view_module_version": "2.0.0",
       "_view_name": "LayoutView",
       "align_content": null,
       "align_items": null,
       "align_self": null,
       "border_bottom": null,
       "border_left": null,
       "border_right": null,
       "border_top": null,
       "bottom": null,
       "display": null,
       "flex": null,
       "flex_flow": null,
       "grid_area": null,
       "grid_auto_columns": null,
       "grid_auto_flow": null,
       "grid_auto_rows": null,
       "grid_column": null,
       "grid_gap": null,
       "grid_row": null,
       "grid_template_areas": null,
       "grid_template_columns": null,
       "grid_template_rows": null,
       "height": null,
       "justify_content": null,
       "justify_items": null,
       "left": null,
       "margin": null,
       "max_height": null,
       "max_width": null,
       "min_height": null,
       "min_width": null,
       "object_fit": null,
       "object_position": null,
       "order": null,
       "overflow": null,
       "padding": null,
       "right": null,
       "top": null,
       "visibility": null,
       "width": null
      }
     },
     "198387849f8f495cae3abdd89e6d8729": {
      "model_module": "@jupyter-widgets/controls",
      "model_module_version": "2.0.0",
      "model_name": "FloatProgressModel",
      "state": {
       "_dom_classes": [],
       "_model_module": "@jupyter-widgets/controls",
       "_model_module_version": "2.0.0",
       "_model_name": "FloatProgressModel",
       "_view_count": null,
       "_view_module": "@jupyter-widgets/controls",
       "_view_module_version": "2.0.0",
       "_view_name": "ProgressView",
       "bar_style": "success",
       "description": "",
       "description_allow_html": false,
       "layout": "IPY_MODEL_8953970b428f43a38b93ab164bb80fba",
       "max": 76946.0,
       "min": 0.0,
       "orientation": "horizontal",
       "style": "IPY_MODEL_2caaaa6b8a1541c485f3aa4191ad296a",
       "tabbable": null,
       "tooltip": null,
       "value": 76946.0
      }
     },
     "19b5046282fc451db49672d338049282": {
      "model_module": "@jupyter-widgets/base",
      "model_module_version": "2.0.0",
      "model_name": "LayoutModel",
      "state": {
       "_model_module": "@jupyter-widgets/base",
       "_model_module_version": "2.0.0",
       "_model_name": "LayoutModel",
       "_view_count": null,
       "_view_module": "@jupyter-widgets/base",
       "_view_module_version": "2.0.0",
       "_view_name": "LayoutView",
       "align_content": null,
       "align_items": null,
       "align_self": null,
       "border_bottom": null,
       "border_left": null,
       "border_right": null,
       "border_top": null,
       "bottom": null,
       "display": null,
       "flex": null,
       "flex_flow": null,
       "grid_area": null,
       "grid_auto_columns": null,
       "grid_auto_flow": null,
       "grid_auto_rows": null,
       "grid_column": null,
       "grid_gap": null,
       "grid_row": null,
       "grid_template_areas": null,
       "grid_template_columns": null,
       "grid_template_rows": null,
       "height": null,
       "justify_content": null,
       "justify_items": null,
       "left": null,
       "margin": null,
       "max_height": null,
       "max_width": null,
       "min_height": null,
       "min_width": null,
       "object_fit": null,
       "object_position": null,
       "order": null,
       "overflow": null,
       "padding": null,
       "right": null,
       "top": null,
       "visibility": null,
       "width": null
      }
     },
     "237826b154a545648ec2b6dc95ef2e30": {
      "model_module": "@jupyter-widgets/controls",
      "model_module_version": "2.0.0",
      "model_name": "ProgressStyleModel",
      "state": {
       "_model_module": "@jupyter-widgets/controls",
       "_model_module_version": "2.0.0",
       "_model_name": "ProgressStyleModel",
       "_view_count": null,
       "_view_module": "@jupyter-widgets/base",
       "_view_module_version": "2.0.0",
       "_view_name": "StyleView",
       "bar_color": null,
       "description_width": ""
      }
     },
     "2386300a29d24473a348652166c9274f": {
      "model_module": "@jupyter-widgets/controls",
      "model_module_version": "2.0.0",
      "model_name": "HTMLStyleModel",
      "state": {
       "_model_module": "@jupyter-widgets/controls",
       "_model_module_version": "2.0.0",
       "_model_name": "HTMLStyleModel",
       "_view_count": null,
       "_view_module": "@jupyter-widgets/base",
       "_view_module_version": "2.0.0",
       "_view_name": "StyleView",
       "background": null,
       "description_width": "",
       "font_size": null,
       "text_color": null
      }
     },
     "246f57ba07ee4f5eb942930bffffd531": {
      "model_module": "@jupyter-widgets/controls",
      "model_module_version": "2.0.0",
      "model_name": "HTMLStyleModel",
      "state": {
       "_model_module": "@jupyter-widgets/controls",
       "_model_module_version": "2.0.0",
       "_model_name": "HTMLStyleModel",
       "_view_count": null,
       "_view_module": "@jupyter-widgets/base",
       "_view_module_version": "2.0.0",
       "_view_name": "StyleView",
       "background": null,
       "description_width": "",
       "font_size": null,
       "text_color": null
      }
     },
     "27bcffef9c3a444ba3b42a0deb39794d": {
      "model_module": "@jupyter-widgets/base",
      "model_module_version": "2.0.0",
      "model_name": "LayoutModel",
      "state": {
       "_model_module": "@jupyter-widgets/base",
       "_model_module_version": "2.0.0",
       "_model_name": "LayoutModel",
       "_view_count": null,
       "_view_module": "@jupyter-widgets/base",
       "_view_module_version": "2.0.0",
       "_view_name": "LayoutView",
       "align_content": null,
       "align_items": null,
       "align_self": null,
       "border_bottom": null,
       "border_left": null,
       "border_right": null,
       "border_top": null,
       "bottom": null,
       "display": null,
       "flex": null,
       "flex_flow": null,
       "grid_area": null,
       "grid_auto_columns": null,
       "grid_auto_flow": null,
       "grid_auto_rows": null,
       "grid_column": null,
       "grid_gap": null,
       "grid_row": null,
       "grid_template_areas": null,
       "grid_template_columns": null,
       "grid_template_rows": null,
       "height": null,
       "justify_content": null,
       "justify_items": null,
       "left": null,
       "margin": null,
       "max_height": null,
       "max_width": null,
       "min_height": null,
       "min_width": null,
       "object_fit": null,
       "object_position": null,
       "order": null,
       "overflow": null,
       "padding": null,
       "right": null,
       "top": null,
       "visibility": null,
       "width": null
      }
     },
     "2a3618c27a1c4b57a229db4e6ee70ac2": {
      "model_module": "@jupyter-widgets/base",
      "model_module_version": "2.0.0",
      "model_name": "LayoutModel",
      "state": {
       "_model_module": "@jupyter-widgets/base",
       "_model_module_version": "2.0.0",
       "_model_name": "LayoutModel",
       "_view_count": null,
       "_view_module": "@jupyter-widgets/base",
       "_view_module_version": "2.0.0",
       "_view_name": "LayoutView",
       "align_content": null,
       "align_items": null,
       "align_self": null,
       "border_bottom": null,
       "border_left": null,
       "border_right": null,
       "border_top": null,
       "bottom": null,
       "display": null,
       "flex": null,
       "flex_flow": null,
       "grid_area": null,
       "grid_auto_columns": null,
       "grid_auto_flow": null,
       "grid_auto_rows": null,
       "grid_column": null,
       "grid_gap": null,
       "grid_row": null,
       "grid_template_areas": null,
       "grid_template_columns": null,
       "grid_template_rows": null,
       "height": null,
       "justify_content": null,
       "justify_items": null,
       "left": null,
       "margin": null,
       "max_height": null,
       "max_width": null,
       "min_height": null,
       "min_width": null,
       "object_fit": null,
       "object_position": null,
       "order": null,
       "overflow": null,
       "padding": null,
       "right": null,
       "top": null,
       "visibility": null,
       "width": null
      }
     },
     "2abb5910ccc247e6bc2845d901ea022a": {
      "model_module": "@jupyter-widgets/controls",
      "model_module_version": "2.0.0",
      "model_name": "HTMLStyleModel",
      "state": {
       "_model_module": "@jupyter-widgets/controls",
       "_model_module_version": "2.0.0",
       "_model_name": "HTMLStyleModel",
       "_view_count": null,
       "_view_module": "@jupyter-widgets/base",
       "_view_module_version": "2.0.0",
       "_view_name": "StyleView",
       "background": null,
       "description_width": "",
       "font_size": null,
       "text_color": null
      }
     },
     "2caaaa6b8a1541c485f3aa4191ad296a": {
      "model_module": "@jupyter-widgets/controls",
      "model_module_version": "2.0.0",
      "model_name": "ProgressStyleModel",
      "state": {
       "_model_module": "@jupyter-widgets/controls",
       "_model_module_version": "2.0.0",
       "_model_name": "ProgressStyleModel",
       "_view_count": null,
       "_view_module": "@jupyter-widgets/base",
       "_view_module_version": "2.0.0",
       "_view_name": "StyleView",
       "bar_color": null,
       "description_width": ""
      }
     },
     "2d59fa0d57514acb8c308b2bf0179b76": {
      "model_module": "@jupyter-widgets/controls",
      "model_module_version": "2.0.0",
      "model_name": "HTMLStyleModel",
      "state": {
       "_model_module": "@jupyter-widgets/controls",
       "_model_module_version": "2.0.0",
       "_model_name": "HTMLStyleModel",
       "_view_count": null,
       "_view_module": "@jupyter-widgets/base",
       "_view_module_version": "2.0.0",
       "_view_name": "StyleView",
       "background": null,
       "description_width": "",
       "font_size": null,
       "text_color": null
      }
     },
     "2d735e10e5e747d490d35aa768ffccde": {
      "model_module": "@jupyter-widgets/controls",
      "model_module_version": "2.0.0",
      "model_name": "HBoxModel",
      "state": {
       "_dom_classes": [],
       "_model_module": "@jupyter-widgets/controls",
       "_model_module_version": "2.0.0",
       "_model_name": "HBoxModel",
       "_view_count": null,
       "_view_module": "@jupyter-widgets/controls",
       "_view_module_version": "2.0.0",
       "_view_name": "HBoxView",
       "box_style": "",
       "children": [
        "IPY_MODEL_40bf4cbe59284e0a8752461b97f7d42b",
        "IPY_MODEL_8d65acd1592446f49c5f20f1c4f428bb",
        "IPY_MODEL_ee189ddb476541ed8865febb2b4a0e78"
       ],
       "layout": "IPY_MODEL_ac4cacfb4ba9487bb7e63b2ba68b5b60",
       "tabbable": null,
       "tooltip": null
      }
     },
     "2e2b7ab5c6e642dc86f2084227862de4": {
      "model_module": "@jupyter-widgets/base",
      "model_module_version": "2.0.0",
      "model_name": "LayoutModel",
      "state": {
       "_model_module": "@jupyter-widgets/base",
       "_model_module_version": "2.0.0",
       "_model_name": "LayoutModel",
       "_view_count": null,
       "_view_module": "@jupyter-widgets/base",
       "_view_module_version": "2.0.0",
       "_view_name": "LayoutView",
       "align_content": null,
       "align_items": null,
       "align_self": null,
       "border_bottom": null,
       "border_left": null,
       "border_right": null,
       "border_top": null,
       "bottom": null,
       "display": null,
       "flex": null,
       "flex_flow": null,
       "grid_area": null,
       "grid_auto_columns": null,
       "grid_auto_flow": null,
       "grid_auto_rows": null,
       "grid_column": null,
       "grid_gap": null,
       "grid_row": null,
       "grid_template_areas": null,
       "grid_template_columns": null,
       "grid_template_rows": null,
       "height": null,
       "justify_content": null,
       "justify_items": null,
       "left": null,
       "margin": null,
       "max_height": null,
       "max_width": null,
       "min_height": null,
       "min_width": null,
       "object_fit": null,
       "object_position": null,
       "order": null,
       "overflow": null,
       "padding": null,
       "right": null,
       "top": null,
       "visibility": null,
       "width": null
      }
     },
     "317f3ad0232340ea87c26c1472e10499": {
      "model_module": "@jupyter-widgets/base",
      "model_module_version": "2.0.0",
      "model_name": "LayoutModel",
      "state": {
       "_model_module": "@jupyter-widgets/base",
       "_model_module_version": "2.0.0",
       "_model_name": "LayoutModel",
       "_view_count": null,
       "_view_module": "@jupyter-widgets/base",
       "_view_module_version": "2.0.0",
       "_view_name": "LayoutView",
       "align_content": null,
       "align_items": null,
       "align_self": null,
       "border_bottom": null,
       "border_left": null,
       "border_right": null,
       "border_top": null,
       "bottom": null,
       "display": null,
       "flex": null,
       "flex_flow": null,
       "grid_area": null,
       "grid_auto_columns": null,
       "grid_auto_flow": null,
       "grid_auto_rows": null,
       "grid_column": null,
       "grid_gap": null,
       "grid_row": null,
       "grid_template_areas": null,
       "grid_template_columns": null,
       "grid_template_rows": null,
       "height": null,
       "justify_content": null,
       "justify_items": null,
       "left": null,
       "margin": null,
       "max_height": null,
       "max_width": null,
       "min_height": null,
       "min_width": null,
       "object_fit": null,
       "object_position": null,
       "order": null,
       "overflow": null,
       "padding": null,
       "right": null,
       "top": null,
       "visibility": null,
       "width": null
      }
     },
     "333387b4c0e64311a650087411cc7d75": {
      "model_module": "@jupyter-widgets/controls",
      "model_module_version": "2.0.0",
      "model_name": "HTMLModel",
      "state": {
       "_dom_classes": [],
       "_model_module": "@jupyter-widgets/controls",
       "_model_module_version": "2.0.0",
       "_model_name": "HTMLModel",
       "_view_count": null,
       "_view_module": "@jupyter-widgets/controls",
       "_view_module_version": "2.0.0",
       "_view_name": "HTMLView",
       "description": "",
       "description_allow_html": false,
       "layout": "IPY_MODEL_7fbec8f0ca4e463287923dd4d045fc02",
       "placeholder": "​",
       "style": "IPY_MODEL_4ff1dc5fe5894ef685d5694358ba8e40",
       "tabbable": null,
       "tooltip": null,
       "value": " 76946/76946 [00:12&lt;00:00, 5635.59 examples/s]"
      }
     },
     "3b0da66097ab4ea887cff8187e96fb3b": {
      "model_module": "@jupyter-widgets/controls",
      "model_module_version": "2.0.0",
      "model_name": "HBoxModel",
      "state": {
       "_dom_classes": [],
       "_model_module": "@jupyter-widgets/controls",
       "_model_module_version": "2.0.0",
       "_model_name": "HBoxModel",
       "_view_count": null,
       "_view_module": "@jupyter-widgets/controls",
       "_view_module_version": "2.0.0",
       "_view_name": "HBoxView",
       "box_style": "",
       "children": [
        "IPY_MODEL_0f03abb2ba4e4998a20e962bdab1ccd1",
        "IPY_MODEL_7c12e55e1bac46b0b10d79f77f90a38a",
        "IPY_MODEL_48c09fcc4a26456abab5cba35e54c294"
       ],
       "layout": "IPY_MODEL_84012bac6c8e471aad7c4464c78655cd",
       "tabbable": null,
       "tooltip": null
      }
     },
     "3b17235149864d2f889bf0e174cae070": {
      "model_module": "@jupyter-widgets/controls",
      "model_module_version": "2.0.0",
      "model_name": "HTMLStyleModel",
      "state": {
       "_model_module": "@jupyter-widgets/controls",
       "_model_module_version": "2.0.0",
       "_model_name": "HTMLStyleModel",
       "_view_count": null,
       "_view_module": "@jupyter-widgets/base",
       "_view_module_version": "2.0.0",
       "_view_name": "StyleView",
       "background": null,
       "description_width": "",
       "font_size": null,
       "text_color": null
      }
     },
     "40bf4cbe59284e0a8752461b97f7d42b": {
      "model_module": "@jupyter-widgets/controls",
      "model_module_version": "2.0.0",
      "model_name": "HTMLModel",
      "state": {
       "_dom_classes": [],
       "_model_module": "@jupyter-widgets/controls",
       "_model_module_version": "2.0.0",
       "_model_name": "HTMLModel",
       "_view_count": null,
       "_view_module": "@jupyter-widgets/controls",
       "_view_module_version": "2.0.0",
       "_view_name": "HTMLView",
       "description": "",
       "description_allow_html": false,
       "layout": "IPY_MODEL_2a3618c27a1c4b57a229db4e6ee70ac2",
       "placeholder": "​",
       "style": "IPY_MODEL_2386300a29d24473a348652166c9274f",
       "tabbable": null,
       "tooltip": null,
       "value": "config.json: 100%"
      }
     },
     "42b0710d6b254e5ea03e988f2b6a14e7": {
      "model_module": "@jupyter-widgets/base",
      "model_module_version": "2.0.0",
      "model_name": "LayoutModel",
      "state": {
       "_model_module": "@jupyter-widgets/base",
       "_model_module_version": "2.0.0",
       "_model_name": "LayoutModel",
       "_view_count": null,
       "_view_module": "@jupyter-widgets/base",
       "_view_module_version": "2.0.0",
       "_view_name": "LayoutView",
       "align_content": null,
       "align_items": null,
       "align_self": null,
       "border_bottom": null,
       "border_left": null,
       "border_right": null,
       "border_top": null,
       "bottom": null,
       "display": null,
       "flex": null,
       "flex_flow": null,
       "grid_area": null,
       "grid_auto_columns": null,
       "grid_auto_flow": null,
       "grid_auto_rows": null,
       "grid_column": null,
       "grid_gap": null,
       "grid_row": null,
       "grid_template_areas": null,
       "grid_template_columns": null,
       "grid_template_rows": null,
       "height": null,
       "justify_content": null,
       "justify_items": null,
       "left": null,
       "margin": null,
       "max_height": null,
       "max_width": null,
       "min_height": null,
       "min_width": null,
       "object_fit": null,
       "object_position": null,
       "order": null,
       "overflow": null,
       "padding": null,
       "right": null,
       "top": null,
       "visibility": null,
       "width": null
      }
     },
     "45d923c702c04bc7a3ace0dc7c70a3ee": {
      "model_module": "@jupyter-widgets/controls",
      "model_module_version": "2.0.0",
      "model_name": "HBoxModel",
      "state": {
       "_dom_classes": [],
       "_model_module": "@jupyter-widgets/controls",
       "_model_module_version": "2.0.0",
       "_model_name": "HBoxModel",
       "_view_count": null,
       "_view_module": "@jupyter-widgets/controls",
       "_view_module_version": "2.0.0",
       "_view_name": "HBoxView",
       "box_style": "",
       "children": [
        "IPY_MODEL_b38c8d2ad3e244c7b9858782584ac26e",
        "IPY_MODEL_198387849f8f495cae3abdd89e6d8729",
        "IPY_MODEL_333387b4c0e64311a650087411cc7d75"
       ],
       "layout": "IPY_MODEL_e37fdfb9c13e466ba941a236bbbb7801",
       "tabbable": null,
       "tooltip": null
      }
     },
     "48c09fcc4a26456abab5cba35e54c294": {
      "model_module": "@jupyter-widgets/controls",
      "model_module_version": "2.0.0",
      "model_name": "HTMLModel",
      "state": {
       "_dom_classes": [],
       "_model_module": "@jupyter-widgets/controls",
       "_model_module_version": "2.0.0",
       "_model_name": "HTMLModel",
       "_view_count": null,
       "_view_module": "@jupyter-widgets/controls",
       "_view_module_version": "2.0.0",
       "_view_name": "HTMLView",
       "description": "",
       "description_allow_html": false,
       "layout": "IPY_MODEL_5868867d4a704fb49a71acadc8f78494",
       "placeholder": "​",
       "style": "IPY_MODEL_246f57ba07ee4f5eb942930bffffd531",
       "tabbable": null,
       "tooltip": null,
       "value": " 438M/438M [00:02&lt;00:00, 221MB/s]"
      }
     },
     "4f3771918f6c46ff9c43e2d315f870e0": {
      "model_module": "@jupyter-widgets/controls",
      "model_module_version": "2.0.0",
      "model_name": "HBoxModel",
      "state": {
       "_dom_classes": [],
       "_model_module": "@jupyter-widgets/controls",
       "_model_module_version": "2.0.0",
       "_model_name": "HBoxModel",
       "_view_count": null,
       "_view_module": "@jupyter-widgets/controls",
       "_view_module_version": "2.0.0",
       "_view_name": "HBoxView",
       "box_style": "",
       "children": [
        "IPY_MODEL_ffcefc124a3c45368ab3799ef7616900",
        "IPY_MODEL_eb178f651be24165a32fae82853b39ca",
        "IPY_MODEL_58f423f961bd4de580a9b96c9457be2b"
       ],
       "layout": "IPY_MODEL_0f13d40120794544adfdebc744893039",
       "tabbable": null,
       "tooltip": null
      }
     },
     "4f6f6061e3124f10b6a731f99571ab1f": {
      "model_module": "@jupyter-widgets/base",
      "model_module_version": "2.0.0",
      "model_name": "LayoutModel",
      "state": {
       "_model_module": "@jupyter-widgets/base",
       "_model_module_version": "2.0.0",
       "_model_name": "LayoutModel",
       "_view_count": null,
       "_view_module": "@jupyter-widgets/base",
       "_view_module_version": "2.0.0",
       "_view_name": "LayoutView",
       "align_content": null,
       "align_items": null,
       "align_self": null,
       "border_bottom": null,
       "border_left": null,
       "border_right": null,
       "border_top": null,
       "bottom": null,
       "display": null,
       "flex": null,
       "flex_flow": null,
       "grid_area": null,
       "grid_auto_columns": null,
       "grid_auto_flow": null,
       "grid_auto_rows": null,
       "grid_column": null,
       "grid_gap": null,
       "grid_row": null,
       "grid_template_areas": null,
       "grid_template_columns": null,
       "grid_template_rows": null,
       "height": null,
       "justify_content": null,
       "justify_items": null,
       "left": null,
       "margin": null,
       "max_height": null,
       "max_width": null,
       "min_height": null,
       "min_width": null,
       "object_fit": null,
       "object_position": null,
       "order": null,
       "overflow": null,
       "padding": null,
       "right": null,
       "top": null,
       "visibility": null,
       "width": null
      }
     },
     "4ff1dc5fe5894ef685d5694358ba8e40": {
      "model_module": "@jupyter-widgets/controls",
      "model_module_version": "2.0.0",
      "model_name": "HTMLStyleModel",
      "state": {
       "_model_module": "@jupyter-widgets/controls",
       "_model_module_version": "2.0.0",
       "_model_name": "HTMLStyleModel",
       "_view_count": null,
       "_view_module": "@jupyter-widgets/base",
       "_view_module_version": "2.0.0",
       "_view_name": "StyleView",
       "background": null,
       "description_width": "",
       "font_size": null,
       "text_color": null
      }
     },
     "53da0d32016345aebfde2b14a20ca959": {
      "model_module": "@jupyter-widgets/controls",
      "model_module_version": "2.0.0",
      "model_name": "HTMLStyleModel",
      "state": {
       "_model_module": "@jupyter-widgets/controls",
       "_model_module_version": "2.0.0",
       "_model_name": "HTMLStyleModel",
       "_view_count": null,
       "_view_module": "@jupyter-widgets/base",
       "_view_module_version": "2.0.0",
       "_view_name": "StyleView",
       "background": null,
       "description_width": "",
       "font_size": null,
       "text_color": null
      }
     },
     "58582b5173fd45dda831f8cea01ed750": {
      "model_module": "@jupyter-widgets/controls",
      "model_module_version": "2.0.0",
      "model_name": "HTMLModel",
      "state": {
       "_dom_classes": [],
       "_model_module": "@jupyter-widgets/controls",
       "_model_module_version": "2.0.0",
       "_model_name": "HTMLModel",
       "_view_count": null,
       "_view_module": "@jupyter-widgets/controls",
       "_view_module_version": "2.0.0",
       "_view_name": "HTMLView",
       "description": "",
       "description_allow_html": false,
       "layout": "IPY_MODEL_27bcffef9c3a444ba3b42a0deb39794d",
       "placeholder": "​",
       "style": "IPY_MODEL_e63524a750fb41b28c126fee8cb4fda9",
       "tabbable": null,
       "tooltip": null,
       "value": "Best trial: 1. Best value: 0.972559:   0%"
      }
     },
     "5868867d4a704fb49a71acadc8f78494": {
      "model_module": "@jupyter-widgets/base",
      "model_module_version": "2.0.0",
      "model_name": "LayoutModel",
      "state": {
       "_model_module": "@jupyter-widgets/base",
       "_model_module_version": "2.0.0",
       "_model_name": "LayoutModel",
       "_view_count": null,
       "_view_module": "@jupyter-widgets/base",
       "_view_module_version": "2.0.0",
       "_view_name": "LayoutView",
       "align_content": null,
       "align_items": null,
       "align_self": null,
       "border_bottom": null,
       "border_left": null,
       "border_right": null,
       "border_top": null,
       "bottom": null,
       "display": null,
       "flex": null,
       "flex_flow": null,
       "grid_area": null,
       "grid_auto_columns": null,
       "grid_auto_flow": null,
       "grid_auto_rows": null,
       "grid_column": null,
       "grid_gap": null,
       "grid_row": null,
       "grid_template_areas": null,
       "grid_template_columns": null,
       "grid_template_rows": null,
       "height": null,
       "justify_content": null,
       "justify_items": null,
       "left": null,
       "margin": null,
       "max_height": null,
       "max_width": null,
       "min_height": null,
       "min_width": null,
       "object_fit": null,
       "object_position": null,
       "order": null,
       "overflow": null,
       "padding": null,
       "right": null,
       "top": null,
       "visibility": null,
       "width": null
      }
     },
     "58f423f961bd4de580a9b96c9457be2b": {
      "model_module": "@jupyter-widgets/controls",
      "model_module_version": "2.0.0",
      "model_name": "HTMLModel",
      "state": {
       "_dom_classes": [],
       "_model_module": "@jupyter-widgets/controls",
       "_model_module_version": "2.0.0",
       "_model_name": "HTMLModel",
       "_view_count": null,
       "_view_module": "@jupyter-widgets/controls",
       "_view_module_version": "2.0.0",
       "_view_name": "HTMLView",
       "description": "",
       "description_allow_html": false,
       "layout": "IPY_MODEL_a8541d4ee871454b9a35536d3086c611",
       "placeholder": "​",
       "style": "IPY_MODEL_a55940f7bf314206a7a36dbdee2dcbee",
       "tabbable": null,
       "tooltip": null,
       "value": " 252/252 [00:00&lt;00:00, 25.7kB/s]"
      }
     },
     "5e23ab8605644dc082ac8e1c4df2bc9b": {
      "model_module": "@jupyter-widgets/base",
      "model_module_version": "2.0.0",
      "model_name": "LayoutModel",
      "state": {
       "_model_module": "@jupyter-widgets/base",
       "_model_module_version": "2.0.0",
       "_model_name": "LayoutModel",
       "_view_count": null,
       "_view_module": "@jupyter-widgets/base",
       "_view_module_version": "2.0.0",
       "_view_name": "LayoutView",
       "align_content": null,
       "align_items": null,
       "align_self": null,
       "border_bottom": null,
       "border_left": null,
       "border_right": null,
       "border_top": null,
       "bottom": null,
       "display": null,
       "flex": null,
       "flex_flow": null,
       "grid_area": null,
       "grid_auto_columns": null,
       "grid_auto_flow": null,
       "grid_auto_rows": null,
       "grid_column": null,
       "grid_gap": null,
       "grid_row": null,
       "grid_template_areas": null,
       "grid_template_columns": null,
       "grid_template_rows": null,
       "height": null,
       "justify_content": null,
       "justify_items": null,
       "left": null,
       "margin": null,
       "max_height": null,
       "max_width": null,
       "min_height": null,
       "min_width": null,
       "object_fit": null,
       "object_position": null,
       "order": null,
       "overflow": null,
       "padding": null,
       "right": null,
       "top": null,
       "visibility": null,
       "width": null
      }
     },
     "63caa87d77884db0a70ac49f24e52e92": {
      "model_module": "@jupyter-widgets/base",
      "model_module_version": "2.0.0",
      "model_name": "LayoutModel",
      "state": {
       "_model_module": "@jupyter-widgets/base",
       "_model_module_version": "2.0.0",
       "_model_name": "LayoutModel",
       "_view_count": null,
       "_view_module": "@jupyter-widgets/base",
       "_view_module_version": "2.0.0",
       "_view_name": "LayoutView",
       "align_content": null,
       "align_items": null,
       "align_self": null,
       "border_bottom": null,
       "border_left": null,
       "border_right": null,
       "border_top": null,
       "bottom": null,
       "display": null,
       "flex": null,
       "flex_flow": null,
       "grid_area": null,
       "grid_auto_columns": null,
       "grid_auto_flow": null,
       "grid_auto_rows": null,
       "grid_column": null,
       "grid_gap": null,
       "grid_row": null,
       "grid_template_areas": null,
       "grid_template_columns": null,
       "grid_template_rows": null,
       "height": null,
       "justify_content": null,
       "justify_items": null,
       "left": null,
       "margin": null,
       "max_height": null,
       "max_width": null,
       "min_height": null,
       "min_width": null,
       "object_fit": null,
       "object_position": null,
       "order": null,
       "overflow": null,
       "padding": null,
       "right": null,
       "top": null,
       "visibility": null,
       "width": null
      }
     },
     "64015cf0961f446fbfca0263964e1e79": {
      "model_module": "@jupyter-widgets/controls",
      "model_module_version": "2.0.0",
      "model_name": "HTMLStyleModel",
      "state": {
       "_model_module": "@jupyter-widgets/controls",
       "_model_module_version": "2.0.0",
       "_model_name": "HTMLStyleModel",
       "_view_count": null,
       "_view_module": "@jupyter-widgets/base",
       "_view_module_version": "2.0.0",
       "_view_name": "StyleView",
       "background": null,
       "description_width": "",
       "font_size": null,
       "text_color": null
      }
     },
     "6599c7411f1e472696a8bfdc841dd619": {
      "model_module": "@jupyter-widgets/controls",
      "model_module_version": "2.0.0",
      "model_name": "FloatProgressModel",
      "state": {
       "_dom_classes": [],
       "_model_module": "@jupyter-widgets/controls",
       "_model_module_version": "2.0.0",
       "_model_name": "FloatProgressModel",
       "_view_count": null,
       "_view_module": "@jupyter-widgets/controls",
       "_view_module_version": "2.0.0",
       "_view_name": "ProgressView",
       "bar_style": "success",
       "description": "",
       "description_allow_html": false,
       "layout": "IPY_MODEL_0740242883de400296697a584569465e",
       "max": 307787.0,
       "min": 0.0,
       "orientation": "horizontal",
       "style": "IPY_MODEL_a99d630ed51e462aa637561bbce8c197",
       "tabbable": null,
       "tooltip": null,
       "value": 307787.0
      }
     },
     "68b8f27f48a94b688be99cfb0cbe83aa": {
      "model_module": "@jupyter-widgets/base",
      "model_module_version": "2.0.0",
      "model_name": "LayoutModel",
      "state": {
       "_model_module": "@jupyter-widgets/base",
       "_model_module_version": "2.0.0",
       "_model_name": "LayoutModel",
       "_view_count": null,
       "_view_module": "@jupyter-widgets/base",
       "_view_module_version": "2.0.0",
       "_view_name": "LayoutView",
       "align_content": null,
       "align_items": null,
       "align_self": null,
       "border_bottom": null,
       "border_left": null,
       "border_right": null,
       "border_top": null,
       "bottom": null,
       "display": null,
       "flex": null,
       "flex_flow": null,
       "grid_area": null,
       "grid_auto_columns": null,
       "grid_auto_flow": null,
       "grid_auto_rows": null,
       "grid_column": null,
       "grid_gap": null,
       "grid_row": null,
       "grid_template_areas": null,
       "grid_template_columns": null,
       "grid_template_rows": null,
       "height": null,
       "justify_content": null,
       "justify_items": null,
       "left": null,
       "margin": null,
       "max_height": null,
       "max_width": null,
       "min_height": null,
       "min_width": null,
       "object_fit": null,
       "object_position": null,
       "order": null,
       "overflow": null,
       "padding": null,
       "right": null,
       "top": null,
       "visibility": null,
       "width": null
      }
     },
     "6964c68cd26f4db0aef428c56b28ac7a": {
      "model_module": "@jupyter-widgets/controls",
      "model_module_version": "2.0.0",
      "model_name": "HTMLModel",
      "state": {
       "_dom_classes": [],
       "_model_module": "@jupyter-widgets/controls",
       "_model_module_version": "2.0.0",
       "_model_name": "HTMLModel",
       "_view_count": null,
       "_view_module": "@jupyter-widgets/controls",
       "_view_module_version": "2.0.0",
       "_view_name": "HTMLView",
       "description": "",
       "description_allow_html": false,
       "layout": "IPY_MODEL_dd0e27999b414c998108a5c9846ce896",
       "placeholder": "​",
       "style": "IPY_MODEL_2abb5910ccc247e6bc2845d901ea022a",
       "tabbable": null,
       "tooltip": null,
       "value": " 2/1000000 [11:48:20&lt;4921517:01:04, 17717.50s/it]"
      }
     },
     "721cd6832f39400f8a63d04be28339d1": {
      "model_module": "@jupyter-widgets/base",
      "model_module_version": "2.0.0",
      "model_name": "LayoutModel",
      "state": {
       "_model_module": "@jupyter-widgets/base",
       "_model_module_version": "2.0.0",
       "_model_name": "LayoutModel",
       "_view_count": null,
       "_view_module": "@jupyter-widgets/base",
       "_view_module_version": "2.0.0",
       "_view_name": "LayoutView",
       "align_content": null,
       "align_items": null,
       "align_self": null,
       "border_bottom": null,
       "border_left": null,
       "border_right": null,
       "border_top": null,
       "bottom": null,
       "display": null,
       "flex": null,
       "flex_flow": null,
       "grid_area": null,
       "grid_auto_columns": null,
       "grid_auto_flow": null,
       "grid_auto_rows": null,
       "grid_column": null,
       "grid_gap": null,
       "grid_row": null,
       "grid_template_areas": null,
       "grid_template_columns": null,
       "grid_template_rows": null,
       "height": null,
       "justify_content": null,
       "justify_items": null,
       "left": null,
       "margin": null,
       "max_height": null,
       "max_width": null,
       "min_height": null,
       "min_width": null,
       "object_fit": null,
       "object_position": null,
       "order": null,
       "overflow": null,
       "padding": null,
       "right": null,
       "top": null,
       "visibility": null,
       "width": null
      }
     },
     "73e81c35d5f747698c9f731633e22e95": {
      "model_module": "@jupyter-widgets/controls",
      "model_module_version": "2.0.0",
      "model_name": "HTMLModel",
      "state": {
       "_dom_classes": [],
       "_model_module": "@jupyter-widgets/controls",
       "_model_module_version": "2.0.0",
       "_model_name": "HTMLModel",
       "_view_count": null,
       "_view_module": "@jupyter-widgets/controls",
       "_view_module_version": "2.0.0",
       "_view_name": "HTMLView",
       "description": "",
       "description_allow_html": false,
       "layout": "IPY_MODEL_68b8f27f48a94b688be99cfb0cbe83aa",
       "placeholder": "​",
       "style": "IPY_MODEL_3b17235149864d2f889bf0e174cae070",
       "tabbable": null,
       "tooltip": null,
       "value": " 307787/307787 [00:47&lt;00:00, 6272.85 examples/s]"
      }
     },
     "776b30b0c51640ea878778cc6599c2ba": {
      "model_module": "@jupyter-widgets/controls",
      "model_module_version": "2.0.0",
      "model_name": "HBoxModel",
      "state": {
       "_dom_classes": [],
       "_model_module": "@jupyter-widgets/controls",
       "_model_module_version": "2.0.0",
       "_model_name": "HBoxModel",
       "_view_count": null,
       "_view_module": "@jupyter-widgets/controls",
       "_view_module_version": "2.0.0",
       "_view_name": "HBoxView",
       "box_style": "",
       "children": [
        "IPY_MODEL_c874bd0bb101446ab620ec4b964970e6",
        "IPY_MODEL_f91a982a8ba74179b5ba75eb8967e9fb",
        "IPY_MODEL_e9f81bec0f854099bff892210516fd89"
       ],
       "layout": "IPY_MODEL_9038ddaf39564cfbaa17a5911a39823e",
       "tabbable": null,
       "tooltip": null
      }
     },
     "7889d6cb495a481cb489057cf196020a": {
      "model_module": "@jupyter-widgets/controls",
      "model_module_version": "2.0.0",
      "model_name": "HTMLStyleModel",
      "state": {
       "_model_module": "@jupyter-widgets/controls",
       "_model_module_version": "2.0.0",
       "_model_name": "HTMLStyleModel",
       "_view_count": null,
       "_view_module": "@jupyter-widgets/base",
       "_view_module_version": "2.0.0",
       "_view_name": "StyleView",
       "background": null,
       "description_width": "",
       "font_size": null,
       "text_color": null
      }
     },
     "78fb67d7b7594e39beb949009bad86aa": {
      "model_module": "@jupyter-widgets/controls",
      "model_module_version": "2.0.0",
      "model_name": "HTMLModel",
      "state": {
       "_dom_classes": [],
       "_model_module": "@jupyter-widgets/controls",
       "_model_module_version": "2.0.0",
       "_model_name": "HTMLModel",
       "_view_count": null,
       "_view_module": "@jupyter-widgets/controls",
       "_view_module_version": "2.0.0",
       "_view_name": "HTMLView",
       "description": "",
       "description_allow_html": false,
       "layout": "IPY_MODEL_a1c56bb6da684821bc7f0ce2a7874011",
       "placeholder": "​",
       "style": "IPY_MODEL_53da0d32016345aebfde2b14a20ca959",
       "tabbable": null,
       "tooltip": null,
       "value": "Map: 100%"
      }
     },
     "7c12e55e1bac46b0b10d79f77f90a38a": {
      "model_module": "@jupyter-widgets/controls",
      "model_module_version": "2.0.0",
      "model_name": "FloatProgressModel",
      "state": {
       "_dom_classes": [],
       "_model_module": "@jupyter-widgets/controls",
       "_model_module_version": "2.0.0",
       "_model_name": "FloatProgressModel",
       "_view_count": null,
       "_view_module": "@jupyter-widgets/controls",
       "_view_module_version": "2.0.0",
       "_view_name": "ProgressView",
       "bar_style": "success",
       "description": "",
       "description_allow_html": false,
       "layout": "IPY_MODEL_12f27b8acbc244938aea7152006a388a",
       "max": 437992753.0,
       "min": 0.0,
       "orientation": "horizontal",
       "style": "IPY_MODEL_aa20583aa3234c47bf4dfecc5b10acc2",
       "tabbable": null,
       "tooltip": null,
       "value": 437992753.0
      }
     },
     "7d166dc7d00c4f448ba250e1f74d4446": {
      "model_module": "@jupyter-widgets/controls",
      "model_module_version": "2.0.0",
      "model_name": "HTMLModel",
      "state": {
       "_dom_classes": [],
       "_model_module": "@jupyter-widgets/controls",
       "_model_module_version": "2.0.0",
       "_model_name": "HTMLModel",
       "_view_count": null,
       "_view_module": "@jupyter-widgets/controls",
       "_view_module_version": "2.0.0",
       "_view_name": "HTMLView",
       "description": "",
       "description_allow_html": false,
       "layout": "IPY_MODEL_42b0710d6b254e5ea03e988f2b6a14e7",
       "placeholder": "​",
       "style": "IPY_MODEL_9f27ce5f63484d688ee419cfa0ddffab",
       "tabbable": null,
       "tooltip": null,
       "value": "special_tokens_map.json: 100%"
      }
     },
     "7fbec8f0ca4e463287923dd4d045fc02": {
      "model_module": "@jupyter-widgets/base",
      "model_module_version": "2.0.0",
      "model_name": "LayoutModel",
      "state": {
       "_model_module": "@jupyter-widgets/base",
       "_model_module_version": "2.0.0",
       "_model_name": "LayoutModel",
       "_view_count": null,
       "_view_module": "@jupyter-widgets/base",
       "_view_module_version": "2.0.0",
       "_view_name": "LayoutView",
       "align_content": null,
       "align_items": null,
       "align_self": null,
       "border_bottom": null,
       "border_left": null,
       "border_right": null,
       "border_top": null,
       "bottom": null,
       "display": null,
       "flex": null,
       "flex_flow": null,
       "grid_area": null,
       "grid_auto_columns": null,
       "grid_auto_flow": null,
       "grid_auto_rows": null,
       "grid_column": null,
       "grid_gap": null,
       "grid_row": null,
       "grid_template_areas": null,
       "grid_template_columns": null,
       "grid_template_rows": null,
       "height": null,
       "justify_content": null,
       "justify_items": null,
       "left": null,
       "margin": null,
       "max_height": null,
       "max_width": null,
       "min_height": null,
       "min_width": null,
       "object_fit": null,
       "object_position": null,
       "order": null,
       "overflow": null,
       "padding": null,
       "right": null,
       "top": null,
       "visibility": null,
       "width": null
      }
     },
     "8265cd30fed6498f94886366e7643e46": {
      "model_module": "@jupyter-widgets/controls",
      "model_module_version": "2.0.0",
      "model_name": "HTMLStyleModel",
      "state": {
       "_model_module": "@jupyter-widgets/controls",
       "_model_module_version": "2.0.0",
       "_model_name": "HTMLStyleModel",
       "_view_count": null,
       "_view_module": "@jupyter-widgets/base",
       "_view_module_version": "2.0.0",
       "_view_name": "StyleView",
       "background": null,
       "description_width": "",
       "font_size": null,
       "text_color": null
      }
     },
     "839ed6805bc54224b94b4bd6aefdfd46": {
      "model_module": "@jupyter-widgets/controls",
      "model_module_version": "2.0.0",
      "model_name": "HBoxModel",
      "state": {
       "_dom_classes": [],
       "_model_module": "@jupyter-widgets/controls",
       "_model_module_version": "2.0.0",
       "_model_name": "HBoxModel",
       "_view_count": null,
       "_view_module": "@jupyter-widgets/controls",
       "_view_module_version": "2.0.0",
       "_view_name": "HBoxView",
       "box_style": "",
       "children": [
        "IPY_MODEL_7d166dc7d00c4f448ba250e1f74d4446",
        "IPY_MODEL_9fe69b20874c4a0a913768c00047e075",
        "IPY_MODEL_f849421b7bb248198ea0dcd1e1a1566b"
       ],
       "layout": "IPY_MODEL_db6a29fc6075405fb748266265027756",
       "tabbable": null,
       "tooltip": null
      }
     },
     "84012bac6c8e471aad7c4464c78655cd": {
      "model_module": "@jupyter-widgets/base",
      "model_module_version": "2.0.0",
      "model_name": "LayoutModel",
      "state": {
       "_model_module": "@jupyter-widgets/base",
       "_model_module_version": "2.0.0",
       "_model_name": "LayoutModel",
       "_view_count": null,
       "_view_module": "@jupyter-widgets/base",
       "_view_module_version": "2.0.0",
       "_view_name": "LayoutView",
       "align_content": null,
       "align_items": null,
       "align_self": null,
       "border_bottom": null,
       "border_left": null,
       "border_right": null,
       "border_top": null,
       "bottom": null,
       "display": null,
       "flex": null,
       "flex_flow": null,
       "grid_area": null,
       "grid_auto_columns": null,
       "grid_auto_flow": null,
       "grid_auto_rows": null,
       "grid_column": null,
       "grid_gap": null,
       "grid_row": null,
       "grid_template_areas": null,
       "grid_template_columns": null,
       "grid_template_rows": null,
       "height": null,
       "justify_content": null,
       "justify_items": null,
       "left": null,
       "margin": null,
       "max_height": null,
       "max_width": null,
       "min_height": null,
       "min_width": null,
       "object_fit": null,
       "object_position": null,
       "order": null,
       "overflow": null,
       "padding": null,
       "right": null,
       "top": null,
       "visibility": null,
       "width": null
      }
     },
     "8953970b428f43a38b93ab164bb80fba": {
      "model_module": "@jupyter-widgets/base",
      "model_module_version": "2.0.0",
      "model_name": "LayoutModel",
      "state": {
       "_model_module": "@jupyter-widgets/base",
       "_model_module_version": "2.0.0",
       "_model_name": "LayoutModel",
       "_view_count": null,
       "_view_module": "@jupyter-widgets/base",
       "_view_module_version": "2.0.0",
       "_view_name": "LayoutView",
       "align_content": null,
       "align_items": null,
       "align_self": null,
       "border_bottom": null,
       "border_left": null,
       "border_right": null,
       "border_top": null,
       "bottom": null,
       "display": null,
       "flex": null,
       "flex_flow": null,
       "grid_area": null,
       "grid_auto_columns": null,
       "grid_auto_flow": null,
       "grid_auto_rows": null,
       "grid_column": null,
       "grid_gap": null,
       "grid_row": null,
       "grid_template_areas": null,
       "grid_template_columns": null,
       "grid_template_rows": null,
       "height": null,
       "justify_content": null,
       "justify_items": null,
       "left": null,
       "margin": null,
       "max_height": null,
       "max_width": null,
       "min_height": null,
       "min_width": null,
       "object_fit": null,
       "object_position": null,
       "order": null,
       "overflow": null,
       "padding": null,
       "right": null,
       "top": null,
       "visibility": null,
       "width": null
      }
     },
     "8d65acd1592446f49c5f20f1c4f428bb": {
      "model_module": "@jupyter-widgets/controls",
      "model_module_version": "2.0.0",
      "model_name": "FloatProgressModel",
      "state": {
       "_dom_classes": [],
       "_model_module": "@jupyter-widgets/controls",
       "_model_module_version": "2.0.0",
       "_model_name": "FloatProgressModel",
       "_view_count": null,
       "_view_module": "@jupyter-widgets/controls",
       "_view_module_version": "2.0.0",
       "_view_name": "ProgressView",
       "bar_style": "success",
       "description": "",
       "description_allow_html": false,
       "layout": "IPY_MODEL_2e2b7ab5c6e642dc86f2084227862de4",
       "max": 758.0,
       "min": 0.0,
       "orientation": "horizontal",
       "style": "IPY_MODEL_00b5ea0807584870a006acbbecf1849d",
       "tabbable": null,
       "tooltip": null,
       "value": 758.0
      }
     },
     "9038ddaf39564cfbaa17a5911a39823e": {
      "model_module": "@jupyter-widgets/base",
      "model_module_version": "2.0.0",
      "model_name": "LayoutModel",
      "state": {
       "_model_module": "@jupyter-widgets/base",
       "_model_module_version": "2.0.0",
       "_model_name": "LayoutModel",
       "_view_count": null,
       "_view_module": "@jupyter-widgets/base",
       "_view_module_version": "2.0.0",
       "_view_name": "LayoutView",
       "align_content": null,
       "align_items": null,
       "align_self": null,
       "border_bottom": null,
       "border_left": null,
       "border_right": null,
       "border_top": null,
       "bottom": null,
       "display": null,
       "flex": null,
       "flex_flow": null,
       "grid_area": null,
       "grid_auto_columns": null,
       "grid_auto_flow": null,
       "grid_auto_rows": null,
       "grid_column": null,
       "grid_gap": null,
       "grid_row": null,
       "grid_template_areas": null,
       "grid_template_columns": null,
       "grid_template_rows": null,
       "height": null,
       "justify_content": null,
       "justify_items": null,
       "left": null,
       "margin": null,
       "max_height": null,
       "max_width": null,
       "min_height": null,
       "min_width": null,
       "object_fit": null,
       "object_position": null,
       "order": null,
       "overflow": null,
       "padding": null,
       "right": null,
       "top": null,
       "visibility": null,
       "width": null
      }
     },
     "9149197d31084c6f891073c21260a4cf": {
      "model_module": "@jupyter-widgets/controls",
      "model_module_version": "2.0.0",
      "model_name": "HBoxModel",
      "state": {
       "_dom_classes": [],
       "_model_module": "@jupyter-widgets/controls",
       "_model_module_version": "2.0.0",
       "_model_name": "HBoxModel",
       "_view_count": null,
       "_view_module": "@jupyter-widgets/controls",
       "_view_module_version": "2.0.0",
       "_view_name": "HBoxView",
       "box_style": "",
       "children": [
        "IPY_MODEL_58582b5173fd45dda831f8cea01ed750",
        "IPY_MODEL_d2611ae3637d457887e0725a62b303b9",
        "IPY_MODEL_6964c68cd26f4db0aef428c56b28ac7a"
       ],
       "layout": "IPY_MODEL_d43c919f62924d818c478421df101911",
       "tabbable": null,
       "tooltip": null
      }
     },
     "9f27ce5f63484d688ee419cfa0ddffab": {
      "model_module": "@jupyter-widgets/controls",
      "model_module_version": "2.0.0",
      "model_name": "HTMLStyleModel",
      "state": {
       "_model_module": "@jupyter-widgets/controls",
       "_model_module_version": "2.0.0",
       "_model_name": "HTMLStyleModel",
       "_view_count": null,
       "_view_module": "@jupyter-widgets/base",
       "_view_module_version": "2.0.0",
       "_view_name": "StyleView",
       "background": null,
       "description_width": "",
       "font_size": null,
       "text_color": null
      }
     },
     "9fe69b20874c4a0a913768c00047e075": {
      "model_module": "@jupyter-widgets/controls",
      "model_module_version": "2.0.0",
      "model_name": "FloatProgressModel",
      "state": {
       "_dom_classes": [],
       "_model_module": "@jupyter-widgets/controls",
       "_model_module_version": "2.0.0",
       "_model_name": "FloatProgressModel",
       "_view_count": null,
       "_view_module": "@jupyter-widgets/controls",
       "_view_module_version": "2.0.0",
       "_view_name": "ProgressView",
       "bar_style": "success",
       "description": "",
       "description_allow_html": false,
       "layout": "IPY_MODEL_19b5046282fc451db49672d338049282",
       "max": 112.0,
       "min": 0.0,
       "orientation": "horizontal",
       "style": "IPY_MODEL_b6df14395cdd4221b734aea2682468f3",
       "tabbable": null,
       "tooltip": null,
       "value": 112.0
      }
     },
     "a1c56bb6da684821bc7f0ce2a7874011": {
      "model_module": "@jupyter-widgets/base",
      "model_module_version": "2.0.0",
      "model_name": "LayoutModel",
      "state": {
       "_model_module": "@jupyter-widgets/base",
       "_model_module_version": "2.0.0",
       "_model_name": "LayoutModel",
       "_view_count": null,
       "_view_module": "@jupyter-widgets/base",
       "_view_module_version": "2.0.0",
       "_view_name": "LayoutView",
       "align_content": null,
       "align_items": null,
       "align_self": null,
       "border_bottom": null,
       "border_left": null,
       "border_right": null,
       "border_top": null,
       "bottom": null,
       "display": null,
       "flex": null,
       "flex_flow": null,
       "grid_area": null,
       "grid_auto_columns": null,
       "grid_auto_flow": null,
       "grid_auto_rows": null,
       "grid_column": null,
       "grid_gap": null,
       "grid_row": null,
       "grid_template_areas": null,
       "grid_template_columns": null,
       "grid_template_rows": null,
       "height": null,
       "justify_content": null,
       "justify_items": null,
       "left": null,
       "margin": null,
       "max_height": null,
       "max_width": null,
       "min_height": null,
       "min_width": null,
       "object_fit": null,
       "object_position": null,
       "order": null,
       "overflow": null,
       "padding": null,
       "right": null,
       "top": null,
       "visibility": null,
       "width": null
      }
     },
     "a55940f7bf314206a7a36dbdee2dcbee": {
      "model_module": "@jupyter-widgets/controls",
      "model_module_version": "2.0.0",
      "model_name": "HTMLStyleModel",
      "state": {
       "_model_module": "@jupyter-widgets/controls",
       "_model_module_version": "2.0.0",
       "_model_name": "HTMLStyleModel",
       "_view_count": null,
       "_view_module": "@jupyter-widgets/base",
       "_view_module_version": "2.0.0",
       "_view_name": "StyleView",
       "background": null,
       "description_width": "",
       "font_size": null,
       "text_color": null
      }
     },
     "a8541d4ee871454b9a35536d3086c611": {
      "model_module": "@jupyter-widgets/base",
      "model_module_version": "2.0.0",
      "model_name": "LayoutModel",
      "state": {
       "_model_module": "@jupyter-widgets/base",
       "_model_module_version": "2.0.0",
       "_model_name": "LayoutModel",
       "_view_count": null,
       "_view_module": "@jupyter-widgets/base",
       "_view_module_version": "2.0.0",
       "_view_name": "LayoutView",
       "align_content": null,
       "align_items": null,
       "align_self": null,
       "border_bottom": null,
       "border_left": null,
       "border_right": null,
       "border_top": null,
       "bottom": null,
       "display": null,
       "flex": null,
       "flex_flow": null,
       "grid_area": null,
       "grid_auto_columns": null,
       "grid_auto_flow": null,
       "grid_auto_rows": null,
       "grid_column": null,
       "grid_gap": null,
       "grid_row": null,
       "grid_template_areas": null,
       "grid_template_columns": null,
       "grid_template_rows": null,
       "height": null,
       "justify_content": null,
       "justify_items": null,
       "left": null,
       "margin": null,
       "max_height": null,
       "max_width": null,
       "min_height": null,
       "min_width": null,
       "object_fit": null,
       "object_position": null,
       "order": null,
       "overflow": null,
       "padding": null,
       "right": null,
       "top": null,
       "visibility": null,
       "width": null
      }
     },
     "a99d630ed51e462aa637561bbce8c197": {
      "model_module": "@jupyter-widgets/controls",
      "model_module_version": "2.0.0",
      "model_name": "ProgressStyleModel",
      "state": {
       "_model_module": "@jupyter-widgets/controls",
       "_model_module_version": "2.0.0",
       "_model_name": "ProgressStyleModel",
       "_view_count": null,
       "_view_module": "@jupyter-widgets/base",
       "_view_module_version": "2.0.0",
       "_view_name": "StyleView",
       "bar_color": null,
       "description_width": ""
      }
     },
     "aa20583aa3234c47bf4dfecc5b10acc2": {
      "model_module": "@jupyter-widgets/controls",
      "model_module_version": "2.0.0",
      "model_name": "ProgressStyleModel",
      "state": {
       "_model_module": "@jupyter-widgets/controls",
       "_model_module_version": "2.0.0",
       "_model_name": "ProgressStyleModel",
       "_view_count": null,
       "_view_module": "@jupyter-widgets/base",
       "_view_module_version": "2.0.0",
       "_view_name": "StyleView",
       "bar_color": null,
       "description_width": ""
      }
     },
     "ac4cacfb4ba9487bb7e63b2ba68b5b60": {
      "model_module": "@jupyter-widgets/base",
      "model_module_version": "2.0.0",
      "model_name": "LayoutModel",
      "state": {
       "_model_module": "@jupyter-widgets/base",
       "_model_module_version": "2.0.0",
       "_model_name": "LayoutModel",
       "_view_count": null,
       "_view_module": "@jupyter-widgets/base",
       "_view_module_version": "2.0.0",
       "_view_name": "LayoutView",
       "align_content": null,
       "align_items": null,
       "align_self": null,
       "border_bottom": null,
       "border_left": null,
       "border_right": null,
       "border_top": null,
       "bottom": null,
       "display": null,
       "flex": null,
       "flex_flow": null,
       "grid_area": null,
       "grid_auto_columns": null,
       "grid_auto_flow": null,
       "grid_auto_rows": null,
       "grid_column": null,
       "grid_gap": null,
       "grid_row": null,
       "grid_template_areas": null,
       "grid_template_columns": null,
       "grid_template_rows": null,
       "height": null,
       "justify_content": null,
       "justify_items": null,
       "left": null,
       "margin": null,
       "max_height": null,
       "max_width": null,
       "min_height": null,
       "min_width": null,
       "object_fit": null,
       "object_position": null,
       "order": null,
       "overflow": null,
       "padding": null,
       "right": null,
       "top": null,
       "visibility": null,
       "width": null
      }
     },
     "b0b5acd1b9414fa1afd4b41d6b11b50b": {
      "model_module": "@jupyter-widgets/base",
      "model_module_version": "2.0.0",
      "model_name": "LayoutModel",
      "state": {
       "_model_module": "@jupyter-widgets/base",
       "_model_module_version": "2.0.0",
       "_model_name": "LayoutModel",
       "_view_count": null,
       "_view_module": "@jupyter-widgets/base",
       "_view_module_version": "2.0.0",
       "_view_name": "LayoutView",
       "align_content": null,
       "align_items": null,
       "align_self": null,
       "border_bottom": null,
       "border_left": null,
       "border_right": null,
       "border_top": null,
       "bottom": null,
       "display": null,
       "flex": null,
       "flex_flow": null,
       "grid_area": null,
       "grid_auto_columns": null,
       "grid_auto_flow": null,
       "grid_auto_rows": null,
       "grid_column": null,
       "grid_gap": null,
       "grid_row": null,
       "grid_template_areas": null,
       "grid_template_columns": null,
       "grid_template_rows": null,
       "height": null,
       "justify_content": null,
       "justify_items": null,
       "left": null,
       "margin": null,
       "max_height": null,
       "max_width": null,
       "min_height": null,
       "min_width": null,
       "object_fit": null,
       "object_position": null,
       "order": null,
       "overflow": null,
       "padding": null,
       "right": null,
       "top": null,
       "visibility": null,
       "width": null
      }
     },
     "b38c8d2ad3e244c7b9858782584ac26e": {
      "model_module": "@jupyter-widgets/controls",
      "model_module_version": "2.0.0",
      "model_name": "HTMLModel",
      "state": {
       "_dom_classes": [],
       "_model_module": "@jupyter-widgets/controls",
       "_model_module_version": "2.0.0",
       "_model_name": "HTMLModel",
       "_view_count": null,
       "_view_module": "@jupyter-widgets/controls",
       "_view_module_version": "2.0.0",
       "_view_name": "HTMLView",
       "description": "",
       "description_allow_html": false,
       "layout": "IPY_MODEL_dac7cfbba131416a848a2530fec87014",
       "placeholder": "​",
       "style": "IPY_MODEL_7889d6cb495a481cb489057cf196020a",
       "tabbable": null,
       "tooltip": null,
       "value": "Map: 100%"
      }
     },
     "b6df14395cdd4221b734aea2682468f3": {
      "model_module": "@jupyter-widgets/controls",
      "model_module_version": "2.0.0",
      "model_name": "ProgressStyleModel",
      "state": {
       "_model_module": "@jupyter-widgets/controls",
       "_model_module_version": "2.0.0",
       "_model_name": "ProgressStyleModel",
       "_view_count": null,
       "_view_module": "@jupyter-widgets/base",
       "_view_module_version": "2.0.0",
       "_view_name": "StyleView",
       "bar_color": null,
       "description_width": ""
      }
     },
     "c12f4a9e7778455d98516b1c921983d7": {
      "model_module": "@jupyter-widgets/base",
      "model_module_version": "2.0.0",
      "model_name": "LayoutModel",
      "state": {
       "_model_module": "@jupyter-widgets/base",
       "_model_module_version": "2.0.0",
       "_model_name": "LayoutModel",
       "_view_count": null,
       "_view_module": "@jupyter-widgets/base",
       "_view_module_version": "2.0.0",
       "_view_name": "LayoutView",
       "align_content": null,
       "align_items": null,
       "align_self": null,
       "border_bottom": null,
       "border_left": null,
       "border_right": null,
       "border_top": null,
       "bottom": null,
       "display": null,
       "flex": null,
       "flex_flow": null,
       "grid_area": null,
       "grid_auto_columns": null,
       "grid_auto_flow": null,
       "grid_auto_rows": null,
       "grid_column": null,
       "grid_gap": null,
       "grid_row": null,
       "grid_template_areas": null,
       "grid_template_columns": null,
       "grid_template_rows": null,
       "height": null,
       "justify_content": null,
       "justify_items": null,
       "left": null,
       "margin": null,
       "max_height": null,
       "max_width": null,
       "min_height": null,
       "min_width": null,
       "object_fit": null,
       "object_position": null,
       "order": null,
       "overflow": null,
       "padding": null,
       "right": null,
       "top": null,
       "visibility": null,
       "width": null
      }
     },
     "c36010f390e841c5906f5ac73f673a58": {
      "model_module": "@jupyter-widgets/controls",
      "model_module_version": "2.0.0",
      "model_name": "HTMLStyleModel",
      "state": {
       "_model_module": "@jupyter-widgets/controls",
       "_model_module_version": "2.0.0",
       "_model_name": "HTMLStyleModel",
       "_view_count": null,
       "_view_module": "@jupyter-widgets/base",
       "_view_module_version": "2.0.0",
       "_view_name": "StyleView",
       "background": null,
       "description_width": "",
       "font_size": null,
       "text_color": null
      }
     },
     "c874bd0bb101446ab620ec4b964970e6": {
      "model_module": "@jupyter-widgets/controls",
      "model_module_version": "2.0.0",
      "model_name": "HTMLModel",
      "state": {
       "_dom_classes": [],
       "_model_module": "@jupyter-widgets/controls",
       "_model_module_version": "2.0.0",
       "_model_name": "HTMLModel",
       "_view_count": null,
       "_view_module": "@jupyter-widgets/controls",
       "_view_module_version": "2.0.0",
       "_view_name": "HTMLView",
       "description": "",
       "description_allow_html": false,
       "layout": "IPY_MODEL_317f3ad0232340ea87c26c1472e10499",
       "placeholder": "​",
       "style": "IPY_MODEL_8265cd30fed6498f94886366e7643e46",
       "tabbable": null,
       "tooltip": null,
       "value": "vocab.txt: 100%"
      }
     },
     "d2611ae3637d457887e0725a62b303b9": {
      "model_module": "@jupyter-widgets/controls",
      "model_module_version": "2.0.0",
      "model_name": "FloatProgressModel",
      "state": {
       "_dom_classes": [],
       "_model_module": "@jupyter-widgets/controls",
       "_model_module_version": "2.0.0",
       "_model_name": "FloatProgressModel",
       "_view_count": null,
       "_view_module": "@jupyter-widgets/controls",
       "_view_module_version": "2.0.0",
       "_view_name": "ProgressView",
       "bar_style": "danger",
       "description": "",
       "description_allow_html": false,
       "layout": "IPY_MODEL_63caa87d77884db0a70ac49f24e52e92",
       "max": 1000000.0,
       "min": 0.0,
       "orientation": "horizontal",
       "style": "IPY_MODEL_237826b154a545648ec2b6dc95ef2e30",
       "tabbable": null,
       "tooltip": null,
       "value": 2.0
      }
     },
     "d43c919f62924d818c478421df101911": {
      "model_module": "@jupyter-widgets/base",
      "model_module_version": "2.0.0",
      "model_name": "LayoutModel",
      "state": {
       "_model_module": "@jupyter-widgets/base",
       "_model_module_version": "2.0.0",
       "_model_name": "LayoutModel",
       "_view_count": null,
       "_view_module": "@jupyter-widgets/base",
       "_view_module_version": "2.0.0",
       "_view_name": "LayoutView",
       "align_content": null,
       "align_items": null,
       "align_self": null,
       "border_bottom": null,
       "border_left": null,
       "border_right": null,
       "border_top": null,
       "bottom": null,
       "display": null,
       "flex": null,
       "flex_flow": null,
       "grid_area": null,
       "grid_auto_columns": null,
       "grid_auto_flow": null,
       "grid_auto_rows": null,
       "grid_column": null,
       "grid_gap": null,
       "grid_row": null,
       "grid_template_areas": null,
       "grid_template_columns": null,
       "grid_template_rows": null,
       "height": null,
       "justify_content": null,
       "justify_items": null,
       "left": null,
       "margin": null,
       "max_height": null,
       "max_width": null,
       "min_height": null,
       "min_width": null,
       "object_fit": null,
       "object_position": null,
       "order": null,
       "overflow": null,
       "padding": null,
       "right": null,
       "top": null,
       "visibility": null,
       "width": null
      }
     },
     "dac7cfbba131416a848a2530fec87014": {
      "model_module": "@jupyter-widgets/base",
      "model_module_version": "2.0.0",
      "model_name": "LayoutModel",
      "state": {
       "_model_module": "@jupyter-widgets/base",
       "_model_module_version": "2.0.0",
       "_model_name": "LayoutModel",
       "_view_count": null,
       "_view_module": "@jupyter-widgets/base",
       "_view_module_version": "2.0.0",
       "_view_name": "LayoutView",
       "align_content": null,
       "align_items": null,
       "align_self": null,
       "border_bottom": null,
       "border_left": null,
       "border_right": null,
       "border_top": null,
       "bottom": null,
       "display": null,
       "flex": null,
       "flex_flow": null,
       "grid_area": null,
       "grid_auto_columns": null,
       "grid_auto_flow": null,
       "grid_auto_rows": null,
       "grid_column": null,
       "grid_gap": null,
       "grid_row": null,
       "grid_template_areas": null,
       "grid_template_columns": null,
       "grid_template_rows": null,
       "height": null,
       "justify_content": null,
       "justify_items": null,
       "left": null,
       "margin": null,
       "max_height": null,
       "max_width": null,
       "min_height": null,
       "min_width": null,
       "object_fit": null,
       "object_position": null,
       "order": null,
       "overflow": null,
       "padding": null,
       "right": null,
       "top": null,
       "visibility": null,
       "width": null
      }
     },
     "db6a29fc6075405fb748266265027756": {
      "model_module": "@jupyter-widgets/base",
      "model_module_version": "2.0.0",
      "model_name": "LayoutModel",
      "state": {
       "_model_module": "@jupyter-widgets/base",
       "_model_module_version": "2.0.0",
       "_model_name": "LayoutModel",
       "_view_count": null,
       "_view_module": "@jupyter-widgets/base",
       "_view_module_version": "2.0.0",
       "_view_name": "LayoutView",
       "align_content": null,
       "align_items": null,
       "align_self": null,
       "border_bottom": null,
       "border_left": null,
       "border_right": null,
       "border_top": null,
       "bottom": null,
       "display": null,
       "flex": null,
       "flex_flow": null,
       "grid_area": null,
       "grid_auto_columns": null,
       "grid_auto_flow": null,
       "grid_auto_rows": null,
       "grid_column": null,
       "grid_gap": null,
       "grid_row": null,
       "grid_template_areas": null,
       "grid_template_columns": null,
       "grid_template_rows": null,
       "height": null,
       "justify_content": null,
       "justify_items": null,
       "left": null,
       "margin": null,
       "max_height": null,
       "max_width": null,
       "min_height": null,
       "min_width": null,
       "object_fit": null,
       "object_position": null,
       "order": null,
       "overflow": null,
       "padding": null,
       "right": null,
       "top": null,
       "visibility": null,
       "width": null
      }
     },
     "dd0e27999b414c998108a5c9846ce896": {
      "model_module": "@jupyter-widgets/base",
      "model_module_version": "2.0.0",
      "model_name": "LayoutModel",
      "state": {
       "_model_module": "@jupyter-widgets/base",
       "_model_module_version": "2.0.0",
       "_model_name": "LayoutModel",
       "_view_count": null,
       "_view_module": "@jupyter-widgets/base",
       "_view_module_version": "2.0.0",
       "_view_name": "LayoutView",
       "align_content": null,
       "align_items": null,
       "align_self": null,
       "border_bottom": null,
       "border_left": null,
       "border_right": null,
       "border_top": null,
       "bottom": null,
       "display": null,
       "flex": null,
       "flex_flow": null,
       "grid_area": null,
       "grid_auto_columns": null,
       "grid_auto_flow": null,
       "grid_auto_rows": null,
       "grid_column": null,
       "grid_gap": null,
       "grid_row": null,
       "grid_template_areas": null,
       "grid_template_columns": null,
       "grid_template_rows": null,
       "height": null,
       "justify_content": null,
       "justify_items": null,
       "left": null,
       "margin": null,
       "max_height": null,
       "max_width": null,
       "min_height": null,
       "min_width": null,
       "object_fit": null,
       "object_position": null,
       "order": null,
       "overflow": null,
       "padding": null,
       "right": null,
       "top": null,
       "visibility": null,
       "width": null
      }
     },
     "e1155d1896ae4290893fcb9846cec91c": {
      "model_module": "@jupyter-widgets/base",
      "model_module_version": "2.0.0",
      "model_name": "LayoutModel",
      "state": {
       "_model_module": "@jupyter-widgets/base",
       "_model_module_version": "2.0.0",
       "_model_name": "LayoutModel",
       "_view_count": null,
       "_view_module": "@jupyter-widgets/base",
       "_view_module_version": "2.0.0",
       "_view_name": "LayoutView",
       "align_content": null,
       "align_items": null,
       "align_self": null,
       "border_bottom": null,
       "border_left": null,
       "border_right": null,
       "border_top": null,
       "bottom": null,
       "display": null,
       "flex": null,
       "flex_flow": null,
       "grid_area": null,
       "grid_auto_columns": null,
       "grid_auto_flow": null,
       "grid_auto_rows": null,
       "grid_column": null,
       "grid_gap": null,
       "grid_row": null,
       "grid_template_areas": null,
       "grid_template_columns": null,
       "grid_template_rows": null,
       "height": null,
       "justify_content": null,
       "justify_items": null,
       "left": null,
       "margin": null,
       "max_height": null,
       "max_width": null,
       "min_height": null,
       "min_width": null,
       "object_fit": null,
       "object_position": null,
       "order": null,
       "overflow": null,
       "padding": null,
       "right": null,
       "top": null,
       "visibility": null,
       "width": null
      }
     },
     "e29a02c683b84331a52d3f05beb77400": {
      "model_module": "@jupyter-widgets/controls",
      "model_module_version": "2.0.0",
      "model_name": "ProgressStyleModel",
      "state": {
       "_model_module": "@jupyter-widgets/controls",
       "_model_module_version": "2.0.0",
       "_model_name": "ProgressStyleModel",
       "_view_count": null,
       "_view_module": "@jupyter-widgets/base",
       "_view_module_version": "2.0.0",
       "_view_name": "StyleView",
       "bar_color": null,
       "description_width": ""
      }
     },
     "e37fdfb9c13e466ba941a236bbbb7801": {
      "model_module": "@jupyter-widgets/base",
      "model_module_version": "2.0.0",
      "model_name": "LayoutModel",
      "state": {
       "_model_module": "@jupyter-widgets/base",
       "_model_module_version": "2.0.0",
       "_model_name": "LayoutModel",
       "_view_count": null,
       "_view_module": "@jupyter-widgets/base",
       "_view_module_version": "2.0.0",
       "_view_name": "LayoutView",
       "align_content": null,
       "align_items": null,
       "align_self": null,
       "border_bottom": null,
       "border_left": null,
       "border_right": null,
       "border_top": null,
       "bottom": null,
       "display": null,
       "flex": null,
       "flex_flow": null,
       "grid_area": null,
       "grid_auto_columns": null,
       "grid_auto_flow": null,
       "grid_auto_rows": null,
       "grid_column": null,
       "grid_gap": null,
       "grid_row": null,
       "grid_template_areas": null,
       "grid_template_columns": null,
       "grid_template_rows": null,
       "height": null,
       "justify_content": null,
       "justify_items": null,
       "left": null,
       "margin": null,
       "max_height": null,
       "max_width": null,
       "min_height": null,
       "min_width": null,
       "object_fit": null,
       "object_position": null,
       "order": null,
       "overflow": null,
       "padding": null,
       "right": null,
       "top": null,
       "visibility": null,
       "width": null
      }
     },
     "e63524a750fb41b28c126fee8cb4fda9": {
      "model_module": "@jupyter-widgets/controls",
      "model_module_version": "2.0.0",
      "model_name": "HTMLStyleModel",
      "state": {
       "_model_module": "@jupyter-widgets/controls",
       "_model_module_version": "2.0.0",
       "_model_name": "HTMLStyleModel",
       "_view_count": null,
       "_view_module": "@jupyter-widgets/base",
       "_view_module_version": "2.0.0",
       "_view_name": "StyleView",
       "background": null,
       "description_width": "",
       "font_size": null,
       "text_color": null
      }
     },
     "e9305e6b5c1044e1bd133011573bfdb3": {
      "model_module": "@jupyter-widgets/controls",
      "model_module_version": "2.0.0",
      "model_name": "HTMLStyleModel",
      "state": {
       "_model_module": "@jupyter-widgets/controls",
       "_model_module_version": "2.0.0",
       "_model_name": "HTMLStyleModel",
       "_view_count": null,
       "_view_module": "@jupyter-widgets/base",
       "_view_module_version": "2.0.0",
       "_view_name": "StyleView",
       "background": null,
       "description_width": "",
       "font_size": null,
       "text_color": null
      }
     },
     "e9b64937263a404e82061e199cc00c27": {
      "model_module": "@jupyter-widgets/controls",
      "model_module_version": "2.0.0",
      "model_name": "HTMLStyleModel",
      "state": {
       "_model_module": "@jupyter-widgets/controls",
       "_model_module_version": "2.0.0",
       "_model_name": "HTMLStyleModel",
       "_view_count": null,
       "_view_module": "@jupyter-widgets/base",
       "_view_module_version": "2.0.0",
       "_view_name": "StyleView",
       "background": null,
       "description_width": "",
       "font_size": null,
       "text_color": null
      }
     },
     "e9f81bec0f854099bff892210516fd89": {
      "model_module": "@jupyter-widgets/controls",
      "model_module_version": "2.0.0",
      "model_name": "HTMLModel",
      "state": {
       "_dom_classes": [],
       "_model_module": "@jupyter-widgets/controls",
       "_model_module_version": "2.0.0",
       "_model_name": "HTMLModel",
       "_view_count": null,
       "_view_module": "@jupyter-widgets/controls",
       "_view_module_version": "2.0.0",
       "_view_name": "HTMLView",
       "description": "",
       "description_allow_html": false,
       "layout": "IPY_MODEL_16191970e77543019a4bb231bf57be29",
       "placeholder": "​",
       "style": "IPY_MODEL_e9305e6b5c1044e1bd133011573bfdb3",
       "tabbable": null,
       "tooltip": null,
       "value": " 232k/232k [00:00&lt;00:00, 6.32MB/s]"
      }
     },
     "eb178f651be24165a32fae82853b39ca": {
      "model_module": "@jupyter-widgets/controls",
      "model_module_version": "2.0.0",
      "model_name": "FloatProgressModel",
      "state": {
       "_dom_classes": [],
       "_model_module": "@jupyter-widgets/controls",
       "_model_module_version": "2.0.0",
       "_model_name": "FloatProgressModel",
       "_view_count": null,
       "_view_module": "@jupyter-widgets/controls",
       "_view_module_version": "2.0.0",
       "_view_name": "ProgressView",
       "bar_style": "success",
       "description": "",
       "description_allow_html": false,
       "layout": "IPY_MODEL_fd73ad02d6cf4f5391c818374db74e44",
       "max": 252.0,
       "min": 0.0,
       "orientation": "horizontal",
       "style": "IPY_MODEL_e29a02c683b84331a52d3f05beb77400",
       "tabbable": null,
       "tooltip": null,
       "value": 252.0
      }
     },
     "ee189ddb476541ed8865febb2b4a0e78": {
      "model_module": "@jupyter-widgets/controls",
      "model_module_version": "2.0.0",
      "model_name": "HTMLModel",
      "state": {
       "_dom_classes": [],
       "_model_module": "@jupyter-widgets/controls",
       "_model_module_version": "2.0.0",
       "_model_name": "HTMLModel",
       "_view_count": null,
       "_view_module": "@jupyter-widgets/controls",
       "_view_module_version": "2.0.0",
       "_view_name": "HTMLView",
       "description": "",
       "description_allow_html": false,
       "layout": "IPY_MODEL_e1155d1896ae4290893fcb9846cec91c",
       "placeholder": "​",
       "style": "IPY_MODEL_e9b64937263a404e82061e199cc00c27",
       "tabbable": null,
       "tooltip": null,
       "value": " 758/758 [00:00&lt;00:00, 84.4kB/s]"
      }
     },
     "f849421b7bb248198ea0dcd1e1a1566b": {
      "model_module": "@jupyter-widgets/controls",
      "model_module_version": "2.0.0",
      "model_name": "HTMLModel",
      "state": {
       "_dom_classes": [],
       "_model_module": "@jupyter-widgets/controls",
       "_model_module_version": "2.0.0",
       "_model_name": "HTMLModel",
       "_view_count": null,
       "_view_module": "@jupyter-widgets/controls",
       "_view_module_version": "2.0.0",
       "_view_name": "HTMLView",
       "description": "",
       "description_allow_html": false,
       "layout": "IPY_MODEL_c12f4a9e7778455d98516b1c921983d7",
       "placeholder": "​",
       "style": "IPY_MODEL_64015cf0961f446fbfca0263964e1e79",
       "tabbable": null,
       "tooltip": null,
       "value": " 112/112 [00:00&lt;00:00, 12.8kB/s]"
      }
     },
     "f91a982a8ba74179b5ba75eb8967e9fb": {
      "model_module": "@jupyter-widgets/controls",
      "model_module_version": "2.0.0",
      "model_name": "FloatProgressModel",
      "state": {
       "_dom_classes": [],
       "_model_module": "@jupyter-widgets/controls",
       "_model_module_version": "2.0.0",
       "_model_name": "FloatProgressModel",
       "_view_count": null,
       "_view_module": "@jupyter-widgets/controls",
       "_view_module_version": "2.0.0",
       "_view_name": "ProgressView",
       "bar_style": "success",
       "description": "",
       "description_allow_html": false,
       "layout": "IPY_MODEL_4f6f6061e3124f10b6a731f99571ab1f",
       "max": 231508.0,
       "min": 0.0,
       "orientation": "horizontal",
       "style": "IPY_MODEL_01763fcf03574401b56aba45ee049aa5",
       "tabbable": null,
       "tooltip": null,
       "value": 231508.0
      }
     },
     "fd73ad02d6cf4f5391c818374db74e44": {
      "model_module": "@jupyter-widgets/base",
      "model_module_version": "2.0.0",
      "model_name": "LayoutModel",
      "state": {
       "_model_module": "@jupyter-widgets/base",
       "_model_module_version": "2.0.0",
       "_model_name": "LayoutModel",
       "_view_count": null,
       "_view_module": "@jupyter-widgets/base",
       "_view_module_version": "2.0.0",
       "_view_name": "LayoutView",
       "align_content": null,
       "align_items": null,
       "align_self": null,
       "border_bottom": null,
       "border_left": null,
       "border_right": null,
       "border_top": null,
       "bottom": null,
       "display": null,
       "flex": null,
       "flex_flow": null,
       "grid_area": null,
       "grid_auto_columns": null,
       "grid_auto_flow": null,
       "grid_auto_rows": null,
       "grid_column": null,
       "grid_gap": null,
       "grid_row": null,
       "grid_template_areas": null,
       "grid_template_columns": null,
       "grid_template_rows": null,
       "height": null,
       "justify_content": null,
       "justify_items": null,
       "left": null,
       "margin": null,
       "max_height": null,
       "max_width": null,
       "min_height": null,
       "min_width": null,
       "object_fit": null,
       "object_position": null,
       "order": null,
       "overflow": null,
       "padding": null,
       "right": null,
       "top": null,
       "visibility": null,
       "width": null
      }
     },
     "ffcefc124a3c45368ab3799ef7616900": {
      "model_module": "@jupyter-widgets/controls",
      "model_module_version": "2.0.0",
      "model_name": "HTMLModel",
      "state": {
       "_dom_classes": [],
       "_model_module": "@jupyter-widgets/controls",
       "_model_module_version": "2.0.0",
       "_model_name": "HTMLModel",
       "_view_count": null,
       "_view_module": "@jupyter-widgets/controls",
       "_view_module_version": "2.0.0",
       "_view_name": "HTMLView",
       "description": "",
       "description_allow_html": false,
       "layout": "IPY_MODEL_5e23ab8605644dc082ac8e1c4df2bc9b",
       "placeholder": "​",
       "style": "IPY_MODEL_c36010f390e841c5906f5ac73f673a58",
       "tabbable": null,
       "tooltip": null,
       "value": "tokenizer_config.json: 100%"
      }
     }
    },
    "version_major": 2,
    "version_minor": 0
   }
  }
 },
 "nbformat": 4,
 "nbformat_minor": 5
}
