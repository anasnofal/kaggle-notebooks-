{
 "cells": [
  {
   "cell_type": "code",
   "execution_count": 1,
   "id": "43d36c62",
   "metadata": {
    "_cell_guid": "b1076dfc-b9ad-4769-8c92-a6c4dae69d19",
    "_uuid": "8f2839f25d086af736a60e9eeb907d3b93b6e0e5",
    "execution": {
     "iopub.execute_input": "2025-10-22T19:37:43.680054Z",
     "iopub.status.busy": "2025-10-22T19:37:43.679805Z",
     "iopub.status.idle": "2025-10-22T19:38:00.541063Z",
     "shell.execute_reply": "2025-10-22T19:38:00.540139Z"
    },
    "papermill": {
     "duration": 16.871318,
     "end_time": "2025-10-22T19:38:00.542665",
     "exception": false,
     "start_time": "2025-10-22T19:37:43.671347",
     "status": "completed"
    },
    "tags": []
   },
   "outputs": [
    {
     "name": "stdout",
     "output_type": "stream",
     "text": [
      "env: TOKENIZERS_PARALLELISM=false\n",
      "env: WANDB_DISABLED=true\n"
     ]
    }
   ],
   "source": [
    "%env TOKENIZERS_PARALLELISM=false\n",
    "%env WANDB_DISABLED=true\n",
    "import numpy as np\n",
    "import pandas as pd\n",
    "\n",
    "from sklearn.preprocessing import LabelEncoder\n",
    "from sklearn.model_selection import train_test_split\n",
    "\n",
    "from transformers import (\n",
    "    AutoTokenizer, \n",
    "    AutoModel, \n",
    "    AdamW, \n",
    "    AutoConfig, \n",
    "    DataCollatorWithPadding,\n",
    "    TrainingArguments,\n",
    "    Trainer,\n",
    "    AutoModelForSequenceClassification\n",
    ")\n",
    "\n",
    "from datasets import Dataset\n",
    "\n",
    "import torch\n",
    "import torch.nn as nn\n",
    "from tqdm.auto import tqdm\n",
    "from torch.utils.data import DataLoader"
   ]
  },
  {
   "cell_type": "code",
   "execution_count": 2,
   "id": "695da839",
   "metadata": {
    "execution": {
     "iopub.execute_input": "2025-10-22T19:38:00.557824Z",
     "iopub.status.busy": "2025-10-22T19:38:00.557289Z",
     "iopub.status.idle": "2025-10-22T19:38:00.560813Z",
     "shell.execute_reply": "2025-10-22T19:38:00.560005Z"
    },
    "papermill": {
     "duration": 0.012023,
     "end_time": "2025-10-22T19:38:00.561996",
     "exception": false,
     "start_time": "2025-10-22T19:38:00.549973",
     "status": "completed"
    },
    "tags": []
   },
   "outputs": [],
   "source": [
    "class args:\n",
    "    model = 'ProsusAI/finbert'"
   ]
  },
  {
   "cell_type": "code",
   "execution_count": 3,
   "id": "41afaeae",
   "metadata": {
    "execution": {
     "iopub.execute_input": "2025-10-22T19:38:00.576078Z",
     "iopub.status.busy": "2025-10-22T19:38:00.575844Z",
     "iopub.status.idle": "2025-10-22T19:38:02.496105Z",
     "shell.execute_reply": "2025-10-22T19:38:02.495134Z"
    },
    "papermill": {
     "duration": 1.928942,
     "end_time": "2025-10-22T19:38:02.497712",
     "exception": false,
     "start_time": "2025-10-22T19:38:00.568770",
     "status": "completed"
    },
    "tags": []
   },
   "outputs": [],
   "source": [
    "\n",
    "df = pd.read_csv('/kaggle/input/news-sentiment-analysis/news.csv')"
   ]
  },
  {
   "cell_type": "code",
   "execution_count": 4,
   "id": "e77f9df3",
   "metadata": {
    "execution": {
     "iopub.execute_input": "2025-10-22T19:38:02.513065Z",
     "iopub.status.busy": "2025-10-22T19:38:02.512776Z",
     "iopub.status.idle": "2025-10-22T19:38:02.571984Z",
     "shell.execute_reply": "2025-10-22T19:38:02.570990Z"
    },
    "papermill": {
     "duration": 0.068605,
     "end_time": "2025-10-22T19:38:02.573632",
     "exception": false,
     "start_time": "2025-10-22T19:38:02.505027",
     "status": "completed"
    },
    "tags": []
   },
   "outputs": [],
   "source": [
    "df.rename(columns={'sentiment': 'labels', 'news': 'messages'}, inplace=True)\n",
    "\n",
    "# Set date as index\n",
    "df['date'] = pd.to_datetime(df['date'])  # Convert to datetime if necessary\n",
    "df.set_index('date', inplace=True)"
   ]
  },
  {
   "cell_type": "code",
   "execution_count": 5,
   "id": "a9dae387",
   "metadata": {
    "execution": {
     "iopub.execute_input": "2025-10-22T19:38:02.589944Z",
     "iopub.status.busy": "2025-10-22T19:38:02.589689Z",
     "iopub.status.idle": "2025-10-22T19:38:02.663883Z",
     "shell.execute_reply": "2025-10-22T19:38:02.663161Z"
    },
    "papermill": {
     "duration": 0.083652,
     "end_time": "2025-10-22T19:38:02.665156",
     "exception": false,
     "start_time": "2025-10-22T19:38:02.581504",
     "status": "completed"
    },
    "tags": []
   },
   "outputs": [
    {
     "data": {
      "text/plain": [
       "labels\n",
       "0    217443\n",
       "1    210039\n",
       "Name: count, dtype: int64"
      ]
     },
     "execution_count": 5,
     "metadata": {},
     "output_type": "execute_result"
    }
   ],
   "source": [
    "le = LabelEncoder()\n",
    "df['labels'] = le.fit_transform(df['labels'])\n",
    "df['labels'].value_counts()"
   ]
  },
  {
   "cell_type": "code",
   "execution_count": 6,
   "id": "92b1c9a7",
   "metadata": {
    "execution": {
     "iopub.execute_input": "2025-10-22T19:38:02.680760Z",
     "iopub.status.busy": "2025-10-22T19:38:02.680519Z",
     "iopub.status.idle": "2025-10-22T19:38:02.759634Z",
     "shell.execute_reply": "2025-10-22T19:38:02.758869Z"
    },
    "papermill": {
     "duration": 0.088108,
     "end_time": "2025-10-22T19:38:02.761059",
     "exception": false,
     "start_time": "2025-10-22T19:38:02.672951",
     "status": "completed"
    },
    "tags": []
   },
   "outputs": [
    {
     "data": {
      "text/plain": [
       "1586"
      ]
     },
     "execution_count": 6,
     "metadata": {},
     "output_type": "execute_result"
    }
   ],
   "source": [
    "sentences_lengths = np.array(list(map(len, df['messages'])))\n",
    "np.max(sentences_lengths)"
   ]
  },
  {
   "cell_type": "code",
   "execution_count": 7,
   "id": "e0e953c1",
   "metadata": {
    "execution": {
     "iopub.execute_input": "2025-10-22T19:38:02.776893Z",
     "iopub.status.busy": "2025-10-22T19:38:02.776637Z",
     "iopub.status.idle": "2025-10-22T19:38:02.786795Z",
     "shell.execute_reply": "2025-10-22T19:38:02.786161Z"
    },
    "papermill": {
     "duration": 0.019343,
     "end_time": "2025-10-22T19:38:02.788011",
     "exception": false,
     "start_time": "2025-10-22T19:38:02.768668",
     "status": "completed"
    },
    "tags": []
   },
   "outputs": [
    {
     "data": {
      "text/plain": [
       "177"
      ]
     },
     "execution_count": 7,
     "metadata": {},
     "output_type": "execute_result"
    }
   ],
   "source": [
    "MAX_LEN = int(np.ceil(np.percentile(sentences_lengths, 90)))\n",
    "MAX_LEN"
   ]
  },
  {
   "cell_type": "markdown",
   "id": "5a143a36",
   "metadata": {
    "execution": {
     "iopub.execute_input": "2022-03-21T08:54:02.661604Z",
     "iopub.status.busy": "2022-03-21T08:54:02.661079Z",
     "iopub.status.idle": "2022-03-21T08:54:02.674078Z",
     "shell.execute_reply": "2022-03-21T08:54:02.673369Z",
     "shell.execute_reply.started": "2022-03-21T08:54:02.661565Z"
    },
    "papermill": {
     "duration": 0.007187,
     "end_time": "2025-10-22T19:38:02.802462",
     "exception": false,
     "start_time": "2025-10-22T19:38:02.795275",
     "status": "completed"
    },
    "tags": []
   },
   "source": [
    "Now let's split the given data into train, test and validation\n",
    "\n",
    "We will be using the train data to train the mode, the validation data to determiine the performance of the model and the test data to check how the model performs on unseen data\n",
    "\n",
    "We will stratify on the `labels` so that the data remains balanced for train, test and validation data"
   ]
  },
  {
   "cell_type": "code",
   "execution_count": 8,
   "id": "1ec8c1db",
   "metadata": {
    "execution": {
     "iopub.execute_input": "2025-10-22T19:38:02.817166Z",
     "iopub.status.busy": "2025-10-22T19:38:02.816960Z",
     "iopub.status.idle": "2025-10-22T19:38:02.819775Z",
     "shell.execute_reply": "2025-10-22T19:38:02.819141Z"
    },
    "papermill": {
     "duration": 0.01151,
     "end_time": "2025-10-22T19:38:02.820882",
     "exception": false,
     "start_time": "2025-10-22T19:38:02.809372",
     "status": "completed"
    },
    "tags": []
   },
   "outputs": [],
   "source": [
    "# X, y = df['messages'].values, df['labels'].values\n",
    "\n",
    "# # train : test = 0.9 : 0.1\n",
    "# xtrain, xtest, ytrain, ytest = train_test_split(X, y, test_size=0.2, stratify=y)\n",
    "\n",
    "# # train : valid = 0.8 : 0.2\n",
    "# xtrain, xvalid, ytrain, yvalid = train_test_split(xtrain, ytrain, test_size=0.2, stratify=ytrain)\n",
    "\n",
    "# # train : valid : test = 0.72 : 0.18 : 0.10 (stratified on 'labels')"
   ]
  },
  {
   "cell_type": "code",
   "execution_count": 9,
   "id": "7992c977",
   "metadata": {
    "execution": {
     "iopub.execute_input": "2025-10-22T19:38:02.835367Z",
     "iopub.status.busy": "2025-10-22T19:38:02.835166Z",
     "iopub.status.idle": "2025-10-22T19:38:02.838025Z",
     "shell.execute_reply": "2025-10-22T19:38:02.837390Z"
    },
    "papermill": {
     "duration": 0.011318,
     "end_time": "2025-10-22T19:38:02.839202",
     "exception": false,
     "start_time": "2025-10-22T19:38:02.827884",
     "status": "completed"
    },
    "tags": []
   },
   "outputs": [],
   "source": [
    "#df= df.sample(frac=0.001)"
   ]
  },
  {
   "cell_type": "code",
   "execution_count": 10,
   "id": "7ef0dead",
   "metadata": {
    "execution": {
     "iopub.execute_input": "2025-10-22T19:38:02.853987Z",
     "iopub.status.busy": "2025-10-22T19:38:02.853772Z",
     "iopub.status.idle": "2025-10-22T19:38:02.881936Z",
     "shell.execute_reply": "2025-10-22T19:38:02.881286Z"
    },
    "papermill": {
     "duration": 0.036866,
     "end_time": "2025-10-22T19:38:02.883181",
     "exception": false,
     "start_time": "2025-10-22T19:38:02.846315",
     "status": "completed"
    },
    "tags": []
   },
   "outputs": [],
   "source": [
    "df = df.sort_index()\n",
    "\n",
    "total_rows = len(df)\n",
    "train_end = int(total_rows * 0.72)\n",
    "valid_end = train_end + int(total_rows * 0.18)\n",
    "\n",
    "train = df.iloc[:train_end]\n",
    "valid = df.iloc[train_end:valid_end]\n",
    "test = df.iloc[valid_end:]"
   ]
  },
  {
   "cell_type": "code",
   "execution_count": 11,
   "id": "ff2c3c11",
   "metadata": {
    "execution": {
     "iopub.execute_input": "2025-10-22T19:38:02.897729Z",
     "iopub.status.busy": "2025-10-22T19:38:02.897515Z",
     "iopub.status.idle": "2025-10-22T19:38:03.025244Z",
     "shell.execute_reply": "2025-10-22T19:38:03.024492Z"
    },
    "papermill": {
     "duration": 0.136822,
     "end_time": "2025-10-22T19:38:03.026901",
     "exception": false,
     "start_time": "2025-10-22T19:38:02.890079",
     "status": "completed"
    },
    "tags": []
   },
   "outputs": [],
   "source": [
    "# Convert to NumPy arrays\n",
    "X_train = train.drop(columns=['labels']).to_numpy()  # Features for training\n",
    "y_train = train['labels'].to_numpy()                # Target labels for training\n",
    "\n",
    "X_valid = valid.drop(columns=['labels']).to_numpy()  # Features for validation\n",
    "y_valid = valid['labels'].to_numpy()                 # Target labels for validation\n",
    "\n",
    "X_test = test.drop(columns=['labels']).to_numpy()    # Features for testing\n",
    "y_test = test['labels'].to_numpy()"
   ]
  },
  {
   "cell_type": "markdown",
   "id": "44fcadde",
   "metadata": {
    "papermill": {
     "duration": 0.00682,
     "end_time": "2025-10-22T19:38:03.041170",
     "exception": false,
     "start_time": "2025-10-22T19:38:03.034350",
     "status": "completed"
    },
    "tags": []
   },
   "source": [
    "# Dataset"
   ]
  },
  {
   "cell_type": "code",
   "execution_count": 12,
   "id": "b27ccb83",
   "metadata": {
    "execution": {
     "iopub.execute_input": "2025-10-22T19:38:03.056105Z",
     "iopub.status.busy": "2025-10-22T19:38:03.055849Z",
     "iopub.status.idle": "2025-10-22T19:38:12.121050Z",
     "shell.execute_reply": "2025-10-22T19:38:12.120306Z"
    },
    "papermill": {
     "duration": 9.074356,
     "end_time": "2025-10-22T19:38:12.122662",
     "exception": false,
     "start_time": "2025-10-22T19:38:03.048306",
     "status": "completed"
    },
    "tags": []
   },
   "outputs": [],
   "source": [
    "X_train = [str(x) for x in X_train]\n",
    "X_valid = [str(x) for x in X_valid]\n",
    "X_test = [str(x) for x in X_test]"
   ]
  },
  {
   "cell_type": "code",
   "execution_count": 13,
   "id": "fcc14ba7",
   "metadata": {
    "execution": {
     "iopub.execute_input": "2025-10-22T19:38:12.138016Z",
     "iopub.status.busy": "2025-10-22T19:38:12.137717Z",
     "iopub.status.idle": "2025-10-22T19:38:12.959322Z",
     "shell.execute_reply": "2025-10-22T19:38:12.958521Z"
    },
    "papermill": {
     "duration": 0.830525,
     "end_time": "2025-10-22T19:38:12.960651",
     "exception": false,
     "start_time": "2025-10-22T19:38:12.130126",
     "status": "completed"
    },
    "tags": []
   },
   "outputs": [
    {
     "data": {
      "text/plain": [
       "Dataset({\n",
       "    features: ['text'],\n",
       "    num_rows: 42749\n",
       "})"
      ]
     },
     "execution_count": 13,
     "metadata": {},
     "output_type": "execute_result"
    }
   ],
   "source": [
    "train_dataset_raw = Dataset.from_dict({'text':X_train, 'labels':y_train})\n",
    "valid_dataset_raw = Dataset.from_dict({'text':X_valid, 'labels':y_valid})\n",
    "pred_dataset_raw = Dataset.from_dict({'text': X_test})\n",
    "pred_dataset_raw"
   ]
  },
  {
   "cell_type": "code",
   "execution_count": 14,
   "id": "1a64e831",
   "metadata": {
    "execution": {
     "iopub.execute_input": "2025-10-22T19:38:12.975859Z",
     "iopub.status.busy": "2025-10-22T19:38:12.975586Z",
     "iopub.status.idle": "2025-10-22T19:38:12.978934Z",
     "shell.execute_reply": "2025-10-22T19:38:12.978272Z"
    },
    "papermill": {
     "duration": 0.012091,
     "end_time": "2025-10-22T19:38:12.980143",
     "exception": false,
     "start_time": "2025-10-22T19:38:12.968052",
     "status": "completed"
    },
    "tags": []
   },
   "outputs": [],
   "source": [
    "def tokenize_fn(examples):\n",
    "    return tokenizer(examples['text'], truncation=True)"
   ]
  },
  {
   "cell_type": "code",
   "execution_count": 15,
   "id": "66271457",
   "metadata": {
    "execution": {
     "iopub.execute_input": "2025-10-22T19:38:12.995675Z",
     "iopub.status.busy": "2025-10-22T19:38:12.995399Z",
     "iopub.status.idle": "2025-10-22T19:38:13.679619Z",
     "shell.execute_reply": "2025-10-22T19:38:13.678662Z"
    },
    "papermill": {
     "duration": 0.693353,
     "end_time": "2025-10-22T19:38:13.681037",
     "exception": false,
     "start_time": "2025-10-22T19:38:12.987684",
     "status": "completed"
    },
    "tags": []
   },
   "outputs": [
    {
     "data": {
      "application/vnd.jupyter.widget-view+json": {
       "model_id": "2274db7005fd4621a753b481824c45be",
       "version_major": 2,
       "version_minor": 0
      },
      "text/plain": [
       "tokenizer_config.json:   0%|          | 0.00/252 [00:00<?, ?B/s]"
      ]
     },
     "metadata": {},
     "output_type": "display_data"
    },
    {
     "data": {
      "application/vnd.jupyter.widget-view+json": {
       "model_id": "589e74e227da4ead83878e8c612b97d0",
       "version_major": 2,
       "version_minor": 0
      },
      "text/plain": [
       "config.json:   0%|          | 0.00/758 [00:00<?, ?B/s]"
      ]
     },
     "metadata": {},
     "output_type": "display_data"
    },
    {
     "data": {
      "application/vnd.jupyter.widget-view+json": {
       "model_id": "6e6bbd83dc364cc49acb5cab7909bf18",
       "version_major": 2,
       "version_minor": 0
      },
      "text/plain": [
       "vocab.txt: 0.00B [00:00, ?B/s]"
      ]
     },
     "metadata": {},
     "output_type": "display_data"
    },
    {
     "data": {
      "application/vnd.jupyter.widget-view+json": {
       "model_id": "307372f15c09415888a621c1da8ecb01",
       "version_major": 2,
       "version_minor": 0
      },
      "text/plain": [
       "special_tokens_map.json:   0%|          | 0.00/112 [00:00<?, ?B/s]"
      ]
     },
     "metadata": {},
     "output_type": "display_data"
    },
    {
     "name": "stderr",
     "output_type": "stream",
     "text": [
      "/usr/local/lib/python3.10/dist-packages/transformers/tokenization_utils_base.py:1601: FutureWarning: `clean_up_tokenization_spaces` was not set. It will be set to `True` by default. This behavior will be depracted in transformers v4.45, and will be then set to `False` by default. For more details check this issue: https://github.com/huggingface/transformers/issues/31884\n",
      "  warnings.warn(\n"
     ]
    }
   ],
   "source": [
    "tokenizer = AutoTokenizer.from_pretrained(args.model)"
   ]
  },
  {
   "cell_type": "code",
   "execution_count": 16,
   "id": "25849ecd",
   "metadata": {
    "execution": {
     "iopub.execute_input": "2025-10-22T19:38:13.697244Z",
     "iopub.status.busy": "2025-10-22T19:38:13.696989Z",
     "iopub.status.idle": "2025-10-22T19:38:13.701396Z",
     "shell.execute_reply": "2025-10-22T19:38:13.700631Z"
    },
    "papermill": {
     "duration": 0.013881,
     "end_time": "2025-10-22T19:38:13.702786",
     "exception": false,
     "start_time": "2025-10-22T19:38:13.688905",
     "status": "completed"
    },
    "tags": []
   },
   "outputs": [
    {
     "data": {
      "text/plain": [
       "Dataset({\n",
       "    features: ['text', 'labels'],\n",
       "    num_rows: 307787\n",
       "})"
      ]
     },
     "execution_count": 16,
     "metadata": {},
     "output_type": "execute_result"
    }
   ],
   "source": [
    "train_dataset_raw"
   ]
  },
  {
   "cell_type": "code",
   "execution_count": 17,
   "id": "92f6398c",
   "metadata": {
    "execution": {
     "iopub.execute_input": "2025-10-22T19:38:13.718248Z",
     "iopub.status.busy": "2025-10-22T19:38:13.718034Z",
     "iopub.status.idle": "2025-10-22T19:39:14.745195Z",
     "shell.execute_reply": "2025-10-22T19:39:14.744469Z"
    },
    "papermill": {
     "duration": 61.036306,
     "end_time": "2025-10-22T19:39:14.746497",
     "exception": false,
     "start_time": "2025-10-22T19:38:13.710191",
     "status": "completed"
    },
    "tags": []
   },
   "outputs": [
    {
     "data": {
      "application/vnd.jupyter.widget-view+json": {
       "model_id": "87ffd78efe634f50a5b1baf0bdeafafc",
       "version_major": 2,
       "version_minor": 0
      },
      "text/plain": [
       "Map:   0%|          | 0/307787 [00:00<?, ? examples/s]"
      ]
     },
     "metadata": {},
     "output_type": "display_data"
    },
    {
     "data": {
      "application/vnd.jupyter.widget-view+json": {
       "model_id": "36ebdbeb1d6f44d9bd217e11af44071e",
       "version_major": 2,
       "version_minor": 0
      },
      "text/plain": [
       "Map:   0%|          | 0/76946 [00:00<?, ? examples/s]"
      ]
     },
     "metadata": {},
     "output_type": "display_data"
    }
   ],
   "source": [
    "train_dataset = train_dataset_raw.map(tokenize_fn, batched=True)\n",
    "valid_dataset = valid_dataset_raw.map(tokenize_fn, batched=True)\n",
    "\n",
    "data_collator = DataCollatorWithPadding(tokenizer)"
   ]
  },
  {
   "cell_type": "code",
   "execution_count": 18,
   "id": "e66e2e11",
   "metadata": {
    "execution": {
     "iopub.execute_input": "2025-10-22T19:39:14.763069Z",
     "iopub.status.busy": "2025-10-22T19:39:14.762826Z",
     "iopub.status.idle": "2025-10-22T19:39:18.649994Z",
     "shell.execute_reply": "2025-10-22T19:39:18.649169Z"
    },
    "papermill": {
     "duration": 3.896751,
     "end_time": "2025-10-22T19:39:18.651295",
     "exception": false,
     "start_time": "2025-10-22T19:39:14.754544",
     "status": "completed"
    },
    "tags": []
   },
   "outputs": [
    {
     "data": {
      "application/vnd.jupyter.widget-view+json": {
       "model_id": "e8a4e228e4b24371b9fc012c82262945",
       "version_major": 2,
       "version_minor": 0
      },
      "text/plain": [
       "pytorch_model.bin:   0%|          | 0.00/438M [00:00<?, ?B/s]"
      ]
     },
     "metadata": {},
     "output_type": "display_data"
    },
    {
     "name": "stderr",
     "output_type": "stream",
     "text": [
      "Some weights of BertForSequenceClassification were not initialized from the model checkpoint at ProsusAI/finbert and are newly initialized because the shapes did not match:\n",
      "- classifier.weight: found shape torch.Size([3, 768]) in the checkpoint and torch.Size([2, 768]) in the model instantiated\n",
      "- classifier.bias: found shape torch.Size([3]) in the checkpoint and torch.Size([2]) in the model instantiated\n",
      "You should probably TRAIN this model on a down-stream task to be able to use it for predictions and inference.\n"
     ]
    },
    {
     "data": {
      "text/plain": [
       "tensor([0., 0.])"
      ]
     },
     "execution_count": 18,
     "metadata": {},
     "output_type": "execute_result"
    }
   ],
   "source": [
    "from torch.nn.init import xavier_uniform_\n",
    "model = AutoModelForSequenceClassification.from_pretrained(args.model,num_labels=2,ignore_mismatched_sizes=True)\n",
    "\n",
    "\n",
    "# Reinitialize the classification layer\n",
    "xavier_uniform_(model.classifier.weight)\n",
    "model.classifier.bias.data.zero_()"
   ]
  },
  {
   "cell_type": "code",
   "execution_count": 19,
   "id": "621e731c",
   "metadata": {
    "execution": {
     "iopub.execute_input": "2025-10-22T19:39:18.668321Z",
     "iopub.status.busy": "2025-10-22T19:39:18.668013Z",
     "iopub.status.idle": "2025-10-22T19:39:18.866815Z",
     "shell.execute_reply": "2025-10-22T19:39:18.866111Z"
    },
    "papermill": {
     "duration": 0.208618,
     "end_time": "2025-10-22T19:39:18.868267",
     "exception": false,
     "start_time": "2025-10-22T19:39:18.659649",
     "status": "completed"
    },
    "tags": []
   },
   "outputs": [],
   "source": [
    "\n",
    "import optuna\n",
    "import torch\n",
    "from transformers import Trainer, TrainingArguments, AdamW\n",
    "from sklearn.metrics import balanced_accuracy_score, roc_auc_score, f1_score\n",
    "from transformers import get_scheduler\n",
    "\n",
    "def compute_metrics(eval_preds):\n",
    "    logits, labels = eval_preds\n",
    "    predictions = np.argmax(logits, axis=-1)\n",
    "    balanced_acc = balanced_accuracy_score(labels, predictions)\n",
    "    auc = roc_auc_score(labels, predictions, multi_class='ovr')  # Adjust for multi-class\n",
    "    f1 = f1_score(labels, predictions, average='weighted')\n",
    "    return {\n",
    "        \"balanced_accuracy\": balanced_acc,\n",
    "        \"auc\": auc,\n",
    "        \"f1\": f1\n",
    "        }"
   ]
  },
  {
   "cell_type": "code",
   "execution_count": 20,
   "id": "06d97adc",
   "metadata": {
    "execution": {
     "iopub.execute_input": "2025-10-22T19:39:18.886626Z",
     "iopub.status.busy": "2025-10-22T19:39:18.886359Z",
     "iopub.status.idle": "2025-10-23T07:27:39.475689Z",
     "shell.execute_reply": "2025-10-23T07:27:39.474778Z"
    },
    "papermill": {
     "duration": 42500.600095,
     "end_time": "2025-10-23T07:27:39.477018",
     "exception": false,
     "start_time": "2025-10-22T19:39:18.876923",
     "status": "completed"
    },
    "tags": []
   },
   "outputs": [
    {
     "name": "stdout",
     "output_type": "stream",
     "text": [
      "Found file !\n",
      "0.5029949857704297\n"
     ]
    },
    {
     "data": {
      "application/vnd.jupyter.widget-view+json": {
       "model_id": "4bd57171d886442f9bf41485bd656eee",
       "version_major": 2,
       "version_minor": 0
      },
      "text/plain": [
       "  0%|          | 0/1000000 [00:00<?, ?it/s]"
      ]
     },
     "metadata": {},
     "output_type": "display_data"
    },
    {
     "data": {
      "text/html": [
       "\n",
       "    <div>\n",
       "      \n",
       "      <progress value='96185' max='96185' style='width:300px; height:20px; vertical-align: middle;'></progress>\n",
       "      [96185/96185 7:07:46, Epoch 5/5]\n",
       "    </div>\n",
       "    <table border=\"1\" class=\"dataframe\">\n",
       "  <thead>\n",
       " <tr style=\"text-align: left;\">\n",
       "      <th>Epoch</th>\n",
       "      <th>Training Loss</th>\n",
       "      <th>Validation Loss</th>\n",
       "      <th>Balanced Accuracy</th>\n",
       "      <th>Auc</th>\n",
       "      <th>F1</th>\n",
       "    </tr>\n",
       "  </thead>\n",
       "  <tbody>\n",
       "    <tr>\n",
       "      <td>1</td>\n",
       "      <td>0.085800</td>\n",
       "      <td>0.167660</td>\n",
       "      <td>0.943551</td>\n",
       "      <td>0.995009</td>\n",
       "      <td>0.948419</td>\n",
       "    </tr>\n",
       "    <tr>\n",
       "      <td>2</td>\n",
       "      <td>0.079400</td>\n",
       "      <td>0.103805</td>\n",
       "      <td>0.971856</td>\n",
       "      <td>0.997477</td>\n",
       "      <td>0.972994</td>\n",
       "    </tr>\n",
       "    <tr>\n",
       "      <td>3</td>\n",
       "      <td>0.064900</td>\n",
       "      <td>0.112150</td>\n",
       "      <td>0.972129</td>\n",
       "      <td>0.997807</td>\n",
       "      <td>0.973597</td>\n",
       "    </tr>\n",
       "    <tr>\n",
       "      <td>4</td>\n",
       "      <td>0.048300</td>\n",
       "      <td>0.147990</td>\n",
       "      <td>0.970549</td>\n",
       "      <td>0.997816</td>\n",
       "      <td>0.972289</td>\n",
       "    </tr>\n",
       "    <tr>\n",
       "      <td>5</td>\n",
       "      <td>0.035600</td>\n",
       "      <td>0.164798</td>\n",
       "      <td>0.971250</td>\n",
       "      <td>0.997985</td>\n",
       "      <td>0.973109</td>\n",
       "    </tr>\n",
       "  </tbody>\n",
       "</table><p>"
      ],
      "text/plain": [
       "<IPython.core.display.HTML object>"
      ]
     },
     "metadata": {},
     "output_type": "display_data"
    },
    {
     "data": {
      "text/html": [
       "\n",
       "    <div>\n",
       "      \n",
       "      <progress value='2405' max='2405' style='width:300px; height:20px; vertical-align: middle;'></progress>\n",
       "      [2405/2405 04:28]\n",
       "    </div>\n",
       "    "
      ],
      "text/plain": [
       "<IPython.core.display.HTML object>"
      ]
     },
     "metadata": {},
     "output_type": "display_data"
    },
    {
     "data": {
      "text/html": [
       "\n",
       "    <div>\n",
       "      \n",
       "      <progress value='57711' max='57711' style='width:300px; height:20px; vertical-align: middle;'></progress>\n",
       "      [57711/57711 3:31:36, Epoch 3/3]\n",
       "    </div>\n",
       "    <table border=\"1\" class=\"dataframe\">\n",
       "  <thead>\n",
       " <tr style=\"text-align: left;\">\n",
       "      <th>Epoch</th>\n",
       "      <th>Training Loss</th>\n",
       "      <th>Validation Loss</th>\n",
       "      <th>Balanced Accuracy</th>\n",
       "      <th>Auc</th>\n",
       "      <th>F1</th>\n",
       "    </tr>\n",
       "  </thead>\n",
       "  <tbody>\n",
       "    <tr>\n",
       "      <td>1</td>\n",
       "      <td>0.015500</td>\n",
       "      <td>0.115595</td>\n",
       "      <td>0.972592</td>\n",
       "      <td>0.997854</td>\n",
       "      <td>0.973944</td>\n",
       "    </tr>\n",
       "    <tr>\n",
       "      <td>2</td>\n",
       "      <td>0.025500</td>\n",
       "      <td>0.117841</td>\n",
       "      <td>0.972961</td>\n",
       "      <td>0.997883</td>\n",
       "      <td>0.974227</td>\n",
       "    </tr>\n",
       "    <tr>\n",
       "      <td>3</td>\n",
       "      <td>0.015700</td>\n",
       "      <td>0.121875</td>\n",
       "      <td>0.972955</td>\n",
       "      <td>0.997881</td>\n",
       "      <td>0.974273</td>\n",
       "    </tr>\n",
       "  </tbody>\n",
       "</table><p>"
      ],
      "text/plain": [
       "<IPython.core.display.HTML object>"
      ]
     },
     "metadata": {},
     "output_type": "display_data"
    },
    {
     "data": {
      "text/html": [
       "\n",
       "    <div>\n",
       "      \n",
       "      <progress value='2405' max='2405' style='width:300px; height:20px; vertical-align: middle;'></progress>\n",
       "      [2405/2405 04:29]\n",
       "    </div>\n",
       "    "
      ],
      "text/plain": [
       "<IPython.core.display.HTML object>"
      ]
     },
     "metadata": {},
     "output_type": "display_data"
    },
    {
     "data": {
      "text/html": [
       "\n",
       "    <div>\n",
       "      \n",
       "      <progress value='5924' max='24050' style='width:300px; height:20px; vertical-align: middle;'></progress>\n",
       "      [ 5924/24050 59:51 < 3:03:13, 1.65 it/s, Epoch 1.23/5]\n",
       "    </div>\n",
       "    <table border=\"1\" class=\"dataframe\">\n",
       "  <thead>\n",
       " <tr style=\"text-align: left;\">\n",
       "      <th>Epoch</th>\n",
       "      <th>Training Loss</th>\n",
       "      <th>Validation Loss</th>\n",
       "      <th>Balanced Accuracy</th>\n",
       "      <th>Auc</th>\n",
       "      <th>F1</th>\n",
       "    </tr>\n",
       "  </thead>\n",
       "  <tbody>\n",
       "    <tr>\n",
       "      <td>1</td>\n",
       "      <td>0.033000</td>\n",
       "      <td>0.121682</td>\n",
       "      <td>0.972932</td>\n",
       "      <td>0.997882</td>\n",
       "      <td>0.974246</td>\n",
       "    </tr>\n",
       "  </tbody>\n",
       "</table><p>"
      ],
      "text/plain": [
       "<IPython.core.display.HTML object>"
      ]
     },
     "metadata": {},
     "output_type": "display_data"
    }
   ],
   "source": [
    "from transformers import Trainer, TrainingArguments\n",
    "import optuna\n",
    "from optuna.pruners import MedianPruner\n",
    "from optuna.samplers import TPESampler\n",
    "import numpy as np\n",
    "from sklearn.metrics import balanced_accuracy_score, roc_auc_score, f1_score\n",
    "import torch\n",
    "from transformers.integrations import is_optuna_available\n",
    "import joblib\n",
    "\n",
    "\n",
    "# Define a custom compute_metrics function that returns multiple metrics\n",
    "def compute_metrics(pred):\n",
    "    labels = pred.label_ids\n",
    "    preds = pred.predictions.argmax(-1)\n",
    "    \n",
    "    # Convert predictions to probabilities for AUC (for binary classification)\n",
    "    probs = torch.nn.functional.softmax(torch.tensor(pred.predictions), dim=-1).numpy()\n",
    "    \n",
    "    # Calculate metrics\n",
    "    balanced_acc = balanced_accuracy_score(labels, preds)\n",
    "    \n",
    "    # Use the probability of the positive class\n",
    "    auc = roc_auc_score(labels, probs[:, 1])\n",
    "    f1 = f1_score(labels, preds)\n",
    "    \n",
    "    return {\n",
    "        'balanced_accuracy': balanced_acc,\n",
    "        'auc': auc,\n",
    "        'f1': f1\n",
    "    }\n",
    "\n",
    "# Define the objective function for Optuna\n",
    "def objective(trial):\n",
    "    # Define hyperparameters to optimize\n",
    "    batch_size = trial.suggest_categorical(\"batch_size\", [8, 16, 32])\n",
    "    learning_rate = trial.suggest_float(\"learning_rate\", 1e-6, 1e-4, log=True)\n",
    "    weight_decay = trial.suggest_float(\"weight_decay\", 0.005, 0.02)\n",
    "    warmup_ratio = trial.suggest_float(\"warmup_ratio\", 0.05, 0.2)\n",
    "    num_epochs = trial.suggest_int(\"num_epochs\", 2, 8)\n",
    "    \n",
    "    # Optimizer selection\n",
    "    optimizer_name = trial.suggest_categorical(\"optimizer_name\", [ \"adamw_hf\",\"adafactor\", \"sgd\"])\n",
    "    \n",
    "    # Define training arguments\n",
    "    training_args = TrainingArguments(\n",
    "        output_dir=f'/kaggle/Finbert_Trial_{trial.number}/',\n",
    "        per_device_train_batch_size=batch_size,\n",
    "        per_device_eval_batch_size=batch_size*2,\n",
    "        num_train_epochs=num_epochs,\n",
    "        learning_rate=learning_rate,\n",
    "        weight_decay=weight_decay,\n",
    "        warmup_ratio=warmup_ratio,\n",
    "        do_eval=True,\n",
    "        do_train=True,\n",
    "        evaluation_strategy='epoch',\n",
    "        save_strategy=\"epoch\",\n",
    "        load_best_model_at_end=True,\n",
    "        metric_for_best_model='eval_f1',  # Change this to your desired metric\n",
    "        greater_is_better=True,\n",
    "        optim=optimizer_name.lower(),\n",
    "        # ReduceLROnPlateau-like functionality\n",
    "        lr_scheduler_type=\"reduce_lr_on_plateau\",\n",
    "        logging_dir=f'/kaggle/Finbert_Logs_{trial.number}/',\n",
    "        report_to=\"none\",  # Disable wandb, tensorboard etc. during hyperparameter search\n",
    "    )\n",
    "    \n",
    "    # Initialize the Trainer\n",
    "    trainer = Trainer(\n",
    "        model=model,  # Make sure this is already defined in your global scope\n",
    "        args=training_args,\n",
    "        train_dataset=train_dataset,\n",
    "        eval_dataset=valid_dataset,\n",
    "        data_collator=data_collator,\n",
    "        tokenizer=tokenizer,\n",
    "        compute_metrics=compute_metrics,\n",
    "    )\n",
    "    \n",
    "    # Train the model\n",
    "    trainer.train()\n",
    "    \n",
    "    # Evaluate on validation set\n",
    "    eval_result = trainer.evaluate()\n",
    "    try:\n",
    "        joblib.dump(study, 'finbert_optuna_result.pkl')\n",
    "    except Exception as e:\n",
    "        print(\"There is a tiny error with saving. Moving on... \", e)\n",
    "        print(param)\n",
    "\n",
    "    return eval_result[\"eval_f1\"]\n",
    "\n",
    "\n",
    "from stopit import threading_timeoutable as timeoutable\n",
    " \n",
    "@timeoutable()\n",
    "def start():\n",
    "    ### import warnings \n",
    "    import warnings \n",
    "    import optuna\n",
    " \n",
    "    warnings.filterwarnings(\"ignore\")\n",
    " \n",
    "    optuna.logging.set_verbosity(optuna.logging.ERROR)\n",
    "    global study\n",
    "\n",
    "    USE_PREVIOUS_TRIALS=True\n",
    "    \n",
    "    import os\n",
    "    if os.path.isfile('/kaggle/input/finbert-hyper-tuning/finbert_optuna_result.pkl') and USE_PREVIOUS_TRIALS==True:\n",
    "        print(\"Found file !\")\n",
    "        study = joblib.load('/kaggle/input/finbert-hyper-tuning/finbert_optuna_result.pkl')\n",
    "        print(study.best_trial.value)\n",
    "    else:\n",
    "        print(\"STARTING NEW TRAINING\")\n",
    "        sampler = optuna.samplers.TPESampler(multivariate=True, warn_independent_sampling=False)\n",
    "        pruner = MedianPruner(n_startup_trials=5, n_warmup_steps=5)\n",
    "\n",
    "        study = optuna.create_study(direction='maximize', load_if_exists=True,sampler=sampler,pruner=pruner)\n",
    " \n",
    "    study.optimize(objective, n_trials=1_000_000, gc_after_trial=True,\n",
    "                  show_progress_bar=True, n_jobs=1, )\n",
    "    joblib.dump(study, 'finbert_optuna_result.pkl')\n",
    "\n",
    "\n",
    "# # Create the Optuna study\n",
    "# sampler = TPESampler(seed=42)  # For reproducibility\n",
    "# pruner = MedianPruner(n_startup_trials=5, n_warmup_steps=5)\n",
    "\n",
    "# study = optuna.create_study(\n",
    "#     study_name=\"finbert_optimization\",\n",
    "#     direction=\"maximize\",  # We want to maximize our metrics\n",
    "#     sampler=sampler,\n",
    "#     pruner=pruner\n",
    "# )\n",
    "\n",
    "# # Run the optimization\n",
    "# n_trials = 8\n",
    "# study.optimize(objective, n_trials=n_trials)\n",
    "\n",
    " \n",
    "try:\n",
    "    start(timeout=42_500) #42_500\n",
    "except Exception as e:\n",
    "    print(\"Hoba, oshibka !: \", e)\n"
   ]
  },
  {
   "cell_type": "code",
   "execution_count": 21,
   "id": "d7fe29fd",
   "metadata": {
    "execution": {
     "iopub.execute_input": "2025-10-23T07:27:39.495929Z",
     "iopub.status.busy": "2025-10-23T07:27:39.495689Z",
     "iopub.status.idle": "2025-10-23T07:27:39.499347Z",
     "shell.execute_reply": "2025-10-23T07:27:39.498392Z"
    },
    "papermill": {
     "duration": 0.014386,
     "end_time": "2025-10-23T07:27:39.500674",
     "exception": false,
     "start_time": "2025-10-23T07:27:39.486288",
     "status": "completed"
    },
    "tags": []
   },
   "outputs": [
    {
     "name": "stdout",
     "output_type": "stream",
     "text": [
      "DONE\n"
     ]
    }
   ],
   "source": [
    "print(\"DONE\")"
   ]
  },
  {
   "cell_type": "code",
   "execution_count": 22,
   "id": "a681cd78",
   "metadata": {
    "execution": {
     "iopub.execute_input": "2025-10-23T07:27:39.518883Z",
     "iopub.status.busy": "2025-10-23T07:27:39.518662Z",
     "iopub.status.idle": "2025-10-23T07:27:39.526242Z",
     "shell.execute_reply": "2025-10-23T07:27:39.525629Z"
    },
    "papermill": {
     "duration": 0.017842,
     "end_time": "2025-10-23T07:27:39.527357",
     "exception": false,
     "start_time": "2025-10-23T07:27:39.509515",
     "status": "completed"
    },
    "tags": []
   },
   "outputs": [
    {
     "name": "stdout",
     "output_type": "stream",
     "text": [
      "Best trial:\n",
      "  Value: 0.9735971133507528\n",
      "  Params: \n",
      "    batch_size: 8\n",
      "    learning_rate: 2.64556448001259e-06\n",
      "    weight_decay: 0.011821340884460008\n",
      "    warmup_ratio: 0.15397740283036498\n",
      "    num_epochs: 5\n",
      "    optimizer_name: adafactor\n"
     ]
    }
   ],
   "source": [
    "study = joblib.load('finbert_optuna_result.pkl')\n",
    "print(\"Best trial:\")\n",
    "trial = study.best_trial\n",
    "print(f\"  Value: {trial.value}\")\n",
    "print(\"  Params: \")\n",
    "for key, value in trial.params.items():\n",
    "    print(f\"    {key}: {value}\")"
   ]
  },
  {
   "cell_type": "code",
   "execution_count": 23,
   "id": "d5bbbc98",
   "metadata": {
    "execution": {
     "iopub.execute_input": "2025-10-23T07:27:39.545732Z",
     "iopub.status.busy": "2025-10-23T07:27:39.545520Z",
     "iopub.status.idle": "2025-10-23T07:27:39.548508Z",
     "shell.execute_reply": "2025-10-23T07:27:39.547908Z"
    },
    "papermill": {
     "duration": 0.013457,
     "end_time": "2025-10-23T07:27:39.549701",
     "exception": false,
     "start_time": "2025-10-23T07:27:39.536244",
     "status": "completed"
    },
    "tags": []
   },
   "outputs": [],
   "source": [
    "# # Print the results\n",
    "\n",
    "# study = joblib.load('finbert_optuna_result.pkl')\n",
    "# print(\"Best trial:\")\n",
    "# trial = study.best_trial\n",
    "# print(f\"  Value: {trial.value}\")\n",
    "# print(\"  Params: \")\n",
    "# for key, value in trial.params.items():\n",
    "#     print(f\"    {key}: {value}\")\n",
    "\n",
    "# # Train the final model with the best parameters\n",
    "# best_batch_size = trial.params[\"batch_size\"]\n",
    "# best_lr = trial.params[\"learning_rate\"]\n",
    "# best_weight_decay = trial.params[\"weight_decay\"]\n",
    "# best_warmup_ratio = trial.params[\"warmup_ratio\"]\n",
    "# best_num_epochs = trial.params[\"num_epochs\"]\n",
    "# best_optimizer = trial.params[\"optimizer\"]\n",
    "\n",
    "# final_training_args = TrainingArguments(\n",
    "#     output_dir='./Finbert_Final/',\n",
    "#     per_device_train_batch_size=best_batch_size,\n",
    "#     per_device_eval_batch_size=best_batch_size*2,\n",
    "#     num_train_epochs=best_num_epochs,\n",
    "#     learning_rate=best_lr,\n",
    "#     weight_decay=best_weight_decay,\n",
    "#     warmup_ratio=best_warmup_ratio,\n",
    "#     do_eval=True,\n",
    "#     do_train=True,\n",
    "#     evaluation_strategy='epoch',\n",
    "#     save_strategy=\"epoch\",\n",
    "#     load_best_model_at_end=True,\n",
    "#     metric_for_best_model='f1',\n",
    "#     optim=best_optimizer.lower(),\n",
    "#     lr_scheduler_type=\"reduce_lr_on_plateau\",\n",
    "# )\n",
    "\n",
    "# final_trainer = Trainer(\n",
    "#     model=model,\n",
    "#     args=final_training_args,\n",
    "#     train_dataset=train_dataset,\n",
    "#     eval_dataset=valid_dataset,\n",
    "#     data_collator=data_collator,\n",
    "#     tokenizer=tokenizer,\n",
    "#     compute_metrics=compute_metrics,\n",
    "# )\n",
    "\n",
    "# # Train the final model\n",
    "# print(\"Training final model with best parameters...\")\n",
    "# final_trainer.train()\n",
    "\n",
    "# # Evaluate the final model\n",
    "# final_metrics = final_trainer.evaluate()\n",
    "# print(f\"Final model metrics: {final_metrics}\")"
   ]
  },
  {
   "cell_type": "code",
   "execution_count": 24,
   "id": "471f2972",
   "metadata": {
    "execution": {
     "iopub.execute_input": "2025-10-23T07:27:39.567687Z",
     "iopub.status.busy": "2025-10-23T07:27:39.567469Z",
     "iopub.status.idle": "2025-10-23T07:27:39.570390Z",
     "shell.execute_reply": "2025-10-23T07:27:39.569620Z"
    },
    "papermill": {
     "duration": 0.013264,
     "end_time": "2025-10-23T07:27:39.571622",
     "exception": false,
     "start_time": "2025-10-23T07:27:39.558358",
     "status": "completed"
    },
    "tags": []
   },
   "outputs": [],
   "source": [
    "# train_args = TrainingArguments(\n",
    "#     './Finbert Trained/',\n",
    "#     per_device_train_batch_size=16,\n",
    "#     per_device_eval_batch_size=2*16,\n",
    "#     num_train_epochs=5,\n",
    "#     learning_rate=1e-5,\n",
    "#     weight_decay=0.01,\n",
    "#     warmup_ratio=0.1,    \n",
    "#     do_eval=True,\n",
    "#     do_train=True,\n",
    "#     do_predict=True,\n",
    "#     eval_strategy='epoch',\n",
    "#     save_strategy=\"no\",\n",
    "# )"
   ]
  },
  {
   "cell_type": "code",
   "execution_count": 25,
   "id": "81633c09",
   "metadata": {
    "execution": {
     "iopub.execute_input": "2025-10-23T07:27:39.589589Z",
     "iopub.status.busy": "2025-10-23T07:27:39.589346Z",
     "iopub.status.idle": "2025-10-23T07:27:39.592171Z",
     "shell.execute_reply": "2025-10-23T07:27:39.591549Z"
    },
    "papermill": {
     "duration": 0.013096,
     "end_time": "2025-10-23T07:27:39.593341",
     "exception": false,
     "start_time": "2025-10-23T07:27:39.580245",
     "status": "completed"
    },
    "tags": []
   },
   "outputs": [],
   "source": [
    "# trainer = Trainer(\n",
    "#     model,\n",
    "#     train_args,\n",
    "#     train_dataset=train_dataset,\n",
    "#     eval_dataset=valid_dataset,\n",
    "#     data_collator=data_collator,\n",
    "#     tokenizer=tokenizer,\n",
    "#     compute_metrics=compute_metrics,\n",
    "# )"
   ]
  },
  {
   "cell_type": "code",
   "execution_count": 26,
   "id": "c38c8ded",
   "metadata": {
    "execution": {
     "iopub.execute_input": "2025-10-23T07:27:39.611603Z",
     "iopub.status.busy": "2025-10-23T07:27:39.611358Z",
     "iopub.status.idle": "2025-10-23T07:27:39.614179Z",
     "shell.execute_reply": "2025-10-23T07:27:39.613539Z"
    },
    "papermill": {
     "duration": 0.013392,
     "end_time": "2025-10-23T07:27:39.615345",
     "exception": false,
     "start_time": "2025-10-23T07:27:39.601953",
     "status": "completed"
    },
    "tags": []
   },
   "outputs": [],
   "source": [
    "# trainer.train()"
   ]
  },
  {
   "cell_type": "code",
   "execution_count": 27,
   "id": "8ff0731a",
   "metadata": {
    "execution": {
     "iopub.execute_input": "2025-10-23T07:27:39.633614Z",
     "iopub.status.busy": "2025-10-23T07:27:39.633282Z",
     "iopub.status.idle": "2025-10-23T07:27:39.636272Z",
     "shell.execute_reply": "2025-10-23T07:27:39.635623Z"
    },
    "papermill": {
     "duration": 0.013222,
     "end_time": "2025-10-23T07:27:39.637355",
     "exception": false,
     "start_time": "2025-10-23T07:27:39.624133",
     "status": "completed"
    },
    "tags": []
   },
   "outputs": [],
   "source": [
    "# trainer.save_model('finbert_finetuned.bin')"
   ]
  },
  {
   "cell_type": "code",
   "execution_count": 28,
   "id": "60a99cb1",
   "metadata": {
    "execution": {
     "iopub.execute_input": "2025-10-23T07:27:39.655357Z",
     "iopub.status.busy": "2025-10-23T07:27:39.655157Z",
     "iopub.status.idle": "2025-10-23T07:27:39.658070Z",
     "shell.execute_reply": "2025-10-23T07:27:39.657344Z"
    },
    "papermill": {
     "duration": 0.013209,
     "end_time": "2025-10-23T07:27:39.659258",
     "exception": false,
     "start_time": "2025-10-23T07:27:39.646049",
     "status": "completed"
    },
    "tags": []
   },
   "outputs": [],
   "source": [
    "# pred_dataset = pred_dataset_raw.map(tokenize_fn, batched=False)"
   ]
  },
  {
   "cell_type": "code",
   "execution_count": 29,
   "id": "00573634",
   "metadata": {
    "execution": {
     "iopub.execute_input": "2025-10-23T07:27:39.677902Z",
     "iopub.status.busy": "2025-10-23T07:27:39.677695Z",
     "iopub.status.idle": "2025-10-23T07:27:39.680535Z",
     "shell.execute_reply": "2025-10-23T07:27:39.679881Z"
    },
    "papermill": {
     "duration": 0.01325,
     "end_time": "2025-10-23T07:27:39.681697",
     "exception": false,
     "start_time": "2025-10-23T07:27:39.668447",
     "status": "completed"
    },
    "tags": []
   },
   "outputs": [],
   "source": [
    "# len(pred_dataset[0]['input_ids'])"
   ]
  },
  {
   "cell_type": "code",
   "execution_count": 30,
   "id": "25ab7028",
   "metadata": {
    "execution": {
     "iopub.execute_input": "2025-10-23T07:27:39.700453Z",
     "iopub.status.busy": "2025-10-23T07:27:39.700231Z",
     "iopub.status.idle": "2025-10-23T07:27:39.703011Z",
     "shell.execute_reply": "2025-10-23T07:27:39.702377Z"
    },
    "papermill": {
     "duration": 0.013681,
     "end_time": "2025-10-23T07:27:39.704173",
     "exception": false,
     "start_time": "2025-10-23T07:27:39.690492",
     "status": "completed"
    },
    "tags": []
   },
   "outputs": [],
   "source": [
    "# output = trainer.predict(\n",
    "#     test_dataset=pred_dataset,\n",
    "# )"
   ]
  },
  {
   "cell_type": "code",
   "execution_count": 31,
   "id": "6e387297",
   "metadata": {
    "execution": {
     "iopub.execute_input": "2025-10-23T07:27:39.722855Z",
     "iopub.status.busy": "2025-10-23T07:27:39.722641Z",
     "iopub.status.idle": "2025-10-23T07:27:39.725399Z",
     "shell.execute_reply": "2025-10-23T07:27:39.724796Z"
    },
    "papermill": {
     "duration": 0.013299,
     "end_time": "2025-10-23T07:27:39.726569",
     "exception": false,
     "start_time": "2025-10-23T07:27:39.713270",
     "status": "completed"
    },
    "tags": []
   },
   "outputs": [],
   "source": [
    "# output.predictions"
   ]
  },
  {
   "cell_type": "code",
   "execution_count": 32,
   "id": "a4b3712c",
   "metadata": {
    "execution": {
     "iopub.execute_input": "2025-10-23T07:27:39.745218Z",
     "iopub.status.busy": "2025-10-23T07:27:39.745019Z",
     "iopub.status.idle": "2025-10-23T07:27:39.747799Z",
     "shell.execute_reply": "2025-10-23T07:27:39.747177Z"
    },
    "papermill": {
     "duration": 0.0134,
     "end_time": "2025-10-23T07:27:39.748937",
     "exception": false,
     "start_time": "2025-10-23T07:27:39.735537",
     "status": "completed"
    },
    "tags": []
   },
   "outputs": [],
   "source": [
    "# preds = [np.argmax(x) for x in output.predictions]"
   ]
  },
  {
   "cell_type": "code",
   "execution_count": 33,
   "id": "96ac64a2",
   "metadata": {
    "execution": {
     "iopub.execute_input": "2025-10-23T07:27:39.768725Z",
     "iopub.status.busy": "2025-10-23T07:27:39.768512Z",
     "iopub.status.idle": "2025-10-23T07:27:39.771361Z",
     "shell.execute_reply": "2025-10-23T07:27:39.770734Z"
    },
    "papermill": {
     "duration": 0.014648,
     "end_time": "2025-10-23T07:27:39.772533",
     "exception": false,
     "start_time": "2025-10-23T07:27:39.757885",
     "status": "completed"
    },
    "tags": []
   },
   "outputs": [],
   "source": [
    "\n",
    "# from sklearn.metrics import confusion_matrix, accuracy_score\n",
    "# import seaborn as sns\n",
    "# import matplotlib.pyplot as plt\n",
    "\n",
    "# cm = confusion_matrix(y_test, preds)\n",
    "\n",
    "# # Define class labels\n",
    "# labels = [0, 1]\n",
    "\n",
    "# # Create a heatmap\n",
    "# plt.figure(figsize=(8, 6))\n",
    "# sns.heatmap(cm, annot=True, fmt='d', cmap='Blues',\n",
    "#             xticklabels=labels, yticklabels=labels)\n",
    "\n",
    "# # Add labels and title\n",
    "# plt.xlabel('Predicted Labels')\n",
    "# plt.ylabel('True Labels')\n",
    "# plt.title('Confusion Matrix Heatmap')\n",
    "\n",
    "# # Display the plot\n",
    "# plt.show()"
   ]
  },
  {
   "cell_type": "code",
   "execution_count": 34,
   "id": "eff69f57",
   "metadata": {
    "execution": {
     "iopub.execute_input": "2025-10-23T07:27:39.791375Z",
     "iopub.status.busy": "2025-10-23T07:27:39.791171Z",
     "iopub.status.idle": "2025-10-23T07:27:39.794085Z",
     "shell.execute_reply": "2025-10-23T07:27:39.793393Z"
    },
    "papermill": {
     "duration": 0.013509,
     "end_time": "2025-10-23T07:27:39.795158",
     "exception": false,
     "start_time": "2025-10-23T07:27:39.781649",
     "status": "completed"
    },
    "tags": []
   },
   "outputs": [],
   "source": [
    "# accuracy_score(y_test, preds)"
   ]
  },
  {
   "cell_type": "code",
   "execution_count": 35,
   "id": "f43f7874",
   "metadata": {
    "execution": {
     "iopub.execute_input": "2025-10-23T07:27:39.813855Z",
     "iopub.status.busy": "2025-10-23T07:27:39.813654Z",
     "iopub.status.idle": "2025-10-23T07:27:39.816299Z",
     "shell.execute_reply": "2025-10-23T07:27:39.815698Z"
    },
    "papermill": {
     "duration": 0.013358,
     "end_time": "2025-10-23T07:27:39.817525",
     "exception": false,
     "start_time": "2025-10-23T07:27:39.804167",
     "status": "completed"
    },
    "tags": []
   },
   "outputs": [],
   "source": [
    "# from sklearn.metrics import classification_report\n",
    "# print(classification_report(y_test, preds))"
   ]
  },
  {
   "cell_type": "code",
   "execution_count": 36,
   "id": "665e322e",
   "metadata": {
    "execution": {
     "iopub.execute_input": "2025-10-23T07:27:39.836850Z",
     "iopub.status.busy": "2025-10-23T07:27:39.836649Z",
     "iopub.status.idle": "2025-10-23T07:27:39.839202Z",
     "shell.execute_reply": "2025-10-23T07:27:39.838610Z"
    },
    "papermill": {
     "duration": 0.013377,
     "end_time": "2025-10-23T07:27:39.840266",
     "exception": false,
     "start_time": "2025-10-23T07:27:39.826889",
     "status": "completed"
    },
    "tags": []
   },
   "outputs": [],
   "source": [
    "# news = pd.read_csv('/kaggle/input/sentiment-analysis-for-financial-news/all-data.csv',names= ['Sentiment','Sentence'],encoding='ISO-8859-1')"
   ]
  },
  {
   "cell_type": "code",
   "execution_count": 37,
   "id": "bb9e05b2",
   "metadata": {
    "execution": {
     "iopub.execute_input": "2025-10-23T07:27:39.858939Z",
     "iopub.status.busy": "2025-10-23T07:27:39.858739Z",
     "iopub.status.idle": "2025-10-23T07:27:39.861267Z",
     "shell.execute_reply": "2025-10-23T07:27:39.860707Z"
    },
    "papermill": {
     "duration": 0.01314,
     "end_time": "2025-10-23T07:27:39.862460",
     "exception": false,
     "start_time": "2025-10-23T07:27:39.849320",
     "status": "completed"
    },
    "tags": []
   },
   "outputs": [],
   "source": [
    "# news"
   ]
  },
  {
   "cell_type": "code",
   "execution_count": 38,
   "id": "c42e33cb",
   "metadata": {
    "execution": {
     "iopub.execute_input": "2025-10-23T07:27:39.881629Z",
     "iopub.status.busy": "2025-10-23T07:27:39.881383Z",
     "iopub.status.idle": "2025-10-23T07:27:39.884151Z",
     "shell.execute_reply": "2025-10-23T07:27:39.883444Z"
    },
    "papermill": {
     "duration": 0.013935,
     "end_time": "2025-10-23T07:27:39.885623",
     "exception": false,
     "start_time": "2025-10-23T07:27:39.871688",
     "status": "completed"
    },
    "tags": []
   },
   "outputs": [],
   "source": [
    "# x_test, Y_test = news['Sentence'].values, news['Sentiment'].values"
   ]
  },
  {
   "cell_type": "code",
   "execution_count": 39,
   "id": "d2ef866d",
   "metadata": {
    "execution": {
     "iopub.execute_input": "2025-10-23T07:27:39.904549Z",
     "iopub.status.busy": "2025-10-23T07:27:39.904297Z",
     "iopub.status.idle": "2025-10-23T07:27:39.906886Z",
     "shell.execute_reply": "2025-10-23T07:27:39.906244Z"
    },
    "papermill": {
     "duration": 0.013185,
     "end_time": "2025-10-23T07:27:39.908012",
     "exception": false,
     "start_time": "2025-10-23T07:27:39.894827",
     "status": "completed"
    },
    "tags": []
   },
   "outputs": [],
   "source": [
    "# le = LabelEncoder()\n",
    "# Y_test = le.fit_transform(Y_test)"
   ]
  },
  {
   "cell_type": "code",
   "execution_count": 40,
   "id": "7da3f44a",
   "metadata": {
    "execution": {
     "iopub.execute_input": "2025-10-23T07:27:39.927051Z",
     "iopub.status.busy": "2025-10-23T07:27:39.926839Z",
     "iopub.status.idle": "2025-10-23T07:27:39.929392Z",
     "shell.execute_reply": "2025-10-23T07:27:39.928824Z"
    },
    "papermill": {
     "duration": 0.013367,
     "end_time": "2025-10-23T07:27:39.930582",
     "exception": false,
     "start_time": "2025-10-23T07:27:39.917215",
     "status": "completed"
    },
    "tags": []
   },
   "outputs": [],
   "source": [
    "# np.unique(Y_test)"
   ]
  },
  {
   "cell_type": "code",
   "execution_count": 41,
   "id": "6cd3b6a6",
   "metadata": {
    "execution": {
     "iopub.execute_input": "2025-10-23T07:27:39.949849Z",
     "iopub.status.busy": "2025-10-23T07:27:39.949652Z",
     "iopub.status.idle": "2025-10-23T07:27:39.952252Z",
     "shell.execute_reply": "2025-10-23T07:27:39.951665Z"
    },
    "papermill": {
     "duration": 0.013674,
     "end_time": "2025-10-23T07:27:39.953402",
     "exception": false,
     "start_time": "2025-10-23T07:27:39.939728",
     "status": "completed"
    },
    "tags": []
   },
   "outputs": [],
   "source": [
    "# test_dataset_raw = Dataset.from_dict({'text': x_test})\n",
    "# test_dataset_raw"
   ]
  },
  {
   "cell_type": "code",
   "execution_count": 42,
   "id": "a9930216",
   "metadata": {
    "execution": {
     "iopub.execute_input": "2025-10-23T07:27:39.972344Z",
     "iopub.status.busy": "2025-10-23T07:27:39.972114Z",
     "iopub.status.idle": "2025-10-23T07:27:39.975100Z",
     "shell.execute_reply": "2025-10-23T07:27:39.974310Z"
    },
    "papermill": {
     "duration": 0.013597,
     "end_time": "2025-10-23T07:27:39.976234",
     "exception": false,
     "start_time": "2025-10-23T07:27:39.962637",
     "status": "completed"
    },
    "tags": []
   },
   "outputs": [],
   "source": [
    "# test_dataset = test_dataset_raw.map(tokenize_fn, batched=False)"
   ]
  },
  {
   "cell_type": "code",
   "execution_count": 43,
   "id": "dd85b03d",
   "metadata": {
    "execution": {
     "iopub.execute_input": "2025-10-23T07:27:39.995494Z",
     "iopub.status.busy": "2025-10-23T07:27:39.995257Z",
     "iopub.status.idle": "2025-10-23T07:27:39.997823Z",
     "shell.execute_reply": "2025-10-23T07:27:39.997215Z"
    },
    "papermill": {
     "duration": 0.013403,
     "end_time": "2025-10-23T07:27:39.998954",
     "exception": false,
     "start_time": "2025-10-23T07:27:39.985551",
     "status": "completed"
    },
    "tags": []
   },
   "outputs": [],
   "source": [
    "# output = trainer.predict(\n",
    "#     test_dataset=test_dataset,\n",
    "# )"
   ]
  },
  {
   "cell_type": "code",
   "execution_count": 44,
   "id": "9c7a3603",
   "metadata": {
    "execution": {
     "iopub.execute_input": "2025-10-23T07:27:40.018283Z",
     "iopub.status.busy": "2025-10-23T07:27:40.018084Z",
     "iopub.status.idle": "2025-10-23T07:27:40.021070Z",
     "shell.execute_reply": "2025-10-23T07:27:40.020279Z"
    },
    "papermill": {
     "duration": 0.013832,
     "end_time": "2025-10-23T07:27:40.022219",
     "exception": false,
     "start_time": "2025-10-23T07:27:40.008387",
     "status": "completed"
    },
    "tags": []
   },
   "outputs": [],
   "source": [
    "# preds = [np.argmax(x) for x in output.predictions]"
   ]
  },
  {
   "cell_type": "code",
   "execution_count": 45,
   "id": "1d4cb4fa",
   "metadata": {
    "execution": {
     "iopub.execute_input": "2025-10-23T07:27:40.041834Z",
     "iopub.status.busy": "2025-10-23T07:27:40.041622Z",
     "iopub.status.idle": "2025-10-23T07:27:40.044452Z",
     "shell.execute_reply": "2025-10-23T07:27:40.043831Z"
    },
    "papermill": {
     "duration": 0.014028,
     "end_time": "2025-10-23T07:27:40.045556",
     "exception": false,
     "start_time": "2025-10-23T07:27:40.031528",
     "status": "completed"
    },
    "tags": []
   },
   "outputs": [],
   "source": [
    "# output.predictions"
   ]
  },
  {
   "cell_type": "code",
   "execution_count": 46,
   "id": "a1ff1707",
   "metadata": {
    "execution": {
     "iopub.execute_input": "2025-10-23T07:27:40.065394Z",
     "iopub.status.busy": "2025-10-23T07:27:40.065161Z",
     "iopub.status.idle": "2025-10-23T07:27:40.068119Z",
     "shell.execute_reply": "2025-10-23T07:27:40.067322Z"
    },
    "papermill": {
     "duration": 0.013884,
     "end_time": "2025-10-23T07:27:40.069253",
     "exception": false,
     "start_time": "2025-10-23T07:27:40.055369",
     "status": "completed"
    },
    "tags": []
   },
   "outputs": [],
   "source": [
    "# np.unique(preds)"
   ]
  },
  {
   "cell_type": "code",
   "execution_count": 47,
   "id": "8a11b961",
   "metadata": {
    "execution": {
     "iopub.execute_input": "2025-10-23T07:27:40.088613Z",
     "iopub.status.busy": "2025-10-23T07:27:40.088342Z",
     "iopub.status.idle": "2025-10-23T07:27:40.091290Z",
     "shell.execute_reply": "2025-10-23T07:27:40.090552Z"
    },
    "papermill": {
     "duration": 0.014032,
     "end_time": "2025-10-23T07:27:40.092602",
     "exception": false,
     "start_time": "2025-10-23T07:27:40.078570",
     "status": "completed"
    },
    "tags": []
   },
   "outputs": [],
   "source": [
    "# def transform(x):\n",
    "#     if x == 2:\n",
    "#         return 1\n",
    "#     elif x == 1:\n",
    "#         return 1\n",
    "#     else:  # x == 0\n",
    "#         return 0\n",
    "        \n",
    "# vectorized_transform = np.vectorize(transform)\n",
    "# Y_test = vectorized_transform(Y_test)"
   ]
  },
  {
   "cell_type": "code",
   "execution_count": 48,
   "id": "4836cdf7",
   "metadata": {
    "execution": {
     "iopub.execute_input": "2025-10-23T07:27:40.112304Z",
     "iopub.status.busy": "2025-10-23T07:27:40.112078Z",
     "iopub.status.idle": "2025-10-23T07:27:40.114970Z",
     "shell.execute_reply": "2025-10-23T07:27:40.114207Z"
    },
    "papermill": {
     "duration": 0.013928,
     "end_time": "2025-10-23T07:27:40.116087",
     "exception": false,
     "start_time": "2025-10-23T07:27:40.102159",
     "status": "completed"
    },
    "tags": []
   },
   "outputs": [],
   "source": [
    "# np.unique(Y_test)"
   ]
  },
  {
   "cell_type": "code",
   "execution_count": 49,
   "id": "3509c923",
   "metadata": {
    "execution": {
     "iopub.execute_input": "2025-10-23T07:27:40.135949Z",
     "iopub.status.busy": "2025-10-23T07:27:40.135723Z",
     "iopub.status.idle": "2025-10-23T07:27:40.138902Z",
     "shell.execute_reply": "2025-10-23T07:27:40.137993Z"
    },
    "papermill": {
     "duration": 0.014656,
     "end_time": "2025-10-23T07:27:40.140308",
     "exception": false,
     "start_time": "2025-10-23T07:27:40.125652",
     "status": "completed"
    },
    "tags": []
   },
   "outputs": [],
   "source": [
    "# cm = confusion_matrix(Y_test, preds)\n",
    "\n",
    "# # Define class labels\n",
    "# labels = [0, 1]\n",
    "\n",
    "# # Create a heatmap\n",
    "# plt.figure(figsize=(8, 6))\n",
    "# sns.heatmap(cm, annot=True, fmt='d', cmap='Blues',\n",
    "#             xticklabels=labels, yticklabels=labels)\n",
    "\n",
    "# # Add labels and title\n",
    "# plt.xlabel('Predicted Labels')\n",
    "# plt.ylabel('True Labels')\n",
    "# plt.title('Confusion Matrix Heatmap')\n",
    "\n",
    "# # Display the plot\n",
    "# plt.show()"
   ]
  },
  {
   "cell_type": "code",
   "execution_count": 50,
   "id": "8fff6dea",
   "metadata": {
    "execution": {
     "iopub.execute_input": "2025-10-23T07:27:40.160165Z",
     "iopub.status.busy": "2025-10-23T07:27:40.159952Z",
     "iopub.status.idle": "2025-10-23T07:27:40.162763Z",
     "shell.execute_reply": "2025-10-23T07:27:40.162105Z"
    },
    "papermill": {
     "duration": 0.013788,
     "end_time": "2025-10-23T07:27:40.163833",
     "exception": false,
     "start_time": "2025-10-23T07:27:40.150045",
     "status": "completed"
    },
    "tags": []
   },
   "outputs": [],
   "source": [
    "# accuracy_score(Y_test, preds)"
   ]
  },
  {
   "cell_type": "code",
   "execution_count": 51,
   "id": "ab3aaf2d",
   "metadata": {
    "execution": {
     "iopub.execute_input": "2025-10-23T07:27:40.183607Z",
     "iopub.status.busy": "2025-10-23T07:27:40.183346Z",
     "iopub.status.idle": "2025-10-23T07:27:40.186216Z",
     "shell.execute_reply": "2025-10-23T07:27:40.185577Z"
    },
    "papermill": {
     "duration": 0.014265,
     "end_time": "2025-10-23T07:27:40.187461",
     "exception": false,
     "start_time": "2025-10-23T07:27:40.173196",
     "status": "completed"
    },
    "tags": []
   },
   "outputs": [],
   "source": [
    "# print(classification_report(Y_test, preds))"
   ]
  },
  {
   "cell_type": "code",
   "execution_count": null,
   "id": "b9c8d921",
   "metadata": {
    "papermill": {
     "duration": 0.009849,
     "end_time": "2025-10-23T07:27:40.207338",
     "exception": false,
     "start_time": "2025-10-23T07:27:40.197489",
     "status": "completed"
    },
    "tags": []
   },
   "outputs": [],
   "source": []
  }
 ],
 "metadata": {
  "kaggle": {
   "accelerator": "nvidiaTeslaT4",
   "dataSources": [
    {
     "datasetId": 622510,
     "sourceId": 1192499,
     "sourceType": "datasetVersion"
    },
    {
     "datasetId": 5490281,
     "sourceId": 9097274,
     "sourceType": "datasetVersion"
    },
    {
     "datasetId": 6886982,
     "sourceId": 12072183,
     "sourceType": "datasetVersion"
    },
    {
     "sourceId": 243930408,
     "sourceType": "kernelVersion"
    }
   ],
   "dockerImageVersionId": 30822,
   "isGpuEnabled": true,
   "isInternetEnabled": true,
   "language": "python",
   "sourceType": "notebook"
  },
  "kernelspec": {
   "display_name": "Python 3",
   "language": "python",
   "name": "python3"
  },
  "language_info": {
   "codemirror_mode": {
    "name": "ipython",
    "version": 3
   },
   "file_extension": ".py",
   "mimetype": "text/x-python",
   "name": "python",
   "nbconvert_exporter": "python",
   "pygments_lexer": "ipython3",
   "version": "3.10.12"
  },
  "papermill": {
   "default_parameters": {},
   "duration": 42601.725721,
   "end_time": "2025-10-23T07:27:43.087465",
   "environment_variables": {},
   "exception": null,
   "input_path": "__notebook__.ipynb",
   "output_path": "__notebook__.ipynb",
   "parameters": {},
   "start_time": "2025-10-22T19:37:41.361744",
   "version": "2.6.0"
  },
  "widgets": {
   "application/vnd.jupyter.widget-state+json": {
    "state": {
     "0427285c605f491d8aa5d547c4a03ec9": {
      "model_module": "@jupyter-widgets/base",
      "model_module_version": "2.0.0",
      "model_name": "LayoutModel",
      "state": {
       "_model_module": "@jupyter-widgets/base",
       "_model_module_version": "2.0.0",
       "_model_name": "LayoutModel",
       "_view_count": null,
       "_view_module": "@jupyter-widgets/base",
       "_view_module_version": "2.0.0",
       "_view_name": "LayoutView",
       "align_content": null,
       "align_items": null,
       "align_self": null,
       "border_bottom": null,
       "border_left": null,
       "border_right": null,
       "border_top": null,
       "bottom": null,
       "display": null,
       "flex": null,
       "flex_flow": null,
       "grid_area": null,
       "grid_auto_columns": null,
       "grid_auto_flow": null,
       "grid_auto_rows": null,
       "grid_column": null,
       "grid_gap": null,
       "grid_row": null,
       "grid_template_areas": null,
       "grid_template_columns": null,
       "grid_template_rows": null,
       "height": null,
       "justify_content": null,
       "justify_items": null,
       "left": null,
       "margin": null,
       "max_height": null,
       "max_width": null,
       "min_height": null,
       "min_width": null,
       "object_fit": null,
       "object_position": null,
       "order": null,
       "overflow": null,
       "padding": null,
       "right": null,
       "top": null,
       "visibility": null,
       "width": null
      }
     },
     "07d190df4df641abae7c3e109ba68747": {
      "model_module": "@jupyter-widgets/base",
      "model_module_version": "2.0.0",
      "model_name": "LayoutModel",
      "state": {
       "_model_module": "@jupyter-widgets/base",
       "_model_module_version": "2.0.0",
       "_model_name": "LayoutModel",
       "_view_count": null,
       "_view_module": "@jupyter-widgets/base",
       "_view_module_version": "2.0.0",
       "_view_name": "LayoutView",
       "align_content": null,
       "align_items": null,
       "align_self": null,
       "border_bottom": null,
       "border_left": null,
       "border_right": null,
       "border_top": null,
       "bottom": null,
       "display": null,
       "flex": null,
       "flex_flow": null,
       "grid_area": null,
       "grid_auto_columns": null,
       "grid_auto_flow": null,
       "grid_auto_rows": null,
       "grid_column": null,
       "grid_gap": null,
       "grid_row": null,
       "grid_template_areas": null,
       "grid_template_columns": null,
       "grid_template_rows": null,
       "height": null,
       "justify_content": null,
       "justify_items": null,
       "left": null,
       "margin": null,
       "max_height": null,
       "max_width": null,
       "min_height": null,
       "min_width": null,
       "object_fit": null,
       "object_position": null,
       "order": null,
       "overflow": null,
       "padding": null,
       "right": null,
       "top": null,
       "visibility": null,
       "width": null
      }
     },
     "0b7c0ac832f346b380cabee3c1fe70b6": {
      "model_module": "@jupyter-widgets/base",
      "model_module_version": "2.0.0",
      "model_name": "LayoutModel",
      "state": {
       "_model_module": "@jupyter-widgets/base",
       "_model_module_version": "2.0.0",
       "_model_name": "LayoutModel",
       "_view_count": null,
       "_view_module": "@jupyter-widgets/base",
       "_view_module_version": "2.0.0",
       "_view_name": "LayoutView",
       "align_content": null,
       "align_items": null,
       "align_self": null,
       "border_bottom": null,
       "border_left": null,
       "border_right": null,
       "border_top": null,
       "bottom": null,
       "display": null,
       "flex": null,
       "flex_flow": null,
       "grid_area": null,
       "grid_auto_columns": null,
       "grid_auto_flow": null,
       "grid_auto_rows": null,
       "grid_column": null,
       "grid_gap": null,
       "grid_row": null,
       "grid_template_areas": null,
       "grid_template_columns": null,
       "grid_template_rows": null,
       "height": null,
       "justify_content": null,
       "justify_items": null,
       "left": null,
       "margin": null,
       "max_height": null,
       "max_width": null,
       "min_height": null,
       "min_width": null,
       "object_fit": null,
       "object_position": null,
       "order": null,
       "overflow": null,
       "padding": null,
       "right": null,
       "top": null,
       "visibility": null,
       "width": null
      }
     },
     "0beae58340dc499d8714500b12b2c0db": {
      "model_module": "@jupyter-widgets/base",
      "model_module_version": "2.0.0",
      "model_name": "LayoutModel",
      "state": {
       "_model_module": "@jupyter-widgets/base",
       "_model_module_version": "2.0.0",
       "_model_name": "LayoutModel",
       "_view_count": null,
       "_view_module": "@jupyter-widgets/base",
       "_view_module_version": "2.0.0",
       "_view_name": "LayoutView",
       "align_content": null,
       "align_items": null,
       "align_self": null,
       "border_bottom": null,
       "border_left": null,
       "border_right": null,
       "border_top": null,
       "bottom": null,
       "display": null,
       "flex": null,
       "flex_flow": null,
       "grid_area": null,
       "grid_auto_columns": null,
       "grid_auto_flow": null,
       "grid_auto_rows": null,
       "grid_column": null,
       "grid_gap": null,
       "grid_row": null,
       "grid_template_areas": null,
       "grid_template_columns": null,
       "grid_template_rows": null,
       "height": null,
       "justify_content": null,
       "justify_items": null,
       "left": null,
       "margin": null,
       "max_height": null,
       "max_width": null,
       "min_height": null,
       "min_width": null,
       "object_fit": null,
       "object_position": null,
       "order": null,
       "overflow": null,
       "padding": null,
       "right": null,
       "top": null,
       "visibility": null,
       "width": null
      }
     },
     "13986ab4d1464495aa1b5780530b4769": {
      "model_module": "@jupyter-widgets/controls",
      "model_module_version": "2.0.0",
      "model_name": "HTMLStyleModel",
      "state": {
       "_model_module": "@jupyter-widgets/controls",
       "_model_module_version": "2.0.0",
       "_model_name": "HTMLStyleModel",
       "_view_count": null,
       "_view_module": "@jupyter-widgets/base",
       "_view_module_version": "2.0.0",
       "_view_name": "StyleView",
       "background": null,
       "description_width": "",
       "font_size": null,
       "text_color": null
      }
     },
     "15e15f51f8f949a599ed69f38a10421a": {
      "model_module": "@jupyter-widgets/base",
      "model_module_version": "2.0.0",
      "model_name": "LayoutModel",
      "state": {
       "_model_module": "@jupyter-widgets/base",
       "_model_module_version": "2.0.0",
       "_model_name": "LayoutModel",
       "_view_count": null,
       "_view_module": "@jupyter-widgets/base",
       "_view_module_version": "2.0.0",
       "_view_name": "LayoutView",
       "align_content": null,
       "align_items": null,
       "align_self": null,
       "border_bottom": null,
       "border_left": null,
       "border_right": null,
       "border_top": null,
       "bottom": null,
       "display": null,
       "flex": null,
       "flex_flow": null,
       "grid_area": null,
       "grid_auto_columns": null,
       "grid_auto_flow": null,
       "grid_auto_rows": null,
       "grid_column": null,
       "grid_gap": null,
       "grid_row": null,
       "grid_template_areas": null,
       "grid_template_columns": null,
       "grid_template_rows": null,
       "height": null,
       "justify_content": null,
       "justify_items": null,
       "left": null,
       "margin": null,
       "max_height": null,
       "max_width": null,
       "min_height": null,
       "min_width": null,
       "object_fit": null,
       "object_position": null,
       "order": null,
       "overflow": null,
       "padding": null,
       "right": null,
       "top": null,
       "visibility": null,
       "width": null
      }
     },
     "1ab513ebccd94fc2b4c372d13907b5e1": {
      "model_module": "@jupyter-widgets/base",
      "model_module_version": "2.0.0",
      "model_name": "LayoutModel",
      "state": {
       "_model_module": "@jupyter-widgets/base",
       "_model_module_version": "2.0.0",
       "_model_name": "LayoutModel",
       "_view_count": null,
       "_view_module": "@jupyter-widgets/base",
       "_view_module_version": "2.0.0",
       "_view_name": "LayoutView",
       "align_content": null,
       "align_items": null,
       "align_self": null,
       "border_bottom": null,
       "border_left": null,
       "border_right": null,
       "border_top": null,
       "bottom": null,
       "display": null,
       "flex": null,
       "flex_flow": null,
       "grid_area": null,
       "grid_auto_columns": null,
       "grid_auto_flow": null,
       "grid_auto_rows": null,
       "grid_column": null,
       "grid_gap": null,
       "grid_row": null,
       "grid_template_areas": null,
       "grid_template_columns": null,
       "grid_template_rows": null,
       "height": null,
       "justify_content": null,
       "justify_items": null,
       "left": null,
       "margin": null,
       "max_height": null,
       "max_width": null,
       "min_height": null,
       "min_width": null,
       "object_fit": null,
       "object_position": null,
       "order": null,
       "overflow": null,
       "padding": null,
       "right": null,
       "top": null,
       "visibility": null,
       "width": null
      }
     },
     "2274db7005fd4621a753b481824c45be": {
      "model_module": "@jupyter-widgets/controls",
      "model_module_version": "2.0.0",
      "model_name": "HBoxModel",
      "state": {
       "_dom_classes": [],
       "_model_module": "@jupyter-widgets/controls",
       "_model_module_version": "2.0.0",
       "_model_name": "HBoxModel",
       "_view_count": null,
       "_view_module": "@jupyter-widgets/controls",
       "_view_module_version": "2.0.0",
       "_view_name": "HBoxView",
       "box_style": "",
       "children": [
        "IPY_MODEL_9ada0cdf495a497da5e4ea5a98f09d0c",
        "IPY_MODEL_de19e6f0bdda462cab6bbe07c9c68346",
        "IPY_MODEL_41e45c65cda445d0b522c6ac36d7ae19"
       ],
       "layout": "IPY_MODEL_a391dabf513e445a8af1bcf7cedfddc2",
       "tabbable": null,
       "tooltip": null
      }
     },
     "23f267eb1b2742dc835add633676f49b": {
      "model_module": "@jupyter-widgets/controls",
      "model_module_version": "2.0.0",
      "model_name": "HTMLStyleModel",
      "state": {
       "_model_module": "@jupyter-widgets/controls",
       "_model_module_version": "2.0.0",
       "_model_name": "HTMLStyleModel",
       "_view_count": null,
       "_view_module": "@jupyter-widgets/base",
       "_view_module_version": "2.0.0",
       "_view_name": "StyleView",
       "background": null,
       "description_width": "",
       "font_size": null,
       "text_color": null
      }
     },
     "258a083804964e9daafa921c953b4d33": {
      "model_module": "@jupyter-widgets/controls",
      "model_module_version": "2.0.0",
      "model_name": "HTMLModel",
      "state": {
       "_dom_classes": [],
       "_model_module": "@jupyter-widgets/controls",
       "_model_module_version": "2.0.0",
       "_model_name": "HTMLModel",
       "_view_count": null,
       "_view_module": "@jupyter-widgets/controls",
       "_view_module_version": "2.0.0",
       "_view_name": "HTMLView",
       "description": "",
       "description_allow_html": false,
       "layout": "IPY_MODEL_07d190df4df641abae7c3e109ba68747",
       "placeholder": "​",
       "style": "IPY_MODEL_13986ab4d1464495aa1b5780530b4769",
       "tabbable": null,
       "tooltip": null,
       "value": "special_tokens_map.json: 100%"
      }
     },
     "2c79820ebc904562807ddc6e63746902": {
      "model_module": "@jupyter-widgets/controls",
      "model_module_version": "2.0.0",
      "model_name": "ProgressStyleModel",
      "state": {
       "_model_module": "@jupyter-widgets/controls",
       "_model_module_version": "2.0.0",
       "_model_name": "ProgressStyleModel",
       "_view_count": null,
       "_view_module": "@jupyter-widgets/base",
       "_view_module_version": "2.0.0",
       "_view_name": "StyleView",
       "bar_color": null,
       "description_width": ""
      }
     },
     "2e72cfbb1588474c8a31d15ee400f111": {
      "model_module": "@jupyter-widgets/controls",
      "model_module_version": "2.0.0",
      "model_name": "FloatProgressModel",
      "state": {
       "_dom_classes": [],
       "_model_module": "@jupyter-widgets/controls",
       "_model_module_version": "2.0.0",
       "_model_name": "FloatProgressModel",
       "_view_count": null,
       "_view_module": "@jupyter-widgets/controls",
       "_view_module_version": "2.0.0",
       "_view_name": "ProgressView",
       "bar_style": "success",
       "description": "",
       "description_allow_html": false,
       "layout": "IPY_MODEL_7e939e637b434d57a5f2de44269679d9",
       "max": 112.0,
       "min": 0.0,
       "orientation": "horizontal",
       "style": "IPY_MODEL_3fde537a0b8647f1b18b739db5d0568c",
       "tabbable": null,
       "tooltip": null,
       "value": 112.0
      }
     },
     "307372f15c09415888a621c1da8ecb01": {
      "model_module": "@jupyter-widgets/controls",
      "model_module_version": "2.0.0",
      "model_name": "HBoxModel",
      "state": {
       "_dom_classes": [],
       "_model_module": "@jupyter-widgets/controls",
       "_model_module_version": "2.0.0",
       "_model_name": "HBoxModel",
       "_view_count": null,
       "_view_module": "@jupyter-widgets/controls",
       "_view_module_version": "2.0.0",
       "_view_name": "HBoxView",
       "box_style": "",
       "children": [
        "IPY_MODEL_258a083804964e9daafa921c953b4d33",
        "IPY_MODEL_2e72cfbb1588474c8a31d15ee400f111",
        "IPY_MODEL_b877f9ffac1a4c8ab41fc95de27cda54"
       ],
       "layout": "IPY_MODEL_0beae58340dc499d8714500b12b2c0db",
       "tabbable": null,
       "tooltip": null
      }
     },
     "33258ecaee354a949c10383402bd6ea0": {
      "model_module": "@jupyter-widgets/controls",
      "model_module_version": "2.0.0",
      "model_name": "HTMLStyleModel",
      "state": {
       "_model_module": "@jupyter-widgets/controls",
       "_model_module_version": "2.0.0",
       "_model_name": "HTMLStyleModel",
       "_view_count": null,
       "_view_module": "@jupyter-widgets/base",
       "_view_module_version": "2.0.0",
       "_view_name": "StyleView",
       "background": null,
       "description_width": "",
       "font_size": null,
       "text_color": null
      }
     },
     "35ccf391a1d7466ca85e75a98656d751": {
      "model_module": "@jupyter-widgets/controls",
      "model_module_version": "2.0.0",
      "model_name": "HTMLStyleModel",
      "state": {
       "_model_module": "@jupyter-widgets/controls",
       "_model_module_version": "2.0.0",
       "_model_name": "HTMLStyleModel",
       "_view_count": null,
       "_view_module": "@jupyter-widgets/base",
       "_view_module_version": "2.0.0",
       "_view_name": "StyleView",
       "background": null,
       "description_width": "",
       "font_size": null,
       "text_color": null
      }
     },
     "36ebdbeb1d6f44d9bd217e11af44071e": {
      "model_module": "@jupyter-widgets/controls",
      "model_module_version": "2.0.0",
      "model_name": "HBoxModel",
      "state": {
       "_dom_classes": [],
       "_model_module": "@jupyter-widgets/controls",
       "_model_module_version": "2.0.0",
       "_model_name": "HBoxModel",
       "_view_count": null,
       "_view_module": "@jupyter-widgets/controls",
       "_view_module_version": "2.0.0",
       "_view_name": "HBoxView",
       "box_style": "",
       "children": [
        "IPY_MODEL_7a1c259d12664e378f1557078958ef9e",
        "IPY_MODEL_60cc006b0c964bd7b541723f1d12dcdf",
        "IPY_MODEL_a21a6dd7c006497bb16845a1e4cd646d"
       ],
       "layout": "IPY_MODEL_0427285c605f491d8aa5d547c4a03ec9",
       "tabbable": null,
       "tooltip": null
      }
     },
     "371ae78d0fd34bd5bc223bb8d67ba502": {
      "model_module": "@jupyter-widgets/base",
      "model_module_version": "2.0.0",
      "model_name": "LayoutModel",
      "state": {
       "_model_module": "@jupyter-widgets/base",
       "_model_module_version": "2.0.0",
       "_model_name": "LayoutModel",
       "_view_count": null,
       "_view_module": "@jupyter-widgets/base",
       "_view_module_version": "2.0.0",
       "_view_name": "LayoutView",
       "align_content": null,
       "align_items": null,
       "align_self": null,
       "border_bottom": null,
       "border_left": null,
       "border_right": null,
       "border_top": null,
       "bottom": null,
       "display": null,
       "flex": null,
       "flex_flow": null,
       "grid_area": null,
       "grid_auto_columns": null,
       "grid_auto_flow": null,
       "grid_auto_rows": null,
       "grid_column": null,
       "grid_gap": null,
       "grid_row": null,
       "grid_template_areas": null,
       "grid_template_columns": null,
       "grid_template_rows": null,
       "height": null,
       "justify_content": null,
       "justify_items": null,
       "left": null,
       "margin": null,
       "max_height": null,
       "max_width": null,
       "min_height": null,
       "min_width": null,
       "object_fit": null,
       "object_position": null,
       "order": null,
       "overflow": null,
       "padding": null,
       "right": null,
       "top": null,
       "visibility": null,
       "width": null
      }
     },
     "3fde537a0b8647f1b18b739db5d0568c": {
      "model_module": "@jupyter-widgets/controls",
      "model_module_version": "2.0.0",
      "model_name": "ProgressStyleModel",
      "state": {
       "_model_module": "@jupyter-widgets/controls",
       "_model_module_version": "2.0.0",
       "_model_name": "ProgressStyleModel",
       "_view_count": null,
       "_view_module": "@jupyter-widgets/base",
       "_view_module_version": "2.0.0",
       "_view_name": "StyleView",
       "bar_color": null,
       "description_width": ""
      }
     },
     "419354af9a9943ce845dd49586c3bd55": {
      "model_module": "@jupyter-widgets/controls",
      "model_module_version": "2.0.0",
      "model_name": "HTMLStyleModel",
      "state": {
       "_model_module": "@jupyter-widgets/controls",
       "_model_module_version": "2.0.0",
       "_model_name": "HTMLStyleModel",
       "_view_count": null,
       "_view_module": "@jupyter-widgets/base",
       "_view_module_version": "2.0.0",
       "_view_name": "StyleView",
       "background": null,
       "description_width": "",
       "font_size": null,
       "text_color": null
      }
     },
     "41e45c65cda445d0b522c6ac36d7ae19": {
      "model_module": "@jupyter-widgets/controls",
      "model_module_version": "2.0.0",
      "model_name": "HTMLModel",
      "state": {
       "_dom_classes": [],
       "_model_module": "@jupyter-widgets/controls",
       "_model_module_version": "2.0.0",
       "_model_name": "HTMLModel",
       "_view_count": null,
       "_view_module": "@jupyter-widgets/controls",
       "_view_module_version": "2.0.0",
       "_view_name": "HTMLView",
       "description": "",
       "description_allow_html": false,
       "layout": "IPY_MODEL_d8fe5588ac5f4dfe8f5578b34d937150",
       "placeholder": "​",
       "style": "IPY_MODEL_33258ecaee354a949c10383402bd6ea0",
       "tabbable": null,
       "tooltip": null,
       "value": " 252/252 [00:00&lt;00:00, 24.3kB/s]"
      }
     },
     "444612a4418240c4816d4c593cf4b988": {
      "model_module": "@jupyter-widgets/base",
      "model_module_version": "2.0.0",
      "model_name": "LayoutModel",
      "state": {
       "_model_module": "@jupyter-widgets/base",
       "_model_module_version": "2.0.0",
       "_model_name": "LayoutModel",
       "_view_count": null,
       "_view_module": "@jupyter-widgets/base",
       "_view_module_version": "2.0.0",
       "_view_name": "LayoutView",
       "align_content": null,
       "align_items": null,
       "align_self": null,
       "border_bottom": null,
       "border_left": null,
       "border_right": null,
       "border_top": null,
       "bottom": null,
       "display": null,
       "flex": null,
       "flex_flow": null,
       "grid_area": null,
       "grid_auto_columns": null,
       "grid_auto_flow": null,
       "grid_auto_rows": null,
       "grid_column": null,
       "grid_gap": null,
       "grid_row": null,
       "grid_template_areas": null,
       "grid_template_columns": null,
       "grid_template_rows": null,
       "height": null,
       "justify_content": null,
       "justify_items": null,
       "left": null,
       "margin": null,
       "max_height": null,
       "max_width": null,
       "min_height": null,
       "min_width": null,
       "object_fit": null,
       "object_position": null,
       "order": null,
       "overflow": null,
       "padding": null,
       "right": null,
       "top": null,
       "visibility": null,
       "width": null
      }
     },
     "45847446478d4560a82b4363366ab5ef": {
      "model_module": "@jupyter-widgets/controls",
      "model_module_version": "2.0.0",
      "model_name": "ProgressStyleModel",
      "state": {
       "_model_module": "@jupyter-widgets/controls",
       "_model_module_version": "2.0.0",
       "_model_name": "ProgressStyleModel",
       "_view_count": null,
       "_view_module": "@jupyter-widgets/base",
       "_view_module_version": "2.0.0",
       "_view_name": "StyleView",
       "bar_color": null,
       "description_width": ""
      }
     },
     "47ba83c1b1eb468d9794b84db1190881": {
      "model_module": "@jupyter-widgets/base",
      "model_module_version": "2.0.0",
      "model_name": "LayoutModel",
      "state": {
       "_model_module": "@jupyter-widgets/base",
       "_model_module_version": "2.0.0",
       "_model_name": "LayoutModel",
       "_view_count": null,
       "_view_module": "@jupyter-widgets/base",
       "_view_module_version": "2.0.0",
       "_view_name": "LayoutView",
       "align_content": null,
       "align_items": null,
       "align_self": null,
       "border_bottom": null,
       "border_left": null,
       "border_right": null,
       "border_top": null,
       "bottom": null,
       "display": null,
       "flex": null,
       "flex_flow": null,
       "grid_area": null,
       "grid_auto_columns": null,
       "grid_auto_flow": null,
       "grid_auto_rows": null,
       "grid_column": null,
       "grid_gap": null,
       "grid_row": null,
       "grid_template_areas": null,
       "grid_template_columns": null,
       "grid_template_rows": null,
       "height": null,
       "justify_content": null,
       "justify_items": null,
       "left": null,
       "margin": null,
       "max_height": null,
       "max_width": null,
       "min_height": null,
       "min_width": null,
       "object_fit": null,
       "object_position": null,
       "order": null,
       "overflow": null,
       "padding": null,
       "right": null,
       "top": null,
       "visibility": null,
       "width": null
      }
     },
     "4bad7b150e154129acaad9dbf3c2a566": {
      "model_module": "@jupyter-widgets/controls",
      "model_module_version": "2.0.0",
      "model_name": "FloatProgressModel",
      "state": {
       "_dom_classes": [],
       "_model_module": "@jupyter-widgets/controls",
       "_model_module_version": "2.0.0",
       "_model_name": "FloatProgressModel",
       "_view_count": null,
       "_view_module": "@jupyter-widgets/controls",
       "_view_module_version": "2.0.0",
       "_view_name": "ProgressView",
       "bar_style": "success",
       "description": "",
       "description_allow_html": false,
       "layout": "IPY_MODEL_53c02fbad2ab42d6b76d8f28d029ecee",
       "max": 437992753.0,
       "min": 0.0,
       "orientation": "horizontal",
       "style": "IPY_MODEL_d340b933fb6540d1a146acc1c917ffb6",
       "tabbable": null,
       "tooltip": null,
       "value": 437992753.0
      }
     },
     "4bd57171d886442f9bf41485bd656eee": {
      "model_module": "@jupyter-widgets/controls",
      "model_module_version": "2.0.0",
      "model_name": "HBoxModel",
      "state": {
       "_dom_classes": [],
       "_model_module": "@jupyter-widgets/controls",
       "_model_module_version": "2.0.0",
       "_model_name": "HBoxModel",
       "_view_count": null,
       "_view_module": "@jupyter-widgets/controls",
       "_view_module_version": "2.0.0",
       "_view_name": "HBoxView",
       "box_style": "",
       "children": [
        "IPY_MODEL_7c82973bfee342889a01c99447b57040",
        "IPY_MODEL_c0be7c53384b47479c5074e63d92b6fc",
        "IPY_MODEL_83327336423d459f84ff804ed73557f2"
       ],
       "layout": "IPY_MODEL_81d9bb40435041b0b6399ed5674dc06a",
       "tabbable": null,
       "tooltip": null
      }
     },
     "4fcbe1a78a164ebb84d5d5841d719642": {
      "model_module": "@jupyter-widgets/controls",
      "model_module_version": "2.0.0",
      "model_name": "HTMLModel",
      "state": {
       "_dom_classes": [],
       "_model_module": "@jupyter-widgets/controls",
       "_model_module_version": "2.0.0",
       "_model_name": "HTMLModel",
       "_view_count": null,
       "_view_module": "@jupyter-widgets/controls",
       "_view_module_version": "2.0.0",
       "_view_name": "HTMLView",
       "description": "",
       "description_allow_html": false,
       "layout": "IPY_MODEL_15e15f51f8f949a599ed69f38a10421a",
       "placeholder": "​",
       "style": "IPY_MODEL_bb34fac3fb324f1b94678f7ca478fcf2",
       "tabbable": null,
       "tooltip": null,
       "value": "pytorch_model.bin: 100%"
      }
     },
     "53c02fbad2ab42d6b76d8f28d029ecee": {
      "model_module": "@jupyter-widgets/base",
      "model_module_version": "2.0.0",
      "model_name": "LayoutModel",
      "state": {
       "_model_module": "@jupyter-widgets/base",
       "_model_module_version": "2.0.0",
       "_model_name": "LayoutModel",
       "_view_count": null,
       "_view_module": "@jupyter-widgets/base",
       "_view_module_version": "2.0.0",
       "_view_name": "LayoutView",
       "align_content": null,
       "align_items": null,
       "align_self": null,
       "border_bottom": null,
       "border_left": null,
       "border_right": null,
       "border_top": null,
       "bottom": null,
       "display": null,
       "flex": null,
       "flex_flow": null,
       "grid_area": null,
       "grid_auto_columns": null,
       "grid_auto_flow": null,
       "grid_auto_rows": null,
       "grid_column": null,
       "grid_gap": null,
       "grid_row": null,
       "grid_template_areas": null,
       "grid_template_columns": null,
       "grid_template_rows": null,
       "height": null,
       "justify_content": null,
       "justify_items": null,
       "left": null,
       "margin": null,
       "max_height": null,
       "max_width": null,
       "min_height": null,
       "min_width": null,
       "object_fit": null,
       "object_position": null,
       "order": null,
       "overflow": null,
       "padding": null,
       "right": null,
       "top": null,
       "visibility": null,
       "width": null
      }
     },
     "589e74e227da4ead83878e8c612b97d0": {
      "model_module": "@jupyter-widgets/controls",
      "model_module_version": "2.0.0",
      "model_name": "HBoxModel",
      "state": {
       "_dom_classes": [],
       "_model_module": "@jupyter-widgets/controls",
       "_model_module_version": "2.0.0",
       "_model_name": "HBoxModel",
       "_view_count": null,
       "_view_module": "@jupyter-widgets/controls",
       "_view_module_version": "2.0.0",
       "_view_name": "HBoxView",
       "box_style": "",
       "children": [
        "IPY_MODEL_b67f5f7f275040d8babe283a9ceca149",
        "IPY_MODEL_7e1658eebfb640e39e5ba0af09884f64",
        "IPY_MODEL_d3ccc56949454a17806116d380903754"
       ],
       "layout": "IPY_MODEL_1ab513ebccd94fc2b4c372d13907b5e1",
       "tabbable": null,
       "tooltip": null
      }
     },
     "58b6aff8a8c5480082460d54bf431099": {
      "model_module": "@jupyter-widgets/controls",
      "model_module_version": "2.0.0",
      "model_name": "HTMLStyleModel",
      "state": {
       "_model_module": "@jupyter-widgets/controls",
       "_model_module_version": "2.0.0",
       "_model_name": "HTMLStyleModel",
       "_view_count": null,
       "_view_module": "@jupyter-widgets/base",
       "_view_module_version": "2.0.0",
       "_view_name": "StyleView",
       "background": null,
       "description_width": "",
       "font_size": null,
       "text_color": null
      }
     },
     "58b9e1d28d514cc48e587b322717f475": {
      "model_module": "@jupyter-widgets/base",
      "model_module_version": "2.0.0",
      "model_name": "LayoutModel",
      "state": {
       "_model_module": "@jupyter-widgets/base",
       "_model_module_version": "2.0.0",
       "_model_name": "LayoutModel",
       "_view_count": null,
       "_view_module": "@jupyter-widgets/base",
       "_view_module_version": "2.0.0",
       "_view_name": "LayoutView",
       "align_content": null,
       "align_items": null,
       "align_self": null,
       "border_bottom": null,
       "border_left": null,
       "border_right": null,
       "border_top": null,
       "bottom": null,
       "display": null,
       "flex": null,
       "flex_flow": null,
       "grid_area": null,
       "grid_auto_columns": null,
       "grid_auto_flow": null,
       "grid_auto_rows": null,
       "grid_column": null,
       "grid_gap": null,
       "grid_row": null,
       "grid_template_areas": null,
       "grid_template_columns": null,
       "grid_template_rows": null,
       "height": null,
       "justify_content": null,
       "justify_items": null,
       "left": null,
       "margin": null,
       "max_height": null,
       "max_width": null,
       "min_height": null,
       "min_width": null,
       "object_fit": null,
       "object_position": null,
       "order": null,
       "overflow": null,
       "padding": null,
       "right": null,
       "top": null,
       "visibility": null,
       "width": null
      }
     },
     "5bac45d7cf6445f79d22827808bafe9e": {
      "model_module": "@jupyter-widgets/controls",
      "model_module_version": "2.0.0",
      "model_name": "HTMLModel",
      "state": {
       "_dom_classes": [],
       "_model_module": "@jupyter-widgets/controls",
       "_model_module_version": "2.0.0",
       "_model_name": "HTMLModel",
       "_view_count": null,
       "_view_module": "@jupyter-widgets/controls",
       "_view_module_version": "2.0.0",
       "_view_name": "HTMLView",
       "description": "",
       "description_allow_html": false,
       "layout": "IPY_MODEL_0b7c0ac832f346b380cabee3c1fe70b6",
       "placeholder": "​",
       "style": "IPY_MODEL_73b03c40b37c4d34a25ee77803bf4c4d",
       "tabbable": null,
       "tooltip": null,
       "value": " 232k/? [00:00&lt;00:00, 6.02MB/s]"
      }
     },
     "6060a39bc1554e429282f8eb0a4bc243": {
      "model_module": "@jupyter-widgets/controls",
      "model_module_version": "2.0.0",
      "model_name": "HTMLModel",
      "state": {
       "_dom_classes": [],
       "_model_module": "@jupyter-widgets/controls",
       "_model_module_version": "2.0.0",
       "_model_name": "HTMLModel",
       "_view_count": null,
       "_view_module": "@jupyter-widgets/controls",
       "_view_module_version": "2.0.0",
       "_view_name": "HTMLView",
       "description": "",
       "description_allow_html": false,
       "layout": "IPY_MODEL_371ae78d0fd34bd5bc223bb8d67ba502",
       "placeholder": "​",
       "style": "IPY_MODEL_b55dbf1f0ff34e38bdb3c6f241f33123",
       "tabbable": null,
       "tooltip": null,
       "value": "Map: 100%"
      }
     },
     "60cc006b0c964bd7b541723f1d12dcdf": {
      "model_module": "@jupyter-widgets/controls",
      "model_module_version": "2.0.0",
      "model_name": "FloatProgressModel",
      "state": {
       "_dom_classes": [],
       "_model_module": "@jupyter-widgets/controls",
       "_model_module_version": "2.0.0",
       "_model_name": "FloatProgressModel",
       "_view_count": null,
       "_view_module": "@jupyter-widgets/controls",
       "_view_module_version": "2.0.0",
       "_view_name": "ProgressView",
       "bar_style": "success",
       "description": "",
       "description_allow_html": false,
       "layout": "IPY_MODEL_6cf2cd23de2847418dea8a7e5f6d0428",
       "max": 76946.0,
       "min": 0.0,
       "orientation": "horizontal",
       "style": "IPY_MODEL_836036b0977f4c3ebda68424ca17a45f",
       "tabbable": null,
       "tooltip": null,
       "value": 76946.0
      }
     },
     "64cf6291b64d4c3ca0ce46bf16139f64": {
      "model_module": "@jupyter-widgets/base",
      "model_module_version": "2.0.0",
      "model_name": "LayoutModel",
      "state": {
       "_model_module": "@jupyter-widgets/base",
       "_model_module_version": "2.0.0",
       "_model_name": "LayoutModel",
       "_view_count": null,
       "_view_module": "@jupyter-widgets/base",
       "_view_module_version": "2.0.0",
       "_view_name": "LayoutView",
       "align_content": null,
       "align_items": null,
       "align_self": null,
       "border_bottom": null,
       "border_left": null,
       "border_right": null,
       "border_top": null,
       "bottom": null,
       "display": null,
       "flex": null,
       "flex_flow": null,
       "grid_area": null,
       "grid_auto_columns": null,
       "grid_auto_flow": null,
       "grid_auto_rows": null,
       "grid_column": null,
       "grid_gap": null,
       "grid_row": null,
       "grid_template_areas": null,
       "grid_template_columns": null,
       "grid_template_rows": null,
       "height": null,
       "justify_content": null,
       "justify_items": null,
       "left": null,
       "margin": null,
       "max_height": null,
       "max_width": null,
       "min_height": null,
       "min_width": null,
       "object_fit": null,
       "object_position": null,
       "order": null,
       "overflow": null,
       "padding": null,
       "right": null,
       "top": null,
       "visibility": null,
       "width": null
      }
     },
     "66202aa28ef7438abe021dc65c6f6bd1": {
      "model_module": "@jupyter-widgets/controls",
      "model_module_version": "2.0.0",
      "model_name": "HTMLModel",
      "state": {
       "_dom_classes": [],
       "_model_module": "@jupyter-widgets/controls",
       "_model_module_version": "2.0.0",
       "_model_name": "HTMLModel",
       "_view_count": null,
       "_view_module": "@jupyter-widgets/controls",
       "_view_module_version": "2.0.0",
       "_view_name": "HTMLView",
       "description": "",
       "description_allow_html": false,
       "layout": "IPY_MODEL_cd36ebedeb1045b19b2590bfad66d0bc",
       "placeholder": "​",
       "style": "IPY_MODEL_72bba9956e9747e28111c083299a2a69",
       "tabbable": null,
       "tooltip": null,
       "value": "vocab.txt: "
      }
     },
     "6924e71c9ef84efc808652cce22f34c3": {
      "model_module": "@jupyter-widgets/base",
      "model_module_version": "2.0.0",
      "model_name": "LayoutModel",
      "state": {
       "_model_module": "@jupyter-widgets/base",
       "_model_module_version": "2.0.0",
       "_model_name": "LayoutModel",
       "_view_count": null,
       "_view_module": "@jupyter-widgets/base",
       "_view_module_version": "2.0.0",
       "_view_name": "LayoutView",
       "align_content": null,
       "align_items": null,
       "align_self": null,
       "border_bottom": null,
       "border_left": null,
       "border_right": null,
       "border_top": null,
       "bottom": null,
       "display": null,
       "flex": null,
       "flex_flow": null,
       "grid_area": null,
       "grid_auto_columns": null,
       "grid_auto_flow": null,
       "grid_auto_rows": null,
       "grid_column": null,
       "grid_gap": null,
       "grid_row": null,
       "grid_template_areas": null,
       "grid_template_columns": null,
       "grid_template_rows": null,
       "height": null,
       "justify_content": null,
       "justify_items": null,
       "left": null,
       "margin": null,
       "max_height": null,
       "max_width": null,
       "min_height": null,
       "min_width": null,
       "object_fit": null,
       "object_position": null,
       "order": null,
       "overflow": null,
       "padding": null,
       "right": null,
       "top": null,
       "visibility": null,
       "width": null
      }
     },
     "6cf2cd23de2847418dea8a7e5f6d0428": {
      "model_module": "@jupyter-widgets/base",
      "model_module_version": "2.0.0",
      "model_name": "LayoutModel",
      "state": {
       "_model_module": "@jupyter-widgets/base",
       "_model_module_version": "2.0.0",
       "_model_name": "LayoutModel",
       "_view_count": null,
       "_view_module": "@jupyter-widgets/base",
       "_view_module_version": "2.0.0",
       "_view_name": "LayoutView",
       "align_content": null,
       "align_items": null,
       "align_self": null,
       "border_bottom": null,
       "border_left": null,
       "border_right": null,
       "border_top": null,
       "bottom": null,
       "display": null,
       "flex": null,
       "flex_flow": null,
       "grid_area": null,
       "grid_auto_columns": null,
       "grid_auto_flow": null,
       "grid_auto_rows": null,
       "grid_column": null,
       "grid_gap": null,
       "grid_row": null,
       "grid_template_areas": null,
       "grid_template_columns": null,
       "grid_template_rows": null,
       "height": null,
       "justify_content": null,
       "justify_items": null,
       "left": null,
       "margin": null,
       "max_height": null,
       "max_width": null,
       "min_height": null,
       "min_width": null,
       "object_fit": null,
       "object_position": null,
       "order": null,
       "overflow": null,
       "padding": null,
       "right": null,
       "top": null,
       "visibility": null,
       "width": null
      }
     },
     "6e6bbd83dc364cc49acb5cab7909bf18": {
      "model_module": "@jupyter-widgets/controls",
      "model_module_version": "2.0.0",
      "model_name": "HBoxModel",
      "state": {
       "_dom_classes": [],
       "_model_module": "@jupyter-widgets/controls",
       "_model_module_version": "2.0.0",
       "_model_name": "HBoxModel",
       "_view_count": null,
       "_view_module": "@jupyter-widgets/controls",
       "_view_module_version": "2.0.0",
       "_view_name": "HBoxView",
       "box_style": "",
       "children": [
        "IPY_MODEL_66202aa28ef7438abe021dc65c6f6bd1",
        "IPY_MODEL_f4239eaea05f4b0a8fcd12720a7dcd06",
        "IPY_MODEL_5bac45d7cf6445f79d22827808bafe9e"
       ],
       "layout": "IPY_MODEL_865eca73bfb14ec0aa0b3ddb7fecf814",
       "tabbable": null,
       "tooltip": null
      }
     },
     "6f026e002d994e01a6b6c4b890c2e185": {
      "model_module": "@jupyter-widgets/controls",
      "model_module_version": "2.0.0",
      "model_name": "ProgressStyleModel",
      "state": {
       "_model_module": "@jupyter-widgets/controls",
       "_model_module_version": "2.0.0",
       "_model_name": "ProgressStyleModel",
       "_view_count": null,
       "_view_module": "@jupyter-widgets/base",
       "_view_module_version": "2.0.0",
       "_view_name": "StyleView",
       "bar_color": null,
       "description_width": ""
      }
     },
     "72bba9956e9747e28111c083299a2a69": {
      "model_module": "@jupyter-widgets/controls",
      "model_module_version": "2.0.0",
      "model_name": "HTMLStyleModel",
      "state": {
       "_model_module": "@jupyter-widgets/controls",
       "_model_module_version": "2.0.0",
       "_model_name": "HTMLStyleModel",
       "_view_count": null,
       "_view_module": "@jupyter-widgets/base",
       "_view_module_version": "2.0.0",
       "_view_name": "StyleView",
       "background": null,
       "description_width": "",
       "font_size": null,
       "text_color": null
      }
     },
     "73b03c40b37c4d34a25ee77803bf4c4d": {
      "model_module": "@jupyter-widgets/controls",
      "model_module_version": "2.0.0",
      "model_name": "HTMLStyleModel",
      "state": {
       "_model_module": "@jupyter-widgets/controls",
       "_model_module_version": "2.0.0",
       "_model_name": "HTMLStyleModel",
       "_view_count": null,
       "_view_module": "@jupyter-widgets/base",
       "_view_module_version": "2.0.0",
       "_view_name": "StyleView",
       "background": null,
       "description_width": "",
       "font_size": null,
       "text_color": null
      }
     },
     "744106aca0894e62b3df48e0f48af3fd": {
      "model_module": "@jupyter-widgets/controls",
      "model_module_version": "2.0.0",
      "model_name": "HTMLStyleModel",
      "state": {
       "_model_module": "@jupyter-widgets/controls",
       "_model_module_version": "2.0.0",
       "_model_name": "HTMLStyleModel",
       "_view_count": null,
       "_view_module": "@jupyter-widgets/base",
       "_view_module_version": "2.0.0",
       "_view_name": "StyleView",
       "background": null,
       "description_width": "",
       "font_size": null,
       "text_color": null
      }
     },
     "765769c5ea25416e99ecf1ca385bf4b7": {
      "model_module": "@jupyter-widgets/controls",
      "model_module_version": "2.0.0",
      "model_name": "HTMLStyleModel",
      "state": {
       "_model_module": "@jupyter-widgets/controls",
       "_model_module_version": "2.0.0",
       "_model_name": "HTMLStyleModel",
       "_view_count": null,
       "_view_module": "@jupyter-widgets/base",
       "_view_module_version": "2.0.0",
       "_view_name": "StyleView",
       "background": null,
       "description_width": "",
       "font_size": null,
       "text_color": null
      }
     },
     "7a1c259d12664e378f1557078958ef9e": {
      "model_module": "@jupyter-widgets/controls",
      "model_module_version": "2.0.0",
      "model_name": "HTMLModel",
      "state": {
       "_dom_classes": [],
       "_model_module": "@jupyter-widgets/controls",
       "_model_module_version": "2.0.0",
       "_model_name": "HTMLModel",
       "_view_count": null,
       "_view_module": "@jupyter-widgets/controls",
       "_view_module_version": "2.0.0",
       "_view_name": "HTMLView",
       "description": "",
       "description_allow_html": false,
       "layout": "IPY_MODEL_f0c71d832b724b87a3ee979d29a3fa87",
       "placeholder": "​",
       "style": "IPY_MODEL_86a7a7bea801430ab78ed79280585ee4",
       "tabbable": null,
       "tooltip": null,
       "value": "Map: 100%"
      }
     },
     "7c82973bfee342889a01c99447b57040": {
      "model_module": "@jupyter-widgets/controls",
      "model_module_version": "2.0.0",
      "model_name": "HTMLModel",
      "state": {
       "_dom_classes": [],
       "_model_module": "@jupyter-widgets/controls",
       "_model_module_version": "2.0.0",
       "_model_name": "HTMLModel",
       "_view_count": null,
       "_view_module": "@jupyter-widgets/controls",
       "_view_module_version": "2.0.0",
       "_view_name": "HTMLView",
       "description": "",
       "description_allow_html": false,
       "layout": "IPY_MODEL_a676b64b06534739bd440f1338c18869",
       "placeholder": "​",
       "style": "IPY_MODEL_e8c15c9c9b4b41ca92eedce01dfc4480",
       "tabbable": null,
       "tooltip": null,
       "value": "Best trial: 5. Best value: 0.974273:   0%"
      }
     },
     "7e1658eebfb640e39e5ba0af09884f64": {
      "model_module": "@jupyter-widgets/controls",
      "model_module_version": "2.0.0",
      "model_name": "FloatProgressModel",
      "state": {
       "_dom_classes": [],
       "_model_module": "@jupyter-widgets/controls",
       "_model_module_version": "2.0.0",
       "_model_name": "FloatProgressModel",
       "_view_count": null,
       "_view_module": "@jupyter-widgets/controls",
       "_view_module_version": "2.0.0",
       "_view_name": "ProgressView",
       "bar_style": "success",
       "description": "",
       "description_allow_html": false,
       "layout": "IPY_MODEL_47ba83c1b1eb468d9794b84db1190881",
       "max": 758.0,
       "min": 0.0,
       "orientation": "horizontal",
       "style": "IPY_MODEL_6f026e002d994e01a6b6c4b890c2e185",
       "tabbable": null,
       "tooltip": null,
       "value": 758.0
      }
     },
     "7e939e637b434d57a5f2de44269679d9": {
      "model_module": "@jupyter-widgets/base",
      "model_module_version": "2.0.0",
      "model_name": "LayoutModel",
      "state": {
       "_model_module": "@jupyter-widgets/base",
       "_model_module_version": "2.0.0",
       "_model_name": "LayoutModel",
       "_view_count": null,
       "_view_module": "@jupyter-widgets/base",
       "_view_module_version": "2.0.0",
       "_view_name": "LayoutView",
       "align_content": null,
       "align_items": null,
       "align_self": null,
       "border_bottom": null,
       "border_left": null,
       "border_right": null,
       "border_top": null,
       "bottom": null,
       "display": null,
       "flex": null,
       "flex_flow": null,
       "grid_area": null,
       "grid_auto_columns": null,
       "grid_auto_flow": null,
       "grid_auto_rows": null,
       "grid_column": null,
       "grid_gap": null,
       "grid_row": null,
       "grid_template_areas": null,
       "grid_template_columns": null,
       "grid_template_rows": null,
       "height": null,
       "justify_content": null,
       "justify_items": null,
       "left": null,
       "margin": null,
       "max_height": null,
       "max_width": null,
       "min_height": null,
       "min_width": null,
       "object_fit": null,
       "object_position": null,
       "order": null,
       "overflow": null,
       "padding": null,
       "right": null,
       "top": null,
       "visibility": null,
       "width": null
      }
     },
     "81d9bb40435041b0b6399ed5674dc06a": {
      "model_module": "@jupyter-widgets/base",
      "model_module_version": "2.0.0",
      "model_name": "LayoutModel",
      "state": {
       "_model_module": "@jupyter-widgets/base",
       "_model_module_version": "2.0.0",
       "_model_name": "LayoutModel",
       "_view_count": null,
       "_view_module": "@jupyter-widgets/base",
       "_view_module_version": "2.0.0",
       "_view_name": "LayoutView",
       "align_content": null,
       "align_items": null,
       "align_self": null,
       "border_bottom": null,
       "border_left": null,
       "border_right": null,
       "border_top": null,
       "bottom": null,
       "display": null,
       "flex": null,
       "flex_flow": null,
       "grid_area": null,
       "grid_auto_columns": null,
       "grid_auto_flow": null,
       "grid_auto_rows": null,
       "grid_column": null,
       "grid_gap": null,
       "grid_row": null,
       "grid_template_areas": null,
       "grid_template_columns": null,
       "grid_template_rows": null,
       "height": null,
       "justify_content": null,
       "justify_items": null,
       "left": null,
       "margin": null,
       "max_height": null,
       "max_width": null,
       "min_height": null,
       "min_width": null,
       "object_fit": null,
       "object_position": null,
       "order": null,
       "overflow": null,
       "padding": null,
       "right": null,
       "top": null,
       "visibility": null,
       "width": null
      }
     },
     "83327336423d459f84ff804ed73557f2": {
      "model_module": "@jupyter-widgets/controls",
      "model_module_version": "2.0.0",
      "model_name": "HTMLModel",
      "state": {
       "_dom_classes": [],
       "_model_module": "@jupyter-widgets/controls",
       "_model_module_version": "2.0.0",
       "_model_name": "HTMLModel",
       "_view_count": null,
       "_view_module": "@jupyter-widgets/controls",
       "_view_module_version": "2.0.0",
       "_view_name": "HTMLView",
       "description": "",
       "description_allow_html": false,
       "layout": "IPY_MODEL_6924e71c9ef84efc808652cce22f34c3",
       "placeholder": "​",
       "style": "IPY_MODEL_419354af9a9943ce845dd49586c3bd55",
       "tabbable": null,
       "tooltip": null,
       "value": " 2/1000000 [11:48:20&lt;5085771:29:11, 18308.81s/it]"
      }
     },
     "836036b0977f4c3ebda68424ca17a45f": {
      "model_module": "@jupyter-widgets/controls",
      "model_module_version": "2.0.0",
      "model_name": "ProgressStyleModel",
      "state": {
       "_model_module": "@jupyter-widgets/controls",
       "_model_module_version": "2.0.0",
       "_model_name": "ProgressStyleModel",
       "_view_count": null,
       "_view_module": "@jupyter-widgets/base",
       "_view_module_version": "2.0.0",
       "_view_name": "StyleView",
       "bar_color": null,
       "description_width": ""
      }
     },
     "865eca73bfb14ec0aa0b3ddb7fecf814": {
      "model_module": "@jupyter-widgets/base",
      "model_module_version": "2.0.0",
      "model_name": "LayoutModel",
      "state": {
       "_model_module": "@jupyter-widgets/base",
       "_model_module_version": "2.0.0",
       "_model_name": "LayoutModel",
       "_view_count": null,
       "_view_module": "@jupyter-widgets/base",
       "_view_module_version": "2.0.0",
       "_view_name": "LayoutView",
       "align_content": null,
       "align_items": null,
       "align_self": null,
       "border_bottom": null,
       "border_left": null,
       "border_right": null,
       "border_top": null,
       "bottom": null,
       "display": null,
       "flex": null,
       "flex_flow": null,
       "grid_area": null,
       "grid_auto_columns": null,
       "grid_auto_flow": null,
       "grid_auto_rows": null,
       "grid_column": null,
       "grid_gap": null,
       "grid_row": null,
       "grid_template_areas": null,
       "grid_template_columns": null,
       "grid_template_rows": null,
       "height": null,
       "justify_content": null,
       "justify_items": null,
       "left": null,
       "margin": null,
       "max_height": null,
       "max_width": null,
       "min_height": null,
       "min_width": null,
       "object_fit": null,
       "object_position": null,
       "order": null,
       "overflow": null,
       "padding": null,
       "right": null,
       "top": null,
       "visibility": null,
       "width": null
      }
     },
     "86a7a7bea801430ab78ed79280585ee4": {
      "model_module": "@jupyter-widgets/controls",
      "model_module_version": "2.0.0",
      "model_name": "HTMLStyleModel",
      "state": {
       "_model_module": "@jupyter-widgets/controls",
       "_model_module_version": "2.0.0",
       "_model_name": "HTMLStyleModel",
       "_view_count": null,
       "_view_module": "@jupyter-widgets/base",
       "_view_module_version": "2.0.0",
       "_view_name": "StyleView",
       "background": null,
       "description_width": "",
       "font_size": null,
       "text_color": null
      }
     },
     "871562a899784218981f16014b1a2b7d": {
      "model_module": "@jupyter-widgets/controls",
      "model_module_version": "2.0.0",
      "model_name": "HTMLStyleModel",
      "state": {
       "_model_module": "@jupyter-widgets/controls",
       "_model_module_version": "2.0.0",
       "_model_name": "HTMLStyleModel",
       "_view_count": null,
       "_view_module": "@jupyter-widgets/base",
       "_view_module_version": "2.0.0",
       "_view_name": "StyleView",
       "background": null,
       "description_width": "",
       "font_size": null,
       "text_color": null
      }
     },
     "87ffd78efe634f50a5b1baf0bdeafafc": {
      "model_module": "@jupyter-widgets/controls",
      "model_module_version": "2.0.0",
      "model_name": "HBoxModel",
      "state": {
       "_dom_classes": [],
       "_model_module": "@jupyter-widgets/controls",
       "_model_module_version": "2.0.0",
       "_model_name": "HBoxModel",
       "_view_count": null,
       "_view_module": "@jupyter-widgets/controls",
       "_view_module_version": "2.0.0",
       "_view_name": "HBoxView",
       "box_style": "",
       "children": [
        "IPY_MODEL_6060a39bc1554e429282f8eb0a4bc243",
        "IPY_MODEL_c52a96ffc97b499984f9ad94fdef4f5d",
        "IPY_MODEL_d2052376657546d981f54efce90daf81"
       ],
       "layout": "IPY_MODEL_e1cc33d9c95f46078f984179738daf68",
       "tabbable": null,
       "tooltip": null
      }
     },
     "9ada0cdf495a497da5e4ea5a98f09d0c": {
      "model_module": "@jupyter-widgets/controls",
      "model_module_version": "2.0.0",
      "model_name": "HTMLModel",
      "state": {
       "_dom_classes": [],
       "_model_module": "@jupyter-widgets/controls",
       "_model_module_version": "2.0.0",
       "_model_name": "HTMLModel",
       "_view_count": null,
       "_view_module": "@jupyter-widgets/controls",
       "_view_module_version": "2.0.0",
       "_view_name": "HTMLView",
       "description": "",
       "description_allow_html": false,
       "layout": "IPY_MODEL_ba8ca97f68d746c3853dad178c6c06d5",
       "placeholder": "​",
       "style": "IPY_MODEL_58b6aff8a8c5480082460d54bf431099",
       "tabbable": null,
       "tooltip": null,
       "value": "tokenizer_config.json: 100%"
      }
     },
     "9e327ff83902450c94273876c55ac1cb": {
      "model_module": "@jupyter-widgets/base",
      "model_module_version": "2.0.0",
      "model_name": "LayoutModel",
      "state": {
       "_model_module": "@jupyter-widgets/base",
       "_model_module_version": "2.0.0",
       "_model_name": "LayoutModel",
       "_view_count": null,
       "_view_module": "@jupyter-widgets/base",
       "_view_module_version": "2.0.0",
       "_view_name": "LayoutView",
       "align_content": null,
       "align_items": null,
       "align_self": null,
       "border_bottom": null,
       "border_left": null,
       "border_right": null,
       "border_top": null,
       "bottom": null,
       "display": null,
       "flex": null,
       "flex_flow": null,
       "grid_area": null,
       "grid_auto_columns": null,
       "grid_auto_flow": null,
       "grid_auto_rows": null,
       "grid_column": null,
       "grid_gap": null,
       "grid_row": null,
       "grid_template_areas": null,
       "grid_template_columns": null,
       "grid_template_rows": null,
       "height": null,
       "justify_content": null,
       "justify_items": null,
       "left": null,
       "margin": null,
       "max_height": null,
       "max_width": null,
       "min_height": null,
       "min_width": null,
       "object_fit": null,
       "object_position": null,
       "order": null,
       "overflow": null,
       "padding": null,
       "right": null,
       "top": null,
       "visibility": null,
       "width": null
      }
     },
     "a0a49f3ace3b417fb1c15a3b9101a045": {
      "model_module": "@jupyter-widgets/base",
      "model_module_version": "2.0.0",
      "model_name": "LayoutModel",
      "state": {
       "_model_module": "@jupyter-widgets/base",
       "_model_module_version": "2.0.0",
       "_model_name": "LayoutModel",
       "_view_count": null,
       "_view_module": "@jupyter-widgets/base",
       "_view_module_version": "2.0.0",
       "_view_name": "LayoutView",
       "align_content": null,
       "align_items": null,
       "align_self": null,
       "border_bottom": null,
       "border_left": null,
       "border_right": null,
       "border_top": null,
       "bottom": null,
       "display": null,
       "flex": null,
       "flex_flow": null,
       "grid_area": null,
       "grid_auto_columns": null,
       "grid_auto_flow": null,
       "grid_auto_rows": null,
       "grid_column": null,
       "grid_gap": null,
       "grid_row": null,
       "grid_template_areas": null,
       "grid_template_columns": null,
       "grid_template_rows": null,
       "height": null,
       "justify_content": null,
       "justify_items": null,
       "left": null,
       "margin": null,
       "max_height": null,
       "max_width": null,
       "min_height": null,
       "min_width": null,
       "object_fit": null,
       "object_position": null,
       "order": null,
       "overflow": null,
       "padding": null,
       "right": null,
       "top": null,
       "visibility": null,
       "width": null
      }
     },
     "a1d338ec88db410cbed5f577da87009d": {
      "model_module": "@jupyter-widgets/controls",
      "model_module_version": "2.0.0",
      "model_name": "HTMLModel",
      "state": {
       "_dom_classes": [],
       "_model_module": "@jupyter-widgets/controls",
       "_model_module_version": "2.0.0",
       "_model_name": "HTMLModel",
       "_view_count": null,
       "_view_module": "@jupyter-widgets/controls",
       "_view_module_version": "2.0.0",
       "_view_name": "HTMLView",
       "description": "",
       "description_allow_html": false,
       "layout": "IPY_MODEL_58b9e1d28d514cc48e587b322717f475",
       "placeholder": "​",
       "style": "IPY_MODEL_765769c5ea25416e99ecf1ca385bf4b7",
       "tabbable": null,
       "tooltip": null,
       "value": " 438M/438M [00:01&lt;00:00, 260MB/s]"
      }
     },
     "a21a6dd7c006497bb16845a1e4cd646d": {
      "model_module": "@jupyter-widgets/controls",
      "model_module_version": "2.0.0",
      "model_name": "HTMLModel",
      "state": {
       "_dom_classes": [],
       "_model_module": "@jupyter-widgets/controls",
       "_model_module_version": "2.0.0",
       "_model_name": "HTMLModel",
       "_view_count": null,
       "_view_module": "@jupyter-widgets/controls",
       "_view_module_version": "2.0.0",
       "_view_name": "HTMLView",
       "description": "",
       "description_allow_html": false,
       "layout": "IPY_MODEL_9e327ff83902450c94273876c55ac1cb",
       "placeholder": "​",
       "style": "IPY_MODEL_744106aca0894e62b3df48e0f48af3fd",
       "tabbable": null,
       "tooltip": null,
       "value": " 76946/76946 [00:12&lt;00:00, 5525.27 examples/s]"
      }
     },
     "a391dabf513e445a8af1bcf7cedfddc2": {
      "model_module": "@jupyter-widgets/base",
      "model_module_version": "2.0.0",
      "model_name": "LayoutModel",
      "state": {
       "_model_module": "@jupyter-widgets/base",
       "_model_module_version": "2.0.0",
       "_model_name": "LayoutModel",
       "_view_count": null,
       "_view_module": "@jupyter-widgets/base",
       "_view_module_version": "2.0.0",
       "_view_name": "LayoutView",
       "align_content": null,
       "align_items": null,
       "align_self": null,
       "border_bottom": null,
       "border_left": null,
       "border_right": null,
       "border_top": null,
       "bottom": null,
       "display": null,
       "flex": null,
       "flex_flow": null,
       "grid_area": null,
       "grid_auto_columns": null,
       "grid_auto_flow": null,
       "grid_auto_rows": null,
       "grid_column": null,
       "grid_gap": null,
       "grid_row": null,
       "grid_template_areas": null,
       "grid_template_columns": null,
       "grid_template_rows": null,
       "height": null,
       "justify_content": null,
       "justify_items": null,
       "left": null,
       "margin": null,
       "max_height": null,
       "max_width": null,
       "min_height": null,
       "min_width": null,
       "object_fit": null,
       "object_position": null,
       "order": null,
       "overflow": null,
       "padding": null,
       "right": null,
       "top": null,
       "visibility": null,
       "width": null
      }
     },
     "a676b64b06534739bd440f1338c18869": {
      "model_module": "@jupyter-widgets/base",
      "model_module_version": "2.0.0",
      "model_name": "LayoutModel",
      "state": {
       "_model_module": "@jupyter-widgets/base",
       "_model_module_version": "2.0.0",
       "_model_name": "LayoutModel",
       "_view_count": null,
       "_view_module": "@jupyter-widgets/base",
       "_view_module_version": "2.0.0",
       "_view_name": "LayoutView",
       "align_content": null,
       "align_items": null,
       "align_self": null,
       "border_bottom": null,
       "border_left": null,
       "border_right": null,
       "border_top": null,
       "bottom": null,
       "display": null,
       "flex": null,
       "flex_flow": null,
       "grid_area": null,
       "grid_auto_columns": null,
       "grid_auto_flow": null,
       "grid_auto_rows": null,
       "grid_column": null,
       "grid_gap": null,
       "grid_row": null,
       "grid_template_areas": null,
       "grid_template_columns": null,
       "grid_template_rows": null,
       "height": null,
       "justify_content": null,
       "justify_items": null,
       "left": null,
       "margin": null,
       "max_height": null,
       "max_width": null,
       "min_height": null,
       "min_width": null,
       "object_fit": null,
       "object_position": null,
       "order": null,
       "overflow": null,
       "padding": null,
       "right": null,
       "top": null,
       "visibility": null,
       "width": null
      }
     },
     "aa3ddea251f8459d9167a0997477f16e": {
      "model_module": "@jupyter-widgets/base",
      "model_module_version": "2.0.0",
      "model_name": "LayoutModel",
      "state": {
       "_model_module": "@jupyter-widgets/base",
       "_model_module_version": "2.0.0",
       "_model_name": "LayoutModel",
       "_view_count": null,
       "_view_module": "@jupyter-widgets/base",
       "_view_module_version": "2.0.0",
       "_view_name": "LayoutView",
       "align_content": null,
       "align_items": null,
       "align_self": null,
       "border_bottom": null,
       "border_left": null,
       "border_right": null,
       "border_top": null,
       "bottom": null,
       "display": null,
       "flex": null,
       "flex_flow": null,
       "grid_area": null,
       "grid_auto_columns": null,
       "grid_auto_flow": null,
       "grid_auto_rows": null,
       "grid_column": null,
       "grid_gap": null,
       "grid_row": null,
       "grid_template_areas": null,
       "grid_template_columns": null,
       "grid_template_rows": null,
       "height": null,
       "justify_content": null,
       "justify_items": null,
       "left": null,
       "margin": null,
       "max_height": null,
       "max_width": null,
       "min_height": null,
       "min_width": null,
       "object_fit": null,
       "object_position": null,
       "order": null,
       "overflow": null,
       "padding": null,
       "right": null,
       "top": null,
       "visibility": null,
       "width": null
      }
     },
     "ad0e39dfdac941e98553ea71a35c27cd": {
      "model_module": "@jupyter-widgets/base",
      "model_module_version": "2.0.0",
      "model_name": "LayoutModel",
      "state": {
       "_model_module": "@jupyter-widgets/base",
       "_model_module_version": "2.0.0",
       "_model_name": "LayoutModel",
       "_view_count": null,
       "_view_module": "@jupyter-widgets/base",
       "_view_module_version": "2.0.0",
       "_view_name": "LayoutView",
       "align_content": null,
       "align_items": null,
       "align_self": null,
       "border_bottom": null,
       "border_left": null,
       "border_right": null,
       "border_top": null,
       "bottom": null,
       "display": null,
       "flex": null,
       "flex_flow": null,
       "grid_area": null,
       "grid_auto_columns": null,
       "grid_auto_flow": null,
       "grid_auto_rows": null,
       "grid_column": null,
       "grid_gap": null,
       "grid_row": null,
       "grid_template_areas": null,
       "grid_template_columns": null,
       "grid_template_rows": null,
       "height": null,
       "justify_content": null,
       "justify_items": null,
       "left": null,
       "margin": null,
       "max_height": null,
       "max_width": null,
       "min_height": null,
       "min_width": null,
       "object_fit": null,
       "object_position": null,
       "order": null,
       "overflow": null,
       "padding": null,
       "right": null,
       "top": null,
       "visibility": null,
       "width": null
      }
     },
     "b55dbf1f0ff34e38bdb3c6f241f33123": {
      "model_module": "@jupyter-widgets/controls",
      "model_module_version": "2.0.0",
      "model_name": "HTMLStyleModel",
      "state": {
       "_model_module": "@jupyter-widgets/controls",
       "_model_module_version": "2.0.0",
       "_model_name": "HTMLStyleModel",
       "_view_count": null,
       "_view_module": "@jupyter-widgets/base",
       "_view_module_version": "2.0.0",
       "_view_name": "StyleView",
       "background": null,
       "description_width": "",
       "font_size": null,
       "text_color": null
      }
     },
     "b67f5f7f275040d8babe283a9ceca149": {
      "model_module": "@jupyter-widgets/controls",
      "model_module_version": "2.0.0",
      "model_name": "HTMLModel",
      "state": {
       "_dom_classes": [],
       "_model_module": "@jupyter-widgets/controls",
       "_model_module_version": "2.0.0",
       "_model_name": "HTMLModel",
       "_view_count": null,
       "_view_module": "@jupyter-widgets/controls",
       "_view_module_version": "2.0.0",
       "_view_name": "HTMLView",
       "description": "",
       "description_allow_html": false,
       "layout": "IPY_MODEL_aa3ddea251f8459d9167a0997477f16e",
       "placeholder": "​",
       "style": "IPY_MODEL_35ccf391a1d7466ca85e75a98656d751",
       "tabbable": null,
       "tooltip": null,
       "value": "config.json: 100%"
      }
     },
     "b877f9ffac1a4c8ab41fc95de27cda54": {
      "model_module": "@jupyter-widgets/controls",
      "model_module_version": "2.0.0",
      "model_name": "HTMLModel",
      "state": {
       "_dom_classes": [],
       "_model_module": "@jupyter-widgets/controls",
       "_model_module_version": "2.0.0",
       "_model_name": "HTMLModel",
       "_view_count": null,
       "_view_module": "@jupyter-widgets/controls",
       "_view_module_version": "2.0.0",
       "_view_name": "HTMLView",
       "description": "",
       "description_allow_html": false,
       "layout": "IPY_MODEL_a0a49f3ace3b417fb1c15a3b9101a045",
       "placeholder": "​",
       "style": "IPY_MODEL_d54e0d2710a84ecf8eb0a6d8b812ba93",
       "tabbable": null,
       "tooltip": null,
       "value": " 112/112 [00:00&lt;00:00, 11.9kB/s]"
      }
     },
     "ba8ca97f68d746c3853dad178c6c06d5": {
      "model_module": "@jupyter-widgets/base",
      "model_module_version": "2.0.0",
      "model_name": "LayoutModel",
      "state": {
       "_model_module": "@jupyter-widgets/base",
       "_model_module_version": "2.0.0",
       "_model_name": "LayoutModel",
       "_view_count": null,
       "_view_module": "@jupyter-widgets/base",
       "_view_module_version": "2.0.0",
       "_view_name": "LayoutView",
       "align_content": null,
       "align_items": null,
       "align_self": null,
       "border_bottom": null,
       "border_left": null,
       "border_right": null,
       "border_top": null,
       "bottom": null,
       "display": null,
       "flex": null,
       "flex_flow": null,
       "grid_area": null,
       "grid_auto_columns": null,
       "grid_auto_flow": null,
       "grid_auto_rows": null,
       "grid_column": null,
       "grid_gap": null,
       "grid_row": null,
       "grid_template_areas": null,
       "grid_template_columns": null,
       "grid_template_rows": null,
       "height": null,
       "justify_content": null,
       "justify_items": null,
       "left": null,
       "margin": null,
       "max_height": null,
       "max_width": null,
       "min_height": null,
       "min_width": null,
       "object_fit": null,
       "object_position": null,
       "order": null,
       "overflow": null,
       "padding": null,
       "right": null,
       "top": null,
       "visibility": null,
       "width": null
      }
     },
     "bb34fac3fb324f1b94678f7ca478fcf2": {
      "model_module": "@jupyter-widgets/controls",
      "model_module_version": "2.0.0",
      "model_name": "HTMLStyleModel",
      "state": {
       "_model_module": "@jupyter-widgets/controls",
       "_model_module_version": "2.0.0",
       "_model_name": "HTMLStyleModel",
       "_view_count": null,
       "_view_module": "@jupyter-widgets/base",
       "_view_module_version": "2.0.0",
       "_view_name": "StyleView",
       "background": null,
       "description_width": "",
       "font_size": null,
       "text_color": null
      }
     },
     "c0be7c53384b47479c5074e63d92b6fc": {
      "model_module": "@jupyter-widgets/controls",
      "model_module_version": "2.0.0",
      "model_name": "FloatProgressModel",
      "state": {
       "_dom_classes": [],
       "_model_module": "@jupyter-widgets/controls",
       "_model_module_version": "2.0.0",
       "_model_name": "FloatProgressModel",
       "_view_count": null,
       "_view_module": "@jupyter-widgets/controls",
       "_view_module_version": "2.0.0",
       "_view_name": "ProgressView",
       "bar_style": "danger",
       "description": "",
       "description_allow_html": false,
       "layout": "IPY_MODEL_ad0e39dfdac941e98553ea71a35c27cd",
       "max": 1000000.0,
       "min": 0.0,
       "orientation": "horizontal",
       "style": "IPY_MODEL_45847446478d4560a82b4363366ab5ef",
       "tabbable": null,
       "tooltip": null,
       "value": 2.0
      }
     },
     "c52a96ffc97b499984f9ad94fdef4f5d": {
      "model_module": "@jupyter-widgets/controls",
      "model_module_version": "2.0.0",
      "model_name": "FloatProgressModel",
      "state": {
       "_dom_classes": [],
       "_model_module": "@jupyter-widgets/controls",
       "_model_module_version": "2.0.0",
       "_model_name": "FloatProgressModel",
       "_view_count": null,
       "_view_module": "@jupyter-widgets/controls",
       "_view_module_version": "2.0.0",
       "_view_name": "ProgressView",
       "bar_style": "success",
       "description": "",
       "description_allow_html": false,
       "layout": "IPY_MODEL_64cf6291b64d4c3ca0ce46bf16139f64",
       "max": 307787.0,
       "min": 0.0,
       "orientation": "horizontal",
       "style": "IPY_MODEL_f1a0e8057ef740a9a1f36cd8e83069f9",
       "tabbable": null,
       "tooltip": null,
       "value": 307787.0
      }
     },
     "cd36ebedeb1045b19b2590bfad66d0bc": {
      "model_module": "@jupyter-widgets/base",
      "model_module_version": "2.0.0",
      "model_name": "LayoutModel",
      "state": {
       "_model_module": "@jupyter-widgets/base",
       "_model_module_version": "2.0.0",
       "_model_name": "LayoutModel",
       "_view_count": null,
       "_view_module": "@jupyter-widgets/base",
       "_view_module_version": "2.0.0",
       "_view_name": "LayoutView",
       "align_content": null,
       "align_items": null,
       "align_self": null,
       "border_bottom": null,
       "border_left": null,
       "border_right": null,
       "border_top": null,
       "bottom": null,
       "display": null,
       "flex": null,
       "flex_flow": null,
       "grid_area": null,
       "grid_auto_columns": null,
       "grid_auto_flow": null,
       "grid_auto_rows": null,
       "grid_column": null,
       "grid_gap": null,
       "grid_row": null,
       "grid_template_areas": null,
       "grid_template_columns": null,
       "grid_template_rows": null,
       "height": null,
       "justify_content": null,
       "justify_items": null,
       "left": null,
       "margin": null,
       "max_height": null,
       "max_width": null,
       "min_height": null,
       "min_width": null,
       "object_fit": null,
       "object_position": null,
       "order": null,
       "overflow": null,
       "padding": null,
       "right": null,
       "top": null,
       "visibility": null,
       "width": null
      }
     },
     "cffa35a9349541fb93479381875cbfe9": {
      "model_module": "@jupyter-widgets/base",
      "model_module_version": "2.0.0",
      "model_name": "LayoutModel",
      "state": {
       "_model_module": "@jupyter-widgets/base",
       "_model_module_version": "2.0.0",
       "_model_name": "LayoutModel",
       "_view_count": null,
       "_view_module": "@jupyter-widgets/base",
       "_view_module_version": "2.0.0",
       "_view_name": "LayoutView",
       "align_content": null,
       "align_items": null,
       "align_self": null,
       "border_bottom": null,
       "border_left": null,
       "border_right": null,
       "border_top": null,
       "bottom": null,
       "display": null,
       "flex": null,
       "flex_flow": null,
       "grid_area": null,
       "grid_auto_columns": null,
       "grid_auto_flow": null,
       "grid_auto_rows": null,
       "grid_column": null,
       "grid_gap": null,
       "grid_row": null,
       "grid_template_areas": null,
       "grid_template_columns": null,
       "grid_template_rows": null,
       "height": null,
       "justify_content": null,
       "justify_items": null,
       "left": null,
       "margin": null,
       "max_height": null,
       "max_width": null,
       "min_height": null,
       "min_width": null,
       "object_fit": null,
       "object_position": null,
       "order": null,
       "overflow": null,
       "padding": null,
       "right": null,
       "top": null,
       "visibility": null,
       "width": null
      }
     },
     "d2052376657546d981f54efce90daf81": {
      "model_module": "@jupyter-widgets/controls",
      "model_module_version": "2.0.0",
      "model_name": "HTMLModel",
      "state": {
       "_dom_classes": [],
       "_model_module": "@jupyter-widgets/controls",
       "_model_module_version": "2.0.0",
       "_model_name": "HTMLModel",
       "_view_count": null,
       "_view_module": "@jupyter-widgets/controls",
       "_view_module_version": "2.0.0",
       "_view_name": "HTMLView",
       "description": "",
       "description_allow_html": false,
       "layout": "IPY_MODEL_cffa35a9349541fb93479381875cbfe9",
       "placeholder": "​",
       "style": "IPY_MODEL_23f267eb1b2742dc835add633676f49b",
       "tabbable": null,
       "tooltip": null,
       "value": " 307787/307787 [00:48&lt;00:00, 6185.31 examples/s]"
      }
     },
     "d340b933fb6540d1a146acc1c917ffb6": {
      "model_module": "@jupyter-widgets/controls",
      "model_module_version": "2.0.0",
      "model_name": "ProgressStyleModel",
      "state": {
       "_model_module": "@jupyter-widgets/controls",
       "_model_module_version": "2.0.0",
       "_model_name": "ProgressStyleModel",
       "_view_count": null,
       "_view_module": "@jupyter-widgets/base",
       "_view_module_version": "2.0.0",
       "_view_name": "StyleView",
       "bar_color": null,
       "description_width": ""
      }
     },
     "d3ccc56949454a17806116d380903754": {
      "model_module": "@jupyter-widgets/controls",
      "model_module_version": "2.0.0",
      "model_name": "HTMLModel",
      "state": {
       "_dom_classes": [],
       "_model_module": "@jupyter-widgets/controls",
       "_model_module_version": "2.0.0",
       "_model_name": "HTMLModel",
       "_view_count": null,
       "_view_module": "@jupyter-widgets/controls",
       "_view_module_version": "2.0.0",
       "_view_name": "HTMLView",
       "description": "",
       "description_allow_html": false,
       "layout": "IPY_MODEL_f72e8b51f86f4d8cb0baae685d29ceaf",
       "placeholder": "​",
       "style": "IPY_MODEL_871562a899784218981f16014b1a2b7d",
       "tabbable": null,
       "tooltip": null,
       "value": " 758/758 [00:00&lt;00:00, 82.2kB/s]"
      }
     },
     "d54e0d2710a84ecf8eb0a6d8b812ba93": {
      "model_module": "@jupyter-widgets/controls",
      "model_module_version": "2.0.0",
      "model_name": "HTMLStyleModel",
      "state": {
       "_model_module": "@jupyter-widgets/controls",
       "_model_module_version": "2.0.0",
       "_model_name": "HTMLStyleModel",
       "_view_count": null,
       "_view_module": "@jupyter-widgets/base",
       "_view_module_version": "2.0.0",
       "_view_name": "StyleView",
       "background": null,
       "description_width": "",
       "font_size": null,
       "text_color": null
      }
     },
     "d8fe5588ac5f4dfe8f5578b34d937150": {
      "model_module": "@jupyter-widgets/base",
      "model_module_version": "2.0.0",
      "model_name": "LayoutModel",
      "state": {
       "_model_module": "@jupyter-widgets/base",
       "_model_module_version": "2.0.0",
       "_model_name": "LayoutModel",
       "_view_count": null,
       "_view_module": "@jupyter-widgets/base",
       "_view_module_version": "2.0.0",
       "_view_name": "LayoutView",
       "align_content": null,
       "align_items": null,
       "align_self": null,
       "border_bottom": null,
       "border_left": null,
       "border_right": null,
       "border_top": null,
       "bottom": null,
       "display": null,
       "flex": null,
       "flex_flow": null,
       "grid_area": null,
       "grid_auto_columns": null,
       "grid_auto_flow": null,
       "grid_auto_rows": null,
       "grid_column": null,
       "grid_gap": null,
       "grid_row": null,
       "grid_template_areas": null,
       "grid_template_columns": null,
       "grid_template_rows": null,
       "height": null,
       "justify_content": null,
       "justify_items": null,
       "left": null,
       "margin": null,
       "max_height": null,
       "max_width": null,
       "min_height": null,
       "min_width": null,
       "object_fit": null,
       "object_position": null,
       "order": null,
       "overflow": null,
       "padding": null,
       "right": null,
       "top": null,
       "visibility": null,
       "width": null
      }
     },
     "de19e6f0bdda462cab6bbe07c9c68346": {
      "model_module": "@jupyter-widgets/controls",
      "model_module_version": "2.0.0",
      "model_name": "FloatProgressModel",
      "state": {
       "_dom_classes": [],
       "_model_module": "@jupyter-widgets/controls",
       "_model_module_version": "2.0.0",
       "_model_name": "FloatProgressModel",
       "_view_count": null,
       "_view_module": "@jupyter-widgets/controls",
       "_view_module_version": "2.0.0",
       "_view_name": "ProgressView",
       "bar_style": "success",
       "description": "",
       "description_allow_html": false,
       "layout": "IPY_MODEL_444612a4418240c4816d4c593cf4b988",
       "max": 252.0,
       "min": 0.0,
       "orientation": "horizontal",
       "style": "IPY_MODEL_2c79820ebc904562807ddc6e63746902",
       "tabbable": null,
       "tooltip": null,
       "value": 252.0
      }
     },
     "e1cc33d9c95f46078f984179738daf68": {
      "model_module": "@jupyter-widgets/base",
      "model_module_version": "2.0.0",
      "model_name": "LayoutModel",
      "state": {
       "_model_module": "@jupyter-widgets/base",
       "_model_module_version": "2.0.0",
       "_model_name": "LayoutModel",
       "_view_count": null,
       "_view_module": "@jupyter-widgets/base",
       "_view_module_version": "2.0.0",
       "_view_name": "LayoutView",
       "align_content": null,
       "align_items": null,
       "align_self": null,
       "border_bottom": null,
       "border_left": null,
       "border_right": null,
       "border_top": null,
       "bottom": null,
       "display": null,
       "flex": null,
       "flex_flow": null,
       "grid_area": null,
       "grid_auto_columns": null,
       "grid_auto_flow": null,
       "grid_auto_rows": null,
       "grid_column": null,
       "grid_gap": null,
       "grid_row": null,
       "grid_template_areas": null,
       "grid_template_columns": null,
       "grid_template_rows": null,
       "height": null,
       "justify_content": null,
       "justify_items": null,
       "left": null,
       "margin": null,
       "max_height": null,
       "max_width": null,
       "min_height": null,
       "min_width": null,
       "object_fit": null,
       "object_position": null,
       "order": null,
       "overflow": null,
       "padding": null,
       "right": null,
       "top": null,
       "visibility": null,
       "width": null
      }
     },
     "e4b519f25b974f32a4585e336e1c99b6": {
      "model_module": "@jupyter-widgets/base",
      "model_module_version": "2.0.0",
      "model_name": "LayoutModel",
      "state": {
       "_model_module": "@jupyter-widgets/base",
       "_model_module_version": "2.0.0",
       "_model_name": "LayoutModel",
       "_view_count": null,
       "_view_module": "@jupyter-widgets/base",
       "_view_module_version": "2.0.0",
       "_view_name": "LayoutView",
       "align_content": null,
       "align_items": null,
       "align_self": null,
       "border_bottom": null,
       "border_left": null,
       "border_right": null,
       "border_top": null,
       "bottom": null,
       "display": null,
       "flex": null,
       "flex_flow": null,
       "grid_area": null,
       "grid_auto_columns": null,
       "grid_auto_flow": null,
       "grid_auto_rows": null,
       "grid_column": null,
       "grid_gap": null,
       "grid_row": null,
       "grid_template_areas": null,
       "grid_template_columns": null,
       "grid_template_rows": null,
       "height": null,
       "justify_content": null,
       "justify_items": null,
       "left": null,
       "margin": null,
       "max_height": null,
       "max_width": null,
       "min_height": null,
       "min_width": null,
       "object_fit": null,
       "object_position": null,
       "order": null,
       "overflow": null,
       "padding": null,
       "right": null,
       "top": null,
       "visibility": null,
       "width": "20px"
      }
     },
     "e8a4e228e4b24371b9fc012c82262945": {
      "model_module": "@jupyter-widgets/controls",
      "model_module_version": "2.0.0",
      "model_name": "HBoxModel",
      "state": {
       "_dom_classes": [],
       "_model_module": "@jupyter-widgets/controls",
       "_model_module_version": "2.0.0",
       "_model_name": "HBoxModel",
       "_view_count": null,
       "_view_module": "@jupyter-widgets/controls",
       "_view_module_version": "2.0.0",
       "_view_name": "HBoxView",
       "box_style": "",
       "children": [
        "IPY_MODEL_4fcbe1a78a164ebb84d5d5841d719642",
        "IPY_MODEL_4bad7b150e154129acaad9dbf3c2a566",
        "IPY_MODEL_a1d338ec88db410cbed5f577da87009d"
       ],
       "layout": "IPY_MODEL_fb73f7d46f134bfd89ab6c5495c2e067",
       "tabbable": null,
       "tooltip": null
      }
     },
     "e8c15c9c9b4b41ca92eedce01dfc4480": {
      "model_module": "@jupyter-widgets/controls",
      "model_module_version": "2.0.0",
      "model_name": "HTMLStyleModel",
      "state": {
       "_model_module": "@jupyter-widgets/controls",
       "_model_module_version": "2.0.0",
       "_model_name": "HTMLStyleModel",
       "_view_count": null,
       "_view_module": "@jupyter-widgets/base",
       "_view_module_version": "2.0.0",
       "_view_name": "StyleView",
       "background": null,
       "description_width": "",
       "font_size": null,
       "text_color": null
      }
     },
     "ec7fecbba1a74a35bbfe64bf7d2e20f7": {
      "model_module": "@jupyter-widgets/controls",
      "model_module_version": "2.0.0",
      "model_name": "ProgressStyleModel",
      "state": {
       "_model_module": "@jupyter-widgets/controls",
       "_model_module_version": "2.0.0",
       "_model_name": "ProgressStyleModel",
       "_view_count": null,
       "_view_module": "@jupyter-widgets/base",
       "_view_module_version": "2.0.0",
       "_view_name": "StyleView",
       "bar_color": null,
       "description_width": ""
      }
     },
     "f0c71d832b724b87a3ee979d29a3fa87": {
      "model_module": "@jupyter-widgets/base",
      "model_module_version": "2.0.0",
      "model_name": "LayoutModel",
      "state": {
       "_model_module": "@jupyter-widgets/base",
       "_model_module_version": "2.0.0",
       "_model_name": "LayoutModel",
       "_view_count": null,
       "_view_module": "@jupyter-widgets/base",
       "_view_module_version": "2.0.0",
       "_view_name": "LayoutView",
       "align_content": null,
       "align_items": null,
       "align_self": null,
       "border_bottom": null,
       "border_left": null,
       "border_right": null,
       "border_top": null,
       "bottom": null,
       "display": null,
       "flex": null,
       "flex_flow": null,
       "grid_area": null,
       "grid_auto_columns": null,
       "grid_auto_flow": null,
       "grid_auto_rows": null,
       "grid_column": null,
       "grid_gap": null,
       "grid_row": null,
       "grid_template_areas": null,
       "grid_template_columns": null,
       "grid_template_rows": null,
       "height": null,
       "justify_content": null,
       "justify_items": null,
       "left": null,
       "margin": null,
       "max_height": null,
       "max_width": null,
       "min_height": null,
       "min_width": null,
       "object_fit": null,
       "object_position": null,
       "order": null,
       "overflow": null,
       "padding": null,
       "right": null,
       "top": null,
       "visibility": null,
       "width": null
      }
     },
     "f1a0e8057ef740a9a1f36cd8e83069f9": {
      "model_module": "@jupyter-widgets/controls",
      "model_module_version": "2.0.0",
      "model_name": "ProgressStyleModel",
      "state": {
       "_model_module": "@jupyter-widgets/controls",
       "_model_module_version": "2.0.0",
       "_model_name": "ProgressStyleModel",
       "_view_count": null,
       "_view_module": "@jupyter-widgets/base",
       "_view_module_version": "2.0.0",
       "_view_name": "StyleView",
       "bar_color": null,
       "description_width": ""
      }
     },
     "f4239eaea05f4b0a8fcd12720a7dcd06": {
      "model_module": "@jupyter-widgets/controls",
      "model_module_version": "2.0.0",
      "model_name": "FloatProgressModel",
      "state": {
       "_dom_classes": [],
       "_model_module": "@jupyter-widgets/controls",
       "_model_module_version": "2.0.0",
       "_model_name": "FloatProgressModel",
       "_view_count": null,
       "_view_module": "@jupyter-widgets/controls",
       "_view_module_version": "2.0.0",
       "_view_name": "ProgressView",
       "bar_style": "success",
       "description": "",
       "description_allow_html": false,
       "layout": "IPY_MODEL_e4b519f25b974f32a4585e336e1c99b6",
       "max": 1.0,
       "min": 0.0,
       "orientation": "horizontal",
       "style": "IPY_MODEL_ec7fecbba1a74a35bbfe64bf7d2e20f7",
       "tabbable": null,
       "tooltip": null,
       "value": 1.0
      }
     },
     "f72e8b51f86f4d8cb0baae685d29ceaf": {
      "model_module": "@jupyter-widgets/base",
      "model_module_version": "2.0.0",
      "model_name": "LayoutModel",
      "state": {
       "_model_module": "@jupyter-widgets/base",
       "_model_module_version": "2.0.0",
       "_model_name": "LayoutModel",
       "_view_count": null,
       "_view_module": "@jupyter-widgets/base",
       "_view_module_version": "2.0.0",
       "_view_name": "LayoutView",
       "align_content": null,
       "align_items": null,
       "align_self": null,
       "border_bottom": null,
       "border_left": null,
       "border_right": null,
       "border_top": null,
       "bottom": null,
       "display": null,
       "flex": null,
       "flex_flow": null,
       "grid_area": null,
       "grid_auto_columns": null,
       "grid_auto_flow": null,
       "grid_auto_rows": null,
       "grid_column": null,
       "grid_gap": null,
       "grid_row": null,
       "grid_template_areas": null,
       "grid_template_columns": null,
       "grid_template_rows": null,
       "height": null,
       "justify_content": null,
       "justify_items": null,
       "left": null,
       "margin": null,
       "max_height": null,
       "max_width": null,
       "min_height": null,
       "min_width": null,
       "object_fit": null,
       "object_position": null,
       "order": null,
       "overflow": null,
       "padding": null,
       "right": null,
       "top": null,
       "visibility": null,
       "width": null
      }
     },
     "fb73f7d46f134bfd89ab6c5495c2e067": {
      "model_module": "@jupyter-widgets/base",
      "model_module_version": "2.0.0",
      "model_name": "LayoutModel",
      "state": {
       "_model_module": "@jupyter-widgets/base",
       "_model_module_version": "2.0.0",
       "_model_name": "LayoutModel",
       "_view_count": null,
       "_view_module": "@jupyter-widgets/base",
       "_view_module_version": "2.0.0",
       "_view_name": "LayoutView",
       "align_content": null,
       "align_items": null,
       "align_self": null,
       "border_bottom": null,
       "border_left": null,
       "border_right": null,
       "border_top": null,
       "bottom": null,
       "display": null,
       "flex": null,
       "flex_flow": null,
       "grid_area": null,
       "grid_auto_columns": null,
       "grid_auto_flow": null,
       "grid_auto_rows": null,
       "grid_column": null,
       "grid_gap": null,
       "grid_row": null,
       "grid_template_areas": null,
       "grid_template_columns": null,
       "grid_template_rows": null,
       "height": null,
       "justify_content": null,
       "justify_items": null,
       "left": null,
       "margin": null,
       "max_height": null,
       "max_width": null,
       "min_height": null,
       "min_width": null,
       "object_fit": null,
       "object_position": null,
       "order": null,
       "overflow": null,
       "padding": null,
       "right": null,
       "top": null,
       "visibility": null,
       "width": null
      }
     }
    },
    "version_major": 2,
    "version_minor": 0
   }
  }
 },
 "nbformat": 4,
 "nbformat_minor": 5
}
