{
 "cells": [
  {
   "cell_type": "code",
   "execution_count": 1,
   "id": "e0531f1d",
   "metadata": {
    "execution": {
     "iopub.execute_input": "2024-08-09T18:47:02.087501Z",
     "iopub.status.busy": "2024-08-09T18:47:02.086690Z",
     "iopub.status.idle": "2024-08-09T18:47:26.277875Z",
     "shell.execute_reply": "2024-08-09T18:47:26.276949Z"
    },
    "id": "I6Ny9EHOvyJM",
    "papermill": {
     "duration": 24.20675,
     "end_time": "2024-08-09T18:47:26.279919",
     "exception": false,
     "start_time": "2024-08-09T18:47:02.073169",
     "status": "completed"
    },
    "tags": []
   },
   "outputs": [
    {
     "data": {
      "text/html": [
       "<div>\n",
       "<style scoped>\n",
       "    .dataframe tbody tr th:only-of-type {\n",
       "        vertical-align: middle;\n",
       "    }\n",
       "\n",
       "    .dataframe tbody tr th {\n",
       "        vertical-align: top;\n",
       "    }\n",
       "\n",
       "    .dataframe thead th {\n",
       "        text-align: right;\n",
       "    }\n",
       "</style>\n",
       "<table border=\"1\" class=\"dataframe\">\n",
       "  <thead>\n",
       "    <tr style=\"text-align: right;\">\n",
       "      <th></th>\n",
       "      <th>Unnamed: 0</th>\n",
       "      <th>issue_url</th>\n",
       "      <th>issue_label</th>\n",
       "      <th>issue_created_at</th>\n",
       "      <th>issue_author_association</th>\n",
       "      <th>repository_url</th>\n",
       "      <th>issue_title</th>\n",
       "      <th>issue_body</th>\n",
       "    </tr>\n",
       "  </thead>\n",
       "  <tbody>\n",
       "    <tr>\n",
       "      <th>0</th>\n",
       "      <td>0</td>\n",
       "      <td>https://api.github.com/repos/eamodio/vscode-gi...</td>\n",
       "      <td>bug</td>\n",
       "      <td>2021-01-02T18:07:30Z</td>\n",
       "      <td>NONE</td>\n",
       "      <td>https://api.github.com/repos/eamodio/vscode-gi...</td>\n",
       "      <td>Welcome screen on every editor window is very ...</td>\n",
       "      <td>I just discovered Gitlens and find the functio...</td>\n",
       "    </tr>\n",
       "    <tr>\n",
       "      <th>1</th>\n",
       "      <td>1</td>\n",
       "      <td>https://api.github.com/repos/binwiederhier/pco...</td>\n",
       "      <td>bug</td>\n",
       "      <td>2020-12-31T18:19:31Z</td>\n",
       "      <td>OWNER</td>\n",
       "      <td>https://api.github.com/repos/binwiederhier/pcopy</td>\n",
       "      <td>\"pcopy invite\" and \"pcopy paste abc:\" does not...</td>\n",
       "      <td>NaN</td>\n",
       "    </tr>\n",
       "    <tr>\n",
       "      <th>2</th>\n",
       "      <td>2</td>\n",
       "      <td>https://api.github.com/repos/binwiederhier/pco...</td>\n",
       "      <td>bug</td>\n",
       "      <td>2021-01-03T04:33:36Z</td>\n",
       "      <td>OWNER</td>\n",
       "      <td>https://api.github.com/repos/binwiederhier/pcopy</td>\n",
       "      <td>UI: Modal overlay is half transparent, shouldn...</td>\n",
       "      <td>NaN</td>\n",
       "    </tr>\n",
       "    <tr>\n",
       "      <th>3</th>\n",
       "      <td>3</td>\n",
       "      <td>https://api.github.com/repos/Sothatsit/RoyalUr...</td>\n",
       "      <td>enhancement</td>\n",
       "      <td>2020-12-25T00:46:00Z</td>\n",
       "      <td>OWNER</td>\n",
       "      <td>https://api.github.com/repos/Sothatsit/RoyalUr...</td>\n",
       "      <td>Make the loading screen scale with browser win...</td>\n",
       "      <td>Currently the loading wheel is a fixed size in...</td>\n",
       "    </tr>\n",
       "    <tr>\n",
       "      <th>4</th>\n",
       "      <td>4</td>\n",
       "      <td>https://api.github.com/repos/Malivil/TTT-Custo...</td>\n",
       "      <td>bug</td>\n",
       "      <td>2021-01-02T21:36:57Z</td>\n",
       "      <td>OWNER</td>\n",
       "      <td>https://api.github.com/repos/Malivil/TTT-Custo...</td>\n",
       "      <td>Spectator - Investigate a way to strip weapons...</td>\n",
       "      <td>To bring magneto stick floating</td>\n",
       "    </tr>\n",
       "    <tr>\n",
       "      <th>5</th>\n",
       "      <td>5</td>\n",
       "      <td>https://api.github.com/repos/jankuss/shroom/is...</td>\n",
       "      <td>enhancement</td>\n",
       "      <td>2020-12-31T13:43:33Z</td>\n",
       "      <td>NONE</td>\n",
       "      <td>https://api.github.com/repos/jankuss/shroom</td>\n",
       "      <td>Single Shroom instance for multiple canvases?</td>\n",
       "      <td>Is it possible to be able to create a single S...</td>\n",
       "    </tr>\n",
       "    <tr>\n",
       "      <th>6</th>\n",
       "      <td>7</td>\n",
       "      <td>https://api.github.com/repos/juniorGreg/moisi_...</td>\n",
       "      <td>bug</td>\n",
       "      <td>2020-12-27T01:40:34Z</td>\n",
       "      <td>OWNER</td>\n",
       "      <td>https://api.github.com/repos/juniorGreg/moisi_...</td>\n",
       "      <td>Correct navigation bar for some resolution</td>\n",
       "      <td>![Capture d’écran_2020-12-26_20-40-02](https:/...</td>\n",
       "    </tr>\n",
       "    <tr>\n",
       "      <th>7</th>\n",
       "      <td>8</td>\n",
       "      <td>https://api.github.com/repos/JoeParrinello/Bro...</td>\n",
       "      <td>enhancement</td>\n",
       "      <td>2021-01-02T16:05:43Z</td>\n",
       "      <td>OWNER</td>\n",
       "      <td>https://api.github.com/repos/JoeParrinello/Bro...</td>\n",
       "      <td>Return asset growth</td>\n",
       "      <td>Would have to cache:\\r\\n- Stock Ticker Request...</td>\n",
       "    </tr>\n",
       "    <tr>\n",
       "      <th>8</th>\n",
       "      <td>9</td>\n",
       "      <td>https://api.github.com/repos/Forty-Bot/trends....</td>\n",
       "      <td>enhancement</td>\n",
       "      <td>2021-01-03T03:46:34Z</td>\n",
       "      <td>OWNER</td>\n",
       "      <td>https://api.github.com/repos/Forty-Bot/trends.tf</td>\n",
       "      <td>Add filter for logs</td>\n",
       "      <td>Add the ability to filter logs like on other p...</td>\n",
       "    </tr>\n",
       "    <tr>\n",
       "      <th>9</th>\n",
       "      <td>10</td>\n",
       "      <td>https://api.github.com/repos/andrewjj20/post/i...</td>\n",
       "      <td>enhancement</td>\n",
       "      <td>2020-10-23T04:38:35Z</td>\n",
       "      <td>COLLABORATOR</td>\n",
       "      <td>https://api.github.com/repos/andrewjj20/post</td>\n",
       "      <td>Create trait for Meetup Service publisher stores</td>\n",
       "      <td>Developers could want different backing publis...</td>\n",
       "    </tr>\n",
       "  </tbody>\n",
       "</table>\n",
       "</div>"
      ],
      "text/plain": [
       "   Unnamed: 0                                          issue_url  issue_label  \\\n",
       "0           0  https://api.github.com/repos/eamodio/vscode-gi...          bug   \n",
       "1           1  https://api.github.com/repos/binwiederhier/pco...          bug   \n",
       "2           2  https://api.github.com/repos/binwiederhier/pco...          bug   \n",
       "3           3  https://api.github.com/repos/Sothatsit/RoyalUr...  enhancement   \n",
       "4           4  https://api.github.com/repos/Malivil/TTT-Custo...          bug   \n",
       "5           5  https://api.github.com/repos/jankuss/shroom/is...  enhancement   \n",
       "6           7  https://api.github.com/repos/juniorGreg/moisi_...          bug   \n",
       "7           8  https://api.github.com/repos/JoeParrinello/Bro...  enhancement   \n",
       "8           9  https://api.github.com/repos/Forty-Bot/trends....  enhancement   \n",
       "9          10  https://api.github.com/repos/andrewjj20/post/i...  enhancement   \n",
       "\n",
       "       issue_created_at issue_author_association  \\\n",
       "0  2021-01-02T18:07:30Z                     NONE   \n",
       "1  2020-12-31T18:19:31Z                    OWNER   \n",
       "2  2021-01-03T04:33:36Z                    OWNER   \n",
       "3  2020-12-25T00:46:00Z                    OWNER   \n",
       "4  2021-01-02T21:36:57Z                    OWNER   \n",
       "5  2020-12-31T13:43:33Z                     NONE   \n",
       "6  2020-12-27T01:40:34Z                    OWNER   \n",
       "7  2021-01-02T16:05:43Z                    OWNER   \n",
       "8  2021-01-03T03:46:34Z                    OWNER   \n",
       "9  2020-10-23T04:38:35Z             COLLABORATOR   \n",
       "\n",
       "                                      repository_url  \\\n",
       "0  https://api.github.com/repos/eamodio/vscode-gi...   \n",
       "1   https://api.github.com/repos/binwiederhier/pcopy   \n",
       "2   https://api.github.com/repos/binwiederhier/pcopy   \n",
       "3  https://api.github.com/repos/Sothatsit/RoyalUr...   \n",
       "4  https://api.github.com/repos/Malivil/TTT-Custo...   \n",
       "5        https://api.github.com/repos/jankuss/shroom   \n",
       "6  https://api.github.com/repos/juniorGreg/moisi_...   \n",
       "7  https://api.github.com/repos/JoeParrinello/Bro...   \n",
       "8   https://api.github.com/repos/Forty-Bot/trends.tf   \n",
       "9       https://api.github.com/repos/andrewjj20/post   \n",
       "\n",
       "                                         issue_title  \\\n",
       "0  Welcome screen on every editor window is very ...   \n",
       "1  \"pcopy invite\" and \"pcopy paste abc:\" does not...   \n",
       "2  UI: Modal overlay is half transparent, shouldn...   \n",
       "3  Make the loading screen scale with browser win...   \n",
       "4  Spectator - Investigate a way to strip weapons...   \n",
       "5      Single Shroom instance for multiple canvases?   \n",
       "6         Correct navigation bar for some resolution   \n",
       "7                                Return asset growth   \n",
       "8                                Add filter for logs   \n",
       "9   Create trait for Meetup Service publisher stores   \n",
       "\n",
       "                                          issue_body  \n",
       "0  I just discovered Gitlens and find the functio...  \n",
       "1                                                NaN  \n",
       "2                                                NaN  \n",
       "3  Currently the loading wheel is a fixed size in...  \n",
       "4                    To bring magneto stick floating  \n",
       "5  Is it possible to be able to create a single S...  \n",
       "6  ![Capture d’écran_2020-12-26_20-40-02](https:/...  \n",
       "7  Would have to cache:\\r\\n- Stock Ticker Request...  \n",
       "8  Add the ability to filter logs like on other p...  \n",
       "9  Developers could want different backing publis...  "
      ]
     },
     "execution_count": 1,
     "metadata": {},
     "output_type": "execute_result"
    }
   ],
   "source": [
    "import os\n",
    "os.environ[\"TF_USE_LEGACY_KERAS\"] = \"1\"\n",
    "os.environ[\"CUDA_DEVICE_ORDER\"]=\"PCI_BUS_ID\";\n",
    "os.environ[\"CUDA_VISIBLE_DEVICES\"]=\"0,1\";\n",
    "import random\n",
    "random.seed(10)\n",
    "import pandas as pd\n",
    "data=pd.read_csv('/kaggle/input/issue-report-nlp/Issue_Report_Classification.csv')\n",
    "#test=pd.read_csv('/kaggle/input/issue-report-nlp/Issue_Report_Classification-test.csv')\n",
    "\n",
    "data.head(10)"
   ]
  },
  {
   "cell_type": "markdown",
   "id": "4768b42f",
   "metadata": {
    "id": "jL99ml3A6iRf",
    "papermill": {
     "duration": 0.011599,
     "end_time": "2024-08-09T18:47:26.304702",
     "exception": false,
     "start_time": "2024-08-09T18:47:26.293103",
     "status": "completed"
    },
    "tags": []
   },
   "source": [
    "> Print the length of the dataset"
   ]
  },
  {
   "cell_type": "code",
   "execution_count": 2,
   "id": "df54104d",
   "metadata": {
    "execution": {
     "iopub.execute_input": "2024-08-09T18:47:26.328935Z",
     "iopub.status.busy": "2024-08-09T18:47:26.328642Z",
     "iopub.status.idle": "2024-08-09T18:47:26.516375Z",
     "shell.execute_reply": "2024-08-09T18:47:26.515510Z"
    },
    "id": "4DYLoxvB6hk6",
    "papermill": {
     "duration": 0.202273,
     "end_time": "2024-08-09T18:47:26.518433",
     "exception": false,
     "start_time": "2024-08-09T18:47:26.316160",
     "status": "completed"
    },
    "tags": []
   },
   "outputs": [
    {
     "data": {
      "text/plain": [
       "325305"
      ]
     },
     "execution_count": 2,
     "metadata": {},
     "output_type": "execute_result"
    }
   ],
   "source": [
    "data=data.sample(frac=0.45)\n",
    "len(data)"
   ]
  },
  {
   "cell_type": "code",
   "execution_count": 3,
   "id": "bfc93a67",
   "metadata": {
    "execution": {
     "iopub.execute_input": "2024-08-09T18:47:26.544109Z",
     "iopub.status.busy": "2024-08-09T18:47:26.543812Z",
     "iopub.status.idle": "2024-08-09T18:47:26.596155Z",
     "shell.execute_reply": "2024-08-09T18:47:26.595298Z"
    },
    "id": "8YbGqYNYv7sC",
    "papermill": {
     "duration": 0.067767,
     "end_time": "2024-08-09T18:47:26.598130",
     "exception": false,
     "start_time": "2024-08-09T18:47:26.530363",
     "status": "completed"
    },
    "tags": []
   },
   "outputs": [],
   "source": [
    "data=data[['issue_body', 'issue_label']]"
   ]
  },
  {
   "cell_type": "code",
   "execution_count": 4,
   "id": "6a7637de",
   "metadata": {
    "execution": {
     "iopub.execute_input": "2024-08-09T18:47:26.623090Z",
     "iopub.status.busy": "2024-08-09T18:47:26.622807Z",
     "iopub.status.idle": "2024-08-09T18:47:26.631806Z",
     "shell.execute_reply": "2024-08-09T18:47:26.630949Z"
    },
    "id": "0sJHfToM624w",
    "papermill": {
     "duration": 0.023588,
     "end_time": "2024-08-09T18:47:26.633788",
     "exception": false,
     "start_time": "2024-08-09T18:47:26.610200",
     "status": "completed"
    },
    "tags": []
   },
   "outputs": [
    {
     "data": {
      "text/html": [
       "<div>\n",
       "<style scoped>\n",
       "    .dataframe tbody tr th:only-of-type {\n",
       "        vertical-align: middle;\n",
       "    }\n",
       "\n",
       "    .dataframe tbody tr th {\n",
       "        vertical-align: top;\n",
       "    }\n",
       "\n",
       "    .dataframe thead th {\n",
       "        text-align: right;\n",
       "    }\n",
       "</style>\n",
       "<table border=\"1\" class=\"dataframe\">\n",
       "  <thead>\n",
       "    <tr style=\"text-align: right;\">\n",
       "      <th></th>\n",
       "      <th>issue_body</th>\n",
       "      <th>issue_label</th>\n",
       "    </tr>\n",
       "  </thead>\n",
       "  <tbody>\n",
       "    <tr>\n",
       "      <th>239841</th>\n",
       "      <td>Hi and thank you for your hard work!\\r\\n\\r\\nA ...</td>\n",
       "      <td>enhancement</td>\n",
       "    </tr>\n",
       "    <tr>\n",
       "      <th>273035</th>\n",
       "      <td>center response container and offset the breat...</td>\n",
       "      <td>enhancement</td>\n",
       "    </tr>\n",
       "    <tr>\n",
       "      <th>414041</th>\n",
       "      <td>When using `IntrinsicContentTrackSize`s the in...</td>\n",
       "      <td>bug</td>\n",
       "    </tr>\n",
       "    <tr>\n",
       "      <th>530196</th>\n",
       "      <td>Hi!\\r\\n\\r\\nWhen running the plugin on a `.h` f...</td>\n",
       "      <td>enhancement</td>\n",
       "    </tr>\n",
       "    <tr>\n",
       "      <th>640792</th>\n",
       "      <td>Working on highlighting line swaps to show alg...</td>\n",
       "      <td>enhancement</td>\n",
       "    </tr>\n",
       "  </tbody>\n",
       "</table>\n",
       "</div>"
      ],
      "text/plain": [
       "                                               issue_body  issue_label\n",
       "239841  Hi and thank you for your hard work!\\r\\n\\r\\nA ...  enhancement\n",
       "273035  center response container and offset the breat...  enhancement\n",
       "414041  When using `IntrinsicContentTrackSize`s the in...          bug\n",
       "530196  Hi!\\r\\n\\r\\nWhen running the plugin on a `.h` f...  enhancement\n",
       "640792  Working on highlighting line swaps to show alg...  enhancement"
      ]
     },
     "execution_count": 4,
     "metadata": {},
     "output_type": "execute_result"
    }
   ],
   "source": [
    "data.head()"
   ]
  },
  {
   "cell_type": "markdown",
   "id": "e58237e4",
   "metadata": {
    "id": "Xh5VXK-A8DN-",
    "papermill": {
     "duration": 0.011613,
     "end_time": "2024-08-09T18:47:26.657504",
     "exception": false,
     "start_time": "2024-08-09T18:47:26.645891",
     "status": "completed"
    },
    "tags": []
   },
   "source": [
    "> Drop nulls"
   ]
  },
  {
   "cell_type": "code",
   "execution_count": 5,
   "id": "47e9090b",
   "metadata": {
    "execution": {
     "iopub.execute_input": "2024-08-09T18:47:26.682985Z",
     "iopub.status.busy": "2024-08-09T18:47:26.682718Z",
     "iopub.status.idle": "2024-08-09T18:47:26.768123Z",
     "shell.execute_reply": "2024-08-09T18:47:26.767197Z"
    },
    "id": "UtGxlLxB8ApH",
    "papermill": {
     "duration": 0.100479,
     "end_time": "2024-08-09T18:47:26.770367",
     "exception": false,
     "start_time": "2024-08-09T18:47:26.669888",
     "status": "completed"
    },
    "tags": []
   },
   "outputs": [],
   "source": [
    "data = data.dropna(subset=['issue_body'])"
   ]
  },
  {
   "cell_type": "code",
   "execution_count": 6,
   "id": "f8d44aed",
   "metadata": {
    "execution": {
     "iopub.execute_input": "2024-08-09T18:47:26.795981Z",
     "iopub.status.busy": "2024-08-09T18:47:26.795680Z",
     "iopub.status.idle": "2024-08-09T18:47:26.800845Z",
     "shell.execute_reply": "2024-08-09T18:47:26.800059Z"
    },
    "id": "aqZM-XB48IBw",
    "papermill": {
     "duration": 0.0199,
     "end_time": "2024-08-09T18:47:26.802921",
     "exception": false,
     "start_time": "2024-08-09T18:47:26.783021",
     "status": "completed"
    },
    "tags": []
   },
   "outputs": [
    {
     "data": {
      "text/plain": [
       "292878"
      ]
     },
     "execution_count": 6,
     "metadata": {},
     "output_type": "execute_result"
    }
   ],
   "source": [
    "len(data)"
   ]
  },
  {
   "cell_type": "markdown",
   "id": "c5577cea",
   "metadata": {
    "id": "7-GTgKp49TtN",
    "papermill": {
     "duration": 0.011698,
     "end_time": "2024-08-09T18:47:26.826535",
     "exception": false,
     "start_time": "2024-08-09T18:47:26.814837",
     "status": "completed"
    },
    "tags": []
   },
   "source": [
    "> Standardize the text"
   ]
  },
  {
   "cell_type": "code",
   "execution_count": 7,
   "id": "72985afa",
   "metadata": {
    "execution": {
     "iopub.execute_input": "2024-08-09T18:47:26.851670Z",
     "iopub.status.busy": "2024-08-09T18:47:26.851123Z",
     "iopub.status.idle": "2024-08-09T18:48:02.688562Z",
     "shell.execute_reply": "2024-08-09T18:48:02.687773Z"
    },
    "id": "e_kxJLNL8RAv",
    "papermill": {
     "duration": 35.852411,
     "end_time": "2024-08-09T18:48:02.690900",
     "exception": false,
     "start_time": "2024-08-09T18:47:26.838489",
     "status": "completed"
    },
    "tags": []
   },
   "outputs": [],
   "source": [
    "import re\n",
    "\n",
    "def standardize_text(text):\n",
    "    text = re.sub(r'[^a-zA-Z0-9\\s\\']', '', text)\n",
    "    text = re.sub(r'\\s+', ' ', text)\n",
    "    text = re.sub(r'http\\s+' ,'',text)\n",
    "    text = text.lower()\n",
    "    return text.strip()\n",
    "\n",
    "data['issue_body'] = data['issue_body'].apply(standardize_text)\n",
    "\n",
    "data = data.drop_duplicates(subset=['issue_body'])"
   ]
  },
  {
   "cell_type": "code",
   "execution_count": 8,
   "id": "b96c3cde",
   "metadata": {
    "execution": {
     "iopub.execute_input": "2024-08-09T18:48:02.717501Z",
     "iopub.status.busy": "2024-08-09T18:48:02.716698Z",
     "iopub.status.idle": "2024-08-09T18:48:02.722482Z",
     "shell.execute_reply": "2024-08-09T18:48:02.721634Z"
    },
    "id": "VaUdVCZN9Jnl",
    "papermill": {
     "duration": 0.021064,
     "end_time": "2024-08-09T18:48:02.724387",
     "exception": false,
     "start_time": "2024-08-09T18:48:02.703323",
     "status": "completed"
    },
    "tags": []
   },
   "outputs": [
    {
     "data": {
      "text/plain": [
       "278330"
      ]
     },
     "execution_count": 8,
     "metadata": {},
     "output_type": "execute_result"
    }
   ],
   "source": [
    "len(data)"
   ]
  },
  {
   "cell_type": "markdown",
   "id": "49a482af",
   "metadata": {
    "id": "byxj9uCL9mVl",
    "papermill": {
     "duration": 0.012147,
     "end_time": "2024-08-09T18:48:02.748814",
     "exception": false,
     "start_time": "2024-08-09T18:48:02.736667",
     "status": "completed"
    },
    "tags": []
   },
   "source": [
    "> Remove punctuation"
   ]
  },
  {
   "cell_type": "code",
   "execution_count": 9,
   "id": "097d0973",
   "metadata": {
    "execution": {
     "iopub.execute_input": "2024-08-09T18:48:02.776067Z",
     "iopub.status.busy": "2024-08-09T18:48:02.775232Z",
     "iopub.status.idle": "2024-08-09T18:48:04.656577Z",
     "shell.execute_reply": "2024-08-09T18:48:04.655792Z"
    },
    "id": "alykuKzL9MeI",
    "papermill": {
     "duration": 1.898872,
     "end_time": "2024-08-09T18:48:04.660683",
     "exception": false,
     "start_time": "2024-08-09T18:48:02.761811",
     "status": "completed"
    },
    "tags": []
   },
   "outputs": [],
   "source": [
    "import string\n",
    "\n",
    "def remove_punctuation(text):\n",
    "    return text.translate(str.maketrans('', '', string.punctuation))\n",
    "\n",
    "data['issue_body'] = data['issue_body'].apply(remove_punctuation)"
   ]
  },
  {
   "cell_type": "code",
   "execution_count": 10,
   "id": "a00d00c4",
   "metadata": {
    "execution": {
     "iopub.execute_input": "2024-08-09T18:48:04.687360Z",
     "iopub.status.busy": "2024-08-09T18:48:04.687058Z",
     "iopub.status.idle": "2024-08-09T18:48:04.719107Z",
     "shell.execute_reply": "2024-08-09T18:48:04.718238Z"
    },
    "id": "l64h2jBOwA1w",
    "papermill": {
     "duration": 0.047596,
     "end_time": "2024-08-09T18:48:04.721067",
     "exception": false,
     "start_time": "2024-08-09T18:48:04.673471",
     "status": "completed"
    },
    "tags": []
   },
   "outputs": [
    {
     "data": {
      "text/plain": [
       "{'enhancement': 0, 'bug': 1, 'question': 2}"
      ]
     },
     "execution_count": 10,
     "metadata": {},
     "output_type": "execute_result"
    }
   ],
   "source": [
    "possible_labels = data.issue_label.unique()\n",
    "\n",
    "label_dict = {}\n",
    "for index, possible_label in enumerate(possible_labels):\n",
    "    label_dict[possible_label] = index\n",
    "label_dict"
   ]
  },
  {
   "cell_type": "code",
   "execution_count": 11,
   "id": "6303885b",
   "metadata": {
    "execution": {
     "iopub.execute_input": "2024-08-09T18:48:04.748122Z",
     "iopub.status.busy": "2024-08-09T18:48:04.747838Z",
     "iopub.status.idle": "2024-08-09T18:48:04.949519Z",
     "shell.execute_reply": "2024-08-09T18:48:04.948542Z"
    },
    "id": "hgTcfF2PwGhm",
    "papermill": {
     "duration": 0.21761,
     "end_time": "2024-08-09T18:48:04.951826",
     "exception": false,
     "start_time": "2024-08-09T18:48:04.734216",
     "status": "completed"
    },
    "tags": []
   },
   "outputs": [
    {
     "name": "stderr",
     "output_type": "stream",
     "text": [
      "/tmp/ipykernel_24/3275910327.py:1: FutureWarning: Downcasting behavior in `replace` is deprecated and will be removed in a future version. To retain the old behavior, explicitly call `result.infer_objects(copy=False)`. To opt-in to the future behavior, set `pd.set_option('future.no_silent_downcasting', True)`\n",
      "  data['issue_label'] = data.issue_label.replace(label_dict)\n"
     ]
    }
   ],
   "source": [
    "data['issue_label'] = data.issue_label.replace(label_dict)"
   ]
  },
  {
   "cell_type": "code",
   "execution_count": 12,
   "id": "cceefe83",
   "metadata": {
    "execution": {
     "iopub.execute_input": "2024-08-09T18:48:04.977457Z",
     "iopub.status.busy": "2024-08-09T18:48:04.977183Z",
     "iopub.status.idle": "2024-08-09T18:48:04.986300Z",
     "shell.execute_reply": "2024-08-09T18:48:04.985409Z"
    },
    "id": "eq7EYGaPwP8i",
    "papermill": {
     "duration": 0.024038,
     "end_time": "2024-08-09T18:48:04.988160",
     "exception": false,
     "start_time": "2024-08-09T18:48:04.964122",
     "status": "completed"
    },
    "tags": []
   },
   "outputs": [
    {
     "data": {
      "text/html": [
       "<div>\n",
       "<style scoped>\n",
       "    .dataframe tbody tr th:only-of-type {\n",
       "        vertical-align: middle;\n",
       "    }\n",
       "\n",
       "    .dataframe tbody tr th {\n",
       "        vertical-align: top;\n",
       "    }\n",
       "\n",
       "    .dataframe thead th {\n",
       "        text-align: right;\n",
       "    }\n",
       "</style>\n",
       "<table border=\"1\" class=\"dataframe\">\n",
       "  <thead>\n",
       "    <tr style=\"text-align: right;\">\n",
       "      <th></th>\n",
       "      <th>issue_body</th>\n",
       "      <th>issue_label</th>\n",
       "    </tr>\n",
       "  </thead>\n",
       "  <tbody>\n",
       "    <tr>\n",
       "      <th>239841</th>\n",
       "      <td>hi and thank you for your hard work a feature ...</td>\n",
       "      <td>0</td>\n",
       "    </tr>\n",
       "    <tr>\n",
       "      <th>273035</th>\n",
       "      <td>center response container and offset the breat...</td>\n",
       "      <td>0</td>\n",
       "    </tr>\n",
       "    <tr>\n",
       "      <th>414041</th>\n",
       "      <td>when using intrinsiccontenttracksizes the intr...</td>\n",
       "      <td>1</td>\n",
       "    </tr>\n",
       "    <tr>\n",
       "      <th>530196</th>\n",
       "      <td>hi when running the plugin on a h file some no...</td>\n",
       "      <td>0</td>\n",
       "    </tr>\n",
       "    <tr>\n",
       "      <th>640792</th>\n",
       "      <td>working on highlighting line swaps to show alg...</td>\n",
       "      <td>0</td>\n",
       "    </tr>\n",
       "    <tr>\n",
       "      <th>412751</th>\n",
       "      <td>lines ending with are not being handled correc...</td>\n",
       "      <td>1</td>\n",
       "    </tr>\n",
       "    <tr>\n",
       "      <th>673679</th>\n",
       "      <td>if a user stays unauthenticated for example on...</td>\n",
       "      <td>1</td>\n",
       "    </tr>\n",
       "    <tr>\n",
       "      <th>95990</th>\n",
       "      <td>requirements add two status task lists add but...</td>\n",
       "      <td>0</td>\n",
       "    </tr>\n",
       "    <tr>\n",
       "      <th>516154</th>\n",
       "      <td>i want to open a crop view using crop data tha...</td>\n",
       "      <td>1</td>\n",
       "    </tr>\n",
       "    <tr>\n",
       "      <th>55802</th>\n",
       "      <td>which is because of this httpsgithubcomahoylem...</td>\n",
       "      <td>1</td>\n",
       "    </tr>\n",
       "  </tbody>\n",
       "</table>\n",
       "</div>"
      ],
      "text/plain": [
       "                                               issue_body  issue_label\n",
       "239841  hi and thank you for your hard work a feature ...            0\n",
       "273035  center response container and offset the breat...            0\n",
       "414041  when using intrinsiccontenttracksizes the intr...            1\n",
       "530196  hi when running the plugin on a h file some no...            0\n",
       "640792  working on highlighting line swaps to show alg...            0\n",
       "412751  lines ending with are not being handled correc...            1\n",
       "673679  if a user stays unauthenticated for example on...            1\n",
       "95990   requirements add two status task lists add but...            0\n",
       "516154  i want to open a crop view using crop data tha...            1\n",
       "55802   which is because of this httpsgithubcomahoylem...            1"
      ]
     },
     "execution_count": 12,
     "metadata": {},
     "output_type": "execute_result"
    }
   ],
   "source": [
    "data.head(10)"
   ]
  },
  {
   "cell_type": "markdown",
   "id": "16e99120",
   "metadata": {
    "id": "ic7gpGw6ApT9",
    "papermill": {
     "duration": 0.013245,
     "end_time": "2024-08-09T18:48:05.013801",
     "exception": false,
     "start_time": "2024-08-09T18:48:05.000556",
     "status": "completed"
    },
    "tags": []
   },
   "source": []
  },
  {
   "cell_type": "code",
   "execution_count": 13,
   "id": "c84a4a18",
   "metadata": {
    "execution": {
     "iopub.execute_input": "2024-08-09T18:48:05.039818Z",
     "iopub.status.busy": "2024-08-09T18:48:05.039573Z",
     "iopub.status.idle": "2024-08-09T18:48:05.043449Z",
     "shell.execute_reply": "2024-08-09T18:48:05.042615Z"
    },
    "id": "9CafNAysApzO",
    "papermill": {
     "duration": 0.018848,
     "end_time": "2024-08-09T18:48:05.045240",
     "exception": false,
     "start_time": "2024-08-09T18:48:05.026392",
     "status": "completed"
    },
    "tags": []
   },
   "outputs": [],
   "source": [
    "# import nltk\n",
    "# nltk.download('punkt')\n",
    "# from nltk.tokenize import word_tokenize\n",
    "# def clean_tokenization(text):\n",
    "#   return word_tokenize(text)\n",
    "\n",
    "# nltk.download('stopwords')\n",
    "# from nltk.corpus import stopwords\n",
    "\n",
    "# stop_words=set(stopwords.words('english'))\n",
    "# def clean_stopwords(token):\n",
    "#    return [item for item in token if item not in stop_words]\n",
    "\n",
    "# data['issue_body'] = data['issue_body'].apply(clean_tokenization)\n",
    "# data['issue_body']=data['issue_body'].apply(clean_stopwords)\n"
   ]
  },
  {
   "cell_type": "code",
   "execution_count": 14,
   "id": "c4fd1db7",
   "metadata": {
    "execution": {
     "iopub.execute_input": "2024-08-09T18:48:05.071626Z",
     "iopub.status.busy": "2024-08-09T18:48:05.070901Z",
     "iopub.status.idle": "2024-08-09T18:48:05.074520Z",
     "shell.execute_reply": "2024-08-09T18:48:05.073716Z"
    },
    "id": "uNGEG_HEzBoU",
    "papermill": {
     "duration": 0.018583,
     "end_time": "2024-08-09T18:48:05.076347",
     "exception": false,
     "start_time": "2024-08-09T18:48:05.057764",
     "status": "completed"
    },
    "tags": []
   },
   "outputs": [],
   "source": [
    "# import nltk\n",
    "# nltk.download('punkt')"
   ]
  },
  {
   "cell_type": "code",
   "execution_count": 15,
   "id": "bf5ad569",
   "metadata": {
    "execution": {
     "iopub.execute_input": "2024-08-09T18:48:05.102411Z",
     "iopub.status.busy": "2024-08-09T18:48:05.101882Z",
     "iopub.status.idle": "2024-08-09T18:48:05.105451Z",
     "shell.execute_reply": "2024-08-09T18:48:05.104689Z"
    },
    "id": "COezhVMozEOQ",
    "papermill": {
     "duration": 0.018854,
     "end_time": "2024-08-09T18:48:05.107615",
     "exception": false,
     "start_time": "2024-08-09T18:48:05.088761",
     "status": "completed"
    },
    "tags": []
   },
   "outputs": [],
   "source": [
    "# import re\n",
    "# import nltk\n",
    "# import string\n",
    "# from nltk.tokenize import word_tokenize\n",
    "# from nltk.corpus import stopwords\n",
    "# from nltk.stem.porter import PorterStemmer"
   ]
  },
  {
   "cell_type": "code",
   "execution_count": 16,
   "id": "ed0fee77",
   "metadata": {
    "execution": {
     "iopub.execute_input": "2024-08-09T18:48:05.133860Z",
     "iopub.status.busy": "2024-08-09T18:48:05.133621Z",
     "iopub.status.idle": "2024-08-09T18:48:05.137097Z",
     "shell.execute_reply": "2024-08-09T18:48:05.136310Z"
    },
    "id": "3qHLRGpr04dk",
    "papermill": {
     "duration": 0.01892,
     "end_time": "2024-08-09T18:48:05.138971",
     "exception": false,
     "start_time": "2024-08-09T18:48:05.120051",
     "status": "completed"
    },
    "tags": []
   },
   "outputs": [],
   "source": [
    "# def convert_to_string(listReview):\n",
    "#   return' '.join(listReview)\n",
    "# data['issue_body']=data['issue_body'].apply(convert_to_string)"
   ]
  },
  {
   "cell_type": "code",
   "execution_count": 17,
   "id": "824635b3",
   "metadata": {
    "execution": {
     "iopub.execute_input": "2024-08-09T18:48:05.165328Z",
     "iopub.status.busy": "2024-08-09T18:48:05.165059Z",
     "iopub.status.idle": "2024-08-09T18:48:08.102750Z",
     "shell.execute_reply": "2024-08-09T18:48:08.101977Z"
    },
    "id": "5byteX9LriVv",
    "papermill": {
     "duration": 2.953662,
     "end_time": "2024-08-09T18:48:08.105070",
     "exception": false,
     "start_time": "2024-08-09T18:48:05.151408",
     "status": "completed"
    },
    "tags": []
   },
   "outputs": [],
   "source": [
    "from imblearn.under_sampling import RandomUnderSampler\n",
    "\n",
    "min_samples = data['issue_label'].value_counts().min()\n",
    "\n",
    "# Resample each class to have the same number of samples (minimum number)\n",
    "rus = RandomUnderSampler(sampling_strategy={class_label: min_samples for class_label in data['issue_label'].unique()})\n",
    "X, y = rus.fit_resample(data.drop(columns='issue_label'), data['issue_label'])"
   ]
  },
  {
   "cell_type": "code",
   "execution_count": 18,
   "id": "dac01bc9",
   "metadata": {
    "execution": {
     "iopub.execute_input": "2024-08-09T18:48:08.132924Z",
     "iopub.status.busy": "2024-08-09T18:48:08.132528Z",
     "iopub.status.idle": "2024-08-09T18:48:08.434022Z",
     "shell.execute_reply": "2024-08-09T18:48:08.433106Z"
    },
    "id": "5akKCl2tyyDr",
    "papermill": {
     "duration": 0.31763,
     "end_time": "2024-08-09T18:48:08.436089",
     "exception": false,
     "start_time": "2024-08-09T18:48:08.118459",
     "status": "completed"
    },
    "tags": []
   },
   "outputs": [
    {
     "data": {
      "image/png": "[encoded data removed]",
      "text/plain": [
       "<Figure size 800x600 with 1 Axes>"
      ]
     },
     "metadata": {},
     "output_type": "display_data"
    }
   ],
   "source": [
    "import matplotlib.pyplot as plt\n",
    "\n",
    "# Get value counts of the resampled labels\n",
    "label_counts = pd.Series(y).value_counts()\n",
    "\n",
    "# Create a bar chart\n",
    "plt.figure(figsize=(8, 6))\n",
    "label_counts.plot(kind='bar')\n",
    "plt.title('Class Distribution after Resampling')\n",
    "plt.xlabel('Class Label')\n",
    "plt.ylabel('Count')\n",
    "plt.xticks(rotation=45)\n",
    "plt.show()"
   ]
  },
  {
   "cell_type": "code",
   "execution_count": 19,
   "id": "840d8920",
   "metadata": {
    "execution": {
     "iopub.execute_input": "2024-08-09T18:48:08.463456Z",
     "iopub.status.busy": "2024-08-09T18:48:08.462897Z",
     "iopub.status.idle": "2024-08-09T18:48:08.468450Z",
     "shell.execute_reply": "2024-08-09T18:48:08.467645Z"
    },
    "id": "is154nBt5rC-",
    "papermill": {
     "duration": 0.021142,
     "end_time": "2024-08-09T18:48:08.470344",
     "exception": false,
     "start_time": "2024-08-09T18:48:08.449202",
     "status": "completed"
    },
    "tags": []
   },
   "outputs": [
    {
     "data": {
      "text/plain": [
       "(79983, 79983)"
      ]
     },
     "execution_count": 19,
     "metadata": {},
     "output_type": "execute_result"
    }
   ],
   "source": [
    "len(X), len(y)"
   ]
  },
  {
   "cell_type": "code",
   "execution_count": 20,
   "id": "86e3a560",
   "metadata": {
    "execution": {
     "iopub.execute_input": "2024-08-09T18:48:08.497342Z",
     "iopub.status.busy": "2024-08-09T18:48:08.496851Z",
     "iopub.status.idle": "2024-08-09T18:48:08.513502Z",
     "shell.execute_reply": "2024-08-09T18:48:08.512675Z"
    },
    "id": "uGfZS23e1FNL",
    "papermill": {
     "duration": 0.032122,
     "end_time": "2024-08-09T18:48:08.515432",
     "exception": false,
     "start_time": "2024-08-09T18:48:08.483310",
     "status": "completed"
    },
    "tags": []
   },
   "outputs": [
    {
     "data": {
      "text/plain": [
       "(63986, 15997)"
      ]
     },
     "execution_count": 20,
     "metadata": {},
     "output_type": "execute_result"
    }
   ],
   "source": [
    "from sklearn.model_selection import train_test_split\n",
    "x_train, x_test, y_train, y_test = train_test_split(X, y, test_size=0.2, random_state=42)\n",
    "len(x_train), len(x_test)"
   ]
  },
  {
   "cell_type": "code",
   "execution_count": 21,
   "id": "467203eb",
   "metadata": {
    "execution": {
     "iopub.execute_input": "2024-08-09T18:48:08.543030Z",
     "iopub.status.busy": "2024-08-09T18:48:08.542768Z",
     "iopub.status.idle": "2024-08-09T18:48:08.546579Z",
     "shell.execute_reply": "2024-08-09T18:48:08.545752Z"
    },
    "id": "OIB3pETW1Gzg",
    "papermill": {
     "duration": 0.019761,
     "end_time": "2024-08-09T18:48:08.548431",
     "exception": false,
     "start_time": "2024-08-09T18:48:08.528670",
     "status": "completed"
    },
    "tags": []
   },
   "outputs": [],
   "source": [
    "# for plotting comparisons\n",
    "acc = []; pre = [] ; rec = [] ; f = []"
   ]
  },
  {
   "cell_type": "code",
   "execution_count": 22,
   "id": "f2ddd433",
   "metadata": {
    "execution": {
     "iopub.execute_input": "2024-08-09T18:48:08.616743Z",
     "iopub.status.busy": "2024-08-09T18:48:08.616146Z",
     "iopub.status.idle": "2024-08-09T18:48:08.620871Z",
     "shell.execute_reply": "2024-08-09T18:48:08.620043Z"
    },
    "id": "iPMY0fyZ1I4s",
    "papermill": {
     "duration": 0.02096,
     "end_time": "2024-08-09T18:48:08.622863",
     "exception": false,
     "start_time": "2024-08-09T18:48:08.601903",
     "status": "completed"
    },
    "tags": []
   },
   "outputs": [],
   "source": [
    "from sklearn import svm\n",
    "from sklearn.metrics import classification_report,accuracy_score,precision_score,recall_score\n",
    "from sklearn.metrics import accuracy_score,precision_score,recall_score,f1_score\n",
    "import sklearn.metrics as metrics"
   ]
  },
  {
   "cell_type": "code",
   "execution_count": 23,
   "id": "70108873",
   "metadata": {
    "execution": {
     "iopub.execute_input": "2024-08-09T18:48:08.650221Z",
     "iopub.status.busy": "2024-08-09T18:48:08.649963Z",
     "iopub.status.idle": "2024-08-09T18:50:14.054109Z",
     "shell.execute_reply": "2024-08-09T18:50:14.053116Z"
    },
    "id": "5AW_yDIN2CF6",
    "papermill": {
     "duration": 125.420741,
     "end_time": "2024-08-09T18:50:14.056787",
     "exception": false,
     "start_time": "2024-08-09T18:48:08.636046",
     "status": "completed"
    },
    "tags": []
   },
   "outputs": [
    {
     "name": "stdout",
     "output_type": "stream",
     "text": [
      "Collecting tf-keras==2.15\r\n",
      "  Downloading tf_keras-2.15.0-py3-none-any.whl.metadata (1.6 kB)\r\n",
      "Downloading tf_keras-2.15.0-py3-none-any.whl (1.7 MB)\r\n",
      "\u001b[2K   \u001b[90m━━━━━━━━━━━━━━━━━━━━━━━━━━━━━━━━━━━━━━━━\u001b[0m \u001b[32m1.7/1.7 MB\u001b[0m \u001b[31m13.2 MB/s\u001b[0m eta \u001b[36m0:00:00\u001b[0m\r\n",
      "\u001b[?25hInstalling collected packages: tf-keras\r\n",
      "  Attempting uninstall: tf-keras\r\n",
      "    Found existing installation: tf_keras 2.15.1\r\n",
      "    Uninstalling tf_keras-2.15.1:\r\n",
      "      Successfully uninstalled tf_keras-2.15.1\r\n",
      "Successfully installed tf-keras-2.15.0\r\n",
      "Requirement already satisfied: transformers in /opt/conda/lib/python3.10/site-packages (4.42.3)\r\n",
      "Requirement already satisfied: datasets in /opt/conda/lib/python3.10/site-packages (2.20.0)\r\n",
      "Requirement already satisfied: torch in /opt/conda/lib/python3.10/site-packages (2.1.2)\r\n",
      "Requirement already satisfied: tensorboard in /opt/conda/lib/python3.10/site-packages (2.15.1)\r\n",
      "Requirement already satisfied: filelock in /opt/conda/lib/python3.10/site-packages (from transformers) (3.13.1)\r\n",
      "Requirement already satisfied: huggingface-hub<1.0,>=0.23.2 in /opt/conda/lib/python3.10/site-packages (from transformers) (0.23.4)\r\n",
      "Requirement already satisfied: numpy<2.0,>=1.17 in /opt/conda/lib/python3.10/site-packages (from transformers) (1.26.4)\r\n",
      "Requirement already satisfied: packaging>=20.0 in /opt/conda/lib/python3.10/site-packages (from transformers) (21.3)\r\n",
      "Requirement already satisfied: pyyaml>=5.1 in /opt/conda/lib/python3.10/site-packages (from transformers) (6.0.1)\r\n",
      "Requirement already satisfied: regex!=2019.12.17 in /opt/conda/lib/python3.10/site-packages (from transformers) (2023.12.25)\r\n",
      "Requirement already satisfied: requests in /opt/conda/lib/python3.10/site-packages (from transformers) (2.32.3)\r\n",
      "Requirement already satisfied: safetensors>=0.4.1 in /opt/conda/lib/python3.10/site-packages (from transformers) (0.4.3)\r\n",
      "Requirement already satisfied: tokenizers<0.20,>=0.19 in /opt/conda/lib/python3.10/site-packages (from transformers) (0.19.1)\r\n",
      "Requirement already satisfied: tqdm>=4.27 in /opt/conda/lib/python3.10/site-packages (from transformers) (4.66.4)\r\n",
      "Requirement already satisfied: pyarrow>=15.0.0 in /opt/conda/lib/python3.10/site-packages (from datasets) (16.1.0)\r\n",
      "Requirement already satisfied: pyarrow-hotfix in /opt/conda/lib/python3.10/site-packages (from datasets) (0.6)\r\n",
      "Requirement already satisfied: dill<0.3.9,>=0.3.0 in /opt/conda/lib/python3.10/site-packages (from datasets) (0.3.8)\r\n",
      "Requirement already satisfied: pandas in /opt/conda/lib/python3.10/site-packages (from datasets) (2.2.2)\r\n",
      "Requirement already satisfied: xxhash in /opt/conda/lib/python3.10/site-packages (from datasets) (3.4.1)\r\n",
      "Requirement already satisfied: multiprocess in /opt/conda/lib/python3.10/site-packages (from datasets) (0.70.16)\r\n",
      "Requirement already satisfied: fsspec<=2024.5.0,>=2023.1.0 in /opt/conda/lib/python3.10/site-packages (from fsspec[http]<=2024.5.0,>=2023.1.0->datasets) (2024.5.0)\r\n",
      "Requirement already satisfied: aiohttp in /opt/conda/lib/python3.10/site-packages (from datasets) (3.9.1)\r\n",
      "Requirement already satisfied: typing-extensions in /opt/conda/lib/python3.10/site-packages (from torch) (4.9.0)\r\n",
      "Requirement already satisfied: sympy in /opt/conda/lib/python3.10/site-packages (from torch) (1.13.0)\r\n",
      "Requirement already satisfied: networkx in /opt/conda/lib/python3.10/site-packages (from torch) (3.2.1)\r\n",
      "Requirement already satisfied: jinja2 in /opt/conda/lib/python3.10/site-packages (from torch) (3.1.2)\r\n",
      "Requirement already satisfied: absl-py>=0.4 in /opt/conda/lib/python3.10/site-packages (from tensorboard) (1.4.0)\r\n",
      "Requirement already satisfied: grpcio>=1.48.2 in /opt/conda/lib/python3.10/site-packages (from tensorboard) (1.60.0)\r\n",
      "Requirement already satisfied: google-auth<3,>=1.6.3 in /opt/conda/lib/python3.10/site-packages (from tensorboard) (2.26.1)\r\n",
      "Requirement already satisfied: google-auth-oauthlib<2,>=0.5 in /opt/conda/lib/python3.10/site-packages (from tensorboard) (1.2.0)\r\n",
      "Requirement already satisfied: markdown>=2.6.8 in /opt/conda/lib/python3.10/site-packages (from tensorboard) (3.5.2)\r\n",
      "Requirement already satisfied: protobuf<4.24,>=3.19.6 in /opt/conda/lib/python3.10/site-packages (from tensorboard) (3.20.3)\r\n",
      "Requirement already satisfied: setuptools>=41.0.0 in /opt/conda/lib/python3.10/site-packages (from tensorboard) (69.0.3)\r\n",
      "Requirement already satisfied: six>1.9 in /opt/conda/lib/python3.10/site-packages (from tensorboard) (1.16.0)\r\n",
      "Requirement already satisfied: tensorboard-data-server<0.8.0,>=0.7.0 in /opt/conda/lib/python3.10/site-packages (from tensorboard) (0.7.2)\r\n",
      "Requirement already satisfied: werkzeug>=1.0.1 in /opt/conda/lib/python3.10/site-packages (from tensorboard) (3.0.3)\r\n",
      "Requirement already satisfied: attrs>=17.3.0 in /opt/conda/lib/python3.10/site-packages (from aiohttp->datasets) (23.2.0)\r\n",
      "Requirement already satisfied: multidict<7.0,>=4.5 in /opt/conda/lib/python3.10/site-packages (from aiohttp->datasets) (6.0.4)\r\n",
      "Requirement already satisfied: yarl<2.0,>=1.0 in /opt/conda/lib/python3.10/site-packages (from aiohttp->datasets) (1.9.3)\r\n",
      "Requirement already satisfied: frozenlist>=1.1.1 in /opt/conda/lib/python3.10/site-packages (from aiohttp->datasets) (1.4.1)\r\n",
      "Requirement already satisfied: aiosignal>=1.1.2 in /opt/conda/lib/python3.10/site-packages (from aiohttp->datasets) (1.3.1)\r\n",
      "Requirement already satisfied: async-timeout<5.0,>=4.0 in /opt/conda/lib/python3.10/site-packages (from aiohttp->datasets) (4.0.3)\r\n",
      "Requirement already satisfied: cachetools<6.0,>=2.0.0 in /opt/conda/lib/python3.10/site-packages (from google-auth<3,>=1.6.3->tensorboard) (4.2.4)\r\n",
      "Requirement already satisfied: pyasn1-modules>=0.2.1 in /opt/conda/lib/python3.10/site-packages (from google-auth<3,>=1.6.3->tensorboard) (0.3.0)\r\n",
      "Requirement already satisfied: rsa<5,>=3.1.4 in /opt/conda/lib/python3.10/site-packages (from google-auth<3,>=1.6.3->tensorboard) (4.9)\r\n",
      "Requirement already satisfied: requests-oauthlib>=0.7.0 in /opt/conda/lib/python3.10/site-packages (from google-auth-oauthlib<2,>=0.5->tensorboard) (1.3.1)\r\n",
      "Requirement already satisfied: pyparsing!=3.0.5,>=2.0.2 in /opt/conda/lib/python3.10/site-packages (from packaging>=20.0->transformers) (3.1.1)\r\n",
      "Requirement already satisfied: charset-normalizer<4,>=2 in /opt/conda/lib/python3.10/site-packages (from requests->transformers) (3.3.2)\r\n",
      "Requirement already satisfied: idna<4,>=2.5 in /opt/conda/lib/python3.10/site-packages (from requests->transformers) (3.6)\r\n",
      "Requirement already satisfied: urllib3<3,>=1.21.1 in /opt/conda/lib/python3.10/site-packages (from requests->transformers) (1.26.18)\r\n",
      "Requirement already satisfied: certifi>=2017.4.17 in /opt/conda/lib/python3.10/site-packages (from requests->transformers) (2024.7.4)\r\n",
      "Requirement already satisfied: MarkupSafe>=2.1.1 in /opt/conda/lib/python3.10/site-packages (from werkzeug>=1.0.1->tensorboard) (2.1.3)\r\n",
      "Requirement already satisfied: python-dateutil>=2.8.2 in /opt/conda/lib/python3.10/site-packages (from pandas->datasets) (2.9.0.post0)\r\n",
      "Requirement already satisfied: pytz>=2020.1 in /opt/conda/lib/python3.10/site-packages (from pandas->datasets) (2023.3.post1)\r\n",
      "Requirement already satisfied: tzdata>=2022.7 in /opt/conda/lib/python3.10/site-packages (from pandas->datasets) (2023.4)\r\n",
      "Requirement already satisfied: mpmath<1.4,>=1.1.0 in /opt/conda/lib/python3.10/site-packages (from sympy->torch) (1.3.0)\r\n",
      "Requirement already satisfied: pyasn1<0.6.0,>=0.4.6 in /opt/conda/lib/python3.10/site-packages (from pyasn1-modules>=0.2.1->google-auth<3,>=1.6.3->tensorboard) (0.5.1)\r\n",
      "Requirement already satisfied: oauthlib>=3.0.0 in /opt/conda/lib/python3.10/site-packages (from requests-oauthlib>=0.7.0->google-auth-oauthlib<2,>=0.5->tensorboard) (3.2.2)\r\n"
     ]
    }
   ],
   "source": [
    "# Install ktrain\n",
    "!pip install --upgrade pip -q\n",
    "!pip install -q ktrain\n",
    "!pip install tf-keras==2.15\n",
    "!pip install transformers datasets torch tensorboard\n",
    "import os \n",
    "os.environ['TF_USE_LEGACY_KERAS'] = '1'\n",
    "import ktrain"
   ]
  },
  {
   "cell_type": "code",
   "execution_count": 24,
   "id": "80ce5b6b",
   "metadata": {
    "execution": {
     "iopub.execute_input": "2024-08-09T18:50:14.089830Z",
     "iopub.status.busy": "2024-08-09T18:50:14.089263Z",
     "iopub.status.idle": "2024-08-09T18:50:14.093595Z",
     "shell.execute_reply": "2024-08-09T18:50:14.092715Z"
    },
    "id": "fLE_Pszv1Kya",
    "papermill": {
     "duration": 0.022472,
     "end_time": "2024-08-09T18:50:14.095631",
     "exception": false,
     "start_time": "2024-08-09T18:50:14.073159",
     "status": "completed"
    },
    "tags": []
   },
   "outputs": [],
   "source": [
    "# from ktrain import text"
   ]
  },
  {
   "cell_type": "code",
   "execution_count": 25,
   "id": "790722cb",
   "metadata": {
    "execution": {
     "iopub.execute_input": "2024-08-09T18:50:14.126856Z",
     "iopub.status.busy": "2024-08-09T18:50:14.126576Z",
     "iopub.status.idle": "2024-08-09T18:50:14.182850Z",
     "shell.execute_reply": "2024-08-09T18:50:14.182161Z"
    },
    "id": "8IaZGr184QfT",
    "papermill": {
     "duration": 0.074363,
     "end_time": "2024-08-09T18:50:14.185173",
     "exception": false,
     "start_time": "2024-08-09T18:50:14.110810",
     "status": "completed"
    },
    "tags": []
   },
   "outputs": [],
   "source": [
    "class_names=['enhancement', 'bug','question']\n",
    "x_train = x_train['issue_body'].tolist()\n",
    "y_train = y_train.to_numpy()\n",
    "x_test = x_test['issue_body'].tolist()\n",
    "y_test = y_test.to_numpy()\n"
   ]
  },
  {
   "cell_type": "markdown",
   "id": "d28f9027",
   "metadata": {
    "papermill": {
     "duration": 0.01434,
     "end_time": "2024-08-09T18:50:14.214164",
     "exception": false,
     "start_time": "2024-08-09T18:50:14.199824",
     "status": "completed"
    },
    "tags": []
   },
   "source": []
  },
  {
   "cell_type": "code",
   "execution_count": 26,
   "id": "fa6b4c52",
   "metadata": {
    "execution": {
     "iopub.execute_input": "2024-08-09T18:50:14.245884Z",
     "iopub.status.busy": "2024-08-09T18:50:14.245603Z",
     "iopub.status.idle": "2024-08-09T18:50:14.249513Z",
     "shell.execute_reply": "2024-08-09T18:50:14.248680Z"
    },
    "id": "xO2-fI0I2fjX",
    "papermill": {
     "duration": 0.022792,
     "end_time": "2024-08-09T18:50:14.251600",
     "exception": false,
     "start_time": "2024-08-09T18:50:14.228808",
     "status": "completed"
    },
    "tags": []
   },
   "outputs": [],
   "source": [
    "# (x_train, y_train), (x_test, y_test), preproc = text.texts_from_array(x_train=x_train,\n",
    "#                                                                       y_train=y_train,\n",
    "#                                                                       x_test=x_test,\n",
    "#                                                                       y_test=y_test,\n",
    "#                                                                       class_names=class_names,\n",
    "#                                                                       preprocess_mode='bert',maxlen=80)"
   ]
  },
  {
   "cell_type": "code",
   "execution_count": 27,
   "id": "d002ed79",
   "metadata": {
    "execution": {
     "iopub.execute_input": "2024-08-09T18:50:14.288947Z",
     "iopub.status.busy": "2024-08-09T18:50:14.288579Z",
     "iopub.status.idle": "2024-08-09T18:50:14.292527Z",
     "shell.execute_reply": "2024-08-09T18:50:14.291693Z"
    },
    "id": "1W9t-WoW2k-F",
    "papermill": {
     "duration": 0.026835,
     "end_time": "2024-08-09T18:50:14.294763",
     "exception": false,
     "start_time": "2024-08-09T18:50:14.267928",
     "status": "completed"
    },
    "tags": []
   },
   "outputs": [],
   "source": [
    "# # Step 3: Load the pre-trained BERT model\n",
    "# model = text.text_classifier('bert', (x_train, y_train), preproc=preproc)\n",
    "\n",
    "# # Step 4: Initialize a ktrain classifier using BERT\n",
    "# learner = ktrain.get_learner(model, train_data=(x_train, y_train), val_data=(x_test, y_test))\n",
    "\n",
    "# # Step 5: Train the classifier on your data\n",
    "# learner.fit_onecycle(2e-5, 1)\n",
    "\n",
    "# # Step 6: Evaluate the classifier on a validation set\n",
    "# learner.validate(val_data=(x_test, y_test))\n"
   ]
  },
  {
   "cell_type": "code",
   "execution_count": 28,
   "id": "f6df1f4c",
   "metadata": {
    "execution": {
     "iopub.execute_input": "2024-08-09T18:50:14.327243Z",
     "iopub.status.busy": "2024-08-09T18:50:14.326950Z",
     "iopub.status.idle": "2024-08-09T18:50:14.330643Z",
     "shell.execute_reply": "2024-08-09T18:50:14.329845Z"
    },
    "id": "Dj0uWnBU55l5",
    "papermill": {
     "duration": 0.022295,
     "end_time": "2024-08-09T18:50:14.332601",
     "exception": false,
     "start_time": "2024-08-09T18:50:14.310306",
     "status": "completed"
    },
    "tags": []
   },
   "outputs": [],
   "source": [
    "# # It may need long time but ensures healthy training\n",
    "# learner.lr_find(show_plot=True, max_epochs=2)"
   ]
  },
  {
   "cell_type": "code",
   "execution_count": 29,
   "id": "aa921acf",
   "metadata": {
    "execution": {
     "iopub.execute_input": "2024-08-09T18:50:14.365212Z",
     "iopub.status.busy": "2024-08-09T18:50:14.364966Z",
     "iopub.status.idle": "2024-08-09T18:50:14.368666Z",
     "shell.execute_reply": "2024-08-09T18:50:14.367708Z"
    },
    "id": "O_nPN2q258bS",
    "papermill": {
     "duration": 0.022494,
     "end_time": "2024-08-09T18:50:14.370730",
     "exception": false,
     "start_time": "2024-08-09T18:50:14.348236",
     "status": "completed"
    },
    "tags": []
   },
   "outputs": [],
   "source": [
    "# # After the learning rate find process plot the curve of leaning rate - loss to select best learning rate\n",
    "# learner.lr_plot()"
   ]
  },
  {
   "cell_type": "code",
   "execution_count": 30,
   "id": "8c08d998",
   "metadata": {
    "execution": {
     "iopub.execute_input": "2024-08-09T18:50:14.403486Z",
     "iopub.status.busy": "2024-08-09T18:50:14.403194Z",
     "iopub.status.idle": "2024-08-09T18:50:14.406893Z",
     "shell.execute_reply": "2024-08-09T18:50:14.406072Z"
    },
    "id": "8Ajk6hpZH7rO",
    "papermill": {
     "duration": 0.022547,
     "end_time": "2024-08-09T18:50:14.409126",
     "exception": false,
     "start_time": "2024-08-09T18:50:14.386579",
     "status": "completed"
    },
    "tags": []
   },
   "outputs": [],
   "source": [
    "# # Fit the leraner to the data for 2 epochs\n",
    "# # Many other fit options available on the documentation of ktrain https://github.com/amaiya/ktrain\n",
    "# learner.autofit(2e-5, 2)\n",
    "# learner.validate(val_data=(x_test, y_test))"
   ]
  },
  {
   "cell_type": "code",
   "execution_count": 31,
   "id": "190a1e06",
   "metadata": {
    "execution": {
     "iopub.execute_input": "2024-08-09T18:50:14.441086Z",
     "iopub.status.busy": "2024-08-09T18:50:14.440845Z",
     "iopub.status.idle": "2024-08-09T18:50:14.444430Z",
     "shell.execute_reply": "2024-08-09T18:50:14.443567Z"
    },
    "id": "_RNjD5aIH8Bi",
    "papermill": {
     "duration": 0.021792,
     "end_time": "2024-08-09T18:50:14.446613",
     "exception": false,
     "start_time": "2024-08-09T18:50:14.424821",
     "status": "completed"
    },
    "tags": []
   },
   "outputs": [],
   "source": [
    "#predictor = ktrain.get_predictor(learner.model)\n",
    "#predictor.save('/content/drive/MyDrive/NLP/my_predictor')"
   ]
  },
  {
   "cell_type": "code",
   "execution_count": null,
   "id": "3e26ab99",
   "metadata": {
    "papermill": {
     "duration": 0.016353,
     "end_time": "2024-08-09T18:50:14.478388",
     "exception": false,
     "start_time": "2024-08-09T18:50:14.462035",
     "status": "completed"
    },
    "tags": []
   },
   "outputs": [],
   "source": []
  },
  {
   "cell_type": "code",
   "execution_count": 32,
   "id": "8acd4750",
   "metadata": {
    "execution": {
     "iopub.execute_input": "2024-08-09T18:50:14.518894Z",
     "iopub.status.busy": "2024-08-09T18:50:14.518352Z",
     "iopub.status.idle": "2024-08-09T18:50:52.357724Z",
     "shell.execute_reply": "2024-08-09T18:50:52.356726Z"
    },
    "papermill": {
     "duration": 37.862647,
     "end_time": "2024-08-09T18:50:52.360605",
     "exception": false,
     "start_time": "2024-08-09T18:50:14.497958",
     "status": "completed"
    },
    "tags": []
   },
   "outputs": [
    {
     "data": {
      "application/vnd.jupyter.widget-view+json": {
       "model_id": "6788b2cb46644d85bb80d67b9055295a",
       "version_major": 2,
       "version_minor": 0
      },
      "text/plain": [
       "tokenizer_config.json:   0%|          | 0.00/373 [00:00<?, ?B/s]"
      ]
     },
     "metadata": {},
     "output_type": "display_data"
    },
    {
     "data": {
      "application/vnd.jupyter.widget-view+json": {
       "model_id": "a23ae033fb7b454b8400baf4cce0646c",
       "version_major": 2,
       "version_minor": 0
      },
      "text/plain": [
       "vocab.txt:   0%|          | 0.00/996k [00:00<?, ?B/s]"
      ]
     },
     "metadata": {},
     "output_type": "display_data"
    },
    {
     "data": {
      "application/vnd.jupyter.widget-view+json": {
       "model_id": "84eebf1e2db34fe4bff6d19cb3ee521a",
       "version_major": 2,
       "version_minor": 0
      },
      "text/plain": [
       "tokenizer.json:   0%|          | 0.00/2.92M [00:00<?, ?B/s]"
      ]
     },
     "metadata": {},
     "output_type": "display_data"
    },
    {
     "data": {
      "application/vnd.jupyter.widget-view+json": {
       "model_id": "e4a390453e114c32a82e3e79487a180b",
       "version_major": 2,
       "version_minor": 0
      },
      "text/plain": [
       "special_tokens_map.json:   0%|          | 0.00/125 [00:00<?, ?B/s]"
      ]
     },
     "metadata": {},
     "output_type": "display_data"
    }
   ],
   "source": [
    "from transformers import AutoTokenizer\n",
    "\n",
    "# Load the tokenizer\n",
    "tokenizer = AutoTokenizer.from_pretrained(\"lxyuan/distilbert-base-multilingual-cased-sentiments-student\")\n",
    "\n",
    "# Tokenize the training data\n",
    "train_encodings = tokenizer(x_train, truncation=True, padding=True)\n",
    "\n",
    "# Tokenize the testing data\n",
    "test_encodings = tokenizer(x_test, truncation=True, padding=True)\n"
   ]
  },
  {
   "cell_type": "code",
   "execution_count": 33,
   "id": "2d158852",
   "metadata": {
    "execution": {
     "iopub.execute_input": "2024-08-09T18:50:52.407458Z",
     "iopub.status.busy": "2024-08-09T18:50:52.406584Z",
     "iopub.status.idle": "2024-08-09T18:50:52.466017Z",
     "shell.execute_reply": "2024-08-09T18:50:52.465110Z"
    },
    "papermill": {
     "duration": 0.084681,
     "end_time": "2024-08-09T18:50:52.468035",
     "exception": false,
     "start_time": "2024-08-09T18:50:52.383354",
     "status": "completed"
    },
    "tags": []
   },
   "outputs": [],
   "source": [
    "import torch\n",
    "\n",
    "# Convert labels to tensors\n",
    "train_labels = torch.tensor(y_train)\n",
    "test_labels = torch.tensor(y_test)\n"
   ]
  },
  {
   "cell_type": "code",
   "execution_count": 34,
   "id": "1b4a1e1d",
   "metadata": {
    "execution": {
     "iopub.execute_input": "2024-08-09T18:50:52.502193Z",
     "iopub.status.busy": "2024-08-09T18:50:52.501239Z",
     "iopub.status.idle": "2024-08-09T18:50:52.511292Z",
     "shell.execute_reply": "2024-08-09T18:50:52.510206Z"
    },
    "papermill": {
     "duration": 0.028907,
     "end_time": "2024-08-09T18:50:52.513658",
     "exception": false,
     "start_time": "2024-08-09T18:50:52.484751",
     "status": "completed"
    },
    "tags": []
   },
   "outputs": [],
   "source": [
    "from torch.utils.data import Dataset\n",
    "\n",
    "class CustomDataset(Dataset):\n",
    "    def __init__(self, encodings, labels):\n",
    "        self.encodings = encodings\n",
    "        self.labels = labels\n",
    "\n",
    "    def __getitem__(self, idx):\n",
    "        item = {key: torch.tensor(val[idx]) for key, val in self.encodings.items()}\n",
    "        item['labels'] = self.labels[idx]\n",
    "        return item\n",
    "\n",
    "    def __len__(self):\n",
    "        return len(self.labels)\n",
    "\n",
    "# Create the dataset objects\n",
    "train_dataset = CustomDataset(train_encodings, train_labels)\n",
    "test_dataset = CustomDataset(test_encodings, test_labels)\n"
   ]
  },
  {
   "cell_type": "code",
   "execution_count": 35,
   "id": "3c32823f",
   "metadata": {
    "execution": {
     "iopub.execute_input": "2024-08-09T18:50:52.548431Z",
     "iopub.status.busy": "2024-08-09T18:50:52.547611Z",
     "iopub.status.idle": "2024-08-09T20:18:48.927513Z",
     "shell.execute_reply": "2024-08-09T20:18:48.926308Z"
    },
    "papermill": {
     "duration": 5276.398536,
     "end_time": "2024-08-09T20:18:48.929667",
     "exception": false,
     "start_time": "2024-08-09T18:50:52.531131",
     "status": "completed"
    },
    "tags": []
   },
   "outputs": [
    {
     "data": {
      "application/vnd.jupyter.widget-view+json": {
       "model_id": "5621ecaa66a54bc897015e00387b2ca6",
       "version_major": 2,
       "version_minor": 0
      },
      "text/plain": [
       "config.json:   0%|          | 0.00/759 [00:00<?, ?B/s]"
      ]
     },
     "metadata": {},
     "output_type": "display_data"
    },
    {
     "data": {
      "application/vnd.jupyter.widget-view+json": {
       "model_id": "80ddbb6a1ee946b8b2c228420ebaf485",
       "version_major": 2,
       "version_minor": 0
      },
      "text/plain": [
       "model.safetensors:   0%|          | 0.00/541M [00:00<?, ?B/s]"
      ]
     },
     "metadata": {},
     "output_type": "display_data"
    },
    {
     "name": "stderr",
     "output_type": "stream",
     "text": [
      "/opt/conda/lib/python3.10/site-packages/torch/nn/parallel/_functions.py:68: UserWarning: Was asked to gather along dimension 0, but all input tensors were scalars; will instead unsqueeze and return a vector.\n",
      "  warnings.warn('Was asked to gather along dimension 0, but all '\n"
     ]
    },
    {
     "name": "stdout",
     "output_type": "stream",
     "text": [
      "{'loss': 1.1364, 'grad_norm': 3.758880138397217, 'learning_rate': 1.0000000000000002e-06, 'epoch': 0.005}\n",
      "{'loss': 1.0775, 'grad_norm': 3.4862754344940186, 'learning_rate': 2.0000000000000003e-06, 'epoch': 0.01}\n",
      "{'loss': 1.0714, 'grad_norm': 3.359842538833618, 'learning_rate': 3e-06, 'epoch': 0.015}\n",
      "{'loss': 1.0386, 'grad_norm': 3.157850742340088, 'learning_rate': 4.000000000000001e-06, 'epoch': 0.02}\n",
      "{'loss': 0.9984, 'grad_norm': 2.4262475967407227, 'learning_rate': 5e-06, 'epoch': 0.025}\n",
      "{'loss': 1.0026, 'grad_norm': 3.0371365547180176, 'learning_rate': 6e-06, 'epoch': 0.03}\n",
      "{'loss': 1.0038, 'grad_norm': 2.587085723876953, 'learning_rate': 7.000000000000001e-06, 'epoch': 0.035}\n",
      "{'loss': 0.9694, 'grad_norm': 2.4202568531036377, 'learning_rate': 8.000000000000001e-06, 'epoch': 0.04}\n",
      "{'loss': 1.0076, 'grad_norm': 2.4368114471435547, 'learning_rate': 9e-06, 'epoch': 0.045}\n",
      "{'loss': 0.9877, 'grad_norm': 2.816020965576172, 'learning_rate': 1e-05, 'epoch': 0.05}\n",
      "{'loss': 0.9825, 'grad_norm': 2.6001336574554443, 'learning_rate': 1.1000000000000001e-05, 'epoch': 0.055}\n",
      "{'loss': 0.9893, 'grad_norm': 2.471181869506836, 'learning_rate': 1.2e-05, 'epoch': 0.06}\n",
      "{'loss': 0.9608, 'grad_norm': 2.345118522644043, 'learning_rate': 1.3000000000000001e-05, 'epoch': 0.065}\n",
      "{'loss': 0.9293, 'grad_norm': 2.3646881580352783, 'learning_rate': 1.4000000000000001e-05, 'epoch': 0.07}\n",
      "{'loss': 0.9292, 'grad_norm': 3.7281534671783447, 'learning_rate': 1.5e-05, 'epoch': 0.075}\n",
      "{'loss': 0.9074, 'grad_norm': 3.0848517417907715, 'learning_rate': 1.6000000000000003e-05, 'epoch': 0.08}\n",
      "{'loss': 0.8577, 'grad_norm': 2.86948299407959, 'learning_rate': 1.7000000000000003e-05, 'epoch': 0.085}\n",
      "{'loss': 0.8801, 'grad_norm': 4.1474385261535645, 'learning_rate': 1.8e-05, 'epoch': 0.09}\n",
      "{'loss': 0.8745, 'grad_norm': 5.27536678314209, 'learning_rate': 1.9e-05, 'epoch': 0.095}\n",
      "{'loss': 0.81, 'grad_norm': 4.132346153259277, 'learning_rate': 2e-05, 'epoch': 0.1}\n",
      "{'loss': 0.8325, 'grad_norm': 3.747323989868164, 'learning_rate': 2.1e-05, 'epoch': 0.105}\n",
      "{'loss': 0.8857, 'grad_norm': 3.1873857975006104, 'learning_rate': 2.2000000000000003e-05, 'epoch': 0.11}\n",
      "{'loss': 0.772, 'grad_norm': 4.94397497177124, 'learning_rate': 2.3000000000000003e-05, 'epoch': 0.115}\n",
      "{'loss': 0.8107, 'grad_norm': 4.547927379608154, 'learning_rate': 2.4e-05, 'epoch': 0.12}\n",
      "{'loss': 0.8296, 'grad_norm': 6.3983659744262695, 'learning_rate': 2.5e-05, 'epoch': 0.125}\n",
      "{'loss': 0.7902, 'grad_norm': 4.4090046882629395, 'learning_rate': 2.6000000000000002e-05, 'epoch': 0.13}\n",
      "{'loss': 0.8161, 'grad_norm': 3.5808229446411133, 'learning_rate': 2.7000000000000002e-05, 'epoch': 0.135}\n",
      "{'loss': 0.8182, 'grad_norm': 4.95493745803833, 'learning_rate': 2.8000000000000003e-05, 'epoch': 0.14}\n",
      "{'loss': 0.7691, 'grad_norm': 3.424436092376709, 'learning_rate': 2.9e-05, 'epoch': 0.145}\n",
      "{'loss': 0.7843, 'grad_norm': 4.279739856719971, 'learning_rate': 3e-05, 'epoch': 0.15}\n",
      "{'loss': 0.7159, 'grad_norm': 3.7895796298980713, 'learning_rate': 3.1e-05, 'epoch': 0.155}\n",
      "{'loss': 0.7875, 'grad_norm': 3.4148592948913574, 'learning_rate': 3.2000000000000005e-05, 'epoch': 0.16}\n",
      "{'loss': 0.7373, 'grad_norm': 3.6134796142578125, 'learning_rate': 3.3e-05, 'epoch': 0.165}\n",
      "{'loss': 0.7669, 'grad_norm': 3.0115139484405518, 'learning_rate': 3.4000000000000007e-05, 'epoch': 0.17}\n",
      "{'loss': 0.7853, 'grad_norm': 3.396406412124634, 'learning_rate': 3.5e-05, 'epoch': 0.175}\n",
      "{'loss': 0.7541, 'grad_norm': 3.542423963546753, 'learning_rate': 3.6e-05, 'epoch': 0.18}\n",
      "{'loss': 0.7716, 'grad_norm': 5.072908878326416, 'learning_rate': 3.7e-05, 'epoch': 0.185}\n",
      "{'loss': 0.7925, 'grad_norm': 2.9283447265625, 'learning_rate': 3.8e-05, 'epoch': 0.19}\n",
      "{'loss': 0.7859, 'grad_norm': 3.7146542072296143, 'learning_rate': 3.9000000000000006e-05, 'epoch': 0.195}\n",
      "{'loss': 0.7515, 'grad_norm': 3.05865740776062, 'learning_rate': 4e-05, 'epoch': 0.2}\n",
      "{'loss': 0.7176, 'grad_norm': 3.744032144546509, 'learning_rate': 4.1e-05, 'epoch': 0.205}\n",
      "{'loss': 0.8157, 'grad_norm': 6.000354290008545, 'learning_rate': 4.2e-05, 'epoch': 0.21}\n",
      "{'loss': 0.6869, 'grad_norm': 5.897762775421143, 'learning_rate': 4.3e-05, 'epoch': 0.215}\n",
      "{'loss': 0.7239, 'grad_norm': 3.937917470932007, 'learning_rate': 4.4000000000000006e-05, 'epoch': 0.22}\n",
      "{'loss': 0.7321, 'grad_norm': 3.392995595932007, 'learning_rate': 4.5e-05, 'epoch': 0.225}\n",
      "{'loss': 0.7388, 'grad_norm': 3.698892116546631, 'learning_rate': 4.600000000000001e-05, 'epoch': 0.23}\n",
      "{'loss': 0.7778, 'grad_norm': 4.43326997756958, 'learning_rate': 4.7e-05, 'epoch': 0.235}\n",
      "{'loss': 0.6465, 'grad_norm': 3.8989973068237305, 'learning_rate': 4.8e-05, 'epoch': 0.24}\n",
      "{'loss': 0.7313, 'grad_norm': 3.31335186958313, 'learning_rate': 4.9e-05, 'epoch': 0.245}\n",
      "{'loss': 0.6818, 'grad_norm': 4.122775077819824, 'learning_rate': 5e-05, 'epoch': 0.25}\n"
     ]
    },
    {
     "name": "stderr",
     "output_type": "stream",
     "text": [
      "/opt/conda/lib/python3.10/site-packages/torch/nn/parallel/_functions.py:68: UserWarning: Was asked to gather along dimension 0, but all input tensors were scalars; will instead unsqueeze and return a vector.\n",
      "  warnings.warn('Was asked to gather along dimension 0, but all '\n"
     ]
    },
    {
     "name": "stdout",
     "output_type": "stream",
     "text": [
      "{'loss': 0.7416, 'grad_norm': 5.005587100982666, 'learning_rate': 4.990909090909091e-05, 'epoch': 0.255}\n",
      "{'loss': 0.7255, 'grad_norm': 3.1421079635620117, 'learning_rate': 4.981818181818182e-05, 'epoch': 0.26}\n",
      "{'loss': 0.7106, 'grad_norm': 3.2110424041748047, 'learning_rate': 4.9727272727272725e-05, 'epoch': 0.265}\n",
      "{'loss': 0.6791, 'grad_norm': 5.117677688598633, 'learning_rate': 4.963636363636364e-05, 'epoch': 0.27}\n",
      "{'loss': 0.7214, 'grad_norm': 3.179563522338867, 'learning_rate': 4.9545454545454553e-05, 'epoch': 0.275}\n",
      "{'loss': 0.7438, 'grad_norm': 3.327956438064575, 'learning_rate': 4.945454545454546e-05, 'epoch': 0.28}\n",
      "{'loss': 0.783, 'grad_norm': 3.0726826190948486, 'learning_rate': 4.936363636363637e-05, 'epoch': 0.285}\n",
      "{'loss': 0.7464, 'grad_norm': 3.506434440612793, 'learning_rate': 4.9272727272727276e-05, 'epoch': 0.29}\n",
      "{'loss': 0.6984, 'grad_norm': 3.2966737747192383, 'learning_rate': 4.9181818181818183e-05, 'epoch': 0.295}\n",
      "{'loss': 0.6058, 'grad_norm': 4.3087687492370605, 'learning_rate': 4.909090909090909e-05, 'epoch': 0.3}\n",
      "{'loss': 0.5802, 'grad_norm': 4.4151458740234375, 'learning_rate': 4.9e-05, 'epoch': 0.305}\n",
      "{'loss': 0.7634, 'grad_norm': 6.1576151847839355, 'learning_rate': 4.890909090909091e-05, 'epoch': 0.31}\n",
      "{'loss': 0.7608, 'grad_norm': 3.9594526290893555, 'learning_rate': 4.881818181818182e-05, 'epoch': 0.315}\n",
      "{'loss': 0.6498, 'grad_norm': 5.047289848327637, 'learning_rate': 4.872727272727273e-05, 'epoch': 0.32}\n",
      "{'loss': 0.7371, 'grad_norm': 4.5167365074157715, 'learning_rate': 4.863636363636364e-05, 'epoch': 0.325}\n",
      "{'loss': 0.6738, 'grad_norm': 3.118828773498535, 'learning_rate': 4.854545454545455e-05, 'epoch': 0.33}\n",
      "{'loss': 0.6287, 'grad_norm': 3.34795880317688, 'learning_rate': 4.845454545454546e-05, 'epoch': 0.335}\n",
      "{'loss': 0.7055, 'grad_norm': 5.022582054138184, 'learning_rate': 4.8363636363636364e-05, 'epoch': 0.34}\n",
      "{'loss': 0.7318, 'grad_norm': 3.753711700439453, 'learning_rate': 4.827272727272727e-05, 'epoch': 0.345}\n",
      "{'loss': 0.7741, 'grad_norm': 2.7649741172790527, 'learning_rate': 4.8181818181818186e-05, 'epoch': 0.35}\n",
      "{'loss': 0.7187, 'grad_norm': 2.896669626235962, 'learning_rate': 4.8090909090909094e-05, 'epoch': 0.355}\n",
      "{'loss': 0.7453, 'grad_norm': 4.727109432220459, 'learning_rate': 4.8e-05, 'epoch': 0.36}\n",
      "{'loss': 0.6714, 'grad_norm': 3.609018087387085, 'learning_rate': 4.790909090909091e-05, 'epoch': 0.365}\n",
      "{'loss': 0.6847, 'grad_norm': 4.687100887298584, 'learning_rate': 4.781818181818182e-05, 'epoch': 0.37}\n",
      "{'loss': 0.6228, 'grad_norm': 3.9721078872680664, 'learning_rate': 4.772727272727273e-05, 'epoch': 0.375}\n",
      "{'loss': 0.7715, 'grad_norm': 3.8237850666046143, 'learning_rate': 4.763636363636364e-05, 'epoch': 0.38}\n",
      "{'loss': 0.7174, 'grad_norm': 5.027505874633789, 'learning_rate': 4.7545454545454545e-05, 'epoch': 0.385}\n",
      "{'loss': 0.6813, 'grad_norm': 4.246351718902588, 'learning_rate': 4.745454545454546e-05, 'epoch': 0.39}\n",
      "{'loss': 0.6704, 'grad_norm': 2.720470428466797, 'learning_rate': 4.736363636363637e-05, 'epoch': 0.395}\n",
      "{'loss': 0.6974, 'grad_norm': 4.116669178009033, 'learning_rate': 4.7272727272727275e-05, 'epoch': 0.4}\n",
      "{'loss': 0.6352, 'grad_norm': 3.278372049331665, 'learning_rate': 4.718181818181818e-05, 'epoch': 0.405}\n",
      "{'loss': 0.7241, 'grad_norm': 2.9222967624664307, 'learning_rate': 4.709090909090909e-05, 'epoch': 0.41}\n",
      "{'loss': 0.7244, 'grad_norm': 2.8690903186798096, 'learning_rate': 4.7e-05, 'epoch': 0.415}\n",
      "{'loss': 0.7101, 'grad_norm': 3.913736343383789, 'learning_rate': 4.690909090909091e-05, 'epoch': 0.42}\n",
      "{'loss': 0.6513, 'grad_norm': 4.245149612426758, 'learning_rate': 4.681818181818182e-05, 'epoch': 0.425}\n",
      "{'loss': 0.6504, 'grad_norm': 3.490832805633545, 'learning_rate': 4.672727272727273e-05, 'epoch': 0.43}\n",
      "{'loss': 0.6995, 'grad_norm': 4.053915500640869, 'learning_rate': 4.663636363636364e-05, 'epoch': 0.435}\n",
      "{'loss': 0.6976, 'grad_norm': 2.8989572525024414, 'learning_rate': 4.654545454545455e-05, 'epoch': 0.44}\n",
      "{'loss': 0.6966, 'grad_norm': 3.3947243690490723, 'learning_rate': 4.6454545454545456e-05, 'epoch': 0.445}\n",
      "{'loss': 0.681, 'grad_norm': 5.276918888092041, 'learning_rate': 4.636363636363636e-05, 'epoch': 0.45}\n",
      "{'loss': 0.678, 'grad_norm': 3.508352756500244, 'learning_rate': 4.627272727272727e-05, 'epoch': 0.455}\n",
      "{'loss': 0.6858, 'grad_norm': 4.382641315460205, 'learning_rate': 4.618181818181818e-05, 'epoch': 0.46}\n",
      "{'loss': 0.6534, 'grad_norm': 3.321087598800659, 'learning_rate': 4.609090909090909e-05, 'epoch': 0.465}\n",
      "{'loss': 0.6872, 'grad_norm': 2.9216854572296143, 'learning_rate': 4.600000000000001e-05, 'epoch': 0.47}\n",
      "{'loss': 0.6588, 'grad_norm': 3.2802577018737793, 'learning_rate': 4.5909090909090914e-05, 'epoch': 0.475}\n",
      "{'loss': 0.6887, 'grad_norm': 3.6225669384002686, 'learning_rate': 4.581818181818182e-05, 'epoch': 0.48}\n",
      "{'loss': 0.7476, 'grad_norm': 2.5078258514404297, 'learning_rate': 4.572727272727273e-05, 'epoch': 0.485}\n",
      "{'loss': 0.6664, 'grad_norm': 2.654365301132202, 'learning_rate': 4.563636363636364e-05, 'epoch': 0.49}\n",
      "{'loss': 0.6148, 'grad_norm': 2.9570438861846924, 'learning_rate': 4.5545454545454544e-05, 'epoch': 0.495}\n",
      "{'loss': 0.7148, 'grad_norm': 3.7033634185791016, 'learning_rate': 4.545454545454546e-05, 'epoch': 0.5}\n"
     ]
    },
    {
     "name": "stderr",
     "output_type": "stream",
     "text": [
      "/opt/conda/lib/python3.10/site-packages/torch/nn/parallel/_functions.py:68: UserWarning: Was asked to gather along dimension 0, but all input tensors were scalars; will instead unsqueeze and return a vector.\n",
      "  warnings.warn('Was asked to gather along dimension 0, but all '\n"
     ]
    },
    {
     "name": "stdout",
     "output_type": "stream",
     "text": [
      "{'loss': 0.8146, 'grad_norm': 2.6295347213745117, 'learning_rate': 4.5363636363636366e-05, 'epoch': 0.505}\n",
      "{'loss': 0.722, 'grad_norm': 3.2212975025177, 'learning_rate': 4.5272727272727274e-05, 'epoch': 0.51}\n",
      "{'loss': 0.7423, 'grad_norm': 3.295344829559326, 'learning_rate': 4.518181818181819e-05, 'epoch': 0.515}\n",
      "{'loss': 0.7977, 'grad_norm': 3.902585744857788, 'learning_rate': 4.5090909090909095e-05, 'epoch': 0.52}\n",
      "{'loss': 0.6859, 'grad_norm': 3.3242218494415283, 'learning_rate': 4.5e-05, 'epoch': 0.525}\n",
      "{'loss': 0.6959, 'grad_norm': 3.4856340885162354, 'learning_rate': 4.490909090909091e-05, 'epoch': 0.53}\n",
      "{'loss': 0.6531, 'grad_norm': 3.670570135116577, 'learning_rate': 4.481818181818182e-05, 'epoch': 0.535}\n",
      "{'loss': 0.6974, 'grad_norm': 2.735865354537964, 'learning_rate': 4.472727272727273e-05, 'epoch': 0.54}\n",
      "{'loss': 0.7014, 'grad_norm': 3.727978467941284, 'learning_rate': 4.463636363636364e-05, 'epoch': 0.545}\n",
      "{'loss': 0.7088, 'grad_norm': 2.335902452468872, 'learning_rate': 4.454545454545455e-05, 'epoch': 0.55}\n",
      "{'loss': 0.6784, 'grad_norm': 3.572442054748535, 'learning_rate': 4.4454545454545455e-05, 'epoch': 0.555}\n",
      "{'loss': 0.7386, 'grad_norm': 3.5093870162963867, 'learning_rate': 4.436363636363637e-05, 'epoch': 0.56}\n",
      "{'loss': 0.6634, 'grad_norm': 3.476182460784912, 'learning_rate': 4.4272727272727276e-05, 'epoch': 0.565}\n",
      "{'loss': 0.6998, 'grad_norm': 2.6367621421813965, 'learning_rate': 4.4181818181818184e-05, 'epoch': 0.57}\n",
      "{'loss': 0.6589, 'grad_norm': 3.6581623554229736, 'learning_rate': 4.409090909090909e-05, 'epoch': 0.575}\n",
      "{'loss': 0.645, 'grad_norm': 4.067385673522949, 'learning_rate': 4.4000000000000006e-05, 'epoch': 0.58}\n",
      "{'loss': 0.7083, 'grad_norm': 2.8354649543762207, 'learning_rate': 4.390909090909091e-05, 'epoch': 0.585}\n",
      "{'loss': 0.7041, 'grad_norm': 3.0060973167419434, 'learning_rate': 4.381818181818182e-05, 'epoch': 0.59}\n",
      "{'loss': 0.6663, 'grad_norm': 3.1388771533966064, 'learning_rate': 4.372727272727273e-05, 'epoch': 0.595}\n",
      "{'loss': 0.7475, 'grad_norm': 3.580374002456665, 'learning_rate': 4.3636363636363636e-05, 'epoch': 0.6}\n",
      "{'loss': 0.6886, 'grad_norm': 4.068807601928711, 'learning_rate': 4.354545454545454e-05, 'epoch': 0.605}\n",
      "{'loss': 0.6915, 'grad_norm': 3.4670255184173584, 'learning_rate': 4.345454545454546e-05, 'epoch': 0.61}\n",
      "{'loss': 0.6453, 'grad_norm': 3.413790702819824, 'learning_rate': 4.3363636363636365e-05, 'epoch': 0.615}\n",
      "{'loss': 0.7191, 'grad_norm': 2.351165533065796, 'learning_rate': 4.327272727272728e-05, 'epoch': 0.62}\n",
      "{'loss': 0.6749, 'grad_norm': 2.142957925796509, 'learning_rate': 4.318181818181819e-05, 'epoch': 0.625}\n",
      "{'loss': 0.7488, 'grad_norm': 3.4342737197875977, 'learning_rate': 4.3090909090909094e-05, 'epoch': 0.63}\n",
      "{'loss': 0.7082, 'grad_norm': 2.7624754905700684, 'learning_rate': 4.3e-05, 'epoch': 0.635}\n",
      "{'loss': 0.5907, 'grad_norm': 2.4470930099487305, 'learning_rate': 4.290909090909091e-05, 'epoch': 0.64}\n",
      "{'loss': 0.7053, 'grad_norm': 3.8866305351257324, 'learning_rate': 4.281818181818182e-05, 'epoch': 0.645}\n",
      "{'loss': 0.7058, 'grad_norm': 3.3913161754608154, 'learning_rate': 4.2727272727272724e-05, 'epoch': 0.65}\n",
      "{'loss': 0.635, 'grad_norm': 2.338034152984619, 'learning_rate': 4.263636363636364e-05, 'epoch': 0.655}\n",
      "{'loss': 0.647, 'grad_norm': 3.0178470611572266, 'learning_rate': 4.254545454545455e-05, 'epoch': 0.66}\n",
      "{'loss': 0.6657, 'grad_norm': 3.69897198677063, 'learning_rate': 4.245454545454546e-05, 'epoch': 0.665}\n",
      "{'loss': 0.6722, 'grad_norm': 3.417104482650757, 'learning_rate': 4.236363636363637e-05, 'epoch': 0.67}\n",
      "{'loss': 0.6038, 'grad_norm': 3.6575701236724854, 'learning_rate': 4.2272727272727275e-05, 'epoch': 0.675}\n",
      "{'loss': 0.7041, 'grad_norm': 4.0351972579956055, 'learning_rate': 4.218181818181818e-05, 'epoch': 0.68}\n",
      "{'loss': 0.6687, 'grad_norm': 3.3070497512817383, 'learning_rate': 4.209090909090909e-05, 'epoch': 0.685}\n",
      "{'loss': 0.6702, 'grad_norm': 3.0501906871795654, 'learning_rate': 4.2e-05, 'epoch': 0.69}\n",
      "{'loss': 0.6478, 'grad_norm': 2.854487895965576, 'learning_rate': 4.190909090909091e-05, 'epoch': 0.695}\n",
      "{'loss': 0.6678, 'grad_norm': 3.572211742401123, 'learning_rate': 4.181818181818182e-05, 'epoch': 0.7}\n",
      "{'loss': 0.7187, 'grad_norm': 2.486107587814331, 'learning_rate': 4.1727272727272734e-05, 'epoch': 0.705}\n",
      "{'loss': 0.7099, 'grad_norm': 3.13386869430542, 'learning_rate': 4.163636363636364e-05, 'epoch': 0.71}\n",
      "{'loss': 0.7388, 'grad_norm': 3.055968761444092, 'learning_rate': 4.154545454545455e-05, 'epoch': 0.715}\n",
      "{'loss': 0.7139, 'grad_norm': 2.8345563411712646, 'learning_rate': 4.1454545454545456e-05, 'epoch': 0.72}\n",
      "{'loss': 0.7403, 'grad_norm': 1.5542185306549072, 'learning_rate': 4.1363636363636364e-05, 'epoch': 0.725}\n",
      "{'loss': 0.7023, 'grad_norm': 2.656187057495117, 'learning_rate': 4.127272727272727e-05, 'epoch': 0.73}\n",
      "{'loss': 0.6971, 'grad_norm': 2.2381865978240967, 'learning_rate': 4.1181818181818185e-05, 'epoch': 0.735}\n",
      "{'loss': 0.6677, 'grad_norm': 2.7398736476898193, 'learning_rate': 4.109090909090909e-05, 'epoch': 0.74}\n",
      "{'loss': 0.7073, 'grad_norm': 3.587657928466797, 'learning_rate': 4.1e-05, 'epoch': 0.745}\n",
      "{'loss': 0.6747, 'grad_norm': 3.2265493869781494, 'learning_rate': 4.0909090909090915e-05, 'epoch': 0.75}\n"
     ]
    },
    {
     "name": "stderr",
     "output_type": "stream",
     "text": [
      "/opt/conda/lib/python3.10/site-packages/torch/nn/parallel/_functions.py:68: UserWarning: Was asked to gather along dimension 0, but all input tensors were scalars; will instead unsqueeze and return a vector.\n",
      "  warnings.warn('Was asked to gather along dimension 0, but all '\n"
     ]
    },
    {
     "name": "stdout",
     "output_type": "stream",
     "text": [
      "{'loss': 0.6378, 'grad_norm': 3.763050079345703, 'learning_rate': 4.081818181818182e-05, 'epoch': 0.755}\n",
      "{'loss': 0.6686, 'grad_norm': 3.5921289920806885, 'learning_rate': 4.072727272727273e-05, 'epoch': 0.76}\n",
      "{'loss': 0.6782, 'grad_norm': 2.8358209133148193, 'learning_rate': 4.063636363636364e-05, 'epoch': 0.765}\n",
      "{'loss': 0.6541, 'grad_norm': 3.2399203777313232, 'learning_rate': 4.0545454545454545e-05, 'epoch': 0.77}\n",
      "{'loss': 0.6735, 'grad_norm': 2.6685612201690674, 'learning_rate': 4.045454545454546e-05, 'epoch': 0.775}\n",
      "{'loss': 0.692, 'grad_norm': 1.9307767152786255, 'learning_rate': 4.0363636363636367e-05, 'epoch': 0.78}\n",
      "{'loss': 0.7191, 'grad_norm': 3.2165353298187256, 'learning_rate': 4.0272727272727274e-05, 'epoch': 0.785}\n",
      "{'loss': 0.6804, 'grad_norm': 1.92519211769104, 'learning_rate': 4.018181818181818e-05, 'epoch': 0.79}\n",
      "{'loss': 0.6357, 'grad_norm': 2.9097135066986084, 'learning_rate': 4.009090909090909e-05, 'epoch': 0.795}\n",
      "{'loss': 0.6528, 'grad_norm': 2.2297732830047607, 'learning_rate': 4e-05, 'epoch': 0.8}\n",
      "{'loss': 0.6387, 'grad_norm': 3.1444830894470215, 'learning_rate': 3.990909090909091e-05, 'epoch': 0.805}\n",
      "{'loss': 0.6032, 'grad_norm': 2.232015371322632, 'learning_rate': 3.981818181818182e-05, 'epoch': 0.81}\n",
      "{'loss': 0.6884, 'grad_norm': 2.601682662963867, 'learning_rate': 3.972727272727273e-05, 'epoch': 0.815}\n",
      "{'loss': 0.6442, 'grad_norm': 3.1599841117858887, 'learning_rate': 3.963636363636364e-05, 'epoch': 0.82}\n",
      "{'loss': 0.704, 'grad_norm': 3.390293598175049, 'learning_rate': 3.954545454545455e-05, 'epoch': 0.825}\n",
      "{'loss': 0.6576, 'grad_norm': 3.872772216796875, 'learning_rate': 3.9454545454545455e-05, 'epoch': 0.83}\n",
      "{'loss': 0.6676, 'grad_norm': 3.857177972793579, 'learning_rate': 3.936363636363636e-05, 'epoch': 0.835}\n",
      "{'loss': 0.6882, 'grad_norm': 3.5120649337768555, 'learning_rate': 3.927272727272727e-05, 'epoch': 0.84}\n",
      "{'loss': 0.6758, 'grad_norm': 2.4373395442962646, 'learning_rate': 3.9181818181818184e-05, 'epoch': 0.845}\n",
      "{'loss': 0.71, 'grad_norm': 2.6502180099487305, 'learning_rate': 3.909090909090909e-05, 'epoch': 0.85}\n",
      "{'loss': 0.7285, 'grad_norm': 2.1493892669677734, 'learning_rate': 3.9000000000000006e-05, 'epoch': 0.855}\n",
      "{'loss': 0.6239, 'grad_norm': 2.7948808670043945, 'learning_rate': 3.8909090909090914e-05, 'epoch': 0.86}\n",
      "{'loss': 0.6138, 'grad_norm': 3.0987348556518555, 'learning_rate': 3.881818181818182e-05, 'epoch': 0.865}\n",
      "{'loss': 0.7118, 'grad_norm': 2.7880334854125977, 'learning_rate': 3.872727272727273e-05, 'epoch': 0.87}\n",
      "{'loss': 0.7279, 'grad_norm': 2.623945474624634, 'learning_rate': 3.8636363636363636e-05, 'epoch': 0.875}\n",
      "{'loss': 0.7072, 'grad_norm': 3.8389265537261963, 'learning_rate': 3.8545454545454544e-05, 'epoch': 0.88}\n",
      "{'loss': 0.6152, 'grad_norm': 3.163142204284668, 'learning_rate': 3.845454545454545e-05, 'epoch': 0.885}\n",
      "{'loss': 0.7292, 'grad_norm': 3.197068214416504, 'learning_rate': 3.8363636363636365e-05, 'epoch': 0.89}\n",
      "{'loss': 0.5918, 'grad_norm': 2.0812530517578125, 'learning_rate': 3.827272727272728e-05, 'epoch': 0.895}\n",
      "{'loss': 0.6248, 'grad_norm': 2.8381404876708984, 'learning_rate': 3.818181818181819e-05, 'epoch': 0.9}\n",
      "{'loss': 0.6548, 'grad_norm': 2.931577205657959, 'learning_rate': 3.8090909090909095e-05, 'epoch': 0.905}\n",
      "{'loss': 0.6159, 'grad_norm': 2.4965384006500244, 'learning_rate': 3.8e-05, 'epoch': 0.91}\n",
      "{'loss': 0.6646, 'grad_norm': 3.3470048904418945, 'learning_rate': 3.790909090909091e-05, 'epoch': 0.915}\n",
      "{'loss': 0.6569, 'grad_norm': 2.413667678833008, 'learning_rate': 3.781818181818182e-05, 'epoch': 0.92}\n",
      "{'loss': 0.6915, 'grad_norm': 3.28190016746521, 'learning_rate': 3.7727272727272725e-05, 'epoch': 0.925}\n",
      "{'loss': 0.7075, 'grad_norm': 2.267080545425415, 'learning_rate': 3.763636363636364e-05, 'epoch': 0.93}\n",
      "{'loss': 0.7538, 'grad_norm': 3.5407724380493164, 'learning_rate': 3.7545454545454546e-05, 'epoch': 0.935}\n",
      "{'loss': 0.6661, 'grad_norm': 2.5453217029571533, 'learning_rate': 3.745454545454546e-05, 'epoch': 0.94}\n",
      "{'loss': 0.6283, 'grad_norm': 2.8085896968841553, 'learning_rate': 3.736363636363637e-05, 'epoch': 0.945}\n",
      "{'loss': 0.7186, 'grad_norm': 2.9745891094207764, 'learning_rate': 3.7272727272727276e-05, 'epoch': 0.95}\n",
      "{'loss': 0.6315, 'grad_norm': 3.2255585193634033, 'learning_rate': 3.718181818181818e-05, 'epoch': 0.955}\n",
      "{'loss': 0.66, 'grad_norm': 2.7931506633758545, 'learning_rate': 3.709090909090909e-05, 'epoch': 0.96}\n",
      "{'loss': 0.6204, 'grad_norm': 2.3283088207244873, 'learning_rate': 3.7e-05, 'epoch': 0.965}\n",
      "{'loss': 0.6565, 'grad_norm': 3.7823574542999268, 'learning_rate': 3.690909090909091e-05, 'epoch': 0.97}\n",
      "{'loss': 0.6501, 'grad_norm': 2.941633939743042, 'learning_rate': 3.681818181818182e-05, 'epoch': 0.975}\n",
      "{'loss': 0.6716, 'grad_norm': 3.459150552749634, 'learning_rate': 3.672727272727273e-05, 'epoch': 0.98}\n",
      "{'loss': 0.6626, 'grad_norm': 2.4813215732574463, 'learning_rate': 3.663636363636364e-05, 'epoch': 0.985}\n",
      "{'loss': 0.6553, 'grad_norm': 2.526008129119873, 'learning_rate': 3.654545454545455e-05, 'epoch': 0.99}\n",
      "{'loss': 0.6657, 'grad_norm': 3.1378116607666016, 'learning_rate': 3.645454545454546e-05, 'epoch': 0.995}\n",
      "{'loss': 0.6053, 'grad_norm': 3.815675973892212, 'learning_rate': 3.6363636363636364e-05, 'epoch': 1.0}\n"
     ]
    },
    {
     "name": "stderr",
     "output_type": "stream",
     "text": [
      "/opt/conda/lib/python3.10/site-packages/torch/nn/parallel/_functions.py:68: UserWarning: Was asked to gather along dimension 0, but all input tensors were scalars; will instead unsqueeze and return a vector.\n",
      "  warnings.warn('Was asked to gather along dimension 0, but all '\n"
     ]
    },
    {
     "name": "stdout",
     "output_type": "stream",
     "text": [
      "{'loss': 0.6093, 'grad_norm': 3.0890657901763916, 'learning_rate': 3.627272727272727e-05, 'epoch': 1.005}\n",
      "{'loss': 0.63, 'grad_norm': 2.834094524383545, 'learning_rate': 3.6181818181818186e-05, 'epoch': 1.01}\n",
      "{'loss': 0.6021, 'grad_norm': 1.931300401687622, 'learning_rate': 3.6090909090909093e-05, 'epoch': 1.015}\n",
      "{'loss': 0.5669, 'grad_norm': 5.736614227294922, 'learning_rate': 3.6e-05, 'epoch': 1.02}\n",
      "{'loss': 0.5686, 'grad_norm': 2.491738796234131, 'learning_rate': 3.590909090909091e-05, 'epoch': 1.025}\n",
      "{'loss': 0.4909, 'grad_norm': 2.878411054611206, 'learning_rate': 3.5818181818181816e-05, 'epoch': 1.03}\n",
      "{'loss': 0.609, 'grad_norm': 4.371039390563965, 'learning_rate': 3.572727272727273e-05, 'epoch': 1.035}\n",
      "{'loss': 0.6033, 'grad_norm': 4.45429801940918, 'learning_rate': 3.563636363636364e-05, 'epoch': 1.04}\n",
      "{'loss': 0.548, 'grad_norm': 4.08664608001709, 'learning_rate': 3.5545454545454545e-05, 'epoch': 1.045}\n",
      "{'loss': 0.5952, 'grad_norm': 4.88184118270874, 'learning_rate': 3.545454545454546e-05, 'epoch': 1.05}\n",
      "{'loss': 0.6192, 'grad_norm': 3.6793711185455322, 'learning_rate': 3.536363636363637e-05, 'epoch': 1.055}\n",
      "{'loss': 0.5646, 'grad_norm': 4.585594177246094, 'learning_rate': 3.5272727272727274e-05, 'epoch': 1.06}\n",
      "{'loss': 0.5832, 'grad_norm': 4.335596561431885, 'learning_rate': 3.518181818181818e-05, 'epoch': 1.065}\n",
      "{'loss': 0.6522, 'grad_norm': 4.212387561798096, 'learning_rate': 3.509090909090909e-05, 'epoch': 1.07}\n",
      "{'loss': 0.5981, 'grad_norm': 2.8861327171325684, 'learning_rate': 3.5e-05, 'epoch': 1.075}\n",
      "{'loss': 0.6067, 'grad_norm': 3.672475814819336, 'learning_rate': 3.490909090909091e-05, 'epoch': 1.08}\n",
      "{'loss': 0.6312, 'grad_norm': 3.2698287963867188, 'learning_rate': 3.481818181818182e-05, 'epoch': 1.085}\n",
      "{'loss': 0.4924, 'grad_norm': 3.538881301879883, 'learning_rate': 3.472727272727273e-05, 'epoch': 1.09}\n",
      "{'loss': 0.5526, 'grad_norm': 5.6775383949279785, 'learning_rate': 3.463636363636364e-05, 'epoch': 1.095}\n",
      "{'loss': 0.572, 'grad_norm': 4.610495567321777, 'learning_rate': 3.454545454545455e-05, 'epoch': 1.1}\n",
      "{'loss': 0.5956, 'grad_norm': 3.2770187854766846, 'learning_rate': 3.4454545454545455e-05, 'epoch': 1.105}\n",
      "{'loss': 0.6468, 'grad_norm': 3.8491370677948, 'learning_rate': 3.436363636363636e-05, 'epoch': 1.11}\n",
      "{'loss': 0.6432, 'grad_norm': 3.125636577606201, 'learning_rate': 3.427272727272727e-05, 'epoch': 1.115}\n",
      "{'loss': 0.5518, 'grad_norm': 3.9273672103881836, 'learning_rate': 3.4181818181818185e-05, 'epoch': 1.12}\n",
      "{'loss': 0.6635, 'grad_norm': 3.9323813915252686, 'learning_rate': 3.409090909090909e-05, 'epoch': 1.125}\n",
      "{'loss': 0.6175, 'grad_norm': 3.385657548904419, 'learning_rate': 3.4000000000000007e-05, 'epoch': 1.13}\n",
      "{'loss': 0.5969, 'grad_norm': 3.4695310592651367, 'learning_rate': 3.3909090909090914e-05, 'epoch': 1.135}\n",
      "{'loss': 0.5757, 'grad_norm': 3.67802095413208, 'learning_rate': 3.381818181818182e-05, 'epoch': 1.1400000000000001}\n",
      "{'loss': 0.4824, 'grad_norm': 4.0381083488464355, 'learning_rate': 3.372727272727273e-05, 'epoch': 1.145}\n",
      "{'loss': 0.5915, 'grad_norm': 4.449045181274414, 'learning_rate': 3.3636363636363636e-05, 'epoch': 1.15}\n",
      "{'loss': 0.5769, 'grad_norm': 3.3955721855163574, 'learning_rate': 3.3545454545454544e-05, 'epoch': 1.155}\n",
      "{'loss': 0.5855, 'grad_norm': 6.1586594581604, 'learning_rate': 3.345454545454546e-05, 'epoch': 1.16}\n",
      "{'loss': 0.5255, 'grad_norm': 4.453568458557129, 'learning_rate': 3.3363636363636366e-05, 'epoch': 1.165}\n",
      "{'loss': 0.5498, 'grad_norm': 3.4386351108551025, 'learning_rate': 3.327272727272727e-05, 'epoch': 1.17}\n",
      "{'loss': 0.5967, 'grad_norm': 4.695188999176025, 'learning_rate': 3.318181818181819e-05, 'epoch': 1.175}\n",
      "{'loss': 0.6609, 'grad_norm': 4.109661102294922, 'learning_rate': 3.3090909090909095e-05, 'epoch': 1.18}\n",
      "{'loss': 0.5636, 'grad_norm': 3.5440657138824463, 'learning_rate': 3.3e-05, 'epoch': 1.185}\n",
      "{'loss': 0.5775, 'grad_norm': 4.5713114738464355, 'learning_rate': 3.290909090909091e-05, 'epoch': 1.19}\n",
      "{'loss': 0.4904, 'grad_norm': 3.9620628356933594, 'learning_rate': 3.281818181818182e-05, 'epoch': 1.195}\n",
      "{'loss': 0.5654, 'grad_norm': 4.1445512771606445, 'learning_rate': 3.272727272727273e-05, 'epoch': 1.2}\n",
      "{'loss': 0.491, 'grad_norm': 6.096279621124268, 'learning_rate': 3.263636363636364e-05, 'epoch': 1.205}\n",
      "{'loss': 0.5451, 'grad_norm': 4.871592998504639, 'learning_rate': 3.254545454545455e-05, 'epoch': 1.21}\n",
      "{'loss': 0.6104, 'grad_norm': 3.2628414630889893, 'learning_rate': 3.2454545454545454e-05, 'epoch': 1.215}\n",
      "{'loss': 0.6132, 'grad_norm': 4.261054992675781, 'learning_rate': 3.236363636363636e-05, 'epoch': 1.22}\n",
      "{'loss': 0.5546, 'grad_norm': 4.969790458679199, 'learning_rate': 3.2272727272727276e-05, 'epoch': 1.225}\n",
      "{'loss': 0.5856, 'grad_norm': 4.4626665115356445, 'learning_rate': 3.2181818181818184e-05, 'epoch': 1.23}\n",
      "{'loss': 0.5238, 'grad_norm': 3.248758554458618, 'learning_rate': 3.209090909090909e-05, 'epoch': 1.2349999999999999}\n",
      "{'loss': 0.5334, 'grad_norm': 3.3723511695861816, 'learning_rate': 3.2000000000000005e-05, 'epoch': 1.24}\n",
      "{'loss': 0.5662, 'grad_norm': 4.365900039672852, 'learning_rate': 3.190909090909091e-05, 'epoch': 1.245}\n",
      "{'loss': 0.5777, 'grad_norm': 4.719658851623535, 'learning_rate': 3.181818181818182e-05, 'epoch': 1.25}\n"
     ]
    },
    {
     "name": "stderr",
     "output_type": "stream",
     "text": [
      "/opt/conda/lib/python3.10/site-packages/torch/nn/parallel/_functions.py:68: UserWarning: Was asked to gather along dimension 0, but all input tensors were scalars; will instead unsqueeze and return a vector.\n",
      "  warnings.warn('Was asked to gather along dimension 0, but all '\n"
     ]
    },
    {
     "name": "stdout",
     "output_type": "stream",
     "text": [
      "{'loss': 0.6283, 'grad_norm': 3.5760722160339355, 'learning_rate': 3.172727272727273e-05, 'epoch': 1.255}\n",
      "{'loss': 0.5539, 'grad_norm': 2.957050323486328, 'learning_rate': 3.1636363636363635e-05, 'epoch': 1.26}\n",
      "{'loss': 0.5816, 'grad_norm': 4.526149272918701, 'learning_rate': 3.154545454545454e-05, 'epoch': 1.2650000000000001}\n",
      "{'loss': 0.5169, 'grad_norm': 6.849870204925537, 'learning_rate': 3.145454545454546e-05, 'epoch': 1.27}\n",
      "{'loss': 0.5686, 'grad_norm': 5.0084357261657715, 'learning_rate': 3.1363636363636365e-05, 'epoch': 1.275}\n",
      "{'loss': 0.5143, 'grad_norm': 4.839953899383545, 'learning_rate': 3.127272727272728e-05, 'epoch': 1.28}\n",
      "{'loss': 0.5181, 'grad_norm': 5.5893754959106445, 'learning_rate': 3.1181818181818186e-05, 'epoch': 1.285}\n",
      "{'loss': 0.6083, 'grad_norm': 4.210770130157471, 'learning_rate': 3.1090909090909094e-05, 'epoch': 1.29}\n",
      "{'loss': 0.5733, 'grad_norm': 4.5260725021362305, 'learning_rate': 3.1e-05, 'epoch': 1.295}\n",
      "{'loss': 0.5682, 'grad_norm': 3.778881788253784, 'learning_rate': 3.090909090909091e-05, 'epoch': 1.3}\n",
      "{'loss': 0.5784, 'grad_norm': 3.782317876815796, 'learning_rate': 3.0818181818181816e-05, 'epoch': 1.305}\n",
      "{'loss': 0.5489, 'grad_norm': 3.540038824081421, 'learning_rate': 3.0727272727272724e-05, 'epoch': 1.31}\n",
      "{'loss': 0.4904, 'grad_norm': 5.681674003601074, 'learning_rate': 3.063636363636364e-05, 'epoch': 1.315}\n",
      "{'loss': 0.5859, 'grad_norm': 3.8657755851745605, 'learning_rate': 3.054545454545455e-05, 'epoch': 1.32}\n",
      "{'loss': 0.6072, 'grad_norm': 4.7238850593566895, 'learning_rate': 3.0454545454545456e-05, 'epoch': 1.325}\n",
      "{'loss': 0.5262, 'grad_norm': 4.444019317626953, 'learning_rate': 3.0363636363636367e-05, 'epoch': 1.33}\n",
      "{'loss': 0.5885, 'grad_norm': 4.08247184753418, 'learning_rate': 3.0272727272727275e-05, 'epoch': 1.335}\n",
      "{'loss': 0.5214, 'grad_norm': 3.3318710327148438, 'learning_rate': 3.0181818181818182e-05, 'epoch': 1.34}\n",
      "{'loss': 0.541, 'grad_norm': 3.3071529865264893, 'learning_rate': 3.0090909090909093e-05, 'epoch': 1.345}\n",
      "{'loss': 0.6024, 'grad_norm': 3.4974234104156494, 'learning_rate': 3e-05, 'epoch': 1.35}\n",
      "{'loss': 0.5409, 'grad_norm': 3.4013566970825195, 'learning_rate': 2.9909090909090908e-05, 'epoch': 1.355}\n",
      "{'loss': 0.5914, 'grad_norm': 4.862121105194092, 'learning_rate': 2.9818181818181816e-05, 'epoch': 1.3599999999999999}\n",
      "{'loss': 0.6091, 'grad_norm': 2.727520227432251, 'learning_rate': 2.972727272727273e-05, 'epoch': 1.365}\n",
      "{'loss': 0.6663, 'grad_norm': 3.799546718597412, 'learning_rate': 2.963636363636364e-05, 'epoch': 1.37}\n",
      "{'loss': 0.6149, 'grad_norm': 3.053898811340332, 'learning_rate': 2.954545454545455e-05, 'epoch': 1.375}\n",
      "{'loss': 0.5723, 'grad_norm': 4.035452842712402, 'learning_rate': 2.9454545454545456e-05, 'epoch': 1.38}\n",
      "{'loss': 0.5509, 'grad_norm': 2.0466291904449463, 'learning_rate': 2.9363636363636367e-05, 'epoch': 1.385}\n",
      "{'loss': 0.6113, 'grad_norm': 2.900723457336426, 'learning_rate': 2.9272727272727274e-05, 'epoch': 1.3900000000000001}\n",
      "{'loss': 0.6495, 'grad_norm': 4.804983615875244, 'learning_rate': 2.9181818181818182e-05, 'epoch': 1.395}\n",
      "{'loss': 0.6307, 'grad_norm': 3.4729926586151123, 'learning_rate': 2.909090909090909e-05, 'epoch': 1.4}\n",
      "{'loss': 0.5725, 'grad_norm': 4.955993175506592, 'learning_rate': 2.9e-05, 'epoch': 1.405}\n",
      "{'loss': 0.6656, 'grad_norm': 3.0474298000335693, 'learning_rate': 2.8909090909090908e-05, 'epoch': 1.41}\n",
      "{'loss': 0.5795, 'grad_norm': 3.2098073959350586, 'learning_rate': 2.8818181818181822e-05, 'epoch': 1.415}\n",
      "{'loss': 0.5856, 'grad_norm': 3.7938458919525146, 'learning_rate': 2.872727272727273e-05, 'epoch': 1.42}\n",
      "{'loss': 0.5615, 'grad_norm': 3.9943604469299316, 'learning_rate': 2.863636363636364e-05, 'epoch': 1.425}\n",
      "{'loss': 0.5809, 'grad_norm': 4.078661918640137, 'learning_rate': 2.8545454545454548e-05, 'epoch': 1.43}\n",
      "{'loss': 0.6123, 'grad_norm': 4.6960577964782715, 'learning_rate': 2.8454545454545455e-05, 'epoch': 1.435}\n",
      "{'loss': 0.5803, 'grad_norm': 4.043611526489258, 'learning_rate': 2.8363636363636363e-05, 'epoch': 1.44}\n",
      "{'loss': 0.5699, 'grad_norm': 3.135924816131592, 'learning_rate': 2.8272727272727274e-05, 'epoch': 1.445}\n",
      "{'loss': 0.5642, 'grad_norm': 4.661345481872559, 'learning_rate': 2.818181818181818e-05, 'epoch': 1.45}\n",
      "{'loss': 0.6053, 'grad_norm': 4.07078742980957, 'learning_rate': 2.809090909090909e-05, 'epoch': 1.455}\n",
      "{'loss': 0.5321, 'grad_norm': 3.7293059825897217, 'learning_rate': 2.8000000000000003e-05, 'epoch': 1.46}\n",
      "{'loss': 0.5799, 'grad_norm': 3.9876136779785156, 'learning_rate': 2.7909090909090914e-05, 'epoch': 1.465}\n",
      "{'loss': 0.6181, 'grad_norm': 4.072816371917725, 'learning_rate': 2.781818181818182e-05, 'epoch': 1.47}\n",
      "{'loss': 0.6252, 'grad_norm': 3.1658775806427, 'learning_rate': 2.772727272727273e-05, 'epoch': 1.475}\n",
      "{'loss': 0.6213, 'grad_norm': 2.97754168510437, 'learning_rate': 2.7636363636363636e-05, 'epoch': 1.48}\n",
      "{'loss': 0.5214, 'grad_norm': 4.227485656738281, 'learning_rate': 2.7545454545454547e-05, 'epoch': 1.4849999999999999}\n",
      "{'loss': 0.4934, 'grad_norm': 4.928092002868652, 'learning_rate': 2.7454545454545455e-05, 'epoch': 1.49}\n",
      "{'loss': 0.4898, 'grad_norm': 3.34598445892334, 'learning_rate': 2.7363636363636362e-05, 'epoch': 1.495}\n",
      "{'loss': 0.5876, 'grad_norm': 5.772563934326172, 'learning_rate': 2.7272727272727273e-05, 'epoch': 1.5}\n"
     ]
    },
    {
     "name": "stderr",
     "output_type": "stream",
     "text": [
      "/opt/conda/lib/python3.10/site-packages/torch/nn/parallel/_functions.py:68: UserWarning: Was asked to gather along dimension 0, but all input tensors were scalars; will instead unsqueeze and return a vector.\n",
      "  warnings.warn('Was asked to gather along dimension 0, but all '\n"
     ]
    },
    {
     "name": "stdout",
     "output_type": "stream",
     "text": [
      "{'loss': 0.5677, 'grad_norm': 5.433223724365234, 'learning_rate': 2.718181818181818e-05, 'epoch': 1.505}\n",
      "{'loss': 0.5623, 'grad_norm': 3.6682844161987305, 'learning_rate': 2.7090909090909095e-05, 'epoch': 1.51}\n",
      "{'loss': 0.5948, 'grad_norm': 4.843616485595703, 'learning_rate': 2.7000000000000002e-05, 'epoch': 1.5150000000000001}\n",
      "{'loss': 0.5893, 'grad_norm': 4.786830425262451, 'learning_rate': 2.6909090909090913e-05, 'epoch': 1.52}\n",
      "{'loss': 0.5959, 'grad_norm': 3.2966742515563965, 'learning_rate': 2.681818181818182e-05, 'epoch': 1.525}\n",
      "{'loss': 0.5749, 'grad_norm': 5.674729824066162, 'learning_rate': 2.6727272727272728e-05, 'epoch': 1.53}\n",
      "{'loss': 0.5238, 'grad_norm': 4.947834491729736, 'learning_rate': 2.6636363636363636e-05, 'epoch': 1.5350000000000001}\n",
      "{'loss': 0.5531, 'grad_norm': 4.186124801635742, 'learning_rate': 2.6545454545454547e-05, 'epoch': 1.54}\n",
      "{'loss': 0.5497, 'grad_norm': 4.999716758728027, 'learning_rate': 2.6454545454545454e-05, 'epoch': 1.545}\n",
      "{'loss': 0.5648, 'grad_norm': 3.1820785999298096, 'learning_rate': 2.636363636363636e-05, 'epoch': 1.55}\n",
      "{'loss': 0.5487, 'grad_norm': 5.253800392150879, 'learning_rate': 2.6272727272727276e-05, 'epoch': 1.5550000000000002}\n",
      "{'loss': 0.5628, 'grad_norm': 4.90621280670166, 'learning_rate': 2.6181818181818187e-05, 'epoch': 1.56}\n",
      "{'loss': 0.5384, 'grad_norm': 2.469947576522827, 'learning_rate': 2.6090909090909094e-05, 'epoch': 1.565}\n",
      "{'loss': 0.6043, 'grad_norm': 3.9401674270629883, 'learning_rate': 2.6000000000000002e-05, 'epoch': 1.5699999999999998}\n",
      "{'loss': 0.6302, 'grad_norm': 3.778373956680298, 'learning_rate': 2.590909090909091e-05, 'epoch': 1.575}\n",
      "{'loss': 0.561, 'grad_norm': 2.933051109313965, 'learning_rate': 2.581818181818182e-05, 'epoch': 1.58}\n",
      "{'loss': 0.6355, 'grad_norm': 3.306551456451416, 'learning_rate': 2.5727272727272728e-05, 'epoch': 1.585}\n",
      "{'loss': 0.5781, 'grad_norm': 3.305259943008423, 'learning_rate': 2.5636363636363635e-05, 'epoch': 1.5899999999999999}\n",
      "{'loss': 0.5443, 'grad_norm': 4.242561340332031, 'learning_rate': 2.5545454545454546e-05, 'epoch': 1.595}\n",
      "{'loss': 0.6208, 'grad_norm': 3.307981491088867, 'learning_rate': 2.5454545454545454e-05, 'epoch': 1.6}\n",
      "{'loss': 0.6083, 'grad_norm': 3.6131134033203125, 'learning_rate': 2.5363636363636368e-05, 'epoch': 1.605}\n",
      "{'loss': 0.5608, 'grad_norm': 6.299798011779785, 'learning_rate': 2.5272727272727275e-05, 'epoch': 1.6099999999999999}\n",
      "{'loss': 0.5479, 'grad_norm': 2.5725693702697754, 'learning_rate': 2.5181818181818183e-05, 'epoch': 1.615}\n",
      "{'loss': 0.56, 'grad_norm': 3.3225314617156982, 'learning_rate': 2.5090909090909094e-05, 'epoch': 1.62}\n",
      "{'loss': 0.5932, 'grad_norm': 5.804080009460449, 'learning_rate': 2.5e-05, 'epoch': 1.625}\n",
      "{'loss': 0.6033, 'grad_norm': 3.363565444946289, 'learning_rate': 2.490909090909091e-05, 'epoch': 1.63}\n",
      "{'loss': 0.5821, 'grad_norm': 3.301500082015991, 'learning_rate': 2.481818181818182e-05, 'epoch': 1.635}\n",
      "{'loss': 0.5353, 'grad_norm': 3.4862706661224365, 'learning_rate': 2.472727272727273e-05, 'epoch': 1.6400000000000001}\n",
      "{'loss': 0.5022, 'grad_norm': 3.9843697547912598, 'learning_rate': 2.4636363636363638e-05, 'epoch': 1.645}\n",
      "{'loss': 0.5478, 'grad_norm': 5.497032642364502, 'learning_rate': 2.4545454545454545e-05, 'epoch': 1.65}\n",
      "{'loss': 0.5313, 'grad_norm': 3.927070379257202, 'learning_rate': 2.4454545454545456e-05, 'epoch': 1.655}\n",
      "{'loss': 0.6143, 'grad_norm': 4.261982440948486, 'learning_rate': 2.4363636363636364e-05, 'epoch': 1.6600000000000001}\n",
      "{'loss': 0.651, 'grad_norm': 3.670668363571167, 'learning_rate': 2.4272727272727275e-05, 'epoch': 1.665}\n",
      "{'loss': 0.5765, 'grad_norm': 2.9608142375946045, 'learning_rate': 2.4181818181818182e-05, 'epoch': 1.67}\n",
      "{'loss': 0.5221, 'grad_norm': 4.024430274963379, 'learning_rate': 2.4090909090909093e-05, 'epoch': 1.675}\n",
      "{'loss': 0.5466, 'grad_norm': 3.8453407287597656, 'learning_rate': 2.4e-05, 'epoch': 1.6800000000000002}\n",
      "{'loss': 0.4916, 'grad_norm': 5.7467851638793945, 'learning_rate': 2.390909090909091e-05, 'epoch': 1.685}\n",
      "{'loss': 0.5931, 'grad_norm': 4.520471096038818, 'learning_rate': 2.381818181818182e-05, 'epoch': 1.69}\n",
      "{'loss': 0.5241, 'grad_norm': 4.004554271697998, 'learning_rate': 2.372727272727273e-05, 'epoch': 1.6949999999999998}\n",
      "{'loss': 0.5359, 'grad_norm': 3.4938528537750244, 'learning_rate': 2.3636363636363637e-05, 'epoch': 1.7}\n",
      "{'loss': 0.5461, 'grad_norm': 4.087647438049316, 'learning_rate': 2.3545454545454545e-05, 'epoch': 1.705}\n",
      "{'loss': 0.5842, 'grad_norm': 3.02816104888916, 'learning_rate': 2.3454545454545456e-05, 'epoch': 1.71}\n",
      "{'loss': 0.5322, 'grad_norm': 4.63785457611084, 'learning_rate': 2.3363636363636367e-05, 'epoch': 1.7149999999999999}\n",
      "{'loss': 0.5382, 'grad_norm': 5.09433126449585, 'learning_rate': 2.3272727272727274e-05, 'epoch': 1.72}\n",
      "{'loss': 0.6152, 'grad_norm': 5.406439304351807, 'learning_rate': 2.318181818181818e-05, 'epoch': 1.725}\n",
      "{'loss': 0.5549, 'grad_norm': 4.87493371963501, 'learning_rate': 2.309090909090909e-05, 'epoch': 1.73}\n",
      "{'loss': 0.6142, 'grad_norm': 5.1785173416137695, 'learning_rate': 2.3000000000000003e-05, 'epoch': 1.7349999999999999}\n",
      "{'loss': 0.6046, 'grad_norm': 4.417098045349121, 'learning_rate': 2.290909090909091e-05, 'epoch': 1.74}\n",
      "{'loss': 0.5906, 'grad_norm': 4.484256267547607, 'learning_rate': 2.281818181818182e-05, 'epoch': 1.745}\n",
      "{'loss': 0.5913, 'grad_norm': 3.482771873474121, 'learning_rate': 2.272727272727273e-05, 'epoch': 1.75}\n"
     ]
    },
    {
     "name": "stderr",
     "output_type": "stream",
     "text": [
      "/opt/conda/lib/python3.10/site-packages/torch/nn/parallel/_functions.py:68: UserWarning: Was asked to gather along dimension 0, but all input tensors were scalars; will instead unsqueeze and return a vector.\n",
      "  warnings.warn('Was asked to gather along dimension 0, but all '\n"
     ]
    },
    {
     "name": "stdout",
     "output_type": "stream",
     "text": [
      "{'loss': 0.4877, 'grad_norm': 2.9319920539855957, 'learning_rate': 2.2636363636363637e-05, 'epoch': 1.755}\n",
      "{'loss': 0.5483, 'grad_norm': 5.343785285949707, 'learning_rate': 2.2545454545454548e-05, 'epoch': 1.76}\n",
      "{'loss': 0.5639, 'grad_norm': 6.00172758102417, 'learning_rate': 2.2454545454545455e-05, 'epoch': 1.7650000000000001}\n",
      "{'loss': 0.5567, 'grad_norm': 5.14296293258667, 'learning_rate': 2.2363636363636366e-05, 'epoch': 1.77}\n",
      "{'loss': 0.4885, 'grad_norm': 3.579904317855835, 'learning_rate': 2.2272727272727274e-05, 'epoch': 1.775}\n",
      "{'loss': 0.5161, 'grad_norm': 4.281862258911133, 'learning_rate': 2.2181818181818184e-05, 'epoch': 1.78}\n",
      "{'loss': 0.5751, 'grad_norm': 4.107163906097412, 'learning_rate': 2.2090909090909092e-05, 'epoch': 1.7850000000000001}\n",
      "{'loss': 0.5627, 'grad_norm': 4.58070182800293, 'learning_rate': 2.2000000000000003e-05, 'epoch': 1.79}\n",
      "{'loss': 0.5446, 'grad_norm': 4.509089469909668, 'learning_rate': 2.190909090909091e-05, 'epoch': 1.795}\n",
      "{'loss': 0.5433, 'grad_norm': 4.723246097564697, 'learning_rate': 2.1818181818181818e-05, 'epoch': 1.8}\n",
      "{'loss': 0.5132, 'grad_norm': 4.79937219619751, 'learning_rate': 2.172727272727273e-05, 'epoch': 1.8050000000000002}\n",
      "{'loss': 0.5389, 'grad_norm': 5.06386661529541, 'learning_rate': 2.163636363636364e-05, 'epoch': 1.81}\n",
      "{'loss': 0.5294, 'grad_norm': 4.404742240905762, 'learning_rate': 2.1545454545454547e-05, 'epoch': 1.815}\n",
      "{'loss': 0.568, 'grad_norm': 4.011958122253418, 'learning_rate': 2.1454545454545455e-05, 'epoch': 1.8199999999999998}\n",
      "{'loss': 0.4668, 'grad_norm': 4.848345756530762, 'learning_rate': 2.1363636363636362e-05, 'epoch': 1.825}\n",
      "{'loss': 0.5931, 'grad_norm': 5.0652618408203125, 'learning_rate': 2.1272727272727276e-05, 'epoch': 1.83}\n",
      "{'loss': 0.5711, 'grad_norm': 4.091463088989258, 'learning_rate': 2.1181818181818184e-05, 'epoch': 1.835}\n",
      "{'loss': 0.4754, 'grad_norm': 3.8122096061706543, 'learning_rate': 2.109090909090909e-05, 'epoch': 1.8399999999999999}\n",
      "{'loss': 0.5837, 'grad_norm': 4.466482162475586, 'learning_rate': 2.1e-05, 'epoch': 1.845}\n",
      "{'loss': 0.5361, 'grad_norm': 4.285706520080566, 'learning_rate': 2.090909090909091e-05, 'epoch': 1.85}\n",
      "{'loss': 0.5324, 'grad_norm': 5.041319370269775, 'learning_rate': 2.081818181818182e-05, 'epoch': 1.855}\n",
      "{'loss': 0.5682, 'grad_norm': 4.859650135040283, 'learning_rate': 2.0727272727272728e-05, 'epoch': 1.8599999999999999}\n",
      "{'loss': 0.5647, 'grad_norm': 4.8662109375, 'learning_rate': 2.0636363636363636e-05, 'epoch': 1.865}\n",
      "{'loss': 0.562, 'grad_norm': 3.4976823329925537, 'learning_rate': 2.0545454545454546e-05, 'epoch': 1.87}\n",
      "{'loss': 0.5118, 'grad_norm': 3.864861249923706, 'learning_rate': 2.0454545454545457e-05, 'epoch': 1.875}\n",
      "{'loss': 0.5572, 'grad_norm': 4.646762371063232, 'learning_rate': 2.0363636363636365e-05, 'epoch': 1.88}\n",
      "{'loss': 0.6214, 'grad_norm': 2.7030534744262695, 'learning_rate': 2.0272727272727272e-05, 'epoch': 1.885}\n",
      "{'loss': 0.5039, 'grad_norm': 3.0859103202819824, 'learning_rate': 2.0181818181818183e-05, 'epoch': 1.8900000000000001}\n",
      "{'loss': 0.617, 'grad_norm': 3.2889368534088135, 'learning_rate': 2.009090909090909e-05, 'epoch': 1.895}\n",
      "{'loss': 0.6213, 'grad_norm': 5.362536907196045, 'learning_rate': 2e-05, 'epoch': 1.9}\n",
      "{'loss': 0.5544, 'grad_norm': 3.203594207763672, 'learning_rate': 1.990909090909091e-05, 'epoch': 1.905}\n",
      "{'loss': 0.5551, 'grad_norm': 5.954371929168701, 'learning_rate': 1.981818181818182e-05, 'epoch': 1.9100000000000001}\n",
      "{'loss': 0.5494, 'grad_norm': 3.8811988830566406, 'learning_rate': 1.9727272727272728e-05, 'epoch': 1.915}\n",
      "{'loss': 0.5711, 'grad_norm': 5.111327648162842, 'learning_rate': 1.9636363636363635e-05, 'epoch': 1.92}\n",
      "{'loss': 0.5963, 'grad_norm': 4.031576633453369, 'learning_rate': 1.9545454545454546e-05, 'epoch': 1.925}\n",
      "{'loss': 0.5019, 'grad_norm': 3.039853572845459, 'learning_rate': 1.9454545454545457e-05, 'epoch': 1.9300000000000002}\n",
      "{'loss': 0.5539, 'grad_norm': 4.363766670227051, 'learning_rate': 1.9363636363636364e-05, 'epoch': 1.935}\n",
      "{'loss': 0.5268, 'grad_norm': 3.9617671966552734, 'learning_rate': 1.9272727272727272e-05, 'epoch': 1.94}\n",
      "{'loss': 0.5559, 'grad_norm': 3.2847678661346436, 'learning_rate': 1.9181818181818183e-05, 'epoch': 1.9449999999999998}\n",
      "{'loss': 0.5081, 'grad_norm': 6.097291469573975, 'learning_rate': 1.9090909090909094e-05, 'epoch': 1.95}\n",
      "{'loss': 0.5531, 'grad_norm': 5.038813591003418, 'learning_rate': 1.9e-05, 'epoch': 1.955}\n",
      "{'loss': 0.5767, 'grad_norm': 3.1204652786254883, 'learning_rate': 1.890909090909091e-05, 'epoch': 1.96}\n",
      "{'loss': 0.5056, 'grad_norm': 5.589684963226318, 'learning_rate': 1.881818181818182e-05, 'epoch': 1.9649999999999999}\n",
      "{'loss': 0.5663, 'grad_norm': 4.941970348358154, 'learning_rate': 1.872727272727273e-05, 'epoch': 1.97}\n",
      "{'loss': 0.5868, 'grad_norm': 4.429129123687744, 'learning_rate': 1.8636363636363638e-05, 'epoch': 1.975}\n",
      "{'loss': 0.505, 'grad_norm': 5.506755352020264, 'learning_rate': 1.8545454545454545e-05, 'epoch': 1.98}\n",
      "{'loss': 0.5902, 'grad_norm': 5.124173164367676, 'learning_rate': 1.8454545454545456e-05, 'epoch': 1.9849999999999999}\n",
      "{'loss': 0.5753, 'grad_norm': 4.706578731536865, 'learning_rate': 1.8363636363636364e-05, 'epoch': 1.99}\n",
      "{'loss': 0.5847, 'grad_norm': 4.460517406463623, 'learning_rate': 1.8272727272727275e-05, 'epoch': 1.995}\n",
      "{'loss': 0.5073, 'grad_norm': 4.505629539489746, 'learning_rate': 1.8181818181818182e-05, 'epoch': 2.0}\n"
     ]
    },
    {
     "name": "stderr",
     "output_type": "stream",
     "text": [
      "/opt/conda/lib/python3.10/site-packages/torch/nn/parallel/_functions.py:68: UserWarning: Was asked to gather along dimension 0, but all input tensors were scalars; will instead unsqueeze and return a vector.\n",
      "  warnings.warn('Was asked to gather along dimension 0, but all '\n"
     ]
    },
    {
     "name": "stdout",
     "output_type": "stream",
     "text": [
      "{'loss': 0.4294, 'grad_norm': 3.906303644180298, 'learning_rate': 1.8090909090909093e-05, 'epoch': 2.005}\n",
      "{'loss': 0.4897, 'grad_norm': 3.609600305557251, 'learning_rate': 1.8e-05, 'epoch': 2.01}\n",
      "{'loss': 0.3695, 'grad_norm': 2.929161310195923, 'learning_rate': 1.7909090909090908e-05, 'epoch': 2.015}\n",
      "{'loss': 0.4092, 'grad_norm': 3.419069528579712, 'learning_rate': 1.781818181818182e-05, 'epoch': 2.02}\n",
      "{'loss': 0.5088, 'grad_norm': 4.538506984710693, 'learning_rate': 1.772727272727273e-05, 'epoch': 2.025}\n",
      "{'loss': 0.3754, 'grad_norm': 3.636983871459961, 'learning_rate': 1.7636363636363637e-05, 'epoch': 2.03}\n",
      "{'loss': 0.4011, 'grad_norm': 4.628556728363037, 'learning_rate': 1.7545454545454545e-05, 'epoch': 2.035}\n",
      "{'loss': 0.4823, 'grad_norm': 6.028903484344482, 'learning_rate': 1.7454545454545456e-05, 'epoch': 2.04}\n",
      "{'loss': 0.4631, 'grad_norm': 3.9975502490997314, 'learning_rate': 1.7363636363636366e-05, 'epoch': 2.045}\n",
      "{'loss': 0.432, 'grad_norm': 3.803290843963623, 'learning_rate': 1.7272727272727274e-05, 'epoch': 2.05}\n",
      "{'loss': 0.4846, 'grad_norm': 5.4148640632629395, 'learning_rate': 1.718181818181818e-05, 'epoch': 2.055}\n",
      "{'loss': 0.3821, 'grad_norm': 5.255051136016846, 'learning_rate': 1.7090909090909092e-05, 'epoch': 2.06}\n",
      "{'loss': 0.4673, 'grad_norm': 4.202699661254883, 'learning_rate': 1.7000000000000003e-05, 'epoch': 2.065}\n",
      "{'loss': 0.408, 'grad_norm': 4.861762523651123, 'learning_rate': 1.690909090909091e-05, 'epoch': 2.07}\n",
      "{'loss': 0.4216, 'grad_norm': 5.37923002243042, 'learning_rate': 1.6818181818181818e-05, 'epoch': 2.075}\n",
      "{'loss': 0.4152, 'grad_norm': 4.16841459274292, 'learning_rate': 1.672727272727273e-05, 'epoch': 2.08}\n",
      "{'loss': 0.4897, 'grad_norm': 5.641756534576416, 'learning_rate': 1.6636363636363637e-05, 'epoch': 2.085}\n",
      "{'loss': 0.3742, 'grad_norm': 5.630735874176025, 'learning_rate': 1.6545454545454548e-05, 'epoch': 2.09}\n",
      "{'loss': 0.4027, 'grad_norm': 5.486241340637207, 'learning_rate': 1.6454545454545455e-05, 'epoch': 2.095}\n",
      "{'loss': 0.3818, 'grad_norm': 6.347367286682129, 'learning_rate': 1.6363636363636366e-05, 'epoch': 2.1}\n",
      "{'loss': 0.4329, 'grad_norm': 3.64715838432312, 'learning_rate': 1.6272727272727273e-05, 'epoch': 2.105}\n",
      "{'loss': 0.4031, 'grad_norm': 4.331881999969482, 'learning_rate': 1.618181818181818e-05, 'epoch': 2.11}\n",
      "{'loss': 0.402, 'grad_norm': 5.011928558349609, 'learning_rate': 1.6090909090909092e-05, 'epoch': 2.115}\n",
      "{'loss': 0.466, 'grad_norm': 5.950098514556885, 'learning_rate': 1.6000000000000003e-05, 'epoch': 2.12}\n",
      "{'loss': 0.384, 'grad_norm': 4.338662147521973, 'learning_rate': 1.590909090909091e-05, 'epoch': 2.125}\n",
      "{'loss': 0.4246, 'grad_norm': 4.398915767669678, 'learning_rate': 1.5818181818181818e-05, 'epoch': 2.13}\n",
      "{'loss': 0.4168, 'grad_norm': 4.845264434814453, 'learning_rate': 1.572727272727273e-05, 'epoch': 2.135}\n",
      "{'loss': 0.4616, 'grad_norm': 3.8504714965820312, 'learning_rate': 1.563636363636364e-05, 'epoch': 2.14}\n",
      "{'loss': 0.3562, 'grad_norm': 6.200568675994873, 'learning_rate': 1.5545454545454547e-05, 'epoch': 2.145}\n",
      "{'loss': 0.4622, 'grad_norm': 6.287147045135498, 'learning_rate': 1.5454545454545454e-05, 'epoch': 2.15}\n",
      "{'loss': 0.5051, 'grad_norm': 7.445302486419678, 'learning_rate': 1.5363636363636362e-05, 'epoch': 2.155}\n",
      "{'loss': 0.4142, 'grad_norm': 4.48511266708374, 'learning_rate': 1.5272727272727276e-05, 'epoch': 2.16}\n",
      "{'loss': 0.4557, 'grad_norm': 5.249207496643066, 'learning_rate': 1.5181818181818184e-05, 'epoch': 2.165}\n",
      "{'loss': 0.379, 'grad_norm': 5.428191184997559, 'learning_rate': 1.5090909090909091e-05, 'epoch': 2.17}\n",
      "{'loss': 0.4181, 'grad_norm': 7.626693248748779, 'learning_rate': 1.5e-05, 'epoch': 2.175}\n",
      "{'loss': 0.4122, 'grad_norm': 4.7816290855407715, 'learning_rate': 1.4909090909090908e-05, 'epoch': 2.18}\n",
      "{'loss': 0.388, 'grad_norm': 6.937115669250488, 'learning_rate': 1.481818181818182e-05, 'epoch': 2.185}\n",
      "{'loss': 0.4091, 'grad_norm': 5.3877973556518555, 'learning_rate': 1.4727272727272728e-05, 'epoch': 2.19}\n",
      "{'loss': 0.4244, 'grad_norm': 6.164341449737549, 'learning_rate': 1.4636363636363637e-05, 'epoch': 2.195}\n",
      "{'loss': 0.4028, 'grad_norm': 6.136237144470215, 'learning_rate': 1.4545454545454545e-05, 'epoch': 2.2}\n",
      "{'loss': 0.4472, 'grad_norm': 4.935046195983887, 'learning_rate': 1.4454545454545454e-05, 'epoch': 2.205}\n",
      "{'loss': 0.423, 'grad_norm': 6.739816665649414, 'learning_rate': 1.4363636363636365e-05, 'epoch': 2.21}\n",
      "{'loss': 0.3764, 'grad_norm': 4.818066596984863, 'learning_rate': 1.4272727272727274e-05, 'epoch': 2.215}\n",
      "{'loss': 0.4184, 'grad_norm': 4.335243225097656, 'learning_rate': 1.4181818181818181e-05, 'epoch': 2.22}\n",
      "{'loss': 0.4248, 'grad_norm': 5.9651570320129395, 'learning_rate': 1.409090909090909e-05, 'epoch': 2.225}\n",
      "{'loss': 0.407, 'grad_norm': 6.006321907043457, 'learning_rate': 1.4000000000000001e-05, 'epoch': 2.23}\n",
      "{'loss': 0.4439, 'grad_norm': 4.706757545471191, 'learning_rate': 1.390909090909091e-05, 'epoch': 2.235}\n",
      "{'loss': 0.3853, 'grad_norm': 5.53497838973999, 'learning_rate': 1.3818181818181818e-05, 'epoch': 2.24}\n",
      "{'loss': 0.336, 'grad_norm': 5.177987575531006, 'learning_rate': 1.3727272727272727e-05, 'epoch': 2.245}\n",
      "{'loss': 0.4618, 'grad_norm': 6.607125759124756, 'learning_rate': 1.3636363636363637e-05, 'epoch': 2.25}\n"
     ]
    },
    {
     "name": "stderr",
     "output_type": "stream",
     "text": [
      "/opt/conda/lib/python3.10/site-packages/torch/nn/parallel/_functions.py:68: UserWarning: Was asked to gather along dimension 0, but all input tensors were scalars; will instead unsqueeze and return a vector.\n",
      "  warnings.warn('Was asked to gather along dimension 0, but all '\n"
     ]
    },
    {
     "name": "stdout",
     "output_type": "stream",
     "text": [
      "{'loss': 0.446, 'grad_norm': 9.737386703491211, 'learning_rate': 1.3545454545454547e-05, 'epoch': 2.255}\n",
      "{'loss': 0.4572, 'grad_norm': 6.099736213684082, 'learning_rate': 1.3454545454545457e-05, 'epoch': 2.26}\n",
      "{'loss': 0.4102, 'grad_norm': 4.130622863769531, 'learning_rate': 1.3363636363636364e-05, 'epoch': 2.265}\n",
      "{'loss': 0.4102, 'grad_norm': 3.6781747341156006, 'learning_rate': 1.3272727272727273e-05, 'epoch': 2.27}\n",
      "{'loss': 0.4313, 'grad_norm': 5.909125328063965, 'learning_rate': 1.318181818181818e-05, 'epoch': 2.275}\n",
      "{'loss': 0.3887, 'grad_norm': 7.625266075134277, 'learning_rate': 1.3090909090909093e-05, 'epoch': 2.2800000000000002}\n",
      "{'loss': 0.4171, 'grad_norm': 5.732468605041504, 'learning_rate': 1.3000000000000001e-05, 'epoch': 2.285}\n",
      "{'loss': 0.3547, 'grad_norm': 4.341403961181641, 'learning_rate': 1.290909090909091e-05, 'epoch': 2.29}\n",
      "{'loss': 0.4375, 'grad_norm': 6.7761383056640625, 'learning_rate': 1.2818181818181818e-05, 'epoch': 2.295}\n",
      "{'loss': 0.426, 'grad_norm': 3.9684717655181885, 'learning_rate': 1.2727272727272727e-05, 'epoch': 2.3}\n",
      "{'loss': 0.413, 'grad_norm': 4.680534839630127, 'learning_rate': 1.2636363636363638e-05, 'epoch': 2.305}\n",
      "{'loss': 0.4757, 'grad_norm': 6.00324821472168, 'learning_rate': 1.2545454545454547e-05, 'epoch': 2.31}\n",
      "{'loss': 0.418, 'grad_norm': 9.322978019714355, 'learning_rate': 1.2454545454545454e-05, 'epoch': 2.315}\n",
      "{'loss': 0.4453, 'grad_norm': 6.9410905838012695, 'learning_rate': 1.2363636363636365e-05, 'epoch': 2.32}\n",
      "{'loss': 0.4335, 'grad_norm': 6.938404560089111, 'learning_rate': 1.2272727272727273e-05, 'epoch': 2.325}\n",
      "{'loss': 0.4, 'grad_norm': 7.857885360717773, 'learning_rate': 1.2181818181818182e-05, 'epoch': 2.33}\n",
      "{'loss': 0.3726, 'grad_norm': 6.215243816375732, 'learning_rate': 1.2090909090909091e-05, 'epoch': 2.335}\n",
      "{'loss': 0.4884, 'grad_norm': 6.685993194580078, 'learning_rate': 1.2e-05, 'epoch': 2.34}\n",
      "{'loss': 0.4964, 'grad_norm': 5.899745464324951, 'learning_rate': 1.190909090909091e-05, 'epoch': 2.3449999999999998}\n",
      "{'loss': 0.4491, 'grad_norm': 5.838969707489014, 'learning_rate': 1.1818181818181819e-05, 'epoch': 2.35}\n",
      "{'loss': 0.4427, 'grad_norm': 3.6717653274536133, 'learning_rate': 1.1727272727272728e-05, 'epoch': 2.355}\n",
      "{'loss': 0.458, 'grad_norm': 7.825995445251465, 'learning_rate': 1.1636363636363637e-05, 'epoch': 2.36}\n",
      "{'loss': 0.4421, 'grad_norm': 4.595062255859375, 'learning_rate': 1.1545454545454545e-05, 'epoch': 2.365}\n",
      "{'loss': 0.5351, 'grad_norm': 7.887094497680664, 'learning_rate': 1.1454545454545455e-05, 'epoch': 2.37}\n",
      "{'loss': 0.5, 'grad_norm': 5.476604461669922, 'learning_rate': 1.1363636363636365e-05, 'epoch': 2.375}\n",
      "{'loss': 0.3779, 'grad_norm': 4.066567420959473, 'learning_rate': 1.1272727272727274e-05, 'epoch': 2.38}\n",
      "{'loss': 0.4886, 'grad_norm': 7.102657318115234, 'learning_rate': 1.1181818181818183e-05, 'epoch': 2.385}\n",
      "{'loss': 0.4312, 'grad_norm': 5.767523765563965, 'learning_rate': 1.1090909090909092e-05, 'epoch': 2.39}\n",
      "{'loss': 0.4137, 'grad_norm': 4.407496452331543, 'learning_rate': 1.1000000000000001e-05, 'epoch': 2.395}\n",
      "{'loss': 0.4245, 'grad_norm': 7.30201530456543, 'learning_rate': 1.0909090909090909e-05, 'epoch': 2.4}\n",
      "{'loss': 0.3636, 'grad_norm': 4.67733907699585, 'learning_rate': 1.081818181818182e-05, 'epoch': 2.4050000000000002}\n",
      "{'loss': 0.4678, 'grad_norm': 4.741574287414551, 'learning_rate': 1.0727272727272727e-05, 'epoch': 2.41}\n",
      "{'loss': 0.4536, 'grad_norm': 6.468616485595703, 'learning_rate': 1.0636363636363638e-05, 'epoch': 2.415}\n",
      "{'loss': 0.4752, 'grad_norm': 5.707613468170166, 'learning_rate': 1.0545454545454546e-05, 'epoch': 2.42}\n",
      "{'loss': 0.3558, 'grad_norm': 6.14680814743042, 'learning_rate': 1.0454545454545455e-05, 'epoch': 2.425}\n",
      "{'loss': 0.395, 'grad_norm': 5.791925430297852, 'learning_rate': 1.0363636363636364e-05, 'epoch': 2.43}\n",
      "{'loss': 0.4844, 'grad_norm': 6.4834489822387695, 'learning_rate': 1.0272727272727273e-05, 'epoch': 2.435}\n",
      "{'loss': 0.3373, 'grad_norm': 4.825281143188477, 'learning_rate': 1.0181818181818182e-05, 'epoch': 2.44}\n",
      "{'loss': 0.3598, 'grad_norm': 6.582225322723389, 'learning_rate': 1.0090909090909092e-05, 'epoch': 2.445}\n",
      "{'loss': 0.4423, 'grad_norm': 7.021185874938965, 'learning_rate': 1e-05, 'epoch': 2.45}\n",
      "{'loss': 0.3914, 'grad_norm': 4.506134986877441, 'learning_rate': 9.90909090909091e-06, 'epoch': 2.455}\n",
      "{'loss': 0.4265, 'grad_norm': 5.182983875274658, 'learning_rate': 9.818181818181818e-06, 'epoch': 2.46}\n",
      "{'loss': 0.4395, 'grad_norm': 5.636555194854736, 'learning_rate': 9.727272727272728e-06, 'epoch': 2.465}\n",
      "{'loss': 0.4573, 'grad_norm': 4.7016191482543945, 'learning_rate': 9.636363636363636e-06, 'epoch': 2.4699999999999998}\n",
      "{'loss': 0.4213, 'grad_norm': 4.176984786987305, 'learning_rate': 9.545454545454547e-06, 'epoch': 2.475}\n",
      "{'loss': 0.4712, 'grad_norm': 7.248319625854492, 'learning_rate': 9.454545454545454e-06, 'epoch': 2.48}\n",
      "{'loss': 0.4234, 'grad_norm': 6.385073184967041, 'learning_rate': 9.363636363636365e-06, 'epoch': 2.485}\n",
      "{'loss': 0.4401, 'grad_norm': 4.8592939376831055, 'learning_rate': 9.272727272727273e-06, 'epoch': 2.49}\n",
      "{'loss': 0.4573, 'grad_norm': 7.290743350982666, 'learning_rate': 9.181818181818182e-06, 'epoch': 2.495}\n",
      "{'loss': 0.4123, 'grad_norm': 6.709357738494873, 'learning_rate': 9.090909090909091e-06, 'epoch': 2.5}\n"
     ]
    },
    {
     "name": "stderr",
     "output_type": "stream",
     "text": [
      "/opt/conda/lib/python3.10/site-packages/torch/nn/parallel/_functions.py:68: UserWarning: Was asked to gather along dimension 0, but all input tensors were scalars; will instead unsqueeze and return a vector.\n",
      "  warnings.warn('Was asked to gather along dimension 0, but all '\n"
     ]
    },
    {
     "name": "stdout",
     "output_type": "stream",
     "text": [
      "{'loss': 0.4314, 'grad_norm': 3.5238165855407715, 'learning_rate': 9e-06, 'epoch': 2.505}\n",
      "{'loss': 0.418, 'grad_norm': 4.705780982971191, 'learning_rate': 8.90909090909091e-06, 'epoch': 2.51}\n",
      "{'loss': 0.4018, 'grad_norm': 6.833808422088623, 'learning_rate': 8.818181818181819e-06, 'epoch': 2.515}\n",
      "{'loss': 0.4677, 'grad_norm': 6.989421367645264, 'learning_rate': 8.727272727272728e-06, 'epoch': 2.52}\n",
      "{'loss': 0.3277, 'grad_norm': 3.702639579772949, 'learning_rate': 8.636363636363637e-06, 'epoch': 2.525}\n",
      "{'loss': 0.435, 'grad_norm': 7.277471542358398, 'learning_rate': 8.545454545454546e-06, 'epoch': 2.5300000000000002}\n",
      "{'loss': 0.4348, 'grad_norm': 7.809335708618164, 'learning_rate': 8.454545454545455e-06, 'epoch': 2.535}\n",
      "{'loss': 0.4175, 'grad_norm': 7.231910705566406, 'learning_rate': 8.363636363636365e-06, 'epoch': 2.54}\n",
      "{'loss': 0.3499, 'grad_norm': 7.128756523132324, 'learning_rate': 8.272727272727274e-06, 'epoch': 2.545}\n",
      "{'loss': 0.3829, 'grad_norm': 5.249251365661621, 'learning_rate': 8.181818181818183e-06, 'epoch': 2.55}\n",
      "{'loss': 0.4101, 'grad_norm': 8.100356101989746, 'learning_rate': 8.09090909090909e-06, 'epoch': 2.555}\n",
      "{'loss': 0.4361, 'grad_norm': 8.419255256652832, 'learning_rate': 8.000000000000001e-06, 'epoch': 2.56}\n",
      "{'loss': 0.3777, 'grad_norm': 5.117943286895752, 'learning_rate': 7.909090909090909e-06, 'epoch': 2.565}\n",
      "{'loss': 0.5004, 'grad_norm': 4.704877853393555, 'learning_rate': 7.81818181818182e-06, 'epoch': 2.57}\n",
      "{'loss': 0.4219, 'grad_norm': 9.82084846496582, 'learning_rate': 7.727272727272727e-06, 'epoch': 2.575}\n",
      "{'loss': 0.3864, 'grad_norm': 5.058125019073486, 'learning_rate': 7.636363636363638e-06, 'epoch': 2.58}\n",
      "{'loss': 0.4072, 'grad_norm': 7.099689483642578, 'learning_rate': 7.545454545454546e-06, 'epoch': 2.585}\n",
      "{'loss': 0.5069, 'grad_norm': 7.283585548400879, 'learning_rate': 7.454545454545454e-06, 'epoch': 2.59}\n",
      "{'loss': 0.4613, 'grad_norm': 6.7770280838012695, 'learning_rate': 7.363636363636364e-06, 'epoch': 2.5949999999999998}\n",
      "{'loss': 0.4234, 'grad_norm': 4.381411075592041, 'learning_rate': 7.272727272727272e-06, 'epoch': 2.6}\n",
      "{'loss': 0.3354, 'grad_norm': 7.3761887550354, 'learning_rate': 7.181818181818182e-06, 'epoch': 2.605}\n",
      "{'loss': 0.4063, 'grad_norm': 3.8258581161499023, 'learning_rate': 7.090909090909091e-06, 'epoch': 2.61}\n",
      "{'loss': 0.3881, 'grad_norm': 5.023314952850342, 'learning_rate': 7.000000000000001e-06, 'epoch': 2.615}\n",
      "{'loss': 0.395, 'grad_norm': 4.5172600746154785, 'learning_rate': 6.909090909090909e-06, 'epoch': 2.62}\n",
      "{'loss': 0.4113, 'grad_norm': 7.8893280029296875, 'learning_rate': 6.818181818181818e-06, 'epoch': 2.625}\n",
      "{'loss': 0.4247, 'grad_norm': 6.341487884521484, 'learning_rate': 6.727272727272728e-06, 'epoch': 2.63}\n",
      "{'loss': 0.4321, 'grad_norm': 4.83536434173584, 'learning_rate': 6.636363636363637e-06, 'epoch': 2.635}\n",
      "{'loss': 0.4216, 'grad_norm': 6.3639068603515625, 'learning_rate': 6.545454545454547e-06, 'epoch': 2.64}\n",
      "{'loss': 0.3722, 'grad_norm': 5.656139373779297, 'learning_rate': 6.454545454545455e-06, 'epoch': 2.645}\n",
      "{'loss': 0.3842, 'grad_norm': 5.061765670776367, 'learning_rate': 6.363636363636363e-06, 'epoch': 2.65}\n",
      "{'loss': 0.4423, 'grad_norm': 7.419360160827637, 'learning_rate': 6.2727272727272734e-06, 'epoch': 2.6550000000000002}\n",
      "{'loss': 0.3895, 'grad_norm': 5.883759021759033, 'learning_rate': 6.181818181818183e-06, 'epoch': 2.66}\n",
      "{'loss': 0.4331, 'grad_norm': 6.742646217346191, 'learning_rate': 6.090909090909091e-06, 'epoch': 2.665}\n",
      "{'loss': 0.4019, 'grad_norm': 6.169023036956787, 'learning_rate': 6e-06, 'epoch': 2.67}\n",
      "{'loss': 0.4957, 'grad_norm': 5.997951030731201, 'learning_rate': 5.909090909090909e-06, 'epoch': 2.675}\n",
      "{'loss': 0.3958, 'grad_norm': 7.6960601806640625, 'learning_rate': 5.8181818181818185e-06, 'epoch': 2.68}\n",
      "{'loss': 0.3741, 'grad_norm': 6.593083381652832, 'learning_rate': 5.727272727272728e-06, 'epoch': 2.685}\n",
      "{'loss': 0.3922, 'grad_norm': 6.902838706970215, 'learning_rate': 5.636363636363637e-06, 'epoch': 2.69}\n",
      "{'loss': 0.3558, 'grad_norm': 8.094428062438965, 'learning_rate': 5.545454545454546e-06, 'epoch': 2.695}\n",
      "{'loss': 0.4055, 'grad_norm': 7.160356044769287, 'learning_rate': 5.4545454545454545e-06, 'epoch': 2.7}\n",
      "{'loss': 0.4048, 'grad_norm': 9.088708877563477, 'learning_rate': 5.363636363636364e-06, 'epoch': 2.705}\n",
      "{'loss': 0.4118, 'grad_norm': 3.4988272190093994, 'learning_rate': 5.272727272727273e-06, 'epoch': 2.71}\n",
      "{'loss': 0.4115, 'grad_norm': 6.0491228103637695, 'learning_rate': 5.181818181818182e-06, 'epoch': 2.715}\n",
      "{'loss': 0.4166, 'grad_norm': 7.612486362457275, 'learning_rate': 5.090909090909091e-06, 'epoch': 2.7199999999999998}\n",
      "{'loss': 0.4394, 'grad_norm': 5.559825897216797, 'learning_rate': 5e-06, 'epoch': 2.725}\n",
      "{'loss': 0.4515, 'grad_norm': 8.913687705993652, 'learning_rate': 4.909090909090909e-06, 'epoch': 2.73}\n",
      "{'loss': 0.5249, 'grad_norm': 8.859338760375977, 'learning_rate': 4.818181818181818e-06, 'epoch': 2.735}\n",
      "{'loss': 0.4317, 'grad_norm': 6.119868278503418, 'learning_rate': 4.727272727272727e-06, 'epoch': 2.74}\n",
      "{'loss': 0.375, 'grad_norm': 7.004861831665039, 'learning_rate': 4.636363636363636e-06, 'epoch': 2.745}\n",
      "{'loss': 0.5141, 'grad_norm': 5.384740829467773, 'learning_rate': 4.5454545454545455e-06, 'epoch': 2.75}\n"
     ]
    },
    {
     "name": "stderr",
     "output_type": "stream",
     "text": [
      "/opt/conda/lib/python3.10/site-packages/torch/nn/parallel/_functions.py:68: UserWarning: Was asked to gather along dimension 0, but all input tensors were scalars; will instead unsqueeze and return a vector.\n",
      "  warnings.warn('Was asked to gather along dimension 0, but all '\n"
     ]
    },
    {
     "name": "stdout",
     "output_type": "stream",
     "text": [
      "{'loss': 0.4678, 'grad_norm': 7.892765045166016, 'learning_rate': 4.454545454545455e-06, 'epoch': 2.755}\n",
      "{'loss': 0.4115, 'grad_norm': 7.140692710876465, 'learning_rate': 4.363636363636364e-06, 'epoch': 2.76}\n",
      "{'loss': 0.4538, 'grad_norm': 8.742403984069824, 'learning_rate': 4.272727272727273e-06, 'epoch': 2.765}\n",
      "{'loss': 0.4494, 'grad_norm': 5.742396354675293, 'learning_rate': 4.181818181818182e-06, 'epoch': 2.77}\n",
      "{'loss': 0.4007, 'grad_norm': 6.7076520919799805, 'learning_rate': 4.0909090909090915e-06, 'epoch': 2.775}\n",
      "{'loss': 0.3827, 'grad_norm': 4.584375381469727, 'learning_rate': 4.000000000000001e-06, 'epoch': 2.7800000000000002}\n",
      "{'loss': 0.42, 'grad_norm': 8.343483924865723, 'learning_rate': 3.90909090909091e-06, 'epoch': 2.785}\n",
      "{'loss': 0.5139, 'grad_norm': 7.709445476531982, 'learning_rate': 3.818181818181819e-06, 'epoch': 2.79}\n",
      "{'loss': 0.426, 'grad_norm': 4.550464153289795, 'learning_rate': 3.727272727272727e-06, 'epoch': 2.795}\n",
      "{'loss': 0.5278, 'grad_norm': 7.179966926574707, 'learning_rate': 3.636363636363636e-06, 'epoch': 2.8}\n",
      "{'loss': 0.4516, 'grad_norm': 8.232194900512695, 'learning_rate': 3.5454545454545454e-06, 'epoch': 2.805}\n",
      "{'loss': 0.4484, 'grad_norm': 6.278431415557861, 'learning_rate': 3.4545454545454545e-06, 'epoch': 2.81}\n",
      "{'loss': 0.3488, 'grad_norm': 6.907348155975342, 'learning_rate': 3.363636363636364e-06, 'epoch': 2.815}\n",
      "{'loss': 0.4569, 'grad_norm': 7.392683982849121, 'learning_rate': 3.2727272727272733e-06, 'epoch': 2.82}\n",
      "{'loss': 0.3295, 'grad_norm': 5.917062282562256, 'learning_rate': 3.1818181818181817e-06, 'epoch': 2.825}\n",
      "{'loss': 0.4043, 'grad_norm': 4.816616535186768, 'learning_rate': 3.0909090909090913e-06, 'epoch': 2.83}\n",
      "{'loss': 0.431, 'grad_norm': 6.561736106872559, 'learning_rate': 3e-06, 'epoch': 2.835}\n",
      "{'loss': 0.506, 'grad_norm': 6.6582183837890625, 'learning_rate': 2.9090909090909093e-06, 'epoch': 2.84}\n",
      "{'loss': 0.357, 'grad_norm': 7.196496486663818, 'learning_rate': 2.8181818181818185e-06, 'epoch': 2.8449999999999998}\n",
      "{'loss': 0.5256, 'grad_norm': 4.1646728515625, 'learning_rate': 2.7272727272727272e-06, 'epoch': 2.85}\n",
      "{'loss': 0.4154, 'grad_norm': 7.628323554992676, 'learning_rate': 2.6363636363636364e-06, 'epoch': 2.855}\n",
      "{'loss': 0.4841, 'grad_norm': 8.665419578552246, 'learning_rate': 2.5454545454545456e-06, 'epoch': 2.86}\n",
      "{'loss': 0.4956, 'grad_norm': 9.149971961975098, 'learning_rate': 2.4545454545454544e-06, 'epoch': 2.865}\n",
      "{'loss': 0.4383, 'grad_norm': 9.141534805297852, 'learning_rate': 2.3636363636363636e-06, 'epoch': 2.87}\n",
      "{'loss': 0.4036, 'grad_norm': 7.431709289550781, 'learning_rate': 2.2727272727272728e-06, 'epoch': 2.875}\n",
      "{'loss': 0.4566, 'grad_norm': 3.1749749183654785, 'learning_rate': 2.181818181818182e-06, 'epoch': 2.88}\n",
      "{'loss': 0.4286, 'grad_norm': 6.725710868835449, 'learning_rate': 2.090909090909091e-06, 'epoch': 2.885}\n",
      "{'loss': 0.4825, 'grad_norm': 6.725347995758057, 'learning_rate': 2.0000000000000003e-06, 'epoch': 2.89}\n",
      "{'loss': 0.4522, 'grad_norm': 6.0382161140441895, 'learning_rate': 1.9090909090909095e-06, 'epoch': 2.895}\n",
      "{'loss': 0.3666, 'grad_norm': 6.5911993980407715, 'learning_rate': 1.818181818181818e-06, 'epoch': 2.9}\n",
      "{'loss': 0.3714, 'grad_norm': 5.7132158279418945, 'learning_rate': 1.7272727272727273e-06, 'epoch': 2.9050000000000002}\n",
      "{'loss': 0.3545, 'grad_norm': 7.257826328277588, 'learning_rate': 1.6363636363636367e-06, 'epoch': 2.91}\n",
      "{'loss': 0.4181, 'grad_norm': 6.5168561935424805, 'learning_rate': 1.5454545454545457e-06, 'epoch': 2.915}\n",
      "{'loss': 0.4616, 'grad_norm': 8.72026252746582, 'learning_rate': 1.4545454545454546e-06, 'epoch': 2.92}\n",
      "{'loss': 0.3897, 'grad_norm': 4.371511936187744, 'learning_rate': 1.3636363636363636e-06, 'epoch': 2.925}\n",
      "{'loss': 0.4165, 'grad_norm': 6.145809173583984, 'learning_rate': 1.2727272727272728e-06, 'epoch': 2.93}\n",
      "{'loss': 0.4037, 'grad_norm': 9.625624656677246, 'learning_rate': 1.1818181818181818e-06, 'epoch': 2.935}\n",
      "{'loss': 0.4252, 'grad_norm': 9.78315544128418, 'learning_rate': 1.090909090909091e-06, 'epoch': 2.94}\n",
      "{'loss': 0.4575, 'grad_norm': 6.8159379959106445, 'learning_rate': 1.0000000000000002e-06, 'epoch': 2.945}\n",
      "{'loss': 0.3692, 'grad_norm': 7.354769229888916, 'learning_rate': 9.09090909090909e-07, 'epoch': 2.95}\n",
      "{'loss': 0.3944, 'grad_norm': 8.654207229614258, 'learning_rate': 8.181818181818183e-07, 'epoch': 2.955}\n",
      "{'loss': 0.3743, 'grad_norm': 7.433192729949951, 'learning_rate': 7.272727272727273e-07, 'epoch': 2.96}\n",
      "{'loss': 0.457, 'grad_norm': 6.293943405151367, 'learning_rate': 6.363636363636364e-07, 'epoch': 2.965}\n",
      "{'loss': 0.4007, 'grad_norm': 7.670006275177002, 'learning_rate': 5.454545454545455e-07, 'epoch': 2.9699999999999998}\n",
      "{'loss': 0.4257, 'grad_norm': 6.69674015045166, 'learning_rate': 4.545454545454545e-07, 'epoch': 2.975}\n",
      "{'loss': 0.394, 'grad_norm': 4.1074700355529785, 'learning_rate': 3.6363636363636366e-07, 'epoch': 2.98}\n",
      "{'loss': 0.4222, 'grad_norm': 4.655649662017822, 'learning_rate': 2.7272727272727274e-07, 'epoch': 2.985}\n",
      "{'loss': 0.4736, 'grad_norm': 6.189051151275635, 'learning_rate': 1.8181818181818183e-07, 'epoch': 2.99}\n",
      "{'loss': 0.4152, 'grad_norm': 4.43902063369751, 'learning_rate': 9.090909090909091e-08, 'epoch': 2.995}\n",
      "{'loss': 0.3757, 'grad_norm': 4.379885673522949, 'learning_rate': 0.0, 'epoch': 3.0}\n",
      "{'train_runtime': 5269.4624, 'train_samples_per_second': 36.428, 'train_steps_per_second': 1.139, 'train_loss': 0.5729010728995005, 'epoch': 3.0}\n"
     ]
    },
    {
     "data": {
      "text/plain": [
       "TrainOutput(global_step=6000, training_loss=0.5729010728995005, metrics={'train_runtime': 5269.4624, 'train_samples_per_second': 36.428, 'train_steps_per_second': 1.139, 'train_loss': 0.5729010728995005, 'epoch': 3.0})"
      ]
     },
     "execution_count": 35,
     "metadata": {},
     "output_type": "execute_result"
    }
   ],
   "source": [
    "from transformers import AutoModelForSequenceClassification, Trainer, TrainingArguments\n",
    "\n",
    "# Load the model\n",
    "model = AutoModelForSequenceClassification.from_pretrained(\"lxyuan/distilbert-base-multilingual-cased-sentiments-student\")\n",
    "\n",
    "# Set up training arguments\n",
    "training_args = TrainingArguments(\n",
    "    output_dir='./results',          # output directory\n",
    "    num_train_epochs=3,              # number of training epochs\n",
    "    per_device_train_batch_size=16,  # batch size for training\n",
    "    per_device_eval_batch_size=64,   # batch size for evaluation\n",
    "    warmup_steps=500,                # number of warmup steps\n",
    "    weight_decay=0.01,               # strength of weight decay\n",
    "    logging_dir='./logs',            # directory for storing logs\n",
    "    logging_steps=10,\n",
    "    report_to='tensorboard'\n",
    ")\n",
    "\n",
    "# Initialize the Trainer\n",
    "trainer = Trainer(\n",
    "    model=model,\n",
    "    args=training_args,\n",
    "    train_dataset=train_dataset,\n",
    "    eval_dataset=test_dataset\n",
    ")\n",
    "\n",
    "# Train the model\n",
    "trainer.train()\n"
   ]
  },
  {
   "cell_type": "code",
   "execution_count": 36,
   "id": "ca937bca",
   "metadata": {
    "execution": {
     "iopub.execute_input": "2024-08-09T20:18:49.058021Z",
     "iopub.status.busy": "2024-08-09T20:18:49.056840Z",
     "iopub.status.idle": "2024-08-09T20:21:16.626707Z",
     "shell.execute_reply": "2024-08-09T20:21:16.625760Z"
    },
    "papermill": {
     "duration": 147.698374,
     "end_time": "2024-08-09T20:21:16.691380",
     "exception": false,
     "start_time": "2024-08-09T20:18:48.993006",
     "status": "completed"
    },
    "tags": []
   },
   "outputs": [
    {
     "name": "stderr",
     "output_type": "stream",
     "text": [
      "/opt/conda/lib/python3.10/site-packages/torch/nn/parallel/_functions.py:68: UserWarning: Was asked to gather along dimension 0, but all input tensors were scalars; will instead unsqueeze and return a vector.\n",
      "  warnings.warn('Was asked to gather along dimension 0, but all '\n"
     ]
    },
    {
     "name": "stdout",
     "output_type": "stream",
     "text": [
      "{'eval_loss': 0.7037246227264404, 'eval_runtime': 147.5325, 'eval_samples_per_second': 108.43, 'eval_steps_per_second': 0.847, 'epoch': 3.0}\n",
      "{'eval_loss': 0.7037246227264404, 'eval_runtime': 147.5325, 'eval_samples_per_second': 108.43, 'eval_steps_per_second': 0.847, 'epoch': 3.0}\n"
     ]
    }
   ],
   "source": [
    "# Evaluate the model\n",
    "eval_results = trainer.evaluate()\n",
    "\n",
    "print(eval_results)\n"
   ]
  },
  {
   "cell_type": "code",
   "execution_count": 37,
   "id": "2721995f",
   "metadata": {
    "execution": {
     "iopub.execute_input": "2024-08-09T20:21:16.817549Z",
     "iopub.status.busy": "2024-08-09T20:21:16.817136Z",
     "iopub.status.idle": "2024-08-09T20:23:45.913548Z",
     "shell.execute_reply": "2024-08-09T20:23:45.912630Z"
    },
    "papermill": {
     "duration": 149.162047,
     "end_time": "2024-08-09T20:23:45.915725",
     "exception": false,
     "start_time": "2024-08-09T20:21:16.753678",
     "status": "completed"
    },
    "tags": []
   },
   "outputs": [
    {
     "name": "stderr",
     "output_type": "stream",
     "text": [
      "/opt/conda/lib/python3.10/site-packages/torch/nn/parallel/_functions.py:68: UserWarning: Was asked to gather along dimension 0, but all input tensors were scalars; will instead unsqueeze and return a vector.\n",
      "  warnings.warn('Was asked to gather along dimension 0, but all '\n"
     ]
    },
    {
     "name": "stdout",
     "output_type": "stream",
     "text": [
      "Classification Report:\n",
      "              precision    recall  f1-score   support\n",
      "\n",
      " enhancement       0.77      0.74      0.75      5292\n",
      "         bug       0.72      0.75      0.73      5371\n",
      "    question       0.72      0.73      0.72      5334\n",
      "\n",
      "    accuracy                           0.74     15997\n",
      "   macro avg       0.74      0.74      0.74     15997\n",
      "weighted avg       0.74      0.74      0.74     15997\n",
      "\n"
     ]
    },
    {
     "data": {
      "image/png": "[encoded data removed]",
      "text/plain": [
       "<Figure size 1000x700 with 2 Axes>"
      ]
     },
     "metadata": {},
     "output_type": "display_data"
    }
   ],
   "source": [
    "from transformers import Trainer\n",
    "from sklearn.metrics import confusion_matrix, classification_report\n",
    "import matplotlib.pyplot as plt\n",
    "import seaborn as sns\n",
    "import numpy as np\n",
    "import torch\n",
    "\n",
    "# Assuming you have a trained `trainer` object and `test_dataset`\n",
    "\n",
    "# 1. Get predictions from the model\n",
    "predictions = trainer.predict(test_dataset)\n",
    "\n",
    "# 2. Extract logits and convert to predicted labels\n",
    "logits = predictions.predictions\n",
    "predicted_labels = np.argmax(logits, axis=1)\n",
    "\n",
    "# 3. Get true labels from the dataset\n",
    "true_labels = test_dataset.labels\n",
    "\n",
    "# Convert tensors to numpy arrays if necessary\n",
    "if isinstance(true_labels, torch.Tensor):\n",
    "    true_labels = true_labels.numpy()\n",
    "\n",
    "# 4. Compute the confusion matrix\n",
    "conf_matrix = confusion_matrix(true_labels, predicted_labels)\n",
    "\n",
    "# 5. Print the classification report\n",
    "target_names = ['enhancement', 'bug','question']\n",
    "report = classification_report(true_labels, predicted_labels, target_names=target_names)\n",
    "print(\"Classification Report:\")\n",
    "print(report)\n",
    "\n",
    "# 6. Plot the confusion matrix\n",
    "plt.figure(figsize=(10, 7))\n",
    "sns.heatmap(conf_matrix, annot=True, fmt='d', cmap='Blues', xticklabels=target_names, yticklabels=target_names)\n",
    "plt.xlabel('Predicted Labels')\n",
    "plt.ylabel('True Labels')\n",
    "plt.title('Confusion Matrix')\n",
    "plt.show()\n"
   ]
  },
  {
   "cell_type": "code",
   "execution_count": null,
   "id": "882b1d23",
   "metadata": {
    "papermill": {
     "duration": 0.064435,
     "end_time": "2024-08-09T20:23:46.044131",
     "exception": false,
     "start_time": "2024-08-09T20:23:45.979696",
     "status": "completed"
    },
    "tags": []
   },
   "outputs": [],
   "source": []
  }
 ],
 "metadata": {
  "accelerator": "GPU",
  "colab": {
   "gpuType": "T4",
   "provenance": []
  },
  "kaggle": {
   "accelerator": "nvidiaTeslaT4",
   "dataSources": [
    {
     "datasetId": 4896317,
     "sourceId": 8251782,
     "sourceType": "datasetVersion"
    }
   ],
   "isGpuEnabled": true,
   "isInternetEnabled": true,
   "language": "python",
   "sourceType": "notebook"
  },
  "kernelspec": {
   "display_name": "Python 3",
   "language": "python",
   "name": "python3"
  },
  "language_info": {
   "codemirror_mode": {
    "name": "ipython",
    "version": 3
   },
   "file_extension": ".py",
   "mimetype": "text/x-python",
   "name": "python",
   "nbconvert_exporter": "python",
   "pygments_lexer": "ipython3",
   "version": "3.10.13"
  },
  "papermill": {
   "default_parameters": {},
   "duration": 5811.390048,
   "end_time": "2024-08-09T20:23:49.343887",
   "environment_variables": {},
   "exception": null,
   "input_path": "__notebook__.ipynb",
   "output_path": "__notebook__.ipynb",
   "parameters": {},
   "start_time": "2024-08-09T18:46:57.953839",
   "version": "2.5.0"
  },
  "widgets": {
   "application/vnd.jupyter.widget-state+json": {
    "state": {
     "04c4828587a44920a150c30b26cfd8a1": {
      "model_module": "@jupyter-widgets/controls",
      "model_module_version": "1.5.0",
      "model_name": "HTMLModel",
      "state": {
       "_dom_classes": [],
       "_model_module": "@jupyter-widgets/controls",
       "_model_module_version": "1.5.0",
       "_model_name": "HTMLModel",
       "_view_count": null,
       "_view_module": "@jupyter-widgets/controls",
       "_view_module_version": "1.5.0",
       "_view_name": "HTMLView",
       "description": "",
       "description_tooltip": null,
       "layout": "IPY_MODEL_36a9f1aa7a6b43438348460feb688afb",
       "placeholder": "​",
       "style": "IPY_MODEL_b8f995965ac14b6391c75159e18ce39d",
       "value": "special_tokens_map.json: 100%"
      }
     },
     "082cd228abad497a9d836ac6cf97aa96": {
      "model_module": "@jupyter-widgets/base",
      "model_module_version": "1.2.0",
      "model_name": "LayoutModel",
      "state": {
       "_model_module": "@jupyter-widgets/base",
       "_model_module_version": "1.2.0",
       "_model_name": "LayoutModel",
       "_view_count": null,
       "_view_module": "@jupyter-widgets/base",
       "_view_module_version": "1.2.0",
       "_view_name": "LayoutView",
       "align_content": null,
       "align_items": null,
       "align_self": null,
       "border": null,
       "bottom": null,
       "display": null,
       "flex": null,
       "flex_flow": null,
       "grid_area": null,
       "grid_auto_columns": null,
       "grid_auto_flow": null,
       "grid_auto_rows": null,
       "grid_column": null,
       "grid_gap": null,
       "grid_row": null,
       "grid_template_areas": null,
       "grid_template_columns": null,
       "grid_template_rows": null,
       "height": null,
       "justify_content": null,
       "justify_items": null,
       "left": null,
       "margin": null,
       "max_height": null,
       "max_width": null,
       "min_height": null,
       "min_width": null,
       "object_fit": null,
       "object_position": null,
       "order": null,
       "overflow": null,
       "overflow_x": null,
       "overflow_y": null,
       "padding": null,
       "right": null,
       "top": null,
       "visibility": null,
       "width": null
      }
     },
     "0c7997d8ca4947d1b798a1946eff3b51": {
      "model_module": "@jupyter-widgets/controls",
      "model_module_version": "1.5.0",
      "model_name": "HTMLModel",
      "state": {
       "_dom_classes": [],
       "_model_module": "@jupyter-widgets/controls",
       "_model_module_version": "1.5.0",
       "_model_name": "HTMLModel",
       "_view_count": null,
       "_view_module": "@jupyter-widgets/controls",
       "_view_module_version": "1.5.0",
       "_view_name": "HTMLView",
       "description": "",
       "description_tooltip": null,
       "layout": "IPY_MODEL_e625d60f33964b759fa20b72fc834e7b",
       "placeholder": "​",
       "style": "IPY_MODEL_2cd97239862b4d47bdbf01e148109901",
       "value": " 759/759 [00:00&lt;00:00, 66.9kB/s]"
      }
     },
     "100e0d6be60947558e398c7f13ddd7b9": {
      "model_module": "@jupyter-widgets/controls",
      "model_module_version": "1.5.0",
      "model_name": "DescriptionStyleModel",
      "state": {
       "_model_module": "@jupyter-widgets/controls",
       "_model_module_version": "1.5.0",
       "_model_name": "DescriptionStyleModel",
       "_view_count": null,
       "_view_module": "@jupyter-widgets/base",
       "_view_module_version": "1.2.0",
       "_view_name": "StyleView",
       "description_width": ""
      }
     },
     "1180bf41990445e99c8e500b2a566327": {
      "model_module": "@jupyter-widgets/base",
      "model_module_version": "1.2.0",
      "model_name": "LayoutModel",
      "state": {
       "_model_module": "@jupyter-widgets/base",
       "_model_module_version": "1.2.0",
       "_model_name": "LayoutModel",
       "_view_count": null,
       "_view_module": "@jupyter-widgets/base",
       "_view_module_version": "1.2.0",
       "_view_name": "LayoutView",
       "align_content": null,
       "align_items": null,
       "align_self": null,
       "border": null,
       "bottom": null,
       "display": null,
       "flex": null,
       "flex_flow": null,
       "grid_area": null,
       "grid_auto_columns": null,
       "grid_auto_flow": null,
       "grid_auto_rows": null,
       "grid_column": null,
       "grid_gap": null,
       "grid_row": null,
       "grid_template_areas": null,
       "grid_template_columns": null,
       "grid_template_rows": null,
       "height": null,
       "justify_content": null,
       "justify_items": null,
       "left": null,
       "margin": null,
       "max_height": null,
       "max_width": null,
       "min_height": null,
       "min_width": null,
       "object_fit": null,
       "object_position": null,
       "order": null,
       "overflow": null,
       "overflow_x": null,
       "overflow_y": null,
       "padding": null,
       "right": null,
       "top": null,
       "visibility": null,
       "width": null
      }
     },
     "16fa6930fea444d3b5613a40a283f59a": {
      "model_module": "@jupyter-widgets/base",
      "model_module_version": "1.2.0",
      "model_name": "LayoutModel",
      "state": {
       "_model_module": "@jupyter-widgets/base",
       "_model_module_version": "1.2.0",
       "_model_name": "LayoutModel",
       "_view_count": null,
       "_view_module": "@jupyter-widgets/base",
       "_view_module_version": "1.2.0",
       "_view_name": "LayoutView",
       "align_content": null,
       "align_items": null,
       "align_self": null,
       "border": null,
       "bottom": null,
       "display": null,
       "flex": null,
       "flex_flow": null,
       "grid_area": null,
       "grid_auto_columns": null,
       "grid_auto_flow": null,
       "grid_auto_rows": null,
       "grid_column": null,
       "grid_gap": null,
       "grid_row": null,
       "grid_template_areas": null,
       "grid_template_columns": null,
       "grid_template_rows": null,
       "height": null,
       "justify_content": null,
       "justify_items": null,
       "left": null,
       "margin": null,
       "max_height": null,
       "max_width": null,
       "min_height": null,
       "min_width": null,
       "object_fit": null,
       "object_position": null,
       "order": null,
       "overflow": null,
       "overflow_x": null,
       "overflow_y": null,
       "padding": null,
       "right": null,
       "top": null,
       "visibility": null,
       "width": null
      }
     },
     "171202ddceb6486998a0e20d01b2068c": {
      "model_module": "@jupyter-widgets/controls",
      "model_module_version": "1.5.0",
      "model_name": "HTMLModel",
      "state": {
       "_dom_classes": [],
       "_model_module": "@jupyter-widgets/controls",
       "_model_module_version": "1.5.0",
       "_model_name": "HTMLModel",
       "_view_count": null,
       "_view_module": "@jupyter-widgets/controls",
       "_view_module_version": "1.5.0",
       "_view_name": "HTMLView",
       "description": "",
       "description_tooltip": null,
       "layout": "IPY_MODEL_16fa6930fea444d3b5613a40a283f59a",
       "placeholder": "​",
       "style": "IPY_MODEL_ad1cd6e58da44fbf90a2db4bfb5e8e42",
       "value": "tokenizer_config.json: 100%"
      }
     },
     "1aa03fc51b2d46a9a7c0f63b6c63b4f1": {
      "model_module": "@jupyter-widgets/controls",
      "model_module_version": "1.5.0",
      "model_name": "FloatProgressModel",
      "state": {
       "_dom_classes": [],
       "_model_module": "@jupyter-widgets/controls",
       "_model_module_version": "1.5.0",
       "_model_name": "FloatProgressModel",
       "_view_count": null,
       "_view_module": "@jupyter-widgets/controls",
       "_view_module_version": "1.5.0",
       "_view_name": "ProgressView",
       "bar_style": "success",
       "description": "",
       "description_tooltip": null,
       "layout": "IPY_MODEL_930a80b64f494e2bb469e3391ce23a52",
       "max": 541320452.0,
       "min": 0.0,
       "orientation": "horizontal",
       "style": "IPY_MODEL_824c71ef3b0e43c2b80fb0e7ea7ddbfe",
       "value": 541320452.0
      }
     },
     "1bdb10f22bab4d1ea96c4d8a5876642f": {
      "model_module": "@jupyter-widgets/controls",
      "model_module_version": "1.5.0",
      "model_name": "ProgressStyleModel",
      "state": {
       "_model_module": "@jupyter-widgets/controls",
       "_model_module_version": "1.5.0",
       "_model_name": "ProgressStyleModel",
       "_view_count": null,
       "_view_module": "@jupyter-widgets/base",
       "_view_module_version": "1.2.0",
       "_view_name": "StyleView",
       "bar_color": null,
       "description_width": ""
      }
     },
     "1f2c5970dd1444fdb8d70ca62ff6f129": {
      "model_module": "@jupyter-widgets/controls",
      "model_module_version": "1.5.0",
      "model_name": "HTMLModel",
      "state": {
       "_dom_classes": [],
       "_model_module": "@jupyter-widgets/controls",
       "_model_module_version": "1.5.0",
       "_model_name": "HTMLModel",
       "_view_count": null,
       "_view_module": "@jupyter-widgets/controls",
       "_view_module_version": "1.5.0",
       "_view_name": "HTMLView",
       "description": "",
       "description_tooltip": null,
       "layout": "IPY_MODEL_082cd228abad497a9d836ac6cf97aa96",
       "placeholder": "​",
       "style": "IPY_MODEL_7c9179ef623b43fc8a768537d8fe489d",
       "value": "config.json: 100%"
      }
     },
     "25d741109d75437f8076bd3fd057fee2": {
      "model_module": "@jupyter-widgets/controls",
      "model_module_version": "1.5.0",
      "model_name": "DescriptionStyleModel",
      "state": {
       "_model_module": "@jupyter-widgets/controls",
       "_model_module_version": "1.5.0",
       "_model_name": "DescriptionStyleModel",
       "_view_count": null,
       "_view_module": "@jupyter-widgets/base",
       "_view_module_version": "1.2.0",
       "_view_name": "StyleView",
       "description_width": ""
      }
     },
     "291951e429ff40d9b87f0cd75a7eacb5": {
      "model_module": "@jupyter-widgets/controls",
      "model_module_version": "1.5.0",
      "model_name": "DescriptionStyleModel",
      "state": {
       "_model_module": "@jupyter-widgets/controls",
       "_model_module_version": "1.5.0",
       "_model_name": "DescriptionStyleModel",
       "_view_count": null,
       "_view_module": "@jupyter-widgets/base",
       "_view_module_version": "1.2.0",
       "_view_name": "StyleView",
       "description_width": ""
      }
     },
     "296d3c79e9604f7096f81c5c23d2fec9": {
      "model_module": "@jupyter-widgets/base",
      "model_module_version": "1.2.0",
      "model_name": "LayoutModel",
      "state": {
       "_model_module": "@jupyter-widgets/base",
       "_model_module_version": "1.2.0",
       "_model_name": "LayoutModel",
       "_view_count": null,
       "_view_module": "@jupyter-widgets/base",
       "_view_module_version": "1.2.0",
       "_view_name": "LayoutView",
       "align_content": null,
       "align_items": null,
       "align_self": null,
       "border": null,
       "bottom": null,
       "display": null,
       "flex": null,
       "flex_flow": null,
       "grid_area": null,
       "grid_auto_columns": null,
       "grid_auto_flow": null,
       "grid_auto_rows": null,
       "grid_column": null,
       "grid_gap": null,
       "grid_row": null,
       "grid_template_areas": null,
       "grid_template_columns": null,
       "grid_template_rows": null,
       "height": null,
       "justify_content": null,
       "justify_items": null,
       "left": null,
       "margin": null,
       "max_height": null,
       "max_width": null,
       "min_height": null,
       "min_width": null,
       "object_fit": null,
       "object_position": null,
       "order": null,
       "overflow": null,
       "overflow_x": null,
       "overflow_y": null,
       "padding": null,
       "right": null,
       "top": null,
       "visibility": null,
       "width": null
      }
     },
     "2cd97239862b4d47bdbf01e148109901": {
      "model_module": "@jupyter-widgets/controls",
      "model_module_version": "1.5.0",
      "model_name": "DescriptionStyleModel",
      "state": {
       "_model_module": "@jupyter-widgets/controls",
       "_model_module_version": "1.5.0",
       "_model_name": "DescriptionStyleModel",
       "_view_count": null,
       "_view_module": "@jupyter-widgets/base",
       "_view_module_version": "1.2.0",
       "_view_name": "StyleView",
       "description_width": ""
      }
     },
     "36a9f1aa7a6b43438348460feb688afb": {
      "model_module": "@jupyter-widgets/base",
      "model_module_version": "1.2.0",
      "model_name": "LayoutModel",
      "state": {
       "_model_module": "@jupyter-widgets/base",
       "_model_module_version": "1.2.0",
       "_model_name": "LayoutModel",
       "_view_count": null,
       "_view_module": "@jupyter-widgets/base",
       "_view_module_version": "1.2.0",
       "_view_name": "LayoutView",
       "align_content": null,
       "align_items": null,
       "align_self": null,
       "border": null,
       "bottom": null,
       "display": null,
       "flex": null,
       "flex_flow": null,
       "grid_area": null,
       "grid_auto_columns": null,
       "grid_auto_flow": null,
       "grid_auto_rows": null,
       "grid_column": null,
       "grid_gap": null,
       "grid_row": null,
       "grid_template_areas": null,
       "grid_template_columns": null,
       "grid_template_rows": null,
       "height": null,
       "justify_content": null,
       "justify_items": null,
       "left": null,
       "margin": null,
       "max_height": null,
       "max_width": null,
       "min_height": null,
       "min_width": null,
       "object_fit": null,
       "object_position": null,
       "order": null,
       "overflow": null,
       "overflow_x": null,
       "overflow_y": null,
       "padding": null,
       "right": null,
       "top": null,
       "visibility": null,
       "width": null
      }
     },
     "376d73b21c654b85aa28e260efeb81ef": {
      "model_module": "@jupyter-widgets/controls",
      "model_module_version": "1.5.0",
      "model_name": "FloatProgressModel",
      "state": {
       "_dom_classes": [],
       "_model_module": "@jupyter-widgets/controls",
       "_model_module_version": "1.5.0",
       "_model_name": "FloatProgressModel",
       "_view_count": null,
       "_view_module": "@jupyter-widgets/controls",
       "_view_module_version": "1.5.0",
       "_view_name": "ProgressView",
       "bar_style": "success",
       "description": "",
       "description_tooltip": null,
       "layout": "IPY_MODEL_dca35b4a81824cef879b81729a35017f",
       "max": 125.0,
       "min": 0.0,
       "orientation": "horizontal",
       "style": "IPY_MODEL_ace0ebe3a28f41bc953952937ea0b1aa",
       "value": 125.0
      }
     },
     "3eca0de5aeb845f4b6edbde222ad0fde": {
      "model_module": "@jupyter-widgets/controls",
      "model_module_version": "1.5.0",
      "model_name": "ProgressStyleModel",
      "state": {
       "_model_module": "@jupyter-widgets/controls",
       "_model_module_version": "1.5.0",
       "_model_name": "ProgressStyleModel",
       "_view_count": null,
       "_view_module": "@jupyter-widgets/base",
       "_view_module_version": "1.2.0",
       "_view_name": "StyleView",
       "bar_color": null,
       "description_width": ""
      }
     },
     "3fbdccd757764bd2b599d61115a1104f": {
      "model_module": "@jupyter-widgets/base",
      "model_module_version": "1.2.0",
      "model_name": "LayoutModel",
      "state": {
       "_model_module": "@jupyter-widgets/base",
       "_model_module_version": "1.2.0",
       "_model_name": "LayoutModel",
       "_view_count": null,
       "_view_module": "@jupyter-widgets/base",
       "_view_module_version": "1.2.0",
       "_view_name": "LayoutView",
       "align_content": null,
       "align_items": null,
       "align_self": null,
       "border": null,
       "bottom": null,
       "display": null,
       "flex": null,
       "flex_flow": null,
       "grid_area": null,
       "grid_auto_columns": null,
       "grid_auto_flow": null,
       "grid_auto_rows": null,
       "grid_column": null,
       "grid_gap": null,
       "grid_row": null,
       "grid_template_areas": null,
       "grid_template_columns": null,
       "grid_template_rows": null,
       "height": null,
       "justify_content": null,
       "justify_items": null,
       "left": null,
       "margin": null,
       "max_height": null,
       "max_width": null,
       "min_height": null,
       "min_width": null,
       "object_fit": null,
       "object_position": null,
       "order": null,
       "overflow": null,
       "overflow_x": null,
       "overflow_y": null,
       "padding": null,
       "right": null,
       "top": null,
       "visibility": null,
       "width": null
      }
     },
     "41448b75e6e5409aa0bbd170ace96ade": {
      "model_module": "@jupyter-widgets/base",
      "model_module_version": "1.2.0",
      "model_name": "LayoutModel",
      "state": {
       "_model_module": "@jupyter-widgets/base",
       "_model_module_version": "1.2.0",
       "_model_name": "LayoutModel",
       "_view_count": null,
       "_view_module": "@jupyter-widgets/base",
       "_view_module_version": "1.2.0",
       "_view_name": "LayoutView",
       "align_content": null,
       "align_items": null,
       "align_self": null,
       "border": null,
       "bottom": null,
       "display": null,
       "flex": null,
       "flex_flow": null,
       "grid_area": null,
       "grid_auto_columns": null,
       "grid_auto_flow": null,
       "grid_auto_rows": null,
       "grid_column": null,
       "grid_gap": null,
       "grid_row": null,
       "grid_template_areas": null,
       "grid_template_columns": null,
       "grid_template_rows": null,
       "height": null,
       "justify_content": null,
       "justify_items": null,
       "left": null,
       "margin": null,
       "max_height": null,
       "max_width": null,
       "min_height": null,
       "min_width": null,
       "object_fit": null,
       "object_position": null,
       "order": null,
       "overflow": null,
       "overflow_x": null,
       "overflow_y": null,
       "padding": null,
       "right": null,
       "top": null,
       "visibility": null,
       "width": null
      }
     },
     "47231d65b7fe44eaa5815896b841778b": {
      "model_module": "@jupyter-widgets/controls",
      "model_module_version": "1.5.0",
      "model_name": "DescriptionStyleModel",
      "state": {
       "_model_module": "@jupyter-widgets/controls",
       "_model_module_version": "1.5.0",
       "_model_name": "DescriptionStyleModel",
       "_view_count": null,
       "_view_module": "@jupyter-widgets/base",
       "_view_module_version": "1.2.0",
       "_view_name": "StyleView",
       "description_width": ""
      }
     },
     "50b95a963d304618bed57139b41f311c": {
      "model_module": "@jupyter-widgets/base",
      "model_module_version": "1.2.0",
      "model_name": "LayoutModel",
      "state": {
       "_model_module": "@jupyter-widgets/base",
       "_model_module_version": "1.2.0",
       "_model_name": "LayoutModel",
       "_view_count": null,
       "_view_module": "@jupyter-widgets/base",
       "_view_module_version": "1.2.0",
       "_view_name": "LayoutView",
       "align_content": null,
       "align_items": null,
       "align_self": null,
       "border": null,
       "bottom": null,
       "display": null,
       "flex": null,
       "flex_flow": null,
       "grid_area": null,
       "grid_auto_columns": null,
       "grid_auto_flow": null,
       "grid_auto_rows": null,
       "grid_column": null,
       "grid_gap": null,
       "grid_row": null,
       "grid_template_areas": null,
       "grid_template_columns": null,
       "grid_template_rows": null,
       "height": null,
       "justify_content": null,
       "justify_items": null,
       "left": null,
       "margin": null,
       "max_height": null,
       "max_width": null,
       "min_height": null,
       "min_width": null,
       "object_fit": null,
       "object_position": null,
       "order": null,
       "overflow": null,
       "overflow_x": null,
       "overflow_y": null,
       "padding": null,
       "right": null,
       "top": null,
       "visibility": null,
       "width": null
      }
     },
     "5621ecaa66a54bc897015e00387b2ca6": {
      "model_module": "@jupyter-widgets/controls",
      "model_module_version": "1.5.0",
      "model_name": "HBoxModel",
      "state": {
       "_dom_classes": [],
       "_model_module": "@jupyter-widgets/controls",
       "_model_module_version": "1.5.0",
       "_model_name": "HBoxModel",
       "_view_count": null,
       "_view_module": "@jupyter-widgets/controls",
       "_view_module_version": "1.5.0",
       "_view_name": "HBoxView",
       "box_style": "",
       "children": [
        "IPY_MODEL_1f2c5970dd1444fdb8d70ca62ff6f129",
        "IPY_MODEL_b5c525055b7948238b227947b5e64acf",
        "IPY_MODEL_0c7997d8ca4947d1b798a1946eff3b51"
       ],
       "layout": "IPY_MODEL_5ff5d6dac3124f978d756628010e9079"
      }
     },
     "5ff5d6dac3124f978d756628010e9079": {
      "model_module": "@jupyter-widgets/base",
      "model_module_version": "1.2.0",
      "model_name": "LayoutModel",
      "state": {
       "_model_module": "@jupyter-widgets/base",
       "_model_module_version": "1.2.0",
       "_model_name": "LayoutModel",
       "_view_count": null,
       "_view_module": "@jupyter-widgets/base",
       "_view_module_version": "1.2.0",
       "_view_name": "LayoutView",
       "align_content": null,
       "align_items": null,
       "align_self": null,
       "border": null,
       "bottom": null,
       "display": null,
       "flex": null,
       "flex_flow": null,
       "grid_area": null,
       "grid_auto_columns": null,
       "grid_auto_flow": null,
       "grid_auto_rows": null,
       "grid_column": null,
       "grid_gap": null,
       "grid_row": null,
       "grid_template_areas": null,
       "grid_template_columns": null,
       "grid_template_rows": null,
       "height": null,
       "justify_content": null,
       "justify_items": null,
       "left": null,
       "margin": null,
       "max_height": null,
       "max_width": null,
       "min_height": null,
       "min_width": null,
       "object_fit": null,
       "object_position": null,
       "order": null,
       "overflow": null,
       "overflow_x": null,
       "overflow_y": null,
       "padding": null,
       "right": null,
       "top": null,
       "visibility": null,
       "width": null
      }
     },
     "6788b2cb46644d85bb80d67b9055295a": {
      "model_module": "@jupyter-widgets/controls",
      "model_module_version": "1.5.0",
      "model_name": "HBoxModel",
      "state": {
       "_dom_classes": [],
       "_model_module": "@jupyter-widgets/controls",
       "_model_module_version": "1.5.0",
       "_model_name": "HBoxModel",
       "_view_count": null,
       "_view_module": "@jupyter-widgets/controls",
       "_view_module_version": "1.5.0",
       "_view_name": "HBoxView",
       "box_style": "",
       "children": [
        "IPY_MODEL_171202ddceb6486998a0e20d01b2068c",
        "IPY_MODEL_e9c61b857b5e4be999476c521a10a24f",
        "IPY_MODEL_984b1f72ac6c409eb426ef3dbae1fa21"
       ],
       "layout": "IPY_MODEL_c71bc965324547998ccbb6147a1c3e03"
      }
     },
     "6bc5074b850e47318fe4089c0f045e66": {
      "model_module": "@jupyter-widgets/controls",
      "model_module_version": "1.5.0",
      "model_name": "DescriptionStyleModel",
      "state": {
       "_model_module": "@jupyter-widgets/controls",
       "_model_module_version": "1.5.0",
       "_model_name": "DescriptionStyleModel",
       "_view_count": null,
       "_view_module": "@jupyter-widgets/base",
       "_view_module_version": "1.2.0",
       "_view_name": "StyleView",
       "description_width": ""
      }
     },
     "6d899a7b08994c9ebef78b29bc137853": {
      "model_module": "@jupyter-widgets/controls",
      "model_module_version": "1.5.0",
      "model_name": "DescriptionStyleModel",
      "state": {
       "_model_module": "@jupyter-widgets/controls",
       "_model_module_version": "1.5.0",
       "_model_name": "DescriptionStyleModel",
       "_view_count": null,
       "_view_module": "@jupyter-widgets/base",
       "_view_module_version": "1.2.0",
       "_view_name": "StyleView",
       "description_width": ""
      }
     },
     "703f022111824e5f96024fb8494b7cdb": {
      "model_module": "@jupyter-widgets/controls",
      "model_module_version": "1.5.0",
      "model_name": "DescriptionStyleModel",
      "state": {
       "_model_module": "@jupyter-widgets/controls",
       "_model_module_version": "1.5.0",
       "_model_name": "DescriptionStyleModel",
       "_view_count": null,
       "_view_module": "@jupyter-widgets/base",
       "_view_module_version": "1.2.0",
       "_view_name": "StyleView",
       "description_width": ""
      }
     },
     "7c064e697e1940ac96481b347cc95c71": {
      "model_module": "@jupyter-widgets/base",
      "model_module_version": "1.2.0",
      "model_name": "LayoutModel",
      "state": {
       "_model_module": "@jupyter-widgets/base",
       "_model_module_version": "1.2.0",
       "_model_name": "LayoutModel",
       "_view_count": null,
       "_view_module": "@jupyter-widgets/base",
       "_view_module_version": "1.2.0",
       "_view_name": "LayoutView",
       "align_content": null,
       "align_items": null,
       "align_self": null,
       "border": null,
       "bottom": null,
       "display": null,
       "flex": null,
       "flex_flow": null,
       "grid_area": null,
       "grid_auto_columns": null,
       "grid_auto_flow": null,
       "grid_auto_rows": null,
       "grid_column": null,
       "grid_gap": null,
       "grid_row": null,
       "grid_template_areas": null,
       "grid_template_columns": null,
       "grid_template_rows": null,
       "height": null,
       "justify_content": null,
       "justify_items": null,
       "left": null,
       "margin": null,
       "max_height": null,
       "max_width": null,
       "min_height": null,
       "min_width": null,
       "object_fit": null,
       "object_position": null,
       "order": null,
       "overflow": null,
       "overflow_x": null,
       "overflow_y": null,
       "padding": null,
       "right": null,
       "top": null,
       "visibility": null,
       "width": null
      }
     },
     "7c9179ef623b43fc8a768537d8fe489d": {
      "model_module": "@jupyter-widgets/controls",
      "model_module_version": "1.5.0",
      "model_name": "DescriptionStyleModel",
      "state": {
       "_model_module": "@jupyter-widgets/controls",
       "_model_module_version": "1.5.0",
       "_model_name": "DescriptionStyleModel",
       "_view_count": null,
       "_view_module": "@jupyter-widgets/base",
       "_view_module_version": "1.2.0",
       "_view_name": "StyleView",
       "description_width": ""
      }
     },
     "7dd4820319c34f5ab15632622fb86004": {
      "model_module": "@jupyter-widgets/base",
      "model_module_version": "1.2.0",
      "model_name": "LayoutModel",
      "state": {
       "_model_module": "@jupyter-widgets/base",
       "_model_module_version": "1.2.0",
       "_model_name": "LayoutModel",
       "_view_count": null,
       "_view_module": "@jupyter-widgets/base",
       "_view_module_version": "1.2.0",
       "_view_name": "LayoutView",
       "align_content": null,
       "align_items": null,
       "align_self": null,
       "border": null,
       "bottom": null,
       "display": null,
       "flex": null,
       "flex_flow": null,
       "grid_area": null,
       "grid_auto_columns": null,
       "grid_auto_flow": null,
       "grid_auto_rows": null,
       "grid_column": null,
       "grid_gap": null,
       "grid_row": null,
       "grid_template_areas": null,
       "grid_template_columns": null,
       "grid_template_rows": null,
       "height": null,
       "justify_content": null,
       "justify_items": null,
       "left": null,
       "margin": null,
       "max_height": null,
       "max_width": null,
       "min_height": null,
       "min_width": null,
       "object_fit": null,
       "object_position": null,
       "order": null,
       "overflow": null,
       "overflow_x": null,
       "overflow_y": null,
       "padding": null,
       "right": null,
       "top": null,
       "visibility": null,
       "width": null
      }
     },
     "8098cecbdc744b879c36ee423f97d369": {
      "model_module": "@jupyter-widgets/base",
      "model_module_version": "1.2.0",
      "model_name": "LayoutModel",
      "state": {
       "_model_module": "@jupyter-widgets/base",
       "_model_module_version": "1.2.0",
       "_model_name": "LayoutModel",
       "_view_count": null,
       "_view_module": "@jupyter-widgets/base",
       "_view_module_version": "1.2.0",
       "_view_name": "LayoutView",
       "align_content": null,
       "align_items": null,
       "align_self": null,
       "border": null,
       "bottom": null,
       "display": null,
       "flex": null,
       "flex_flow": null,
       "grid_area": null,
       "grid_auto_columns": null,
       "grid_auto_flow": null,
       "grid_auto_rows": null,
       "grid_column": null,
       "grid_gap": null,
       "grid_row": null,
       "grid_template_areas": null,
       "grid_template_columns": null,
       "grid_template_rows": null,
       "height": null,
       "justify_content": null,
       "justify_items": null,
       "left": null,
       "margin": null,
       "max_height": null,
       "max_width": null,
       "min_height": null,
       "min_width": null,
       "object_fit": null,
       "object_position": null,
       "order": null,
       "overflow": null,
       "overflow_x": null,
       "overflow_y": null,
       "padding": null,
       "right": null,
       "top": null,
       "visibility": null,
       "width": null
      }
     },
     "80ddbb6a1ee946b8b2c228420ebaf485": {
      "model_module": "@jupyter-widgets/controls",
      "model_module_version": "1.5.0",
      "model_name": "HBoxModel",
      "state": {
       "_dom_classes": [],
       "_model_module": "@jupyter-widgets/controls",
       "_model_module_version": "1.5.0",
       "_model_name": "HBoxModel",
       "_view_count": null,
       "_view_module": "@jupyter-widgets/controls",
       "_view_module_version": "1.5.0",
       "_view_name": "HBoxView",
       "box_style": "",
       "children": [
        "IPY_MODEL_e4bd522a95f24244a10ebacd8d34747d",
        "IPY_MODEL_1aa03fc51b2d46a9a7c0f63b6c63b4f1",
        "IPY_MODEL_9ee80bebb4bc454aa5c441be7a829a59"
       ],
       "layout": "IPY_MODEL_1180bf41990445e99c8e500b2a566327"
      }
     },
     "824c71ef3b0e43c2b80fb0e7ea7ddbfe": {
      "model_module": "@jupyter-widgets/controls",
      "model_module_version": "1.5.0",
      "model_name": "ProgressStyleModel",
      "state": {
       "_model_module": "@jupyter-widgets/controls",
       "_model_module_version": "1.5.0",
       "_model_name": "ProgressStyleModel",
       "_view_count": null,
       "_view_module": "@jupyter-widgets/base",
       "_view_module_version": "1.2.0",
       "_view_name": "StyleView",
       "bar_color": null,
       "description_width": ""
      }
     },
     "84eebf1e2db34fe4bff6d19cb3ee521a": {
      "model_module": "@jupyter-widgets/controls",
      "model_module_version": "1.5.0",
      "model_name": "HBoxModel",
      "state": {
       "_dom_classes": [],
       "_model_module": "@jupyter-widgets/controls",
       "_model_module_version": "1.5.0",
       "_model_name": "HBoxModel",
       "_view_count": null,
       "_view_module": "@jupyter-widgets/controls",
       "_view_module_version": "1.5.0",
       "_view_name": "HBoxView",
       "box_style": "",
       "children": [
        "IPY_MODEL_af9a89a48ea94b188fafbc728815c8ac",
        "IPY_MODEL_93b9da2b862d41b191fbedbef8d0fadd",
        "IPY_MODEL_a48417ebeca5480dbf4c09ba233d46ad"
       ],
       "layout": "IPY_MODEL_7c064e697e1940ac96481b347cc95c71"
      }
     },
     "89a39016ebea407bbe018a6496b2565d": {
      "model_module": "@jupyter-widgets/base",
      "model_module_version": "1.2.0",
      "model_name": "LayoutModel",
      "state": {
       "_model_module": "@jupyter-widgets/base",
       "_model_module_version": "1.2.0",
       "_model_name": "LayoutModel",
       "_view_count": null,
       "_view_module": "@jupyter-widgets/base",
       "_view_module_version": "1.2.0",
       "_view_name": "LayoutView",
       "align_content": null,
       "align_items": null,
       "align_self": null,
       "border": null,
       "bottom": null,
       "display": null,
       "flex": null,
       "flex_flow": null,
       "grid_area": null,
       "grid_auto_columns": null,
       "grid_auto_flow": null,
       "grid_auto_rows": null,
       "grid_column": null,
       "grid_gap": null,
       "grid_row": null,
       "grid_template_areas": null,
       "grid_template_columns": null,
       "grid_template_rows": null,
       "height": null,
       "justify_content": null,
       "justify_items": null,
       "left": null,
       "margin": null,
       "max_height": null,
       "max_width": null,
       "min_height": null,
       "min_width": null,
       "object_fit": null,
       "object_position": null,
       "order": null,
       "overflow": null,
       "overflow_x": null,
       "overflow_y": null,
       "padding": null,
       "right": null,
       "top": null,
       "visibility": null,
       "width": null
      }
     },
     "8a51fc60c65c435ba8a526b5a6b7d466": {
      "model_module": "@jupyter-widgets/base",
      "model_module_version": "1.2.0",
      "model_name": "LayoutModel",
      "state": {
       "_model_module": "@jupyter-widgets/base",
       "_model_module_version": "1.2.0",
       "_model_name": "LayoutModel",
       "_view_count": null,
       "_view_module": "@jupyter-widgets/base",
       "_view_module_version": "1.2.0",
       "_view_name": "LayoutView",
       "align_content": null,
       "align_items": null,
       "align_self": null,
       "border": null,
       "bottom": null,
       "display": null,
       "flex": null,
       "flex_flow": null,
       "grid_area": null,
       "grid_auto_columns": null,
       "grid_auto_flow": null,
       "grid_auto_rows": null,
       "grid_column": null,
       "grid_gap": null,
       "grid_row": null,
       "grid_template_areas": null,
       "grid_template_columns": null,
       "grid_template_rows": null,
       "height": null,
       "justify_content": null,
       "justify_items": null,
       "left": null,
       "margin": null,
       "max_height": null,
       "max_width": null,
       "min_height": null,
       "min_width": null,
       "object_fit": null,
       "object_position": null,
       "order": null,
       "overflow": null,
       "overflow_x": null,
       "overflow_y": null,
       "padding": null,
       "right": null,
       "top": null,
       "visibility": null,
       "width": null
      }
     },
     "930a80b64f494e2bb469e3391ce23a52": {
      "model_module": "@jupyter-widgets/base",
      "model_module_version": "1.2.0",
      "model_name": "LayoutModel",
      "state": {
       "_model_module": "@jupyter-widgets/base",
       "_model_module_version": "1.2.0",
       "_model_name": "LayoutModel",
       "_view_count": null,
       "_view_module": "@jupyter-widgets/base",
       "_view_module_version": "1.2.0",
       "_view_name": "LayoutView",
       "align_content": null,
       "align_items": null,
       "align_self": null,
       "border": null,
       "bottom": null,
       "display": null,
       "flex": null,
       "flex_flow": null,
       "grid_area": null,
       "grid_auto_columns": null,
       "grid_auto_flow": null,
       "grid_auto_rows": null,
       "grid_column": null,
       "grid_gap": null,
       "grid_row": null,
       "grid_template_areas": null,
       "grid_template_columns": null,
       "grid_template_rows": null,
       "height": null,
       "justify_content": null,
       "justify_items": null,
       "left": null,
       "margin": null,
       "max_height": null,
       "max_width": null,
       "min_height": null,
       "min_width": null,
       "object_fit": null,
       "object_position": null,
       "order": null,
       "overflow": null,
       "overflow_x": null,
       "overflow_y": null,
       "padding": null,
       "right": null,
       "top": null,
       "visibility": null,
       "width": null
      }
     },
     "93b9da2b862d41b191fbedbef8d0fadd": {
      "model_module": "@jupyter-widgets/controls",
      "model_module_version": "1.5.0",
      "model_name": "FloatProgressModel",
      "state": {
       "_dom_classes": [],
       "_model_module": "@jupyter-widgets/controls",
       "_model_module_version": "1.5.0",
       "_model_name": "FloatProgressModel",
       "_view_count": null,
       "_view_module": "@jupyter-widgets/controls",
       "_view_module_version": "1.5.0",
       "_view_name": "ProgressView",
       "bar_style": "success",
       "description": "",
       "description_tooltip": null,
       "layout": "IPY_MODEL_41448b75e6e5409aa0bbd170ace96ade",
       "max": 2919615.0,
       "min": 0.0,
       "orientation": "horizontal",
       "style": "IPY_MODEL_1bdb10f22bab4d1ea96c4d8a5876642f",
       "value": 2919615.0
      }
     },
     "984b1f72ac6c409eb426ef3dbae1fa21": {
      "model_module": "@jupyter-widgets/controls",
      "model_module_version": "1.5.0",
      "model_name": "HTMLModel",
      "state": {
       "_dom_classes": [],
       "_model_module": "@jupyter-widgets/controls",
       "_model_module_version": "1.5.0",
       "_model_name": "HTMLModel",
       "_view_count": null,
       "_view_module": "@jupyter-widgets/controls",
       "_view_module_version": "1.5.0",
       "_view_name": "HTMLView",
       "description": "",
       "description_tooltip": null,
       "layout": "IPY_MODEL_7dd4820319c34f5ab15632622fb86004",
       "placeholder": "​",
       "style": "IPY_MODEL_25d741109d75437f8076bd3fd057fee2",
       "value": " 373/373 [00:00&lt;00:00, 33.3kB/s]"
      }
     },
     "9ee80bebb4bc454aa5c441be7a829a59": {
      "model_module": "@jupyter-widgets/controls",
      "model_module_version": "1.5.0",
      "model_name": "HTMLModel",
      "state": {
       "_dom_classes": [],
       "_model_module": "@jupyter-widgets/controls",
       "_model_module_version": "1.5.0",
       "_model_name": "HTMLModel",
       "_view_count": null,
       "_view_module": "@jupyter-widgets/controls",
       "_view_module_version": "1.5.0",
       "_view_name": "HTMLView",
       "description": "",
       "description_tooltip": null,
       "layout": "IPY_MODEL_a5e1085d24aa4df6997f96173fa21f56",
       "placeholder": "​",
       "style": "IPY_MODEL_e561eee950bf4e15a56c49765f4d3370",
       "value": " 541M/541M [00:02&lt;00:00, 210MB/s]"
      }
     },
     "a09bf089793d453396445cc774d51e01": {
      "model_module": "@jupyter-widgets/controls",
      "model_module_version": "1.5.0",
      "model_name": "FloatProgressModel",
      "state": {
       "_dom_classes": [],
       "_model_module": "@jupyter-widgets/controls",
       "_model_module_version": "1.5.0",
       "_model_name": "FloatProgressModel",
       "_view_count": null,
       "_view_module": "@jupyter-widgets/controls",
       "_view_module_version": "1.5.0",
       "_view_name": "ProgressView",
       "bar_style": "success",
       "description": "",
       "description_tooltip": null,
       "layout": "IPY_MODEL_b846e8f65b924d9b89cfef6e78c44ec0",
       "max": 995526.0,
       "min": 0.0,
       "orientation": "horizontal",
       "style": "IPY_MODEL_f3a75041e73f4531a12cf9416e8c27d2",
       "value": 995526.0
      }
     },
     "a23ae033fb7b454b8400baf4cce0646c": {
      "model_module": "@jupyter-widgets/controls",
      "model_module_version": "1.5.0",
      "model_name": "HBoxModel",
      "state": {
       "_dom_classes": [],
       "_model_module": "@jupyter-widgets/controls",
       "_model_module_version": "1.5.0",
       "_model_name": "HBoxModel",
       "_view_count": null,
       "_view_module": "@jupyter-widgets/controls",
       "_view_module_version": "1.5.0",
       "_view_name": "HBoxView",
       "box_style": "",
       "children": [
        "IPY_MODEL_cc3c3cab570b4c29a39842d6e14fa700",
        "IPY_MODEL_a09bf089793d453396445cc774d51e01",
        "IPY_MODEL_c0abeeb9c1224cae9d9313b12aafb9c3"
       ],
       "layout": "IPY_MODEL_cbc859b2054341b4bb67c6dc88adafda"
      }
     },
     "a48417ebeca5480dbf4c09ba233d46ad": {
      "model_module": "@jupyter-widgets/controls",
      "model_module_version": "1.5.0",
      "model_name": "HTMLModel",
      "state": {
       "_dom_classes": [],
       "_model_module": "@jupyter-widgets/controls",
       "_model_module_version": "1.5.0",
       "_model_name": "HTMLModel",
       "_view_count": null,
       "_view_module": "@jupyter-widgets/controls",
       "_view_module_version": "1.5.0",
       "_view_name": "HTMLView",
       "description": "",
       "description_tooltip": null,
       "layout": "IPY_MODEL_50b95a963d304618bed57139b41f311c",
       "placeholder": "​",
       "style": "IPY_MODEL_6d899a7b08994c9ebef78b29bc137853",
       "value": " 2.92M/2.92M [00:00&lt;00:00, 24.3MB/s]"
      }
     },
     "a4ce4b60bb3246c49c66fc1f3b707742": {
      "model_module": "@jupyter-widgets/base",
      "model_module_version": "1.2.0",
      "model_name": "LayoutModel",
      "state": {
       "_model_module": "@jupyter-widgets/base",
       "_model_module_version": "1.2.0",
       "_model_name": "LayoutModel",
       "_view_count": null,
       "_view_module": "@jupyter-widgets/base",
       "_view_module_version": "1.2.0",
       "_view_name": "LayoutView",
       "align_content": null,
       "align_items": null,
       "align_self": null,
       "border": null,
       "bottom": null,
       "display": null,
       "flex": null,
       "flex_flow": null,
       "grid_area": null,
       "grid_auto_columns": null,
       "grid_auto_flow": null,
       "grid_auto_rows": null,
       "grid_column": null,
       "grid_gap": null,
       "grid_row": null,
       "grid_template_areas": null,
       "grid_template_columns": null,
       "grid_template_rows": null,
       "height": null,
       "justify_content": null,
       "justify_items": null,
       "left": null,
       "margin": null,
       "max_height": null,
       "max_width": null,
       "min_height": null,
       "min_width": null,
       "object_fit": null,
       "object_position": null,
       "order": null,
       "overflow": null,
       "overflow_x": null,
       "overflow_y": null,
       "padding": null,
       "right": null,
       "top": null,
       "visibility": null,
       "width": null
      }
     },
     "a5e1085d24aa4df6997f96173fa21f56": {
      "model_module": "@jupyter-widgets/base",
      "model_module_version": "1.2.0",
      "model_name": "LayoutModel",
      "state": {
       "_model_module": "@jupyter-widgets/base",
       "_model_module_version": "1.2.0",
       "_model_name": "LayoutModel",
       "_view_count": null,
       "_view_module": "@jupyter-widgets/base",
       "_view_module_version": "1.2.0",
       "_view_name": "LayoutView",
       "align_content": null,
       "align_items": null,
       "align_self": null,
       "border": null,
       "bottom": null,
       "display": null,
       "flex": null,
       "flex_flow": null,
       "grid_area": null,
       "grid_auto_columns": null,
       "grid_auto_flow": null,
       "grid_auto_rows": null,
       "grid_column": null,
       "grid_gap": null,
       "grid_row": null,
       "grid_template_areas": null,
       "grid_template_columns": null,
       "grid_template_rows": null,
       "height": null,
       "justify_content": null,
       "justify_items": null,
       "left": null,
       "margin": null,
       "max_height": null,
       "max_width": null,
       "min_height": null,
       "min_width": null,
       "object_fit": null,
       "object_position": null,
       "order": null,
       "overflow": null,
       "overflow_x": null,
       "overflow_y": null,
       "padding": null,
       "right": null,
       "top": null,
       "visibility": null,
       "width": null
      }
     },
     "ace0ebe3a28f41bc953952937ea0b1aa": {
      "model_module": "@jupyter-widgets/controls",
      "model_module_version": "1.5.0",
      "model_name": "ProgressStyleModel",
      "state": {
       "_model_module": "@jupyter-widgets/controls",
       "_model_module_version": "1.5.0",
       "_model_name": "ProgressStyleModel",
       "_view_count": null,
       "_view_module": "@jupyter-widgets/base",
       "_view_module_version": "1.2.0",
       "_view_name": "StyleView",
       "bar_color": null,
       "description_width": ""
      }
     },
     "ad1cd6e58da44fbf90a2db4bfb5e8e42": {
      "model_module": "@jupyter-widgets/controls",
      "model_module_version": "1.5.0",
      "model_name": "DescriptionStyleModel",
      "state": {
       "_model_module": "@jupyter-widgets/controls",
       "_model_module_version": "1.5.0",
       "_model_name": "DescriptionStyleModel",
       "_view_count": null,
       "_view_module": "@jupyter-widgets/base",
       "_view_module_version": "1.2.0",
       "_view_name": "StyleView",
       "description_width": ""
      }
     },
     "af9a89a48ea94b188fafbc728815c8ac": {
      "model_module": "@jupyter-widgets/controls",
      "model_module_version": "1.5.0",
      "model_name": "HTMLModel",
      "state": {
       "_dom_classes": [],
       "_model_module": "@jupyter-widgets/controls",
       "_model_module_version": "1.5.0",
       "_model_name": "HTMLModel",
       "_view_count": null,
       "_view_module": "@jupyter-widgets/controls",
       "_view_module_version": "1.5.0",
       "_view_name": "HTMLView",
       "description": "",
       "description_tooltip": null,
       "layout": "IPY_MODEL_f403056a2c8744479632b5e9a607632b",
       "placeholder": "​",
       "style": "IPY_MODEL_6bc5074b850e47318fe4089c0f045e66",
       "value": "tokenizer.json: 100%"
      }
     },
     "b5c525055b7948238b227947b5e64acf": {
      "model_module": "@jupyter-widgets/controls",
      "model_module_version": "1.5.0",
      "model_name": "FloatProgressModel",
      "state": {
       "_dom_classes": [],
       "_model_module": "@jupyter-widgets/controls",
       "_model_module_version": "1.5.0",
       "_model_name": "FloatProgressModel",
       "_view_count": null,
       "_view_module": "@jupyter-widgets/controls",
       "_view_module_version": "1.5.0",
       "_view_name": "ProgressView",
       "bar_style": "success",
       "description": "",
       "description_tooltip": null,
       "layout": "IPY_MODEL_8a51fc60c65c435ba8a526b5a6b7d466",
       "max": 759.0,
       "min": 0.0,
       "orientation": "horizontal",
       "style": "IPY_MODEL_3eca0de5aeb845f4b6edbde222ad0fde",
       "value": 759.0
      }
     },
     "b846e8f65b924d9b89cfef6e78c44ec0": {
      "model_module": "@jupyter-widgets/base",
      "model_module_version": "1.2.0",
      "model_name": "LayoutModel",
      "state": {
       "_model_module": "@jupyter-widgets/base",
       "_model_module_version": "1.2.0",
       "_model_name": "LayoutModel",
       "_view_count": null,
       "_view_module": "@jupyter-widgets/base",
       "_view_module_version": "1.2.0",
       "_view_name": "LayoutView",
       "align_content": null,
       "align_items": null,
       "align_self": null,
       "border": null,
       "bottom": null,
       "display": null,
       "flex": null,
       "flex_flow": null,
       "grid_area": null,
       "grid_auto_columns": null,
       "grid_auto_flow": null,
       "grid_auto_rows": null,
       "grid_column": null,
       "grid_gap": null,
       "grid_row": null,
       "grid_template_areas": null,
       "grid_template_columns": null,
       "grid_template_rows": null,
       "height": null,
       "justify_content": null,
       "justify_items": null,
       "left": null,
       "margin": null,
       "max_height": null,
       "max_width": null,
       "min_height": null,
       "min_width": null,
       "object_fit": null,
       "object_position": null,
       "order": null,
       "overflow": null,
       "overflow_x": null,
       "overflow_y": null,
       "padding": null,
       "right": null,
       "top": null,
       "visibility": null,
       "width": null
      }
     },
     "b8f995965ac14b6391c75159e18ce39d": {
      "model_module": "@jupyter-widgets/controls",
      "model_module_version": "1.5.0",
      "model_name": "DescriptionStyleModel",
      "state": {
       "_model_module": "@jupyter-widgets/controls",
       "_model_module_version": "1.5.0",
       "_model_name": "DescriptionStyleModel",
       "_view_count": null,
       "_view_module": "@jupyter-widgets/base",
       "_view_module_version": "1.2.0",
       "_view_name": "StyleView",
       "description_width": ""
      }
     },
     "bc1bd4a06d284052820d08d2473369ca": {
      "model_module": "@jupyter-widgets/controls",
      "model_module_version": "1.5.0",
      "model_name": "ProgressStyleModel",
      "state": {
       "_model_module": "@jupyter-widgets/controls",
       "_model_module_version": "1.5.0",
       "_model_name": "ProgressStyleModel",
       "_view_count": null,
       "_view_module": "@jupyter-widgets/base",
       "_view_module_version": "1.2.0",
       "_view_name": "StyleView",
       "bar_color": null,
       "description_width": ""
      }
     },
     "c0abeeb9c1224cae9d9313b12aafb9c3": {
      "model_module": "@jupyter-widgets/controls",
      "model_module_version": "1.5.0",
      "model_name": "HTMLModel",
      "state": {
       "_dom_classes": [],
       "_model_module": "@jupyter-widgets/controls",
       "_model_module_version": "1.5.0",
       "_model_name": "HTMLModel",
       "_view_count": null,
       "_view_module": "@jupyter-widgets/controls",
       "_view_module_version": "1.5.0",
       "_view_name": "HTMLView",
       "description": "",
       "description_tooltip": null,
       "layout": "IPY_MODEL_296d3c79e9604f7096f81c5c23d2fec9",
       "placeholder": "​",
       "style": "IPY_MODEL_47231d65b7fe44eaa5815896b841778b",
       "value": " 996k/996k [00:00&lt;00:00, 3.92MB/s]"
      }
     },
     "c71bc965324547998ccbb6147a1c3e03": {
      "model_module": "@jupyter-widgets/base",
      "model_module_version": "1.2.0",
      "model_name": "LayoutModel",
      "state": {
       "_model_module": "@jupyter-widgets/base",
       "_model_module_version": "1.2.0",
       "_model_name": "LayoutModel",
       "_view_count": null,
       "_view_module": "@jupyter-widgets/base",
       "_view_module_version": "1.2.0",
       "_view_name": "LayoutView",
       "align_content": null,
       "align_items": null,
       "align_self": null,
       "border": null,
       "bottom": null,
       "display": null,
       "flex": null,
       "flex_flow": null,
       "grid_area": null,
       "grid_auto_columns": null,
       "grid_auto_flow": null,
       "grid_auto_rows": null,
       "grid_column": null,
       "grid_gap": null,
       "grid_row": null,
       "grid_template_areas": null,
       "grid_template_columns": null,
       "grid_template_rows": null,
       "height": null,
       "justify_content": null,
       "justify_items": null,
       "left": null,
       "margin": null,
       "max_height": null,
       "max_width": null,
       "min_height": null,
       "min_width": null,
       "object_fit": null,
       "object_position": null,
       "order": null,
       "overflow": null,
       "overflow_x": null,
       "overflow_y": null,
       "padding": null,
       "right": null,
       "top": null,
       "visibility": null,
       "width": null
      }
     },
     "cbc859b2054341b4bb67c6dc88adafda": {
      "model_module": "@jupyter-widgets/base",
      "model_module_version": "1.2.0",
      "model_name": "LayoutModel",
      "state": {
       "_model_module": "@jupyter-widgets/base",
       "_model_module_version": "1.2.0",
       "_model_name": "LayoutModel",
       "_view_count": null,
       "_view_module": "@jupyter-widgets/base",
       "_view_module_version": "1.2.0",
       "_view_name": "LayoutView",
       "align_content": null,
       "align_items": null,
       "align_self": null,
       "border": null,
       "bottom": null,
       "display": null,
       "flex": null,
       "flex_flow": null,
       "grid_area": null,
       "grid_auto_columns": null,
       "grid_auto_flow": null,
       "grid_auto_rows": null,
       "grid_column": null,
       "grid_gap": null,
       "grid_row": null,
       "grid_template_areas": null,
       "grid_template_columns": null,
       "grid_template_rows": null,
       "height": null,
       "justify_content": null,
       "justify_items": null,
       "left": null,
       "margin": null,
       "max_height": null,
       "max_width": null,
       "min_height": null,
       "min_width": null,
       "object_fit": null,
       "object_position": null,
       "order": null,
       "overflow": null,
       "overflow_x": null,
       "overflow_y": null,
       "padding": null,
       "right": null,
       "top": null,
       "visibility": null,
       "width": null
      }
     },
     "cc3c3cab570b4c29a39842d6e14fa700": {
      "model_module": "@jupyter-widgets/controls",
      "model_module_version": "1.5.0",
      "model_name": "HTMLModel",
      "state": {
       "_dom_classes": [],
       "_model_module": "@jupyter-widgets/controls",
       "_model_module_version": "1.5.0",
       "_model_name": "HTMLModel",
       "_view_count": null,
       "_view_module": "@jupyter-widgets/controls",
       "_view_module_version": "1.5.0",
       "_view_name": "HTMLView",
       "description": "",
       "description_tooltip": null,
       "layout": "IPY_MODEL_dd9c1a18a2c44198a47fdaa3a1adc25a",
       "placeholder": "​",
       "style": "IPY_MODEL_100e0d6be60947558e398c7f13ddd7b9",
       "value": "vocab.txt: 100%"
      }
     },
     "dca35b4a81824cef879b81729a35017f": {
      "model_module": "@jupyter-widgets/base",
      "model_module_version": "1.2.0",
      "model_name": "LayoutModel",
      "state": {
       "_model_module": "@jupyter-widgets/base",
       "_model_module_version": "1.2.0",
       "_model_name": "LayoutModel",
       "_view_count": null,
       "_view_module": "@jupyter-widgets/base",
       "_view_module_version": "1.2.0",
       "_view_name": "LayoutView",
       "align_content": null,
       "align_items": null,
       "align_self": null,
       "border": null,
       "bottom": null,
       "display": null,
       "flex": null,
       "flex_flow": null,
       "grid_area": null,
       "grid_auto_columns": null,
       "grid_auto_flow": null,
       "grid_auto_rows": null,
       "grid_column": null,
       "grid_gap": null,
       "grid_row": null,
       "grid_template_areas": null,
       "grid_template_columns": null,
       "grid_template_rows": null,
       "height": null,
       "justify_content": null,
       "justify_items": null,
       "left": null,
       "margin": null,
       "max_height": null,
       "max_width": null,
       "min_height": null,
       "min_width": null,
       "object_fit": null,
       "object_position": null,
       "order": null,
       "overflow": null,
       "overflow_x": null,
       "overflow_y": null,
       "padding": null,
       "right": null,
       "top": null,
       "visibility": null,
       "width": null
      }
     },
     "dd9c1a18a2c44198a47fdaa3a1adc25a": {
      "model_module": "@jupyter-widgets/base",
      "model_module_version": "1.2.0",
      "model_name": "LayoutModel",
      "state": {
       "_model_module": "@jupyter-widgets/base",
       "_model_module_version": "1.2.0",
       "_model_name": "LayoutModel",
       "_view_count": null,
       "_view_module": "@jupyter-widgets/base",
       "_view_module_version": "1.2.0",
       "_view_name": "LayoutView",
       "align_content": null,
       "align_items": null,
       "align_self": null,
       "border": null,
       "bottom": null,
       "display": null,
       "flex": null,
       "flex_flow": null,
       "grid_area": null,
       "grid_auto_columns": null,
       "grid_auto_flow": null,
       "grid_auto_rows": null,
       "grid_column": null,
       "grid_gap": null,
       "grid_row": null,
       "grid_template_areas": null,
       "grid_template_columns": null,
       "grid_template_rows": null,
       "height": null,
       "justify_content": null,
       "justify_items": null,
       "left": null,
       "margin": null,
       "max_height": null,
       "max_width": null,
       "min_height": null,
       "min_width": null,
       "object_fit": null,
       "object_position": null,
       "order": null,
       "overflow": null,
       "overflow_x": null,
       "overflow_y": null,
       "padding": null,
       "right": null,
       "top": null,
       "visibility": null,
       "width": null
      }
     },
     "e4a390453e114c32a82e3e79487a180b": {
      "model_module": "@jupyter-widgets/controls",
      "model_module_version": "1.5.0",
      "model_name": "HBoxModel",
      "state": {
       "_dom_classes": [],
       "_model_module": "@jupyter-widgets/controls",
       "_model_module_version": "1.5.0",
       "_model_name": "HBoxModel",
       "_view_count": null,
       "_view_module": "@jupyter-widgets/controls",
       "_view_module_version": "1.5.0",
       "_view_name": "HBoxView",
       "box_style": "",
       "children": [
        "IPY_MODEL_04c4828587a44920a150c30b26cfd8a1",
        "IPY_MODEL_376d73b21c654b85aa28e260efeb81ef",
        "IPY_MODEL_fe1d8f9ec5ae4c6d8852a3b1a21b3663"
       ],
       "layout": "IPY_MODEL_89a39016ebea407bbe018a6496b2565d"
      }
     },
     "e4bd522a95f24244a10ebacd8d34747d": {
      "model_module": "@jupyter-widgets/controls",
      "model_module_version": "1.5.0",
      "model_name": "HTMLModel",
      "state": {
       "_dom_classes": [],
       "_model_module": "@jupyter-widgets/controls",
       "_model_module_version": "1.5.0",
       "_model_name": "HTMLModel",
       "_view_count": null,
       "_view_module": "@jupyter-widgets/controls",
       "_view_module_version": "1.5.0",
       "_view_name": "HTMLView",
       "description": "",
       "description_tooltip": null,
       "layout": "IPY_MODEL_a4ce4b60bb3246c49c66fc1f3b707742",
       "placeholder": "​",
       "style": "IPY_MODEL_703f022111824e5f96024fb8494b7cdb",
       "value": "model.safetensors: 100%"
      }
     },
     "e561eee950bf4e15a56c49765f4d3370": {
      "model_module": "@jupyter-widgets/controls",
      "model_module_version": "1.5.0",
      "model_name": "DescriptionStyleModel",
      "state": {
       "_model_module": "@jupyter-widgets/controls",
       "_model_module_version": "1.5.0",
       "_model_name": "DescriptionStyleModel",
       "_view_count": null,
       "_view_module": "@jupyter-widgets/base",
       "_view_module_version": "1.2.0",
       "_view_name": "StyleView",
       "description_width": ""
      }
     },
     "e625d60f33964b759fa20b72fc834e7b": {
      "model_module": "@jupyter-widgets/base",
      "model_module_version": "1.2.0",
      "model_name": "LayoutModel",
      "state": {
       "_model_module": "@jupyter-widgets/base",
       "_model_module_version": "1.2.0",
       "_model_name": "LayoutModel",
       "_view_count": null,
       "_view_module": "@jupyter-widgets/base",
       "_view_module_version": "1.2.0",
       "_view_name": "LayoutView",
       "align_content": null,
       "align_items": null,
       "align_self": null,
       "border": null,
       "bottom": null,
       "display": null,
       "flex": null,
       "flex_flow": null,
       "grid_area": null,
       "grid_auto_columns": null,
       "grid_auto_flow": null,
       "grid_auto_rows": null,
       "grid_column": null,
       "grid_gap": null,
       "grid_row": null,
       "grid_template_areas": null,
       "grid_template_columns": null,
       "grid_template_rows": null,
       "height": null,
       "justify_content": null,
       "justify_items": null,
       "left": null,
       "margin": null,
       "max_height": null,
       "max_width": null,
       "min_height": null,
       "min_width": null,
       "object_fit": null,
       "object_position": null,
       "order": null,
       "overflow": null,
       "overflow_x": null,
       "overflow_y": null,
       "padding": null,
       "right": null,
       "top": null,
       "visibility": null,
       "width": null
      }
     },
     "e9c61b857b5e4be999476c521a10a24f": {
      "model_module": "@jupyter-widgets/controls",
      "model_module_version": "1.5.0",
      "model_name": "FloatProgressModel",
      "state": {
       "_dom_classes": [],
       "_model_module": "@jupyter-widgets/controls",
       "_model_module_version": "1.5.0",
       "_model_name": "FloatProgressModel",
       "_view_count": null,
       "_view_module": "@jupyter-widgets/controls",
       "_view_module_version": "1.5.0",
       "_view_name": "ProgressView",
       "bar_style": "success",
       "description": "",
       "description_tooltip": null,
       "layout": "IPY_MODEL_3fbdccd757764bd2b599d61115a1104f",
       "max": 373.0,
       "min": 0.0,
       "orientation": "horizontal",
       "style": "IPY_MODEL_bc1bd4a06d284052820d08d2473369ca",
       "value": 373.0
      }
     },
     "f3a75041e73f4531a12cf9416e8c27d2": {
      "model_module": "@jupyter-widgets/controls",
      "model_module_version": "1.5.0",
      "model_name": "ProgressStyleModel",
      "state": {
       "_model_module": "@jupyter-widgets/controls",
       "_model_module_version": "1.5.0",
       "_model_name": "ProgressStyleModel",
       "_view_count": null,
       "_view_module": "@jupyter-widgets/base",
       "_view_module_version": "1.2.0",
       "_view_name": "StyleView",
       "bar_color": null,
       "description_width": ""
      }
     },
     "f403056a2c8744479632b5e9a607632b": {
      "model_module": "@jupyter-widgets/base",
      "model_module_version": "1.2.0",
      "model_name": "LayoutModel",
      "state": {
       "_model_module": "@jupyter-widgets/base",
       "_model_module_version": "1.2.0",
       "_model_name": "LayoutModel",
       "_view_count": null,
       "_view_module": "@jupyter-widgets/base",
       "_view_module_version": "1.2.0",
       "_view_name": "LayoutView",
       "align_content": null,
       "align_items": null,
       "align_self": null,
       "border": null,
       "bottom": null,
       "display": null,
       "flex": null,
       "flex_flow": null,
       "grid_area": null,
       "grid_auto_columns": null,
       "grid_auto_flow": null,
       "grid_auto_rows": null,
       "grid_column": null,
       "grid_gap": null,
       "grid_row": null,
       "grid_template_areas": null,
       "grid_template_columns": null,
       "grid_template_rows": null,
       "height": null,
       "justify_content": null,
       "justify_items": null,
       "left": null,
       "margin": null,
       "max_height": null,
       "max_width": null,
       "min_height": null,
       "min_width": null,
       "object_fit": null,
       "object_position": null,
       "order": null,
       "overflow": null,
       "overflow_x": null,
       "overflow_y": null,
       "padding": null,
       "right": null,
       "top": null,
       "visibility": null,
       "width": null
      }
     },
     "fe1d8f9ec5ae4c6d8852a3b1a21b3663": {
      "model_module": "@jupyter-widgets/controls",
      "model_module_version": "1.5.0",
      "model_name": "HTMLModel",
      "state": {
       "_dom_classes": [],
       "_model_module": "@jupyter-widgets/controls",
       "_model_module_version": "1.5.0",
       "_model_name": "HTMLModel",
       "_view_count": null,
       "_view_module": "@jupyter-widgets/controls",
       "_view_module_version": "1.5.0",
       "_view_name": "HTMLView",
       "description": "",
       "description_tooltip": null,
       "layout": "IPY_MODEL_8098cecbdc744b879c36ee423f97d369",
       "placeholder": "​",
       "style": "IPY_MODEL_291951e429ff40d9b87f0cd75a7eacb5",
       "value": " 125/125 [00:00&lt;00:00, 11.2kB/s]"
      }
     }
    },
    "version_major": 2,
    "version_minor": 0
   }
  }
 },
 "nbformat": 4,
 "nbformat_minor": 5
}
