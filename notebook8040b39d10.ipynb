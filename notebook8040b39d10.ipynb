{
 "cells": [
  {
   "cell_type": "code",
   "execution_count": 1,
   "id": "d3add36c",
   "metadata": {
    "execution": {
     "iopub.execute_input": "2024-04-28T17:40:06.090363Z",
     "iopub.status.busy": "2024-04-28T17:40:06.089426Z",
     "iopub.status.idle": "2024-04-28T17:40:26.963165Z",
     "shell.execute_reply": "2024-04-28T17:40:26.962165Z"
    },
    "id": "I6Ny9EHOvyJM",
    "papermill": {
     "duration": 20.887879,
     "end_time": "2024-04-28T17:40:26.965369",
     "exception": false,
     "start_time": "2024-04-28T17:40:06.077490",
     "status": "completed"
    },
    "tags": []
   },
   "outputs": [
    {
     "data": {
      "text/html": [
       "<div>\n",
       "<style scoped>\n",
       "    .dataframe tbody tr th:only-of-type {\n",
       "        vertical-align: middle;\n",
       "    }\n",
       "\n",
       "    .dataframe tbody tr th {\n",
       "        vertical-align: top;\n",
       "    }\n",
       "\n",
       "    .dataframe thead th {\n",
       "        text-align: right;\n",
       "    }\n",
       "</style>\n",
       "<table border=\"1\" class=\"dataframe\">\n",
       "  <thead>\n",
       "    <tr style=\"text-align: right;\">\n",
       "      <th></th>\n",
       "      <th>Unnamed: 0</th>\n",
       "      <th>issue_url</th>\n",
       "      <th>issue_label</th>\n",
       "      <th>issue_created_at</th>\n",
       "      <th>issue_author_association</th>\n",
       "      <th>repository_url</th>\n",
       "      <th>issue_title</th>\n",
       "      <th>issue_body</th>\n",
       "    </tr>\n",
       "  </thead>\n",
       "  <tbody>\n",
       "    <tr>\n",
       "      <th>0</th>\n",
       "      <td>0</td>\n",
       "      <td>https://api.github.com/repos/eamodio/vscode-gi...</td>\n",
       "      <td>bug</td>\n",
       "      <td>2021-01-02T18:07:30Z</td>\n",
       "      <td>NONE</td>\n",
       "      <td>https://api.github.com/repos/eamodio/vscode-gi...</td>\n",
       "      <td>Welcome screen on every editor window is very ...</td>\n",
       "      <td>I just discovered Gitlens and find the functio...</td>\n",
       "    </tr>\n",
       "    <tr>\n",
       "      <th>1</th>\n",
       "      <td>1</td>\n",
       "      <td>https://api.github.com/repos/binwiederhier/pco...</td>\n",
       "      <td>bug</td>\n",
       "      <td>2020-12-31T18:19:31Z</td>\n",
       "      <td>OWNER</td>\n",
       "      <td>https://api.github.com/repos/binwiederhier/pcopy</td>\n",
       "      <td>\"pcopy invite\" and \"pcopy paste abc:\" does not...</td>\n",
       "      <td>NaN</td>\n",
       "    </tr>\n",
       "    <tr>\n",
       "      <th>2</th>\n",
       "      <td>2</td>\n",
       "      <td>https://api.github.com/repos/binwiederhier/pco...</td>\n",
       "      <td>bug</td>\n",
       "      <td>2021-01-03T04:33:36Z</td>\n",
       "      <td>OWNER</td>\n",
       "      <td>https://api.github.com/repos/binwiederhier/pcopy</td>\n",
       "      <td>UI: Modal overlay is half transparent, shouldn...</td>\n",
       "      <td>NaN</td>\n",
       "    </tr>\n",
       "    <tr>\n",
       "      <th>3</th>\n",
       "      <td>3</td>\n",
       "      <td>https://api.github.com/repos/Sothatsit/RoyalUr...</td>\n",
       "      <td>enhancement</td>\n",
       "      <td>2020-12-25T00:46:00Z</td>\n",
       "      <td>OWNER</td>\n",
       "      <td>https://api.github.com/repos/Sothatsit/RoyalUr...</td>\n",
       "      <td>Make the loading screen scale with browser win...</td>\n",
       "      <td>Currently the loading wheel is a fixed size in...</td>\n",
       "    </tr>\n",
       "    <tr>\n",
       "      <th>4</th>\n",
       "      <td>4</td>\n",
       "      <td>https://api.github.com/repos/Malivil/TTT-Custo...</td>\n",
       "      <td>bug</td>\n",
       "      <td>2021-01-02T21:36:57Z</td>\n",
       "      <td>OWNER</td>\n",
       "      <td>https://api.github.com/repos/Malivil/TTT-Custo...</td>\n",
       "      <td>Spectator - Investigate a way to strip weapons...</td>\n",
       "      <td>To bring magneto stick floating</td>\n",
       "    </tr>\n",
       "    <tr>\n",
       "      <th>5</th>\n",
       "      <td>5</td>\n",
       "      <td>https://api.github.com/repos/jankuss/shroom/is...</td>\n",
       "      <td>enhancement</td>\n",
       "      <td>2020-12-31T13:43:33Z</td>\n",
       "      <td>NONE</td>\n",
       "      <td>https://api.github.com/repos/jankuss/shroom</td>\n",
       "      <td>Single Shroom instance for multiple canvases?</td>\n",
       "      <td>Is it possible to be able to create a single S...</td>\n",
       "    </tr>\n",
       "    <tr>\n",
       "      <th>6</th>\n",
       "      <td>7</td>\n",
       "      <td>https://api.github.com/repos/juniorGreg/moisi_...</td>\n",
       "      <td>bug</td>\n",
       "      <td>2020-12-27T01:40:34Z</td>\n",
       "      <td>OWNER</td>\n",
       "      <td>https://api.github.com/repos/juniorGreg/moisi_...</td>\n",
       "      <td>Correct navigation bar for some resolution</td>\n",
       "      <td>![Capture d’écran_2020-12-26_20-40-02](https:/...</td>\n",
       "    </tr>\n",
       "    <tr>\n",
       "      <th>7</th>\n",
       "      <td>8</td>\n",
       "      <td>https://api.github.com/repos/JoeParrinello/Bro...</td>\n",
       "      <td>enhancement</td>\n",
       "      <td>2021-01-02T16:05:43Z</td>\n",
       "      <td>OWNER</td>\n",
       "      <td>https://api.github.com/repos/JoeParrinello/Bro...</td>\n",
       "      <td>Return asset growth</td>\n",
       "      <td>Would have to cache:\\r\\n- Stock Ticker Request...</td>\n",
       "    </tr>\n",
       "    <tr>\n",
       "      <th>8</th>\n",
       "      <td>9</td>\n",
       "      <td>https://api.github.com/repos/Forty-Bot/trends....</td>\n",
       "      <td>enhancement</td>\n",
       "      <td>2021-01-03T03:46:34Z</td>\n",
       "      <td>OWNER</td>\n",
       "      <td>https://api.github.com/repos/Forty-Bot/trends.tf</td>\n",
       "      <td>Add filter for logs</td>\n",
       "      <td>Add the ability to filter logs like on other p...</td>\n",
       "    </tr>\n",
       "    <tr>\n",
       "      <th>9</th>\n",
       "      <td>10</td>\n",
       "      <td>https://api.github.com/repos/andrewjj20/post/i...</td>\n",
       "      <td>enhancement</td>\n",
       "      <td>2020-10-23T04:38:35Z</td>\n",
       "      <td>COLLABORATOR</td>\n",
       "      <td>https://api.github.com/repos/andrewjj20/post</td>\n",
       "      <td>Create trait for Meetup Service publisher stores</td>\n",
       "      <td>Developers could want different backing publis...</td>\n",
       "    </tr>\n",
       "  </tbody>\n",
       "</table>\n",
       "</div>"
      ],
      "text/plain": [
       "   Unnamed: 0                                          issue_url  issue_label  \\\n",
       "0           0  https://api.github.com/repos/eamodio/vscode-gi...          bug   \n",
       "1           1  https://api.github.com/repos/binwiederhier/pco...          bug   \n",
       "2           2  https://api.github.com/repos/binwiederhier/pco...          bug   \n",
       "3           3  https://api.github.com/repos/Sothatsit/RoyalUr...  enhancement   \n",
       "4           4  https://api.github.com/repos/Malivil/TTT-Custo...          bug   \n",
       "5           5  https://api.github.com/repos/jankuss/shroom/is...  enhancement   \n",
       "6           7  https://api.github.com/repos/juniorGreg/moisi_...          bug   \n",
       "7           8  https://api.github.com/repos/JoeParrinello/Bro...  enhancement   \n",
       "8           9  https://api.github.com/repos/Forty-Bot/trends....  enhancement   \n",
       "9          10  https://api.github.com/repos/andrewjj20/post/i...  enhancement   \n",
       "\n",
       "       issue_created_at issue_author_association  \\\n",
       "0  2021-01-02T18:07:30Z                     NONE   \n",
       "1  2020-12-31T18:19:31Z                    OWNER   \n",
       "2  2021-01-03T04:33:36Z                    OWNER   \n",
       "3  2020-12-25T00:46:00Z                    OWNER   \n",
       "4  2021-01-02T21:36:57Z                    OWNER   \n",
       "5  2020-12-31T13:43:33Z                     NONE   \n",
       "6  2020-12-27T01:40:34Z                    OWNER   \n",
       "7  2021-01-02T16:05:43Z                    OWNER   \n",
       "8  2021-01-03T03:46:34Z                    OWNER   \n",
       "9  2020-10-23T04:38:35Z             COLLABORATOR   \n",
       "\n",
       "                                      repository_url  \\\n",
       "0  https://api.github.com/repos/eamodio/vscode-gi...   \n",
       "1   https://api.github.com/repos/binwiederhier/pcopy   \n",
       "2   https://api.github.com/repos/binwiederhier/pcopy   \n",
       "3  https://api.github.com/repos/Sothatsit/RoyalUr...   \n",
       "4  https://api.github.com/repos/Malivil/TTT-Custo...   \n",
       "5        https://api.github.com/repos/jankuss/shroom   \n",
       "6  https://api.github.com/repos/juniorGreg/moisi_...   \n",
       "7  https://api.github.com/repos/JoeParrinello/Bro...   \n",
       "8   https://api.github.com/repos/Forty-Bot/trends.tf   \n",
       "9       https://api.github.com/repos/andrewjj20/post   \n",
       "\n",
       "                                         issue_title  \\\n",
       "0  Welcome screen on every editor window is very ...   \n",
       "1  \"pcopy invite\" and \"pcopy paste abc:\" does not...   \n",
       "2  UI: Modal overlay is half transparent, shouldn...   \n",
       "3  Make the loading screen scale with browser win...   \n",
       "4  Spectator - Investigate a way to strip weapons...   \n",
       "5      Single Shroom instance for multiple canvases?   \n",
       "6         Correct navigation bar for some resolution   \n",
       "7                                Return asset growth   \n",
       "8                                Add filter for logs   \n",
       "9   Create trait for Meetup Service publisher stores   \n",
       "\n",
       "                                          issue_body  \n",
       "0  I just discovered Gitlens and find the functio...  \n",
       "1                                                NaN  \n",
       "2                                                NaN  \n",
       "3  Currently the loading wheel is a fixed size in...  \n",
       "4                    To bring magneto stick floating  \n",
       "5  Is it possible to be able to create a single S...  \n",
       "6  ![Capture d’écran_2020-12-26_20-40-02](https:/...  \n",
       "7  Would have to cache:\\r\\n- Stock Ticker Request...  \n",
       "8  Add the ability to filter logs like on other p...  \n",
       "9  Developers could want different backing publis...  "
      ]
     },
     "execution_count": 1,
     "metadata": {},
     "output_type": "execute_result"
    }
   ],
   "source": [
    "import os\n",
    "os.environ[\"TF_USE_LEGACY_KERAS\"] = \"1\"\n",
    "os.environ[\"CUDA_DEVICE_ORDER\"]=\"PCI_BUS_ID\";\n",
    "os.environ[\"CUDA_VISIBLE_DEVICES\"]=\"0,1\";\n",
    "import random\n",
    "random.seed(10)\n",
    "import pandas as pd\n",
    "data=pd.read_csv('/kaggle/input/issue-report-nlp/Issue_Report_Classification.csv')\n",
    "#test=pd.read_csv('/kaggle/input/issue-report-nlp/Issue_Report_Classification-test.csv')\n",
    "\n",
    "data.head(10)"
   ]
  },
  {
   "cell_type": "markdown",
   "id": "735559e5",
   "metadata": {
    "id": "jL99ml3A6iRf",
    "papermill": {
     "duration": 0.00999,
     "end_time": "2024-04-28T17:40:26.986004",
     "exception": false,
     "start_time": "2024-04-28T17:40:26.976014",
     "status": "completed"
    },
    "tags": []
   },
   "source": [
    "> Print the length of the dataset"
   ]
  },
  {
   "cell_type": "code",
   "execution_count": 2,
   "id": "9168a0d5",
   "metadata": {
    "execution": {
     "iopub.execute_input": "2024-04-28T17:40:27.007370Z",
     "iopub.status.busy": "2024-04-28T17:40:27.007048Z",
     "iopub.status.idle": "2024-04-28T17:40:27.142796Z",
     "shell.execute_reply": "2024-04-28T17:40:27.141964Z"
    },
    "id": "4DYLoxvB6hk6",
    "papermill": {
     "duration": 0.148954,
     "end_time": "2024-04-28T17:40:27.145062",
     "exception": false,
     "start_time": "2024-04-28T17:40:26.996108",
     "status": "completed"
    },
    "tags": []
   },
   "outputs": [
    {
     "data": {
      "text/plain": [
       "180725"
      ]
     },
     "execution_count": 2,
     "metadata": {},
     "output_type": "execute_result"
    }
   ],
   "source": [
    "data=data.sample(frac=0.25)\n",
    "len(data)"
   ]
  },
  {
   "cell_type": "code",
   "execution_count": 3,
   "id": "c58bd59e",
   "metadata": {
    "execution": {
     "iopub.execute_input": "2024-04-28T17:40:27.167309Z",
     "iopub.status.busy": "2024-04-28T17:40:27.166701Z",
     "iopub.status.idle": "2024-04-28T17:40:27.198479Z",
     "shell.execute_reply": "2024-04-28T17:40:27.197455Z"
    },
    "id": "8YbGqYNYv7sC",
    "papermill": {
     "duration": 0.044886,
     "end_time": "2024-04-28T17:40:27.200532",
     "exception": false,
     "start_time": "2024-04-28T17:40:27.155646",
     "status": "completed"
    },
    "tags": []
   },
   "outputs": [],
   "source": [
    "data=data[['issue_body', 'issue_label']]"
   ]
  },
  {
   "cell_type": "code",
   "execution_count": 4,
   "id": "b871a13c",
   "metadata": {
    "execution": {
     "iopub.execute_input": "2024-04-28T17:40:27.221950Z",
     "iopub.status.busy": "2024-04-28T17:40:27.221662Z",
     "iopub.status.idle": "2024-04-28T17:40:27.230466Z",
     "shell.execute_reply": "2024-04-28T17:40:27.229638Z"
    },
    "id": "0sJHfToM624w",
    "papermill": {
     "duration": 0.021787,
     "end_time": "2024-04-28T17:40:27.232541",
     "exception": false,
     "start_time": "2024-04-28T17:40:27.210754",
     "status": "completed"
    },
    "tags": []
   },
   "outputs": [
    {
     "data": {
      "text/html": [
       "<div>\n",
       "<style scoped>\n",
       "    .dataframe tbody tr th:only-of-type {\n",
       "        vertical-align: middle;\n",
       "    }\n",
       "\n",
       "    .dataframe tbody tr th {\n",
       "        vertical-align: top;\n",
       "    }\n",
       "\n",
       "    .dataframe thead th {\n",
       "        text-align: right;\n",
       "    }\n",
       "</style>\n",
       "<table border=\"1\" class=\"dataframe\">\n",
       "  <thead>\n",
       "    <tr style=\"text-align: right;\">\n",
       "      <th></th>\n",
       "      <th>issue_body</th>\n",
       "      <th>issue_label</th>\n",
       "    </tr>\n",
       "  </thead>\n",
       "  <tbody>\n",
       "    <tr>\n",
       "      <th>207617</th>\n",
       "      <td>Currently, negative numbers are not being toke...</td>\n",
       "      <td>bug</td>\n",
       "    </tr>\n",
       "    <tr>\n",
       "      <th>569499</th>\n",
       "      <td>&lt;!--\\r\\nBefore you submit an issue we recommen...</td>\n",
       "      <td>bug</td>\n",
       "    </tr>\n",
       "    <tr>\n",
       "      <th>116449</th>\n",
       "      <td>As of v1.2.0-1.2.2, the newly created project ...</td>\n",
       "      <td>bug</td>\n",
       "    </tr>\n",
       "    <tr>\n",
       "      <th>162763</th>\n",
       "      <td>Some references to the editing domain and to t...</td>\n",
       "      <td>enhancement</td>\n",
       "    </tr>\n",
       "    <tr>\n",
       "      <th>707572</th>\n",
       "      <td>When executing the localBuildRun scripts twice...</td>\n",
       "      <td>bug</td>\n",
       "    </tr>\n",
       "  </tbody>\n",
       "</table>\n",
       "</div>"
      ],
      "text/plain": [
       "                                               issue_body  issue_label\n",
       "207617  Currently, negative numbers are not being toke...          bug\n",
       "569499  <!--\\r\\nBefore you submit an issue we recommen...          bug\n",
       "116449  As of v1.2.0-1.2.2, the newly created project ...          bug\n",
       "162763  Some references to the editing domain and to t...  enhancement\n",
       "707572  When executing the localBuildRun scripts twice...          bug"
      ]
     },
     "execution_count": 4,
     "metadata": {},
     "output_type": "execute_result"
    }
   ],
   "source": [
    "data.head()"
   ]
  },
  {
   "cell_type": "markdown",
   "id": "957a1b21",
   "metadata": {
    "id": "Xh5VXK-A8DN-",
    "papermill": {
     "duration": 0.010085,
     "end_time": "2024-04-28T17:40:27.253528",
     "exception": false,
     "start_time": "2024-04-28T17:40:27.243443",
     "status": "completed"
    },
    "tags": []
   },
   "source": [
    "> Drop nulls"
   ]
  },
  {
   "cell_type": "code",
   "execution_count": 5,
   "id": "b70cef85",
   "metadata": {
    "execution": {
     "iopub.execute_input": "2024-04-28T17:40:27.276875Z",
     "iopub.status.busy": "2024-04-28T17:40:27.276580Z",
     "iopub.status.idle": "2024-04-28T17:40:27.328928Z",
     "shell.execute_reply": "2024-04-28T17:40:27.328177Z"
    },
    "id": "UtGxlLxB8ApH",
    "papermill": {
     "duration": 0.065937,
     "end_time": "2024-04-28T17:40:27.331212",
     "exception": false,
     "start_time": "2024-04-28T17:40:27.265275",
     "status": "completed"
    },
    "tags": []
   },
   "outputs": [],
   "source": [
    "data = data.dropna(subset=['issue_body'])"
   ]
  },
  {
   "cell_type": "code",
   "execution_count": 6,
   "id": "b9c7faf6",
   "metadata": {
    "execution": {
     "iopub.execute_input": "2024-04-28T17:40:27.353964Z",
     "iopub.status.busy": "2024-04-28T17:40:27.353672Z",
     "iopub.status.idle": "2024-04-28T17:40:27.359187Z",
     "shell.execute_reply": "2024-04-28T17:40:27.358356Z"
    },
    "id": "aqZM-XB48IBw",
    "papermill": {
     "duration": 0.01903,
     "end_time": "2024-04-28T17:40:27.361073",
     "exception": false,
     "start_time": "2024-04-28T17:40:27.342043",
     "status": "completed"
    },
    "tags": []
   },
   "outputs": [
    {
     "data": {
      "text/plain": [
       "162607"
      ]
     },
     "execution_count": 6,
     "metadata": {},
     "output_type": "execute_result"
    }
   ],
   "source": [
    "len(data)"
   ]
  },
  {
   "cell_type": "markdown",
   "id": "e6a95669",
   "metadata": {
    "id": "7-GTgKp49TtN",
    "papermill": {
     "duration": 0.010283,
     "end_time": "2024-04-28T17:40:27.382056",
     "exception": false,
     "start_time": "2024-04-28T17:40:27.371773",
     "status": "completed"
    },
    "tags": []
   },
   "source": [
    "> Standardize the text"
   ]
  },
  {
   "cell_type": "code",
   "execution_count": 7,
   "id": "2f3bcb4d",
   "metadata": {
    "execution": {
     "iopub.execute_input": "2024-04-28T17:40:27.405018Z",
     "iopub.status.busy": "2024-04-28T17:40:27.404712Z",
     "iopub.status.idle": "2024-04-28T17:40:47.121028Z",
     "shell.execute_reply": "2024-04-28T17:40:47.119948Z"
    },
    "id": "e_kxJLNL8RAv",
    "papermill": {
     "duration": 19.730731,
     "end_time": "2024-04-28T17:40:47.123477",
     "exception": false,
     "start_time": "2024-04-28T17:40:27.392746",
     "status": "completed"
    },
    "tags": []
   },
   "outputs": [],
   "source": [
    "import re\n",
    "\n",
    "def standardize_text(text):\n",
    "    text = re.sub(r'[^a-zA-Z0-9\\s\\']', '', text)\n",
    "    text = re.sub(r'\\s+', ' ', text)\n",
    "    text = re.sub(r'http\\s+' ,'',text)\n",
    "    text = text.lower()\n",
    "    return text.strip()\n",
    "\n",
    "data['issue_body'] = data['issue_body'].apply(standardize_text)\n",
    "\n",
    "data = data.drop_duplicates(subset=['issue_body'])"
   ]
  },
  {
   "cell_type": "code",
   "execution_count": 8,
   "id": "8c2d8027",
   "metadata": {
    "execution": {
     "iopub.execute_input": "2024-04-28T17:40:47.148257Z",
     "iopub.status.busy": "2024-04-28T17:40:47.147611Z",
     "iopub.status.idle": "2024-04-28T17:40:47.153214Z",
     "shell.execute_reply": "2024-04-28T17:40:47.152377Z"
    },
    "id": "VaUdVCZN9Jnl",
    "papermill": {
     "duration": 0.019663,
     "end_time": "2024-04-28T17:40:47.155204",
     "exception": false,
     "start_time": "2024-04-28T17:40:47.135541",
     "status": "completed"
    },
    "tags": []
   },
   "outputs": [
    {
     "data": {
      "text/plain": [
       "156233"
      ]
     },
     "execution_count": 8,
     "metadata": {},
     "output_type": "execute_result"
    }
   ],
   "source": [
    "len(data)"
   ]
  },
  {
   "cell_type": "markdown",
   "id": "f879a7f7",
   "metadata": {
    "id": "byxj9uCL9mVl",
    "papermill": {
     "duration": 0.010281,
     "end_time": "2024-04-28T17:40:47.176083",
     "exception": false,
     "start_time": "2024-04-28T17:40:47.165802",
     "status": "completed"
    },
    "tags": []
   },
   "source": [
    "> Remove punctuation"
   ]
  },
  {
   "cell_type": "code",
   "execution_count": 9,
   "id": "2fcc3da9",
   "metadata": {
    "execution": {
     "iopub.execute_input": "2024-04-28T17:40:47.198833Z",
     "iopub.status.busy": "2024-04-28T17:40:47.198092Z",
     "iopub.status.idle": "2024-04-28T17:40:48.257868Z",
     "shell.execute_reply": "2024-04-28T17:40:48.256824Z"
    },
    "id": "alykuKzL9MeI",
    "papermill": {
     "duration": 1.07409,
     "end_time": "2024-04-28T17:40:48.260754",
     "exception": false,
     "start_time": "2024-04-28T17:40:47.186664",
     "status": "completed"
    },
    "tags": []
   },
   "outputs": [],
   "source": [
    "import string\n",
    "\n",
    "def remove_punctuation(text):\n",
    "    return text.translate(str.maketrans('', '', string.punctuation))\n",
    "\n",
    "data['issue_body'] = data['issue_body'].apply(remove_punctuation)"
   ]
  },
  {
   "cell_type": "code",
   "execution_count": 10,
   "id": "ca891dba",
   "metadata": {
    "execution": {
     "iopub.execute_input": "2024-04-28T17:40:48.284214Z",
     "iopub.status.busy": "2024-04-28T17:40:48.283655Z",
     "iopub.status.idle": "2024-04-28T17:40:48.303406Z",
     "shell.execute_reply": "2024-04-28T17:40:48.302520Z"
    },
    "id": "l64h2jBOwA1w",
    "papermill": {
     "duration": 0.03352,
     "end_time": "2024-04-28T17:40:48.305427",
     "exception": false,
     "start_time": "2024-04-28T17:40:48.271907",
     "status": "completed"
    },
    "tags": []
   },
   "outputs": [
    {
     "data": {
      "text/plain": [
       "{'bug': 0, 'enhancement': 1, 'question': 2}"
      ]
     },
     "execution_count": 10,
     "metadata": {},
     "output_type": "execute_result"
    }
   ],
   "source": [
    "possible_labels = data.issue_label.unique()\n",
    "\n",
    "label_dict = {}\n",
    "for index, possible_label in enumerate(possible_labels):\n",
    "    label_dict[possible_label] = index\n",
    "label_dict"
   ]
  },
  {
   "cell_type": "code",
   "execution_count": 11,
   "id": "4d69ac0e",
   "metadata": {
    "execution": {
     "iopub.execute_input": "2024-04-28T17:40:48.328182Z",
     "iopub.status.busy": "2024-04-28T17:40:48.327689Z",
     "iopub.status.idle": "2024-04-28T17:40:48.445005Z",
     "shell.execute_reply": "2024-04-28T17:40:48.444011Z"
    },
    "id": "hgTcfF2PwGhm",
    "papermill": {
     "duration": 0.131237,
     "end_time": "2024-04-28T17:40:48.447456",
     "exception": false,
     "start_time": "2024-04-28T17:40:48.316219",
     "status": "completed"
    },
    "tags": []
   },
   "outputs": [
    {
     "name": "stderr",
     "output_type": "stream",
     "text": [
      "/tmp/ipykernel_24/3275910327.py:1: FutureWarning: Downcasting behavior in `replace` is deprecated and will be removed in a future version. To retain the old behavior, explicitly call `result.infer_objects(copy=False)`. To opt-in to the future behavior, set `pd.set_option('future.no_silent_downcasting', True)`\n",
      "  data['issue_label'] = data.issue_label.replace(label_dict)\n"
     ]
    }
   ],
   "source": [
    "data['issue_label'] = data.issue_label.replace(label_dict)"
   ]
  },
  {
   "cell_type": "code",
   "execution_count": 12,
   "id": "02c3bc1d",
   "metadata": {
    "execution": {
     "iopub.execute_input": "2024-04-28T17:40:48.471787Z",
     "iopub.status.busy": "2024-04-28T17:40:48.471508Z",
     "iopub.status.idle": "2024-04-28T17:40:48.481088Z",
     "shell.execute_reply": "2024-04-28T17:40:48.480244Z"
    },
    "id": "eq7EYGaPwP8i",
    "papermill": {
     "duration": 0.023354,
     "end_time": "2024-04-28T17:40:48.483129",
     "exception": false,
     "start_time": "2024-04-28T17:40:48.459775",
     "status": "completed"
    },
    "tags": []
   },
   "outputs": [
    {
     "data": {
      "text/html": [
       "<div>\n",
       "<style scoped>\n",
       "    .dataframe tbody tr th:only-of-type {\n",
       "        vertical-align: middle;\n",
       "    }\n",
       "\n",
       "    .dataframe tbody tr th {\n",
       "        vertical-align: top;\n",
       "    }\n",
       "\n",
       "    .dataframe thead th {\n",
       "        text-align: right;\n",
       "    }\n",
       "</style>\n",
       "<table border=\"1\" class=\"dataframe\">\n",
       "  <thead>\n",
       "    <tr style=\"text-align: right;\">\n",
       "      <th></th>\n",
       "      <th>issue_body</th>\n",
       "      <th>issue_label</th>\n",
       "    </tr>\n",
       "  </thead>\n",
       "  <tbody>\n",
       "    <tr>\n",
       "      <th>207617</th>\n",
       "      <td>currently negative numbers are not being token...</td>\n",
       "      <td>0</td>\n",
       "    </tr>\n",
       "    <tr>\n",
       "      <th>569499</th>\n",
       "      <td>before you submit an issue we recommend you vi...</td>\n",
       "      <td>0</td>\n",
       "    </tr>\n",
       "    <tr>\n",
       "      <th>116449</th>\n",
       "      <td>as of v120122 the newly created project from t...</td>\n",
       "      <td>0</td>\n",
       "    </tr>\n",
       "    <tr>\n",
       "      <th>162763</th>\n",
       "      <td>some references to the editing domain and to t...</td>\n",
       "      <td>1</td>\n",
       "    </tr>\n",
       "    <tr>\n",
       "      <th>707572</th>\n",
       "      <td>when executing the localbuildrun scripts twice...</td>\n",
       "      <td>0</td>\n",
       "    </tr>\n",
       "    <tr>\n",
       "      <th>65867</th>\n",
       "      <td>summary i would love to be able to invoke argo...</td>\n",
       "      <td>1</td>\n",
       "    </tr>\n",
       "    <tr>\n",
       "      <th>480970</th>\n",
       "      <td>wellknownchangepasswordclose1070bysapphiredpul...</td>\n",
       "      <td>0</td>\n",
       "    </tr>\n",
       "    <tr>\n",
       "      <th>687968</th>\n",
       "      <td>summary strategy contains call to displaydepre...</td>\n",
       "      <td>0</td>\n",
       "    </tr>\n",
       "    <tr>\n",
       "      <th>557940</th>\n",
       "      <td>long tap animation is not displaying</td>\n",
       "      <td>0</td>\n",
       "    </tr>\n",
       "    <tr>\n",
       "      <th>647737</th>\n",
       "      <td>aht20 is a temperature humidity sensor with a ...</td>\n",
       "      <td>1</td>\n",
       "    </tr>\n",
       "  </tbody>\n",
       "</table>\n",
       "</div>"
      ],
      "text/plain": [
       "                                               issue_body  issue_label\n",
       "207617  currently negative numbers are not being token...            0\n",
       "569499  before you submit an issue we recommend you vi...            0\n",
       "116449  as of v120122 the newly created project from t...            0\n",
       "162763  some references to the editing domain and to t...            1\n",
       "707572  when executing the localbuildrun scripts twice...            0\n",
       "65867   summary i would love to be able to invoke argo...            1\n",
       "480970  wellknownchangepasswordclose1070bysapphiredpul...            0\n",
       "687968  summary strategy contains call to displaydepre...            0\n",
       "557940               long tap animation is not displaying            0\n",
       "647737  aht20 is a temperature humidity sensor with a ...            1"
      ]
     },
     "execution_count": 12,
     "metadata": {},
     "output_type": "execute_result"
    }
   ],
   "source": [
    "data.head(10)"
   ]
  },
  {
   "cell_type": "markdown",
   "id": "525b6f14",
   "metadata": {
    "id": "ic7gpGw6ApT9",
    "papermill": {
     "duration": 0.011391,
     "end_time": "2024-04-28T17:40:48.506370",
     "exception": false,
     "start_time": "2024-04-28T17:40:48.494979",
     "status": "completed"
    },
    "tags": []
   },
   "source": []
  },
  {
   "cell_type": "code",
   "execution_count": 13,
   "id": "12595965",
   "metadata": {
    "execution": {
     "iopub.execute_input": "2024-04-28T17:40:48.529778Z",
     "iopub.status.busy": "2024-04-28T17:40:48.529484Z",
     "iopub.status.idle": "2024-04-28T17:40:48.533671Z",
     "shell.execute_reply": "2024-04-28T17:40:48.532912Z"
    },
    "id": "9CafNAysApzO",
    "papermill": {
     "duration": 0.017993,
     "end_time": "2024-04-28T17:40:48.535603",
     "exception": false,
     "start_time": "2024-04-28T17:40:48.517610",
     "status": "completed"
    },
    "tags": []
   },
   "outputs": [],
   "source": [
    "# import nltk\n",
    "# nltk.download('punkt')\n",
    "# from nltk.tokenize import word_tokenize\n",
    "# def clean_tokenization(text):\n",
    "#   return word_tokenize(text)\n",
    "\n",
    "# nltk.download('stopwords')\n",
    "# from nltk.corpus import stopwords\n",
    "\n",
    "# stop_words=set(stopwords.words('english'))\n",
    "# def clean_stopwords(token):\n",
    "#    return [item for item in token if item not in stop_words]\n",
    "\n",
    "# data['issue_body'] = data['issue_body'].apply(clean_tokenization)\n",
    "# data['issue_body']=data['issue_body'].apply(clean_stopwords)\n"
   ]
  },
  {
   "cell_type": "code",
   "execution_count": 14,
   "id": "3a41b462",
   "metadata": {
    "execution": {
     "iopub.execute_input": "2024-04-28T17:40:48.559636Z",
     "iopub.status.busy": "2024-04-28T17:40:48.559365Z",
     "iopub.status.idle": "2024-04-28T17:40:48.562896Z",
     "shell.execute_reply": "2024-04-28T17:40:48.562185Z"
    },
    "id": "uNGEG_HEzBoU",
    "papermill": {
     "duration": 0.018055,
     "end_time": "2024-04-28T17:40:48.564719",
     "exception": false,
     "start_time": "2024-04-28T17:40:48.546664",
     "status": "completed"
    },
    "tags": []
   },
   "outputs": [],
   "source": [
    "# import nltk\n",
    "# nltk.download('punkt')"
   ]
  },
  {
   "cell_type": "code",
   "execution_count": 15,
   "id": "4bc1b8b7",
   "metadata": {
    "execution": {
     "iopub.execute_input": "2024-04-28T17:40:48.588103Z",
     "iopub.status.busy": "2024-04-28T17:40:48.587844Z",
     "iopub.status.idle": "2024-04-28T17:40:48.591510Z",
     "shell.execute_reply": "2024-04-28T17:40:48.590693Z"
    },
    "id": "COezhVMozEOQ",
    "papermill": {
     "duration": 0.017575,
     "end_time": "2024-04-28T17:40:48.593481",
     "exception": false,
     "start_time": "2024-04-28T17:40:48.575906",
     "status": "completed"
    },
    "tags": []
   },
   "outputs": [],
   "source": [
    "# import re\n",
    "# import nltk\n",
    "# import string\n",
    "# from nltk.tokenize import word_tokenize\n",
    "# from nltk.corpus import stopwords\n",
    "# from nltk.stem.porter import PorterStemmer"
   ]
  },
  {
   "cell_type": "code",
   "execution_count": 16,
   "id": "da10f684",
   "metadata": {
    "execution": {
     "iopub.execute_input": "2024-04-28T17:40:48.616878Z",
     "iopub.status.busy": "2024-04-28T17:40:48.616635Z",
     "iopub.status.idle": "2024-04-28T17:40:48.620175Z",
     "shell.execute_reply": "2024-04-28T17:40:48.619334Z"
    },
    "id": "3qHLRGpr04dk",
    "papermill": {
     "duration": 0.017279,
     "end_time": "2024-04-28T17:40:48.622049",
     "exception": false,
     "start_time": "2024-04-28T17:40:48.604770",
     "status": "completed"
    },
    "tags": []
   },
   "outputs": [],
   "source": [
    "# def convert_to_string(listReview):\n",
    "#   return' '.join(listReview)\n",
    "# data['issue_body']=data['issue_body'].apply(convert_to_string)"
   ]
  },
  {
   "cell_type": "code",
   "execution_count": 17,
   "id": "79d61415",
   "metadata": {
    "execution": {
     "iopub.execute_input": "2024-04-28T17:40:48.645374Z",
     "iopub.status.busy": "2024-04-28T17:40:48.645081Z",
     "iopub.status.idle": "2024-04-28T17:40:49.957795Z",
     "shell.execute_reply": "2024-04-28T17:40:49.957011Z"
    },
    "id": "5byteX9LriVv",
    "papermill": {
     "duration": 1.326939,
     "end_time": "2024-04-28T17:40:49.960043",
     "exception": false,
     "start_time": "2024-04-28T17:40:48.633104",
     "status": "completed"
    },
    "tags": []
   },
   "outputs": [],
   "source": [
    "from imblearn.under_sampling import RandomUnderSampler\n",
    "\n",
    "min_samples = data['issue_label'].value_counts().min()\n",
    "\n",
    "# Resample each class to have the same number of samples (minimum number)\n",
    "rus = RandomUnderSampler(sampling_strategy={class_label: min_samples for class_label in data['issue_label'].unique()})\n",
    "X, y = rus.fit_resample(data.drop(columns='issue_label'), data['issue_label'])"
   ]
  },
  {
   "cell_type": "code",
   "execution_count": 18,
   "id": "39faf2bd",
   "metadata": {
    "execution": {
     "iopub.execute_input": "2024-04-28T17:40:49.983992Z",
     "iopub.status.busy": "2024-04-28T17:40:49.983583Z",
     "iopub.status.idle": "2024-04-28T17:40:50.276983Z",
     "shell.execute_reply": "2024-04-28T17:40:50.276136Z"
    },
    "id": "5akKCl2tyyDr",
    "papermill": {
     "duration": 0.307596,
     "end_time": "2024-04-28T17:40:50.279221",
     "exception": false,
     "start_time": "2024-04-28T17:40:49.971625",
     "status": "completed"
    },
    "tags": []
   },
   "outputs": [
    {
     "data": {
      "image/png": "[encoded data removed]",
      "text/plain": [
       "<Figure size 800x600 with 1 Axes>"
      ]
     },
     "metadata": {},
     "output_type": "display_data"
    }
   ],
   "source": [
    "import matplotlib.pyplot as plt\n",
    "\n",
    "# Get value counts of the resampled labels\n",
    "label_counts = pd.Series(y).value_counts()\n",
    "\n",
    "# Create a bar chart\n",
    "plt.figure(figsize=(8, 6))\n",
    "label_counts.plot(kind='bar')\n",
    "plt.title('Class Distribution after Resampling')\n",
    "plt.xlabel('Class Label')\n",
    "plt.ylabel('Count')\n",
    "plt.xticks(rotation=45)\n",
    "plt.show()"
   ]
  },
  {
   "cell_type": "code",
   "execution_count": 19,
   "id": "5884edfa",
   "metadata": {
    "execution": {
     "iopub.execute_input": "2024-04-28T17:40:50.304126Z",
     "iopub.status.busy": "2024-04-28T17:40:50.303785Z",
     "iopub.status.idle": "2024-04-28T17:40:50.309579Z",
     "shell.execute_reply": "2024-04-28T17:40:50.308719Z"
    },
    "id": "is154nBt5rC-",
    "papermill": {
     "duration": 0.020467,
     "end_time": "2024-04-28T17:40:50.311544",
     "exception": false,
     "start_time": "2024-04-28T17:40:50.291077",
     "status": "completed"
    },
    "tags": []
   },
   "outputs": [
    {
     "data": {
      "text/plain": [
       "(44580, 44580)"
      ]
     },
     "execution_count": 19,
     "metadata": {},
     "output_type": "execute_result"
    }
   ],
   "source": [
    "len(X), len(y)"
   ]
  },
  {
   "cell_type": "code",
   "execution_count": 20,
   "id": "636746e2",
   "metadata": {
    "execution": {
     "iopub.execute_input": "2024-04-28T17:40:50.335621Z",
     "iopub.status.busy": "2024-04-28T17:40:50.335354Z",
     "iopub.status.idle": "2024-04-28T17:40:50.348500Z",
     "shell.execute_reply": "2024-04-28T17:40:50.347548Z"
    },
    "id": "uGfZS23e1FNL",
    "papermill": {
     "duration": 0.027384,
     "end_time": "2024-04-28T17:40:50.350554",
     "exception": false,
     "start_time": "2024-04-28T17:40:50.323170",
     "status": "completed"
    },
    "tags": []
   },
   "outputs": [
    {
     "data": {
      "text/plain": [
       "(35664, 8916)"
      ]
     },
     "execution_count": 20,
     "metadata": {},
     "output_type": "execute_result"
    }
   ],
   "source": [
    "from sklearn.model_selection import train_test_split\n",
    "x_train, x_test, y_train, y_test = train_test_split(X, y, test_size=0.2, random_state=42)\n",
    "len(x_train), len(x_test)"
   ]
  },
  {
   "cell_type": "code",
   "execution_count": 21,
   "id": "e946df66",
   "metadata": {
    "execution": {
     "iopub.execute_input": "2024-04-28T17:40:50.375827Z",
     "iopub.status.busy": "2024-04-28T17:40:50.375541Z",
     "iopub.status.idle": "2024-04-28T17:40:50.379551Z",
     "shell.execute_reply": "2024-04-28T17:40:50.378678Z"
    },
    "id": "OIB3pETW1Gzg",
    "papermill": {
     "duration": 0.018148,
     "end_time": "2024-04-28T17:40:50.381315",
     "exception": false,
     "start_time": "2024-04-28T17:40:50.363167",
     "status": "completed"
    },
    "tags": []
   },
   "outputs": [],
   "source": [
    "# for plotting comparisons\n",
    "acc = []; pre = [] ; rec = [] ; f = []"
   ]
  },
  {
   "cell_type": "code",
   "execution_count": 22,
   "id": "dd2ca4d9",
   "metadata": {
    "execution": {
     "iopub.execute_input": "2024-04-28T17:40:50.405716Z",
     "iopub.status.busy": "2024-04-28T17:40:50.405462Z",
     "iopub.status.idle": "2024-04-28T17:40:50.409933Z",
     "shell.execute_reply": "2024-04-28T17:40:50.409083Z"
    },
    "id": "iPMY0fyZ1I4s",
    "papermill": {
     "duration": 0.018882,
     "end_time": "2024-04-28T17:40:50.411845",
     "exception": false,
     "start_time": "2024-04-28T17:40:50.392963",
     "status": "completed"
    },
    "tags": []
   },
   "outputs": [],
   "source": [
    "from sklearn import svm\n",
    "from sklearn.metrics import classification_report,accuracy_score,precision_score,recall_score\n",
    "from sklearn.metrics import accuracy_score,precision_score,recall_score,f1_score\n",
    "import sklearn.metrics as metrics"
   ]
  },
  {
   "cell_type": "code",
   "execution_count": 23,
   "id": "3ff9df3b",
   "metadata": {
    "execution": {
     "iopub.execute_input": "2024-04-28T17:40:50.435994Z",
     "iopub.status.busy": "2024-04-28T17:40:50.435733Z",
     "iopub.status.idle": "2024-04-28T17:42:28.056659Z",
     "shell.execute_reply": "2024-04-28T17:42:28.055660Z"
    },
    "id": "5AW_yDIN2CF6",
    "papermill": {
     "duration": 97.635839,
     "end_time": "2024-04-28T17:42:28.059235",
     "exception": false,
     "start_time": "2024-04-28T17:40:50.423396",
     "status": "completed"
    },
    "tags": []
   },
   "outputs": [
    {
     "name": "stdout",
     "output_type": "stream",
     "text": [
      "Collecting tf-keras==2.15\r\n",
      "  Downloading tf_keras-2.15.0-py3-none-any.whl.metadata (1.6 kB)\r\n",
      "Downloading tf_keras-2.15.0-py3-none-any.whl (1.7 MB)\r\n",
      "\u001b[2K   \u001b[90m━━━━━━━━━━━━━━━━━━━━━━━━━━━━━━━━━━━━━━━━\u001b[0m \u001b[32m1.7/1.7 MB\u001b[0m \u001b[31m8.0 MB/s\u001b[0m eta \u001b[36m0:00:00\u001b[0m\r\n",
      "\u001b[?25hInstalling collected packages: tf-keras\r\n",
      "  Attempting uninstall: tf-keras\r\n",
      "    Found existing installation: tf_keras 2.15.1\r\n",
      "    Uninstalling tf_keras-2.15.1:\r\n",
      "      Successfully uninstalled tf_keras-2.15.1\r\n",
      "Successfully installed tf-keras-2.15.0\r\n"
     ]
    }
   ],
   "source": [
    "# Install ktrain\n",
    "!pip install --upgrade pip -q\n",
    "!pip install -q ktrain\n",
    "!pip install tf-keras==2.15\n",
    "import os \n",
    "os.environ['TF_USE_LEGACY_KERAS'] = '1'\n",
    "import ktrain"
   ]
  },
  {
   "cell_type": "code",
   "execution_count": 24,
   "id": "f0eaef51",
   "metadata": {
    "execution": {
     "iopub.execute_input": "2024-04-28T17:42:28.087894Z",
     "iopub.status.busy": "2024-04-28T17:42:28.087247Z",
     "iopub.status.idle": "2024-04-28T17:42:28.092015Z",
     "shell.execute_reply": "2024-04-28T17:42:28.091074Z"
    },
    "id": "fLE_Pszv1Kya",
    "papermill": {
     "duration": 0.021192,
     "end_time": "2024-04-28T17:42:28.094085",
     "exception": false,
     "start_time": "2024-04-28T17:42:28.072893",
     "status": "completed"
    },
    "tags": []
   },
   "outputs": [],
   "source": [
    "from ktrain import text"
   ]
  },
  {
   "cell_type": "code",
   "execution_count": 25,
   "id": "8adc5424",
   "metadata": {
    "execution": {
     "iopub.execute_input": "2024-04-28T17:42:28.122893Z",
     "iopub.status.busy": "2024-04-28T17:42:28.122351Z",
     "iopub.status.idle": "2024-04-28T17:42:28.133346Z",
     "shell.execute_reply": "2024-04-28T17:42:28.132513Z"
    },
    "id": "V0CwGSik7V4X",
    "papermill": {
     "duration": 0.027362,
     "end_time": "2024-04-28T17:42:28.135600",
     "exception": false,
     "start_time": "2024-04-28T17:42:28.108238",
     "status": "completed"
    },
    "tags": []
   },
   "outputs": [
    {
     "data": {
      "text/html": [
       "<div>\n",
       "<style scoped>\n",
       "    .dataframe tbody tr th:only-of-type {\n",
       "        vertical-align: middle;\n",
       "    }\n",
       "\n",
       "    .dataframe tbody tr th {\n",
       "        vertical-align: top;\n",
       "    }\n",
       "\n",
       "    .dataframe thead th {\n",
       "        text-align: right;\n",
       "    }\n",
       "</style>\n",
       "<table border=\"1\" class=\"dataframe\">\n",
       "  <thead>\n",
       "    <tr style=\"text-align: right;\">\n",
       "      <th></th>\n",
       "      <th>issue_body</th>\n",
       "    </tr>\n",
       "  </thead>\n",
       "  <tbody>\n",
       "    <tr>\n",
       "      <th>396342</th>\n",
       "      <td>referring to this issue 325httpsgithubcomreact...</td>\n",
       "    </tr>\n",
       "    <tr>\n",
       "      <th>718143</th>\n",
       "      <td>rendere letichetta sullarco instanceof aderent...</td>\n",
       "    </tr>\n",
       "    <tr>\n",
       "      <th>545911</th>\n",
       "      <td>input cs private static void memsetnint source...</td>\n",
       "    </tr>\n",
       "    <tr>\n",
       "      <th>229341</th>\n",
       "      <td>describe the bug when executing the program ou...</td>\n",
       "    </tr>\n",
       "    <tr>\n",
       "      <th>447840</th>\n",
       "      <td>describe the bug i have windows 10 system and ...</td>\n",
       "    </tr>\n",
       "    <tr>\n",
       "      <th>...</th>\n",
       "      <td>...</td>\n",
       "    </tr>\n",
       "    <tr>\n",
       "      <th>281229</th>\n",
       "      <td>await clientforwardmessages tonumbercus true86...</td>\n",
       "    </tr>\n",
       "    <tr>\n",
       "      <th>528836</th>\n",
       "      <td>thus writing number will fail even if number i...</td>\n",
       "    </tr>\n",
       "    <tr>\n",
       "      <th>501150</th>\n",
       "      <td>hi it is question but not issue i did not find...</td>\n",
       "    </tr>\n",
       "    <tr>\n",
       "      <th>142956</th>\n",
       "      <td>bug report relevant components infoicon curren...</td>\n",
       "    </tr>\n",
       "    <tr>\n",
       "      <th>531274</th>\n",
       "      <td>its a pain to copy all the boilerplate for new...</td>\n",
       "    </tr>\n",
       "  </tbody>\n",
       "</table>\n",
       "<p>35664 rows × 1 columns</p>\n",
       "</div>"
      ],
      "text/plain": [
       "                                               issue_body\n",
       "396342  referring to this issue 325httpsgithubcomreact...\n",
       "718143  rendere letichetta sullarco instanceof aderent...\n",
       "545911  input cs private static void memsetnint source...\n",
       "229341  describe the bug when executing the program ou...\n",
       "447840  describe the bug i have windows 10 system and ...\n",
       "...                                                   ...\n",
       "281229  await clientforwardmessages tonumbercus true86...\n",
       "528836  thus writing number will fail even if number i...\n",
       "501150  hi it is question but not issue i did not find...\n",
       "142956  bug report relevant components infoicon curren...\n",
       "531274  its a pain to copy all the boilerplate for new...\n",
       "\n",
       "[35664 rows x 1 columns]"
      ]
     },
     "execution_count": 25,
     "metadata": {},
     "output_type": "execute_result"
    }
   ],
   "source": [
    "x_train"
   ]
  },
  {
   "cell_type": "code",
   "execution_count": 26,
   "id": "54aeef95",
   "metadata": {
    "execution": {
     "iopub.execute_input": "2024-04-28T17:42:28.171325Z",
     "iopub.status.busy": "2024-04-28T17:42:28.170708Z",
     "iopub.status.idle": "2024-04-28T17:42:28.175272Z",
     "shell.execute_reply": "2024-04-28T17:42:28.174197Z"
    },
    "id": "VPY9PoTOSSx8",
    "papermill": {
     "duration": 0.022219,
     "end_time": "2024-04-28T17:42:28.177183",
     "exception": false,
     "start_time": "2024-04-28T17:42:28.154964",
     "status": "completed"
    },
    "tags": []
   },
   "outputs": [],
   "source": [
    "class_names=['enhancement', 'bug','question']"
   ]
  },
  {
   "cell_type": "code",
   "execution_count": 27,
   "id": "0b0771c8",
   "metadata": {
    "execution": {
     "iopub.execute_input": "2024-04-28T17:42:28.206834Z",
     "iopub.status.busy": "2024-04-28T17:42:28.206005Z",
     "iopub.status.idle": "2024-04-28T17:42:28.241280Z",
     "shell.execute_reply": "2024-04-28T17:42:28.240201Z"
    },
    "id": "8IaZGr184QfT",
    "papermill": {
     "duration": 0.052773,
     "end_time": "2024-04-28T17:42:28.243852",
     "exception": false,
     "start_time": "2024-04-28T17:42:28.191079",
     "status": "completed"
    },
    "tags": []
   },
   "outputs": [],
   "source": [
    "x_train = x_train['issue_body'].tolist()\n",
    "y_train = y_train.to_numpy()\n",
    "x_test = x_test['issue_body'].tolist()\n",
    "y_test = y_test.to_numpy()\n"
   ]
  },
  {
   "cell_type": "markdown",
   "id": "976b7a09",
   "metadata": {
    "papermill": {
     "duration": 0.013572,
     "end_time": "2024-04-28T17:42:28.276701",
     "exception": false,
     "start_time": "2024-04-28T17:42:28.263129",
     "status": "completed"
    },
    "tags": []
   },
   "source": []
  },
  {
   "cell_type": "code",
   "execution_count": 28,
   "id": "11c0cb81",
   "metadata": {
    "execution": {
     "iopub.execute_input": "2024-04-28T17:42:28.305703Z",
     "iopub.status.busy": "2024-04-28T17:42:28.304877Z",
     "iopub.status.idle": "2024-04-28T22:54:49.449719Z",
     "shell.execute_reply": "2024-04-28T22:54:49.448615Z"
    },
    "id": "xO2-fI0I2fjX",
    "papermill": {
     "duration": 18741.1619,
     "end_time": "2024-04-28T22:54:49.451968",
     "exception": false,
     "start_time": "2024-04-28T17:42:28.290068",
     "status": "completed"
    },
    "tags": []
   },
   "outputs": [
    {
     "name": "stdout",
     "output_type": "stream",
     "text": [
      "downloading pretrained BERT model (uncased_L-12_H-768_A-12.zip)...\n",
      "[██████████████████████████████████████████████████]\n",
      "extracting pretrained BERT model...\n",
      "done.\n",
      "\n",
      "cleanup downloaded zip...\n",
      "done.\n",
      "\n",
      "preprocessing train...\n",
      "language: en\n"
     ]
    },
    {
     "data": {
      "text/html": [
       "\n",
       "<style>\n",
       "    /* Turns off some styling */\n",
       "    progress {\n",
       "        /* gets rid of default border in Firefox and Opera. */\n",
       "        border: none;\n",
       "        /* Needs to be in here for Safari polyfill so background images work as expected. */\n",
       "        background-size: auto;\n",
       "    }\n",
       "    progress:not([value]), progress:not([value])::-webkit-progress-bar {\n",
       "        background: repeating-linear-gradient(45deg, #7e7e7e, #7e7e7e 10px, #5c5c5c 10px, #5c5c5c 20px);\n",
       "    }\n",
       "    .progress-bar-interrupted, .progress-bar-interrupted::-webkit-progress-bar {\n",
       "        background: #F44336;\n",
       "    }\n",
       "</style>\n"
      ],
      "text/plain": [
       "<IPython.core.display.HTML object>"
      ]
     },
     "metadata": {},
     "output_type": "display_data"
    },
    {
     "data": {
      "text/html": [
       "done."
      ],
      "text/plain": [
       "<IPython.core.display.HTML object>"
      ]
     },
     "metadata": {},
     "output_type": "display_data"
    },
    {
     "name": "stdout",
     "output_type": "stream",
     "text": [
      "Is Multi-Label? False\n",
      "preprocessing test...\n",
      "language: en\n"
     ]
    },
    {
     "data": {
      "text/html": [
       "\n",
       "<style>\n",
       "    /* Turns off some styling */\n",
       "    progress {\n",
       "        /* gets rid of default border in Firefox and Opera. */\n",
       "        border: none;\n",
       "        /* Needs to be in here for Safari polyfill so background images work as expected. */\n",
       "        background-size: auto;\n",
       "    }\n",
       "    progress:not([value]), progress:not([value])::-webkit-progress-bar {\n",
       "        background: repeating-linear-gradient(45deg, #7e7e7e, #7e7e7e 10px, #5c5c5c 10px, #5c5c5c 20px);\n",
       "    }\n",
       "    .progress-bar-interrupted, .progress-bar-interrupted::-webkit-progress-bar {\n",
       "        background: #F44336;\n",
       "    }\n",
       "</style>\n"
      ],
      "text/plain": [
       "<IPython.core.display.HTML object>"
      ]
     },
     "metadata": {},
     "output_type": "display_data"
    },
    {
     "data": {
      "text/html": [
       "done."
      ],
      "text/plain": [
       "<IPython.core.display.HTML object>"
      ]
     },
     "metadata": {},
     "output_type": "display_data"
    },
    {
     "name": "stdout",
     "output_type": "stream",
     "text": [
      "task: text classification\n"
     ]
    }
   ],
   "source": [
    "(x_train, y_train), (x_test, y_test), preproc = text.texts_from_array(x_train=x_train,\n",
    "                                                                      y_train=y_train,\n",
    "                                                                      x_test=x_test,\n",
    "                                                                      y_test=y_test,\n",
    "                                                                      class_names=class_names,\n",
    "                                                                      preprocess_mode='bert',maxlen=80)"
   ]
  },
  {
   "cell_type": "code",
   "execution_count": 29,
   "id": "beef53d2",
   "metadata": {
    "execution": {
     "iopub.execute_input": "2024-04-28T22:54:49.546902Z",
     "iopub.status.busy": "2024-04-28T22:54:49.545926Z",
     "iopub.status.idle": "2024-04-28T23:08:26.280533Z",
     "shell.execute_reply": "2024-04-28T23:08:26.279462Z"
    },
    "id": "1W9t-WoW2k-F",
    "papermill": {
     "duration": 816.784067,
     "end_time": "2024-04-28T23:08:26.282542",
     "exception": false,
     "start_time": "2024-04-28T22:54:49.498475",
     "status": "completed"
    },
    "tags": []
   },
   "outputs": [
    {
     "name": "stdout",
     "output_type": "stream",
     "text": [
      "Is Multi-Label? False\n",
      "maxlen is 80\n"
     ]
    },
    {
     "name": "stderr",
     "output_type": "stream",
     "text": [
      "/opt/conda/lib/python3.10/site-packages/tf_keras/src/initializers/initializers.py:121: UserWarning: The initializer GlorotNormal is unseeded and being called multiple times, which will return identical values each time (even if the initializer is unseeded). Please update your code to provide a seed to the initializer, or avoid using the same initializer instance more than once.\n",
      "  warnings.warn(\n"
     ]
    },
    {
     "name": "stdout",
     "output_type": "stream",
     "text": [
      "done.\n",
      "\n",
      "\n",
      "begin training using onecycle policy with max lr of 2e-05...\n",
      "1115/1115 [==============================] - 719s 590ms/step - loss: 0.7605 - accuracy: 0.6669 - val_loss: 0.6757 - val_accuracy: 0.7174\n",
      "279/279 [==============================] - 60s 181ms/step\n",
      "              precision    recall  f1-score   support\n",
      "\n",
      "           0       0.71      0.69      0.70      3022\n",
      "           1       0.73      0.76      0.75      2919\n",
      "           2       0.71      0.70      0.70      2975\n",
      "\n",
      "    accuracy                           0.72      8916\n",
      "   macro avg       0.72      0.72      0.72      8916\n",
      "weighted avg       0.72      0.72      0.72      8916\n",
      "\n"
     ]
    },
    {
     "data": {
      "text/plain": [
       "array([[2079,  430,  513],\n",
       "       [ 341, 2229,  349],\n",
       "       [ 503,  384, 2088]])"
      ]
     },
     "execution_count": 29,
     "metadata": {},
     "output_type": "execute_result"
    }
   ],
   "source": [
    "# Step 3: Load the pre-trained BERT model\n",
    "model = text.text_classifier('bert', (x_train, y_train), preproc=preproc)\n",
    "\n",
    "# Step 4: Initialize a ktrain classifier using BERT\n",
    "learner = ktrain.get_learner(model, train_data=(x_train, y_train), val_data=(x_test, y_test))\n",
    "\n",
    "# Step 5: Train the classifier on your data\n",
    "learner.fit_onecycle(2e-5, 1)\n",
    "\n",
    "# Step 6: Evaluate the classifier on a validation set\n",
    "learner.validate(val_data=(x_test, y_test))\n"
   ]
  },
  {
   "cell_type": "code",
   "execution_count": 30,
   "id": "35aa106a",
   "metadata": {
    "execution": {
     "iopub.execute_input": "2024-04-28T23:08:26.618485Z",
     "iopub.status.busy": "2024-04-28T23:08:26.618072Z",
     "iopub.status.idle": "2024-04-28T23:23:30.702046Z",
     "shell.execute_reply": "2024-04-28T23:23:30.701111Z"
    },
    "id": "Dj0uWnBU55l5",
    "papermill": {
     "duration": 904.26131,
     "end_time": "2024-04-28T23:23:30.704056",
     "exception": false,
     "start_time": "2024-04-28T23:08:26.442746",
     "status": "completed"
    },
    "tags": []
   },
   "outputs": [
    {
     "name": "stdout",
     "output_type": "stream",
     "text": [
      "simulating training for different learning rates... this may take a few moments...\n"
     ]
    },
    {
     "name": "stderr",
     "output_type": "stream",
     "text": [
      "/opt/conda/lib/python3.10/site-packages/tf_keras/src/engine/training.py:3098: UserWarning: You are saving your model as an HDF5 file via `model.save()`. This file format is considered legacy. We recommend using instead the native TF-Keras format, e.g. `model.save('my_model.keras')`.\n",
      "  saving_api.save_model(\n"
     ]
    },
    {
     "name": "stdout",
     "output_type": "stream",
     "text": [
      "Epoch 1/2\n",
      "1115/1115 [==============================] - 600s 538ms/step - loss: 0.6927 - accuracy: 0.7051\n",
      "Epoch 2/2\n",
      "1115/1115 [==============================] - 289s 259ms/step - loss: 2.9044 - accuracy: 0.3307\n"
     ]
    },
    {
     "name": "stderr",
     "output_type": "stream",
     "text": [
      "/opt/conda/lib/python3.10/site-packages/ktrain/lroptimize/lrfinder.py:267: UserWarning: Shape of array too small to calculate a numerical gradient, at least (edge_order + 1) elements are required.\n",
      "  warnings.warn(str(e))\n",
      "/opt/conda/lib/python3.10/site-packages/tf_keras/src/initializers/initializers.py:121: UserWarning: The initializer GlorotNormal is unseeded and being called multiple times, which will return identical values each time (even if the initializer is unseeded). Please update your code to provide a seed to the initializer, or avoid using the same initializer instance more than once.\n",
      "  warnings.warn(\n"
     ]
    },
    {
     "name": "stdout",
     "output_type": "stream",
     "text": [
      "\n",
      "\n",
      "done.\n",
      "Visually inspect loss plot and select learning rate associated with falling loss\n"
     ]
    },
    {
     "data": {
      "image/png": "[encoded data removed]",
      "text/plain": [
       "<Figure size 640x480 with 1 Axes>"
      ]
     },
     "metadata": {},
     "output_type": "display_data"
    }
   ],
   "source": [
    "# It may need long time but ensures healthy training\n",
    "learner.lr_find(show_plot=True, max_epochs=2)"
   ]
  },
  {
   "cell_type": "code",
   "execution_count": 31,
   "id": "fc183d1f",
   "metadata": {
    "execution": {
     "iopub.execute_input": "2024-04-28T23:23:31.301001Z",
     "iopub.status.busy": "2024-04-28T23:23:31.300097Z",
     "iopub.status.idle": "2024-04-28T23:23:31.822624Z",
     "shell.execute_reply": "2024-04-28T23:23:31.821587Z"
    },
    "id": "O_nPN2q258bS",
    "papermill": {
     "duration": 0.833482,
     "end_time": "2024-04-28T23:23:31.825068",
     "exception": false,
     "start_time": "2024-04-28T23:23:30.991586",
     "status": "completed"
    },
    "tags": []
   },
   "outputs": [
    {
     "data": {
      "image/png": "[encoded data removed]",
      "text/plain": [
       "<Figure size 640x480 with 1 Axes>"
      ]
     },
     "metadata": {},
     "output_type": "display_data"
    }
   ],
   "source": [
    "# After the learning rate find process plot the curve of leaning rate - loss to select best learning rate\n",
    "learner.lr_plot()"
   ]
  },
  {
   "cell_type": "code",
   "execution_count": 32,
   "id": "2435d87a",
   "metadata": {
    "execution": {
     "iopub.execute_input": "2024-04-28T23:23:32.406398Z",
     "iopub.status.busy": "2024-04-28T23:23:32.406027Z",
     "iopub.status.idle": "2024-04-28T23:47:12.405709Z",
     "shell.execute_reply": "2024-04-28T23:47:12.404635Z"
    },
    "id": "8Ajk6hpZH7rO",
    "papermill": {
     "duration": 1420.291428,
     "end_time": "2024-04-28T23:47:12.407903",
     "exception": false,
     "start_time": "2024-04-28T23:23:32.116475",
     "status": "completed"
    },
    "tags": []
   },
   "outputs": [
    {
     "name": "stdout",
     "output_type": "stream",
     "text": [
      "\n",
      "\n",
      "begin training using triangular learning rate policy with max lr of 2e-05...\n",
      "Epoch 1/2\n",
      "1115/1115 [==============================] - 679s 592ms/step - loss: 0.6236 - accuracy: 0.7453 - val_loss: 0.6773 - val_accuracy: 0.7253\n",
      "Epoch 2/2\n",
      "1115/1115 [==============================] - 651s 584ms/step - loss: 0.5309 - accuracy: 0.7916 - val_loss: 0.7022 - val_accuracy: 0.7184\n",
      "279/279 [==============================] - 59s 181ms/step\n",
      "              precision    recall  f1-score   support\n",
      "\n",
      "           0       0.71      0.70      0.71      3022\n",
      "           1       0.73      0.76      0.74      2919\n",
      "           2       0.71      0.70      0.71      2975\n",
      "\n",
      "    accuracy                           0.72      8916\n",
      "   macro avg       0.72      0.72      0.72      8916\n",
      "weighted avg       0.72      0.72      0.72      8916\n",
      "\n"
     ]
    },
    {
     "data": {
      "text/plain": [
       "array([[2108,  410,  504],\n",
       "       [ 370, 2213,  336],\n",
       "       [ 479,  412, 2084]])"
      ]
     },
     "execution_count": 32,
     "metadata": {},
     "output_type": "execute_result"
    }
   ],
   "source": [
    "# Fit the leraner to the data for 2 epochs\n",
    "# Many other fit options available on the documentation of ktrain https://github.com/amaiya/ktrain\n",
    "learner.autofit(2e-5, 2)\n",
    "learner.validate(val_data=(x_test, y_test))"
   ]
  },
  {
   "cell_type": "code",
   "execution_count": 33,
   "id": "da2e4440",
   "metadata": {
    "execution": {
     "iopub.execute_input": "2024-04-28T23:47:13.407935Z",
     "iopub.status.busy": "2024-04-28T23:47:13.407021Z",
     "iopub.status.idle": "2024-04-28T23:47:13.411298Z",
     "shell.execute_reply": "2024-04-28T23:47:13.410389Z"
    },
    "id": "_RNjD5aIH8Bi",
    "papermill": {
     "duration": 0.499786,
     "end_time": "2024-04-28T23:47:13.413329",
     "exception": false,
     "start_time": "2024-04-28T23:47:12.913543",
     "status": "completed"
    },
    "tags": []
   },
   "outputs": [],
   "source": [
    "#predictor = ktrain.get_predictor(learner.model)\n",
    "#predictor.save('/content/drive/MyDrive/NLP/my_predictor')"
   ]
  }
 ],
 "metadata": {
  "accelerator": "GPU",
  "colab": {
   "gpuType": "T4",
   "provenance": []
  },
  "kaggle": {
   "accelerator": "nvidiaTeslaT4",
   "dataSources": [
    {
     "datasetId": 4896317,
     "sourceId": 8251782,
     "sourceType": "datasetVersion"
    }
   ],
   "isGpuEnabled": true,
   "isInternetEnabled": true,
   "language": "python",
   "sourceType": "notebook"
  },
  "kernelspec": {
   "display_name": "Python 3",
   "language": "python",
   "name": "python3"
  },
  "language_info": {
   "codemirror_mode": {
    "name": "ipython",
    "version": 3
   },
   "file_extension": ".py",
   "mimetype": "text/x-python",
   "name": "python",
   "nbconvert_exporter": "python",
   "pygments_lexer": "ipython3",
   "version": "3.10.13"
  },
  "papermill": {
   "default_parameters": {},
   "duration": 22033.424447,
   "end_time": "2024-04-28T23:47:16.872600",
   "environment_variables": {},
   "exception": null,
   "input_path": "__notebook__.ipynb",
   "output_path": "__notebook__.ipynb",
   "parameters": {},
   "start_time": "2024-04-28T17:40:03.448153",
   "version": "2.5.0"
  }
 },
 "nbformat": 4,
 "nbformat_minor": 5
}
