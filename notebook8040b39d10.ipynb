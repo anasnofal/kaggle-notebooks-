{
 "cells": [
  {
   "cell_type": "code",
   "execution_count": 1,
   "id": "2792c4d4",
   "metadata": {
    "execution": {
     "iopub.execute_input": "2024-08-09T12:27:23.137569Z",
     "iopub.status.busy": "2024-08-09T12:27:23.137167Z",
     "iopub.status.idle": "2024-08-09T12:27:47.063546Z",
     "shell.execute_reply": "2024-08-09T12:27:47.062486Z"
    },
    "id": "I6Ny9EHOvyJM",
    "papermill": {
     "duration": 23.944121,
     "end_time": "2024-08-09T12:27:47.066040",
     "exception": false,
     "start_time": "2024-08-09T12:27:23.121919",
     "status": "completed"
    },
    "tags": []
   },
   "outputs": [
    {
     "data": {
      "text/html": [
       "<div>\n",
       "<style scoped>\n",
       "    .dataframe tbody tr th:only-of-type {\n",
       "        vertical-align: middle;\n",
       "    }\n",
       "\n",
       "    .dataframe tbody tr th {\n",
       "        vertical-align: top;\n",
       "    }\n",
       "\n",
       "    .dataframe thead th {\n",
       "        text-align: right;\n",
       "    }\n",
       "</style>\n",
       "<table border=\"1\" class=\"dataframe\">\n",
       "  <thead>\n",
       "    <tr style=\"text-align: right;\">\n",
       "      <th></th>\n",
       "      <th>Unnamed: 0</th>\n",
       "      <th>issue_url</th>\n",
       "      <th>issue_label</th>\n",
       "      <th>issue_created_at</th>\n",
       "      <th>issue_author_association</th>\n",
       "      <th>repository_url</th>\n",
       "      <th>issue_title</th>\n",
       "      <th>issue_body</th>\n",
       "    </tr>\n",
       "  </thead>\n",
       "  <tbody>\n",
       "    <tr>\n",
       "      <th>0</th>\n",
       "      <td>0</td>\n",
       "      <td>https://api.github.com/repos/eamodio/vscode-gi...</td>\n",
       "      <td>bug</td>\n",
       "      <td>2021-01-02T18:07:30Z</td>\n",
       "      <td>NONE</td>\n",
       "      <td>https://api.github.com/repos/eamodio/vscode-gi...</td>\n",
       "      <td>Welcome screen on every editor window is very ...</td>\n",
       "      <td>I just discovered Gitlens and find the functio...</td>\n",
       "    </tr>\n",
       "    <tr>\n",
       "      <th>1</th>\n",
       "      <td>1</td>\n",
       "      <td>https://api.github.com/repos/binwiederhier/pco...</td>\n",
       "      <td>bug</td>\n",
       "      <td>2020-12-31T18:19:31Z</td>\n",
       "      <td>OWNER</td>\n",
       "      <td>https://api.github.com/repos/binwiederhier/pcopy</td>\n",
       "      <td>\"pcopy invite\" and \"pcopy paste abc:\" does not...</td>\n",
       "      <td>NaN</td>\n",
       "    </tr>\n",
       "    <tr>\n",
       "      <th>2</th>\n",
       "      <td>2</td>\n",
       "      <td>https://api.github.com/repos/binwiederhier/pco...</td>\n",
       "      <td>bug</td>\n",
       "      <td>2021-01-03T04:33:36Z</td>\n",
       "      <td>OWNER</td>\n",
       "      <td>https://api.github.com/repos/binwiederhier/pcopy</td>\n",
       "      <td>UI: Modal overlay is half transparent, shouldn...</td>\n",
       "      <td>NaN</td>\n",
       "    </tr>\n",
       "    <tr>\n",
       "      <th>3</th>\n",
       "      <td>3</td>\n",
       "      <td>https://api.github.com/repos/Sothatsit/RoyalUr...</td>\n",
       "      <td>enhancement</td>\n",
       "      <td>2020-12-25T00:46:00Z</td>\n",
       "      <td>OWNER</td>\n",
       "      <td>https://api.github.com/repos/Sothatsit/RoyalUr...</td>\n",
       "      <td>Make the loading screen scale with browser win...</td>\n",
       "      <td>Currently the loading wheel is a fixed size in...</td>\n",
       "    </tr>\n",
       "    <tr>\n",
       "      <th>4</th>\n",
       "      <td>4</td>\n",
       "      <td>https://api.github.com/repos/Malivil/TTT-Custo...</td>\n",
       "      <td>bug</td>\n",
       "      <td>2021-01-02T21:36:57Z</td>\n",
       "      <td>OWNER</td>\n",
       "      <td>https://api.github.com/repos/Malivil/TTT-Custo...</td>\n",
       "      <td>Spectator - Investigate a way to strip weapons...</td>\n",
       "      <td>To bring magneto stick floating</td>\n",
       "    </tr>\n",
       "    <tr>\n",
       "      <th>5</th>\n",
       "      <td>5</td>\n",
       "      <td>https://api.github.com/repos/jankuss/shroom/is...</td>\n",
       "      <td>enhancement</td>\n",
       "      <td>2020-12-31T13:43:33Z</td>\n",
       "      <td>NONE</td>\n",
       "      <td>https://api.github.com/repos/jankuss/shroom</td>\n",
       "      <td>Single Shroom instance for multiple canvases?</td>\n",
       "      <td>Is it possible to be able to create a single S...</td>\n",
       "    </tr>\n",
       "    <tr>\n",
       "      <th>6</th>\n",
       "      <td>7</td>\n",
       "      <td>https://api.github.com/repos/juniorGreg/moisi_...</td>\n",
       "      <td>bug</td>\n",
       "      <td>2020-12-27T01:40:34Z</td>\n",
       "      <td>OWNER</td>\n",
       "      <td>https://api.github.com/repos/juniorGreg/moisi_...</td>\n",
       "      <td>Correct navigation bar for some resolution</td>\n",
       "      <td>![Capture d’écran_2020-12-26_20-40-02](https:/...</td>\n",
       "    </tr>\n",
       "    <tr>\n",
       "      <th>7</th>\n",
       "      <td>8</td>\n",
       "      <td>https://api.github.com/repos/JoeParrinello/Bro...</td>\n",
       "      <td>enhancement</td>\n",
       "      <td>2021-01-02T16:05:43Z</td>\n",
       "      <td>OWNER</td>\n",
       "      <td>https://api.github.com/repos/JoeParrinello/Bro...</td>\n",
       "      <td>Return asset growth</td>\n",
       "      <td>Would have to cache:\\r\\n- Stock Ticker Request...</td>\n",
       "    </tr>\n",
       "    <tr>\n",
       "      <th>8</th>\n",
       "      <td>9</td>\n",
       "      <td>https://api.github.com/repos/Forty-Bot/trends....</td>\n",
       "      <td>enhancement</td>\n",
       "      <td>2021-01-03T03:46:34Z</td>\n",
       "      <td>OWNER</td>\n",
       "      <td>https://api.github.com/repos/Forty-Bot/trends.tf</td>\n",
       "      <td>Add filter for logs</td>\n",
       "      <td>Add the ability to filter logs like on other p...</td>\n",
       "    </tr>\n",
       "    <tr>\n",
       "      <th>9</th>\n",
       "      <td>10</td>\n",
       "      <td>https://api.github.com/repos/andrewjj20/post/i...</td>\n",
       "      <td>enhancement</td>\n",
       "      <td>2020-10-23T04:38:35Z</td>\n",
       "      <td>COLLABORATOR</td>\n",
       "      <td>https://api.github.com/repos/andrewjj20/post</td>\n",
       "      <td>Create trait for Meetup Service publisher stores</td>\n",
       "      <td>Developers could want different backing publis...</td>\n",
       "    </tr>\n",
       "  </tbody>\n",
       "</table>\n",
       "</div>"
      ],
      "text/plain": [
       "   Unnamed: 0                                          issue_url  issue_label  \\\n",
       "0           0  https://api.github.com/repos/eamodio/vscode-gi...          bug   \n",
       "1           1  https://api.github.com/repos/binwiederhier/pco...          bug   \n",
       "2           2  https://api.github.com/repos/binwiederhier/pco...          bug   \n",
       "3           3  https://api.github.com/repos/Sothatsit/RoyalUr...  enhancement   \n",
       "4           4  https://api.github.com/repos/Malivil/TTT-Custo...          bug   \n",
       "5           5  https://api.github.com/repos/jankuss/shroom/is...  enhancement   \n",
       "6           7  https://api.github.com/repos/juniorGreg/moisi_...          bug   \n",
       "7           8  https://api.github.com/repos/JoeParrinello/Bro...  enhancement   \n",
       "8           9  https://api.github.com/repos/Forty-Bot/trends....  enhancement   \n",
       "9          10  https://api.github.com/repos/andrewjj20/post/i...  enhancement   \n",
       "\n",
       "       issue_created_at issue_author_association  \\\n",
       "0  2021-01-02T18:07:30Z                     NONE   \n",
       "1  2020-12-31T18:19:31Z                    OWNER   \n",
       "2  2021-01-03T04:33:36Z                    OWNER   \n",
       "3  2020-12-25T00:46:00Z                    OWNER   \n",
       "4  2021-01-02T21:36:57Z                    OWNER   \n",
       "5  2020-12-31T13:43:33Z                     NONE   \n",
       "6  2020-12-27T01:40:34Z                    OWNER   \n",
       "7  2021-01-02T16:05:43Z                    OWNER   \n",
       "8  2021-01-03T03:46:34Z                    OWNER   \n",
       "9  2020-10-23T04:38:35Z             COLLABORATOR   \n",
       "\n",
       "                                      repository_url  \\\n",
       "0  https://api.github.com/repos/eamodio/vscode-gi...   \n",
       "1   https://api.github.com/repos/binwiederhier/pcopy   \n",
       "2   https://api.github.com/repos/binwiederhier/pcopy   \n",
       "3  https://api.github.com/repos/Sothatsit/RoyalUr...   \n",
       "4  https://api.github.com/repos/Malivil/TTT-Custo...   \n",
       "5        https://api.github.com/repos/jankuss/shroom   \n",
       "6  https://api.github.com/repos/juniorGreg/moisi_...   \n",
       "7  https://api.github.com/repos/JoeParrinello/Bro...   \n",
       "8   https://api.github.com/repos/Forty-Bot/trends.tf   \n",
       "9       https://api.github.com/repos/andrewjj20/post   \n",
       "\n",
       "                                         issue_title  \\\n",
       "0  Welcome screen on every editor window is very ...   \n",
       "1  \"pcopy invite\" and \"pcopy paste abc:\" does not...   \n",
       "2  UI: Modal overlay is half transparent, shouldn...   \n",
       "3  Make the loading screen scale with browser win...   \n",
       "4  Spectator - Investigate a way to strip weapons...   \n",
       "5      Single Shroom instance for multiple canvases?   \n",
       "6         Correct navigation bar for some resolution   \n",
       "7                                Return asset growth   \n",
       "8                                Add filter for logs   \n",
       "9   Create trait for Meetup Service publisher stores   \n",
       "\n",
       "                                          issue_body  \n",
       "0  I just discovered Gitlens and find the functio...  \n",
       "1                                                NaN  \n",
       "2                                                NaN  \n",
       "3  Currently the loading wheel is a fixed size in...  \n",
       "4                    To bring magneto stick floating  \n",
       "5  Is it possible to be able to create a single S...  \n",
       "6  ![Capture d’écran_2020-12-26_20-40-02](https:/...  \n",
       "7  Would have to cache:\\r\\n- Stock Ticker Request...  \n",
       "8  Add the ability to filter logs like on other p...  \n",
       "9  Developers could want different backing publis...  "
      ]
     },
     "execution_count": 1,
     "metadata": {},
     "output_type": "execute_result"
    }
   ],
   "source": [
    "import os\n",
    "os.environ[\"TF_USE_LEGACY_KERAS\"] = \"1\"\n",
    "os.environ[\"CUDA_DEVICE_ORDER\"]=\"PCI_BUS_ID\";\n",
    "os.environ[\"CUDA_VISIBLE_DEVICES\"]=\"0,1\";\n",
    "import random\n",
    "random.seed(10)\n",
    "import pandas as pd\n",
    "data=pd.read_csv('/kaggle/input/issue-report-nlp/Issue_Report_Classification.csv')\n",
    "#test=pd.read_csv('/kaggle/input/issue-report-nlp/Issue_Report_Classification-test.csv')\n",
    "\n",
    "data.head(10)"
   ]
  },
  {
   "cell_type": "markdown",
   "id": "288bafd5",
   "metadata": {
    "id": "jL99ml3A6iRf",
    "papermill": {
     "duration": 0.013615,
     "end_time": "2024-08-09T12:27:47.094439",
     "exception": false,
     "start_time": "2024-08-09T12:27:47.080824",
     "status": "completed"
    },
    "tags": []
   },
   "source": [
    "> Print the length of the dataset"
   ]
  },
  {
   "cell_type": "code",
   "execution_count": 2,
   "id": "1831f23a",
   "metadata": {
    "execution": {
     "iopub.execute_input": "2024-08-09T12:27:47.126769Z",
     "iopub.status.busy": "2024-08-09T12:27:47.125962Z",
     "iopub.status.idle": "2024-08-09T12:27:47.287964Z",
     "shell.execute_reply": "2024-08-09T12:27:47.286945Z"
    },
    "id": "4DYLoxvB6hk6",
    "papermill": {
     "duration": 0.18031,
     "end_time": "2024-08-09T12:27:47.290167",
     "exception": false,
     "start_time": "2024-08-09T12:27:47.109857",
     "status": "completed"
    },
    "tags": []
   },
   "outputs": [
    {
     "data": {
      "text/plain": [
       "180725"
      ]
     },
     "execution_count": 2,
     "metadata": {},
     "output_type": "execute_result"
    }
   ],
   "source": [
    "data=data.sample(frac=0.25)\n",
    "len(data)"
   ]
  },
  {
   "cell_type": "code",
   "execution_count": 3,
   "id": "fc0af922",
   "metadata": {
    "execution": {
     "iopub.execute_input": "2024-08-09T12:27:47.319901Z",
     "iopub.status.busy": "2024-08-09T12:27:47.319136Z",
     "iopub.status.idle": "2024-08-09T12:27:47.355236Z",
     "shell.execute_reply": "2024-08-09T12:27:47.354368Z"
    },
    "id": "8YbGqYNYv7sC",
    "papermill": {
     "duration": 0.054354,
     "end_time": "2024-08-09T12:27:47.357859",
     "exception": false,
     "start_time": "2024-08-09T12:27:47.303505",
     "status": "completed"
    },
    "tags": []
   },
   "outputs": [],
   "source": [
    "data=data[['issue_body', 'issue_label']]"
   ]
  },
  {
   "cell_type": "code",
   "execution_count": 4,
   "id": "81ed47a2",
   "metadata": {
    "execution": {
     "iopub.execute_input": "2024-08-09T12:27:47.386228Z",
     "iopub.status.busy": "2024-08-09T12:27:47.385852Z",
     "iopub.status.idle": "2024-08-09T12:27:47.397242Z",
     "shell.execute_reply": "2024-08-09T12:27:47.396070Z"
    },
    "id": "0sJHfToM624w",
    "papermill": {
     "duration": 0.027954,
     "end_time": "2024-08-09T12:27:47.399396",
     "exception": false,
     "start_time": "2024-08-09T12:27:47.371442",
     "status": "completed"
    },
    "tags": []
   },
   "outputs": [
    {
     "data": {
      "text/html": [
       "<div>\n",
       "<style scoped>\n",
       "    .dataframe tbody tr th:only-of-type {\n",
       "        vertical-align: middle;\n",
       "    }\n",
       "\n",
       "    .dataframe tbody tr th {\n",
       "        vertical-align: top;\n",
       "    }\n",
       "\n",
       "    .dataframe thead th {\n",
       "        text-align: right;\n",
       "    }\n",
       "</style>\n",
       "<table border=\"1\" class=\"dataframe\">\n",
       "  <thead>\n",
       "    <tr style=\"text-align: right;\">\n",
       "      <th></th>\n",
       "      <th>issue_body</th>\n",
       "      <th>issue_label</th>\n",
       "    </tr>\n",
       "  </thead>\n",
       "  <tbody>\n",
       "    <tr>\n",
       "      <th>518921</th>\n",
       "      <td>Starting with firmware 1.9.2 Shelly supports s...</td>\n",
       "      <td>enhancement</td>\n",
       "    </tr>\n",
       "    <tr>\n",
       "      <th>78913</th>\n",
       "      <td>NaN</td>\n",
       "      <td>enhancement</td>\n",
       "    </tr>\n",
       "    <tr>\n",
       "      <th>390926</th>\n",
       "      <td>It seems to me that `connect` clients do not h...</td>\n",
       "      <td>bug</td>\n",
       "    </tr>\n",
       "    <tr>\n",
       "      <th>609037</th>\n",
       "      <td>Adding vol option cleanup in d_parent_test.</td>\n",
       "      <td>bug</td>\n",
       "    </tr>\n",
       "    <tr>\n",
       "      <th>688312</th>\n",
       "      <td>It's about :\\r\\n- [x] Other\\r\\n\\r\\n**Explain t...</td>\n",
       "      <td>enhancement</td>\n",
       "    </tr>\n",
       "  </tbody>\n",
       "</table>\n",
       "</div>"
      ],
      "text/plain": [
       "                                               issue_body  issue_label\n",
       "518921  Starting with firmware 1.9.2 Shelly supports s...  enhancement\n",
       "78913                                                 NaN  enhancement\n",
       "390926  It seems to me that `connect` clients do not h...          bug\n",
       "609037        Adding vol option cleanup in d_parent_test.          bug\n",
       "688312  It's about :\\r\\n- [x] Other\\r\\n\\r\\n**Explain t...  enhancement"
      ]
     },
     "execution_count": 4,
     "metadata": {},
     "output_type": "execute_result"
    }
   ],
   "source": [
    "data.head()"
   ]
  },
  {
   "cell_type": "markdown",
   "id": "c2a6a8d8",
   "metadata": {
    "id": "Xh5VXK-A8DN-",
    "papermill": {
     "duration": 0.013491,
     "end_time": "2024-08-09T12:27:47.426288",
     "exception": false,
     "start_time": "2024-08-09T12:27:47.412797",
     "status": "completed"
    },
    "tags": []
   },
   "source": [
    "> Drop nulls"
   ]
  },
  {
   "cell_type": "code",
   "execution_count": 5,
   "id": "28c125f9",
   "metadata": {
    "execution": {
     "iopub.execute_input": "2024-08-09T12:27:47.454861Z",
     "iopub.status.busy": "2024-08-09T12:27:47.454489Z",
     "iopub.status.idle": "2024-08-09T12:27:47.521350Z",
     "shell.execute_reply": "2024-08-09T12:27:47.520243Z"
    },
    "id": "UtGxlLxB8ApH",
    "papermill": {
     "duration": 0.084351,
     "end_time": "2024-08-09T12:27:47.524018",
     "exception": false,
     "start_time": "2024-08-09T12:27:47.439667",
     "status": "completed"
    },
    "tags": []
   },
   "outputs": [],
   "source": [
    "data = data.dropna(subset=['issue_body'])"
   ]
  },
  {
   "cell_type": "code",
   "execution_count": 6,
   "id": "2bbc903d",
   "metadata": {
    "execution": {
     "iopub.execute_input": "2024-08-09T12:27:47.553481Z",
     "iopub.status.busy": "2024-08-09T12:27:47.553097Z",
     "iopub.status.idle": "2024-08-09T12:27:47.559286Z",
     "shell.execute_reply": "2024-08-09T12:27:47.558334Z"
    },
    "id": "aqZM-XB48IBw",
    "papermill": {
     "duration": 0.023517,
     "end_time": "2024-08-09T12:27:47.561686",
     "exception": false,
     "start_time": "2024-08-09T12:27:47.538169",
     "status": "completed"
    },
    "tags": []
   },
   "outputs": [
    {
     "data": {
      "text/plain": [
       "162903"
      ]
     },
     "execution_count": 6,
     "metadata": {},
     "output_type": "execute_result"
    }
   ],
   "source": [
    "len(data)"
   ]
  },
  {
   "cell_type": "markdown",
   "id": "d44dfded",
   "metadata": {
    "id": "7-GTgKp49TtN",
    "papermill": {
     "duration": 0.013655,
     "end_time": "2024-08-09T12:27:47.589220",
     "exception": false,
     "start_time": "2024-08-09T12:27:47.575565",
     "status": "completed"
    },
    "tags": []
   },
   "source": [
    "> Standardize the text"
   ]
  },
  {
   "cell_type": "code",
   "execution_count": 7,
   "id": "d7ee0e5d",
   "metadata": {
    "execution": {
     "iopub.execute_input": "2024-08-09T12:27:47.618862Z",
     "iopub.status.busy": "2024-08-09T12:27:47.618508Z",
     "iopub.status.idle": "2024-08-09T12:28:10.625419Z",
     "shell.execute_reply": "2024-08-09T12:28:10.624338Z"
    },
    "id": "e_kxJLNL8RAv",
    "papermill": {
     "duration": 23.025038,
     "end_time": "2024-08-09T12:28:10.628175",
     "exception": false,
     "start_time": "2024-08-09T12:27:47.603137",
     "status": "completed"
    },
    "tags": []
   },
   "outputs": [],
   "source": [
    "import re\n",
    "\n",
    "def standardize_text(text):\n",
    "    text = re.sub(r'[^a-zA-Z0-9\\s\\']', '', text)\n",
    "    text = re.sub(r'\\s+', ' ', text)\n",
    "    text = re.sub(r'http\\s+' ,'',text)\n",
    "    text = text.lower()\n",
    "    return text.strip()\n",
    "\n",
    "data['issue_body'] = data['issue_body'].apply(standardize_text)\n",
    "\n",
    "data = data.drop_duplicates(subset=['issue_body'])"
   ]
  },
  {
   "cell_type": "code",
   "execution_count": 8,
   "id": "17acd9d2",
   "metadata": {
    "execution": {
     "iopub.execute_input": "2024-08-09T12:28:10.657671Z",
     "iopub.status.busy": "2024-08-09T12:28:10.657298Z",
     "iopub.status.idle": "2024-08-09T12:28:10.663659Z",
     "shell.execute_reply": "2024-08-09T12:28:10.662617Z"
    },
    "id": "VaUdVCZN9Jnl",
    "papermill": {
     "duration": 0.023622,
     "end_time": "2024-08-09T12:28:10.665899",
     "exception": false,
     "start_time": "2024-08-09T12:28:10.642277",
     "status": "completed"
    },
    "tags": []
   },
   "outputs": [
    {
     "data": {
      "text/plain": [
       "156330"
      ]
     },
     "execution_count": 8,
     "metadata": {},
     "output_type": "execute_result"
    }
   ],
   "source": [
    "len(data)"
   ]
  },
  {
   "cell_type": "markdown",
   "id": "8b06d6d6",
   "metadata": {
    "id": "byxj9uCL9mVl",
    "papermill": {
     "duration": 0.013789,
     "end_time": "2024-08-09T12:28:10.694008",
     "exception": false,
     "start_time": "2024-08-09T12:28:10.680219",
     "status": "completed"
    },
    "tags": []
   },
   "source": [
    "> Remove punctuation"
   ]
  },
  {
   "cell_type": "code",
   "execution_count": 9,
   "id": "dda0c28d",
   "metadata": {
    "execution": {
     "iopub.execute_input": "2024-08-09T12:28:10.724203Z",
     "iopub.status.busy": "2024-08-09T12:28:10.723501Z",
     "iopub.status.idle": "2024-08-09T12:28:11.944385Z",
     "shell.execute_reply": "2024-08-09T12:28:11.943295Z"
    },
    "id": "alykuKzL9MeI",
    "papermill": {
     "duration": 1.238985,
     "end_time": "2024-08-09T12:28:11.947273",
     "exception": false,
     "start_time": "2024-08-09T12:28:10.708288",
     "status": "completed"
    },
    "tags": []
   },
   "outputs": [],
   "source": [
    "import string\n",
    "\n",
    "def remove_punctuation(text):\n",
    "    return text.translate(str.maketrans('', '', string.punctuation))\n",
    "\n",
    "data['issue_body'] = data['issue_body'].apply(remove_punctuation)"
   ]
  },
  {
   "cell_type": "code",
   "execution_count": 10,
   "id": "540f229f",
   "metadata": {
    "execution": {
     "iopub.execute_input": "2024-08-09T12:28:11.977682Z",
     "iopub.status.busy": "2024-08-09T12:28:11.977308Z",
     "iopub.status.idle": "2024-08-09T12:28:12.000061Z",
     "shell.execute_reply": "2024-08-09T12:28:11.999074Z"
    },
    "id": "l64h2jBOwA1w",
    "papermill": {
     "duration": 0.040713,
     "end_time": "2024-08-09T12:28:12.002454",
     "exception": false,
     "start_time": "2024-08-09T12:28:11.961741",
     "status": "completed"
    },
    "tags": []
   },
   "outputs": [
    {
     "data": {
      "text/plain": [
       "{'enhancement': 0, 'bug': 1, 'question': 2}"
      ]
     },
     "execution_count": 10,
     "metadata": {},
     "output_type": "execute_result"
    }
   ],
   "source": [
    "possible_labels = data.issue_label.unique()\n",
    "\n",
    "label_dict = {}\n",
    "for index, possible_label in enumerate(possible_labels):\n",
    "    label_dict[possible_label] = index\n",
    "label_dict"
   ]
  },
  {
   "cell_type": "code",
   "execution_count": 11,
   "id": "2934a06e",
   "metadata": {
    "execution": {
     "iopub.execute_input": "2024-08-09T12:28:12.032435Z",
     "iopub.status.busy": "2024-08-09T12:28:12.032023Z",
     "iopub.status.idle": "2024-08-09T12:28:12.176467Z",
     "shell.execute_reply": "2024-08-09T12:28:12.175005Z"
    },
    "id": "hgTcfF2PwGhm",
    "papermill": {
     "duration": 0.162483,
     "end_time": "2024-08-09T12:28:12.179177",
     "exception": false,
     "start_time": "2024-08-09T12:28:12.016694",
     "status": "completed"
    },
    "tags": []
   },
   "outputs": [
    {
     "name": "stderr",
     "output_type": "stream",
     "text": [
      "/tmp/ipykernel_23/3275910327.py:1: FutureWarning: Downcasting behavior in `replace` is deprecated and will be removed in a future version. To retain the old behavior, explicitly call `result.infer_objects(copy=False)`. To opt-in to the future behavior, set `pd.set_option('future.no_silent_downcasting', True)`\n",
      "  data['issue_label'] = data.issue_label.replace(label_dict)\n"
     ]
    }
   ],
   "source": [
    "data['issue_label'] = data.issue_label.replace(label_dict)"
   ]
  },
  {
   "cell_type": "code",
   "execution_count": 12,
   "id": "160a8a78",
   "metadata": {
    "execution": {
     "iopub.execute_input": "2024-08-09T12:28:12.210833Z",
     "iopub.status.busy": "2024-08-09T12:28:12.210432Z",
     "iopub.status.idle": "2024-08-09T12:28:12.222385Z",
     "shell.execute_reply": "2024-08-09T12:28:12.221193Z"
    },
    "id": "eq7EYGaPwP8i",
    "papermill": {
     "duration": 0.030133,
     "end_time": "2024-08-09T12:28:12.224663",
     "exception": false,
     "start_time": "2024-08-09T12:28:12.194530",
     "status": "completed"
    },
    "tags": []
   },
   "outputs": [
    {
     "data": {
      "text/html": [
       "<div>\n",
       "<style scoped>\n",
       "    .dataframe tbody tr th:only-of-type {\n",
       "        vertical-align: middle;\n",
       "    }\n",
       "\n",
       "    .dataframe tbody tr th {\n",
       "        vertical-align: top;\n",
       "    }\n",
       "\n",
       "    .dataframe thead th {\n",
       "        text-align: right;\n",
       "    }\n",
       "</style>\n",
       "<table border=\"1\" class=\"dataframe\">\n",
       "  <thead>\n",
       "    <tr style=\"text-align: right;\">\n",
       "      <th></th>\n",
       "      <th>issue_body</th>\n",
       "      <th>issue_label</th>\n",
       "    </tr>\n",
       "  </thead>\n",
       "  <tbody>\n",
       "    <tr>\n",
       "      <th>518921</th>\n",
       "      <td>starting with firmware 192 shelly supports so ...</td>\n",
       "      <td>0</td>\n",
       "    </tr>\n",
       "    <tr>\n",
       "      <th>390926</th>\n",
       "      <td>it seems to me that connect clients do not han...</td>\n",
       "      <td>1</td>\n",
       "    </tr>\n",
       "    <tr>\n",
       "      <th>609037</th>\n",
       "      <td>adding vol option cleanup in dparenttest</td>\n",
       "      <td>1</td>\n",
       "    </tr>\n",
       "    <tr>\n",
       "      <th>688312</th>\n",
       "      <td>its about x other explain the feature that you...</td>\n",
       "      <td>0</td>\n",
       "    </tr>\n",
       "    <tr>\n",
       "      <th>480329</th>\n",
       "      <td>in my pipeline saucectl reportshttpsgithubcoms...</td>\n",
       "      <td>1</td>\n",
       "    </tr>\n",
       "    <tr>\n",
       "      <th>186459</th>\n",
       "      <td>dann gibt es das konto zwar im authprovider ab...</td>\n",
       "      <td>1</td>\n",
       "    </tr>\n",
       "    <tr>\n",
       "      <th>463511</th>\n",
       "      <td>is your feature request related to a problem p...</td>\n",
       "      <td>0</td>\n",
       "    </tr>\n",
       "    <tr>\n",
       "      <th>219995</th>\n",
       "      <td>is your feature request related to a problem p...</td>\n",
       "      <td>0</td>\n",
       "    </tr>\n",
       "    <tr>\n",
       "      <th>266504</th>\n",
       "      <td>cardsdatatemplateselector is working initially...</td>\n",
       "      <td>1</td>\n",
       "    </tr>\n",
       "    <tr>\n",
       "      <th>345880</th>\n",
       "      <td>i acknowledge the following before proceeding ...</td>\n",
       "      <td>1</td>\n",
       "    </tr>\n",
       "  </tbody>\n",
       "</table>\n",
       "</div>"
      ],
      "text/plain": [
       "                                               issue_body  issue_label\n",
       "518921  starting with firmware 192 shelly supports so ...            0\n",
       "390926  it seems to me that connect clients do not han...            1\n",
       "609037           adding vol option cleanup in dparenttest            1\n",
       "688312  its about x other explain the feature that you...            0\n",
       "480329  in my pipeline saucectl reportshttpsgithubcoms...            1\n",
       "186459  dann gibt es das konto zwar im authprovider ab...            1\n",
       "463511  is your feature request related to a problem p...            0\n",
       "219995  is your feature request related to a problem p...            0\n",
       "266504  cardsdatatemplateselector is working initially...            1\n",
       "345880  i acknowledge the following before proceeding ...            1"
      ]
     },
     "execution_count": 12,
     "metadata": {},
     "output_type": "execute_result"
    }
   ],
   "source": [
    "data.head(10)"
   ]
  },
  {
   "cell_type": "markdown",
   "id": "f85af1d1",
   "metadata": {
    "id": "ic7gpGw6ApT9",
    "papermill": {
     "duration": 0.014324,
     "end_time": "2024-08-09T12:28:12.253745",
     "exception": false,
     "start_time": "2024-08-09T12:28:12.239421",
     "status": "completed"
    },
    "tags": []
   },
   "source": []
  },
  {
   "cell_type": "code",
   "execution_count": 13,
   "id": "aebbc2eb",
   "metadata": {
    "execution": {
     "iopub.execute_input": "2024-08-09T12:28:12.285427Z",
     "iopub.status.busy": "2024-08-09T12:28:12.284671Z",
     "iopub.status.idle": "2024-08-09T12:28:12.289908Z",
     "shell.execute_reply": "2024-08-09T12:28:12.288677Z"
    },
    "id": "9CafNAysApzO",
    "papermill": {
     "duration": 0.023913,
     "end_time": "2024-08-09T12:28:12.292349",
     "exception": false,
     "start_time": "2024-08-09T12:28:12.268436",
     "status": "completed"
    },
    "tags": []
   },
   "outputs": [],
   "source": [
    "# import nltk\n",
    "# nltk.download('punkt')\n",
    "# from nltk.tokenize import word_tokenize\n",
    "# def clean_tokenization(text):\n",
    "#   return word_tokenize(text)\n",
    "\n",
    "# nltk.download('stopwords')\n",
    "# from nltk.corpus import stopwords\n",
    "\n",
    "# stop_words=set(stopwords.words('english'))\n",
    "# def clean_stopwords(token):\n",
    "#    return [item for item in token if item not in stop_words]\n",
    "\n",
    "# data['issue_body'] = data['issue_body'].apply(clean_tokenization)\n",
    "# data['issue_body']=data['issue_body'].apply(clean_stopwords)\n"
   ]
  },
  {
   "cell_type": "code",
   "execution_count": 14,
   "id": "e3ecdc6f",
   "metadata": {
    "execution": {
     "iopub.execute_input": "2024-08-09T12:28:12.323723Z",
     "iopub.status.busy": "2024-08-09T12:28:12.322779Z",
     "iopub.status.idle": "2024-08-09T12:28:12.327544Z",
     "shell.execute_reply": "2024-08-09T12:28:12.326453Z"
    },
    "id": "uNGEG_HEzBoU",
    "papermill": {
     "duration": 0.022993,
     "end_time": "2024-08-09T12:28:12.329950",
     "exception": false,
     "start_time": "2024-08-09T12:28:12.306957",
     "status": "completed"
    },
    "tags": []
   },
   "outputs": [],
   "source": [
    "# import nltk\n",
    "# nltk.download('punkt')"
   ]
  },
  {
   "cell_type": "code",
   "execution_count": 15,
   "id": "029e9c52",
   "metadata": {
    "execution": {
     "iopub.execute_input": "2024-08-09T12:28:12.361946Z",
     "iopub.status.busy": "2024-08-09T12:28:12.361011Z",
     "iopub.status.idle": "2024-08-09T12:28:12.365971Z",
     "shell.execute_reply": "2024-08-09T12:28:12.364795Z"
    },
    "id": "COezhVMozEOQ",
    "papermill": {
     "duration": 0.023312,
     "end_time": "2024-08-09T12:28:12.368203",
     "exception": false,
     "start_time": "2024-08-09T12:28:12.344891",
     "status": "completed"
    },
    "tags": []
   },
   "outputs": [],
   "source": [
    "# import re\n",
    "# import nltk\n",
    "# import string\n",
    "# from nltk.tokenize import word_tokenize\n",
    "# from nltk.corpus import stopwords\n",
    "# from nltk.stem.porter import PorterStemmer"
   ]
  },
  {
   "cell_type": "code",
   "execution_count": 16,
   "id": "5139279c",
   "metadata": {
    "execution": {
     "iopub.execute_input": "2024-08-09T12:28:12.399998Z",
     "iopub.status.busy": "2024-08-09T12:28:12.399606Z",
     "iopub.status.idle": "2024-08-09T12:28:12.404384Z",
     "shell.execute_reply": "2024-08-09T12:28:12.403249Z"
    },
    "id": "3qHLRGpr04dk",
    "papermill": {
     "duration": 0.023623,
     "end_time": "2024-08-09T12:28:12.406641",
     "exception": false,
     "start_time": "2024-08-09T12:28:12.383018",
     "status": "completed"
    },
    "tags": []
   },
   "outputs": [],
   "source": [
    "# def convert_to_string(listReview):\n",
    "#   return' '.join(listReview)\n",
    "# data['issue_body']=data['issue_body'].apply(convert_to_string)"
   ]
  },
  {
   "cell_type": "code",
   "execution_count": 17,
   "id": "341ff02b",
   "metadata": {
    "execution": {
     "iopub.execute_input": "2024-08-09T12:28:12.437584Z",
     "iopub.status.busy": "2024-08-09T12:28:12.437188Z",
     "iopub.status.idle": "2024-08-09T12:28:14.127853Z",
     "shell.execute_reply": "2024-08-09T12:28:14.126907Z"
    },
    "id": "5byteX9LriVv",
    "papermill": {
     "duration": 1.70937,
     "end_time": "2024-08-09T12:28:14.130575",
     "exception": false,
     "start_time": "2024-08-09T12:28:12.421205",
     "status": "completed"
    },
    "tags": []
   },
   "outputs": [],
   "source": [
    "from imblearn.under_sampling import RandomUnderSampler\n",
    "\n",
    "min_samples = data['issue_label'].value_counts().min()\n",
    "\n",
    "# Resample each class to have the same number of samples (minimum number)\n",
    "rus = RandomUnderSampler(sampling_strategy={class_label: min_samples for class_label in data['issue_label'].unique()})\n",
    "X, y = rus.fit_resample(data.drop(columns='issue_label'), data['issue_label'])"
   ]
  },
  {
   "cell_type": "code",
   "execution_count": 18,
   "id": "3c4bb0c2",
   "metadata": {
    "execution": {
     "iopub.execute_input": "2024-08-09T12:28:14.165185Z",
     "iopub.status.busy": "2024-08-09T12:28:14.164629Z",
     "iopub.status.idle": "2024-08-09T12:28:14.503550Z",
     "shell.execute_reply": "2024-08-09T12:28:14.502542Z"
    },
    "id": "5akKCl2tyyDr",
    "papermill": {
     "duration": 0.35982,
     "end_time": "2024-08-09T12:28:14.505804",
     "exception": false,
     "start_time": "2024-08-09T12:28:14.145984",
     "status": "completed"
    },
    "tags": []
   },
   "outputs": [
    {
     "data": {
      "image/png": "[encoded data removed]",
      "text/plain": [
       "<Figure size 800x600 with 1 Axes>"
      ]
     },
     "metadata": {},
     "output_type": "display_data"
    }
   ],
   "source": [
    "import matplotlib.pyplot as plt\n",
    "\n",
    "# Get value counts of the resampled labels\n",
    "label_counts = pd.Series(y).value_counts()\n",
    "\n",
    "# Create a bar chart\n",
    "plt.figure(figsize=(8, 6))\n",
    "label_counts.plot(kind='bar')\n",
    "plt.title('Class Distribution after Resampling')\n",
    "plt.xlabel('Class Label')\n",
    "plt.ylabel('Count')\n",
    "plt.xticks(rotation=45)\n",
    "plt.show()"
   ]
  },
  {
   "cell_type": "code",
   "execution_count": 19,
   "id": "31101242",
   "metadata": {
    "execution": {
     "iopub.execute_input": "2024-08-09T12:28:14.538778Z",
     "iopub.status.busy": "2024-08-09T12:28:14.537872Z",
     "iopub.status.idle": "2024-08-09T12:28:14.544430Z",
     "shell.execute_reply": "2024-08-09T12:28:14.543420Z"
    },
    "id": "is154nBt5rC-",
    "papermill": {
     "duration": 0.025357,
     "end_time": "2024-08-09T12:28:14.546713",
     "exception": false,
     "start_time": "2024-08-09T12:28:14.521356",
     "status": "completed"
    },
    "tags": []
   },
   "outputs": [
    {
     "data": {
      "text/plain": [
       "(44763, 44763)"
      ]
     },
     "execution_count": 19,
     "metadata": {},
     "output_type": "execute_result"
    }
   ],
   "source": [
    "len(X), len(y)"
   ]
  },
  {
   "cell_type": "code",
   "execution_count": 20,
   "id": "39067cd0",
   "metadata": {
    "execution": {
     "iopub.execute_input": "2024-08-09T12:28:14.579419Z",
     "iopub.status.busy": "2024-08-09T12:28:14.578507Z",
     "iopub.status.idle": "2024-08-09T12:28:14.594490Z",
     "shell.execute_reply": "2024-08-09T12:28:14.593413Z"
    },
    "id": "uGfZS23e1FNL",
    "papermill": {
     "duration": 0.034841,
     "end_time": "2024-08-09T12:28:14.596974",
     "exception": false,
     "start_time": "2024-08-09T12:28:14.562133",
     "status": "completed"
    },
    "tags": []
   },
   "outputs": [
    {
     "data": {
      "text/plain": [
       "(35810, 8953)"
      ]
     },
     "execution_count": 20,
     "metadata": {},
     "output_type": "execute_result"
    }
   ],
   "source": [
    "from sklearn.model_selection import train_test_split\n",
    "x_train, x_test, y_train, y_test = train_test_split(X, y, test_size=0.2, random_state=42)\n",
    "len(x_train), len(x_test)"
   ]
  },
  {
   "cell_type": "code",
   "execution_count": 21,
   "id": "28a74465",
   "metadata": {
    "execution": {
     "iopub.execute_input": "2024-08-09T12:28:14.631798Z",
     "iopub.status.busy": "2024-08-09T12:28:14.630867Z",
     "iopub.status.idle": "2024-08-09T12:28:14.636117Z",
     "shell.execute_reply": "2024-08-09T12:28:14.635005Z"
    },
    "id": "OIB3pETW1Gzg",
    "papermill": {
     "duration": 0.02438,
     "end_time": "2024-08-09T12:28:14.638253",
     "exception": false,
     "start_time": "2024-08-09T12:28:14.613873",
     "status": "completed"
    },
    "tags": []
   },
   "outputs": [],
   "source": [
    "# for plotting comparisons\n",
    "acc = []; pre = [] ; rec = [] ; f = []"
   ]
  },
  {
   "cell_type": "code",
   "execution_count": 22,
   "id": "4e28801b",
   "metadata": {
    "execution": {
     "iopub.execute_input": "2024-08-09T12:28:14.670542Z",
     "iopub.status.busy": "2024-08-09T12:28:14.670139Z",
     "iopub.status.idle": "2024-08-09T12:28:14.675423Z",
     "shell.execute_reply": "2024-08-09T12:28:14.674408Z"
    },
    "id": "iPMY0fyZ1I4s",
    "papermill": {
     "duration": 0.02393,
     "end_time": "2024-08-09T12:28:14.677690",
     "exception": false,
     "start_time": "2024-08-09T12:28:14.653760",
     "status": "completed"
    },
    "tags": []
   },
   "outputs": [],
   "source": [
    "from sklearn import svm\n",
    "from sklearn.metrics import classification_report,accuracy_score,precision_score,recall_score\n",
    "from sklearn.metrics import accuracy_score,precision_score,recall_score,f1_score\n",
    "import sklearn.metrics as metrics"
   ]
  },
  {
   "cell_type": "code",
   "execution_count": 23,
   "id": "c22ba88a",
   "metadata": {
    "execution": {
     "iopub.execute_input": "2024-08-09T12:28:14.710227Z",
     "iopub.status.busy": "2024-08-09T12:28:14.709326Z",
     "iopub.status.idle": "2024-08-09T12:30:01.002365Z",
     "shell.execute_reply": "2024-08-09T12:30:01.001110Z"
    },
    "id": "5AW_yDIN2CF6",
    "papermill": {
     "duration": 106.313075,
     "end_time": "2024-08-09T12:30:01.005992",
     "exception": false,
     "start_time": "2024-08-09T12:28:14.692917",
     "status": "completed"
    },
    "tags": []
   },
   "outputs": [
    {
     "name": "stdout",
     "output_type": "stream",
     "text": [
      "Collecting tf-keras==2.15\r\n",
      "  Downloading tf_keras-2.15.0-py3-none-any.whl.metadata (1.6 kB)\r\n",
      "Downloading tf_keras-2.15.0-py3-none-any.whl (1.7 MB)\r\n",
      "\u001b[2K   \u001b[90m━━━━━━━━━━━━━━━━━━━━━━━━━━━━━━━━━━━━━━━━\u001b[0m \u001b[32m1.7/1.7 MB\u001b[0m \u001b[31m11.0 MB/s\u001b[0m eta \u001b[36m0:00:00\u001b[0m\r\n",
      "\u001b[?25hInstalling collected packages: tf-keras\r\n",
      "  Attempting uninstall: tf-keras\r\n",
      "    Found existing installation: tf_keras 2.15.1\r\n",
      "    Uninstalling tf_keras-2.15.1:\r\n",
      "      Successfully uninstalled tf_keras-2.15.1\r\n",
      "Successfully installed tf-keras-2.15.0\r\n",
      "Requirement already satisfied: transformers in /opt/conda/lib/python3.10/site-packages (4.42.3)\r\n",
      "Requirement already satisfied: datasets in /opt/conda/lib/python3.10/site-packages (2.20.0)\r\n",
      "Requirement already satisfied: torch in /opt/conda/lib/python3.10/site-packages (2.1.2)\r\n",
      "Requirement already satisfied: tensorboard in /opt/conda/lib/python3.10/site-packages (2.15.1)\r\n",
      "Requirement already satisfied: filelock in /opt/conda/lib/python3.10/site-packages (from transformers) (3.13.1)\r\n",
      "Requirement already satisfied: huggingface-hub<1.0,>=0.23.2 in /opt/conda/lib/python3.10/site-packages (from transformers) (0.23.4)\r\n",
      "Requirement already satisfied: numpy<2.0,>=1.17 in /opt/conda/lib/python3.10/site-packages (from transformers) (1.26.4)\r\n",
      "Requirement already satisfied: packaging>=20.0 in /opt/conda/lib/python3.10/site-packages (from transformers) (21.3)\r\n",
      "Requirement already satisfied: pyyaml>=5.1 in /opt/conda/lib/python3.10/site-packages (from transformers) (6.0.1)\r\n",
      "Requirement already satisfied: regex!=2019.12.17 in /opt/conda/lib/python3.10/site-packages (from transformers) (2023.12.25)\r\n",
      "Requirement already satisfied: requests in /opt/conda/lib/python3.10/site-packages (from transformers) (2.32.3)\r\n",
      "Requirement already satisfied: safetensors>=0.4.1 in /opt/conda/lib/python3.10/site-packages (from transformers) (0.4.3)\r\n",
      "Requirement already satisfied: tokenizers<0.20,>=0.19 in /opt/conda/lib/python3.10/site-packages (from transformers) (0.19.1)\r\n",
      "Requirement already satisfied: tqdm>=4.27 in /opt/conda/lib/python3.10/site-packages (from transformers) (4.66.4)\r\n",
      "Requirement already satisfied: pyarrow>=15.0.0 in /opt/conda/lib/python3.10/site-packages (from datasets) (16.1.0)\r\n",
      "Requirement already satisfied: pyarrow-hotfix in /opt/conda/lib/python3.10/site-packages (from datasets) (0.6)\r\n",
      "Requirement already satisfied: dill<0.3.9,>=0.3.0 in /opt/conda/lib/python3.10/site-packages (from datasets) (0.3.8)\r\n",
      "Requirement already satisfied: pandas in /opt/conda/lib/python3.10/site-packages (from datasets) (2.2.2)\r\n",
      "Requirement already satisfied: xxhash in /opt/conda/lib/python3.10/site-packages (from datasets) (3.4.1)\r\n",
      "Requirement already satisfied: multiprocess in /opt/conda/lib/python3.10/site-packages (from datasets) (0.70.16)\r\n",
      "Requirement already satisfied: fsspec<=2024.5.0,>=2023.1.0 in /opt/conda/lib/python3.10/site-packages (from fsspec[http]<=2024.5.0,>=2023.1.0->datasets) (2024.5.0)\r\n",
      "Requirement already satisfied: aiohttp in /opt/conda/lib/python3.10/site-packages (from datasets) (3.9.1)\r\n",
      "Requirement already satisfied: typing-extensions in /opt/conda/lib/python3.10/site-packages (from torch) (4.9.0)\r\n",
      "Requirement already satisfied: sympy in /opt/conda/lib/python3.10/site-packages (from torch) (1.13.0)\r\n",
      "Requirement already satisfied: networkx in /opt/conda/lib/python3.10/site-packages (from torch) (3.2.1)\r\n",
      "Requirement already satisfied: jinja2 in /opt/conda/lib/python3.10/site-packages (from torch) (3.1.2)\r\n",
      "Requirement already satisfied: absl-py>=0.4 in /opt/conda/lib/python3.10/site-packages (from tensorboard) (1.4.0)\r\n",
      "Requirement already satisfied: grpcio>=1.48.2 in /opt/conda/lib/python3.10/site-packages (from tensorboard) (1.60.0)\r\n",
      "Requirement already satisfied: google-auth<3,>=1.6.3 in /opt/conda/lib/python3.10/site-packages (from tensorboard) (2.26.1)\r\n",
      "Requirement already satisfied: google-auth-oauthlib<2,>=0.5 in /opt/conda/lib/python3.10/site-packages (from tensorboard) (1.2.0)\r\n",
      "Requirement already satisfied: markdown>=2.6.8 in /opt/conda/lib/python3.10/site-packages (from tensorboard) (3.5.2)\r\n",
      "Requirement already satisfied: protobuf<4.24,>=3.19.6 in /opt/conda/lib/python3.10/site-packages (from tensorboard) (3.20.3)\r\n",
      "Requirement already satisfied: setuptools>=41.0.0 in /opt/conda/lib/python3.10/site-packages (from tensorboard) (69.0.3)\r\n",
      "Requirement already satisfied: six>1.9 in /opt/conda/lib/python3.10/site-packages (from tensorboard) (1.16.0)\r\n",
      "Requirement already satisfied: tensorboard-data-server<0.8.0,>=0.7.0 in /opt/conda/lib/python3.10/site-packages (from tensorboard) (0.7.2)\r\n",
      "Requirement already satisfied: werkzeug>=1.0.1 in /opt/conda/lib/python3.10/site-packages (from tensorboard) (3.0.3)\r\n",
      "Requirement already satisfied: attrs>=17.3.0 in /opt/conda/lib/python3.10/site-packages (from aiohttp->datasets) (23.2.0)\r\n",
      "Requirement already satisfied: multidict<7.0,>=4.5 in /opt/conda/lib/python3.10/site-packages (from aiohttp->datasets) (6.0.4)\r\n",
      "Requirement already satisfied: yarl<2.0,>=1.0 in /opt/conda/lib/python3.10/site-packages (from aiohttp->datasets) (1.9.3)\r\n",
      "Requirement already satisfied: frozenlist>=1.1.1 in /opt/conda/lib/python3.10/site-packages (from aiohttp->datasets) (1.4.1)\r\n",
      "Requirement already satisfied: aiosignal>=1.1.2 in /opt/conda/lib/python3.10/site-packages (from aiohttp->datasets) (1.3.1)\r\n",
      "Requirement already satisfied: async-timeout<5.0,>=4.0 in /opt/conda/lib/python3.10/site-packages (from aiohttp->datasets) (4.0.3)\r\n",
      "Requirement already satisfied: cachetools<6.0,>=2.0.0 in /opt/conda/lib/python3.10/site-packages (from google-auth<3,>=1.6.3->tensorboard) (4.2.4)\r\n",
      "Requirement already satisfied: pyasn1-modules>=0.2.1 in /opt/conda/lib/python3.10/site-packages (from google-auth<3,>=1.6.3->tensorboard) (0.3.0)\r\n",
      "Requirement already satisfied: rsa<5,>=3.1.4 in /opt/conda/lib/python3.10/site-packages (from google-auth<3,>=1.6.3->tensorboard) (4.9)\r\n",
      "Requirement already satisfied: requests-oauthlib>=0.7.0 in /opt/conda/lib/python3.10/site-packages (from google-auth-oauthlib<2,>=0.5->tensorboard) (1.3.1)\r\n",
      "Requirement already satisfied: pyparsing!=3.0.5,>=2.0.2 in /opt/conda/lib/python3.10/site-packages (from packaging>=20.0->transformers) (3.1.1)\r\n",
      "Requirement already satisfied: charset-normalizer<4,>=2 in /opt/conda/lib/python3.10/site-packages (from requests->transformers) (3.3.2)\r\n",
      "Requirement already satisfied: idna<4,>=2.5 in /opt/conda/lib/python3.10/site-packages (from requests->transformers) (3.6)\r\n",
      "Requirement already satisfied: urllib3<3,>=1.21.1 in /opt/conda/lib/python3.10/site-packages (from requests->transformers) (1.26.18)\r\n",
      "Requirement already satisfied: certifi>=2017.4.17 in /opt/conda/lib/python3.10/site-packages (from requests->transformers) (2024.7.4)\r\n",
      "Requirement already satisfied: MarkupSafe>=2.1.1 in /opt/conda/lib/python3.10/site-packages (from werkzeug>=1.0.1->tensorboard) (2.1.3)\r\n",
      "Requirement already satisfied: python-dateutil>=2.8.2 in /opt/conda/lib/python3.10/site-packages (from pandas->datasets) (2.9.0.post0)\r\n",
      "Requirement already satisfied: pytz>=2020.1 in /opt/conda/lib/python3.10/site-packages (from pandas->datasets) (2023.3.post1)\r\n",
      "Requirement already satisfied: tzdata>=2022.7 in /opt/conda/lib/python3.10/site-packages (from pandas->datasets) (2023.4)\r\n",
      "Requirement already satisfied: mpmath<1.4,>=1.1.0 in /opt/conda/lib/python3.10/site-packages (from sympy->torch) (1.3.0)\r\n",
      "Requirement already satisfied: pyasn1<0.6.0,>=0.4.6 in /opt/conda/lib/python3.10/site-packages (from pyasn1-modules>=0.2.1->google-auth<3,>=1.6.3->tensorboard) (0.5.1)\r\n",
      "Requirement already satisfied: oauthlib>=3.0.0 in /opt/conda/lib/python3.10/site-packages (from requests-oauthlib>=0.7.0->google-auth-oauthlib<2,>=0.5->tensorboard) (3.2.2)\r\n"
     ]
    }
   ],
   "source": [
    "# Install ktrain\n",
    "!pip install --upgrade pip -q\n",
    "!pip install -q ktrain\n",
    "!pip install tf-keras==2.15\n",
    "!pip install transformers datasets torch tensorboard\n",
    "import os \n",
    "os.environ['TF_USE_LEGACY_KERAS'] = '1'\n",
    "import ktrain"
   ]
  },
  {
   "cell_type": "code",
   "execution_count": 24,
   "id": "d8e9820c",
   "metadata": {
    "execution": {
     "iopub.execute_input": "2024-08-09T12:30:01.050514Z",
     "iopub.status.busy": "2024-08-09T12:30:01.049767Z",
     "iopub.status.idle": "2024-08-09T12:30:01.054989Z",
     "shell.execute_reply": "2024-08-09T12:30:01.053802Z"
    },
    "id": "fLE_Pszv1Kya",
    "papermill": {
     "duration": 0.028004,
     "end_time": "2024-08-09T12:30:01.057843",
     "exception": false,
     "start_time": "2024-08-09T12:30:01.029839",
     "status": "completed"
    },
    "tags": []
   },
   "outputs": [],
   "source": [
    "# from ktrain import text"
   ]
  },
  {
   "cell_type": "code",
   "execution_count": 25,
   "id": "d4f6597c",
   "metadata": {
    "execution": {
     "iopub.execute_input": "2024-08-09T12:30:01.111126Z",
     "iopub.status.busy": "2024-08-09T12:30:01.109902Z",
     "iopub.status.idle": "2024-08-09T12:30:01.154932Z",
     "shell.execute_reply": "2024-08-09T12:30:01.153744Z"
    },
    "id": "8IaZGr184QfT",
    "papermill": {
     "duration": 0.074405,
     "end_time": "2024-08-09T12:30:01.157687",
     "exception": false,
     "start_time": "2024-08-09T12:30:01.083282",
     "status": "completed"
    },
    "tags": []
   },
   "outputs": [],
   "source": [
    "class_names=['enhancement', 'bug','question']\n",
    "x_train = x_train['issue_body'].tolist()\n",
    "y_train = y_train.to_numpy()\n",
    "x_test = x_test['issue_body'].tolist()\n",
    "y_test = y_test.to_numpy()\n"
   ]
  },
  {
   "cell_type": "markdown",
   "id": "f8c463ac",
   "metadata": {
    "papermill": {
     "duration": 0.022839,
     "end_time": "2024-08-09T12:30:01.263333",
     "exception": false,
     "start_time": "2024-08-09T12:30:01.240494",
     "status": "completed"
    },
    "tags": []
   },
   "source": []
  },
  {
   "cell_type": "code",
   "execution_count": 26,
   "id": "4134e3d8",
   "metadata": {
    "execution": {
     "iopub.execute_input": "2024-08-09T12:30:01.308394Z",
     "iopub.status.busy": "2024-08-09T12:30:01.307296Z",
     "iopub.status.idle": "2024-08-09T12:30:01.313231Z",
     "shell.execute_reply": "2024-08-09T12:30:01.312086Z"
    },
    "id": "xO2-fI0I2fjX",
    "papermill": {
     "duration": 0.029926,
     "end_time": "2024-08-09T12:30:01.315553",
     "exception": false,
     "start_time": "2024-08-09T12:30:01.285627",
     "status": "completed"
    },
    "tags": []
   },
   "outputs": [],
   "source": [
    "# (x_train, y_train), (x_test, y_test), preproc = text.texts_from_array(x_train=x_train,\n",
    "#                                                                       y_train=y_train,\n",
    "#                                                                       x_test=x_test,\n",
    "#                                                                       y_test=y_test,\n",
    "#                                                                       class_names=class_names,\n",
    "#                                                                       preprocess_mode='bert',maxlen=80)"
   ]
  },
  {
   "cell_type": "code",
   "execution_count": 27,
   "id": "f1bc761b",
   "metadata": {
    "execution": {
     "iopub.execute_input": "2024-08-09T12:30:01.355011Z",
     "iopub.status.busy": "2024-08-09T12:30:01.354087Z",
     "iopub.status.idle": "2024-08-09T12:30:01.360246Z",
     "shell.execute_reply": "2024-08-09T12:30:01.358939Z"
    },
    "id": "1W9t-WoW2k-F",
    "papermill": {
     "duration": 0.028827,
     "end_time": "2024-08-09T12:30:01.363038",
     "exception": false,
     "start_time": "2024-08-09T12:30:01.334211",
     "status": "completed"
    },
    "tags": []
   },
   "outputs": [],
   "source": [
    "# # Step 3: Load the pre-trained BERT model\n",
    "# model = text.text_classifier('bert', (x_train, y_train), preproc=preproc)\n",
    "\n",
    "# # Step 4: Initialize a ktrain classifier using BERT\n",
    "# learner = ktrain.get_learner(model, train_data=(x_train, y_train), val_data=(x_test, y_test))\n",
    "\n",
    "# # Step 5: Train the classifier on your data\n",
    "# learner.fit_onecycle(2e-5, 1)\n",
    "\n",
    "# # Step 6: Evaluate the classifier on a validation set\n",
    "# learner.validate(val_data=(x_test, y_test))\n"
   ]
  },
  {
   "cell_type": "code",
   "execution_count": 28,
   "id": "5f790667",
   "metadata": {
    "execution": {
     "iopub.execute_input": "2024-08-09T12:30:01.401408Z",
     "iopub.status.busy": "2024-08-09T12:30:01.400359Z",
     "iopub.status.idle": "2024-08-09T12:30:01.405484Z",
     "shell.execute_reply": "2024-08-09T12:30:01.404374Z"
    },
    "id": "Dj0uWnBU55l5",
    "papermill": {
     "duration": 0.026991,
     "end_time": "2024-08-09T12:30:01.407741",
     "exception": false,
     "start_time": "2024-08-09T12:30:01.380750",
     "status": "completed"
    },
    "tags": []
   },
   "outputs": [],
   "source": [
    "# # It may need long time but ensures healthy training\n",
    "# learner.lr_find(show_plot=True, max_epochs=2)"
   ]
  },
  {
   "cell_type": "code",
   "execution_count": 29,
   "id": "5b575582",
   "metadata": {
    "execution": {
     "iopub.execute_input": "2024-08-09T12:30:01.444469Z",
     "iopub.status.busy": "2024-08-09T12:30:01.443426Z",
     "iopub.status.idle": "2024-08-09T12:30:01.449451Z",
     "shell.execute_reply": "2024-08-09T12:30:01.448238Z"
    },
    "id": "O_nPN2q258bS",
    "papermill": {
     "duration": 0.027412,
     "end_time": "2024-08-09T12:30:01.452357",
     "exception": false,
     "start_time": "2024-08-09T12:30:01.424945",
     "status": "completed"
    },
    "tags": []
   },
   "outputs": [],
   "source": [
    "# # After the learning rate find process plot the curve of leaning rate - loss to select best learning rate\n",
    "# learner.lr_plot()"
   ]
  },
  {
   "cell_type": "code",
   "execution_count": 30,
   "id": "ca0f9b41",
   "metadata": {
    "execution": {
     "iopub.execute_input": "2024-08-09T12:30:01.491400Z",
     "iopub.status.busy": "2024-08-09T12:30:01.490961Z",
     "iopub.status.idle": "2024-08-09T12:30:01.495695Z",
     "shell.execute_reply": "2024-08-09T12:30:01.494622Z"
    },
    "id": "8Ajk6hpZH7rO",
    "papermill": {
     "duration": 0.025828,
     "end_time": "2024-08-09T12:30:01.498357",
     "exception": false,
     "start_time": "2024-08-09T12:30:01.472529",
     "status": "completed"
    },
    "tags": []
   },
   "outputs": [],
   "source": [
    "# # Fit the leraner to the data for 2 epochs\n",
    "# # Many other fit options available on the documentation of ktrain https://github.com/amaiya/ktrain\n",
    "# learner.autofit(2e-5, 2)\n",
    "# learner.validate(val_data=(x_test, y_test))"
   ]
  },
  {
   "cell_type": "code",
   "execution_count": 31,
   "id": "1bc7ef4b",
   "metadata": {
    "execution": {
     "iopub.execute_input": "2024-08-09T12:30:01.539371Z",
     "iopub.status.busy": "2024-08-09T12:30:01.538362Z",
     "iopub.status.idle": "2024-08-09T12:30:01.542992Z",
     "shell.execute_reply": "2024-08-09T12:30:01.541955Z"
    },
    "id": "_RNjD5aIH8Bi",
    "papermill": {
     "duration": 0.026115,
     "end_time": "2024-08-09T12:30:01.545566",
     "exception": false,
     "start_time": "2024-08-09T12:30:01.519451",
     "status": "completed"
    },
    "tags": []
   },
   "outputs": [],
   "source": [
    "#predictor = ktrain.get_predictor(learner.model)\n",
    "#predictor.save('/content/drive/MyDrive/NLP/my_predictor')"
   ]
  },
  {
   "cell_type": "code",
   "execution_count": null,
   "id": "e49e285f",
   "metadata": {
    "papermill": {
     "duration": 0.017387,
     "end_time": "2024-08-09T12:30:01.584115",
     "exception": false,
     "start_time": "2024-08-09T12:30:01.566728",
     "status": "completed"
    },
    "tags": []
   },
   "outputs": [],
   "source": []
  },
  {
   "cell_type": "code",
   "execution_count": 32,
   "id": "ae5e0686",
   "metadata": {
    "execution": {
     "iopub.execute_input": "2024-08-09T12:30:01.623906Z",
     "iopub.status.busy": "2024-08-09T12:30:01.623521Z",
     "iopub.status.idle": "2024-08-09T12:30:25.393380Z",
     "shell.execute_reply": "2024-08-09T12:30:25.392161Z"
    },
    "papermill": {
     "duration": 23.791196,
     "end_time": "2024-08-09T12:30:25.396077",
     "exception": false,
     "start_time": "2024-08-09T12:30:01.604881",
     "status": "completed"
    },
    "tags": []
   },
   "outputs": [
    {
     "data": {
      "application/vnd.jupyter.widget-view+json": {
       "model_id": "151a3c36bebd49c4980bb691c320ba4b",
       "version_major": 2,
       "version_minor": 0
      },
      "text/plain": [
       "tokenizer_config.json:   0%|          | 0.00/373 [00:00<?, ?B/s]"
      ]
     },
     "metadata": {},
     "output_type": "display_data"
    },
    {
     "data": {
      "application/vnd.jupyter.widget-view+json": {
       "model_id": "1f36560e542b49198c6324486c2124c0",
       "version_major": 2,
       "version_minor": 0
      },
      "text/plain": [
       "vocab.txt:   0%|          | 0.00/996k [00:00<?, ?B/s]"
      ]
     },
     "metadata": {},
     "output_type": "display_data"
    },
    {
     "data": {
      "application/vnd.jupyter.widget-view+json": {
       "model_id": "c1157ecfc12c4ee79af0ffc6b026ff39",
       "version_major": 2,
       "version_minor": 0
      },
      "text/plain": [
       "tokenizer.json:   0%|          | 0.00/2.92M [00:00<?, ?B/s]"
      ]
     },
     "metadata": {},
     "output_type": "display_data"
    },
    {
     "data": {
      "application/vnd.jupyter.widget-view+json": {
       "model_id": "4c5a95912bc94d1e8eb7b6e8a8d75897",
       "version_major": 2,
       "version_minor": 0
      },
      "text/plain": [
       "special_tokens_map.json:   0%|          | 0.00/125 [00:00<?, ?B/s]"
      ]
     },
     "metadata": {},
     "output_type": "display_data"
    }
   ],
   "source": [
    "from transformers import AutoTokenizer\n",
    "\n",
    "# Load the tokenizer\n",
    "tokenizer = AutoTokenizer.from_pretrained(\"lxyuan/distilbert-base-multilingual-cased-sentiments-student\")\n",
    "\n",
    "# Tokenize the training data\n",
    "train_encodings = tokenizer(x_train, truncation=True, padding=True)\n",
    "\n",
    "# Tokenize the testing data\n",
    "test_encodings = tokenizer(x_test, truncation=True, padding=True)\n"
   ]
  },
  {
   "cell_type": "code",
   "execution_count": 33,
   "id": "fcc7b1e5",
   "metadata": {
    "execution": {
     "iopub.execute_input": "2024-08-09T12:30:25.432687Z",
     "iopub.status.busy": "2024-08-09T12:30:25.432305Z",
     "iopub.status.idle": "2024-08-09T12:30:25.459058Z",
     "shell.execute_reply": "2024-08-09T12:30:25.458232Z"
    },
    "papermill": {
     "duration": 0.047936,
     "end_time": "2024-08-09T12:30:25.461304",
     "exception": false,
     "start_time": "2024-08-09T12:30:25.413368",
     "status": "completed"
    },
    "tags": []
   },
   "outputs": [],
   "source": [
    "import torch\n",
    "\n",
    "# Convert labels to tensors\n",
    "train_labels = torch.tensor(y_train)\n",
    "test_labels = torch.tensor(y_test)\n"
   ]
  },
  {
   "cell_type": "code",
   "execution_count": 34,
   "id": "dc42a307",
   "metadata": {
    "execution": {
     "iopub.execute_input": "2024-08-09T12:30:25.498014Z",
     "iopub.status.busy": "2024-08-09T12:30:25.497443Z",
     "iopub.status.idle": "2024-08-09T12:30:25.504903Z",
     "shell.execute_reply": "2024-08-09T12:30:25.503930Z"
    },
    "papermill": {
     "duration": 0.027829,
     "end_time": "2024-08-09T12:30:25.507084",
     "exception": false,
     "start_time": "2024-08-09T12:30:25.479255",
     "status": "completed"
    },
    "tags": []
   },
   "outputs": [],
   "source": [
    "from torch.utils.data import Dataset\n",
    "\n",
    "class CustomDataset(Dataset):\n",
    "    def __init__(self, encodings, labels):\n",
    "        self.encodings = encodings\n",
    "        self.labels = labels\n",
    "\n",
    "    def __getitem__(self, idx):\n",
    "        item = {key: torch.tensor(val[idx]) for key, val in self.encodings.items()}\n",
    "        item['labels'] = self.labels[idx]\n",
    "        return item\n",
    "\n",
    "    def __len__(self):\n",
    "        return len(self.labels)\n",
    "\n",
    "# Create the dataset objects\n",
    "train_dataset = CustomDataset(train_encodings, train_labels)\n",
    "test_dataset = CustomDataset(test_encodings, test_labels)\n"
   ]
  },
  {
   "cell_type": "code",
   "execution_count": 35,
   "id": "4c94f157",
   "metadata": {
    "execution": {
     "iopub.execute_input": "2024-08-09T12:30:25.542853Z",
     "iopub.status.busy": "2024-08-09T12:30:25.542504Z",
     "iopub.status.idle": "2024-08-09T13:22:29.713701Z",
     "shell.execute_reply": "2024-08-09T13:22:29.712504Z"
    },
    "papermill": {
     "duration": 3124.241338,
     "end_time": "2024-08-09T13:22:29.765596",
     "exception": false,
     "start_time": "2024-08-09T12:30:25.524258",
     "status": "completed"
    },
    "tags": []
   },
   "outputs": [
    {
     "data": {
      "application/vnd.jupyter.widget-view+json": {
       "model_id": "eb4a5e1dfdcc4ee7907391bb95d0eeee",
       "version_major": 2,
       "version_minor": 0
      },
      "text/plain": [
       "config.json:   0%|          | 0.00/759 [00:00<?, ?B/s]"
      ]
     },
     "metadata": {},
     "output_type": "display_data"
    },
    {
     "data": {
      "application/vnd.jupyter.widget-view+json": {
       "model_id": "3b6ea4c73b744e0faecc69ebfdca5dac",
       "version_major": 2,
       "version_minor": 0
      },
      "text/plain": [
       "model.safetensors:   0%|          | 0.00/541M [00:00<?, ?B/s]"
      ]
     },
     "metadata": {},
     "output_type": "display_data"
    },
    {
     "name": "stderr",
     "output_type": "stream",
     "text": [
      "/opt/conda/lib/python3.10/site-packages/torch/nn/parallel/_functions.py:68: UserWarning: Was asked to gather along dimension 0, but all input tensors were scalars; will instead unsqueeze and return a vector.\n",
      "  warnings.warn('Was asked to gather along dimension 0, but all '\n"
     ]
    },
    {
     "name": "stdout",
     "output_type": "stream",
     "text": [
      "{'loss': 1.0885, 'grad_norm': 3.2569351196289062, 'learning_rate': 1.0000000000000002e-06, 'epoch': 0.008928571428571428}\n",
      "{'loss': 1.1601, 'grad_norm': 3.11722993850708, 'learning_rate': 2.0000000000000003e-06, 'epoch': 0.017857142857142856}\n",
      "{'loss': 1.09, 'grad_norm': 2.9224250316619873, 'learning_rate': 3e-06, 'epoch': 0.026785714285714284}\n",
      "{'loss': 1.0803, 'grad_norm': 3.1353278160095215, 'learning_rate': 4.000000000000001e-06, 'epoch': 0.03571428571428571}\n",
      "{'loss': 1.0654, 'grad_norm': 2.0791287422180176, 'learning_rate': 5e-06, 'epoch': 0.044642857142857144}\n",
      "{'loss': 1.0463, 'grad_norm': 3.7139716148376465, 'learning_rate': 6e-06, 'epoch': 0.05357142857142857}\n",
      "{'loss': 1.0044, 'grad_norm': 2.3534679412841797, 'learning_rate': 7.000000000000001e-06, 'epoch': 0.0625}\n",
      "{'loss': 0.9632, 'grad_norm': 2.4667375087738037, 'learning_rate': 8.000000000000001e-06, 'epoch': 0.07142857142857142}\n",
      "{'loss': 1.0027, 'grad_norm': 2.347271203994751, 'learning_rate': 9e-06, 'epoch': 0.08035714285714286}\n",
      "{'loss': 0.9612, 'grad_norm': 2.431183338165283, 'learning_rate': 1e-05, 'epoch': 0.08928571428571429}\n",
      "{'loss': 0.9461, 'grad_norm': 2.930154323577881, 'learning_rate': 1.1000000000000001e-05, 'epoch': 0.09821428571428571}\n",
      "{'loss': 0.9829, 'grad_norm': 3.3898065090179443, 'learning_rate': 1.2e-05, 'epoch': 0.10714285714285714}\n",
      "{'loss': 0.891, 'grad_norm': 2.422128200531006, 'learning_rate': 1.3000000000000001e-05, 'epoch': 0.11607142857142858}\n",
      "{'loss': 0.9636, 'grad_norm': 2.4666504859924316, 'learning_rate': 1.4000000000000001e-05, 'epoch': 0.125}\n",
      "{'loss': 0.9261, 'grad_norm': 3.4527270793914795, 'learning_rate': 1.5e-05, 'epoch': 0.13392857142857142}\n",
      "{'loss': 0.8936, 'grad_norm': 3.2986698150634766, 'learning_rate': 1.6000000000000003e-05, 'epoch': 0.14285714285714285}\n",
      "{'loss': 0.8499, 'grad_norm': 4.449352264404297, 'learning_rate': 1.7000000000000003e-05, 'epoch': 0.15178571428571427}\n",
      "{'loss': 0.8632, 'grad_norm': 3.4852352142333984, 'learning_rate': 1.8e-05, 'epoch': 0.16071428571428573}\n",
      "{'loss': 0.8634, 'grad_norm': 3.978515148162842, 'learning_rate': 1.9e-05, 'epoch': 0.16964285714285715}\n",
      "{'loss': 0.8166, 'grad_norm': 3.111578941345215, 'learning_rate': 2e-05, 'epoch': 0.17857142857142858}\n",
      "{'loss': 0.8357, 'grad_norm': 3.012911558151245, 'learning_rate': 2.1e-05, 'epoch': 0.1875}\n",
      "{'loss': 0.8712, 'grad_norm': 4.730971813201904, 'learning_rate': 2.2000000000000003e-05, 'epoch': 0.19642857142857142}\n",
      "{'loss': 0.8477, 'grad_norm': 3.9121453762054443, 'learning_rate': 2.3000000000000003e-05, 'epoch': 0.20535714285714285}\n",
      "{'loss': 0.8428, 'grad_norm': 2.6519367694854736, 'learning_rate': 2.4e-05, 'epoch': 0.21428571428571427}\n",
      "{'loss': 0.8417, 'grad_norm': 4.2582478523254395, 'learning_rate': 2.5e-05, 'epoch': 0.22321428571428573}\n",
      "{'loss': 0.7585, 'grad_norm': 4.4326276779174805, 'learning_rate': 2.6000000000000002e-05, 'epoch': 0.23214285714285715}\n",
      "{'loss': 0.8119, 'grad_norm': 5.322575569152832, 'learning_rate': 2.7000000000000002e-05, 'epoch': 0.24107142857142858}\n",
      "{'loss': 0.8278, 'grad_norm': 5.100780487060547, 'learning_rate': 2.8000000000000003e-05, 'epoch': 0.25}\n",
      "{'loss': 0.8002, 'grad_norm': 3.719224452972412, 'learning_rate': 2.9e-05, 'epoch': 0.25892857142857145}\n",
      "{'loss': 0.7888, 'grad_norm': 2.930854320526123, 'learning_rate': 3e-05, 'epoch': 0.26785714285714285}\n",
      "{'loss': 0.6787, 'grad_norm': 5.523736953735352, 'learning_rate': 3.1e-05, 'epoch': 0.2767857142857143}\n",
      "{'loss': 0.834, 'grad_norm': 5.676462173461914, 'learning_rate': 3.2000000000000005e-05, 'epoch': 0.2857142857142857}\n",
      "{'loss': 0.7612, 'grad_norm': 4.206613540649414, 'learning_rate': 3.3e-05, 'epoch': 0.29464285714285715}\n",
      "{'loss': 0.7442, 'grad_norm': 5.008125305175781, 'learning_rate': 3.4000000000000007e-05, 'epoch': 0.30357142857142855}\n",
      "{'loss': 0.7262, 'grad_norm': 3.074894428253174, 'learning_rate': 3.5e-05, 'epoch': 0.3125}\n",
      "{'loss': 0.7897, 'grad_norm': 4.718963146209717, 'learning_rate': 3.6e-05, 'epoch': 0.32142857142857145}\n",
      "{'loss': 0.769, 'grad_norm': 4.486468315124512, 'learning_rate': 3.7e-05, 'epoch': 0.33035714285714285}\n",
      "{'loss': 0.7104, 'grad_norm': 4.318797588348389, 'learning_rate': 3.8e-05, 'epoch': 0.3392857142857143}\n",
      "{'loss': 0.7365, 'grad_norm': 3.7580642700195312, 'learning_rate': 3.9000000000000006e-05, 'epoch': 0.3482142857142857}\n",
      "{'loss': 0.7968, 'grad_norm': 3.999411106109619, 'learning_rate': 4e-05, 'epoch': 0.35714285714285715}\n",
      "{'loss': 0.7634, 'grad_norm': 3.6488840579986572, 'learning_rate': 4.1e-05, 'epoch': 0.36607142857142855}\n",
      "{'loss': 0.7394, 'grad_norm': 4.71039342880249, 'learning_rate': 4.2e-05, 'epoch': 0.375}\n",
      "{'loss': 0.7419, 'grad_norm': 5.450573444366455, 'learning_rate': 4.3e-05, 'epoch': 0.38392857142857145}\n",
      "{'loss': 0.7105, 'grad_norm': 3.6353118419647217, 'learning_rate': 4.4000000000000006e-05, 'epoch': 0.39285714285714285}\n",
      "{'loss': 0.7831, 'grad_norm': 4.187370300292969, 'learning_rate': 4.5e-05, 'epoch': 0.4017857142857143}\n",
      "{'loss': 0.7319, 'grad_norm': 3.7730112075805664, 'learning_rate': 4.600000000000001e-05, 'epoch': 0.4107142857142857}\n",
      "{'loss': 0.8651, 'grad_norm': 2.802309036254883, 'learning_rate': 4.7e-05, 'epoch': 0.41964285714285715}\n",
      "{'loss': 0.7443, 'grad_norm': 3.6881332397460938, 'learning_rate': 4.8e-05, 'epoch': 0.42857142857142855}\n",
      "{'loss': 0.6969, 'grad_norm': 4.202357769012451, 'learning_rate': 4.9e-05, 'epoch': 0.4375}\n",
      "{'loss': 0.6503, 'grad_norm': 3.690092086791992, 'learning_rate': 5e-05, 'epoch': 0.44642857142857145}\n"
     ]
    },
    {
     "name": "stderr",
     "output_type": "stream",
     "text": [
      "/opt/conda/lib/python3.10/site-packages/torch/nn/parallel/_functions.py:68: UserWarning: Was asked to gather along dimension 0, but all input tensors were scalars; will instead unsqueeze and return a vector.\n",
      "  warnings.warn('Was asked to gather along dimension 0, but all '\n"
     ]
    },
    {
     "name": "stdout",
     "output_type": "stream",
     "text": [
      "{'loss': 0.754, 'grad_norm': 4.655868053436279, 'learning_rate': 4.982517482517482e-05, 'epoch': 0.45535714285714285}\n",
      "{'loss': 0.6765, 'grad_norm': 3.1304690837860107, 'learning_rate': 4.9650349650349656e-05, 'epoch': 0.4642857142857143}\n",
      "{'loss': 0.7596, 'grad_norm': 2.999706983566284, 'learning_rate': 4.9475524475524476e-05, 'epoch': 0.4732142857142857}\n",
      "{'loss': 0.7637, 'grad_norm': 4.072930335998535, 'learning_rate': 4.93006993006993e-05, 'epoch': 0.48214285714285715}\n",
      "{'loss': 0.7228, 'grad_norm': 4.7640228271484375, 'learning_rate': 4.912587412587413e-05, 'epoch': 0.49107142857142855}\n",
      "{'loss': 0.6406, 'grad_norm': 3.7524254322052, 'learning_rate': 4.8951048951048956e-05, 'epoch': 0.5}\n",
      "{'loss': 0.7044, 'grad_norm': 4.873019695281982, 'learning_rate': 4.8776223776223776e-05, 'epoch': 0.5089285714285714}\n",
      "{'loss': 0.7326, 'grad_norm': 3.2290549278259277, 'learning_rate': 4.86013986013986e-05, 'epoch': 0.5178571428571429}\n",
      "{'loss': 0.7047, 'grad_norm': 2.815279960632324, 'learning_rate': 4.842657342657343e-05, 'epoch': 0.5267857142857143}\n",
      "{'loss': 0.7304, 'grad_norm': 3.54298996925354, 'learning_rate': 4.825174825174825e-05, 'epoch': 0.5357142857142857}\n",
      "{'loss': 0.6956, 'grad_norm': 4.7381815910339355, 'learning_rate': 4.8076923076923084e-05, 'epoch': 0.5446428571428571}\n",
      "{'loss': 0.698, 'grad_norm': 3.7576541900634766, 'learning_rate': 4.7902097902097904e-05, 'epoch': 0.5535714285714286}\n",
      "{'loss': 0.7773, 'grad_norm': 3.964556932449341, 'learning_rate': 4.772727272727273e-05, 'epoch': 0.5625}\n",
      "{'loss': 0.6674, 'grad_norm': 3.9735283851623535, 'learning_rate': 4.755244755244756e-05, 'epoch': 0.5714285714285714}\n",
      "{'loss': 0.7624, 'grad_norm': 4.377106666564941, 'learning_rate': 4.7377622377622384e-05, 'epoch': 0.5803571428571429}\n",
      "{'loss': 0.7684, 'grad_norm': 2.6520214080810547, 'learning_rate': 4.7202797202797204e-05, 'epoch': 0.5892857142857143}\n",
      "{'loss': 0.6762, 'grad_norm': 4.2326836585998535, 'learning_rate': 4.702797202797203e-05, 'epoch': 0.5982142857142857}\n",
      "{'loss': 0.7868, 'grad_norm': 3.7393243312835693, 'learning_rate': 4.685314685314686e-05, 'epoch': 0.6071428571428571}\n",
      "{'loss': 0.6206, 'grad_norm': 2.8758084774017334, 'learning_rate': 4.667832167832168e-05, 'epoch': 0.6160714285714286}\n",
      "{'loss': 0.707, 'grad_norm': 3.3930177688598633, 'learning_rate': 4.6503496503496505e-05, 'epoch': 0.625}\n",
      "{'loss': 0.6897, 'grad_norm': 3.343780279159546, 'learning_rate': 4.632867132867133e-05, 'epoch': 0.6339285714285714}\n",
      "{'loss': 0.7099, 'grad_norm': 2.556366205215454, 'learning_rate': 4.615384615384616e-05, 'epoch': 0.6428571428571429}\n",
      "{'loss': 0.6838, 'grad_norm': 2.705254554748535, 'learning_rate': 4.597902097902098e-05, 'epoch': 0.6517857142857143}\n",
      "{'loss': 0.6964, 'grad_norm': 3.8111162185668945, 'learning_rate': 4.5804195804195805e-05, 'epoch': 0.6607142857142857}\n",
      "{'loss': 0.7633, 'grad_norm': 3.696497917175293, 'learning_rate': 4.562937062937063e-05, 'epoch': 0.6696428571428571}\n",
      "{'loss': 0.7521, 'grad_norm': 2.6177053451538086, 'learning_rate': 4.545454545454546e-05, 'epoch': 0.6785714285714286}\n",
      "{'loss': 0.6977, 'grad_norm': 4.579912185668945, 'learning_rate': 4.5279720279720285e-05, 'epoch': 0.6875}\n",
      "{'loss': 0.7253, 'grad_norm': 3.5538461208343506, 'learning_rate': 4.5104895104895105e-05, 'epoch': 0.6964285714285714}\n",
      "{'loss': 0.7811, 'grad_norm': 3.687610626220703, 'learning_rate': 4.493006993006993e-05, 'epoch': 0.7053571428571429}\n",
      "{'loss': 0.6439, 'grad_norm': 3.9353039264678955, 'learning_rate': 4.475524475524476e-05, 'epoch': 0.7142857142857143}\n",
      "{'loss': 0.7217, 'grad_norm': 2.6823441982269287, 'learning_rate': 4.458041958041958e-05, 'epoch': 0.7232142857142857}\n",
      "{'loss': 0.8081, 'grad_norm': 3.0102241039276123, 'learning_rate': 4.4405594405594406e-05, 'epoch': 0.7321428571428571}\n",
      "{'loss': 0.7423, 'grad_norm': 2.7050836086273193, 'learning_rate': 4.423076923076923e-05, 'epoch': 0.7410714285714286}\n",
      "{'loss': 0.7323, 'grad_norm': 3.0783631801605225, 'learning_rate': 4.405594405594406e-05, 'epoch': 0.75}\n",
      "{'loss': 0.717, 'grad_norm': 2.268761157989502, 'learning_rate': 4.388111888111888e-05, 'epoch': 0.7589285714285714}\n",
      "{'loss': 0.7081, 'grad_norm': 2.746494770050049, 'learning_rate': 4.370629370629371e-05, 'epoch': 0.7678571428571429}\n",
      "{'loss': 0.6738, 'grad_norm': 3.6740963459014893, 'learning_rate': 4.353146853146853e-05, 'epoch': 0.7767857142857143}\n",
      "{'loss': 0.6409, 'grad_norm': 3.8144986629486084, 'learning_rate': 4.335664335664335e-05, 'epoch': 0.7857142857142857}\n",
      "{'loss': 0.6393, 'grad_norm': 2.951272487640381, 'learning_rate': 4.318181818181819e-05, 'epoch': 0.7946428571428571}\n",
      "{'loss': 0.6526, 'grad_norm': 3.8682687282562256, 'learning_rate': 4.300699300699301e-05, 'epoch': 0.8035714285714286}\n",
      "{'loss': 0.7083, 'grad_norm': 2.789665460586548, 'learning_rate': 4.2832167832167833e-05, 'epoch': 0.8125}\n",
      "{'loss': 0.6366, 'grad_norm': 4.181231498718262, 'learning_rate': 4.265734265734266e-05, 'epoch': 0.8214285714285714}\n",
      "{'loss': 0.7635, 'grad_norm': 2.707965612411499, 'learning_rate': 4.248251748251749e-05, 'epoch': 0.8303571428571429}\n",
      "{'loss': 0.6866, 'grad_norm': 2.9670069217681885, 'learning_rate': 4.230769230769231e-05, 'epoch': 0.8392857142857143}\n",
      "{'loss': 0.6465, 'grad_norm': 2.7299258708953857, 'learning_rate': 4.213286713286714e-05, 'epoch': 0.8482142857142857}\n",
      "{'loss': 0.7908, 'grad_norm': 3.5331037044525146, 'learning_rate': 4.195804195804196e-05, 'epoch': 0.8571428571428571}\n",
      "{'loss': 0.7521, 'grad_norm': 2.5325191020965576, 'learning_rate': 4.178321678321678e-05, 'epoch': 0.8660714285714286}\n",
      "{'loss': 0.632, 'grad_norm': 3.0119822025299072, 'learning_rate': 4.1608391608391614e-05, 'epoch': 0.875}\n",
      "{'loss': 0.609, 'grad_norm': 3.770934820175171, 'learning_rate': 4.1433566433566434e-05, 'epoch': 0.8839285714285714}\n",
      "{'loss': 0.6827, 'grad_norm': 3.8510055541992188, 'learning_rate': 4.125874125874126e-05, 'epoch': 0.8928571428571429}\n"
     ]
    },
    {
     "name": "stderr",
     "output_type": "stream",
     "text": [
      "/opt/conda/lib/python3.10/site-packages/torch/nn/parallel/_functions.py:68: UserWarning: Was asked to gather along dimension 0, but all input tensors were scalars; will instead unsqueeze and return a vector.\n",
      "  warnings.warn('Was asked to gather along dimension 0, but all '\n"
     ]
    },
    {
     "name": "stdout",
     "output_type": "stream",
     "text": [
      "{'loss': 0.7088, 'grad_norm': 4.395554542541504, 'learning_rate': 4.108391608391609e-05, 'epoch': 0.9017857142857143}\n",
      "{'loss': 0.6421, 'grad_norm': 2.6308507919311523, 'learning_rate': 4.0909090909090915e-05, 'epoch': 0.9107142857142857}\n",
      "{'loss': 0.6377, 'grad_norm': 2.9115428924560547, 'learning_rate': 4.0734265734265735e-05, 'epoch': 0.9196428571428571}\n",
      "{'loss': 0.6219, 'grad_norm': 2.503847599029541, 'learning_rate': 4.055944055944056e-05, 'epoch': 0.9285714285714286}\n",
      "{'loss': 0.6788, 'grad_norm': 4.742367267608643, 'learning_rate': 4.038461538461539e-05, 'epoch': 0.9375}\n",
      "{'loss': 0.6746, 'grad_norm': 2.645181894302368, 'learning_rate': 4.020979020979021e-05, 'epoch': 0.9464285714285714}\n",
      "{'loss': 0.6415, 'grad_norm': 4.5702996253967285, 'learning_rate': 4.0034965034965035e-05, 'epoch': 0.9553571428571429}\n",
      "{'loss': 0.6736, 'grad_norm': 3.5586955547332764, 'learning_rate': 3.986013986013986e-05, 'epoch': 0.9642857142857143}\n",
      "{'loss': 0.7309, 'grad_norm': 2.902865171432495, 'learning_rate': 3.968531468531469e-05, 'epoch': 0.9732142857142857}\n",
      "{'loss': 0.6601, 'grad_norm': 3.3088085651397705, 'learning_rate': 3.9510489510489516e-05, 'epoch': 0.9821428571428571}\n",
      "{'loss': 0.6382, 'grad_norm': 3.584468126296997, 'learning_rate': 3.9335664335664336e-05, 'epoch': 0.9910714285714286}\n",
      "{'loss': 0.6132, 'grad_norm': 1.3090832233428955, 'learning_rate': 3.916083916083916e-05, 'epoch': 1.0}\n",
      "{'loss': 0.5397, 'grad_norm': 3.1934287548065186, 'learning_rate': 3.898601398601399e-05, 'epoch': 1.0089285714285714}\n",
      "{'loss': 0.6189, 'grad_norm': 5.523684978485107, 'learning_rate': 3.8811188811188816e-05, 'epoch': 1.0178571428571428}\n",
      "{'loss': 0.624, 'grad_norm': 3.0970282554626465, 'learning_rate': 3.8636363636363636e-05, 'epoch': 1.0267857142857142}\n",
      "{'loss': 0.5551, 'grad_norm': 4.443325996398926, 'learning_rate': 3.846153846153846e-05, 'epoch': 1.0357142857142858}\n",
      "{'loss': 0.6145, 'grad_norm': 3.6711952686309814, 'learning_rate': 3.828671328671329e-05, 'epoch': 1.0446428571428572}\n",
      "{'loss': 0.6379, 'grad_norm': 3.0677804946899414, 'learning_rate': 3.811188811188811e-05, 'epoch': 1.0535714285714286}\n",
      "{'loss': 0.6102, 'grad_norm': 3.8686368465423584, 'learning_rate': 3.7937062937062936e-05, 'epoch': 1.0625}\n",
      "{'loss': 0.5845, 'grad_norm': 3.727435350418091, 'learning_rate': 3.776223776223776e-05, 'epoch': 1.0714285714285714}\n",
      "{'loss': 0.6158, 'grad_norm': 4.076955318450928, 'learning_rate': 3.758741258741259e-05, 'epoch': 1.0803571428571428}\n",
      "{'loss': 0.5343, 'grad_norm': 4.166837215423584, 'learning_rate': 3.741258741258741e-05, 'epoch': 1.0892857142857142}\n",
      "{'loss': 0.7023, 'grad_norm': 3.7136504650115967, 'learning_rate': 3.7237762237762244e-05, 'epoch': 1.0982142857142858}\n",
      "{'loss': 0.5816, 'grad_norm': 3.285613775253296, 'learning_rate': 3.7062937062937064e-05, 'epoch': 1.1071428571428572}\n",
      "{'loss': 0.5921, 'grad_norm': 6.01759672164917, 'learning_rate': 3.688811188811189e-05, 'epoch': 1.1160714285714286}\n",
      "{'loss': 0.5188, 'grad_norm': 4.436191558837891, 'learning_rate': 3.671328671328672e-05, 'epoch': 1.125}\n",
      "{'loss': 0.6469, 'grad_norm': 3.9114491939544678, 'learning_rate': 3.653846153846154e-05, 'epoch': 1.1339285714285714}\n",
      "{'loss': 0.6406, 'grad_norm': 4.212278366088867, 'learning_rate': 3.6363636363636364e-05, 'epoch': 1.1428571428571428}\n",
      "{'loss': 0.6226, 'grad_norm': 5.089433670043945, 'learning_rate': 3.618881118881119e-05, 'epoch': 1.1517857142857142}\n",
      "{'loss': 0.5538, 'grad_norm': 4.375922203063965, 'learning_rate': 3.601398601398602e-05, 'epoch': 1.1607142857142858}\n",
      "{'loss': 0.5674, 'grad_norm': 4.351783752441406, 'learning_rate': 3.583916083916084e-05, 'epoch': 1.1696428571428572}\n",
      "{'loss': 0.5571, 'grad_norm': 3.29404878616333, 'learning_rate': 3.566433566433567e-05, 'epoch': 1.1785714285714286}\n",
      "{'loss': 0.5891, 'grad_norm': 3.2090096473693848, 'learning_rate': 3.548951048951049e-05, 'epoch': 1.1875}\n",
      "{'loss': 0.5973, 'grad_norm': 4.24975061416626, 'learning_rate': 3.531468531468531e-05, 'epoch': 1.1964285714285714}\n",
      "{'loss': 0.5647, 'grad_norm': 3.9255619049072266, 'learning_rate': 3.5139860139860145e-05, 'epoch': 1.2053571428571428}\n",
      "{'loss': 0.6168, 'grad_norm': 3.475712299346924, 'learning_rate': 3.4965034965034965e-05, 'epoch': 1.2142857142857142}\n",
      "{'loss': 0.617, 'grad_norm': 2.9254605770111084, 'learning_rate': 3.479020979020979e-05, 'epoch': 1.2232142857142858}\n",
      "{'loss': 0.6498, 'grad_norm': 4.871077060699463, 'learning_rate': 3.461538461538462e-05, 'epoch': 1.2321428571428572}\n",
      "{'loss': 0.6052, 'grad_norm': 5.324211120605469, 'learning_rate': 3.4440559440559445e-05, 'epoch': 1.2410714285714286}\n",
      "{'loss': 0.5534, 'grad_norm': 3.5414035320281982, 'learning_rate': 3.4265734265734265e-05, 'epoch': 1.25}\n",
      "{'loss': 0.5546, 'grad_norm': 4.944570064544678, 'learning_rate': 3.409090909090909e-05, 'epoch': 1.2589285714285714}\n",
      "{'loss': 0.5121, 'grad_norm': 3.620354652404785, 'learning_rate': 3.391608391608392e-05, 'epoch': 1.2678571428571428}\n",
      "{'loss': 0.5977, 'grad_norm': 5.138041019439697, 'learning_rate': 3.374125874125874e-05, 'epoch': 1.2767857142857144}\n",
      "{'loss': 0.5501, 'grad_norm': 3.076406955718994, 'learning_rate': 3.356643356643357e-05, 'epoch': 1.2857142857142856}\n",
      "{'loss': 0.587, 'grad_norm': 4.199617385864258, 'learning_rate': 3.339160839160839e-05, 'epoch': 1.2946428571428572}\n",
      "{'loss': 0.6574, 'grad_norm': 2.353567600250244, 'learning_rate': 3.321678321678322e-05, 'epoch': 1.3035714285714286}\n",
      "{'loss': 0.5508, 'grad_norm': 4.778065204620361, 'learning_rate': 3.3041958041958046e-05, 'epoch': 1.3125}\n",
      "{'loss': 0.6414, 'grad_norm': 3.8360979557037354, 'learning_rate': 3.2867132867132866e-05, 'epoch': 1.3214285714285714}\n",
      "{'loss': 0.5135, 'grad_norm': 3.6600773334503174, 'learning_rate': 3.269230769230769e-05, 'epoch': 1.3303571428571428}\n",
      "{'loss': 0.5116, 'grad_norm': 4.061978816986084, 'learning_rate': 3.251748251748252e-05, 'epoch': 1.3392857142857144}\n"
     ]
    },
    {
     "name": "stderr",
     "output_type": "stream",
     "text": [
      "/opt/conda/lib/python3.10/site-packages/torch/nn/parallel/_functions.py:68: UserWarning: Was asked to gather along dimension 0, but all input tensors were scalars; will instead unsqueeze and return a vector.\n",
      "  warnings.warn('Was asked to gather along dimension 0, but all '\n"
     ]
    },
    {
     "name": "stdout",
     "output_type": "stream",
     "text": [
      "{'loss': 0.5869, 'grad_norm': 5.411759376525879, 'learning_rate': 3.234265734265735e-05, 'epoch': 1.3482142857142856}\n",
      "{'loss': 0.6169, 'grad_norm': 3.8199400901794434, 'learning_rate': 3.216783216783217e-05, 'epoch': 1.3571428571428572}\n",
      "{'loss': 0.6303, 'grad_norm': 4.816324710845947, 'learning_rate': 3.1993006993006994e-05, 'epoch': 1.3660714285714286}\n",
      "{'loss': 0.6657, 'grad_norm': 4.295899868011475, 'learning_rate': 3.181818181818182e-05, 'epoch': 1.375}\n",
      "{'loss': 0.5887, 'grad_norm': 4.6232757568359375, 'learning_rate': 3.164335664335665e-05, 'epoch': 1.3839285714285714}\n",
      "{'loss': 0.5964, 'grad_norm': 2.2717151641845703, 'learning_rate': 3.146853146853147e-05, 'epoch': 1.3928571428571428}\n",
      "{'loss': 0.5913, 'grad_norm': 3.4681601524353027, 'learning_rate': 3.1293706293706294e-05, 'epoch': 1.4017857142857144}\n",
      "{'loss': 0.5852, 'grad_norm': 3.875572919845581, 'learning_rate': 3.111888111888112e-05, 'epoch': 1.4107142857142856}\n",
      "{'loss': 0.6241, 'grad_norm': 4.054861545562744, 'learning_rate': 3.094405594405594e-05, 'epoch': 1.4196428571428572}\n",
      "{'loss': 0.5542, 'grad_norm': 3.599353075027466, 'learning_rate': 3.0769230769230774e-05, 'epoch': 1.4285714285714286}\n",
      "{'loss': 0.6169, 'grad_norm': 4.224299430847168, 'learning_rate': 3.0594405594405594e-05, 'epoch': 1.4375}\n",
      "{'loss': 0.5395, 'grad_norm': 5.329335689544678, 'learning_rate': 3.0419580419580425e-05, 'epoch': 1.4464285714285714}\n",
      "{'loss': 0.6556, 'grad_norm': 3.2839250564575195, 'learning_rate': 3.0244755244755245e-05, 'epoch': 1.4553571428571428}\n",
      "{'loss': 0.6839, 'grad_norm': 4.215869426727295, 'learning_rate': 3.0069930069930068e-05, 'epoch': 1.4642857142857144}\n",
      "{'loss': 0.6227, 'grad_norm': 3.9918649196624756, 'learning_rate': 2.9895104895104898e-05, 'epoch': 1.4732142857142856}\n",
      "{'loss': 0.6137, 'grad_norm': 4.069298267364502, 'learning_rate': 2.972027972027972e-05, 'epoch': 1.4821428571428572}\n",
      "{'loss': 0.5476, 'grad_norm': 3.786989688873291, 'learning_rate': 2.954545454545455e-05, 'epoch': 1.4910714285714286}\n",
      "{'loss': 0.6043, 'grad_norm': 3.4032480716705322, 'learning_rate': 2.9370629370629372e-05, 'epoch': 1.5}\n",
      "{'loss': 0.5558, 'grad_norm': 4.630650997161865, 'learning_rate': 2.91958041958042e-05, 'epoch': 1.5089285714285714}\n",
      "{'loss': 0.5649, 'grad_norm': 4.9445271492004395, 'learning_rate': 2.9020979020979022e-05, 'epoch': 1.5178571428571428}\n",
      "{'loss': 0.539, 'grad_norm': 4.857749938964844, 'learning_rate': 2.8846153846153845e-05, 'epoch': 1.5267857142857144}\n",
      "{'loss': 0.628, 'grad_norm': 3.8796606063842773, 'learning_rate': 2.8671328671328672e-05, 'epoch': 1.5357142857142856}\n",
      "{'loss': 0.5675, 'grad_norm': 5.116971492767334, 'learning_rate': 2.8496503496503496e-05, 'epoch': 1.5446428571428572}\n",
      "{'loss': 0.5963, 'grad_norm': 5.94483757019043, 'learning_rate': 2.8321678321678326e-05, 'epoch': 1.5535714285714286}\n",
      "{'loss': 0.6137, 'grad_norm': 4.823685646057129, 'learning_rate': 2.8146853146853146e-05, 'epoch': 1.5625}\n",
      "{'loss': 0.5814, 'grad_norm': 5.001678466796875, 'learning_rate': 2.7972027972027976e-05, 'epoch': 1.5714285714285714}\n",
      "{'loss': 0.5978, 'grad_norm': 4.005014419555664, 'learning_rate': 2.77972027972028e-05, 'epoch': 1.5803571428571428}\n",
      "{'loss': 0.6341, 'grad_norm': 4.814446926116943, 'learning_rate': 2.762237762237762e-05, 'epoch': 1.5892857142857144}\n",
      "{'loss': 0.6595, 'grad_norm': 3.6957688331604004, 'learning_rate': 2.744755244755245e-05, 'epoch': 1.5982142857142856}\n",
      "{'loss': 0.5858, 'grad_norm': 4.126543998718262, 'learning_rate': 2.7272727272727273e-05, 'epoch': 1.6071428571428572}\n",
      "{'loss': 0.5982, 'grad_norm': 3.7165424823760986, 'learning_rate': 2.70979020979021e-05, 'epoch': 1.6160714285714286}\n",
      "{'loss': 0.6392, 'grad_norm': 4.449195861816406, 'learning_rate': 2.6923076923076923e-05, 'epoch': 1.625}\n",
      "{'loss': 0.6348, 'grad_norm': 3.1716127395629883, 'learning_rate': 2.674825174825175e-05, 'epoch': 1.6339285714285714}\n",
      "{'loss': 0.5816, 'grad_norm': 3.4572155475616455, 'learning_rate': 2.6573426573426574e-05, 'epoch': 1.6428571428571428}\n",
      "{'loss': 0.5504, 'grad_norm': 3.3769772052764893, 'learning_rate': 2.6398601398601404e-05, 'epoch': 1.6517857142857144}\n",
      "{'loss': 0.5609, 'grad_norm': 4.4520416259765625, 'learning_rate': 2.6223776223776224e-05, 'epoch': 1.6607142857142856}\n",
      "{'loss': 0.559, 'grad_norm': 5.005414009094238, 'learning_rate': 2.6048951048951047e-05, 'epoch': 1.6696428571428572}\n",
      "{'loss': 0.5829, 'grad_norm': 3.7437753677368164, 'learning_rate': 2.5874125874125877e-05, 'epoch': 1.6785714285714286}\n",
      "{'loss': 0.591, 'grad_norm': 3.811577081680298, 'learning_rate': 2.5699300699300697e-05, 'epoch': 1.6875}\n",
      "{'loss': 0.6248, 'grad_norm': 5.703958511352539, 'learning_rate': 2.5524475524475528e-05, 'epoch': 1.6964285714285714}\n",
      "{'loss': 0.5989, 'grad_norm': 4.521528244018555, 'learning_rate': 2.534965034965035e-05, 'epoch': 1.7053571428571428}\n",
      "{'loss': 0.5891, 'grad_norm': 5.985628128051758, 'learning_rate': 2.5174825174825178e-05, 'epoch': 1.7142857142857144}\n",
      "{'loss': 0.6106, 'grad_norm': 2.844949245452881, 'learning_rate': 2.5e-05, 'epoch': 1.7232142857142856}\n",
      "{'loss': 0.5916, 'grad_norm': 4.481921195983887, 'learning_rate': 2.4825174825174828e-05, 'epoch': 1.7321428571428572}\n",
      "{'loss': 0.6223, 'grad_norm': 4.817277431488037, 'learning_rate': 2.465034965034965e-05, 'epoch': 1.7410714285714286}\n",
      "{'loss': 0.5382, 'grad_norm': 3.888577699661255, 'learning_rate': 2.4475524475524478e-05, 'epoch': 1.75}\n",
      "{'loss': 0.5719, 'grad_norm': 3.5255327224731445, 'learning_rate': 2.43006993006993e-05, 'epoch': 1.7589285714285714}\n",
      "{'loss': 0.5493, 'grad_norm': 3.204756498336792, 'learning_rate': 2.4125874125874125e-05, 'epoch': 1.7678571428571428}\n",
      "{'loss': 0.5808, 'grad_norm': 4.016181468963623, 'learning_rate': 2.3951048951048952e-05, 'epoch': 1.7767857142857144}\n",
      "{'loss': 0.5925, 'grad_norm': 4.302898406982422, 'learning_rate': 2.377622377622378e-05, 'epoch': 1.7857142857142856}\n"
     ]
    },
    {
     "name": "stderr",
     "output_type": "stream",
     "text": [
      "/opt/conda/lib/python3.10/site-packages/torch/nn/parallel/_functions.py:68: UserWarning: Was asked to gather along dimension 0, but all input tensors were scalars; will instead unsqueeze and return a vector.\n",
      "  warnings.warn('Was asked to gather along dimension 0, but all '\n"
     ]
    },
    {
     "name": "stdout",
     "output_type": "stream",
     "text": [
      "{'loss': 0.6057, 'grad_norm': 4.7961602210998535, 'learning_rate': 2.3601398601398602e-05, 'epoch': 1.7946428571428572}\n",
      "{'loss': 0.5808, 'grad_norm': 3.6881003379821777, 'learning_rate': 2.342657342657343e-05, 'epoch': 1.8035714285714286}\n",
      "{'loss': 0.577, 'grad_norm': 3.995339870452881, 'learning_rate': 2.3251748251748252e-05, 'epoch': 1.8125}\n",
      "{'loss': 0.5433, 'grad_norm': 3.7024104595184326, 'learning_rate': 2.307692307692308e-05, 'epoch': 1.8214285714285714}\n",
      "{'loss': 0.5958, 'grad_norm': 4.568267822265625, 'learning_rate': 2.2902097902097902e-05, 'epoch': 1.8303571428571428}\n",
      "{'loss': 0.5266, 'grad_norm': 4.925532817840576, 'learning_rate': 2.272727272727273e-05, 'epoch': 1.8392857142857144}\n",
      "{'loss': 0.5812, 'grad_norm': 4.082018852233887, 'learning_rate': 2.2552447552447553e-05, 'epoch': 1.8482142857142856}\n",
      "{'loss': 0.6268, 'grad_norm': 4.9198317527771, 'learning_rate': 2.237762237762238e-05, 'epoch': 1.8571428571428572}\n",
      "{'loss': 0.5894, 'grad_norm': 4.071492671966553, 'learning_rate': 2.2202797202797203e-05, 'epoch': 1.8660714285714286}\n",
      "{'loss': 0.5603, 'grad_norm': 3.3457508087158203, 'learning_rate': 2.202797202797203e-05, 'epoch': 1.875}\n",
      "{'loss': 0.5299, 'grad_norm': 5.694633483886719, 'learning_rate': 2.1853146853146857e-05, 'epoch': 1.8839285714285714}\n",
      "{'loss': 0.5429, 'grad_norm': 3.8157522678375244, 'learning_rate': 2.1678321678321677e-05, 'epoch': 1.8928571428571428}\n",
      "{'loss': 0.555, 'grad_norm': 4.213534355163574, 'learning_rate': 2.1503496503496503e-05, 'epoch': 1.9017857142857144}\n",
      "{'loss': 0.6058, 'grad_norm': 4.804335117340088, 'learning_rate': 2.132867132867133e-05, 'epoch': 1.9107142857142856}\n",
      "{'loss': 0.5862, 'grad_norm': 4.349477767944336, 'learning_rate': 2.1153846153846154e-05, 'epoch': 1.9196428571428572}\n",
      "{'loss': 0.5625, 'grad_norm': 4.642219066619873, 'learning_rate': 2.097902097902098e-05, 'epoch': 1.9285714285714286}\n",
      "{'loss': 0.5556, 'grad_norm': 6.464884281158447, 'learning_rate': 2.0804195804195807e-05, 'epoch': 1.9375}\n",
      "{'loss': 0.5253, 'grad_norm': 6.025046348571777, 'learning_rate': 2.062937062937063e-05, 'epoch': 1.9464285714285714}\n",
      "{'loss': 0.6808, 'grad_norm': 6.473381996154785, 'learning_rate': 2.0454545454545457e-05, 'epoch': 1.9553571428571428}\n",
      "{'loss': 0.6013, 'grad_norm': 3.6134350299835205, 'learning_rate': 2.027972027972028e-05, 'epoch': 1.9642857142857144}\n",
      "{'loss': 0.5811, 'grad_norm': 3.67574405670166, 'learning_rate': 2.0104895104895104e-05, 'epoch': 1.9732142857142856}\n",
      "{'loss': 0.5896, 'grad_norm': 5.350073337554932, 'learning_rate': 1.993006993006993e-05, 'epoch': 1.9821428571428572}\n",
      "{'loss': 0.615, 'grad_norm': 3.83809494972229, 'learning_rate': 1.9755244755244758e-05, 'epoch': 1.9910714285714286}\n",
      "{'loss': 0.558, 'grad_norm': 22.7137393951416, 'learning_rate': 1.958041958041958e-05, 'epoch': 2.0}\n",
      "{'loss': 0.44, 'grad_norm': 2.636401414871216, 'learning_rate': 1.9405594405594408e-05, 'epoch': 2.0089285714285716}\n",
      "{'loss': 0.4226, 'grad_norm': 3.47994065284729, 'learning_rate': 1.923076923076923e-05, 'epoch': 2.017857142857143}\n",
      "{'loss': 0.4833, 'grad_norm': 6.173891544342041, 'learning_rate': 1.9055944055944055e-05, 'epoch': 2.0267857142857144}\n",
      "{'loss': 0.4382, 'grad_norm': 4.352180004119873, 'learning_rate': 1.888111888111888e-05, 'epoch': 2.0357142857142856}\n",
      "{'loss': 0.4816, 'grad_norm': 5.558879852294922, 'learning_rate': 1.8706293706293705e-05, 'epoch': 2.044642857142857}\n",
      "{'loss': 0.4518, 'grad_norm': 7.083680152893066, 'learning_rate': 1.8531468531468532e-05, 'epoch': 2.0535714285714284}\n",
      "{'loss': 0.4453, 'grad_norm': 5.970583438873291, 'learning_rate': 1.835664335664336e-05, 'epoch': 2.0625}\n",
      "{'loss': 0.3966, 'grad_norm': 5.06941032409668, 'learning_rate': 1.8181818181818182e-05, 'epoch': 2.0714285714285716}\n",
      "{'loss': 0.3819, 'grad_norm': 6.169729709625244, 'learning_rate': 1.800699300699301e-05, 'epoch': 2.080357142857143}\n",
      "{'loss': 0.4845, 'grad_norm': 2.6091601848602295, 'learning_rate': 1.7832167832167836e-05, 'epoch': 2.0892857142857144}\n",
      "{'loss': 0.4158, 'grad_norm': 5.099022388458252, 'learning_rate': 1.7657342657342656e-05, 'epoch': 2.0982142857142856}\n",
      "{'loss': 0.4544, 'grad_norm': 4.85791015625, 'learning_rate': 1.7482517482517483e-05, 'epoch': 2.107142857142857}\n",
      "{'loss': 0.428, 'grad_norm': 7.345223426818848, 'learning_rate': 1.730769230769231e-05, 'epoch': 2.1160714285714284}\n",
      "{'loss': 0.4533, 'grad_norm': 6.937763690948486, 'learning_rate': 1.7132867132867133e-05, 'epoch': 2.125}\n",
      "{'loss': 0.3635, 'grad_norm': 6.666464328765869, 'learning_rate': 1.695804195804196e-05, 'epoch': 2.1339285714285716}\n",
      "{'loss': 0.4345, 'grad_norm': 7.361532211303711, 'learning_rate': 1.6783216783216786e-05, 'epoch': 2.142857142857143}\n",
      "{'loss': 0.4952, 'grad_norm': 5.67383337020874, 'learning_rate': 1.660839160839161e-05, 'epoch': 2.1517857142857144}\n",
      "{'loss': 0.4426, 'grad_norm': 8.629993438720703, 'learning_rate': 1.6433566433566433e-05, 'epoch': 2.1607142857142856}\n",
      "{'loss': 0.4687, 'grad_norm': 7.870330333709717, 'learning_rate': 1.625874125874126e-05, 'epoch': 2.169642857142857}\n",
      "{'loss': 0.4554, 'grad_norm': 4.528303623199463, 'learning_rate': 1.6083916083916083e-05, 'epoch': 2.1785714285714284}\n",
      "{'loss': 0.4133, 'grad_norm': 2.8958637714385986, 'learning_rate': 1.590909090909091e-05, 'epoch': 2.1875}\n",
      "{'loss': 0.336, 'grad_norm': 4.795966148376465, 'learning_rate': 1.5734265734265734e-05, 'epoch': 2.1964285714285716}\n",
      "{'loss': 0.3738, 'grad_norm': 5.934178829193115, 'learning_rate': 1.555944055944056e-05, 'epoch': 2.205357142857143}\n",
      "{'loss': 0.3983, 'grad_norm': 4.410001754760742, 'learning_rate': 1.5384615384615387e-05, 'epoch': 2.2142857142857144}\n",
      "{'loss': 0.3977, 'grad_norm': 6.232508659362793, 'learning_rate': 1.5209790209790212e-05, 'epoch': 2.2232142857142856}\n",
      "{'loss': 0.4289, 'grad_norm': 6.960289001464844, 'learning_rate': 1.5034965034965034e-05, 'epoch': 2.232142857142857}\n"
     ]
    },
    {
     "name": "stderr",
     "output_type": "stream",
     "text": [
      "/opt/conda/lib/python3.10/site-packages/torch/nn/parallel/_functions.py:68: UserWarning: Was asked to gather along dimension 0, but all input tensors were scalars; will instead unsqueeze and return a vector.\n",
      "  warnings.warn('Was asked to gather along dimension 0, but all '\n"
     ]
    },
    {
     "name": "stdout",
     "output_type": "stream",
     "text": [
      "{'loss': 0.5482, 'grad_norm': 7.298633098602295, 'learning_rate': 1.486013986013986e-05, 'epoch': 2.2410714285714284}\n",
      "{'loss': 0.3771, 'grad_norm': 4.876344680786133, 'learning_rate': 1.4685314685314686e-05, 'epoch': 2.25}\n",
      "{'loss': 0.4298, 'grad_norm': 5.017694473266602, 'learning_rate': 1.4510489510489511e-05, 'epoch': 2.2589285714285716}\n",
      "{'loss': 0.5091, 'grad_norm': 5.952572822570801, 'learning_rate': 1.4335664335664336e-05, 'epoch': 2.267857142857143}\n",
      "{'loss': 0.4698, 'grad_norm': 8.758365631103516, 'learning_rate': 1.4160839160839163e-05, 'epoch': 2.2767857142857144}\n",
      "{'loss': 0.3976, 'grad_norm': 7.194395065307617, 'learning_rate': 1.3986013986013988e-05, 'epoch': 2.2857142857142856}\n",
      "{'loss': 0.4061, 'grad_norm': 5.83532190322876, 'learning_rate': 1.381118881118881e-05, 'epoch': 2.294642857142857}\n",
      "{'loss': 0.4281, 'grad_norm': 5.312700271606445, 'learning_rate': 1.3636363636363637e-05, 'epoch': 2.3035714285714284}\n",
      "{'loss': 0.4419, 'grad_norm': 5.306683540344238, 'learning_rate': 1.3461538461538462e-05, 'epoch': 2.3125}\n",
      "{'loss': 0.4575, 'grad_norm': 4.739512920379639, 'learning_rate': 1.3286713286713287e-05, 'epoch': 2.3214285714285716}\n",
      "{'loss': 0.4342, 'grad_norm': 6.483027458190918, 'learning_rate': 1.3111888111888112e-05, 'epoch': 2.330357142857143}\n",
      "{'loss': 0.3852, 'grad_norm': 4.543684482574463, 'learning_rate': 1.2937062937062939e-05, 'epoch': 2.3392857142857144}\n",
      "{'loss': 0.5001, 'grad_norm': 6.351642608642578, 'learning_rate': 1.2762237762237764e-05, 'epoch': 2.3482142857142856}\n",
      "{'loss': 0.4698, 'grad_norm': 5.840340614318848, 'learning_rate': 1.2587412587412589e-05, 'epoch': 2.357142857142857}\n",
      "{'loss': 0.4584, 'grad_norm': 7.166284561157227, 'learning_rate': 1.2412587412587414e-05, 'epoch': 2.3660714285714284}\n",
      "{'loss': 0.3946, 'grad_norm': 8.602679252624512, 'learning_rate': 1.2237762237762239e-05, 'epoch': 2.375}\n",
      "{'loss': 0.3997, 'grad_norm': 8.090899467468262, 'learning_rate': 1.2062937062937063e-05, 'epoch': 2.3839285714285716}\n",
      "{'loss': 0.4723, 'grad_norm': 5.8482985496521, 'learning_rate': 1.188811188811189e-05, 'epoch': 2.392857142857143}\n",
      "{'loss': 0.4727, 'grad_norm': 4.418412208557129, 'learning_rate': 1.1713286713286714e-05, 'epoch': 2.4017857142857144}\n",
      "{'loss': 0.5027, 'grad_norm': 6.336425304412842, 'learning_rate': 1.153846153846154e-05, 'epoch': 2.4107142857142856}\n",
      "{'loss': 0.4253, 'grad_norm': 4.778956413269043, 'learning_rate': 1.1363636363636365e-05, 'epoch': 2.419642857142857}\n",
      "{'loss': 0.4135, 'grad_norm': 5.271274566650391, 'learning_rate': 1.118881118881119e-05, 'epoch': 2.4285714285714284}\n",
      "{'loss': 0.4118, 'grad_norm': 5.622283458709717, 'learning_rate': 1.1013986013986015e-05, 'epoch': 2.4375}\n",
      "{'loss': 0.489, 'grad_norm': 7.578369140625, 'learning_rate': 1.0839160839160838e-05, 'epoch': 2.4464285714285716}\n",
      "{'loss': 0.4897, 'grad_norm': 5.571098804473877, 'learning_rate': 1.0664335664335665e-05, 'epoch': 2.455357142857143}\n",
      "{'loss': 0.4091, 'grad_norm': 4.775310516357422, 'learning_rate': 1.048951048951049e-05, 'epoch': 2.4642857142857144}\n",
      "{'loss': 0.4707, 'grad_norm': 6.160888671875, 'learning_rate': 1.0314685314685315e-05, 'epoch': 2.4732142857142856}\n",
      "{'loss': 0.5185, 'grad_norm': 5.532286167144775, 'learning_rate': 1.013986013986014e-05, 'epoch': 2.482142857142857}\n",
      "{'loss': 0.394, 'grad_norm': 4.330609321594238, 'learning_rate': 9.965034965034966e-06, 'epoch': 2.4910714285714284}\n",
      "{'loss': 0.4282, 'grad_norm': 3.6022756099700928, 'learning_rate': 9.79020979020979e-06, 'epoch': 2.5}\n",
      "{'loss': 0.3773, 'grad_norm': 6.110293865203857, 'learning_rate': 9.615384615384616e-06, 'epoch': 2.508928571428571}\n",
      "{'loss': 0.4392, 'grad_norm': 5.060405731201172, 'learning_rate': 9.44055944055944e-06, 'epoch': 2.517857142857143}\n",
      "{'loss': 0.4328, 'grad_norm': 3.8810055255889893, 'learning_rate': 9.265734265734266e-06, 'epoch': 2.5267857142857144}\n",
      "{'loss': 0.562, 'grad_norm': 7.523316860198975, 'learning_rate': 9.090909090909091e-06, 'epoch': 2.5357142857142856}\n",
      "{'loss': 0.4923, 'grad_norm': 6.550154209136963, 'learning_rate': 8.916083916083918e-06, 'epoch': 2.544642857142857}\n",
      "{'loss': 0.4069, 'grad_norm': 7.052036762237549, 'learning_rate': 8.741258741258741e-06, 'epoch': 2.553571428571429}\n",
      "{'loss': 0.4704, 'grad_norm': 6.521550178527832, 'learning_rate': 8.566433566433566e-06, 'epoch': 2.5625}\n",
      "{'loss': 0.4104, 'grad_norm': 4.560555458068848, 'learning_rate': 8.391608391608393e-06, 'epoch': 2.571428571428571}\n",
      "{'loss': 0.4768, 'grad_norm': 6.216723918914795, 'learning_rate': 8.216783216783217e-06, 'epoch': 2.580357142857143}\n",
      "{'loss': 0.4606, 'grad_norm': 6.610171794891357, 'learning_rate': 8.041958041958042e-06, 'epoch': 2.5892857142857144}\n",
      "{'loss': 0.4323, 'grad_norm': 4.820369243621826, 'learning_rate': 7.867132867132867e-06, 'epoch': 2.5982142857142856}\n",
      "{'loss': 0.4369, 'grad_norm': 6.698263168334961, 'learning_rate': 7.692307692307694e-06, 'epoch': 2.607142857142857}\n",
      "{'loss': 0.3391, 'grad_norm': 9.09174633026123, 'learning_rate': 7.517482517482517e-06, 'epoch': 2.616071428571429}\n",
      "{'loss': 0.4042, 'grad_norm': 7.762912273406982, 'learning_rate': 7.342657342657343e-06, 'epoch': 2.625}\n",
      "{'loss': 0.3454, 'grad_norm': 4.169029712677002, 'learning_rate': 7.167832167832168e-06, 'epoch': 2.633928571428571}\n",
      "{'loss': 0.4294, 'grad_norm': 5.673981666564941, 'learning_rate': 6.993006993006994e-06, 'epoch': 2.642857142857143}\n",
      "{'loss': 0.3811, 'grad_norm': 5.982054710388184, 'learning_rate': 6.818181818181818e-06, 'epoch': 2.6517857142857144}\n",
      "{'loss': 0.3642, 'grad_norm': 6.087983131408691, 'learning_rate': 6.643356643356643e-06, 'epoch': 2.6607142857142856}\n",
      "{'loss': 0.368, 'grad_norm': 5.822500705718994, 'learning_rate': 6.468531468531469e-06, 'epoch': 2.669642857142857}\n",
      "{'loss': 0.4477, 'grad_norm': 6.641872406005859, 'learning_rate': 6.2937062937062944e-06, 'epoch': 2.678571428571429}\n"
     ]
    },
    {
     "name": "stderr",
     "output_type": "stream",
     "text": [
      "/opt/conda/lib/python3.10/site-packages/torch/nn/parallel/_functions.py:68: UserWarning: Was asked to gather along dimension 0, but all input tensors were scalars; will instead unsqueeze and return a vector.\n",
      "  warnings.warn('Was asked to gather along dimension 0, but all '\n"
     ]
    },
    {
     "name": "stdout",
     "output_type": "stream",
     "text": [
      "{'loss': 0.4429, 'grad_norm': 6.700713634490967, 'learning_rate': 6.1188811188811196e-06, 'epoch': 2.6875}\n",
      "{'loss': 0.4552, 'grad_norm': 8.234386444091797, 'learning_rate': 5.944055944055945e-06, 'epoch': 2.696428571428571}\n",
      "{'loss': 0.4695, 'grad_norm': 8.062552452087402, 'learning_rate': 5.76923076923077e-06, 'epoch': 2.705357142857143}\n",
      "{'loss': 0.3879, 'grad_norm': 5.925590515136719, 'learning_rate': 5.594405594405595e-06, 'epoch': 2.7142857142857144}\n",
      "{'loss': 0.449, 'grad_norm': 7.377349853515625, 'learning_rate': 5.419580419580419e-06, 'epoch': 2.7232142857142856}\n",
      "{'loss': 0.4074, 'grad_norm': 7.617330551147461, 'learning_rate': 5.244755244755245e-06, 'epoch': 2.732142857142857}\n",
      "{'loss': 0.3984, 'grad_norm': 7.09498405456543, 'learning_rate': 5.06993006993007e-06, 'epoch': 2.741071428571429}\n",
      "{'loss': 0.4998, 'grad_norm': 8.563286781311035, 'learning_rate': 4.895104895104895e-06, 'epoch': 2.75}\n",
      "{'loss': 0.4016, 'grad_norm': 6.288974761962891, 'learning_rate': 4.72027972027972e-06, 'epoch': 2.758928571428571}\n",
      "{'loss': 0.3934, 'grad_norm': 5.844904899597168, 'learning_rate': 4.5454545454545455e-06, 'epoch': 2.767857142857143}\n",
      "{'loss': 0.4613, 'grad_norm': 4.303982257843018, 'learning_rate': 4.370629370629371e-06, 'epoch': 2.7767857142857144}\n",
      "{'loss': 0.3865, 'grad_norm': 7.12099552154541, 'learning_rate': 4.195804195804197e-06, 'epoch': 2.7857142857142856}\n",
      "{'loss': 0.3946, 'grad_norm': 8.326008796691895, 'learning_rate': 4.020979020979021e-06, 'epoch': 2.794642857142857}\n",
      "{'loss': 0.4109, 'grad_norm': 8.229159355163574, 'learning_rate': 3.846153846153847e-06, 'epoch': 2.803571428571429}\n",
      "{'loss': 0.4296, 'grad_norm': 7.16090726852417, 'learning_rate': 3.6713286713286715e-06, 'epoch': 2.8125}\n",
      "{'loss': 0.4153, 'grad_norm': 4.909144401550293, 'learning_rate': 3.496503496503497e-06, 'epoch': 2.821428571428571}\n",
      "{'loss': 0.3692, 'grad_norm': 5.710944652557373, 'learning_rate': 3.3216783216783217e-06, 'epoch': 2.830357142857143}\n",
      "{'loss': 0.4181, 'grad_norm': 6.312953948974609, 'learning_rate': 3.1468531468531472e-06, 'epoch': 2.8392857142857144}\n",
      "{'loss': 0.4637, 'grad_norm': 7.057150840759277, 'learning_rate': 2.9720279720279723e-06, 'epoch': 2.8482142857142856}\n",
      "{'loss': 0.4505, 'grad_norm': 7.777213096618652, 'learning_rate': 2.7972027972027974e-06, 'epoch': 2.857142857142857}\n",
      "{'loss': 0.4312, 'grad_norm': 6.369951248168945, 'learning_rate': 2.6223776223776225e-06, 'epoch': 2.866071428571429}\n",
      "{'loss': 0.4266, 'grad_norm': 5.049384593963623, 'learning_rate': 2.4475524475524477e-06, 'epoch': 2.875}\n",
      "{'loss': 0.3652, 'grad_norm': 6.64921760559082, 'learning_rate': 2.2727272727272728e-06, 'epoch': 2.883928571428571}\n",
      "{'loss': 0.4561, 'grad_norm': 7.108510971069336, 'learning_rate': 2.0979020979020983e-06, 'epoch': 2.892857142857143}\n",
      "{'loss': 0.4102, 'grad_norm': 6.492961883544922, 'learning_rate': 1.9230769230769234e-06, 'epoch': 2.9017857142857144}\n",
      "{'loss': 0.4325, 'grad_norm': 5.912520885467529, 'learning_rate': 1.7482517482517485e-06, 'epoch': 2.9107142857142856}\n",
      "{'loss': 0.4214, 'grad_norm': 7.053360462188721, 'learning_rate': 1.5734265734265736e-06, 'epoch': 2.919642857142857}\n",
      "{'loss': 0.4591, 'grad_norm': 4.945089340209961, 'learning_rate': 1.3986013986013987e-06, 'epoch': 2.928571428571429}\n",
      "{'loss': 0.3625, 'grad_norm': 6.793985843658447, 'learning_rate': 1.2237762237762238e-06, 'epoch': 2.9375}\n",
      "{'loss': 0.4395, 'grad_norm': 5.956058025360107, 'learning_rate': 1.0489510489510491e-06, 'epoch': 2.946428571428571}\n",
      "{'loss': 0.4414, 'grad_norm': 8.537625312805176, 'learning_rate': 8.741258741258743e-07, 'epoch': 2.955357142857143}\n",
      "{'loss': 0.4523, 'grad_norm': 6.240463733673096, 'learning_rate': 6.993006993006994e-07, 'epoch': 2.9642857142857144}\n",
      "{'loss': 0.4053, 'grad_norm': 7.927536964416504, 'learning_rate': 5.244755244755246e-07, 'epoch': 2.9732142857142856}\n",
      "{'loss': 0.3647, 'grad_norm': 4.349672794342041, 'learning_rate': 3.496503496503497e-07, 'epoch': 2.982142857142857}\n",
      "{'loss': 0.4165, 'grad_norm': 7.101562976837158, 'learning_rate': 1.7482517482517484e-07, 'epoch': 2.991071428571429}\n",
      "{'loss': 0.469, 'grad_norm': 43.629451751708984, 'learning_rate': 0.0, 'epoch': 3.0}\n",
      "{'train_runtime': 3118.4055, 'train_samples_per_second': 34.45, 'train_steps_per_second': 1.077, 'train_loss': 0.5964888689063844, 'epoch': 3.0}\n"
     ]
    },
    {
     "data": {
      "text/plain": [
       "TrainOutput(global_step=3360, training_loss=0.5964888689063844, metrics={'train_runtime': 3118.4055, 'train_samples_per_second': 34.45, 'train_steps_per_second': 1.077, 'train_loss': 0.5964888689063844, 'epoch': 3.0})"
      ]
     },
     "execution_count": 35,
     "metadata": {},
     "output_type": "execute_result"
    }
   ],
   "source": [
    "from transformers import AutoModelForSequenceClassification, Trainer, TrainingArguments\n",
    "\n",
    "# Load the model\n",
    "model = AutoModelForSequenceClassification.from_pretrained(\"lxyuan/distilbert-base-multilingual-cased-sentiments-student\")\n",
    "\n",
    "# Set up training arguments\n",
    "training_args = TrainingArguments(\n",
    "    output_dir='./results',          # output directory\n",
    "    num_train_epochs=3,              # number of training epochs\n",
    "    per_device_train_batch_size=16,  # batch size for training\n",
    "    per_device_eval_batch_size=64,   # batch size for evaluation\n",
    "    warmup_steps=500,                # number of warmup steps\n",
    "    weight_decay=0.01,               # strength of weight decay\n",
    "    logging_dir='./logs',            # directory for storing logs\n",
    "    logging_steps=10,\n",
    "    report_to='tensorboard'\n",
    ")\n",
    "\n",
    "# Initialize the Trainer\n",
    "trainer = Trainer(\n",
    "    model=model,\n",
    "    args=training_args,\n",
    "    train_dataset=train_dataset,\n",
    "    eval_dataset=test_dataset\n",
    ")\n",
    "\n",
    "# Train the model\n",
    "trainer.train()\n"
   ]
  },
  {
   "cell_type": "code",
   "execution_count": 36,
   "id": "c73b943d",
   "metadata": {
    "execution": {
     "iopub.execute_input": "2024-08-09T13:22:29.864717Z",
     "iopub.status.busy": "2024-08-09T13:22:29.863919Z",
     "iopub.status.idle": "2024-08-09T13:24:03.168177Z",
     "shell.execute_reply": "2024-08-09T13:24:03.167164Z"
    },
    "papermill": {
     "duration": 93.407129,
     "end_time": "2024-08-09T13:24:03.221639",
     "exception": false,
     "start_time": "2024-08-09T13:22:29.814510",
     "status": "completed"
    },
    "tags": []
   },
   "outputs": [
    {
     "name": "stderr",
     "output_type": "stream",
     "text": [
      "/opt/conda/lib/python3.10/site-packages/torch/nn/parallel/_functions.py:68: UserWarning: Was asked to gather along dimension 0, but all input tensors were scalars; will instead unsqueeze and return a vector.\n",
      "  warnings.warn('Was asked to gather along dimension 0, but all '\n"
     ]
    },
    {
     "name": "stdout",
     "output_type": "stream",
     "text": [
      "{'eval_loss': 0.7245824933052063, 'eval_runtime': 93.2964, 'eval_samples_per_second': 95.963, 'eval_steps_per_second': 0.75, 'epoch': 3.0}\n",
      "{'eval_loss': 0.7245824933052063, 'eval_runtime': 93.2964, 'eval_samples_per_second': 95.963, 'eval_steps_per_second': 0.75, 'epoch': 3.0}\n"
     ]
    }
   ],
   "source": [
    "# Evaluate the model\n",
    "eval_results = trainer.evaluate()\n",
    "\n",
    "print(eval_results)\n"
   ]
  }
 ],
 "metadata": {
  "accelerator": "GPU",
  "colab": {
   "gpuType": "T4",
   "provenance": []
  },
  "kaggle": {
   "accelerator": "nvidiaTeslaT4",
   "dataSources": [
    {
     "datasetId": 4896317,
     "sourceId": 8251782,
     "sourceType": "datasetVersion"
    }
   ],
   "isGpuEnabled": true,
   "isInternetEnabled": true,
   "language": "python",
   "sourceType": "notebook"
  },
  "kernelspec": {
   "display_name": "Python 3",
   "language": "python",
   "name": "python3"
  },
  "language_info": {
   "codemirror_mode": {
    "name": "ipython",
    "version": 3
   },
   "file_extension": ".py",
   "mimetype": "text/x-python",
   "name": "python",
   "nbconvert_exporter": "python",
   "pygments_lexer": "ipython3",
   "version": "3.10.13"
  },
  "papermill": {
   "default_parameters": {},
   "duration": 3406.906942,
   "end_time": "2024-08-09T13:24:06.857341",
   "environment_variables": {},
   "exception": null,
   "input_path": "__notebook__.ipynb",
   "output_path": "__notebook__.ipynb",
   "parameters": {},
   "start_time": "2024-08-09T12:27:19.950399",
   "version": "2.5.0"
  },
  "widgets": {
   "application/vnd.jupyter.widget-state+json": {
    "state": {
     "067b2e607538433a97964d10f5041646": {
      "model_module": "@jupyter-widgets/controls",
      "model_module_version": "1.5.0",
      "model_name": "DescriptionStyleModel",
      "state": {
       "_model_module": "@jupyter-widgets/controls",
       "_model_module_version": "1.5.0",
       "_model_name": "DescriptionStyleModel",
       "_view_count": null,
       "_view_module": "@jupyter-widgets/base",
       "_view_module_version": "1.2.0",
       "_view_name": "StyleView",
       "description_width": ""
      }
     },
     "11e27f3f4f8146b29d03662586c2db83": {
      "model_module": "@jupyter-widgets/controls",
      "model_module_version": "1.5.0",
      "model_name": "ProgressStyleModel",
      "state": {
       "_model_module": "@jupyter-widgets/controls",
       "_model_module_version": "1.5.0",
       "_model_name": "ProgressStyleModel",
       "_view_count": null,
       "_view_module": "@jupyter-widgets/base",
       "_view_module_version": "1.2.0",
       "_view_name": "StyleView",
       "bar_color": null,
       "description_width": ""
      }
     },
     "151a3c36bebd49c4980bb691c320ba4b": {
      "model_module": "@jupyter-widgets/controls",
      "model_module_version": "1.5.0",
      "model_name": "HBoxModel",
      "state": {
       "_dom_classes": [],
       "_model_module": "@jupyter-widgets/controls",
       "_model_module_version": "1.5.0",
       "_model_name": "HBoxModel",
       "_view_count": null,
       "_view_module": "@jupyter-widgets/controls",
       "_view_module_version": "1.5.0",
       "_view_name": "HBoxView",
       "box_style": "",
       "children": [
        "IPY_MODEL_db05b008b16a4ca4820e7e5188fde786",
        "IPY_MODEL_fdefcddc3570458285f92d957d1ce8a6",
        "IPY_MODEL_fe7c7e5db39b464faad13708674adb61"
       ],
       "layout": "IPY_MODEL_53bee34f5fb64b8682331f8fd4b35088"
      }
     },
     "16138b736d8842a2b4d2c0a1f70c24aa": {
      "model_module": "@jupyter-widgets/controls",
      "model_module_version": "1.5.0",
      "model_name": "HTMLModel",
      "state": {
       "_dom_classes": [],
       "_model_module": "@jupyter-widgets/controls",
       "_model_module_version": "1.5.0",
       "_model_name": "HTMLModel",
       "_view_count": null,
       "_view_module": "@jupyter-widgets/controls",
       "_view_module_version": "1.5.0",
       "_view_name": "HTMLView",
       "description": "",
       "description_tooltip": null,
       "layout": "IPY_MODEL_52515e1a92234226b49839e9ae991170",
       "placeholder": "​",
       "style": "IPY_MODEL_46cdec7b2c78464abac4d42ea2c4c1fb",
       "value": "tokenizer.json: 100%"
      }
     },
     "1689164633fe46c88cd1a6f5558fde14": {
      "model_module": "@jupyter-widgets/controls",
      "model_module_version": "1.5.0",
      "model_name": "HTMLModel",
      "state": {
       "_dom_classes": [],
       "_model_module": "@jupyter-widgets/controls",
       "_model_module_version": "1.5.0",
       "_model_name": "HTMLModel",
       "_view_count": null,
       "_view_module": "@jupyter-widgets/controls",
       "_view_module_version": "1.5.0",
       "_view_name": "HTMLView",
       "description": "",
       "description_tooltip": null,
       "layout": "IPY_MODEL_f12d07fefe42425384aba3b9b81be8d6",
       "placeholder": "​",
       "style": "IPY_MODEL_6d86b94332624a89badadb7be7b88e74",
       "value": " 2.92M/2.92M [00:00&lt;00:00, 25.2MB/s]"
      }
     },
     "1f36560e542b49198c6324486c2124c0": {
      "model_module": "@jupyter-widgets/controls",
      "model_module_version": "1.5.0",
      "model_name": "HBoxModel",
      "state": {
       "_dom_classes": [],
       "_model_module": "@jupyter-widgets/controls",
       "_model_module_version": "1.5.0",
       "_model_name": "HBoxModel",
       "_view_count": null,
       "_view_module": "@jupyter-widgets/controls",
       "_view_module_version": "1.5.0",
       "_view_name": "HBoxView",
       "box_style": "",
       "children": [
        "IPY_MODEL_746e53f4148f4ce0887b4297873059e0",
        "IPY_MODEL_58b46e656e584b44b9d254421fee2ee8",
        "IPY_MODEL_ca84e26120894023bba899eae409be8d"
       ],
       "layout": "IPY_MODEL_21ffe609156b44a0a62097983bb59a7c"
      }
     },
     "21ffe609156b44a0a62097983bb59a7c": {
      "model_module": "@jupyter-widgets/base",
      "model_module_version": "1.2.0",
      "model_name": "LayoutModel",
      "state": {
       "_model_module": "@jupyter-widgets/base",
       "_model_module_version": "1.2.0",
       "_model_name": "LayoutModel",
       "_view_count": null,
       "_view_module": "@jupyter-widgets/base",
       "_view_module_version": "1.2.0",
       "_view_name": "LayoutView",
       "align_content": null,
       "align_items": null,
       "align_self": null,
       "border": null,
       "bottom": null,
       "display": null,
       "flex": null,
       "flex_flow": null,
       "grid_area": null,
       "grid_auto_columns": null,
       "grid_auto_flow": null,
       "grid_auto_rows": null,
       "grid_column": null,
       "grid_gap": null,
       "grid_row": null,
       "grid_template_areas": null,
       "grid_template_columns": null,
       "grid_template_rows": null,
       "height": null,
       "justify_content": null,
       "justify_items": null,
       "left": null,
       "margin": null,
       "max_height": null,
       "max_width": null,
       "min_height": null,
       "min_width": null,
       "object_fit": null,
       "object_position": null,
       "order": null,
       "overflow": null,
       "overflow_x": null,
       "overflow_y": null,
       "padding": null,
       "right": null,
       "top": null,
       "visibility": null,
       "width": null
      }
     },
     "22268caa00564d23ae5debe7e2f8d03d": {
      "model_module": "@jupyter-widgets/controls",
      "model_module_version": "1.5.0",
      "model_name": "ProgressStyleModel",
      "state": {
       "_model_module": "@jupyter-widgets/controls",
       "_model_module_version": "1.5.0",
       "_model_name": "ProgressStyleModel",
       "_view_count": null,
       "_view_module": "@jupyter-widgets/base",
       "_view_module_version": "1.2.0",
       "_view_name": "StyleView",
       "bar_color": null,
       "description_width": ""
      }
     },
     "26e8c7f9b6c8439f9164bedc28863045": {
      "model_module": "@jupyter-widgets/controls",
      "model_module_version": "1.5.0",
      "model_name": "ProgressStyleModel",
      "state": {
       "_model_module": "@jupyter-widgets/controls",
       "_model_module_version": "1.5.0",
       "_model_name": "ProgressStyleModel",
       "_view_count": null,
       "_view_module": "@jupyter-widgets/base",
       "_view_module_version": "1.2.0",
       "_view_name": "StyleView",
       "bar_color": null,
       "description_width": ""
      }
     },
     "2cc861371d364c65aa99357532266be5": {
      "model_module": "@jupyter-widgets/controls",
      "model_module_version": "1.5.0",
      "model_name": "DescriptionStyleModel",
      "state": {
       "_model_module": "@jupyter-widgets/controls",
       "_model_module_version": "1.5.0",
       "_model_name": "DescriptionStyleModel",
       "_view_count": null,
       "_view_module": "@jupyter-widgets/base",
       "_view_module_version": "1.2.0",
       "_view_name": "StyleView",
       "description_width": ""
      }
     },
     "33c9b4940cd84e1eb0cf8e5634401c85": {
      "model_module": "@jupyter-widgets/controls",
      "model_module_version": "1.5.0",
      "model_name": "DescriptionStyleModel",
      "state": {
       "_model_module": "@jupyter-widgets/controls",
       "_model_module_version": "1.5.0",
       "_model_name": "DescriptionStyleModel",
       "_view_count": null,
       "_view_module": "@jupyter-widgets/base",
       "_view_module_version": "1.2.0",
       "_view_name": "StyleView",
       "description_width": ""
      }
     },
     "346763729a064681be7dbae70852ff48": {
      "model_module": "@jupyter-widgets/controls",
      "model_module_version": "1.5.0",
      "model_name": "ProgressStyleModel",
      "state": {
       "_model_module": "@jupyter-widgets/controls",
       "_model_module_version": "1.5.0",
       "_model_name": "ProgressStyleModel",
       "_view_count": null,
       "_view_module": "@jupyter-widgets/base",
       "_view_module_version": "1.2.0",
       "_view_name": "StyleView",
       "bar_color": null,
       "description_width": ""
      }
     },
     "3b6ea4c73b744e0faecc69ebfdca5dac": {
      "model_module": "@jupyter-widgets/controls",
      "model_module_version": "1.5.0",
      "model_name": "HBoxModel",
      "state": {
       "_dom_classes": [],
       "_model_module": "@jupyter-widgets/controls",
       "_model_module_version": "1.5.0",
       "_model_name": "HBoxModel",
       "_view_count": null,
       "_view_module": "@jupyter-widgets/controls",
       "_view_module_version": "1.5.0",
       "_view_name": "HBoxView",
       "box_style": "",
       "children": [
        "IPY_MODEL_839d847ab05e4f6686d80178706a992a",
        "IPY_MODEL_fefb3253fa87444f8d25c02caabe6acb",
        "IPY_MODEL_6a3d4661ea0d48009ecd6e1f04ce17c3"
       ],
       "layout": "IPY_MODEL_bbe4c5ff38cf4ffea0b9b6e57f631996"
      }
     },
     "46cdec7b2c78464abac4d42ea2c4c1fb": {
      "model_module": "@jupyter-widgets/controls",
      "model_module_version": "1.5.0",
      "model_name": "DescriptionStyleModel",
      "state": {
       "_model_module": "@jupyter-widgets/controls",
       "_model_module_version": "1.5.0",
       "_model_name": "DescriptionStyleModel",
       "_view_count": null,
       "_view_module": "@jupyter-widgets/base",
       "_view_module_version": "1.2.0",
       "_view_name": "StyleView",
       "description_width": ""
      }
     },
     "4c5a95912bc94d1e8eb7b6e8a8d75897": {
      "model_module": "@jupyter-widgets/controls",
      "model_module_version": "1.5.0",
      "model_name": "HBoxModel",
      "state": {
       "_dom_classes": [],
       "_model_module": "@jupyter-widgets/controls",
       "_model_module_version": "1.5.0",
       "_model_name": "HBoxModel",
       "_view_count": null,
       "_view_module": "@jupyter-widgets/controls",
       "_view_module_version": "1.5.0",
       "_view_name": "HBoxView",
       "box_style": "",
       "children": [
        "IPY_MODEL_f03f94c588264cd68318029e81874f28",
        "IPY_MODEL_c6315af770374436aef52eeb7932f2db",
        "IPY_MODEL_f3ec28913a8743dd910ca6f775f8bd6d"
       ],
       "layout": "IPY_MODEL_fdb29106e30541beab4ec310fcd6489c"
      }
     },
     "504a953c5e984aedb05760e1ad3e2328": {
      "model_module": "@jupyter-widgets/controls",
      "model_module_version": "1.5.0",
      "model_name": "DescriptionStyleModel",
      "state": {
       "_model_module": "@jupyter-widgets/controls",
       "_model_module_version": "1.5.0",
       "_model_name": "DescriptionStyleModel",
       "_view_count": null,
       "_view_module": "@jupyter-widgets/base",
       "_view_module_version": "1.2.0",
       "_view_name": "StyleView",
       "description_width": ""
      }
     },
     "52515e1a92234226b49839e9ae991170": {
      "model_module": "@jupyter-widgets/base",
      "model_module_version": "1.2.0",
      "model_name": "LayoutModel",
      "state": {
       "_model_module": "@jupyter-widgets/base",
       "_model_module_version": "1.2.0",
       "_model_name": "LayoutModel",
       "_view_count": null,
       "_view_module": "@jupyter-widgets/base",
       "_view_module_version": "1.2.0",
       "_view_name": "LayoutView",
       "align_content": null,
       "align_items": null,
       "align_self": null,
       "border": null,
       "bottom": null,
       "display": null,
       "flex": null,
       "flex_flow": null,
       "grid_area": null,
       "grid_auto_columns": null,
       "grid_auto_flow": null,
       "grid_auto_rows": null,
       "grid_column": null,
       "grid_gap": null,
       "grid_row": null,
       "grid_template_areas": null,
       "grid_template_columns": null,
       "grid_template_rows": null,
       "height": null,
       "justify_content": null,
       "justify_items": null,
       "left": null,
       "margin": null,
       "max_height": null,
       "max_width": null,
       "min_height": null,
       "min_width": null,
       "object_fit": null,
       "object_position": null,
       "order": null,
       "overflow": null,
       "overflow_x": null,
       "overflow_y": null,
       "padding": null,
       "right": null,
       "top": null,
       "visibility": null,
       "width": null
      }
     },
     "53bee34f5fb64b8682331f8fd4b35088": {
      "model_module": "@jupyter-widgets/base",
      "model_module_version": "1.2.0",
      "model_name": "LayoutModel",
      "state": {
       "_model_module": "@jupyter-widgets/base",
       "_model_module_version": "1.2.0",
       "_model_name": "LayoutModel",
       "_view_count": null,
       "_view_module": "@jupyter-widgets/base",
       "_view_module_version": "1.2.0",
       "_view_name": "LayoutView",
       "align_content": null,
       "align_items": null,
       "align_self": null,
       "border": null,
       "bottom": null,
       "display": null,
       "flex": null,
       "flex_flow": null,
       "grid_area": null,
       "grid_auto_columns": null,
       "grid_auto_flow": null,
       "grid_auto_rows": null,
       "grid_column": null,
       "grid_gap": null,
       "grid_row": null,
       "grid_template_areas": null,
       "grid_template_columns": null,
       "grid_template_rows": null,
       "height": null,
       "justify_content": null,
       "justify_items": null,
       "left": null,
       "margin": null,
       "max_height": null,
       "max_width": null,
       "min_height": null,
       "min_width": null,
       "object_fit": null,
       "object_position": null,
       "order": null,
       "overflow": null,
       "overflow_x": null,
       "overflow_y": null,
       "padding": null,
       "right": null,
       "top": null,
       "visibility": null,
       "width": null
      }
     },
     "562ddf1e5181485186fc8180149aac03": {
      "model_module": "@jupyter-widgets/base",
      "model_module_version": "1.2.0",
      "model_name": "LayoutModel",
      "state": {
       "_model_module": "@jupyter-widgets/base",
       "_model_module_version": "1.2.0",
       "_model_name": "LayoutModel",
       "_view_count": null,
       "_view_module": "@jupyter-widgets/base",
       "_view_module_version": "1.2.0",
       "_view_name": "LayoutView",
       "align_content": null,
       "align_items": null,
       "align_self": null,
       "border": null,
       "bottom": null,
       "display": null,
       "flex": null,
       "flex_flow": null,
       "grid_area": null,
       "grid_auto_columns": null,
       "grid_auto_flow": null,
       "grid_auto_rows": null,
       "grid_column": null,
       "grid_gap": null,
       "grid_row": null,
       "grid_template_areas": null,
       "grid_template_columns": null,
       "grid_template_rows": null,
       "height": null,
       "justify_content": null,
       "justify_items": null,
       "left": null,
       "margin": null,
       "max_height": null,
       "max_width": null,
       "min_height": null,
       "min_width": null,
       "object_fit": null,
       "object_position": null,
       "order": null,
       "overflow": null,
       "overflow_x": null,
       "overflow_y": null,
       "padding": null,
       "right": null,
       "top": null,
       "visibility": null,
       "width": null
      }
     },
     "58b46e656e584b44b9d254421fee2ee8": {
      "model_module": "@jupyter-widgets/controls",
      "model_module_version": "1.5.0",
      "model_name": "FloatProgressModel",
      "state": {
       "_dom_classes": [],
       "_model_module": "@jupyter-widgets/controls",
       "_model_module_version": "1.5.0",
       "_model_name": "FloatProgressModel",
       "_view_count": null,
       "_view_module": "@jupyter-widgets/controls",
       "_view_module_version": "1.5.0",
       "_view_name": "ProgressView",
       "bar_style": "success",
       "description": "",
       "description_tooltip": null,
       "layout": "IPY_MODEL_f8e4edcfa9994a1e9c7d12a0b0f5ec34",
       "max": 995526.0,
       "min": 0.0,
       "orientation": "horizontal",
       "style": "IPY_MODEL_b22ef1bd6d924efe810da009628dc9a0",
       "value": 995526.0
      }
     },
     "647dba15a6bb40db969e87a9c02e489e": {
      "model_module": "@jupyter-widgets/base",
      "model_module_version": "1.2.0",
      "model_name": "LayoutModel",
      "state": {
       "_model_module": "@jupyter-widgets/base",
       "_model_module_version": "1.2.0",
       "_model_name": "LayoutModel",
       "_view_count": null,
       "_view_module": "@jupyter-widgets/base",
       "_view_module_version": "1.2.0",
       "_view_name": "LayoutView",
       "align_content": null,
       "align_items": null,
       "align_self": null,
       "border": null,
       "bottom": null,
       "display": null,
       "flex": null,
       "flex_flow": null,
       "grid_area": null,
       "grid_auto_columns": null,
       "grid_auto_flow": null,
       "grid_auto_rows": null,
       "grid_column": null,
       "grid_gap": null,
       "grid_row": null,
       "grid_template_areas": null,
       "grid_template_columns": null,
       "grid_template_rows": null,
       "height": null,
       "justify_content": null,
       "justify_items": null,
       "left": null,
       "margin": null,
       "max_height": null,
       "max_width": null,
       "min_height": null,
       "min_width": null,
       "object_fit": null,
       "object_position": null,
       "order": null,
       "overflow": null,
       "overflow_x": null,
       "overflow_y": null,
       "padding": null,
       "right": null,
       "top": null,
       "visibility": null,
       "width": null
      }
     },
     "6836fb791e3e42598cb9ad3022be9f83": {
      "model_module": "@jupyter-widgets/controls",
      "model_module_version": "1.5.0",
      "model_name": "HTMLModel",
      "state": {
       "_dom_classes": [],
       "_model_module": "@jupyter-widgets/controls",
       "_model_module_version": "1.5.0",
       "_model_name": "HTMLModel",
       "_view_count": null,
       "_view_module": "@jupyter-widgets/controls",
       "_view_module_version": "1.5.0",
       "_view_name": "HTMLView",
       "description": "",
       "description_tooltip": null,
       "layout": "IPY_MODEL_6856fb3a581e4f79963a79be3a2d63be",
       "placeholder": "​",
       "style": "IPY_MODEL_504a953c5e984aedb05760e1ad3e2328",
       "value": " 759/759 [00:00&lt;00:00, 55.1kB/s]"
      }
     },
     "6856fb3a581e4f79963a79be3a2d63be": {
      "model_module": "@jupyter-widgets/base",
      "model_module_version": "1.2.0",
      "model_name": "LayoutModel",
      "state": {
       "_model_module": "@jupyter-widgets/base",
       "_model_module_version": "1.2.0",
       "_model_name": "LayoutModel",
       "_view_count": null,
       "_view_module": "@jupyter-widgets/base",
       "_view_module_version": "1.2.0",
       "_view_name": "LayoutView",
       "align_content": null,
       "align_items": null,
       "align_self": null,
       "border": null,
       "bottom": null,
       "display": null,
       "flex": null,
       "flex_flow": null,
       "grid_area": null,
       "grid_auto_columns": null,
       "grid_auto_flow": null,
       "grid_auto_rows": null,
       "grid_column": null,
       "grid_gap": null,
       "grid_row": null,
       "grid_template_areas": null,
       "grid_template_columns": null,
       "grid_template_rows": null,
       "height": null,
       "justify_content": null,
       "justify_items": null,
       "left": null,
       "margin": null,
       "max_height": null,
       "max_width": null,
       "min_height": null,
       "min_width": null,
       "object_fit": null,
       "object_position": null,
       "order": null,
       "overflow": null,
       "overflow_x": null,
       "overflow_y": null,
       "padding": null,
       "right": null,
       "top": null,
       "visibility": null,
       "width": null
      }
     },
     "6a3d4661ea0d48009ecd6e1f04ce17c3": {
      "model_module": "@jupyter-widgets/controls",
      "model_module_version": "1.5.0",
      "model_name": "HTMLModel",
      "state": {
       "_dom_classes": [],
       "_model_module": "@jupyter-widgets/controls",
       "_model_module_version": "1.5.0",
       "_model_name": "HTMLModel",
       "_view_count": null,
       "_view_module": "@jupyter-widgets/controls",
       "_view_module_version": "1.5.0",
       "_view_name": "HTMLView",
       "description": "",
       "description_tooltip": null,
       "layout": "IPY_MODEL_f4d8051f6a7f45d48c15319cdc9134cb",
       "placeholder": "​",
       "style": "IPY_MODEL_9f4c17d3835e4cc3b2cd685c4984652d",
       "value": " 541M/541M [00:02&lt;00:00, 229MB/s]"
      }
     },
     "6d86b94332624a89badadb7be7b88e74": {
      "model_module": "@jupyter-widgets/controls",
      "model_module_version": "1.5.0",
      "model_name": "DescriptionStyleModel",
      "state": {
       "_model_module": "@jupyter-widgets/controls",
       "_model_module_version": "1.5.0",
       "_model_name": "DescriptionStyleModel",
       "_view_count": null,
       "_view_module": "@jupyter-widgets/base",
       "_view_module_version": "1.2.0",
       "_view_name": "StyleView",
       "description_width": ""
      }
     },
     "6f653b50469840199412f4ae0496374f": {
      "model_module": "@jupyter-widgets/base",
      "model_module_version": "1.2.0",
      "model_name": "LayoutModel",
      "state": {
       "_model_module": "@jupyter-widgets/base",
       "_model_module_version": "1.2.0",
       "_model_name": "LayoutModel",
       "_view_count": null,
       "_view_module": "@jupyter-widgets/base",
       "_view_module_version": "1.2.0",
       "_view_name": "LayoutView",
       "align_content": null,
       "align_items": null,
       "align_self": null,
       "border": null,
       "bottom": null,
       "display": null,
       "flex": null,
       "flex_flow": null,
       "grid_area": null,
       "grid_auto_columns": null,
       "grid_auto_flow": null,
       "grid_auto_rows": null,
       "grid_column": null,
       "grid_gap": null,
       "grid_row": null,
       "grid_template_areas": null,
       "grid_template_columns": null,
       "grid_template_rows": null,
       "height": null,
       "justify_content": null,
       "justify_items": null,
       "left": null,
       "margin": null,
       "max_height": null,
       "max_width": null,
       "min_height": null,
       "min_width": null,
       "object_fit": null,
       "object_position": null,
       "order": null,
       "overflow": null,
       "overflow_x": null,
       "overflow_y": null,
       "padding": null,
       "right": null,
       "top": null,
       "visibility": null,
       "width": null
      }
     },
     "721b00ef5f2f42c9b3bfa462a0f9bc84": {
      "model_module": "@jupyter-widgets/base",
      "model_module_version": "1.2.0",
      "model_name": "LayoutModel",
      "state": {
       "_model_module": "@jupyter-widgets/base",
       "_model_module_version": "1.2.0",
       "_model_name": "LayoutModel",
       "_view_count": null,
       "_view_module": "@jupyter-widgets/base",
       "_view_module_version": "1.2.0",
       "_view_name": "LayoutView",
       "align_content": null,
       "align_items": null,
       "align_self": null,
       "border": null,
       "bottom": null,
       "display": null,
       "flex": null,
       "flex_flow": null,
       "grid_area": null,
       "grid_auto_columns": null,
       "grid_auto_flow": null,
       "grid_auto_rows": null,
       "grid_column": null,
       "grid_gap": null,
       "grid_row": null,
       "grid_template_areas": null,
       "grid_template_columns": null,
       "grid_template_rows": null,
       "height": null,
       "justify_content": null,
       "justify_items": null,
       "left": null,
       "margin": null,
       "max_height": null,
       "max_width": null,
       "min_height": null,
       "min_width": null,
       "object_fit": null,
       "object_position": null,
       "order": null,
       "overflow": null,
       "overflow_x": null,
       "overflow_y": null,
       "padding": null,
       "right": null,
       "top": null,
       "visibility": null,
       "width": null
      }
     },
     "72ec647667ef41c489c46503011b3397": {
      "model_module": "@jupyter-widgets/base",
      "model_module_version": "1.2.0",
      "model_name": "LayoutModel",
      "state": {
       "_model_module": "@jupyter-widgets/base",
       "_model_module_version": "1.2.0",
       "_model_name": "LayoutModel",
       "_view_count": null,
       "_view_module": "@jupyter-widgets/base",
       "_view_module_version": "1.2.0",
       "_view_name": "LayoutView",
       "align_content": null,
       "align_items": null,
       "align_self": null,
       "border": null,
       "bottom": null,
       "display": null,
       "flex": null,
       "flex_flow": null,
       "grid_area": null,
       "grid_auto_columns": null,
       "grid_auto_flow": null,
       "grid_auto_rows": null,
       "grid_column": null,
       "grid_gap": null,
       "grid_row": null,
       "grid_template_areas": null,
       "grid_template_columns": null,
       "grid_template_rows": null,
       "height": null,
       "justify_content": null,
       "justify_items": null,
       "left": null,
       "margin": null,
       "max_height": null,
       "max_width": null,
       "min_height": null,
       "min_width": null,
       "object_fit": null,
       "object_position": null,
       "order": null,
       "overflow": null,
       "overflow_x": null,
       "overflow_y": null,
       "padding": null,
       "right": null,
       "top": null,
       "visibility": null,
       "width": null
      }
     },
     "746e53f4148f4ce0887b4297873059e0": {
      "model_module": "@jupyter-widgets/controls",
      "model_module_version": "1.5.0",
      "model_name": "HTMLModel",
      "state": {
       "_dom_classes": [],
       "_model_module": "@jupyter-widgets/controls",
       "_model_module_version": "1.5.0",
       "_model_name": "HTMLModel",
       "_view_count": null,
       "_view_module": "@jupyter-widgets/controls",
       "_view_module_version": "1.5.0",
       "_view_name": "HTMLView",
       "description": "",
       "description_tooltip": null,
       "layout": "IPY_MODEL_b91c9a9878614d0582e879bc0abce684",
       "placeholder": "​",
       "style": "IPY_MODEL_dab52a3ca10b45e5a909a7ae8f25c422",
       "value": "vocab.txt: 100%"
      }
     },
     "839d847ab05e4f6686d80178706a992a": {
      "model_module": "@jupyter-widgets/controls",
      "model_module_version": "1.5.0",
      "model_name": "HTMLModel",
      "state": {
       "_dom_classes": [],
       "_model_module": "@jupyter-widgets/controls",
       "_model_module_version": "1.5.0",
       "_model_name": "HTMLModel",
       "_view_count": null,
       "_view_module": "@jupyter-widgets/controls",
       "_view_module_version": "1.5.0",
       "_view_name": "HTMLView",
       "description": "",
       "description_tooltip": null,
       "layout": "IPY_MODEL_a3f5617c407848d79925b17bfab717d0",
       "placeholder": "​",
       "style": "IPY_MODEL_b875a7a6755f4fec8eda2887eec23d6a",
       "value": "model.safetensors: 100%"
      }
     },
     "86589c460cb54920aae85cc2f3499e99": {
      "model_module": "@jupyter-widgets/base",
      "model_module_version": "1.2.0",
      "model_name": "LayoutModel",
      "state": {
       "_model_module": "@jupyter-widgets/base",
       "_model_module_version": "1.2.0",
       "_model_name": "LayoutModel",
       "_view_count": null,
       "_view_module": "@jupyter-widgets/base",
       "_view_module_version": "1.2.0",
       "_view_name": "LayoutView",
       "align_content": null,
       "align_items": null,
       "align_self": null,
       "border": null,
       "bottom": null,
       "display": null,
       "flex": null,
       "flex_flow": null,
       "grid_area": null,
       "grid_auto_columns": null,
       "grid_auto_flow": null,
       "grid_auto_rows": null,
       "grid_column": null,
       "grid_gap": null,
       "grid_row": null,
       "grid_template_areas": null,
       "grid_template_columns": null,
       "grid_template_rows": null,
       "height": null,
       "justify_content": null,
       "justify_items": null,
       "left": null,
       "margin": null,
       "max_height": null,
       "max_width": null,
       "min_height": null,
       "min_width": null,
       "object_fit": null,
       "object_position": null,
       "order": null,
       "overflow": null,
       "overflow_x": null,
       "overflow_y": null,
       "padding": null,
       "right": null,
       "top": null,
       "visibility": null,
       "width": null
      }
     },
     "86982bcbcac344b7a28afe8fff2e5a7d": {
      "model_module": "@jupyter-widgets/controls",
      "model_module_version": "1.5.0",
      "model_name": "FloatProgressModel",
      "state": {
       "_dom_classes": [],
       "_model_module": "@jupyter-widgets/controls",
       "_model_module_version": "1.5.0",
       "_model_name": "FloatProgressModel",
       "_view_count": null,
       "_view_module": "@jupyter-widgets/controls",
       "_view_module_version": "1.5.0",
       "_view_name": "ProgressView",
       "bar_style": "success",
       "description": "",
       "description_tooltip": null,
       "layout": "IPY_MODEL_6f653b50469840199412f4ae0496374f",
       "max": 759.0,
       "min": 0.0,
       "orientation": "horizontal",
       "style": "IPY_MODEL_dbd2861784fe4054a08b8988cc7afd8b",
       "value": 759.0
      }
     },
     "879b0713df89461dafb4ad6209fa093b": {
      "model_module": "@jupyter-widgets/controls",
      "model_module_version": "1.5.0",
      "model_name": "DescriptionStyleModel",
      "state": {
       "_model_module": "@jupyter-widgets/controls",
       "_model_module_version": "1.5.0",
       "_model_name": "DescriptionStyleModel",
       "_view_count": null,
       "_view_module": "@jupyter-widgets/base",
       "_view_module_version": "1.2.0",
       "_view_name": "StyleView",
       "description_width": ""
      }
     },
     "8fd1ec3fa2334328985afced7700cdbd": {
      "model_module": "@jupyter-widgets/controls",
      "model_module_version": "1.5.0",
      "model_name": "DescriptionStyleModel",
      "state": {
       "_model_module": "@jupyter-widgets/controls",
       "_model_module_version": "1.5.0",
       "_model_name": "DescriptionStyleModel",
       "_view_count": null,
       "_view_module": "@jupyter-widgets/base",
       "_view_module_version": "1.2.0",
       "_view_name": "StyleView",
       "description_width": ""
      }
     },
     "901295ba97a84ea189b8ea1d394e1baa": {
      "model_module": "@jupyter-widgets/controls",
      "model_module_version": "1.5.0",
      "model_name": "HTMLModel",
      "state": {
       "_dom_classes": [],
       "_model_module": "@jupyter-widgets/controls",
       "_model_module_version": "1.5.0",
       "_model_name": "HTMLModel",
       "_view_count": null,
       "_view_module": "@jupyter-widgets/controls",
       "_view_module_version": "1.5.0",
       "_view_name": "HTMLView",
       "description": "",
       "description_tooltip": null,
       "layout": "IPY_MODEL_cd99e04990c142d2b42204b1563cc440",
       "placeholder": "​",
       "style": "IPY_MODEL_067b2e607538433a97964d10f5041646",
       "value": "config.json: 100%"
      }
     },
     "9380a5325c744eedbc239a81efbe4ff6": {
      "model_module": "@jupyter-widgets/controls",
      "model_module_version": "1.5.0",
      "model_name": "DescriptionStyleModel",
      "state": {
       "_model_module": "@jupyter-widgets/controls",
       "_model_module_version": "1.5.0",
       "_model_name": "DescriptionStyleModel",
       "_view_count": null,
       "_view_module": "@jupyter-widgets/base",
       "_view_module_version": "1.2.0",
       "_view_name": "StyleView",
       "description_width": ""
      }
     },
     "9f4c17d3835e4cc3b2cd685c4984652d": {
      "model_module": "@jupyter-widgets/controls",
      "model_module_version": "1.5.0",
      "model_name": "DescriptionStyleModel",
      "state": {
       "_model_module": "@jupyter-widgets/controls",
       "_model_module_version": "1.5.0",
       "_model_name": "DescriptionStyleModel",
       "_view_count": null,
       "_view_module": "@jupyter-widgets/base",
       "_view_module_version": "1.2.0",
       "_view_name": "StyleView",
       "description_width": ""
      }
     },
     "a3f5617c407848d79925b17bfab717d0": {
      "model_module": "@jupyter-widgets/base",
      "model_module_version": "1.2.0",
      "model_name": "LayoutModel",
      "state": {
       "_model_module": "@jupyter-widgets/base",
       "_model_module_version": "1.2.0",
       "_model_name": "LayoutModel",
       "_view_count": null,
       "_view_module": "@jupyter-widgets/base",
       "_view_module_version": "1.2.0",
       "_view_name": "LayoutView",
       "align_content": null,
       "align_items": null,
       "align_self": null,
       "border": null,
       "bottom": null,
       "display": null,
       "flex": null,
       "flex_flow": null,
       "grid_area": null,
       "grid_auto_columns": null,
       "grid_auto_flow": null,
       "grid_auto_rows": null,
       "grid_column": null,
       "grid_gap": null,
       "grid_row": null,
       "grid_template_areas": null,
       "grid_template_columns": null,
       "grid_template_rows": null,
       "height": null,
       "justify_content": null,
       "justify_items": null,
       "left": null,
       "margin": null,
       "max_height": null,
       "max_width": null,
       "min_height": null,
       "min_width": null,
       "object_fit": null,
       "object_position": null,
       "order": null,
       "overflow": null,
       "overflow_x": null,
       "overflow_y": null,
       "padding": null,
       "right": null,
       "top": null,
       "visibility": null,
       "width": null
      }
     },
     "b22ef1bd6d924efe810da009628dc9a0": {
      "model_module": "@jupyter-widgets/controls",
      "model_module_version": "1.5.0",
      "model_name": "ProgressStyleModel",
      "state": {
       "_model_module": "@jupyter-widgets/controls",
       "_model_module_version": "1.5.0",
       "_model_name": "ProgressStyleModel",
       "_view_count": null,
       "_view_module": "@jupyter-widgets/base",
       "_view_module_version": "1.2.0",
       "_view_name": "StyleView",
       "bar_color": null,
       "description_width": ""
      }
     },
     "b57b008649d2417dbe430113e994d24e": {
      "model_module": "@jupyter-widgets/base",
      "model_module_version": "1.2.0",
      "model_name": "LayoutModel",
      "state": {
       "_model_module": "@jupyter-widgets/base",
       "_model_module_version": "1.2.0",
       "_model_name": "LayoutModel",
       "_view_count": null,
       "_view_module": "@jupyter-widgets/base",
       "_view_module_version": "1.2.0",
       "_view_name": "LayoutView",
       "align_content": null,
       "align_items": null,
       "align_self": null,
       "border": null,
       "bottom": null,
       "display": null,
       "flex": null,
       "flex_flow": null,
       "grid_area": null,
       "grid_auto_columns": null,
       "grid_auto_flow": null,
       "grid_auto_rows": null,
       "grid_column": null,
       "grid_gap": null,
       "grid_row": null,
       "grid_template_areas": null,
       "grid_template_columns": null,
       "grid_template_rows": null,
       "height": null,
       "justify_content": null,
       "justify_items": null,
       "left": null,
       "margin": null,
       "max_height": null,
       "max_width": null,
       "min_height": null,
       "min_width": null,
       "object_fit": null,
       "object_position": null,
       "order": null,
       "overflow": null,
       "overflow_x": null,
       "overflow_y": null,
       "padding": null,
       "right": null,
       "top": null,
       "visibility": null,
       "width": null
      }
     },
     "b875a7a6755f4fec8eda2887eec23d6a": {
      "model_module": "@jupyter-widgets/controls",
      "model_module_version": "1.5.0",
      "model_name": "DescriptionStyleModel",
      "state": {
       "_model_module": "@jupyter-widgets/controls",
       "_model_module_version": "1.5.0",
       "_model_name": "DescriptionStyleModel",
       "_view_count": null,
       "_view_module": "@jupyter-widgets/base",
       "_view_module_version": "1.2.0",
       "_view_name": "StyleView",
       "description_width": ""
      }
     },
     "b91c9a9878614d0582e879bc0abce684": {
      "model_module": "@jupyter-widgets/base",
      "model_module_version": "1.2.0",
      "model_name": "LayoutModel",
      "state": {
       "_model_module": "@jupyter-widgets/base",
       "_model_module_version": "1.2.0",
       "_model_name": "LayoutModel",
       "_view_count": null,
       "_view_module": "@jupyter-widgets/base",
       "_view_module_version": "1.2.0",
       "_view_name": "LayoutView",
       "align_content": null,
       "align_items": null,
       "align_self": null,
       "border": null,
       "bottom": null,
       "display": null,
       "flex": null,
       "flex_flow": null,
       "grid_area": null,
       "grid_auto_columns": null,
       "grid_auto_flow": null,
       "grid_auto_rows": null,
       "grid_column": null,
       "grid_gap": null,
       "grid_row": null,
       "grid_template_areas": null,
       "grid_template_columns": null,
       "grid_template_rows": null,
       "height": null,
       "justify_content": null,
       "justify_items": null,
       "left": null,
       "margin": null,
       "max_height": null,
       "max_width": null,
       "min_height": null,
       "min_width": null,
       "object_fit": null,
       "object_position": null,
       "order": null,
       "overflow": null,
       "overflow_x": null,
       "overflow_y": null,
       "padding": null,
       "right": null,
       "top": null,
       "visibility": null,
       "width": null
      }
     },
     "bbe4c5ff38cf4ffea0b9b6e57f631996": {
      "model_module": "@jupyter-widgets/base",
      "model_module_version": "1.2.0",
      "model_name": "LayoutModel",
      "state": {
       "_model_module": "@jupyter-widgets/base",
       "_model_module_version": "1.2.0",
       "_model_name": "LayoutModel",
       "_view_count": null,
       "_view_module": "@jupyter-widgets/base",
       "_view_module_version": "1.2.0",
       "_view_name": "LayoutView",
       "align_content": null,
       "align_items": null,
       "align_self": null,
       "border": null,
       "bottom": null,
       "display": null,
       "flex": null,
       "flex_flow": null,
       "grid_area": null,
       "grid_auto_columns": null,
       "grid_auto_flow": null,
       "grid_auto_rows": null,
       "grid_column": null,
       "grid_gap": null,
       "grid_row": null,
       "grid_template_areas": null,
       "grid_template_columns": null,
       "grid_template_rows": null,
       "height": null,
       "justify_content": null,
       "justify_items": null,
       "left": null,
       "margin": null,
       "max_height": null,
       "max_width": null,
       "min_height": null,
       "min_width": null,
       "object_fit": null,
       "object_position": null,
       "order": null,
       "overflow": null,
       "overflow_x": null,
       "overflow_y": null,
       "padding": null,
       "right": null,
       "top": null,
       "visibility": null,
       "width": null
      }
     },
     "c1157ecfc12c4ee79af0ffc6b026ff39": {
      "model_module": "@jupyter-widgets/controls",
      "model_module_version": "1.5.0",
      "model_name": "HBoxModel",
      "state": {
       "_dom_classes": [],
       "_model_module": "@jupyter-widgets/controls",
       "_model_module_version": "1.5.0",
       "_model_name": "HBoxModel",
       "_view_count": null,
       "_view_module": "@jupyter-widgets/controls",
       "_view_module_version": "1.5.0",
       "_view_name": "HBoxView",
       "box_style": "",
       "children": [
        "IPY_MODEL_16138b736d8842a2b4d2c0a1f70c24aa",
        "IPY_MODEL_df617409685f4f1caec8e6ec0ba29008",
        "IPY_MODEL_1689164633fe46c88cd1a6f5558fde14"
       ],
       "layout": "IPY_MODEL_f1eeefcbcd654ab880ebc4fabbeb2856"
      }
     },
     "c6315af770374436aef52eeb7932f2db": {
      "model_module": "@jupyter-widgets/controls",
      "model_module_version": "1.5.0",
      "model_name": "FloatProgressModel",
      "state": {
       "_dom_classes": [],
       "_model_module": "@jupyter-widgets/controls",
       "_model_module_version": "1.5.0",
       "_model_name": "FloatProgressModel",
       "_view_count": null,
       "_view_module": "@jupyter-widgets/controls",
       "_view_module_version": "1.5.0",
       "_view_name": "ProgressView",
       "bar_style": "success",
       "description": "",
       "description_tooltip": null,
       "layout": "IPY_MODEL_72ec647667ef41c489c46503011b3397",
       "max": 125.0,
       "min": 0.0,
       "orientation": "horizontal",
       "style": "IPY_MODEL_22268caa00564d23ae5debe7e2f8d03d",
       "value": 125.0
      }
     },
     "ca84e26120894023bba899eae409be8d": {
      "model_module": "@jupyter-widgets/controls",
      "model_module_version": "1.5.0",
      "model_name": "HTMLModel",
      "state": {
       "_dom_classes": [],
       "_model_module": "@jupyter-widgets/controls",
       "_model_module_version": "1.5.0",
       "_model_name": "HTMLModel",
       "_view_count": null,
       "_view_module": "@jupyter-widgets/controls",
       "_view_module_version": "1.5.0",
       "_view_name": "HTMLView",
       "description": "",
       "description_tooltip": null,
       "layout": "IPY_MODEL_721b00ef5f2f42c9b3bfa462a0f9bc84",
       "placeholder": "​",
       "style": "IPY_MODEL_879b0713df89461dafb4ad6209fa093b",
       "value": " 996k/996k [00:00&lt;00:00, 7.82MB/s]"
      }
     },
     "ccb833309eae411db28c25ecafc41d78": {
      "model_module": "@jupyter-widgets/base",
      "model_module_version": "1.2.0",
      "model_name": "LayoutModel",
      "state": {
       "_model_module": "@jupyter-widgets/base",
       "_model_module_version": "1.2.0",
       "_model_name": "LayoutModel",
       "_view_count": null,
       "_view_module": "@jupyter-widgets/base",
       "_view_module_version": "1.2.0",
       "_view_name": "LayoutView",
       "align_content": null,
       "align_items": null,
       "align_self": null,
       "border": null,
       "bottom": null,
       "display": null,
       "flex": null,
       "flex_flow": null,
       "grid_area": null,
       "grid_auto_columns": null,
       "grid_auto_flow": null,
       "grid_auto_rows": null,
       "grid_column": null,
       "grid_gap": null,
       "grid_row": null,
       "grid_template_areas": null,
       "grid_template_columns": null,
       "grid_template_rows": null,
       "height": null,
       "justify_content": null,
       "justify_items": null,
       "left": null,
       "margin": null,
       "max_height": null,
       "max_width": null,
       "min_height": null,
       "min_width": null,
       "object_fit": null,
       "object_position": null,
       "order": null,
       "overflow": null,
       "overflow_x": null,
       "overflow_y": null,
       "padding": null,
       "right": null,
       "top": null,
       "visibility": null,
       "width": null
      }
     },
     "cd99e04990c142d2b42204b1563cc440": {
      "model_module": "@jupyter-widgets/base",
      "model_module_version": "1.2.0",
      "model_name": "LayoutModel",
      "state": {
       "_model_module": "@jupyter-widgets/base",
       "_model_module_version": "1.2.0",
       "_model_name": "LayoutModel",
       "_view_count": null,
       "_view_module": "@jupyter-widgets/base",
       "_view_module_version": "1.2.0",
       "_view_name": "LayoutView",
       "align_content": null,
       "align_items": null,
       "align_self": null,
       "border": null,
       "bottom": null,
       "display": null,
       "flex": null,
       "flex_flow": null,
       "grid_area": null,
       "grid_auto_columns": null,
       "grid_auto_flow": null,
       "grid_auto_rows": null,
       "grid_column": null,
       "grid_gap": null,
       "grid_row": null,
       "grid_template_areas": null,
       "grid_template_columns": null,
       "grid_template_rows": null,
       "height": null,
       "justify_content": null,
       "justify_items": null,
       "left": null,
       "margin": null,
       "max_height": null,
       "max_width": null,
       "min_height": null,
       "min_width": null,
       "object_fit": null,
       "object_position": null,
       "order": null,
       "overflow": null,
       "overflow_x": null,
       "overflow_y": null,
       "padding": null,
       "right": null,
       "top": null,
       "visibility": null,
       "width": null
      }
     },
     "d001fdcc027c476aa66675f68253e2ea": {
      "model_module": "@jupyter-widgets/base",
      "model_module_version": "1.2.0",
      "model_name": "LayoutModel",
      "state": {
       "_model_module": "@jupyter-widgets/base",
       "_model_module_version": "1.2.0",
       "_model_name": "LayoutModel",
       "_view_count": null,
       "_view_module": "@jupyter-widgets/base",
       "_view_module_version": "1.2.0",
       "_view_name": "LayoutView",
       "align_content": null,
       "align_items": null,
       "align_self": null,
       "border": null,
       "bottom": null,
       "display": null,
       "flex": null,
       "flex_flow": null,
       "grid_area": null,
       "grid_auto_columns": null,
       "grid_auto_flow": null,
       "grid_auto_rows": null,
       "grid_column": null,
       "grid_gap": null,
       "grid_row": null,
       "grid_template_areas": null,
       "grid_template_columns": null,
       "grid_template_rows": null,
       "height": null,
       "justify_content": null,
       "justify_items": null,
       "left": null,
       "margin": null,
       "max_height": null,
       "max_width": null,
       "min_height": null,
       "min_width": null,
       "object_fit": null,
       "object_position": null,
       "order": null,
       "overflow": null,
       "overflow_x": null,
       "overflow_y": null,
       "padding": null,
       "right": null,
       "top": null,
       "visibility": null,
       "width": null
      }
     },
     "d0136d8839a44186a6342c05bf7d58f4": {
      "model_module": "@jupyter-widgets/base",
      "model_module_version": "1.2.0",
      "model_name": "LayoutModel",
      "state": {
       "_model_module": "@jupyter-widgets/base",
       "_model_module_version": "1.2.0",
       "_model_name": "LayoutModel",
       "_view_count": null,
       "_view_module": "@jupyter-widgets/base",
       "_view_module_version": "1.2.0",
       "_view_name": "LayoutView",
       "align_content": null,
       "align_items": null,
       "align_self": null,
       "border": null,
       "bottom": null,
       "display": null,
       "flex": null,
       "flex_flow": null,
       "grid_area": null,
       "grid_auto_columns": null,
       "grid_auto_flow": null,
       "grid_auto_rows": null,
       "grid_column": null,
       "grid_gap": null,
       "grid_row": null,
       "grid_template_areas": null,
       "grid_template_columns": null,
       "grid_template_rows": null,
       "height": null,
       "justify_content": null,
       "justify_items": null,
       "left": null,
       "margin": null,
       "max_height": null,
       "max_width": null,
       "min_height": null,
       "min_width": null,
       "object_fit": null,
       "object_position": null,
       "order": null,
       "overflow": null,
       "overflow_x": null,
       "overflow_y": null,
       "padding": null,
       "right": null,
       "top": null,
       "visibility": null,
       "width": null
      }
     },
     "dab52a3ca10b45e5a909a7ae8f25c422": {
      "model_module": "@jupyter-widgets/controls",
      "model_module_version": "1.5.0",
      "model_name": "DescriptionStyleModel",
      "state": {
       "_model_module": "@jupyter-widgets/controls",
       "_model_module_version": "1.5.0",
       "_model_name": "DescriptionStyleModel",
       "_view_count": null,
       "_view_module": "@jupyter-widgets/base",
       "_view_module_version": "1.2.0",
       "_view_name": "StyleView",
       "description_width": ""
      }
     },
     "db05b008b16a4ca4820e7e5188fde786": {
      "model_module": "@jupyter-widgets/controls",
      "model_module_version": "1.5.0",
      "model_name": "HTMLModel",
      "state": {
       "_dom_classes": [],
       "_model_module": "@jupyter-widgets/controls",
       "_model_module_version": "1.5.0",
       "_model_name": "HTMLModel",
       "_view_count": null,
       "_view_module": "@jupyter-widgets/controls",
       "_view_module_version": "1.5.0",
       "_view_name": "HTMLView",
       "description": "",
       "description_tooltip": null,
       "layout": "IPY_MODEL_b57b008649d2417dbe430113e994d24e",
       "placeholder": "​",
       "style": "IPY_MODEL_2cc861371d364c65aa99357532266be5",
       "value": "tokenizer_config.json: 100%"
      }
     },
     "dbd2861784fe4054a08b8988cc7afd8b": {
      "model_module": "@jupyter-widgets/controls",
      "model_module_version": "1.5.0",
      "model_name": "ProgressStyleModel",
      "state": {
       "_model_module": "@jupyter-widgets/controls",
       "_model_module_version": "1.5.0",
       "_model_name": "ProgressStyleModel",
       "_view_count": null,
       "_view_module": "@jupyter-widgets/base",
       "_view_module_version": "1.2.0",
       "_view_name": "StyleView",
       "bar_color": null,
       "description_width": ""
      }
     },
     "df617409685f4f1caec8e6ec0ba29008": {
      "model_module": "@jupyter-widgets/controls",
      "model_module_version": "1.5.0",
      "model_name": "FloatProgressModel",
      "state": {
       "_dom_classes": [],
       "_model_module": "@jupyter-widgets/controls",
       "_model_module_version": "1.5.0",
       "_model_name": "FloatProgressModel",
       "_view_count": null,
       "_view_module": "@jupyter-widgets/controls",
       "_view_module_version": "1.5.0",
       "_view_name": "ProgressView",
       "bar_style": "success",
       "description": "",
       "description_tooltip": null,
       "layout": "IPY_MODEL_f7ea163e9b154743a292017892a449e9",
       "max": 2919615.0,
       "min": 0.0,
       "orientation": "horizontal",
       "style": "IPY_MODEL_346763729a064681be7dbae70852ff48",
       "value": 2919615.0
      }
     },
     "eb4a5e1dfdcc4ee7907391bb95d0eeee": {
      "model_module": "@jupyter-widgets/controls",
      "model_module_version": "1.5.0",
      "model_name": "HBoxModel",
      "state": {
       "_dom_classes": [],
       "_model_module": "@jupyter-widgets/controls",
       "_model_module_version": "1.5.0",
       "_model_name": "HBoxModel",
       "_view_count": null,
       "_view_module": "@jupyter-widgets/controls",
       "_view_module_version": "1.5.0",
       "_view_name": "HBoxView",
       "box_style": "",
       "children": [
        "IPY_MODEL_901295ba97a84ea189b8ea1d394e1baa",
        "IPY_MODEL_86982bcbcac344b7a28afe8fff2e5a7d",
        "IPY_MODEL_6836fb791e3e42598cb9ad3022be9f83"
       ],
       "layout": "IPY_MODEL_ccb833309eae411db28c25ecafc41d78"
      }
     },
     "f03f94c588264cd68318029e81874f28": {
      "model_module": "@jupyter-widgets/controls",
      "model_module_version": "1.5.0",
      "model_name": "HTMLModel",
      "state": {
       "_dom_classes": [],
       "_model_module": "@jupyter-widgets/controls",
       "_model_module_version": "1.5.0",
       "_model_name": "HTMLModel",
       "_view_count": null,
       "_view_module": "@jupyter-widgets/controls",
       "_view_module_version": "1.5.0",
       "_view_name": "HTMLView",
       "description": "",
       "description_tooltip": null,
       "layout": "IPY_MODEL_647dba15a6bb40db969e87a9c02e489e",
       "placeholder": "​",
       "style": "IPY_MODEL_33c9b4940cd84e1eb0cf8e5634401c85",
       "value": "special_tokens_map.json: 100%"
      }
     },
     "f12d07fefe42425384aba3b9b81be8d6": {
      "model_module": "@jupyter-widgets/base",
      "model_module_version": "1.2.0",
      "model_name": "LayoutModel",
      "state": {
       "_model_module": "@jupyter-widgets/base",
       "_model_module_version": "1.2.0",
       "_model_name": "LayoutModel",
       "_view_count": null,
       "_view_module": "@jupyter-widgets/base",
       "_view_module_version": "1.2.0",
       "_view_name": "LayoutView",
       "align_content": null,
       "align_items": null,
       "align_self": null,
       "border": null,
       "bottom": null,
       "display": null,
       "flex": null,
       "flex_flow": null,
       "grid_area": null,
       "grid_auto_columns": null,
       "grid_auto_flow": null,
       "grid_auto_rows": null,
       "grid_column": null,
       "grid_gap": null,
       "grid_row": null,
       "grid_template_areas": null,
       "grid_template_columns": null,
       "grid_template_rows": null,
       "height": null,
       "justify_content": null,
       "justify_items": null,
       "left": null,
       "margin": null,
       "max_height": null,
       "max_width": null,
       "min_height": null,
       "min_width": null,
       "object_fit": null,
       "object_position": null,
       "order": null,
       "overflow": null,
       "overflow_x": null,
       "overflow_y": null,
       "padding": null,
       "right": null,
       "top": null,
       "visibility": null,
       "width": null
      }
     },
     "f1eeefcbcd654ab880ebc4fabbeb2856": {
      "model_module": "@jupyter-widgets/base",
      "model_module_version": "1.2.0",
      "model_name": "LayoutModel",
      "state": {
       "_model_module": "@jupyter-widgets/base",
       "_model_module_version": "1.2.0",
       "_model_name": "LayoutModel",
       "_view_count": null,
       "_view_module": "@jupyter-widgets/base",
       "_view_module_version": "1.2.0",
       "_view_name": "LayoutView",
       "align_content": null,
       "align_items": null,
       "align_self": null,
       "border": null,
       "bottom": null,
       "display": null,
       "flex": null,
       "flex_flow": null,
       "grid_area": null,
       "grid_auto_columns": null,
       "grid_auto_flow": null,
       "grid_auto_rows": null,
       "grid_column": null,
       "grid_gap": null,
       "grid_row": null,
       "grid_template_areas": null,
       "grid_template_columns": null,
       "grid_template_rows": null,
       "height": null,
       "justify_content": null,
       "justify_items": null,
       "left": null,
       "margin": null,
       "max_height": null,
       "max_width": null,
       "min_height": null,
       "min_width": null,
       "object_fit": null,
       "object_position": null,
       "order": null,
       "overflow": null,
       "overflow_x": null,
       "overflow_y": null,
       "padding": null,
       "right": null,
       "top": null,
       "visibility": null,
       "width": null
      }
     },
     "f3ec28913a8743dd910ca6f775f8bd6d": {
      "model_module": "@jupyter-widgets/controls",
      "model_module_version": "1.5.0",
      "model_name": "HTMLModel",
      "state": {
       "_dom_classes": [],
       "_model_module": "@jupyter-widgets/controls",
       "_model_module_version": "1.5.0",
       "_model_name": "HTMLModel",
       "_view_count": null,
       "_view_module": "@jupyter-widgets/controls",
       "_view_module_version": "1.5.0",
       "_view_name": "HTMLView",
       "description": "",
       "description_tooltip": null,
       "layout": "IPY_MODEL_d0136d8839a44186a6342c05bf7d58f4",
       "placeholder": "​",
       "style": "IPY_MODEL_8fd1ec3fa2334328985afced7700cdbd",
       "value": " 125/125 [00:00&lt;00:00, 9.35kB/s]"
      }
     },
     "f4d8051f6a7f45d48c15319cdc9134cb": {
      "model_module": "@jupyter-widgets/base",
      "model_module_version": "1.2.0",
      "model_name": "LayoutModel",
      "state": {
       "_model_module": "@jupyter-widgets/base",
       "_model_module_version": "1.2.0",
       "_model_name": "LayoutModel",
       "_view_count": null,
       "_view_module": "@jupyter-widgets/base",
       "_view_module_version": "1.2.0",
       "_view_name": "LayoutView",
       "align_content": null,
       "align_items": null,
       "align_self": null,
       "border": null,
       "bottom": null,
       "display": null,
       "flex": null,
       "flex_flow": null,
       "grid_area": null,
       "grid_auto_columns": null,
       "grid_auto_flow": null,
       "grid_auto_rows": null,
       "grid_column": null,
       "grid_gap": null,
       "grid_row": null,
       "grid_template_areas": null,
       "grid_template_columns": null,
       "grid_template_rows": null,
       "height": null,
       "justify_content": null,
       "justify_items": null,
       "left": null,
       "margin": null,
       "max_height": null,
       "max_width": null,
       "min_height": null,
       "min_width": null,
       "object_fit": null,
       "object_position": null,
       "order": null,
       "overflow": null,
       "overflow_x": null,
       "overflow_y": null,
       "padding": null,
       "right": null,
       "top": null,
       "visibility": null,
       "width": null
      }
     },
     "f7ea163e9b154743a292017892a449e9": {
      "model_module": "@jupyter-widgets/base",
      "model_module_version": "1.2.0",
      "model_name": "LayoutModel",
      "state": {
       "_model_module": "@jupyter-widgets/base",
       "_model_module_version": "1.2.0",
       "_model_name": "LayoutModel",
       "_view_count": null,
       "_view_module": "@jupyter-widgets/base",
       "_view_module_version": "1.2.0",
       "_view_name": "LayoutView",
       "align_content": null,
       "align_items": null,
       "align_self": null,
       "border": null,
       "bottom": null,
       "display": null,
       "flex": null,
       "flex_flow": null,
       "grid_area": null,
       "grid_auto_columns": null,
       "grid_auto_flow": null,
       "grid_auto_rows": null,
       "grid_column": null,
       "grid_gap": null,
       "grid_row": null,
       "grid_template_areas": null,
       "grid_template_columns": null,
       "grid_template_rows": null,
       "height": null,
       "justify_content": null,
       "justify_items": null,
       "left": null,
       "margin": null,
       "max_height": null,
       "max_width": null,
       "min_height": null,
       "min_width": null,
       "object_fit": null,
       "object_position": null,
       "order": null,
       "overflow": null,
       "overflow_x": null,
       "overflow_y": null,
       "padding": null,
       "right": null,
       "top": null,
       "visibility": null,
       "width": null
      }
     },
     "f8e4edcfa9994a1e9c7d12a0b0f5ec34": {
      "model_module": "@jupyter-widgets/base",
      "model_module_version": "1.2.0",
      "model_name": "LayoutModel",
      "state": {
       "_model_module": "@jupyter-widgets/base",
       "_model_module_version": "1.2.0",
       "_model_name": "LayoutModel",
       "_view_count": null,
       "_view_module": "@jupyter-widgets/base",
       "_view_module_version": "1.2.0",
       "_view_name": "LayoutView",
       "align_content": null,
       "align_items": null,
       "align_self": null,
       "border": null,
       "bottom": null,
       "display": null,
       "flex": null,
       "flex_flow": null,
       "grid_area": null,
       "grid_auto_columns": null,
       "grid_auto_flow": null,
       "grid_auto_rows": null,
       "grid_column": null,
       "grid_gap": null,
       "grid_row": null,
       "grid_template_areas": null,
       "grid_template_columns": null,
       "grid_template_rows": null,
       "height": null,
       "justify_content": null,
       "justify_items": null,
       "left": null,
       "margin": null,
       "max_height": null,
       "max_width": null,
       "min_height": null,
       "min_width": null,
       "object_fit": null,
       "object_position": null,
       "order": null,
       "overflow": null,
       "overflow_x": null,
       "overflow_y": null,
       "padding": null,
       "right": null,
       "top": null,
       "visibility": null,
       "width": null
      }
     },
     "fdb29106e30541beab4ec310fcd6489c": {
      "model_module": "@jupyter-widgets/base",
      "model_module_version": "1.2.0",
      "model_name": "LayoutModel",
      "state": {
       "_model_module": "@jupyter-widgets/base",
       "_model_module_version": "1.2.0",
       "_model_name": "LayoutModel",
       "_view_count": null,
       "_view_module": "@jupyter-widgets/base",
       "_view_module_version": "1.2.0",
       "_view_name": "LayoutView",
       "align_content": null,
       "align_items": null,
       "align_self": null,
       "border": null,
       "bottom": null,
       "display": null,
       "flex": null,
       "flex_flow": null,
       "grid_area": null,
       "grid_auto_columns": null,
       "grid_auto_flow": null,
       "grid_auto_rows": null,
       "grid_column": null,
       "grid_gap": null,
       "grid_row": null,
       "grid_template_areas": null,
       "grid_template_columns": null,
       "grid_template_rows": null,
       "height": null,
       "justify_content": null,
       "justify_items": null,
       "left": null,
       "margin": null,
       "max_height": null,
       "max_width": null,
       "min_height": null,
       "min_width": null,
       "object_fit": null,
       "object_position": null,
       "order": null,
       "overflow": null,
       "overflow_x": null,
       "overflow_y": null,
       "padding": null,
       "right": null,
       "top": null,
       "visibility": null,
       "width": null
      }
     },
     "fdefcddc3570458285f92d957d1ce8a6": {
      "model_module": "@jupyter-widgets/controls",
      "model_module_version": "1.5.0",
      "model_name": "FloatProgressModel",
      "state": {
       "_dom_classes": [],
       "_model_module": "@jupyter-widgets/controls",
       "_model_module_version": "1.5.0",
       "_model_name": "FloatProgressModel",
       "_view_count": null,
       "_view_module": "@jupyter-widgets/controls",
       "_view_module_version": "1.5.0",
       "_view_name": "ProgressView",
       "bar_style": "success",
       "description": "",
       "description_tooltip": null,
       "layout": "IPY_MODEL_d001fdcc027c476aa66675f68253e2ea",
       "max": 373.0,
       "min": 0.0,
       "orientation": "horizontal",
       "style": "IPY_MODEL_11e27f3f4f8146b29d03662586c2db83",
       "value": 373.0
      }
     },
     "fe7c7e5db39b464faad13708674adb61": {
      "model_module": "@jupyter-widgets/controls",
      "model_module_version": "1.5.0",
      "model_name": "HTMLModel",
      "state": {
       "_dom_classes": [],
       "_model_module": "@jupyter-widgets/controls",
       "_model_module_version": "1.5.0",
       "_model_name": "HTMLModel",
       "_view_count": null,
       "_view_module": "@jupyter-widgets/controls",
       "_view_module_version": "1.5.0",
       "_view_name": "HTMLView",
       "description": "",
       "description_tooltip": null,
       "layout": "IPY_MODEL_562ddf1e5181485186fc8180149aac03",
       "placeholder": "​",
       "style": "IPY_MODEL_9380a5325c744eedbc239a81efbe4ff6",
       "value": " 373/373 [00:00&lt;00:00, 27.1kB/s]"
      }
     },
     "fefb3253fa87444f8d25c02caabe6acb": {
      "model_module": "@jupyter-widgets/controls",
      "model_module_version": "1.5.0",
      "model_name": "FloatProgressModel",
      "state": {
       "_dom_classes": [],
       "_model_module": "@jupyter-widgets/controls",
       "_model_module_version": "1.5.0",
       "_model_name": "FloatProgressModel",
       "_view_count": null,
       "_view_module": "@jupyter-widgets/controls",
       "_view_module_version": "1.5.0",
       "_view_name": "ProgressView",
       "bar_style": "success",
       "description": "",
       "description_tooltip": null,
       "layout": "IPY_MODEL_86589c460cb54920aae85cc2f3499e99",
       "max": 541320452.0,
       "min": 0.0,
       "orientation": "horizontal",
       "style": "IPY_MODEL_26e8c7f9b6c8439f9164bedc28863045",
       "value": 541320452.0
      }
     }
    },
    "version_major": 2,
    "version_minor": 0
   }
  }
 },
 "nbformat": 4,
 "nbformat_minor": 5
}
