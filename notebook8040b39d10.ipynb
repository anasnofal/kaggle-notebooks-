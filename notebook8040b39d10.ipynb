{
 "cells": [
  {
   "cell_type": "code",
   "execution_count": 1,
   "id": "ad0d84b8",
   "metadata": {
    "execution": {
     "iopub.execute_input": "2024-08-09T14:09:53.183721Z",
     "iopub.status.busy": "2024-08-09T14:09:53.183444Z",
     "iopub.status.idle": "2024-08-09T14:10:13.708147Z",
     "shell.execute_reply": "2024-08-09T14:10:13.707241Z"
    },
    "id": "I6Ny9EHOvyJM",
    "papermill": {
     "duration": 20.539873,
     "end_time": "2024-08-09T14:10:13.710418",
     "exception": false,
     "start_time": "2024-08-09T14:09:53.170545",
     "status": "completed"
    },
    "tags": []
   },
   "outputs": [
    {
     "data": {
      "text/html": [
       "<div>\n",
       "<style scoped>\n",
       "    .dataframe tbody tr th:only-of-type {\n",
       "        vertical-align: middle;\n",
       "    }\n",
       "\n",
       "    .dataframe tbody tr th {\n",
       "        vertical-align: top;\n",
       "    }\n",
       "\n",
       "    .dataframe thead th {\n",
       "        text-align: right;\n",
       "    }\n",
       "</style>\n",
       "<table border=\"1\" class=\"dataframe\">\n",
       "  <thead>\n",
       "    <tr style=\"text-align: right;\">\n",
       "      <th></th>\n",
       "      <th>Unnamed: 0</th>\n",
       "      <th>issue_url</th>\n",
       "      <th>issue_label</th>\n",
       "      <th>issue_created_at</th>\n",
       "      <th>issue_author_association</th>\n",
       "      <th>repository_url</th>\n",
       "      <th>issue_title</th>\n",
       "      <th>issue_body</th>\n",
       "    </tr>\n",
       "  </thead>\n",
       "  <tbody>\n",
       "    <tr>\n",
       "      <th>0</th>\n",
       "      <td>0</td>\n",
       "      <td>https://api.github.com/repos/eamodio/vscode-gi...</td>\n",
       "      <td>bug</td>\n",
       "      <td>2021-01-02T18:07:30Z</td>\n",
       "      <td>NONE</td>\n",
       "      <td>https://api.github.com/repos/eamodio/vscode-gi...</td>\n",
       "      <td>Welcome screen on every editor window is very ...</td>\n",
       "      <td>I just discovered Gitlens and find the functio...</td>\n",
       "    </tr>\n",
       "    <tr>\n",
       "      <th>1</th>\n",
       "      <td>1</td>\n",
       "      <td>https://api.github.com/repos/binwiederhier/pco...</td>\n",
       "      <td>bug</td>\n",
       "      <td>2020-12-31T18:19:31Z</td>\n",
       "      <td>OWNER</td>\n",
       "      <td>https://api.github.com/repos/binwiederhier/pcopy</td>\n",
       "      <td>\"pcopy invite\" and \"pcopy paste abc:\" does not...</td>\n",
       "      <td>NaN</td>\n",
       "    </tr>\n",
       "    <tr>\n",
       "      <th>2</th>\n",
       "      <td>2</td>\n",
       "      <td>https://api.github.com/repos/binwiederhier/pco...</td>\n",
       "      <td>bug</td>\n",
       "      <td>2021-01-03T04:33:36Z</td>\n",
       "      <td>OWNER</td>\n",
       "      <td>https://api.github.com/repos/binwiederhier/pcopy</td>\n",
       "      <td>UI: Modal overlay is half transparent, shouldn...</td>\n",
       "      <td>NaN</td>\n",
       "    </tr>\n",
       "    <tr>\n",
       "      <th>3</th>\n",
       "      <td>3</td>\n",
       "      <td>https://api.github.com/repos/Sothatsit/RoyalUr...</td>\n",
       "      <td>enhancement</td>\n",
       "      <td>2020-12-25T00:46:00Z</td>\n",
       "      <td>OWNER</td>\n",
       "      <td>https://api.github.com/repos/Sothatsit/RoyalUr...</td>\n",
       "      <td>Make the loading screen scale with browser win...</td>\n",
       "      <td>Currently the loading wheel is a fixed size in...</td>\n",
       "    </tr>\n",
       "    <tr>\n",
       "      <th>4</th>\n",
       "      <td>4</td>\n",
       "      <td>https://api.github.com/repos/Malivil/TTT-Custo...</td>\n",
       "      <td>bug</td>\n",
       "      <td>2021-01-02T21:36:57Z</td>\n",
       "      <td>OWNER</td>\n",
       "      <td>https://api.github.com/repos/Malivil/TTT-Custo...</td>\n",
       "      <td>Spectator - Investigate a way to strip weapons...</td>\n",
       "      <td>To bring magneto stick floating</td>\n",
       "    </tr>\n",
       "    <tr>\n",
       "      <th>5</th>\n",
       "      <td>5</td>\n",
       "      <td>https://api.github.com/repos/jankuss/shroom/is...</td>\n",
       "      <td>enhancement</td>\n",
       "      <td>2020-12-31T13:43:33Z</td>\n",
       "      <td>NONE</td>\n",
       "      <td>https://api.github.com/repos/jankuss/shroom</td>\n",
       "      <td>Single Shroom instance for multiple canvases?</td>\n",
       "      <td>Is it possible to be able to create a single S...</td>\n",
       "    </tr>\n",
       "    <tr>\n",
       "      <th>6</th>\n",
       "      <td>7</td>\n",
       "      <td>https://api.github.com/repos/juniorGreg/moisi_...</td>\n",
       "      <td>bug</td>\n",
       "      <td>2020-12-27T01:40:34Z</td>\n",
       "      <td>OWNER</td>\n",
       "      <td>https://api.github.com/repos/juniorGreg/moisi_...</td>\n",
       "      <td>Correct navigation bar for some resolution</td>\n",
       "      <td>![Capture d’écran_2020-12-26_20-40-02](https:/...</td>\n",
       "    </tr>\n",
       "    <tr>\n",
       "      <th>7</th>\n",
       "      <td>8</td>\n",
       "      <td>https://api.github.com/repos/JoeParrinello/Bro...</td>\n",
       "      <td>enhancement</td>\n",
       "      <td>2021-01-02T16:05:43Z</td>\n",
       "      <td>OWNER</td>\n",
       "      <td>https://api.github.com/repos/JoeParrinello/Bro...</td>\n",
       "      <td>Return asset growth</td>\n",
       "      <td>Would have to cache:\\r\\n- Stock Ticker Request...</td>\n",
       "    </tr>\n",
       "    <tr>\n",
       "      <th>8</th>\n",
       "      <td>9</td>\n",
       "      <td>https://api.github.com/repos/Forty-Bot/trends....</td>\n",
       "      <td>enhancement</td>\n",
       "      <td>2021-01-03T03:46:34Z</td>\n",
       "      <td>OWNER</td>\n",
       "      <td>https://api.github.com/repos/Forty-Bot/trends.tf</td>\n",
       "      <td>Add filter for logs</td>\n",
       "      <td>Add the ability to filter logs like on other p...</td>\n",
       "    </tr>\n",
       "    <tr>\n",
       "      <th>9</th>\n",
       "      <td>10</td>\n",
       "      <td>https://api.github.com/repos/andrewjj20/post/i...</td>\n",
       "      <td>enhancement</td>\n",
       "      <td>2020-10-23T04:38:35Z</td>\n",
       "      <td>COLLABORATOR</td>\n",
       "      <td>https://api.github.com/repos/andrewjj20/post</td>\n",
       "      <td>Create trait for Meetup Service publisher stores</td>\n",
       "      <td>Developers could want different backing publis...</td>\n",
       "    </tr>\n",
       "  </tbody>\n",
       "</table>\n",
       "</div>"
      ],
      "text/plain": [
       "   Unnamed: 0                                          issue_url  issue_label  \\\n",
       "0           0  https://api.github.com/repos/eamodio/vscode-gi...          bug   \n",
       "1           1  https://api.github.com/repos/binwiederhier/pco...          bug   \n",
       "2           2  https://api.github.com/repos/binwiederhier/pco...          bug   \n",
       "3           3  https://api.github.com/repos/Sothatsit/RoyalUr...  enhancement   \n",
       "4           4  https://api.github.com/repos/Malivil/TTT-Custo...          bug   \n",
       "5           5  https://api.github.com/repos/jankuss/shroom/is...  enhancement   \n",
       "6           7  https://api.github.com/repos/juniorGreg/moisi_...          bug   \n",
       "7           8  https://api.github.com/repos/JoeParrinello/Bro...  enhancement   \n",
       "8           9  https://api.github.com/repos/Forty-Bot/trends....  enhancement   \n",
       "9          10  https://api.github.com/repos/andrewjj20/post/i...  enhancement   \n",
       "\n",
       "       issue_created_at issue_author_association  \\\n",
       "0  2021-01-02T18:07:30Z                     NONE   \n",
       "1  2020-12-31T18:19:31Z                    OWNER   \n",
       "2  2021-01-03T04:33:36Z                    OWNER   \n",
       "3  2020-12-25T00:46:00Z                    OWNER   \n",
       "4  2021-01-02T21:36:57Z                    OWNER   \n",
       "5  2020-12-31T13:43:33Z                     NONE   \n",
       "6  2020-12-27T01:40:34Z                    OWNER   \n",
       "7  2021-01-02T16:05:43Z                    OWNER   \n",
       "8  2021-01-03T03:46:34Z                    OWNER   \n",
       "9  2020-10-23T04:38:35Z             COLLABORATOR   \n",
       "\n",
       "                                      repository_url  \\\n",
       "0  https://api.github.com/repos/eamodio/vscode-gi...   \n",
       "1   https://api.github.com/repos/binwiederhier/pcopy   \n",
       "2   https://api.github.com/repos/binwiederhier/pcopy   \n",
       "3  https://api.github.com/repos/Sothatsit/RoyalUr...   \n",
       "4  https://api.github.com/repos/Malivil/TTT-Custo...   \n",
       "5        https://api.github.com/repos/jankuss/shroom   \n",
       "6  https://api.github.com/repos/juniorGreg/moisi_...   \n",
       "7  https://api.github.com/repos/JoeParrinello/Bro...   \n",
       "8   https://api.github.com/repos/Forty-Bot/trends.tf   \n",
       "9       https://api.github.com/repos/andrewjj20/post   \n",
       "\n",
       "                                         issue_title  \\\n",
       "0  Welcome screen on every editor window is very ...   \n",
       "1  \"pcopy invite\" and \"pcopy paste abc:\" does not...   \n",
       "2  UI: Modal overlay is half transparent, shouldn...   \n",
       "3  Make the loading screen scale with browser win...   \n",
       "4  Spectator - Investigate a way to strip weapons...   \n",
       "5      Single Shroom instance for multiple canvases?   \n",
       "6         Correct navigation bar for some resolution   \n",
       "7                                Return asset growth   \n",
       "8                                Add filter for logs   \n",
       "9   Create trait for Meetup Service publisher stores   \n",
       "\n",
       "                                          issue_body  \n",
       "0  I just discovered Gitlens and find the functio...  \n",
       "1                                                NaN  \n",
       "2                                                NaN  \n",
       "3  Currently the loading wheel is a fixed size in...  \n",
       "4                    To bring magneto stick floating  \n",
       "5  Is it possible to be able to create a single S...  \n",
       "6  ![Capture d’écran_2020-12-26_20-40-02](https:/...  \n",
       "7  Would have to cache:\\r\\n- Stock Ticker Request...  \n",
       "8  Add the ability to filter logs like on other p...  \n",
       "9  Developers could want different backing publis...  "
      ]
     },
     "execution_count": 1,
     "metadata": {},
     "output_type": "execute_result"
    }
   ],
   "source": [
    "import os\n",
    "os.environ[\"TF_USE_LEGACY_KERAS\"] = \"1\"\n",
    "os.environ[\"CUDA_DEVICE_ORDER\"]=\"PCI_BUS_ID\";\n",
    "os.environ[\"CUDA_VISIBLE_DEVICES\"]=\"0,1\";\n",
    "import random\n",
    "random.seed(10)\n",
    "import pandas as pd\n",
    "data=pd.read_csv('/kaggle/input/issue-report-nlp/Issue_Report_Classification.csv')\n",
    "#test=pd.read_csv('/kaggle/input/issue-report-nlp/Issue_Report_Classification-test.csv')\n",
    "\n",
    "data.head(10)"
   ]
  },
  {
   "cell_type": "markdown",
   "id": "69e1ca33",
   "metadata": {
    "id": "jL99ml3A6iRf",
    "papermill": {
     "duration": 0.011665,
     "end_time": "2024-08-09T14:10:13.734771",
     "exception": false,
     "start_time": "2024-08-09T14:10:13.723106",
     "status": "completed"
    },
    "tags": []
   },
   "source": [
    "> Print the length of the dataset"
   ]
  },
  {
   "cell_type": "code",
   "execution_count": 2,
   "id": "2d210e3f",
   "metadata": {
    "execution": {
     "iopub.execute_input": "2024-08-09T14:10:13.759505Z",
     "iopub.status.busy": "2024-08-09T14:10:13.758890Z",
     "iopub.status.idle": "2024-08-09T14:10:13.889913Z",
     "shell.execute_reply": "2024-08-09T14:10:13.888960Z"
    },
    "id": "4DYLoxvB6hk6",
    "papermill": {
     "duration": 0.145649,
     "end_time": "2024-08-09T14:10:13.891935",
     "exception": false,
     "start_time": "2024-08-09T14:10:13.746286",
     "status": "completed"
    },
    "tags": []
   },
   "outputs": [
    {
     "data": {
      "text/plain": [
       "180725"
      ]
     },
     "execution_count": 2,
     "metadata": {},
     "output_type": "execute_result"
    }
   ],
   "source": [
    "data=data.sample(frac=0.25)\n",
    "len(data)"
   ]
  },
  {
   "cell_type": "code",
   "execution_count": 3,
   "id": "3dfd2129",
   "metadata": {
    "execution": {
     "iopub.execute_input": "2024-08-09T14:10:13.918343Z",
     "iopub.status.busy": "2024-08-09T14:10:13.918058Z",
     "iopub.status.idle": "2024-08-09T14:10:13.950040Z",
     "shell.execute_reply": "2024-08-09T14:10:13.949361Z"
    },
    "id": "8YbGqYNYv7sC",
    "papermill": {
     "duration": 0.04766,
     "end_time": "2024-08-09T14:10:13.951918",
     "exception": false,
     "start_time": "2024-08-09T14:10:13.904258",
     "status": "completed"
    },
    "tags": []
   },
   "outputs": [],
   "source": [
    "data=data[['issue_body', 'issue_label']]"
   ]
  },
  {
   "cell_type": "code",
   "execution_count": 4,
   "id": "f68cd3de",
   "metadata": {
    "execution": {
     "iopub.execute_input": "2024-08-09T14:10:13.976431Z",
     "iopub.status.busy": "2024-08-09T14:10:13.976174Z",
     "iopub.status.idle": "2024-08-09T14:10:13.984972Z",
     "shell.execute_reply": "2024-08-09T14:10:13.984151Z"
    },
    "id": "0sJHfToM624w",
    "papermill": {
     "duration": 0.023341,
     "end_time": "2024-08-09T14:10:13.986958",
     "exception": false,
     "start_time": "2024-08-09T14:10:13.963617",
     "status": "completed"
    },
    "tags": []
   },
   "outputs": [
    {
     "data": {
      "text/html": [
       "<div>\n",
       "<style scoped>\n",
       "    .dataframe tbody tr th:only-of-type {\n",
       "        vertical-align: middle;\n",
       "    }\n",
       "\n",
       "    .dataframe tbody tr th {\n",
       "        vertical-align: top;\n",
       "    }\n",
       "\n",
       "    .dataframe thead th {\n",
       "        text-align: right;\n",
       "    }\n",
       "</style>\n",
       "<table border=\"1\" class=\"dataframe\">\n",
       "  <thead>\n",
       "    <tr style=\"text-align: right;\">\n",
       "      <th></th>\n",
       "      <th>issue_body</th>\n",
       "      <th>issue_label</th>\n",
       "    </tr>\n",
       "  </thead>\n",
       "  <tbody>\n",
       "    <tr>\n",
       "      <th>448203</th>\n",
       "      <td>On web dashboard, when you leave a space on to...</td>\n",
       "      <td>bug</td>\n",
       "    </tr>\n",
       "    <tr>\n",
       "      <th>185247</th>\n",
       "      <td>Is it possible to log in through the system PA...</td>\n",
       "      <td>question</td>\n",
       "    </tr>\n",
       "    <tr>\n",
       "      <th>634725</th>\n",
       "      <td>Feature request: Add Sticky assignor strategy ...</td>\n",
       "      <td>enhancement</td>\n",
       "    </tr>\n",
       "    <tr>\n",
       "      <th>83922</th>\n",
       "      <td>Hi Guilhem, \\r\\n\\r\\nI'm not sure whether this ...</td>\n",
       "      <td>enhancement</td>\n",
       "    </tr>\n",
       "    <tr>\n",
       "      <th>58011</th>\n",
       "      <td>NaN</td>\n",
       "      <td>bug</td>\n",
       "    </tr>\n",
       "  </tbody>\n",
       "</table>\n",
       "</div>"
      ],
      "text/plain": [
       "                                               issue_body  issue_label\n",
       "448203  On web dashboard, when you leave a space on to...          bug\n",
       "185247  Is it possible to log in through the system PA...     question\n",
       "634725  Feature request: Add Sticky assignor strategy ...  enhancement\n",
       "83922   Hi Guilhem, \\r\\n\\r\\nI'm not sure whether this ...  enhancement\n",
       "58011                                                 NaN          bug"
      ]
     },
     "execution_count": 4,
     "metadata": {},
     "output_type": "execute_result"
    }
   ],
   "source": [
    "data.head()"
   ]
  },
  {
   "cell_type": "markdown",
   "id": "1c35e2b2",
   "metadata": {
    "id": "Xh5VXK-A8DN-",
    "papermill": {
     "duration": 0.01176,
     "end_time": "2024-08-09T14:10:14.010580",
     "exception": false,
     "start_time": "2024-08-09T14:10:13.998820",
     "status": "completed"
    },
    "tags": []
   },
   "source": [
    "> Drop nulls"
   ]
  },
  {
   "cell_type": "code",
   "execution_count": 5,
   "id": "076f0162",
   "metadata": {
    "execution": {
     "iopub.execute_input": "2024-08-09T14:10:14.035551Z",
     "iopub.status.busy": "2024-08-09T14:10:14.034898Z",
     "iopub.status.idle": "2024-08-09T14:10:14.078968Z",
     "shell.execute_reply": "2024-08-09T14:10:14.078313Z"
    },
    "id": "UtGxlLxB8ApH",
    "papermill": {
     "duration": 0.058563,
     "end_time": "2024-08-09T14:10:14.080948",
     "exception": false,
     "start_time": "2024-08-09T14:10:14.022385",
     "status": "completed"
    },
    "tags": []
   },
   "outputs": [],
   "source": [
    "data = data.dropna(subset=['issue_body'])"
   ]
  },
  {
   "cell_type": "code",
   "execution_count": 6,
   "id": "070a7caf",
   "metadata": {
    "execution": {
     "iopub.execute_input": "2024-08-09T14:10:14.106203Z",
     "iopub.status.busy": "2024-08-09T14:10:14.105469Z",
     "iopub.status.idle": "2024-08-09T14:10:14.110822Z",
     "shell.execute_reply": "2024-08-09T14:10:14.109993Z"
    },
    "id": "aqZM-XB48IBw",
    "papermill": {
     "duration": 0.019823,
     "end_time": "2024-08-09T14:10:14.112758",
     "exception": false,
     "start_time": "2024-08-09T14:10:14.092935",
     "status": "completed"
    },
    "tags": []
   },
   "outputs": [
    {
     "data": {
      "text/plain": [
       "162892"
      ]
     },
     "execution_count": 6,
     "metadata": {},
     "output_type": "execute_result"
    }
   ],
   "source": [
    "len(data)"
   ]
  },
  {
   "cell_type": "markdown",
   "id": "ed764693",
   "metadata": {
    "id": "7-GTgKp49TtN",
    "papermill": {
     "duration": 0.011664,
     "end_time": "2024-08-09T14:10:14.136265",
     "exception": false,
     "start_time": "2024-08-09T14:10:14.124601",
     "status": "completed"
    },
    "tags": []
   },
   "source": [
    "> Standardize the text"
   ]
  },
  {
   "cell_type": "code",
   "execution_count": 7,
   "id": "c71832f6",
   "metadata": {
    "execution": {
     "iopub.execute_input": "2024-08-09T14:10:14.161677Z",
     "iopub.status.busy": "2024-08-09T14:10:14.161432Z",
     "iopub.status.idle": "2024-08-09T14:10:33.989830Z",
     "shell.execute_reply": "2024-08-09T14:10:33.988697Z"
    },
    "id": "e_kxJLNL8RAv",
    "papermill": {
     "duration": 19.843587,
     "end_time": "2024-08-09T14:10:33.992124",
     "exception": false,
     "start_time": "2024-08-09T14:10:14.148537",
     "status": "completed"
    },
    "tags": []
   },
   "outputs": [],
   "source": [
    "import re\n",
    "\n",
    "def standardize_text(text):\n",
    "    text = re.sub(r'[^a-zA-Z0-9\\s\\']', '', text)\n",
    "    text = re.sub(r'\\s+', ' ', text)\n",
    "    text = re.sub(r'http\\s+' ,'',text)\n",
    "    text = text.lower()\n",
    "    return text.strip()\n",
    "\n",
    "data['issue_body'] = data['issue_body'].apply(standardize_text)\n",
    "\n",
    "data = data.drop_duplicates(subset=['issue_body'])"
   ]
  },
  {
   "cell_type": "code",
   "execution_count": 8,
   "id": "49f41064",
   "metadata": {
    "execution": {
     "iopub.execute_input": "2024-08-09T14:10:34.017869Z",
     "iopub.status.busy": "2024-08-09T14:10:34.017563Z",
     "iopub.status.idle": "2024-08-09T14:10:34.022994Z",
     "shell.execute_reply": "2024-08-09T14:10:34.022153Z"
    },
    "id": "VaUdVCZN9Jnl",
    "papermill": {
     "duration": 0.020244,
     "end_time": "2024-08-09T14:10:34.024977",
     "exception": false,
     "start_time": "2024-08-09T14:10:34.004733",
     "status": "completed"
    },
    "tags": []
   },
   "outputs": [
    {
     "data": {
      "text/plain": [
       "156403"
      ]
     },
     "execution_count": 8,
     "metadata": {},
     "output_type": "execute_result"
    }
   ],
   "source": [
    "len(data)"
   ]
  },
  {
   "cell_type": "markdown",
   "id": "2b22b87f",
   "metadata": {
    "id": "byxj9uCL9mVl",
    "papermill": {
     "duration": 0.011925,
     "end_time": "2024-08-09T14:10:34.048906",
     "exception": false,
     "start_time": "2024-08-09T14:10:34.036981",
     "status": "completed"
    },
    "tags": []
   },
   "source": [
    "> Remove punctuation"
   ]
  },
  {
   "cell_type": "code",
   "execution_count": 9,
   "id": "c377d448",
   "metadata": {
    "execution": {
     "iopub.execute_input": "2024-08-09T14:10:34.074185Z",
     "iopub.status.busy": "2024-08-09T14:10:34.073544Z",
     "iopub.status.idle": "2024-08-09T14:10:35.178456Z",
     "shell.execute_reply": "2024-08-09T14:10:35.177474Z"
    },
    "id": "alykuKzL9MeI",
    "papermill": {
     "duration": 1.120142,
     "end_time": "2024-08-09T14:10:35.180946",
     "exception": false,
     "start_time": "2024-08-09T14:10:34.060804",
     "status": "completed"
    },
    "tags": []
   },
   "outputs": [],
   "source": [
    "import string\n",
    "\n",
    "def remove_punctuation(text):\n",
    "    return text.translate(str.maketrans('', '', string.punctuation))\n",
    "\n",
    "data['issue_body'] = data['issue_body'].apply(remove_punctuation)"
   ]
  },
  {
   "cell_type": "code",
   "execution_count": 10,
   "id": "de702189",
   "metadata": {
    "execution": {
     "iopub.execute_input": "2024-08-09T14:10:35.206709Z",
     "iopub.status.busy": "2024-08-09T14:10:35.206419Z",
     "iopub.status.idle": "2024-08-09T14:10:35.226655Z",
     "shell.execute_reply": "2024-08-09T14:10:35.225847Z"
    },
    "id": "l64h2jBOwA1w",
    "papermill": {
     "duration": 0.035038,
     "end_time": "2024-08-09T14:10:35.228610",
     "exception": false,
     "start_time": "2024-08-09T14:10:35.193572",
     "status": "completed"
    },
    "tags": []
   },
   "outputs": [
    {
     "data": {
      "text/plain": [
       "{'bug': 0, 'question': 1, 'enhancement': 2}"
      ]
     },
     "execution_count": 10,
     "metadata": {},
     "output_type": "execute_result"
    }
   ],
   "source": [
    "possible_labels = data.issue_label.unique()\n",
    "\n",
    "label_dict = {}\n",
    "for index, possible_label in enumerate(possible_labels):\n",
    "    label_dict[possible_label] = index\n",
    "label_dict"
   ]
  },
  {
   "cell_type": "code",
   "execution_count": 11,
   "id": "fbeb218d",
   "metadata": {
    "execution": {
     "iopub.execute_input": "2024-08-09T14:10:35.253895Z",
     "iopub.status.busy": "2024-08-09T14:10:35.253658Z",
     "iopub.status.idle": "2024-08-09T14:10:35.364950Z",
     "shell.execute_reply": "2024-08-09T14:10:35.364002Z"
    },
    "id": "hgTcfF2PwGhm",
    "papermill": {
     "duration": 0.126138,
     "end_time": "2024-08-09T14:10:35.366949",
     "exception": false,
     "start_time": "2024-08-09T14:10:35.240811",
     "status": "completed"
    },
    "tags": []
   },
   "outputs": [
    {
     "name": "stderr",
     "output_type": "stream",
     "text": [
      "/tmp/ipykernel_25/3275910327.py:1: FutureWarning: Downcasting behavior in `replace` is deprecated and will be removed in a future version. To retain the old behavior, explicitly call `result.infer_objects(copy=False)`. To opt-in to the future behavior, set `pd.set_option('future.no_silent_downcasting', True)`\n",
      "  data['issue_label'] = data.issue_label.replace(label_dict)\n"
     ]
    }
   ],
   "source": [
    "data['issue_label'] = data.issue_label.replace(label_dict)"
   ]
  },
  {
   "cell_type": "code",
   "execution_count": 12,
   "id": "b74eb406",
   "metadata": {
    "execution": {
     "iopub.execute_input": "2024-08-09T14:10:35.393242Z",
     "iopub.status.busy": "2024-08-09T14:10:35.392796Z",
     "iopub.status.idle": "2024-08-09T14:10:35.401903Z",
     "shell.execute_reply": "2024-08-09T14:10:35.401050Z"
    },
    "id": "eq7EYGaPwP8i",
    "papermill": {
     "duration": 0.024576,
     "end_time": "2024-08-09T14:10:35.404009",
     "exception": false,
     "start_time": "2024-08-09T14:10:35.379433",
     "status": "completed"
    },
    "tags": []
   },
   "outputs": [
    {
     "data": {
      "text/html": [
       "<div>\n",
       "<style scoped>\n",
       "    .dataframe tbody tr th:only-of-type {\n",
       "        vertical-align: middle;\n",
       "    }\n",
       "\n",
       "    .dataframe tbody tr th {\n",
       "        vertical-align: top;\n",
       "    }\n",
       "\n",
       "    .dataframe thead th {\n",
       "        text-align: right;\n",
       "    }\n",
       "</style>\n",
       "<table border=\"1\" class=\"dataframe\">\n",
       "  <thead>\n",
       "    <tr style=\"text-align: right;\">\n",
       "      <th></th>\n",
       "      <th>issue_body</th>\n",
       "      <th>issue_label</th>\n",
       "    </tr>\n",
       "  </thead>\n",
       "  <tbody>\n",
       "    <tr>\n",
       "      <th>448203</th>\n",
       "      <td>on web dashboard when you leave a space on top...</td>\n",
       "      <td>0</td>\n",
       "    </tr>\n",
       "    <tr>\n",
       "      <th>185247</th>\n",
       "      <td>is it possible to log in through the system pa...</td>\n",
       "      <td>1</td>\n",
       "    </tr>\n",
       "    <tr>\n",
       "      <th>634725</th>\n",
       "      <td>feature request add sticky assignor strategy i...</td>\n",
       "      <td>2</td>\n",
       "    </tr>\n",
       "    <tr>\n",
       "      <th>83922</th>\n",
       "      <td>hi guilhem im not sure whether this is a bug o...</td>\n",
       "      <td>2</td>\n",
       "    </tr>\n",
       "    <tr>\n",
       "      <th>677937</th>\n",
       "      <td>httpspasteubuntucomp4hnzx5fgwc</td>\n",
       "      <td>0</td>\n",
       "    </tr>\n",
       "    <tr>\n",
       "      <th>173276</th>\n",
       "      <td>updated make a functional react component to o...</td>\n",
       "      <td>2</td>\n",
       "    </tr>\n",
       "    <tr>\n",
       "      <th>665999</th>\n",
       "      <td>is your feature request related to a problem p...</td>\n",
       "      <td>2</td>\n",
       "    </tr>\n",
       "    <tr>\n",
       "      <th>239602</th>\n",
       "      <td>please read this first if your issue relates t...</td>\n",
       "      <td>0</td>\n",
       "    </tr>\n",
       "    <tr>\n",
       "      <th>175851</th>\n",
       "      <td>i am using tinymce 4512 editor as email editor...</td>\n",
       "      <td>1</td>\n",
       "    </tr>\n",
       "    <tr>\n",
       "      <th>131760</th>\n",
       "      <td>firstly well done the app looks good i like th...</td>\n",
       "      <td>2</td>\n",
       "    </tr>\n",
       "  </tbody>\n",
       "</table>\n",
       "</div>"
      ],
      "text/plain": [
       "                                               issue_body  issue_label\n",
       "448203  on web dashboard when you leave a space on top...            0\n",
       "185247  is it possible to log in through the system pa...            1\n",
       "634725  feature request add sticky assignor strategy i...            2\n",
       "83922   hi guilhem im not sure whether this is a bug o...            2\n",
       "677937                     httpspasteubuntucomp4hnzx5fgwc            0\n",
       "173276  updated make a functional react component to o...            2\n",
       "665999  is your feature request related to a problem p...            2\n",
       "239602  please read this first if your issue relates t...            0\n",
       "175851  i am using tinymce 4512 editor as email editor...            1\n",
       "131760  firstly well done the app looks good i like th...            2"
      ]
     },
     "execution_count": 12,
     "metadata": {},
     "output_type": "execute_result"
    }
   ],
   "source": [
    "data.head(10)"
   ]
  },
  {
   "cell_type": "markdown",
   "id": "a6478792",
   "metadata": {
    "id": "ic7gpGw6ApT9",
    "papermill": {
     "duration": 0.012449,
     "end_time": "2024-08-09T14:10:35.429450",
     "exception": false,
     "start_time": "2024-08-09T14:10:35.417001",
     "status": "completed"
    },
    "tags": []
   },
   "source": []
  },
  {
   "cell_type": "code",
   "execution_count": 13,
   "id": "f1be4e03",
   "metadata": {
    "execution": {
     "iopub.execute_input": "2024-08-09T14:10:35.455187Z",
     "iopub.status.busy": "2024-08-09T14:10:35.454912Z",
     "iopub.status.idle": "2024-08-09T14:10:35.458819Z",
     "shell.execute_reply": "2024-08-09T14:10:35.458025Z"
    },
    "id": "9CafNAysApzO",
    "papermill": {
     "duration": 0.018848,
     "end_time": "2024-08-09T14:10:35.460628",
     "exception": false,
     "start_time": "2024-08-09T14:10:35.441780",
     "status": "completed"
    },
    "tags": []
   },
   "outputs": [],
   "source": [
    "# import nltk\n",
    "# nltk.download('punkt')\n",
    "# from nltk.tokenize import word_tokenize\n",
    "# def clean_tokenization(text):\n",
    "#   return word_tokenize(text)\n",
    "\n",
    "# nltk.download('stopwords')\n",
    "# from nltk.corpus import stopwords\n",
    "\n",
    "# stop_words=set(stopwords.words('english'))\n",
    "# def clean_stopwords(token):\n",
    "#    return [item for item in token if item not in stop_words]\n",
    "\n",
    "# data['issue_body'] = data['issue_body'].apply(clean_tokenization)\n",
    "# data['issue_body']=data['issue_body'].apply(clean_stopwords)\n"
   ]
  },
  {
   "cell_type": "code",
   "execution_count": 14,
   "id": "86e6dd0e",
   "metadata": {
    "execution": {
     "iopub.execute_input": "2024-08-09T14:10:35.486519Z",
     "iopub.status.busy": "2024-08-09T14:10:35.486283Z",
     "iopub.status.idle": "2024-08-09T14:10:35.489648Z",
     "shell.execute_reply": "2024-08-09T14:10:35.488896Z"
    },
    "id": "uNGEG_HEzBoU",
    "papermill": {
     "duration": 0.018593,
     "end_time": "2024-08-09T14:10:35.491563",
     "exception": false,
     "start_time": "2024-08-09T14:10:35.472970",
     "status": "completed"
    },
    "tags": []
   },
   "outputs": [],
   "source": [
    "# import nltk\n",
    "# nltk.download('punkt')"
   ]
  },
  {
   "cell_type": "code",
   "execution_count": 15,
   "id": "ad248829",
   "metadata": {
    "execution": {
     "iopub.execute_input": "2024-08-09T14:10:35.517564Z",
     "iopub.status.busy": "2024-08-09T14:10:35.517297Z",
     "iopub.status.idle": "2024-08-09T14:10:35.520821Z",
     "shell.execute_reply": "2024-08-09T14:10:35.520018Z"
    },
    "id": "COezhVMozEOQ",
    "papermill": {
     "duration": 0.018796,
     "end_time": "2024-08-09T14:10:35.522831",
     "exception": false,
     "start_time": "2024-08-09T14:10:35.504035",
     "status": "completed"
    },
    "tags": []
   },
   "outputs": [],
   "source": [
    "# import re\n",
    "# import nltk\n",
    "# import string\n",
    "# from nltk.tokenize import word_tokenize\n",
    "# from nltk.corpus import stopwords\n",
    "# from nltk.stem.porter import PorterStemmer"
   ]
  },
  {
   "cell_type": "code",
   "execution_count": 16,
   "id": "393f9caa",
   "metadata": {
    "execution": {
     "iopub.execute_input": "2024-08-09T14:10:35.549003Z",
     "iopub.status.busy": "2024-08-09T14:10:35.548330Z",
     "iopub.status.idle": "2024-08-09T14:10:35.551894Z",
     "shell.execute_reply": "2024-08-09T14:10:35.551113Z"
    },
    "id": "3qHLRGpr04dk",
    "papermill": {
     "duration": 0.018596,
     "end_time": "2024-08-09T14:10:35.553807",
     "exception": false,
     "start_time": "2024-08-09T14:10:35.535211",
     "status": "completed"
    },
    "tags": []
   },
   "outputs": [],
   "source": [
    "# def convert_to_string(listReview):\n",
    "#   return' '.join(listReview)\n",
    "# data['issue_body']=data['issue_body'].apply(convert_to_string)"
   ]
  },
  {
   "cell_type": "code",
   "execution_count": 17,
   "id": "dbf40b8b",
   "metadata": {
    "execution": {
     "iopub.execute_input": "2024-08-09T14:10:35.580274Z",
     "iopub.status.busy": "2024-08-09T14:10:35.580010Z",
     "iopub.status.idle": "2024-08-09T14:10:36.994274Z",
     "shell.execute_reply": "2024-08-09T14:10:36.993273Z"
    },
    "id": "5byteX9LriVv",
    "papermill": {
     "duration": 1.430304,
     "end_time": "2024-08-09T14:10:36.996738",
     "exception": false,
     "start_time": "2024-08-09T14:10:35.566434",
     "status": "completed"
    },
    "tags": []
   },
   "outputs": [],
   "source": [
    "from imblearn.under_sampling import RandomUnderSampler\n",
    "\n",
    "min_samples = data['issue_label'].value_counts().min()\n",
    "\n",
    "# Resample each class to have the same number of samples (minimum number)\n",
    "rus = RandomUnderSampler(sampling_strategy={class_label: min_samples for class_label in data['issue_label'].unique()})\n",
    "X, y = rus.fit_resample(data.drop(columns='issue_label'), data['issue_label'])"
   ]
  },
  {
   "cell_type": "code",
   "execution_count": 18,
   "id": "1656f57a",
   "metadata": {
    "execution": {
     "iopub.execute_input": "2024-08-09T14:10:37.024155Z",
     "iopub.status.busy": "2024-08-09T14:10:37.023748Z",
     "iopub.status.idle": "2024-08-09T14:10:37.307412Z",
     "shell.execute_reply": "2024-08-09T14:10:37.306585Z"
    },
    "id": "5akKCl2tyyDr",
    "papermill": {
     "duration": 0.299047,
     "end_time": "2024-08-09T14:10:37.309411",
     "exception": false,
     "start_time": "2024-08-09T14:10:37.010364",
     "status": "completed"
    },
    "tags": []
   },
   "outputs": [
    {
     "data": {
      "image/png": "[encoded data removed]",
      "text/plain": [
       "<Figure size 800x600 with 1 Axes>"
      ]
     },
     "metadata": {},
     "output_type": "display_data"
    }
   ],
   "source": [
    "import matplotlib.pyplot as plt\n",
    "\n",
    "# Get value counts of the resampled labels\n",
    "label_counts = pd.Series(y).value_counts()\n",
    "\n",
    "# Create a bar chart\n",
    "plt.figure(figsize=(8, 6))\n",
    "label_counts.plot(kind='bar')\n",
    "plt.title('Class Distribution after Resampling')\n",
    "plt.xlabel('Class Label')\n",
    "plt.ylabel('Count')\n",
    "plt.xticks(rotation=45)\n",
    "plt.show()"
   ]
  },
  {
   "cell_type": "code",
   "execution_count": 19,
   "id": "aaaead99",
   "metadata": {
    "execution": {
     "iopub.execute_input": "2024-08-09T14:10:37.336563Z",
     "iopub.status.busy": "2024-08-09T14:10:37.336293Z",
     "iopub.status.idle": "2024-08-09T14:10:37.341845Z",
     "shell.execute_reply": "2024-08-09T14:10:37.341000Z"
    },
    "id": "is154nBt5rC-",
    "papermill": {
     "duration": 0.02123,
     "end_time": "2024-08-09T14:10:37.343709",
     "exception": false,
     "start_time": "2024-08-09T14:10:37.322479",
     "status": "completed"
    },
    "tags": []
   },
   "outputs": [
    {
     "data": {
      "text/plain": [
       "(44397, 44397)"
      ]
     },
     "execution_count": 19,
     "metadata": {},
     "output_type": "execute_result"
    }
   ],
   "source": [
    "len(X), len(y)"
   ]
  },
  {
   "cell_type": "code",
   "execution_count": 20,
   "id": "370fd18f",
   "metadata": {
    "execution": {
     "iopub.execute_input": "2024-08-09T14:10:37.370575Z",
     "iopub.status.busy": "2024-08-09T14:10:37.370305Z",
     "iopub.status.idle": "2024-08-09T14:10:37.382614Z",
     "shell.execute_reply": "2024-08-09T14:10:37.381861Z"
    },
    "id": "uGfZS23e1FNL",
    "papermill": {
     "duration": 0.028186,
     "end_time": "2024-08-09T14:10:37.384680",
     "exception": false,
     "start_time": "2024-08-09T14:10:37.356494",
     "status": "completed"
    },
    "tags": []
   },
   "outputs": [
    {
     "data": {
      "text/plain": [
       "(35517, 8880)"
      ]
     },
     "execution_count": 20,
     "metadata": {},
     "output_type": "execute_result"
    }
   ],
   "source": [
    "from sklearn.model_selection import train_test_split\n",
    "x_train, x_test, y_train, y_test = train_test_split(X, y, test_size=0.2, random_state=42)\n",
    "len(x_train), len(x_test)"
   ]
  },
  {
   "cell_type": "code",
   "execution_count": 21,
   "id": "30224f12",
   "metadata": {
    "execution": {
     "iopub.execute_input": "2024-08-09T14:10:37.411942Z",
     "iopub.status.busy": "2024-08-09T14:10:37.411682Z",
     "iopub.status.idle": "2024-08-09T14:10:37.415439Z",
     "shell.execute_reply": "2024-08-09T14:10:37.414701Z"
    },
    "id": "OIB3pETW1Gzg",
    "papermill": {
     "duration": 0.019375,
     "end_time": "2024-08-09T14:10:37.417322",
     "exception": false,
     "start_time": "2024-08-09T14:10:37.397947",
     "status": "completed"
    },
    "tags": []
   },
   "outputs": [],
   "source": [
    "# for plotting comparisons\n",
    "acc = []; pre = [] ; rec = [] ; f = []"
   ]
  },
  {
   "cell_type": "code",
   "execution_count": 22,
   "id": "0400d16e",
   "metadata": {
    "execution": {
     "iopub.execute_input": "2024-08-09T14:10:37.484574Z",
     "iopub.status.busy": "2024-08-09T14:10:37.483772Z",
     "iopub.status.idle": "2024-08-09T14:10:37.488523Z",
     "shell.execute_reply": "2024-08-09T14:10:37.487691Z"
    },
    "id": "iPMY0fyZ1I4s",
    "papermill": {
     "duration": 0.020716,
     "end_time": "2024-08-09T14:10:37.490320",
     "exception": false,
     "start_time": "2024-08-09T14:10:37.469604",
     "status": "completed"
    },
    "tags": []
   },
   "outputs": [],
   "source": [
    "from sklearn import svm\n",
    "from sklearn.metrics import classification_report,accuracy_score,precision_score,recall_score\n",
    "from sklearn.metrics import accuracy_score,precision_score,recall_score,f1_score\n",
    "import sklearn.metrics as metrics"
   ]
  },
  {
   "cell_type": "code",
   "execution_count": 23,
   "id": "e53cddb6",
   "metadata": {
    "execution": {
     "iopub.execute_input": "2024-08-09T14:10:37.517426Z",
     "iopub.status.busy": "2024-08-09T14:10:37.517156Z",
     "iopub.status.idle": "2024-08-09T14:12:08.743169Z",
     "shell.execute_reply": "2024-08-09T14:12:08.742119Z"
    },
    "id": "5AW_yDIN2CF6",
    "papermill": {
     "duration": 91.242653,
     "end_time": "2024-08-09T14:12:08.746070",
     "exception": false,
     "start_time": "2024-08-09T14:10:37.503417",
     "status": "completed"
    },
    "tags": []
   },
   "outputs": [
    {
     "name": "stdout",
     "output_type": "stream",
     "text": [
      "Collecting tf-keras==2.15\r\n",
      "  Downloading tf_keras-2.15.0-py3-none-any.whl.metadata (1.6 kB)\r\n",
      "Downloading tf_keras-2.15.0-py3-none-any.whl (1.7 MB)\r\n",
      "\u001b[2K   \u001b[90m━━━━━━━━━━━━━━━━━━━━━━━━━━━━━━━━━━━━━━━━\u001b[0m \u001b[32m1.7/1.7 MB\u001b[0m \u001b[31m13.4 MB/s\u001b[0m eta \u001b[36m0:00:00\u001b[0m\r\n",
      "\u001b[?25hInstalling collected packages: tf-keras\r\n",
      "  Attempting uninstall: tf-keras\r\n",
      "    Found existing installation: tf_keras 2.15.1\r\n",
      "    Uninstalling tf_keras-2.15.1:\r\n",
      "      Successfully uninstalled tf_keras-2.15.1\r\n",
      "Successfully installed tf-keras-2.15.0\r\n",
      "Requirement already satisfied: transformers in /opt/conda/lib/python3.10/site-packages (4.42.3)\r\n",
      "Requirement already satisfied: datasets in /opt/conda/lib/python3.10/site-packages (2.20.0)\r\n",
      "Requirement already satisfied: torch in /opt/conda/lib/python3.10/site-packages (2.1.2)\r\n",
      "Requirement already satisfied: tensorboard in /opt/conda/lib/python3.10/site-packages (2.15.1)\r\n",
      "Requirement already satisfied: filelock in /opt/conda/lib/python3.10/site-packages (from transformers) (3.13.1)\r\n",
      "Requirement already satisfied: huggingface-hub<1.0,>=0.23.2 in /opt/conda/lib/python3.10/site-packages (from transformers) (0.23.4)\r\n",
      "Requirement already satisfied: numpy<2.0,>=1.17 in /opt/conda/lib/python3.10/site-packages (from transformers) (1.26.4)\r\n",
      "Requirement already satisfied: packaging>=20.0 in /opt/conda/lib/python3.10/site-packages (from transformers) (21.3)\r\n",
      "Requirement already satisfied: pyyaml>=5.1 in /opt/conda/lib/python3.10/site-packages (from transformers) (6.0.1)\r\n",
      "Requirement already satisfied: regex!=2019.12.17 in /opt/conda/lib/python3.10/site-packages (from transformers) (2023.12.25)\r\n",
      "Requirement already satisfied: requests in /opt/conda/lib/python3.10/site-packages (from transformers) (2.32.3)\r\n",
      "Requirement already satisfied: safetensors>=0.4.1 in /opt/conda/lib/python3.10/site-packages (from transformers) (0.4.3)\r\n",
      "Requirement already satisfied: tokenizers<0.20,>=0.19 in /opt/conda/lib/python3.10/site-packages (from transformers) (0.19.1)\r\n",
      "Requirement already satisfied: tqdm>=4.27 in /opt/conda/lib/python3.10/site-packages (from transformers) (4.66.4)\r\n",
      "Requirement already satisfied: pyarrow>=15.0.0 in /opt/conda/lib/python3.10/site-packages (from datasets) (16.1.0)\r\n",
      "Requirement already satisfied: pyarrow-hotfix in /opt/conda/lib/python3.10/site-packages (from datasets) (0.6)\r\n",
      "Requirement already satisfied: dill<0.3.9,>=0.3.0 in /opt/conda/lib/python3.10/site-packages (from datasets) (0.3.8)\r\n",
      "Requirement already satisfied: pandas in /opt/conda/lib/python3.10/site-packages (from datasets) (2.2.2)\r\n",
      "Requirement already satisfied: xxhash in /opt/conda/lib/python3.10/site-packages (from datasets) (3.4.1)\r\n",
      "Requirement already satisfied: multiprocess in /opt/conda/lib/python3.10/site-packages (from datasets) (0.70.16)\r\n",
      "Requirement already satisfied: fsspec<=2024.5.0,>=2023.1.0 in /opt/conda/lib/python3.10/site-packages (from fsspec[http]<=2024.5.0,>=2023.1.0->datasets) (2024.5.0)\r\n",
      "Requirement already satisfied: aiohttp in /opt/conda/lib/python3.10/site-packages (from datasets) (3.9.1)\r\n",
      "Requirement already satisfied: typing-extensions in /opt/conda/lib/python3.10/site-packages (from torch) (4.9.0)\r\n",
      "Requirement already satisfied: sympy in /opt/conda/lib/python3.10/site-packages (from torch) (1.13.0)\r\n",
      "Requirement already satisfied: networkx in /opt/conda/lib/python3.10/site-packages (from torch) (3.2.1)\r\n",
      "Requirement already satisfied: jinja2 in /opt/conda/lib/python3.10/site-packages (from torch) (3.1.2)\r\n",
      "Requirement already satisfied: absl-py>=0.4 in /opt/conda/lib/python3.10/site-packages (from tensorboard) (1.4.0)\r\n",
      "Requirement already satisfied: grpcio>=1.48.2 in /opt/conda/lib/python3.10/site-packages (from tensorboard) (1.60.0)\r\n",
      "Requirement already satisfied: google-auth<3,>=1.6.3 in /opt/conda/lib/python3.10/site-packages (from tensorboard) (2.26.1)\r\n",
      "Requirement already satisfied: google-auth-oauthlib<2,>=0.5 in /opt/conda/lib/python3.10/site-packages (from tensorboard) (1.2.0)\r\n",
      "Requirement already satisfied: markdown>=2.6.8 in /opt/conda/lib/python3.10/site-packages (from tensorboard) (3.5.2)\r\n",
      "Requirement already satisfied: protobuf<4.24,>=3.19.6 in /opt/conda/lib/python3.10/site-packages (from tensorboard) (3.20.3)\r\n",
      "Requirement already satisfied: setuptools>=41.0.0 in /opt/conda/lib/python3.10/site-packages (from tensorboard) (69.0.3)\r\n",
      "Requirement already satisfied: six>1.9 in /opt/conda/lib/python3.10/site-packages (from tensorboard) (1.16.0)\r\n",
      "Requirement already satisfied: tensorboard-data-server<0.8.0,>=0.7.0 in /opt/conda/lib/python3.10/site-packages (from tensorboard) (0.7.2)\r\n",
      "Requirement already satisfied: werkzeug>=1.0.1 in /opt/conda/lib/python3.10/site-packages (from tensorboard) (3.0.3)\r\n",
      "Requirement already satisfied: attrs>=17.3.0 in /opt/conda/lib/python3.10/site-packages (from aiohttp->datasets) (23.2.0)\r\n",
      "Requirement already satisfied: multidict<7.0,>=4.5 in /opt/conda/lib/python3.10/site-packages (from aiohttp->datasets) (6.0.4)\r\n",
      "Requirement already satisfied: yarl<2.0,>=1.0 in /opt/conda/lib/python3.10/site-packages (from aiohttp->datasets) (1.9.3)\r\n",
      "Requirement already satisfied: frozenlist>=1.1.1 in /opt/conda/lib/python3.10/site-packages (from aiohttp->datasets) (1.4.1)\r\n",
      "Requirement already satisfied: aiosignal>=1.1.2 in /opt/conda/lib/python3.10/site-packages (from aiohttp->datasets) (1.3.1)\r\n",
      "Requirement already satisfied: async-timeout<5.0,>=4.0 in /opt/conda/lib/python3.10/site-packages (from aiohttp->datasets) (4.0.3)\r\n",
      "Requirement already satisfied: cachetools<6.0,>=2.0.0 in /opt/conda/lib/python3.10/site-packages (from google-auth<3,>=1.6.3->tensorboard) (4.2.4)\r\n",
      "Requirement already satisfied: pyasn1-modules>=0.2.1 in /opt/conda/lib/python3.10/site-packages (from google-auth<3,>=1.6.3->tensorboard) (0.3.0)\r\n",
      "Requirement already satisfied: rsa<5,>=3.1.4 in /opt/conda/lib/python3.10/site-packages (from google-auth<3,>=1.6.3->tensorboard) (4.9)\r\n",
      "Requirement already satisfied: requests-oauthlib>=0.7.0 in /opt/conda/lib/python3.10/site-packages (from google-auth-oauthlib<2,>=0.5->tensorboard) (1.3.1)\r\n",
      "Requirement already satisfied: pyparsing!=3.0.5,>=2.0.2 in /opt/conda/lib/python3.10/site-packages (from packaging>=20.0->transformers) (3.1.1)\r\n",
      "Requirement already satisfied: charset-normalizer<4,>=2 in /opt/conda/lib/python3.10/site-packages (from requests->transformers) (3.3.2)\r\n",
      "Requirement already satisfied: idna<4,>=2.5 in /opt/conda/lib/python3.10/site-packages (from requests->transformers) (3.6)\r\n",
      "Requirement already satisfied: urllib3<3,>=1.21.1 in /opt/conda/lib/python3.10/site-packages (from requests->transformers) (1.26.18)\r\n",
      "Requirement already satisfied: certifi>=2017.4.17 in /opt/conda/lib/python3.10/site-packages (from requests->transformers) (2024.7.4)\r\n",
      "Requirement already satisfied: MarkupSafe>=2.1.1 in /opt/conda/lib/python3.10/site-packages (from werkzeug>=1.0.1->tensorboard) (2.1.3)\r\n",
      "Requirement already satisfied: python-dateutil>=2.8.2 in /opt/conda/lib/python3.10/site-packages (from pandas->datasets) (2.9.0.post0)\r\n",
      "Requirement already satisfied: pytz>=2020.1 in /opt/conda/lib/python3.10/site-packages (from pandas->datasets) (2023.3.post1)\r\n",
      "Requirement already satisfied: tzdata>=2022.7 in /opt/conda/lib/python3.10/site-packages (from pandas->datasets) (2023.4)\r\n",
      "Requirement already satisfied: mpmath<1.4,>=1.1.0 in /opt/conda/lib/python3.10/site-packages (from sympy->torch) (1.3.0)\r\n",
      "Requirement already satisfied: pyasn1<0.6.0,>=0.4.6 in /opt/conda/lib/python3.10/site-packages (from pyasn1-modules>=0.2.1->google-auth<3,>=1.6.3->tensorboard) (0.5.1)\r\n",
      "Requirement already satisfied: oauthlib>=3.0.0 in /opt/conda/lib/python3.10/site-packages (from requests-oauthlib>=0.7.0->google-auth-oauthlib<2,>=0.5->tensorboard) (3.2.2)\r\n"
     ]
    }
   ],
   "source": [
    "# Install ktrain\n",
    "!pip install --upgrade pip -q\n",
    "!pip install -q ktrain\n",
    "!pip install tf-keras==2.15\n",
    "!pip install transformers datasets torch tensorboard\n",
    "import os \n",
    "os.environ['TF_USE_LEGACY_KERAS'] = '1'\n",
    "import ktrain"
   ]
  },
  {
   "cell_type": "code",
   "execution_count": 24,
   "id": "fc2c6a41",
   "metadata": {
    "execution": {
     "iopub.execute_input": "2024-08-09T14:12:08.784138Z",
     "iopub.status.busy": "2024-08-09T14:12:08.783166Z",
     "iopub.status.idle": "2024-08-09T14:12:08.787742Z",
     "shell.execute_reply": "2024-08-09T14:12:08.786872Z"
    },
    "id": "fLE_Pszv1Kya",
    "papermill": {
     "duration": 0.024702,
     "end_time": "2024-08-09T14:12:08.789983",
     "exception": false,
     "start_time": "2024-08-09T14:12:08.765281",
     "status": "completed"
    },
    "tags": []
   },
   "outputs": [],
   "source": [
    "# from ktrain import text"
   ]
  },
  {
   "cell_type": "code",
   "execution_count": 25,
   "id": "4984fc4e",
   "metadata": {
    "execution": {
     "iopub.execute_input": "2024-08-09T14:12:08.827601Z",
     "iopub.status.busy": "2024-08-09T14:12:08.827244Z",
     "iopub.status.idle": "2024-08-09T14:12:08.867164Z",
     "shell.execute_reply": "2024-08-09T14:12:08.866003Z"
    },
    "id": "8IaZGr184QfT",
    "papermill": {
     "duration": 0.061041,
     "end_time": "2024-08-09T14:12:08.869542",
     "exception": false,
     "start_time": "2024-08-09T14:12:08.808501",
     "status": "completed"
    },
    "tags": []
   },
   "outputs": [],
   "source": [
    "class_names=['enhancement', 'bug','question']\n",
    "x_train = x_train['issue_body'].tolist()\n",
    "y_train = y_train.to_numpy()\n",
    "x_test = x_test['issue_body'].tolist()\n",
    "y_test = y_test.to_numpy()\n"
   ]
  },
  {
   "cell_type": "markdown",
   "id": "86d156bf",
   "metadata": {
    "papermill": {
     "duration": 0.016723,
     "end_time": "2024-08-09T14:12:08.905066",
     "exception": false,
     "start_time": "2024-08-09T14:12:08.888343",
     "status": "completed"
    },
    "tags": []
   },
   "source": []
  },
  {
   "cell_type": "code",
   "execution_count": 26,
   "id": "df436634",
   "metadata": {
    "execution": {
     "iopub.execute_input": "2024-08-09T14:12:08.944319Z",
     "iopub.status.busy": "2024-08-09T14:12:08.943151Z",
     "iopub.status.idle": "2024-08-09T14:12:08.948769Z",
     "shell.execute_reply": "2024-08-09T14:12:08.947614Z"
    },
    "id": "xO2-fI0I2fjX",
    "papermill": {
     "duration": 0.031048,
     "end_time": "2024-08-09T14:12:08.952881",
     "exception": false,
     "start_time": "2024-08-09T14:12:08.921833",
     "status": "completed"
    },
    "tags": []
   },
   "outputs": [],
   "source": [
    "# (x_train, y_train), (x_test, y_test), preproc = text.texts_from_array(x_train=x_train,\n",
    "#                                                                       y_train=y_train,\n",
    "#                                                                       x_test=x_test,\n",
    "#                                                                       y_test=y_test,\n",
    "#                                                                       class_names=class_names,\n",
    "#                                                                       preprocess_mode='bert',maxlen=80)"
   ]
  },
  {
   "cell_type": "code",
   "execution_count": 27,
   "id": "c29a3c7d",
   "metadata": {
    "execution": {
     "iopub.execute_input": "2024-08-09T14:12:08.987283Z",
     "iopub.status.busy": "2024-08-09T14:12:08.986900Z",
     "iopub.status.idle": "2024-08-09T14:12:08.991354Z",
     "shell.execute_reply": "2024-08-09T14:12:08.990498Z"
    },
    "id": "1W9t-WoW2k-F",
    "papermill": {
     "duration": 0.02374,
     "end_time": "2024-08-09T14:12:08.993548",
     "exception": false,
     "start_time": "2024-08-09T14:12:08.969808",
     "status": "completed"
    },
    "tags": []
   },
   "outputs": [],
   "source": [
    "# # Step 3: Load the pre-trained BERT model\n",
    "# model = text.text_classifier('bert', (x_train, y_train), preproc=preproc)\n",
    "\n",
    "# # Step 4: Initialize a ktrain classifier using BERT\n",
    "# learner = ktrain.get_learner(model, train_data=(x_train, y_train), val_data=(x_test, y_test))\n",
    "\n",
    "# # Step 5: Train the classifier on your data\n",
    "# learner.fit_onecycle(2e-5, 1)\n",
    "\n",
    "# # Step 6: Evaluate the classifier on a validation set\n",
    "# learner.validate(val_data=(x_test, y_test))\n"
   ]
  },
  {
   "cell_type": "code",
   "execution_count": 28,
   "id": "fd8c1ad2",
   "metadata": {
    "execution": {
     "iopub.execute_input": "2024-08-09T14:12:09.028684Z",
     "iopub.status.busy": "2024-08-09T14:12:09.028363Z",
     "iopub.status.idle": "2024-08-09T14:12:09.032310Z",
     "shell.execute_reply": "2024-08-09T14:12:09.031392Z"
    },
    "id": "Dj0uWnBU55l5",
    "papermill": {
     "duration": 0.021809,
     "end_time": "2024-08-09T14:12:09.034263",
     "exception": false,
     "start_time": "2024-08-09T14:12:09.012454",
     "status": "completed"
    },
    "tags": []
   },
   "outputs": [],
   "source": [
    "# # It may need long time but ensures healthy training\n",
    "# learner.lr_find(show_plot=True, max_epochs=2)"
   ]
  },
  {
   "cell_type": "code",
   "execution_count": 29,
   "id": "2c1c1805",
   "metadata": {
    "execution": {
     "iopub.execute_input": "2024-08-09T14:12:09.064988Z",
     "iopub.status.busy": "2024-08-09T14:12:09.064656Z",
     "iopub.status.idle": "2024-08-09T14:12:09.068410Z",
     "shell.execute_reply": "2024-08-09T14:12:09.067549Z"
    },
    "id": "O_nPN2q258bS",
    "papermill": {
     "duration": 0.021105,
     "end_time": "2024-08-09T14:12:09.070247",
     "exception": false,
     "start_time": "2024-08-09T14:12:09.049142",
     "status": "completed"
    },
    "tags": []
   },
   "outputs": [],
   "source": [
    "# # After the learning rate find process plot the curve of leaning rate - loss to select best learning rate\n",
    "# learner.lr_plot()"
   ]
  },
  {
   "cell_type": "code",
   "execution_count": 30,
   "id": "94a64916",
   "metadata": {
    "execution": {
     "iopub.execute_input": "2024-08-09T14:12:09.101459Z",
     "iopub.status.busy": "2024-08-09T14:12:09.101121Z",
     "iopub.status.idle": "2024-08-09T14:12:09.106002Z",
     "shell.execute_reply": "2024-08-09T14:12:09.105316Z"
    },
    "id": "8Ajk6hpZH7rO",
    "papermill": {
     "duration": 0.022897,
     "end_time": "2024-08-09T14:12:09.107814",
     "exception": false,
     "start_time": "2024-08-09T14:12:09.084917",
     "status": "completed"
    },
    "tags": []
   },
   "outputs": [],
   "source": [
    "# # Fit the leraner to the data for 2 epochs\n",
    "# # Many other fit options available on the documentation of ktrain https://github.com/amaiya/ktrain\n",
    "# learner.autofit(2e-5, 2)\n",
    "# learner.validate(val_data=(x_test, y_test))"
   ]
  },
  {
   "cell_type": "code",
   "execution_count": 31,
   "id": "0fc5757e",
   "metadata": {
    "execution": {
     "iopub.execute_input": "2024-08-09T14:12:09.138374Z",
     "iopub.status.busy": "2024-08-09T14:12:09.138046Z",
     "iopub.status.idle": "2024-08-09T14:12:09.141784Z",
     "shell.execute_reply": "2024-08-09T14:12:09.140908Z"
    },
    "id": "_RNjD5aIH8Bi",
    "papermill": {
     "duration": 0.021286,
     "end_time": "2024-08-09T14:12:09.143633",
     "exception": false,
     "start_time": "2024-08-09T14:12:09.122347",
     "status": "completed"
    },
    "tags": []
   },
   "outputs": [],
   "source": [
    "#predictor = ktrain.get_predictor(learner.model)\n",
    "#predictor.save('/content/drive/MyDrive/NLP/my_predictor')"
   ]
  },
  {
   "cell_type": "code",
   "execution_count": null,
   "id": "9d2020c5",
   "metadata": {
    "papermill": {
     "duration": 0.01424,
     "end_time": "2024-08-09T14:12:09.172456",
     "exception": false,
     "start_time": "2024-08-09T14:12:09.158216",
     "status": "completed"
    },
    "tags": []
   },
   "outputs": [],
   "source": []
  },
  {
   "cell_type": "code",
   "execution_count": 32,
   "id": "116e3888",
   "metadata": {
    "execution": {
     "iopub.execute_input": "2024-08-09T14:12:09.205490Z",
     "iopub.status.busy": "2024-08-09T14:12:09.204555Z",
     "iopub.status.idle": "2024-08-09T14:12:28.285756Z",
     "shell.execute_reply": "2024-08-09T14:12:28.284961Z"
    },
    "papermill": {
     "duration": 19.100494,
     "end_time": "2024-08-09T14:12:28.288236",
     "exception": false,
     "start_time": "2024-08-09T14:12:09.187742",
     "status": "completed"
    },
    "tags": []
   },
   "outputs": [
    {
     "data": {
      "application/vnd.jupyter.widget-view+json": {
       "model_id": "474451fd118e4ca688285f875ff01847",
       "version_major": 2,
       "version_minor": 0
      },
      "text/plain": [
       "tokenizer_config.json:   0%|          | 0.00/373 [00:00<?, ?B/s]"
      ]
     },
     "metadata": {},
     "output_type": "display_data"
    },
    {
     "data": {
      "application/vnd.jupyter.widget-view+json": {
       "model_id": "5e536c97b35c49238063505b958845f4",
       "version_major": 2,
       "version_minor": 0
      },
      "text/plain": [
       "vocab.txt:   0%|          | 0.00/996k [00:00<?, ?B/s]"
      ]
     },
     "metadata": {},
     "output_type": "display_data"
    },
    {
     "data": {
      "application/vnd.jupyter.widget-view+json": {
       "model_id": "767c08e803ad4df0a65bcbf28822e401",
       "version_major": 2,
       "version_minor": 0
      },
      "text/plain": [
       "tokenizer.json:   0%|          | 0.00/2.92M [00:00<?, ?B/s]"
      ]
     },
     "metadata": {},
     "output_type": "display_data"
    },
    {
     "data": {
      "application/vnd.jupyter.widget-view+json": {
       "model_id": "4334ea879bd64810b8d9e8c28469670c",
       "version_major": 2,
       "version_minor": 0
      },
      "text/plain": [
       "special_tokens_map.json:   0%|          | 0.00/125 [00:00<?, ?B/s]"
      ]
     },
     "metadata": {},
     "output_type": "display_data"
    }
   ],
   "source": [
    "from transformers import AutoTokenizer\n",
    "\n",
    "# Load the tokenizer\n",
    "tokenizer = AutoTokenizer.from_pretrained(\"lxyuan/distilbert-base-multilingual-cased-sentiments-student\")\n",
    "\n",
    "# Tokenize the training data\n",
    "train_encodings = tokenizer(x_train, truncation=True, padding=True)\n",
    "\n",
    "# Tokenize the testing data\n",
    "test_encodings = tokenizer(x_test, truncation=True, padding=True)\n"
   ]
  },
  {
   "cell_type": "code",
   "execution_count": 33,
   "id": "cbdf1317",
   "metadata": {
    "execution": {
     "iopub.execute_input": "2024-08-09T14:12:28.321515Z",
     "iopub.status.busy": "2024-08-09T14:12:28.320907Z",
     "iopub.status.idle": "2024-08-09T14:12:28.350865Z",
     "shell.execute_reply": "2024-08-09T14:12:28.349904Z"
    },
    "papermill": {
     "duration": 0.048569,
     "end_time": "2024-08-09T14:12:28.353153",
     "exception": false,
     "start_time": "2024-08-09T14:12:28.304584",
     "status": "completed"
    },
    "tags": []
   },
   "outputs": [],
   "source": [
    "import torch\n",
    "\n",
    "# Convert labels to tensors\n",
    "train_labels = torch.tensor(y_train)\n",
    "test_labels = torch.tensor(y_test)\n"
   ]
  },
  {
   "cell_type": "code",
   "execution_count": 34,
   "id": "9c5965cb",
   "metadata": {
    "execution": {
     "iopub.execute_input": "2024-08-09T14:12:28.387941Z",
     "iopub.status.busy": "2024-08-09T14:12:28.387606Z",
     "iopub.status.idle": "2024-08-09T14:12:28.394473Z",
     "shell.execute_reply": "2024-08-09T14:12:28.393572Z"
    },
    "papermill": {
     "duration": 0.027107,
     "end_time": "2024-08-09T14:12:28.396477",
     "exception": false,
     "start_time": "2024-08-09T14:12:28.369370",
     "status": "completed"
    },
    "tags": []
   },
   "outputs": [],
   "source": [
    "from torch.utils.data import Dataset\n",
    "\n",
    "class CustomDataset(Dataset):\n",
    "    def __init__(self, encodings, labels):\n",
    "        self.encodings = encodings\n",
    "        self.labels = labels\n",
    "\n",
    "    def __getitem__(self, idx):\n",
    "        item = {key: torch.tensor(val[idx]) for key, val in self.encodings.items()}\n",
    "        item['labels'] = self.labels[idx]\n",
    "        return item\n",
    "\n",
    "    def __len__(self):\n",
    "        return len(self.labels)\n",
    "\n",
    "# Create the dataset objects\n",
    "train_dataset = CustomDataset(train_encodings, train_labels)\n",
    "test_dataset = CustomDataset(test_encodings, test_labels)\n"
   ]
  },
  {
   "cell_type": "code",
   "execution_count": 35,
   "id": "8542d63f",
   "metadata": {
    "execution": {
     "iopub.execute_input": "2024-08-09T14:12:28.428663Z",
     "iopub.status.busy": "2024-08-09T14:12:28.428323Z",
     "iopub.status.idle": "2024-08-09T15:03:28.171315Z",
     "shell.execute_reply": "2024-08-09T15:03:28.170380Z"
    },
    "papermill": {
     "duration": 3059.761431,
     "end_time": "2024-08-09T15:03:28.173265",
     "exception": false,
     "start_time": "2024-08-09T14:12:28.411834",
     "status": "completed"
    },
    "tags": []
   },
   "outputs": [
    {
     "data": {
      "application/vnd.jupyter.widget-view+json": {
       "model_id": "7e7226ca5cb343c0955d537417b9432f",
       "version_major": 2,
       "version_minor": 0
      },
      "text/plain": [
       "config.json:   0%|          | 0.00/759 [00:00<?, ?B/s]"
      ]
     },
     "metadata": {},
     "output_type": "display_data"
    },
    {
     "data": {
      "application/vnd.jupyter.widget-view+json": {
       "model_id": "1545a2d8d9de4c95a8600dbd0095a32d",
       "version_major": 2,
       "version_minor": 0
      },
      "text/plain": [
       "model.safetensors:   0%|          | 0.00/541M [00:00<?, ?B/s]"
      ]
     },
     "metadata": {},
     "output_type": "display_data"
    },
    {
     "name": "stderr",
     "output_type": "stream",
     "text": [
      "/opt/conda/lib/python3.10/site-packages/torch/nn/parallel/_functions.py:68: UserWarning: Was asked to gather along dimension 0, but all input tensors were scalars; will instead unsqueeze and return a vector.\n",
      "  warnings.warn('Was asked to gather along dimension 0, but all '\n"
     ]
    },
    {
     "name": "stdout",
     "output_type": "stream",
     "text": [
      "{'loss': 1.2944, 'grad_norm': 3.378084897994995, 'learning_rate': 1.0000000000000002e-06, 'epoch': 0.009009009009009009}\n",
      "{'loss': 1.2864, 'grad_norm': 3.861701488494873, 'learning_rate': 2.0000000000000003e-06, 'epoch': 0.018018018018018018}\n",
      "{'loss': 1.1885, 'grad_norm': 2.5903146266937256, 'learning_rate': 3e-06, 'epoch': 0.02702702702702703}\n",
      "{'loss': 1.2015, 'grad_norm': 4.142561912536621, 'learning_rate': 4.000000000000001e-06, 'epoch': 0.036036036036036036}\n",
      "{'loss': 1.132, 'grad_norm': 2.469738006591797, 'learning_rate': 5e-06, 'epoch': 0.04504504504504504}\n",
      "{'loss': 1.1128, 'grad_norm': 2.256406307220459, 'learning_rate': 6e-06, 'epoch': 0.05405405405405406}\n",
      "{'loss': 1.0815, 'grad_norm': 1.7704821825027466, 'learning_rate': 7.000000000000001e-06, 'epoch': 0.06306306306306306}\n",
      "{'loss': 1.0725, 'grad_norm': 1.2732826471328735, 'learning_rate': 8.000000000000001e-06, 'epoch': 0.07207207207207207}\n",
      "{'loss': 1.0442, 'grad_norm': 1.487452745437622, 'learning_rate': 9e-06, 'epoch': 0.08108108108108109}\n",
      "{'loss': 1.0331, 'grad_norm': 1.1963424682617188, 'learning_rate': 1e-05, 'epoch': 0.09009009009009009}\n",
      "{'loss': 0.9955, 'grad_norm': 1.3609422445297241, 'learning_rate': 1.1000000000000001e-05, 'epoch': 0.0990990990990991}\n",
      "{'loss': 0.9805, 'grad_norm': 1.6981995105743408, 'learning_rate': 1.2e-05, 'epoch': 0.10810810810810811}\n",
      "{'loss': 1.021, 'grad_norm': 1.4513837099075317, 'learning_rate': 1.3000000000000001e-05, 'epoch': 0.11711711711711711}\n",
      "{'loss': 0.9747, 'grad_norm': 3.5077145099639893, 'learning_rate': 1.4000000000000001e-05, 'epoch': 0.12612612612612611}\n",
      "{'loss': 1.0, 'grad_norm': 2.90336275100708, 'learning_rate': 1.5e-05, 'epoch': 0.13513513513513514}\n",
      "{'loss': 0.9515, 'grad_norm': 2.7918121814727783, 'learning_rate': 1.6000000000000003e-05, 'epoch': 0.14414414414414414}\n",
      "{'loss': 0.9534, 'grad_norm': 2.4236130714416504, 'learning_rate': 1.7000000000000003e-05, 'epoch': 0.15315315315315314}\n",
      "{'loss': 0.9213, 'grad_norm': 4.554393768310547, 'learning_rate': 1.8e-05, 'epoch': 0.16216216216216217}\n",
      "{'loss': 0.9608, 'grad_norm': 3.3238213062286377, 'learning_rate': 1.9e-05, 'epoch': 0.17117117117117117}\n",
      "{'loss': 0.9038, 'grad_norm': 2.77506947517395, 'learning_rate': 2e-05, 'epoch': 0.18018018018018017}\n",
      "{'loss': 0.9189, 'grad_norm': 6.36147403717041, 'learning_rate': 2.1e-05, 'epoch': 0.1891891891891892}\n",
      "{'loss': 0.8469, 'grad_norm': 3.930874824523926, 'learning_rate': 2.2000000000000003e-05, 'epoch': 0.1981981981981982}\n",
      "{'loss': 0.8926, 'grad_norm': 5.699872970581055, 'learning_rate': 2.3000000000000003e-05, 'epoch': 0.2072072072072072}\n",
      "{'loss': 0.9166, 'grad_norm': 3.9553492069244385, 'learning_rate': 2.4e-05, 'epoch': 0.21621621621621623}\n",
      "{'loss': 0.8096, 'grad_norm': 3.6349294185638428, 'learning_rate': 2.5e-05, 'epoch': 0.22522522522522523}\n",
      "{'loss': 0.7748, 'grad_norm': 5.361156940460205, 'learning_rate': 2.6000000000000002e-05, 'epoch': 0.23423423423423423}\n",
      "{'loss': 0.7969, 'grad_norm': 4.105996608734131, 'learning_rate': 2.7000000000000002e-05, 'epoch': 0.24324324324324326}\n",
      "{'loss': 0.7611, 'grad_norm': 5.057514667510986, 'learning_rate': 2.8000000000000003e-05, 'epoch': 0.25225225225225223}\n",
      "{'loss': 0.7895, 'grad_norm': 9.78144359588623, 'learning_rate': 2.9e-05, 'epoch': 0.26126126126126126}\n",
      "{'loss': 0.7947, 'grad_norm': 4.667889595031738, 'learning_rate': 3e-05, 'epoch': 0.2702702702702703}\n",
      "{'loss': 0.8351, 'grad_norm': 5.288119792938232, 'learning_rate': 3.1e-05, 'epoch': 0.27927927927927926}\n",
      "{'loss': 0.7399, 'grad_norm': 2.5829684734344482, 'learning_rate': 3.2000000000000005e-05, 'epoch': 0.2882882882882883}\n",
      "{'loss': 0.8175, 'grad_norm': 4.5742387771606445, 'learning_rate': 3.3e-05, 'epoch': 0.2972972972972973}\n",
      "{'loss': 0.7866, 'grad_norm': 4.6971330642700195, 'learning_rate': 3.4000000000000007e-05, 'epoch': 0.3063063063063063}\n",
      "{'loss': 0.7706, 'grad_norm': 4.395846366882324, 'learning_rate': 3.5e-05, 'epoch': 0.3153153153153153}\n",
      "{'loss': 0.7862, 'grad_norm': 4.058224201202393, 'learning_rate': 3.6e-05, 'epoch': 0.32432432432432434}\n",
      "{'loss': 0.8054, 'grad_norm': 4.985270977020264, 'learning_rate': 3.7e-05, 'epoch': 0.3333333333333333}\n",
      "{'loss': 0.8046, 'grad_norm': 4.294168472290039, 'learning_rate': 3.8e-05, 'epoch': 0.34234234234234234}\n",
      "{'loss': 0.7719, 'grad_norm': 3.9078328609466553, 'learning_rate': 3.9000000000000006e-05, 'epoch': 0.35135135135135137}\n",
      "{'loss': 0.7683, 'grad_norm': 3.564680814743042, 'learning_rate': 4e-05, 'epoch': 0.36036036036036034}\n",
      "{'loss': 0.7555, 'grad_norm': 3.915407657623291, 'learning_rate': 4.1e-05, 'epoch': 0.36936936936936937}\n",
      "{'loss': 0.7811, 'grad_norm': 3.865291118621826, 'learning_rate': 4.2e-05, 'epoch': 0.3783783783783784}\n",
      "{'loss': 0.7646, 'grad_norm': 4.312938213348389, 'learning_rate': 4.3e-05, 'epoch': 0.38738738738738737}\n",
      "{'loss': 0.7576, 'grad_norm': 4.732275485992432, 'learning_rate': 4.4000000000000006e-05, 'epoch': 0.3963963963963964}\n",
      "{'loss': 0.7292, 'grad_norm': 3.617798328399658, 'learning_rate': 4.5e-05, 'epoch': 0.40540540540540543}\n",
      "{'loss': 0.7112, 'grad_norm': 4.997769832611084, 'learning_rate': 4.600000000000001e-05, 'epoch': 0.4144144144144144}\n",
      "{'loss': 0.7949, 'grad_norm': 3.6708595752716064, 'learning_rate': 4.7e-05, 'epoch': 0.42342342342342343}\n",
      "{'loss': 0.7542, 'grad_norm': 3.8146822452545166, 'learning_rate': 4.8e-05, 'epoch': 0.43243243243243246}\n",
      "{'loss': 0.7482, 'grad_norm': 3.694063425064087, 'learning_rate': 4.9e-05, 'epoch': 0.44144144144144143}\n",
      "{'loss': 0.7593, 'grad_norm': 6.213897705078125, 'learning_rate': 5e-05, 'epoch': 0.45045045045045046}\n"
     ]
    },
    {
     "name": "stderr",
     "output_type": "stream",
     "text": [
      "/opt/conda/lib/python3.10/site-packages/torch/nn/parallel/_functions.py:68: UserWarning: Was asked to gather along dimension 0, but all input tensors were scalars; will instead unsqueeze and return a vector.\n",
      "  warnings.warn('Was asked to gather along dimension 0, but all '\n"
     ]
    },
    {
     "name": "stdout",
     "output_type": "stream",
     "text": [
      "{'loss': 0.7769, 'grad_norm': 3.6469802856445312, 'learning_rate': 4.982332155477032e-05, 'epoch': 0.4594594594594595}\n",
      "{'loss': 0.8183, 'grad_norm': 3.8548641204833984, 'learning_rate': 4.9646643109540636e-05, 'epoch': 0.46846846846846846}\n",
      "{'loss': 0.7684, 'grad_norm': 3.9139747619628906, 'learning_rate': 4.946996466431096e-05, 'epoch': 0.4774774774774775}\n",
      "{'loss': 0.6802, 'grad_norm': 3.4709372520446777, 'learning_rate': 4.929328621908128e-05, 'epoch': 0.4864864864864865}\n",
      "{'loss': 0.7887, 'grad_norm': 3.325201988220215, 'learning_rate': 4.9116607773851593e-05, 'epoch': 0.4954954954954955}\n",
      "{'loss': 0.7512, 'grad_norm': 3.8727681636810303, 'learning_rate': 4.893992932862191e-05, 'epoch': 0.5045045045045045}\n",
      "{'loss': 0.6923, 'grad_norm': 3.848325729370117, 'learning_rate': 4.8763250883392234e-05, 'epoch': 0.5135135135135135}\n",
      "{'loss': 0.6497, 'grad_norm': 3.6758079528808594, 'learning_rate': 4.858657243816255e-05, 'epoch': 0.5225225225225225}\n",
      "{'loss': 0.7225, 'grad_norm': 5.568881511688232, 'learning_rate': 4.840989399293286e-05, 'epoch': 0.5315315315315315}\n",
      "{'loss': 0.701, 'grad_norm': 4.122367858886719, 'learning_rate': 4.823321554770318e-05, 'epoch': 0.5405405405405406}\n",
      "{'loss': 0.7328, 'grad_norm': 3.353257179260254, 'learning_rate': 4.8056537102473495e-05, 'epoch': 0.5495495495495496}\n",
      "{'loss': 0.644, 'grad_norm': 3.5995047092437744, 'learning_rate': 4.787985865724382e-05, 'epoch': 0.5585585585585585}\n",
      "{'loss': 0.7582, 'grad_norm': 3.9565744400024414, 'learning_rate': 4.7703180212014135e-05, 'epoch': 0.5675675675675675}\n",
      "{'loss': 0.7371, 'grad_norm': 6.335834980010986, 'learning_rate': 4.752650176678445e-05, 'epoch': 0.5765765765765766}\n",
      "{'loss': 0.6816, 'grad_norm': 5.723386287689209, 'learning_rate': 4.734982332155477e-05, 'epoch': 0.5855855855855856}\n",
      "{'loss': 0.6852, 'grad_norm': 4.6322340965271, 'learning_rate': 4.717314487632509e-05, 'epoch': 0.5945945945945946}\n",
      "{'loss': 0.6598, 'grad_norm': 2.922614812850952, 'learning_rate': 4.699646643109541e-05, 'epoch': 0.6036036036036037}\n",
      "{'loss': 0.7321, 'grad_norm': 4.9100165367126465, 'learning_rate': 4.6819787985865726e-05, 'epoch': 0.6126126126126126}\n",
      "{'loss': 0.7524, 'grad_norm': 2.9799911975860596, 'learning_rate': 4.664310954063604e-05, 'epoch': 0.6216216216216216}\n",
      "{'loss': 0.7081, 'grad_norm': 3.383615255355835, 'learning_rate': 4.646643109540637e-05, 'epoch': 0.6306306306306306}\n",
      "{'loss': 0.6771, 'grad_norm': 5.981003761291504, 'learning_rate': 4.6289752650176684e-05, 'epoch': 0.6396396396396397}\n",
      "{'loss': 0.7448, 'grad_norm': 3.7814383506774902, 'learning_rate': 4.6113074204947e-05, 'epoch': 0.6486486486486487}\n",
      "{'loss': 0.8197, 'grad_norm': 3.8747358322143555, 'learning_rate': 4.593639575971732e-05, 'epoch': 0.6576576576576577}\n",
      "{'loss': 0.7963, 'grad_norm': 6.809518814086914, 'learning_rate': 4.5759717314487634e-05, 'epoch': 0.6666666666666666}\n",
      "{'loss': 0.7245, 'grad_norm': 2.8954734802246094, 'learning_rate': 4.558303886925796e-05, 'epoch': 0.6756756756756757}\n",
      "{'loss': 0.7421, 'grad_norm': 6.9717559814453125, 'learning_rate': 4.5406360424028275e-05, 'epoch': 0.6846846846846847}\n",
      "{'loss': 0.75, 'grad_norm': 2.717941999435425, 'learning_rate': 4.5229681978798585e-05, 'epoch': 0.6936936936936937}\n",
      "{'loss': 0.6313, 'grad_norm': 2.3404862880706787, 'learning_rate': 4.50530035335689e-05, 'epoch': 0.7027027027027027}\n",
      "{'loss': 0.7593, 'grad_norm': 3.5587334632873535, 'learning_rate': 4.4876325088339225e-05, 'epoch': 0.7117117117117117}\n",
      "{'loss': 0.7227, 'grad_norm': 2.4056637287139893, 'learning_rate': 4.469964664310954e-05, 'epoch': 0.7207207207207207}\n",
      "{'loss': 0.6878, 'grad_norm': 2.308267593383789, 'learning_rate': 4.452296819787986e-05, 'epoch': 0.7297297297297297}\n",
      "{'loss': 0.682, 'grad_norm': 3.0399224758148193, 'learning_rate': 4.4346289752650176e-05, 'epoch': 0.7387387387387387}\n",
      "{'loss': 0.6875, 'grad_norm': 3.9076223373413086, 'learning_rate': 4.416961130742049e-05, 'epoch': 0.7477477477477478}\n",
      "{'loss': 0.7011, 'grad_norm': 4.319005966186523, 'learning_rate': 4.3992932862190816e-05, 'epoch': 0.7567567567567568}\n",
      "{'loss': 0.6313, 'grad_norm': 3.4833567142486572, 'learning_rate': 4.381625441696113e-05, 'epoch': 0.7657657657657657}\n",
      "{'loss': 0.7037, 'grad_norm': 2.9694623947143555, 'learning_rate': 4.363957597173145e-05, 'epoch': 0.7747747747747747}\n",
      "{'loss': 0.7317, 'grad_norm': 5.133876323699951, 'learning_rate': 4.346289752650177e-05, 'epoch': 0.7837837837837838}\n",
      "{'loss': 0.7629, 'grad_norm': 3.576327323913574, 'learning_rate': 4.328621908127209e-05, 'epoch': 0.7927927927927928}\n",
      "{'loss': 0.7236, 'grad_norm': 2.7175471782684326, 'learning_rate': 4.310954063604241e-05, 'epoch': 0.8018018018018018}\n",
      "{'loss': 0.6532, 'grad_norm': 3.3524081707000732, 'learning_rate': 4.2932862190812724e-05, 'epoch': 0.8108108108108109}\n",
      "{'loss': 0.7131, 'grad_norm': 3.0654990673065186, 'learning_rate': 4.275618374558304e-05, 'epoch': 0.8198198198198198}\n",
      "{'loss': 0.731, 'grad_norm': 3.1256160736083984, 'learning_rate': 4.257950530035336e-05, 'epoch': 0.8288288288288288}\n",
      "{'loss': 0.6761, 'grad_norm': 3.598158359527588, 'learning_rate': 4.240282685512368e-05, 'epoch': 0.8378378378378378}\n",
      "{'loss': 0.7127, 'grad_norm': 3.4040517807006836, 'learning_rate': 4.2226148409894e-05, 'epoch': 0.8468468468468469}\n",
      "{'loss': 0.7794, 'grad_norm': 3.3442671298980713, 'learning_rate': 4.204946996466431e-05, 'epoch': 0.8558558558558559}\n",
      "{'loss': 0.7008, 'grad_norm': 4.044268608093262, 'learning_rate': 4.1872791519434626e-05, 'epoch': 0.8648648648648649}\n",
      "{'loss': 0.6561, 'grad_norm': 2.58467960357666, 'learning_rate': 4.169611307420495e-05, 'epoch': 0.8738738738738738}\n",
      "{'loss': 0.7604, 'grad_norm': 2.8977787494659424, 'learning_rate': 4.1519434628975266e-05, 'epoch': 0.8828828828828829}\n",
      "{'loss': 0.7195, 'grad_norm': 3.4532482624053955, 'learning_rate': 4.134275618374558e-05, 'epoch': 0.8918918918918919}\n",
      "{'loss': 0.6784, 'grad_norm': 2.3062803745269775, 'learning_rate': 4.11660777385159e-05, 'epoch': 0.9009009009009009}\n"
     ]
    },
    {
     "name": "stderr",
     "output_type": "stream",
     "text": [
      "/opt/conda/lib/python3.10/site-packages/torch/nn/parallel/_functions.py:68: UserWarning: Was asked to gather along dimension 0, but all input tensors were scalars; will instead unsqueeze and return a vector.\n",
      "  warnings.warn('Was asked to gather along dimension 0, but all '\n"
     ]
    },
    {
     "name": "stdout",
     "output_type": "stream",
     "text": [
      "{'loss': 0.7047, 'grad_norm': 2.8248589038848877, 'learning_rate': 4.0989399293286223e-05, 'epoch': 0.9099099099099099}\n",
      "{'loss': 0.6866, 'grad_norm': 2.6505091190338135, 'learning_rate': 4.081272084805654e-05, 'epoch': 0.918918918918919}\n",
      "{'loss': 0.6452, 'grad_norm': 2.4918630123138428, 'learning_rate': 4.063604240282686e-05, 'epoch': 0.9279279279279279}\n",
      "{'loss': 0.6952, 'grad_norm': 3.168797492980957, 'learning_rate': 4.0459363957597174e-05, 'epoch': 0.9369369369369369}\n",
      "{'loss': 0.6836, 'grad_norm': 2.5347518920898438, 'learning_rate': 4.028268551236749e-05, 'epoch': 0.9459459459459459}\n",
      "{'loss': 0.7073, 'grad_norm': 3.8995072841644287, 'learning_rate': 4.0106007067137815e-05, 'epoch': 0.954954954954955}\n",
      "{'loss': 0.6832, 'grad_norm': 3.095670700073242, 'learning_rate': 3.992932862190813e-05, 'epoch': 0.963963963963964}\n",
      "{'loss': 0.6933, 'grad_norm': 2.6091158390045166, 'learning_rate': 3.975265017667845e-05, 'epoch': 0.972972972972973}\n",
      "{'loss': 0.6808, 'grad_norm': 2.0960254669189453, 'learning_rate': 3.9575971731448765e-05, 'epoch': 0.9819819819819819}\n",
      "{'loss': 0.6709, 'grad_norm': 2.7051682472229004, 'learning_rate': 3.939929328621909e-05, 'epoch': 0.990990990990991}\n",
      "{'loss': 0.6385, 'grad_norm': 4.633334636688232, 'learning_rate': 3.9222614840989406e-05, 'epoch': 1.0}\n",
      "{'loss': 0.6753, 'grad_norm': 2.927886486053467, 'learning_rate': 3.9045936395759716e-05, 'epoch': 1.009009009009009}\n",
      "{'loss': 0.6005, 'grad_norm': 3.115227699279785, 'learning_rate': 3.886925795053003e-05, 'epoch': 1.018018018018018}\n",
      "{'loss': 0.7038, 'grad_norm': 4.298878192901611, 'learning_rate': 3.869257950530035e-05, 'epoch': 1.027027027027027}\n",
      "{'loss': 0.5458, 'grad_norm': 4.44980525970459, 'learning_rate': 3.851590106007067e-05, 'epoch': 1.0360360360360361}\n",
      "{'loss': 0.5583, 'grad_norm': 3.3874340057373047, 'learning_rate': 3.833922261484099e-05, 'epoch': 1.045045045045045}\n",
      "{'loss': 0.5507, 'grad_norm': 3.0665245056152344, 'learning_rate': 3.816254416961131e-05, 'epoch': 1.054054054054054}\n",
      "{'loss': 0.6806, 'grad_norm': 3.440789222717285, 'learning_rate': 3.7985865724381624e-05, 'epoch': 1.063063063063063}\n",
      "{'loss': 0.5986, 'grad_norm': 3.0318353176116943, 'learning_rate': 3.780918727915195e-05, 'epoch': 1.072072072072072}\n",
      "{'loss': 0.6318, 'grad_norm': 5.561794757843018, 'learning_rate': 3.7632508833922264e-05, 'epoch': 1.0810810810810811}\n",
      "{'loss': 0.5939, 'grad_norm': 3.4509024620056152, 'learning_rate': 3.745583038869258e-05, 'epoch': 1.09009009009009}\n",
      "{'loss': 0.6102, 'grad_norm': 2.353510856628418, 'learning_rate': 3.72791519434629e-05, 'epoch': 1.0990990990990992}\n",
      "{'loss': 0.6235, 'grad_norm': 2.6709635257720947, 'learning_rate': 3.710247349823322e-05, 'epoch': 1.1081081081081081}\n",
      "{'loss': 0.5973, 'grad_norm': 4.179440498352051, 'learning_rate': 3.692579505300354e-05, 'epoch': 1.117117117117117}\n",
      "{'loss': 0.5845, 'grad_norm': 4.472393035888672, 'learning_rate': 3.6749116607773855e-05, 'epoch': 1.1261261261261262}\n",
      "{'loss': 0.537, 'grad_norm': 4.053954124450684, 'learning_rate': 3.657243816254417e-05, 'epoch': 1.135135135135135}\n",
      "{'loss': 0.6367, 'grad_norm': 4.300034999847412, 'learning_rate': 3.639575971731449e-05, 'epoch': 1.1441441441441442}\n",
      "{'loss': 0.5927, 'grad_norm': 4.2284064292907715, 'learning_rate': 3.621908127208481e-05, 'epoch': 1.1531531531531531}\n",
      "{'loss': 0.6275, 'grad_norm': 4.9775166511535645, 'learning_rate': 3.604240282685513e-05, 'epoch': 1.1621621621621623}\n",
      "{'loss': 0.6364, 'grad_norm': 4.163226127624512, 'learning_rate': 3.586572438162544e-05, 'epoch': 1.1711711711711712}\n",
      "{'loss': 0.6378, 'grad_norm': 3.852227210998535, 'learning_rate': 3.5689045936395756e-05, 'epoch': 1.1801801801801801}\n",
      "{'loss': 0.6846, 'grad_norm': 4.760045051574707, 'learning_rate': 3.551236749116608e-05, 'epoch': 1.1891891891891893}\n",
      "{'loss': 0.6101, 'grad_norm': 3.7869935035705566, 'learning_rate': 3.53356890459364e-05, 'epoch': 1.1981981981981982}\n",
      "{'loss': 0.5787, 'grad_norm': 4.284262657165527, 'learning_rate': 3.5159010600706714e-05, 'epoch': 1.2072072072072073}\n",
      "{'loss': 0.5542, 'grad_norm': 4.6011962890625, 'learning_rate': 3.498233215547703e-05, 'epoch': 1.2162162162162162}\n",
      "{'loss': 0.5286, 'grad_norm': 2.942394495010376, 'learning_rate': 3.480565371024735e-05, 'epoch': 1.2252252252252251}\n",
      "{'loss': 0.6049, 'grad_norm': 4.482083320617676, 'learning_rate': 3.462897526501767e-05, 'epoch': 1.2342342342342343}\n",
      "{'loss': 0.5835, 'grad_norm': 3.500561237335205, 'learning_rate': 3.445229681978799e-05, 'epoch': 1.2432432432432432}\n",
      "{'loss': 0.5947, 'grad_norm': 3.297673225402832, 'learning_rate': 3.4275618374558305e-05, 'epoch': 1.2522522522522523}\n",
      "{'loss': 0.5655, 'grad_norm': 4.6006598472595215, 'learning_rate': 3.409893992932862e-05, 'epoch': 1.2612612612612613}\n",
      "{'loss': 0.573, 'grad_norm': 4.294925212860107, 'learning_rate': 3.3922261484098945e-05, 'epoch': 1.2702702702702702}\n",
      "{'loss': 0.5409, 'grad_norm': 4.3315253257751465, 'learning_rate': 3.374558303886926e-05, 'epoch': 1.2792792792792793}\n",
      "{'loss': 0.6465, 'grad_norm': 3.506993055343628, 'learning_rate': 3.356890459363958e-05, 'epoch': 1.2882882882882882}\n",
      "{'loss': 0.6961, 'grad_norm': 3.9101033210754395, 'learning_rate': 3.3392226148409896e-05, 'epoch': 1.2972972972972974}\n",
      "{'loss': 0.6088, 'grad_norm': 3.993842363357544, 'learning_rate': 3.321554770318021e-05, 'epoch': 1.3063063063063063}\n",
      "{'loss': 0.616, 'grad_norm': 5.185814380645752, 'learning_rate': 3.3038869257950536e-05, 'epoch': 1.3153153153153152}\n",
      "{'loss': 0.6008, 'grad_norm': 4.759084224700928, 'learning_rate': 3.286219081272085e-05, 'epoch': 1.3243243243243243}\n",
      "{'loss': 0.6677, 'grad_norm': 3.6520867347717285, 'learning_rate': 3.2685512367491163e-05, 'epoch': 1.3333333333333333}\n",
      "{'loss': 0.6382, 'grad_norm': 4.148083209991455, 'learning_rate': 3.250883392226148e-05, 'epoch': 1.3423423423423424}\n",
      "{'loss': 0.6134, 'grad_norm': 5.5942463874816895, 'learning_rate': 3.2332155477031804e-05, 'epoch': 1.3513513513513513}\n"
     ]
    },
    {
     "name": "stderr",
     "output_type": "stream",
     "text": [
      "/opt/conda/lib/python3.10/site-packages/torch/nn/parallel/_functions.py:68: UserWarning: Was asked to gather along dimension 0, but all input tensors were scalars; will instead unsqueeze and return a vector.\n",
      "  warnings.warn('Was asked to gather along dimension 0, but all '\n"
     ]
    },
    {
     "name": "stdout",
     "output_type": "stream",
     "text": [
      "{'loss': 0.6066, 'grad_norm': 3.499927043914795, 'learning_rate': 3.215547703180212e-05, 'epoch': 1.3603603603603602}\n",
      "{'loss': 0.5225, 'grad_norm': 3.693800926208496, 'learning_rate': 3.197879858657244e-05, 'epoch': 1.3693693693693694}\n",
      "{'loss': 0.566, 'grad_norm': 4.1038970947265625, 'learning_rate': 3.1802120141342755e-05, 'epoch': 1.3783783783783785}\n",
      "{'loss': 0.6338, 'grad_norm': 3.894537925720215, 'learning_rate': 3.162544169611308e-05, 'epoch': 1.3873873873873874}\n",
      "{'loss': 0.5343, 'grad_norm': 4.042491912841797, 'learning_rate': 3.1448763250883395e-05, 'epoch': 1.3963963963963963}\n",
      "{'loss': 0.5581, 'grad_norm': 4.9015889167785645, 'learning_rate': 3.127208480565371e-05, 'epoch': 1.4054054054054055}\n",
      "{'loss': 0.5892, 'grad_norm': 5.3489251136779785, 'learning_rate': 3.109540636042403e-05, 'epoch': 1.4144144144144144}\n",
      "{'loss': 0.6179, 'grad_norm': 4.147292613983154, 'learning_rate': 3.0918727915194346e-05, 'epoch': 1.4234234234234235}\n",
      "{'loss': 0.6125, 'grad_norm': 5.846858978271484, 'learning_rate': 3.074204946996467e-05, 'epoch': 1.4324324324324325}\n",
      "{'loss': 0.5542, 'grad_norm': 3.695228338241577, 'learning_rate': 3.0565371024734986e-05, 'epoch': 1.4414414414414414}\n",
      "{'loss': 0.6078, 'grad_norm': 5.539152145385742, 'learning_rate': 3.03886925795053e-05, 'epoch': 1.4504504504504505}\n",
      "{'loss': 0.5384, 'grad_norm': 5.196318626403809, 'learning_rate': 3.0212014134275616e-05, 'epoch': 1.4594594594594594}\n",
      "{'loss': 0.5724, 'grad_norm': 4.53676176071167, 'learning_rate': 3.003533568904594e-05, 'epoch': 1.4684684684684686}\n",
      "{'loss': 0.6268, 'grad_norm': 4.112206935882568, 'learning_rate': 2.9858657243816257e-05, 'epoch': 1.4774774774774775}\n",
      "{'loss': 0.5916, 'grad_norm': 3.8252017498016357, 'learning_rate': 2.9681978798586574e-05, 'epoch': 1.4864864864864864}\n",
      "{'loss': 0.6861, 'grad_norm': 4.338872909545898, 'learning_rate': 2.950530035335689e-05, 'epoch': 1.4954954954954955}\n",
      "{'loss': 0.6729, 'grad_norm': 3.648144483566284, 'learning_rate': 2.9328621908127208e-05, 'epoch': 1.5045045045045045}\n",
      "{'loss': 0.5874, 'grad_norm': 4.399356842041016, 'learning_rate': 2.915194346289753e-05, 'epoch': 1.5135135135135136}\n",
      "{'loss': 0.6296, 'grad_norm': 2.9887783527374268, 'learning_rate': 2.8975265017667848e-05, 'epoch': 1.5225225225225225}\n",
      "{'loss': 0.6065, 'grad_norm': 5.36032247543335, 'learning_rate': 2.879858657243816e-05, 'epoch': 1.5315315315315314}\n",
      "{'loss': 0.5741, 'grad_norm': 5.098486423492432, 'learning_rate': 2.862190812720848e-05, 'epoch': 1.5405405405405406}\n",
      "{'loss': 0.6042, 'grad_norm': 6.7979207038879395, 'learning_rate': 2.8445229681978802e-05, 'epoch': 1.5495495495495497}\n",
      "{'loss': 0.6248, 'grad_norm': 4.682357311248779, 'learning_rate': 2.826855123674912e-05, 'epoch': 1.5585585585585586}\n",
      "{'loss': 0.5827, 'grad_norm': 3.711764097213745, 'learning_rate': 2.8091872791519436e-05, 'epoch': 1.5675675675675675}\n",
      "{'loss': 0.5775, 'grad_norm': 5.707818031311035, 'learning_rate': 2.7915194346289753e-05, 'epoch': 1.5765765765765765}\n",
      "{'loss': 0.6798, 'grad_norm': 4.339237213134766, 'learning_rate': 2.773851590106007e-05, 'epoch': 1.5855855855855856}\n",
      "{'loss': 0.6465, 'grad_norm': 5.216437816619873, 'learning_rate': 2.7561837455830393e-05, 'epoch': 1.5945945945945947}\n",
      "{'loss': 0.615, 'grad_norm': 5.468442440032959, 'learning_rate': 2.738515901060071e-05, 'epoch': 1.6036036036036037}\n",
      "{'loss': 0.6154, 'grad_norm': 4.287981986999512, 'learning_rate': 2.7208480565371023e-05, 'epoch': 1.6126126126126126}\n",
      "{'loss': 0.5044, 'grad_norm': 3.947849750518799, 'learning_rate': 2.703180212014134e-05, 'epoch': 1.6216216216216215}\n",
      "{'loss': 0.6363, 'grad_norm': 6.305758476257324, 'learning_rate': 2.6855123674911664e-05, 'epoch': 1.6306306306306306}\n",
      "{'loss': 0.6634, 'grad_norm': 6.308526992797852, 'learning_rate': 2.667844522968198e-05, 'epoch': 1.6396396396396398}\n",
      "{'loss': 0.5836, 'grad_norm': 3.1049461364746094, 'learning_rate': 2.6501766784452298e-05, 'epoch': 1.6486486486486487}\n",
      "{'loss': 0.5081, 'grad_norm': 4.884242057800293, 'learning_rate': 2.6325088339222615e-05, 'epoch': 1.6576576576576576}\n",
      "{'loss': 0.6195, 'grad_norm': 3.6594555377960205, 'learning_rate': 2.6148409893992938e-05, 'epoch': 1.6666666666666665}\n",
      "{'loss': 0.6052, 'grad_norm': 4.356263637542725, 'learning_rate': 2.5971731448763255e-05, 'epoch': 1.6756756756756757}\n",
      "{'loss': 0.6841, 'grad_norm': 3.9103896617889404, 'learning_rate': 2.5795053003533572e-05, 'epoch': 1.6846846846846848}\n",
      "{'loss': 0.5972, 'grad_norm': 4.509199619293213, 'learning_rate': 2.5618374558303885e-05, 'epoch': 1.6936936936936937}\n",
      "{'loss': 0.5237, 'grad_norm': 3.7462141513824463, 'learning_rate': 2.5441696113074202e-05, 'epoch': 1.7027027027027026}\n",
      "{'loss': 0.6828, 'grad_norm': 4.404963493347168, 'learning_rate': 2.5265017667844526e-05, 'epoch': 1.7117117117117115}\n",
      "{'loss': 0.6563, 'grad_norm': 6.292864799499512, 'learning_rate': 2.5088339222614843e-05, 'epoch': 1.7207207207207207}\n",
      "{'loss': 0.6086, 'grad_norm': 3.7912490367889404, 'learning_rate': 2.491166077738516e-05, 'epoch': 1.7297297297297298}\n",
      "{'loss': 0.6464, 'grad_norm': 3.8546769618988037, 'learning_rate': 2.473498233215548e-05, 'epoch': 1.7387387387387387}\n",
      "{'loss': 0.622, 'grad_norm': 5.032771110534668, 'learning_rate': 2.4558303886925797e-05, 'epoch': 1.7477477477477477}\n",
      "{'loss': 0.5633, 'grad_norm': 2.965254068374634, 'learning_rate': 2.4381625441696117e-05, 'epoch': 1.7567567567567568}\n",
      "{'loss': 0.68, 'grad_norm': 4.790125846862793, 'learning_rate': 2.420494699646643e-05, 'epoch': 1.7657657657657657}\n",
      "{'loss': 0.6449, 'grad_norm': 4.229946613311768, 'learning_rate': 2.4028268551236747e-05, 'epoch': 1.7747747747747749}\n",
      "{'loss': 0.6117, 'grad_norm': 5.012366771697998, 'learning_rate': 2.3851590106007068e-05, 'epoch': 1.7837837837837838}\n",
      "{'loss': 0.5745, 'grad_norm': 4.994498252868652, 'learning_rate': 2.3674911660777384e-05, 'epoch': 1.7927927927927927}\n",
      "{'loss': 0.6476, 'grad_norm': 5.713651657104492, 'learning_rate': 2.3498233215547705e-05, 'epoch': 1.8018018018018018}\n"
     ]
    },
    {
     "name": "stderr",
     "output_type": "stream",
     "text": [
      "/opt/conda/lib/python3.10/site-packages/torch/nn/parallel/_functions.py:68: UserWarning: Was asked to gather along dimension 0, but all input tensors were scalars; will instead unsqueeze and return a vector.\n",
      "  warnings.warn('Was asked to gather along dimension 0, but all '\n"
     ]
    },
    {
     "name": "stdout",
     "output_type": "stream",
     "text": [
      "{'loss': 0.5765, 'grad_norm': 4.175013542175293, 'learning_rate': 2.332155477031802e-05, 'epoch': 1.810810810810811}\n",
      "{'loss': 0.5946, 'grad_norm': 4.553526401519775, 'learning_rate': 2.3144876325088342e-05, 'epoch': 1.8198198198198199}\n",
      "{'loss': 0.5546, 'grad_norm': 5.303182601928711, 'learning_rate': 2.296819787985866e-05, 'epoch': 1.8288288288288288}\n",
      "{'loss': 0.5845, 'grad_norm': 5.081655502319336, 'learning_rate': 2.279151943462898e-05, 'epoch': 1.8378378378378377}\n",
      "{'loss': 0.5714, 'grad_norm': 5.070594787597656, 'learning_rate': 2.2614840989399292e-05, 'epoch': 1.8468468468468469}\n",
      "{'loss': 0.5336, 'grad_norm': 4.349161624908447, 'learning_rate': 2.2438162544169613e-05, 'epoch': 1.855855855855856}\n",
      "{'loss': 0.5706, 'grad_norm': 2.8693082332611084, 'learning_rate': 2.226148409893993e-05, 'epoch': 1.864864864864865}\n",
      "{'loss': 0.5269, 'grad_norm': 4.910676956176758, 'learning_rate': 2.2084805653710246e-05, 'epoch': 1.8738738738738738}\n",
      "{'loss': 0.4994, 'grad_norm': 4.154675006866455, 'learning_rate': 2.1908127208480567e-05, 'epoch': 1.8828828828828827}\n",
      "{'loss': 0.5958, 'grad_norm': 4.558537006378174, 'learning_rate': 2.1731448763250883e-05, 'epoch': 1.8918918918918919}\n",
      "{'loss': 0.5409, 'grad_norm': 3.6598703861236572, 'learning_rate': 2.1554770318021204e-05, 'epoch': 1.900900900900901}\n",
      "{'loss': 0.5219, 'grad_norm': 4.225781440734863, 'learning_rate': 2.137809187279152e-05, 'epoch': 1.90990990990991}\n",
      "{'loss': 0.6916, 'grad_norm': 5.619412422180176, 'learning_rate': 2.120141342756184e-05, 'epoch': 1.9189189189189189}\n",
      "{'loss': 0.6424, 'grad_norm': 4.277005195617676, 'learning_rate': 2.1024734982332154e-05, 'epoch': 1.9279279279279278}\n",
      "{'loss': 0.6998, 'grad_norm': 5.185931205749512, 'learning_rate': 2.0848056537102475e-05, 'epoch': 1.936936936936937}\n",
      "{'loss': 0.6501, 'grad_norm': 5.808695316314697, 'learning_rate': 2.067137809187279e-05, 'epoch': 1.945945945945946}\n",
      "{'loss': 0.6038, 'grad_norm': 4.056318283081055, 'learning_rate': 2.0494699646643112e-05, 'epoch': 1.954954954954955}\n",
      "{'loss': 0.5646, 'grad_norm': 5.158469200134277, 'learning_rate': 2.031802120141343e-05, 'epoch': 1.9639639639639639}\n",
      "{'loss': 0.623, 'grad_norm': 3.902756929397583, 'learning_rate': 2.0141342756183745e-05, 'epoch': 1.972972972972973}\n",
      "{'loss': 0.553, 'grad_norm': 4.200253963470459, 'learning_rate': 1.9964664310954066e-05, 'epoch': 1.981981981981982}\n",
      "{'loss': 0.6236, 'grad_norm': 4.861687660217285, 'learning_rate': 1.9787985865724383e-05, 'epoch': 1.990990990990991}\n",
      "{'loss': 0.5299, 'grad_norm': 4.354559898376465, 'learning_rate': 1.9611307420494703e-05, 'epoch': 2.0}\n",
      "{'loss': 0.4808, 'grad_norm': 3.2354161739349365, 'learning_rate': 1.9434628975265016e-05, 'epoch': 2.009009009009009}\n",
      "{'loss': 0.4565, 'grad_norm': 3.8631510734558105, 'learning_rate': 1.9257950530035337e-05, 'epoch': 2.018018018018018}\n",
      "{'loss': 0.4197, 'grad_norm': 4.597583293914795, 'learning_rate': 1.9081272084805653e-05, 'epoch': 2.027027027027027}\n",
      "{'loss': 0.4299, 'grad_norm': 5.556941986083984, 'learning_rate': 1.8904593639575974e-05, 'epoch': 2.036036036036036}\n",
      "{'loss': 0.4416, 'grad_norm': 5.899721622467041, 'learning_rate': 1.872791519434629e-05, 'epoch': 2.045045045045045}\n",
      "{'loss': 0.4275, 'grad_norm': 3.788567543029785, 'learning_rate': 1.855123674911661e-05, 'epoch': 2.054054054054054}\n",
      "{'loss': 0.3876, 'grad_norm': 5.70733118057251, 'learning_rate': 1.8374558303886928e-05, 'epoch': 2.063063063063063}\n",
      "{'loss': 0.4339, 'grad_norm': 5.424761772155762, 'learning_rate': 1.8197879858657244e-05, 'epoch': 2.0720720720720722}\n",
      "{'loss': 0.3984, 'grad_norm': 3.374333381652832, 'learning_rate': 1.8021201413427565e-05, 'epoch': 2.081081081081081}\n",
      "{'loss': 0.5014, 'grad_norm': 5.68458366394043, 'learning_rate': 1.7844522968197878e-05, 'epoch': 2.09009009009009}\n",
      "{'loss': 0.4668, 'grad_norm': 3.983149528503418, 'learning_rate': 1.76678445229682e-05, 'epoch': 2.099099099099099}\n",
      "{'loss': 0.4577, 'grad_norm': 5.629024505615234, 'learning_rate': 1.7491166077738515e-05, 'epoch': 2.108108108108108}\n",
      "{'loss': 0.4528, 'grad_norm': 4.934768199920654, 'learning_rate': 1.7314487632508836e-05, 'epoch': 2.1171171171171173}\n",
      "{'loss': 0.4117, 'grad_norm': 6.683051109313965, 'learning_rate': 1.7137809187279152e-05, 'epoch': 2.126126126126126}\n",
      "{'loss': 0.4343, 'grad_norm': 7.149930477142334, 'learning_rate': 1.6961130742049473e-05, 'epoch': 2.135135135135135}\n",
      "{'loss': 0.3979, 'grad_norm': 6.3026628494262695, 'learning_rate': 1.678445229681979e-05, 'epoch': 2.144144144144144}\n",
      "{'loss': 0.4469, 'grad_norm': 4.673361301422119, 'learning_rate': 1.6607773851590106e-05, 'epoch': 2.153153153153153}\n",
      "{'loss': 0.4749, 'grad_norm': 6.470340728759766, 'learning_rate': 1.6431095406360427e-05, 'epoch': 2.1621621621621623}\n",
      "{'loss': 0.4707, 'grad_norm': 5.247219085693359, 'learning_rate': 1.625441696113074e-05, 'epoch': 2.171171171171171}\n",
      "{'loss': 0.4252, 'grad_norm': 5.733870506286621, 'learning_rate': 1.607773851590106e-05, 'epoch': 2.18018018018018}\n",
      "{'loss': 0.4391, 'grad_norm': 6.3070454597473145, 'learning_rate': 1.5901060070671377e-05, 'epoch': 2.189189189189189}\n",
      "{'loss': 0.4203, 'grad_norm': 7.173718452453613, 'learning_rate': 1.5724381625441698e-05, 'epoch': 2.1981981981981984}\n",
      "{'loss': 0.5162, 'grad_norm': 5.723598957061768, 'learning_rate': 1.5547703180212014e-05, 'epoch': 2.2072072072072073}\n",
      "{'loss': 0.5131, 'grad_norm': 5.119466304779053, 'learning_rate': 1.5371024734982335e-05, 'epoch': 2.2162162162162162}\n",
      "{'loss': 0.4394, 'grad_norm': 4.7808518409729, 'learning_rate': 1.519434628975265e-05, 'epoch': 2.225225225225225}\n",
      "{'loss': 0.48, 'grad_norm': 8.26088809967041, 'learning_rate': 1.501766784452297e-05, 'epoch': 2.234234234234234}\n",
      "{'loss': 0.4847, 'grad_norm': 8.14278507232666, 'learning_rate': 1.4840989399293287e-05, 'epoch': 2.2432432432432434}\n",
      "{'loss': 0.4565, 'grad_norm': 5.134850025177002, 'learning_rate': 1.4664310954063604e-05, 'epoch': 2.2522522522522523}\n"
     ]
    },
    {
     "name": "stderr",
     "output_type": "stream",
     "text": [
      "/opt/conda/lib/python3.10/site-packages/torch/nn/parallel/_functions.py:68: UserWarning: Was asked to gather along dimension 0, but all input tensors were scalars; will instead unsqueeze and return a vector.\n",
      "  warnings.warn('Was asked to gather along dimension 0, but all '\n"
     ]
    },
    {
     "name": "stdout",
     "output_type": "stream",
     "text": [
      "{'loss': 0.4382, 'grad_norm': 6.071769714355469, 'learning_rate': 1.4487632508833924e-05, 'epoch': 2.2612612612612613}\n",
      "{'loss': 0.4987, 'grad_norm': 7.126780033111572, 'learning_rate': 1.431095406360424e-05, 'epoch': 2.27027027027027}\n",
      "{'loss': 0.4524, 'grad_norm': 7.545413970947266, 'learning_rate': 1.413427561837456e-05, 'epoch': 2.279279279279279}\n",
      "{'loss': 0.3849, 'grad_norm': 6.204259872436523, 'learning_rate': 1.3957597173144876e-05, 'epoch': 2.2882882882882885}\n",
      "{'loss': 0.3983, 'grad_norm': 5.455589294433594, 'learning_rate': 1.3780918727915197e-05, 'epoch': 2.2972972972972974}\n",
      "{'loss': 0.4497, 'grad_norm': 8.264204978942871, 'learning_rate': 1.3604240282685512e-05, 'epoch': 2.3063063063063063}\n",
      "{'loss': 0.4294, 'grad_norm': 7.7522873878479, 'learning_rate': 1.3427561837455832e-05, 'epoch': 2.315315315315315}\n",
      "{'loss': 0.4314, 'grad_norm': 9.35681438446045, 'learning_rate': 1.3250883392226149e-05, 'epoch': 2.3243243243243246}\n",
      "{'loss': 0.4272, 'grad_norm': 7.484066963195801, 'learning_rate': 1.3074204946996469e-05, 'epoch': 2.3333333333333335}\n",
      "{'loss': 0.396, 'grad_norm': 4.546220302581787, 'learning_rate': 1.2897526501766786e-05, 'epoch': 2.3423423423423424}\n",
      "{'loss': 0.5057, 'grad_norm': 6.029772758483887, 'learning_rate': 1.2720848056537101e-05, 'epoch': 2.3513513513513513}\n",
      "{'loss': 0.4534, 'grad_norm': 8.822901725769043, 'learning_rate': 1.2544169611307421e-05, 'epoch': 2.3603603603603602}\n",
      "{'loss': 0.4946, 'grad_norm': 6.58303689956665, 'learning_rate': 1.236749116607774e-05, 'epoch': 2.3693693693693696}\n",
      "{'loss': 0.4017, 'grad_norm': 8.180794715881348, 'learning_rate': 1.2190812720848058e-05, 'epoch': 2.3783783783783785}\n",
      "{'loss': 0.4393, 'grad_norm': 4.373101711273193, 'learning_rate': 1.2014134275618374e-05, 'epoch': 2.3873873873873874}\n",
      "{'loss': 0.3533, 'grad_norm': 5.034972667694092, 'learning_rate': 1.1837455830388692e-05, 'epoch': 2.3963963963963963}\n",
      "{'loss': 0.5235, 'grad_norm': 7.794899940490723, 'learning_rate': 1.166077738515901e-05, 'epoch': 2.4054054054054053}\n",
      "{'loss': 0.4726, 'grad_norm': 4.512558460235596, 'learning_rate': 1.148409893992933e-05, 'epoch': 2.4144144144144146}\n",
      "{'loss': 0.3931, 'grad_norm': 5.879411220550537, 'learning_rate': 1.1307420494699646e-05, 'epoch': 2.4234234234234235}\n",
      "{'loss': 0.5022, 'grad_norm': 8.712990760803223, 'learning_rate': 1.1130742049469965e-05, 'epoch': 2.4324324324324325}\n",
      "{'loss': 0.4968, 'grad_norm': 7.926024913787842, 'learning_rate': 1.0954063604240283e-05, 'epoch': 2.4414414414414414}\n",
      "{'loss': 0.4199, 'grad_norm': 6.218018531799316, 'learning_rate': 1.0777385159010602e-05, 'epoch': 2.4504504504504503}\n",
      "{'loss': 0.469, 'grad_norm': 5.278493881225586, 'learning_rate': 1.060070671378092e-05, 'epoch': 2.4594594594594597}\n",
      "{'loss': 0.422, 'grad_norm': 3.237149238586426, 'learning_rate': 1.0424028268551237e-05, 'epoch': 2.4684684684684686}\n",
      "{'loss': 0.4825, 'grad_norm': 7.536800384521484, 'learning_rate': 1.0247349823321556e-05, 'epoch': 2.4774774774774775}\n",
      "{'loss': 0.5331, 'grad_norm': 8.336275100708008, 'learning_rate': 1.0070671378091873e-05, 'epoch': 2.4864864864864864}\n",
      "{'loss': 0.484, 'grad_norm': 8.861359596252441, 'learning_rate': 9.893992932862191e-06, 'epoch': 2.4954954954954953}\n",
      "{'loss': 0.4642, 'grad_norm': 6.968432903289795, 'learning_rate': 9.717314487632508e-06, 'epoch': 2.5045045045045047}\n",
      "{'loss': 0.5358, 'grad_norm': 5.403181076049805, 'learning_rate': 9.540636042402827e-06, 'epoch': 2.5135135135135136}\n",
      "{'loss': 0.4842, 'grad_norm': 8.086085319519043, 'learning_rate': 9.363957597173145e-06, 'epoch': 2.5225225225225225}\n",
      "{'loss': 0.4158, 'grad_norm': 7.128571033477783, 'learning_rate': 9.187279151943464e-06, 'epoch': 2.5315315315315314}\n",
      "{'loss': 0.3699, 'grad_norm': 6.538946628570557, 'learning_rate': 9.010600706713782e-06, 'epoch': 2.5405405405405403}\n",
      "{'loss': 0.4917, 'grad_norm': 8.233904838562012, 'learning_rate': 8.8339222614841e-06, 'epoch': 2.5495495495495497}\n",
      "{'loss': 0.4072, 'grad_norm': 5.783843040466309, 'learning_rate': 8.657243816254418e-06, 'epoch': 2.5585585585585586}\n",
      "{'loss': 0.4247, 'grad_norm': 6.385228157043457, 'learning_rate': 8.480565371024736e-06, 'epoch': 2.5675675675675675}\n",
      "{'loss': 0.3753, 'grad_norm': 6.218870162963867, 'learning_rate': 8.303886925795053e-06, 'epoch': 2.5765765765765765}\n",
      "{'loss': 0.5062, 'grad_norm': 7.432015895843506, 'learning_rate': 8.12720848056537e-06, 'epoch': 2.5855855855855854}\n",
      "{'loss': 0.4929, 'grad_norm': 9.524810791015625, 'learning_rate': 7.950530035335689e-06, 'epoch': 2.5945945945945947}\n",
      "{'loss': 0.4908, 'grad_norm': 7.962533950805664, 'learning_rate': 7.773851590106007e-06, 'epoch': 2.6036036036036037}\n",
      "{'loss': 0.4146, 'grad_norm': 7.0034918785095215, 'learning_rate': 7.597173144876325e-06, 'epoch': 2.6126126126126126}\n",
      "{'loss': 0.4476, 'grad_norm': 7.428828716278076, 'learning_rate': 7.4204946996466435e-06, 'epoch': 2.6216216216216215}\n",
      "{'loss': 0.4354, 'grad_norm': 7.844003677368164, 'learning_rate': 7.243816254416962e-06, 'epoch': 2.6306306306306304}\n",
      "{'loss': 0.3933, 'grad_norm': 5.5431976318359375, 'learning_rate': 7.06713780918728e-06, 'epoch': 2.6396396396396398}\n",
      "{'loss': 0.4322, 'grad_norm': 6.116054534912109, 'learning_rate': 6.890459363957598e-06, 'epoch': 2.6486486486486487}\n",
      "{'loss': 0.4509, 'grad_norm': 8.93697738647461, 'learning_rate': 6.713780918727916e-06, 'epoch': 2.6576576576576576}\n",
      "{'loss': 0.5357, 'grad_norm': 7.745361328125, 'learning_rate': 6.5371024734982345e-06, 'epoch': 2.6666666666666665}\n",
      "{'loss': 0.3537, 'grad_norm': 4.848032474517822, 'learning_rate': 6.3604240282685506e-06, 'epoch': 2.6756756756756754}\n",
      "{'loss': 0.4678, 'grad_norm': 5.592005729675293, 'learning_rate': 6.18374558303887e-06, 'epoch': 2.684684684684685}\n",
      "{'loss': 0.3903, 'grad_norm': 4.432855606079102, 'learning_rate': 6.007067137809187e-06, 'epoch': 2.6936936936936937}\n",
      "{'loss': 0.4656, 'grad_norm': 5.443190097808838, 'learning_rate': 5.830388692579505e-06, 'epoch': 2.7027027027027026}\n"
     ]
    },
    {
     "name": "stderr",
     "output_type": "stream",
     "text": [
      "/opt/conda/lib/python3.10/site-packages/torch/nn/parallel/_functions.py:68: UserWarning: Was asked to gather along dimension 0, but all input tensors were scalars; will instead unsqueeze and return a vector.\n",
      "  warnings.warn('Was asked to gather along dimension 0, but all '\n"
     ]
    },
    {
     "name": "stdout",
     "output_type": "stream",
     "text": [
      "{'loss': 0.4768, 'grad_norm': 5.385097026824951, 'learning_rate': 5.653710247349823e-06, 'epoch': 2.7117117117117115}\n",
      "{'loss': 0.4322, 'grad_norm': 6.537566184997559, 'learning_rate': 5.477031802120142e-06, 'epoch': 2.7207207207207205}\n",
      "{'loss': 0.4092, 'grad_norm': 6.419871807098389, 'learning_rate': 5.30035335689046e-06, 'epoch': 2.72972972972973}\n",
      "{'loss': 0.3995, 'grad_norm': 5.012648582458496, 'learning_rate': 5.123674911660778e-06, 'epoch': 2.7387387387387387}\n",
      "{'loss': 0.4141, 'grad_norm': 6.4832868576049805, 'learning_rate': 4.946996466431096e-06, 'epoch': 2.7477477477477477}\n",
      "{'loss': 0.3623, 'grad_norm': 5.565332412719727, 'learning_rate': 4.770318021201413e-06, 'epoch': 2.756756756756757}\n",
      "{'loss': 0.3415, 'grad_norm': 5.383187770843506, 'learning_rate': 4.593639575971732e-06, 'epoch': 2.7657657657657655}\n",
      "{'loss': 0.3873, 'grad_norm': 4.915729522705078, 'learning_rate': 4.41696113074205e-06, 'epoch': 2.774774774774775}\n",
      "{'loss': 0.4435, 'grad_norm': 6.145495414733887, 'learning_rate': 4.240282685512368e-06, 'epoch': 2.7837837837837838}\n",
      "{'loss': 0.4525, 'grad_norm': 4.801576137542725, 'learning_rate': 4.063604240282685e-06, 'epoch': 2.7927927927927927}\n",
      "{'loss': 0.5156, 'grad_norm': 7.612367630004883, 'learning_rate': 3.886925795053004e-06, 'epoch': 2.801801801801802}\n",
      "{'loss': 0.3947, 'grad_norm': 6.937648296356201, 'learning_rate': 3.7102473498233217e-06, 'epoch': 2.810810810810811}\n",
      "{'loss': 0.3824, 'grad_norm': 3.8977887630462646, 'learning_rate': 3.53356890459364e-06, 'epoch': 2.81981981981982}\n",
      "{'loss': 0.4026, 'grad_norm': 5.698147773742676, 'learning_rate': 3.356890459363958e-06, 'epoch': 2.828828828828829}\n",
      "{'loss': 0.4929, 'grad_norm': 6.866117477416992, 'learning_rate': 3.1802120141342753e-06, 'epoch': 2.8378378378378377}\n",
      "{'loss': 0.4487, 'grad_norm': 8.485031127929688, 'learning_rate': 3.0035335689045934e-06, 'epoch': 2.846846846846847}\n",
      "{'loss': 0.5144, 'grad_norm': 3.6459708213806152, 'learning_rate': 2.8268551236749116e-06, 'epoch': 2.855855855855856}\n",
      "{'loss': 0.5061, 'grad_norm': 5.886862754821777, 'learning_rate': 2.65017667844523e-06, 'epoch': 2.864864864864865}\n",
      "{'loss': 0.4052, 'grad_norm': 7.682425022125244, 'learning_rate': 2.473498233215548e-06, 'epoch': 2.873873873873874}\n",
      "{'loss': 0.414, 'grad_norm': 6.26469087600708, 'learning_rate': 2.296819787985866e-06, 'epoch': 2.8828828828828827}\n",
      "{'loss': 0.4922, 'grad_norm': 6.343922138214111, 'learning_rate': 2.120141342756184e-06, 'epoch': 2.891891891891892}\n",
      "{'loss': 0.484, 'grad_norm': 8.49895191192627, 'learning_rate': 1.943462897526502e-06, 'epoch': 2.900900900900901}\n",
      "{'loss': 0.4394, 'grad_norm': 5.740475177764893, 'learning_rate': 1.76678445229682e-06, 'epoch': 2.90990990990991}\n",
      "{'loss': 0.4313, 'grad_norm': 9.19226360321045, 'learning_rate': 1.5901060070671376e-06, 'epoch': 2.918918918918919}\n",
      "{'loss': 0.4212, 'grad_norm': 6.8037428855896, 'learning_rate': 1.4134275618374558e-06, 'epoch': 2.9279279279279278}\n",
      "{'loss': 0.4036, 'grad_norm': 7.507923126220703, 'learning_rate': 1.236749116607774e-06, 'epoch': 2.936936936936937}\n",
      "{'loss': 0.3481, 'grad_norm': 6.434366703033447, 'learning_rate': 1.060070671378092e-06, 'epoch': 2.945945945945946}\n",
      "{'loss': 0.3791, 'grad_norm': 8.320061683654785, 'learning_rate': 8.8339222614841e-07, 'epoch': 2.954954954954955}\n",
      "{'loss': 0.4315, 'grad_norm': 7.052695274353027, 'learning_rate': 7.067137809187279e-07, 'epoch': 2.963963963963964}\n",
      "{'loss': 0.3979, 'grad_norm': 7.373937606811523, 'learning_rate': 5.30035335689046e-07, 'epoch': 2.972972972972973}\n",
      "{'loss': 0.3694, 'grad_norm': 6.797603130340576, 'learning_rate': 3.5335689045936394e-07, 'epoch': 2.981981981981982}\n",
      "{'loss': 0.4502, 'grad_norm': 7.3921284675598145, 'learning_rate': 1.7667844522968197e-07, 'epoch': 2.990990990990991}\n",
      "{'loss': 0.4604, 'grad_norm': 7.018485069274902, 'learning_rate': 0.0, 'epoch': 3.0}\n",
      "{'train_runtime': 3053.8673, 'train_samples_per_second': 34.891, 'train_steps_per_second': 1.09, 'train_loss': 0.613183831738996, 'epoch': 3.0}\n"
     ]
    },
    {
     "data": {
      "text/plain": [
       "TrainOutput(global_step=3330, training_loss=0.613183831738996, metrics={'train_runtime': 3053.8673, 'train_samples_per_second': 34.891, 'train_steps_per_second': 1.09, 'train_loss': 0.613183831738996, 'epoch': 3.0})"
      ]
     },
     "execution_count": 35,
     "metadata": {},
     "output_type": "execute_result"
    }
   ],
   "source": [
    "from transformers import AutoModelForSequenceClassification, Trainer, TrainingArguments\n",
    "\n",
    "# Load the model\n",
    "model = AutoModelForSequenceClassification.from_pretrained(\"lxyuan/distilbert-base-multilingual-cased-sentiments-student\")\n",
    "\n",
    "# Set up training arguments\n",
    "training_args = TrainingArguments(\n",
    "    output_dir='./results',          # output directory\n",
    "    num_train_epochs=3,              # number of training epochs\n",
    "    per_device_train_batch_size=16,  # batch size for training\n",
    "    per_device_eval_batch_size=64,   # batch size for evaluation\n",
    "    warmup_steps=500,                # number of warmup steps\n",
    "    weight_decay=0.01,               # strength of weight decay\n",
    "    logging_dir='./logs',            # directory for storing logs\n",
    "    logging_steps=10,\n",
    "    report_to='tensorboard'\n",
    ")\n",
    "\n",
    "# Initialize the Trainer\n",
    "trainer = Trainer(\n",
    "    model=model,\n",
    "    args=training_args,\n",
    "    train_dataset=train_dataset,\n",
    "    eval_dataset=test_dataset\n",
    ")\n",
    "\n",
    "# Train the model\n",
    "trainer.train()\n"
   ]
  },
  {
   "cell_type": "code",
   "execution_count": 36,
   "id": "c4adf510",
   "metadata": {
    "execution": {
     "iopub.execute_input": "2024-08-09T15:03:28.258173Z",
     "iopub.status.busy": "2024-08-09T15:03:28.257479Z",
     "iopub.status.idle": "2024-08-09T15:04:57.082603Z",
     "shell.execute_reply": "2024-08-09T15:04:57.081580Z"
    },
    "papermill": {
     "duration": 88.911205,
     "end_time": "2024-08-09T15:04:57.126139",
     "exception": false,
     "start_time": "2024-08-09T15:03:28.214934",
     "status": "completed"
    },
    "tags": []
   },
   "outputs": [
    {
     "name": "stderr",
     "output_type": "stream",
     "text": [
      "/opt/conda/lib/python3.10/site-packages/torch/nn/parallel/_functions.py:68: UserWarning: Was asked to gather along dimension 0, but all input tensors were scalars; will instead unsqueeze and return a vector.\n",
      "  warnings.warn('Was asked to gather along dimension 0, but all '\n"
     ]
    },
    {
     "name": "stdout",
     "output_type": "stream",
     "text": [
      "{'eval_loss': 0.7344214916229248, 'eval_runtime': 88.8177, 'eval_samples_per_second': 99.98, 'eval_steps_per_second': 0.788, 'epoch': 3.0}\n",
      "{'eval_loss': 0.7344214916229248, 'eval_runtime': 88.8177, 'eval_samples_per_second': 99.98, 'eval_steps_per_second': 0.788, 'epoch': 3.0}\n"
     ]
    }
   ],
   "source": [
    "# Evaluate the model\n",
    "eval_results = trainer.evaluate()\n",
    "\n",
    "print(eval_results)\n"
   ]
  },
  {
   "cell_type": "code",
   "execution_count": 37,
   "id": "0f4c4cb6",
   "metadata": {
    "execution": {
     "iopub.execute_input": "2024-08-09T15:04:57.210824Z",
     "iopub.status.busy": "2024-08-09T15:04:57.210517Z",
     "iopub.status.idle": "2024-08-09T15:06:27.163762Z",
     "shell.execute_reply": "2024-08-09T15:06:27.162844Z"
    },
    "papermill": {
     "duration": 89.997951,
     "end_time": "2024-08-09T15:06:27.165825",
     "exception": false,
     "start_time": "2024-08-09T15:04:57.167874",
     "status": "completed"
    },
    "tags": []
   },
   "outputs": [
    {
     "name": "stderr",
     "output_type": "stream",
     "text": [
      "/opt/conda/lib/python3.10/site-packages/torch/nn/parallel/_functions.py:68: UserWarning: Was asked to gather along dimension 0, but all input tensors were scalars; will instead unsqueeze and return a vector.\n",
      "  warnings.warn('Was asked to gather along dimension 0, but all '\n"
     ]
    },
    {
     "name": "stdout",
     "output_type": "stream",
     "text": [
      "Classification Report:\n",
      "              precision    recall  f1-score   support\n",
      "\n",
      "    negative       0.72      0.74      0.73      2993\n",
      "     neutral       0.73      0.70      0.71      2886\n",
      "    positive       0.75      0.76      0.75      3001\n",
      "\n",
      "    accuracy                           0.73      8880\n",
      "   macro avg       0.73      0.73      0.73      8880\n",
      "weighted avg       0.73      0.73      0.73      8880\n",
      "\n"
     ]
    },
    {
     "data": {
      "image/png": "[encoded data removed]",
      "text/plain": [
       "<Figure size 1000x700 with 2 Axes>"
      ]
     },
     "metadata": {},
     "output_type": "display_data"
    }
   ],
   "source": [
    "from transformers import Trainer\n",
    "from sklearn.metrics import confusion_matrix, classification_report\n",
    "import matplotlib.pyplot as plt\n",
    "import seaborn as sns\n",
    "import numpy as np\n",
    "import torch\n",
    "\n",
    "# Assuming you have a trained `trainer` object and `test_dataset`\n",
    "\n",
    "# 1. Get predictions from the model\n",
    "predictions = trainer.predict(test_dataset)\n",
    "\n",
    "# 2. Extract logits and convert to predicted labels\n",
    "logits = predictions.predictions\n",
    "predicted_labels = np.argmax(logits, axis=1)\n",
    "\n",
    "# 3. Get true labels from the dataset\n",
    "true_labels = test_dataset.labels\n",
    "\n",
    "# Convert tensors to numpy arrays if necessary\n",
    "if isinstance(true_labels, torch.Tensor):\n",
    "    true_labels = true_labels.numpy()\n",
    "\n",
    "# 4. Compute the confusion matrix\n",
    "conf_matrix = confusion_matrix(true_labels, predicted_labels)\n",
    "\n",
    "# 5. Print the classification report\n",
    "target_names = ['negative', 'neutral', 'positive']\n",
    "report = classification_report(true_labels, predicted_labels, target_names=target_names)\n",
    "print(\"Classification Report:\")\n",
    "print(report)\n",
    "\n",
    "# 6. Plot the confusion matrix\n",
    "plt.figure(figsize=(10, 7))\n",
    "sns.heatmap(conf_matrix, annot=True, fmt='d', cmap='Blues', xticklabels=target_names, yticklabels=target_names)\n",
    "plt.xlabel('Predicted Labels')\n",
    "plt.ylabel('True Labels')\n",
    "plt.title('Confusion Matrix')\n",
    "plt.show()\n"
   ]
  },
  {
   "cell_type": "code",
   "execution_count": null,
   "id": "6c32ca7d",
   "metadata": {
    "papermill": {
     "duration": 0.041828,
     "end_time": "2024-08-09T15:06:27.249851",
     "exception": false,
     "start_time": "2024-08-09T15:06:27.208023",
     "status": "completed"
    },
    "tags": []
   },
   "outputs": [],
   "source": []
  }
 ],
 "metadata": {
  "accelerator": "GPU",
  "colab": {
   "gpuType": "T4",
   "provenance": []
  },
  "kaggle": {
   "accelerator": "nvidiaTeslaT4",
   "dataSources": [
    {
     "datasetId": 4896317,
     "sourceId": 8251782,
     "sourceType": "datasetVersion"
    }
   ],
   "isGpuEnabled": true,
   "isInternetEnabled": true,
   "language": "python",
   "sourceType": "notebook"
  },
  "kernelspec": {
   "display_name": "Python 3",
   "language": "python",
   "name": "python3"
  },
  "language_info": {
   "codemirror_mode": {
    "name": "ipython",
    "version": 3
   },
   "file_extension": ".py",
   "mimetype": "text/x-python",
   "name": "python",
   "nbconvert_exporter": "python",
   "pygments_lexer": "ipython3",
   "version": "3.10.13"
  },
  "papermill": {
   "default_parameters": {},
   "duration": 3400.409036,
   "end_time": "2024-08-09T15:06:30.993263",
   "environment_variables": {},
   "exception": null,
   "input_path": "__notebook__.ipynb",
   "output_path": "__notebook__.ipynb",
   "parameters": {},
   "start_time": "2024-08-09T14:09:50.584227",
   "version": "2.5.0"
  },
  "widgets": {
   "application/vnd.jupyter.widget-state+json": {
    "state": {
     "05fb15f7960349bfa0daa35970882f04": {
      "model_module": "@jupyter-widgets/controls",
      "model_module_version": "1.5.0",
      "model_name": "HTMLModel",
      "state": {
       "_dom_classes": [],
       "_model_module": "@jupyter-widgets/controls",
       "_model_module_version": "1.5.0",
       "_model_name": "HTMLModel",
       "_view_count": null,
       "_view_module": "@jupyter-widgets/controls",
       "_view_module_version": "1.5.0",
       "_view_name": "HTMLView",
       "description": "",
       "description_tooltip": null,
       "layout": "IPY_MODEL_5ddabd4417044139887c40b3a32d3041",
       "placeholder": "​",
       "style": "IPY_MODEL_534c4bdbedcc44a78f1126e14b3e4794",
       "value": " 996k/996k [00:00&lt;00:00, 13.7MB/s]"
      }
     },
     "0a0d0a9491b7459489374e2196f23bdd": {
      "model_module": "@jupyter-widgets/base",
      "model_module_version": "1.2.0",
      "model_name": "LayoutModel",
      "state": {
       "_model_module": "@jupyter-widgets/base",
       "_model_module_version": "1.2.0",
       "_model_name": "LayoutModel",
       "_view_count": null,
       "_view_module": "@jupyter-widgets/base",
       "_view_module_version": "1.2.0",
       "_view_name": "LayoutView",
       "align_content": null,
       "align_items": null,
       "align_self": null,
       "border": null,
       "bottom": null,
       "display": null,
       "flex": null,
       "flex_flow": null,
       "grid_area": null,
       "grid_auto_columns": null,
       "grid_auto_flow": null,
       "grid_auto_rows": null,
       "grid_column": null,
       "grid_gap": null,
       "grid_row": null,
       "grid_template_areas": null,
       "grid_template_columns": null,
       "grid_template_rows": null,
       "height": null,
       "justify_content": null,
       "justify_items": null,
       "left": null,
       "margin": null,
       "max_height": null,
       "max_width": null,
       "min_height": null,
       "min_width": null,
       "object_fit": null,
       "object_position": null,
       "order": null,
       "overflow": null,
       "overflow_x": null,
       "overflow_y": null,
       "padding": null,
       "right": null,
       "top": null,
       "visibility": null,
       "width": null
      }
     },
     "113bdfd675524613b3e7c3776c413eb5": {
      "model_module": "@jupyter-widgets/controls",
      "model_module_version": "1.5.0",
      "model_name": "ProgressStyleModel",
      "state": {
       "_model_module": "@jupyter-widgets/controls",
       "_model_module_version": "1.5.0",
       "_model_name": "ProgressStyleModel",
       "_view_count": null,
       "_view_module": "@jupyter-widgets/base",
       "_view_module_version": "1.2.0",
       "_view_name": "StyleView",
       "bar_color": null,
       "description_width": ""
      }
     },
     "12bc26377f7e4cf2bececb89f677cd50": {
      "model_module": "@jupyter-widgets/controls",
      "model_module_version": "1.5.0",
      "model_name": "FloatProgressModel",
      "state": {
       "_dom_classes": [],
       "_model_module": "@jupyter-widgets/controls",
       "_model_module_version": "1.5.0",
       "_model_name": "FloatProgressModel",
       "_view_count": null,
       "_view_module": "@jupyter-widgets/controls",
       "_view_module_version": "1.5.0",
       "_view_name": "ProgressView",
       "bar_style": "success",
       "description": "",
       "description_tooltip": null,
       "layout": "IPY_MODEL_e3691cb6b4db4e7a868de6c255a9a981",
       "max": 541320452.0,
       "min": 0.0,
       "orientation": "horizontal",
       "style": "IPY_MODEL_5c7c78523ab84c55a946ec92b977acd5",
       "value": 541320452.0
      }
     },
     "1545a2d8d9de4c95a8600dbd0095a32d": {
      "model_module": "@jupyter-widgets/controls",
      "model_module_version": "1.5.0",
      "model_name": "HBoxModel",
      "state": {
       "_dom_classes": [],
       "_model_module": "@jupyter-widgets/controls",
       "_model_module_version": "1.5.0",
       "_model_name": "HBoxModel",
       "_view_count": null,
       "_view_module": "@jupyter-widgets/controls",
       "_view_module_version": "1.5.0",
       "_view_name": "HBoxView",
       "box_style": "",
       "children": [
        "IPY_MODEL_9f3d0500e10e45b0a4b2ec4f9e3c50c0",
        "IPY_MODEL_12bc26377f7e4cf2bececb89f677cd50",
        "IPY_MODEL_6b4bc1e5ff4b469fa5453f4bb6163612"
       ],
       "layout": "IPY_MODEL_642a588f4bdd46ff9c395ae284ccbf8e"
      }
     },
     "166b36b24e59461ca6026e8c051ac727": {
      "model_module": "@jupyter-widgets/base",
      "model_module_version": "1.2.0",
      "model_name": "LayoutModel",
      "state": {
       "_model_module": "@jupyter-widgets/base",
       "_model_module_version": "1.2.0",
       "_model_name": "LayoutModel",
       "_view_count": null,
       "_view_module": "@jupyter-widgets/base",
       "_view_module_version": "1.2.0",
       "_view_name": "LayoutView",
       "align_content": null,
       "align_items": null,
       "align_self": null,
       "border": null,
       "bottom": null,
       "display": null,
       "flex": null,
       "flex_flow": null,
       "grid_area": null,
       "grid_auto_columns": null,
       "grid_auto_flow": null,
       "grid_auto_rows": null,
       "grid_column": null,
       "grid_gap": null,
       "grid_row": null,
       "grid_template_areas": null,
       "grid_template_columns": null,
       "grid_template_rows": null,
       "height": null,
       "justify_content": null,
       "justify_items": null,
       "left": null,
       "margin": null,
       "max_height": null,
       "max_width": null,
       "min_height": null,
       "min_width": null,
       "object_fit": null,
       "object_position": null,
       "order": null,
       "overflow": null,
       "overflow_x": null,
       "overflow_y": null,
       "padding": null,
       "right": null,
       "top": null,
       "visibility": null,
       "width": null
      }
     },
     "16893a169d2c409b9a7698cdd9dd8683": {
      "model_module": "@jupyter-widgets/controls",
      "model_module_version": "1.5.0",
      "model_name": "DescriptionStyleModel",
      "state": {
       "_model_module": "@jupyter-widgets/controls",
       "_model_module_version": "1.5.0",
       "_model_name": "DescriptionStyleModel",
       "_view_count": null,
       "_view_module": "@jupyter-widgets/base",
       "_view_module_version": "1.2.0",
       "_view_name": "StyleView",
       "description_width": ""
      }
     },
     "1d5983ff687e4c568d6cf445c2c8bffc": {
      "model_module": "@jupyter-widgets/base",
      "model_module_version": "1.2.0",
      "model_name": "LayoutModel",
      "state": {
       "_model_module": "@jupyter-widgets/base",
       "_model_module_version": "1.2.0",
       "_model_name": "LayoutModel",
       "_view_count": null,
       "_view_module": "@jupyter-widgets/base",
       "_view_module_version": "1.2.0",
       "_view_name": "LayoutView",
       "align_content": null,
       "align_items": null,
       "align_self": null,
       "border": null,
       "bottom": null,
       "display": null,
       "flex": null,
       "flex_flow": null,
       "grid_area": null,
       "grid_auto_columns": null,
       "grid_auto_flow": null,
       "grid_auto_rows": null,
       "grid_column": null,
       "grid_gap": null,
       "grid_row": null,
       "grid_template_areas": null,
       "grid_template_columns": null,
       "grid_template_rows": null,
       "height": null,
       "justify_content": null,
       "justify_items": null,
       "left": null,
       "margin": null,
       "max_height": null,
       "max_width": null,
       "min_height": null,
       "min_width": null,
       "object_fit": null,
       "object_position": null,
       "order": null,
       "overflow": null,
       "overflow_x": null,
       "overflow_y": null,
       "padding": null,
       "right": null,
       "top": null,
       "visibility": null,
       "width": null
      }
     },
     "21a2629dbaed4a33aa0dcb01f3cea7cf": {
      "model_module": "@jupyter-widgets/controls",
      "model_module_version": "1.5.0",
      "model_name": "ProgressStyleModel",
      "state": {
       "_model_module": "@jupyter-widgets/controls",
       "_model_module_version": "1.5.0",
       "_model_name": "ProgressStyleModel",
       "_view_count": null,
       "_view_module": "@jupyter-widgets/base",
       "_view_module_version": "1.2.0",
       "_view_name": "StyleView",
       "bar_color": null,
       "description_width": ""
      }
     },
     "230eea98ac19492685ef1bb4c5b839db": {
      "model_module": "@jupyter-widgets/controls",
      "model_module_version": "1.5.0",
      "model_name": "HTMLModel",
      "state": {
       "_dom_classes": [],
       "_model_module": "@jupyter-widgets/controls",
       "_model_module_version": "1.5.0",
       "_model_name": "HTMLModel",
       "_view_count": null,
       "_view_module": "@jupyter-widgets/controls",
       "_view_module_version": "1.5.0",
       "_view_name": "HTMLView",
       "description": "",
       "description_tooltip": null,
       "layout": "IPY_MODEL_f2017814159e4d9ba7319b4efb8d7cf9",
       "placeholder": "​",
       "style": "IPY_MODEL_87ab8ea6ffde4362bf6484878fe4b149",
       "value": "tokenizer.json: 100%"
      }
     },
     "2677328c77cd42ef93704042bad613ce": {
      "model_module": "@jupyter-widgets/controls",
      "model_module_version": "1.5.0",
      "model_name": "DescriptionStyleModel",
      "state": {
       "_model_module": "@jupyter-widgets/controls",
       "_model_module_version": "1.5.0",
       "_model_name": "DescriptionStyleModel",
       "_view_count": null,
       "_view_module": "@jupyter-widgets/base",
       "_view_module_version": "1.2.0",
       "_view_name": "StyleView",
       "description_width": ""
      }
     },
     "36a85438dbe342c9974520d30185a5e5": {
      "model_module": "@jupyter-widgets/controls",
      "model_module_version": "1.5.0",
      "model_name": "DescriptionStyleModel",
      "state": {
       "_model_module": "@jupyter-widgets/controls",
       "_model_module_version": "1.5.0",
       "_model_name": "DescriptionStyleModel",
       "_view_count": null,
       "_view_module": "@jupyter-widgets/base",
       "_view_module_version": "1.2.0",
       "_view_name": "StyleView",
       "description_width": ""
      }
     },
     "39efdcc3e1e44f3bb8a22a63032a6235": {
      "model_module": "@jupyter-widgets/controls",
      "model_module_version": "1.5.0",
      "model_name": "HTMLModel",
      "state": {
       "_dom_classes": [],
       "_model_module": "@jupyter-widgets/controls",
       "_model_module_version": "1.5.0",
       "_model_name": "HTMLModel",
       "_view_count": null,
       "_view_module": "@jupyter-widgets/controls",
       "_view_module_version": "1.5.0",
       "_view_name": "HTMLView",
       "description": "",
       "description_tooltip": null,
       "layout": "IPY_MODEL_1d5983ff687e4c568d6cf445c2c8bffc",
       "placeholder": "​",
       "style": "IPY_MODEL_36a85438dbe342c9974520d30185a5e5",
       "value": " 2.92M/2.92M [00:00&lt;00:00, 34.2MB/s]"
      }
     },
     "4334ea879bd64810b8d9e8c28469670c": {
      "model_module": "@jupyter-widgets/controls",
      "model_module_version": "1.5.0",
      "model_name": "HBoxModel",
      "state": {
       "_dom_classes": [],
       "_model_module": "@jupyter-widgets/controls",
       "_model_module_version": "1.5.0",
       "_model_name": "HBoxModel",
       "_view_count": null,
       "_view_module": "@jupyter-widgets/controls",
       "_view_module_version": "1.5.0",
       "_view_name": "HBoxView",
       "box_style": "",
       "children": [
        "IPY_MODEL_c8e08f3cffa94d04862863722d6fad37",
        "IPY_MODEL_6cce57ed9a644a19b8585e0640f3d42e",
        "IPY_MODEL_463cb438f9d2495da4b242570471f42c"
       ],
       "layout": "IPY_MODEL_b1cdf7c93f5343b69e8f29b51c9a17a9"
      }
     },
     "463cb438f9d2495da4b242570471f42c": {
      "model_module": "@jupyter-widgets/controls",
      "model_module_version": "1.5.0",
      "model_name": "HTMLModel",
      "state": {
       "_dom_classes": [],
       "_model_module": "@jupyter-widgets/controls",
       "_model_module_version": "1.5.0",
       "_model_name": "HTMLModel",
       "_view_count": null,
       "_view_module": "@jupyter-widgets/controls",
       "_view_module_version": "1.5.0",
       "_view_name": "HTMLView",
       "description": "",
       "description_tooltip": null,
       "layout": "IPY_MODEL_716d6910e03a4e2fb5e9d836da946b9d",
       "placeholder": "​",
       "style": "IPY_MODEL_ad778afd5c5e46f6acdae93975fc750d",
       "value": " 125/125 [00:00&lt;00:00, 11.6kB/s]"
      }
     },
     "4698771fd1d540679b4c01d1b2358324": {
      "model_module": "@jupyter-widgets/controls",
      "model_module_version": "1.5.0",
      "model_name": "HTMLModel",
      "state": {
       "_dom_classes": [],
       "_model_module": "@jupyter-widgets/controls",
       "_model_module_version": "1.5.0",
       "_model_name": "HTMLModel",
       "_view_count": null,
       "_view_module": "@jupyter-widgets/controls",
       "_view_module_version": "1.5.0",
       "_view_name": "HTMLView",
       "description": "",
       "description_tooltip": null,
       "layout": "IPY_MODEL_8b37006b3c894cb7b4c864a0938ce964",
       "placeholder": "​",
       "style": "IPY_MODEL_f198191865c54b2abce7b22969c75ac0",
       "value": "vocab.txt: 100%"
      }
     },
     "46ba219c60ec49829c524369dbb9ae42": {
      "model_module": "@jupyter-widgets/base",
      "model_module_version": "1.2.0",
      "model_name": "LayoutModel",
      "state": {
       "_model_module": "@jupyter-widgets/base",
       "_model_module_version": "1.2.0",
       "_model_name": "LayoutModel",
       "_view_count": null,
       "_view_module": "@jupyter-widgets/base",
       "_view_module_version": "1.2.0",
       "_view_name": "LayoutView",
       "align_content": null,
       "align_items": null,
       "align_self": null,
       "border": null,
       "bottom": null,
       "display": null,
       "flex": null,
       "flex_flow": null,
       "grid_area": null,
       "grid_auto_columns": null,
       "grid_auto_flow": null,
       "grid_auto_rows": null,
       "grid_column": null,
       "grid_gap": null,
       "grid_row": null,
       "grid_template_areas": null,
       "grid_template_columns": null,
       "grid_template_rows": null,
       "height": null,
       "justify_content": null,
       "justify_items": null,
       "left": null,
       "margin": null,
       "max_height": null,
       "max_width": null,
       "min_height": null,
       "min_width": null,
       "object_fit": null,
       "object_position": null,
       "order": null,
       "overflow": null,
       "overflow_x": null,
       "overflow_y": null,
       "padding": null,
       "right": null,
       "top": null,
       "visibility": null,
       "width": null
      }
     },
     "46d2ed0d2951424088b87a4ccdb6d515": {
      "model_module": "@jupyter-widgets/controls",
      "model_module_version": "1.5.0",
      "model_name": "FloatProgressModel",
      "state": {
       "_dom_classes": [],
       "_model_module": "@jupyter-widgets/controls",
       "_model_module_version": "1.5.0",
       "_model_name": "FloatProgressModel",
       "_view_count": null,
       "_view_module": "@jupyter-widgets/controls",
       "_view_module_version": "1.5.0",
       "_view_name": "ProgressView",
       "bar_style": "success",
       "description": "",
       "description_tooltip": null,
       "layout": "IPY_MODEL_e92c4c12a9c640e88573e1b54efebc1b",
       "max": 373.0,
       "min": 0.0,
       "orientation": "horizontal",
       "style": "IPY_MODEL_d5b509ba831e4affb05fd59c960aa5df",
       "value": 373.0
      }
     },
     "474451fd118e4ca688285f875ff01847": {
      "model_module": "@jupyter-widgets/controls",
      "model_module_version": "1.5.0",
      "model_name": "HBoxModel",
      "state": {
       "_dom_classes": [],
       "_model_module": "@jupyter-widgets/controls",
       "_model_module_version": "1.5.0",
       "_model_name": "HBoxModel",
       "_view_count": null,
       "_view_module": "@jupyter-widgets/controls",
       "_view_module_version": "1.5.0",
       "_view_name": "HBoxView",
       "box_style": "",
       "children": [
        "IPY_MODEL_a5d6a188d2db44af8134c76fb43eb41a",
        "IPY_MODEL_46d2ed0d2951424088b87a4ccdb6d515",
        "IPY_MODEL_c42b191d080141248ec2fe7c94f246ca"
       ],
       "layout": "IPY_MODEL_0a0d0a9491b7459489374e2196f23bdd"
      }
     },
     "530580432478469d9837be4ef1e14954": {
      "model_module": "@jupyter-widgets/controls",
      "model_module_version": "1.5.0",
      "model_name": "FloatProgressModel",
      "state": {
       "_dom_classes": [],
       "_model_module": "@jupyter-widgets/controls",
       "_model_module_version": "1.5.0",
       "_model_name": "FloatProgressModel",
       "_view_count": null,
       "_view_module": "@jupyter-widgets/controls",
       "_view_module_version": "1.5.0",
       "_view_name": "ProgressView",
       "bar_style": "success",
       "description": "",
       "description_tooltip": null,
       "layout": "IPY_MODEL_562cdcfbc8b443cfb1a374e6ed11b66f",
       "max": 2919615.0,
       "min": 0.0,
       "orientation": "horizontal",
       "style": "IPY_MODEL_113bdfd675524613b3e7c3776c413eb5",
       "value": 2919615.0
      }
     },
     "534c4bdbedcc44a78f1126e14b3e4794": {
      "model_module": "@jupyter-widgets/controls",
      "model_module_version": "1.5.0",
      "model_name": "DescriptionStyleModel",
      "state": {
       "_model_module": "@jupyter-widgets/controls",
       "_model_module_version": "1.5.0",
       "_model_name": "DescriptionStyleModel",
       "_view_count": null,
       "_view_module": "@jupyter-widgets/base",
       "_view_module_version": "1.2.0",
       "_view_name": "StyleView",
       "description_width": ""
      }
     },
     "54d56662358a4c90820172bb69a597de": {
      "model_module": "@jupyter-widgets/base",
      "model_module_version": "1.2.0",
      "model_name": "LayoutModel",
      "state": {
       "_model_module": "@jupyter-widgets/base",
       "_model_module_version": "1.2.0",
       "_model_name": "LayoutModel",
       "_view_count": null,
       "_view_module": "@jupyter-widgets/base",
       "_view_module_version": "1.2.0",
       "_view_name": "LayoutView",
       "align_content": null,
       "align_items": null,
       "align_self": null,
       "border": null,
       "bottom": null,
       "display": null,
       "flex": null,
       "flex_flow": null,
       "grid_area": null,
       "grid_auto_columns": null,
       "grid_auto_flow": null,
       "grid_auto_rows": null,
       "grid_column": null,
       "grid_gap": null,
       "grid_row": null,
       "grid_template_areas": null,
       "grid_template_columns": null,
       "grid_template_rows": null,
       "height": null,
       "justify_content": null,
       "justify_items": null,
       "left": null,
       "margin": null,
       "max_height": null,
       "max_width": null,
       "min_height": null,
       "min_width": null,
       "object_fit": null,
       "object_position": null,
       "order": null,
       "overflow": null,
       "overflow_x": null,
       "overflow_y": null,
       "padding": null,
       "right": null,
       "top": null,
       "visibility": null,
       "width": null
      }
     },
     "562cdcfbc8b443cfb1a374e6ed11b66f": {
      "model_module": "@jupyter-widgets/base",
      "model_module_version": "1.2.0",
      "model_name": "LayoutModel",
      "state": {
       "_model_module": "@jupyter-widgets/base",
       "_model_module_version": "1.2.0",
       "_model_name": "LayoutModel",
       "_view_count": null,
       "_view_module": "@jupyter-widgets/base",
       "_view_module_version": "1.2.0",
       "_view_name": "LayoutView",
       "align_content": null,
       "align_items": null,
       "align_self": null,
       "border": null,
       "bottom": null,
       "display": null,
       "flex": null,
       "flex_flow": null,
       "grid_area": null,
       "grid_auto_columns": null,
       "grid_auto_flow": null,
       "grid_auto_rows": null,
       "grid_column": null,
       "grid_gap": null,
       "grid_row": null,
       "grid_template_areas": null,
       "grid_template_columns": null,
       "grid_template_rows": null,
       "height": null,
       "justify_content": null,
       "justify_items": null,
       "left": null,
       "margin": null,
       "max_height": null,
       "max_width": null,
       "min_height": null,
       "min_width": null,
       "object_fit": null,
       "object_position": null,
       "order": null,
       "overflow": null,
       "overflow_x": null,
       "overflow_y": null,
       "padding": null,
       "right": null,
       "top": null,
       "visibility": null,
       "width": null
      }
     },
     "5681991b92944ddfb219f06f9b424209": {
      "model_module": "@jupyter-widgets/controls",
      "model_module_version": "1.5.0",
      "model_name": "ProgressStyleModel",
      "state": {
       "_model_module": "@jupyter-widgets/controls",
       "_model_module_version": "1.5.0",
       "_model_name": "ProgressStyleModel",
       "_view_count": null,
       "_view_module": "@jupyter-widgets/base",
       "_view_module_version": "1.2.0",
       "_view_name": "StyleView",
       "bar_color": null,
       "description_width": ""
      }
     },
     "58303f910cbd46f083e3298d95075477": {
      "model_module": "@jupyter-widgets/base",
      "model_module_version": "1.2.0",
      "model_name": "LayoutModel",
      "state": {
       "_model_module": "@jupyter-widgets/base",
       "_model_module_version": "1.2.0",
       "_model_name": "LayoutModel",
       "_view_count": null,
       "_view_module": "@jupyter-widgets/base",
       "_view_module_version": "1.2.0",
       "_view_name": "LayoutView",
       "align_content": null,
       "align_items": null,
       "align_self": null,
       "border": null,
       "bottom": null,
       "display": null,
       "flex": null,
       "flex_flow": null,
       "grid_area": null,
       "grid_auto_columns": null,
       "grid_auto_flow": null,
       "grid_auto_rows": null,
       "grid_column": null,
       "grid_gap": null,
       "grid_row": null,
       "grid_template_areas": null,
       "grid_template_columns": null,
       "grid_template_rows": null,
       "height": null,
       "justify_content": null,
       "justify_items": null,
       "left": null,
       "margin": null,
       "max_height": null,
       "max_width": null,
       "min_height": null,
       "min_width": null,
       "object_fit": null,
       "object_position": null,
       "order": null,
       "overflow": null,
       "overflow_x": null,
       "overflow_y": null,
       "padding": null,
       "right": null,
       "top": null,
       "visibility": null,
       "width": null
      }
     },
     "5c7c78523ab84c55a946ec92b977acd5": {
      "model_module": "@jupyter-widgets/controls",
      "model_module_version": "1.5.0",
      "model_name": "ProgressStyleModel",
      "state": {
       "_model_module": "@jupyter-widgets/controls",
       "_model_module_version": "1.5.0",
       "_model_name": "ProgressStyleModel",
       "_view_count": null,
       "_view_module": "@jupyter-widgets/base",
       "_view_module_version": "1.2.0",
       "_view_name": "StyleView",
       "bar_color": null,
       "description_width": ""
      }
     },
     "5ddabd4417044139887c40b3a32d3041": {
      "model_module": "@jupyter-widgets/base",
      "model_module_version": "1.2.0",
      "model_name": "LayoutModel",
      "state": {
       "_model_module": "@jupyter-widgets/base",
       "_model_module_version": "1.2.0",
       "_model_name": "LayoutModel",
       "_view_count": null,
       "_view_module": "@jupyter-widgets/base",
       "_view_module_version": "1.2.0",
       "_view_name": "LayoutView",
       "align_content": null,
       "align_items": null,
       "align_self": null,
       "border": null,
       "bottom": null,
       "display": null,
       "flex": null,
       "flex_flow": null,
       "grid_area": null,
       "grid_auto_columns": null,
       "grid_auto_flow": null,
       "grid_auto_rows": null,
       "grid_column": null,
       "grid_gap": null,
       "grid_row": null,
       "grid_template_areas": null,
       "grid_template_columns": null,
       "grid_template_rows": null,
       "height": null,
       "justify_content": null,
       "justify_items": null,
       "left": null,
       "margin": null,
       "max_height": null,
       "max_width": null,
       "min_height": null,
       "min_width": null,
       "object_fit": null,
       "object_position": null,
       "order": null,
       "overflow": null,
       "overflow_x": null,
       "overflow_y": null,
       "padding": null,
       "right": null,
       "top": null,
       "visibility": null,
       "width": null
      }
     },
     "5e536c97b35c49238063505b958845f4": {
      "model_module": "@jupyter-widgets/controls",
      "model_module_version": "1.5.0",
      "model_name": "HBoxModel",
      "state": {
       "_dom_classes": [],
       "_model_module": "@jupyter-widgets/controls",
       "_model_module_version": "1.5.0",
       "_model_name": "HBoxModel",
       "_view_count": null,
       "_view_module": "@jupyter-widgets/controls",
       "_view_module_version": "1.5.0",
       "_view_name": "HBoxView",
       "box_style": "",
       "children": [
        "IPY_MODEL_4698771fd1d540679b4c01d1b2358324",
        "IPY_MODEL_b8f5f75796744e6989d09e1db97ef091",
        "IPY_MODEL_05fb15f7960349bfa0daa35970882f04"
       ],
       "layout": "IPY_MODEL_46ba219c60ec49829c524369dbb9ae42"
      }
     },
     "6050383742c7419687d398f40a2ae91e": {
      "model_module": "@jupyter-widgets/base",
      "model_module_version": "1.2.0",
      "model_name": "LayoutModel",
      "state": {
       "_model_module": "@jupyter-widgets/base",
       "_model_module_version": "1.2.0",
       "_model_name": "LayoutModel",
       "_view_count": null,
       "_view_module": "@jupyter-widgets/base",
       "_view_module_version": "1.2.0",
       "_view_name": "LayoutView",
       "align_content": null,
       "align_items": null,
       "align_self": null,
       "border": null,
       "bottom": null,
       "display": null,
       "flex": null,
       "flex_flow": null,
       "grid_area": null,
       "grid_auto_columns": null,
       "grid_auto_flow": null,
       "grid_auto_rows": null,
       "grid_column": null,
       "grid_gap": null,
       "grid_row": null,
       "grid_template_areas": null,
       "grid_template_columns": null,
       "grid_template_rows": null,
       "height": null,
       "justify_content": null,
       "justify_items": null,
       "left": null,
       "margin": null,
       "max_height": null,
       "max_width": null,
       "min_height": null,
       "min_width": null,
       "object_fit": null,
       "object_position": null,
       "order": null,
       "overflow": null,
       "overflow_x": null,
       "overflow_y": null,
       "padding": null,
       "right": null,
       "top": null,
       "visibility": null,
       "width": null
      }
     },
     "642a588f4bdd46ff9c395ae284ccbf8e": {
      "model_module": "@jupyter-widgets/base",
      "model_module_version": "1.2.0",
      "model_name": "LayoutModel",
      "state": {
       "_model_module": "@jupyter-widgets/base",
       "_model_module_version": "1.2.0",
       "_model_name": "LayoutModel",
       "_view_count": null,
       "_view_module": "@jupyter-widgets/base",
       "_view_module_version": "1.2.0",
       "_view_name": "LayoutView",
       "align_content": null,
       "align_items": null,
       "align_self": null,
       "border": null,
       "bottom": null,
       "display": null,
       "flex": null,
       "flex_flow": null,
       "grid_area": null,
       "grid_auto_columns": null,
       "grid_auto_flow": null,
       "grid_auto_rows": null,
       "grid_column": null,
       "grid_gap": null,
       "grid_row": null,
       "grid_template_areas": null,
       "grid_template_columns": null,
       "grid_template_rows": null,
       "height": null,
       "justify_content": null,
       "justify_items": null,
       "left": null,
       "margin": null,
       "max_height": null,
       "max_width": null,
       "min_height": null,
       "min_width": null,
       "object_fit": null,
       "object_position": null,
       "order": null,
       "overflow": null,
       "overflow_x": null,
       "overflow_y": null,
       "padding": null,
       "right": null,
       "top": null,
       "visibility": null,
       "width": null
      }
     },
     "642a9e7490f74d96930d5b7d50fe75ca": {
      "model_module": "@jupyter-widgets/base",
      "model_module_version": "1.2.0",
      "model_name": "LayoutModel",
      "state": {
       "_model_module": "@jupyter-widgets/base",
       "_model_module_version": "1.2.0",
       "_model_name": "LayoutModel",
       "_view_count": null,
       "_view_module": "@jupyter-widgets/base",
       "_view_module_version": "1.2.0",
       "_view_name": "LayoutView",
       "align_content": null,
       "align_items": null,
       "align_self": null,
       "border": null,
       "bottom": null,
       "display": null,
       "flex": null,
       "flex_flow": null,
       "grid_area": null,
       "grid_auto_columns": null,
       "grid_auto_flow": null,
       "grid_auto_rows": null,
       "grid_column": null,
       "grid_gap": null,
       "grid_row": null,
       "grid_template_areas": null,
       "grid_template_columns": null,
       "grid_template_rows": null,
       "height": null,
       "justify_content": null,
       "justify_items": null,
       "left": null,
       "margin": null,
       "max_height": null,
       "max_width": null,
       "min_height": null,
       "min_width": null,
       "object_fit": null,
       "object_position": null,
       "order": null,
       "overflow": null,
       "overflow_x": null,
       "overflow_y": null,
       "padding": null,
       "right": null,
       "top": null,
       "visibility": null,
       "width": null
      }
     },
     "6b4bc1e5ff4b469fa5453f4bb6163612": {
      "model_module": "@jupyter-widgets/controls",
      "model_module_version": "1.5.0",
      "model_name": "HTMLModel",
      "state": {
       "_dom_classes": [],
       "_model_module": "@jupyter-widgets/controls",
       "_model_module_version": "1.5.0",
       "_model_name": "HTMLModel",
       "_view_count": null,
       "_view_module": "@jupyter-widgets/controls",
       "_view_module_version": "1.5.0",
       "_view_name": "HTMLView",
       "description": "",
       "description_tooltip": null,
       "layout": "IPY_MODEL_58303f910cbd46f083e3298d95075477",
       "placeholder": "​",
       "style": "IPY_MODEL_16893a169d2c409b9a7698cdd9dd8683",
       "value": " 541M/541M [00:02&lt;00:00, 215MB/s]"
      }
     },
     "6cce57ed9a644a19b8585e0640f3d42e": {
      "model_module": "@jupyter-widgets/controls",
      "model_module_version": "1.5.0",
      "model_name": "FloatProgressModel",
      "state": {
       "_dom_classes": [],
       "_model_module": "@jupyter-widgets/controls",
       "_model_module_version": "1.5.0",
       "_model_name": "FloatProgressModel",
       "_view_count": null,
       "_view_module": "@jupyter-widgets/controls",
       "_view_module_version": "1.5.0",
       "_view_name": "ProgressView",
       "bar_style": "success",
       "description": "",
       "description_tooltip": null,
       "layout": "IPY_MODEL_994ccaedb5f740b1a2a51733778d57ef",
       "max": 125.0,
       "min": 0.0,
       "orientation": "horizontal",
       "style": "IPY_MODEL_cfd68f6c6be343098cfafc68b59d7a20",
       "value": 125.0
      }
     },
     "716d6910e03a4e2fb5e9d836da946b9d": {
      "model_module": "@jupyter-widgets/base",
      "model_module_version": "1.2.0",
      "model_name": "LayoutModel",
      "state": {
       "_model_module": "@jupyter-widgets/base",
       "_model_module_version": "1.2.0",
       "_model_name": "LayoutModel",
       "_view_count": null,
       "_view_module": "@jupyter-widgets/base",
       "_view_module_version": "1.2.0",
       "_view_name": "LayoutView",
       "align_content": null,
       "align_items": null,
       "align_self": null,
       "border": null,
       "bottom": null,
       "display": null,
       "flex": null,
       "flex_flow": null,
       "grid_area": null,
       "grid_auto_columns": null,
       "grid_auto_flow": null,
       "grid_auto_rows": null,
       "grid_column": null,
       "grid_gap": null,
       "grid_row": null,
       "grid_template_areas": null,
       "grid_template_columns": null,
       "grid_template_rows": null,
       "height": null,
       "justify_content": null,
       "justify_items": null,
       "left": null,
       "margin": null,
       "max_height": null,
       "max_width": null,
       "min_height": null,
       "min_width": null,
       "object_fit": null,
       "object_position": null,
       "order": null,
       "overflow": null,
       "overflow_x": null,
       "overflow_y": null,
       "padding": null,
       "right": null,
       "top": null,
       "visibility": null,
       "width": null
      }
     },
     "767c08e803ad4df0a65bcbf28822e401": {
      "model_module": "@jupyter-widgets/controls",
      "model_module_version": "1.5.0",
      "model_name": "HBoxModel",
      "state": {
       "_dom_classes": [],
       "_model_module": "@jupyter-widgets/controls",
       "_model_module_version": "1.5.0",
       "_model_name": "HBoxModel",
       "_view_count": null,
       "_view_module": "@jupyter-widgets/controls",
       "_view_module_version": "1.5.0",
       "_view_name": "HBoxView",
       "box_style": "",
       "children": [
        "IPY_MODEL_230eea98ac19492685ef1bb4c5b839db",
        "IPY_MODEL_530580432478469d9837be4ef1e14954",
        "IPY_MODEL_39efdcc3e1e44f3bb8a22a63032a6235"
       ],
       "layout": "IPY_MODEL_f5e6a36e299e49bc9d58d3944cb2eabc"
      }
     },
     "7c12cebc2d9c4607a53a5cb94f208d86": {
      "model_module": "@jupyter-widgets/controls",
      "model_module_version": "1.5.0",
      "model_name": "DescriptionStyleModel",
      "state": {
       "_model_module": "@jupyter-widgets/controls",
       "_model_module_version": "1.5.0",
       "_model_name": "DescriptionStyleModel",
       "_view_count": null,
       "_view_module": "@jupyter-widgets/base",
       "_view_module_version": "1.2.0",
       "_view_name": "StyleView",
       "description_width": ""
      }
     },
     "7e7226ca5cb343c0955d537417b9432f": {
      "model_module": "@jupyter-widgets/controls",
      "model_module_version": "1.5.0",
      "model_name": "HBoxModel",
      "state": {
       "_dom_classes": [],
       "_model_module": "@jupyter-widgets/controls",
       "_model_module_version": "1.5.0",
       "_model_name": "HBoxModel",
       "_view_count": null,
       "_view_module": "@jupyter-widgets/controls",
       "_view_module_version": "1.5.0",
       "_view_name": "HBoxView",
       "box_style": "",
       "children": [
        "IPY_MODEL_d4d949a1aa4b498682f4b046d03a360c",
        "IPY_MODEL_f91cffb1ee244cbd85a3e2f5683449d9",
        "IPY_MODEL_b87ab0d3d0e64791a85e173cce4d7b6c"
       ],
       "layout": "IPY_MODEL_eccb0f6090c24aa59cefc1791acb60aa"
      }
     },
     "87ab8ea6ffde4362bf6484878fe4b149": {
      "model_module": "@jupyter-widgets/controls",
      "model_module_version": "1.5.0",
      "model_name": "DescriptionStyleModel",
      "state": {
       "_model_module": "@jupyter-widgets/controls",
       "_model_module_version": "1.5.0",
       "_model_name": "DescriptionStyleModel",
       "_view_count": null,
       "_view_module": "@jupyter-widgets/base",
       "_view_module_version": "1.2.0",
       "_view_name": "StyleView",
       "description_width": ""
      }
     },
     "8b37006b3c894cb7b4c864a0938ce964": {
      "model_module": "@jupyter-widgets/base",
      "model_module_version": "1.2.0",
      "model_name": "LayoutModel",
      "state": {
       "_model_module": "@jupyter-widgets/base",
       "_model_module_version": "1.2.0",
       "_model_name": "LayoutModel",
       "_view_count": null,
       "_view_module": "@jupyter-widgets/base",
       "_view_module_version": "1.2.0",
       "_view_name": "LayoutView",
       "align_content": null,
       "align_items": null,
       "align_self": null,
       "border": null,
       "bottom": null,
       "display": null,
       "flex": null,
       "flex_flow": null,
       "grid_area": null,
       "grid_auto_columns": null,
       "grid_auto_flow": null,
       "grid_auto_rows": null,
       "grid_column": null,
       "grid_gap": null,
       "grid_row": null,
       "grid_template_areas": null,
       "grid_template_columns": null,
       "grid_template_rows": null,
       "height": null,
       "justify_content": null,
       "justify_items": null,
       "left": null,
       "margin": null,
       "max_height": null,
       "max_width": null,
       "min_height": null,
       "min_width": null,
       "object_fit": null,
       "object_position": null,
       "order": null,
       "overflow": null,
       "overflow_x": null,
       "overflow_y": null,
       "padding": null,
       "right": null,
       "top": null,
       "visibility": null,
       "width": null
      }
     },
     "994ccaedb5f740b1a2a51733778d57ef": {
      "model_module": "@jupyter-widgets/base",
      "model_module_version": "1.2.0",
      "model_name": "LayoutModel",
      "state": {
       "_model_module": "@jupyter-widgets/base",
       "_model_module_version": "1.2.0",
       "_model_name": "LayoutModel",
       "_view_count": null,
       "_view_module": "@jupyter-widgets/base",
       "_view_module_version": "1.2.0",
       "_view_name": "LayoutView",
       "align_content": null,
       "align_items": null,
       "align_self": null,
       "border": null,
       "bottom": null,
       "display": null,
       "flex": null,
       "flex_flow": null,
       "grid_area": null,
       "grid_auto_columns": null,
       "grid_auto_flow": null,
       "grid_auto_rows": null,
       "grid_column": null,
       "grid_gap": null,
       "grid_row": null,
       "grid_template_areas": null,
       "grid_template_columns": null,
       "grid_template_rows": null,
       "height": null,
       "justify_content": null,
       "justify_items": null,
       "left": null,
       "margin": null,
       "max_height": null,
       "max_width": null,
       "min_height": null,
       "min_width": null,
       "object_fit": null,
       "object_position": null,
       "order": null,
       "overflow": null,
       "overflow_x": null,
       "overflow_y": null,
       "padding": null,
       "right": null,
       "top": null,
       "visibility": null,
       "width": null
      }
     },
     "9f3d0500e10e45b0a4b2ec4f9e3c50c0": {
      "model_module": "@jupyter-widgets/controls",
      "model_module_version": "1.5.0",
      "model_name": "HTMLModel",
      "state": {
       "_dom_classes": [],
       "_model_module": "@jupyter-widgets/controls",
       "_model_module_version": "1.5.0",
       "_model_name": "HTMLModel",
       "_view_count": null,
       "_view_module": "@jupyter-widgets/controls",
       "_view_module_version": "1.5.0",
       "_view_name": "HTMLView",
       "description": "",
       "description_tooltip": null,
       "layout": "IPY_MODEL_b8b5bed69c1249f88099fd0cacf8312b",
       "placeholder": "​",
       "style": "IPY_MODEL_a3c9468a55e344268fc7cc5fda8ff95b",
       "value": "model.safetensors: 100%"
      }
     },
     "a3c9468a55e344268fc7cc5fda8ff95b": {
      "model_module": "@jupyter-widgets/controls",
      "model_module_version": "1.5.0",
      "model_name": "DescriptionStyleModel",
      "state": {
       "_model_module": "@jupyter-widgets/controls",
       "_model_module_version": "1.5.0",
       "_model_name": "DescriptionStyleModel",
       "_view_count": null,
       "_view_module": "@jupyter-widgets/base",
       "_view_module_version": "1.2.0",
       "_view_name": "StyleView",
       "description_width": ""
      }
     },
     "a43a7d8ed70d4e6a958eaa16d1c946a9": {
      "model_module": "@jupyter-widgets/base",
      "model_module_version": "1.2.0",
      "model_name": "LayoutModel",
      "state": {
       "_model_module": "@jupyter-widgets/base",
       "_model_module_version": "1.2.0",
       "_model_name": "LayoutModel",
       "_view_count": null,
       "_view_module": "@jupyter-widgets/base",
       "_view_module_version": "1.2.0",
       "_view_name": "LayoutView",
       "align_content": null,
       "align_items": null,
       "align_self": null,
       "border": null,
       "bottom": null,
       "display": null,
       "flex": null,
       "flex_flow": null,
       "grid_area": null,
       "grid_auto_columns": null,
       "grid_auto_flow": null,
       "grid_auto_rows": null,
       "grid_column": null,
       "grid_gap": null,
       "grid_row": null,
       "grid_template_areas": null,
       "grid_template_columns": null,
       "grid_template_rows": null,
       "height": null,
       "justify_content": null,
       "justify_items": null,
       "left": null,
       "margin": null,
       "max_height": null,
       "max_width": null,
       "min_height": null,
       "min_width": null,
       "object_fit": null,
       "object_position": null,
       "order": null,
       "overflow": null,
       "overflow_x": null,
       "overflow_y": null,
       "padding": null,
       "right": null,
       "top": null,
       "visibility": null,
       "width": null
      }
     },
     "a5d6a188d2db44af8134c76fb43eb41a": {
      "model_module": "@jupyter-widgets/controls",
      "model_module_version": "1.5.0",
      "model_name": "HTMLModel",
      "state": {
       "_dom_classes": [],
       "_model_module": "@jupyter-widgets/controls",
       "_model_module_version": "1.5.0",
       "_model_name": "HTMLModel",
       "_view_count": null,
       "_view_module": "@jupyter-widgets/controls",
       "_view_module_version": "1.5.0",
       "_view_name": "HTMLView",
       "description": "",
       "description_tooltip": null,
       "layout": "IPY_MODEL_a43a7d8ed70d4e6a958eaa16d1c946a9",
       "placeholder": "​",
       "style": "IPY_MODEL_2677328c77cd42ef93704042bad613ce",
       "value": "tokenizer_config.json: 100%"
      }
     },
     "ad778afd5c5e46f6acdae93975fc750d": {
      "model_module": "@jupyter-widgets/controls",
      "model_module_version": "1.5.0",
      "model_name": "DescriptionStyleModel",
      "state": {
       "_model_module": "@jupyter-widgets/controls",
       "_model_module_version": "1.5.0",
       "_model_name": "DescriptionStyleModel",
       "_view_count": null,
       "_view_module": "@jupyter-widgets/base",
       "_view_module_version": "1.2.0",
       "_view_name": "StyleView",
       "description_width": ""
      }
     },
     "b1cdf7c93f5343b69e8f29b51c9a17a9": {
      "model_module": "@jupyter-widgets/base",
      "model_module_version": "1.2.0",
      "model_name": "LayoutModel",
      "state": {
       "_model_module": "@jupyter-widgets/base",
       "_model_module_version": "1.2.0",
       "_model_name": "LayoutModel",
       "_view_count": null,
       "_view_module": "@jupyter-widgets/base",
       "_view_module_version": "1.2.0",
       "_view_name": "LayoutView",
       "align_content": null,
       "align_items": null,
       "align_self": null,
       "border": null,
       "bottom": null,
       "display": null,
       "flex": null,
       "flex_flow": null,
       "grid_area": null,
       "grid_auto_columns": null,
       "grid_auto_flow": null,
       "grid_auto_rows": null,
       "grid_column": null,
       "grid_gap": null,
       "grid_row": null,
       "grid_template_areas": null,
       "grid_template_columns": null,
       "grid_template_rows": null,
       "height": null,
       "justify_content": null,
       "justify_items": null,
       "left": null,
       "margin": null,
       "max_height": null,
       "max_width": null,
       "min_height": null,
       "min_width": null,
       "object_fit": null,
       "object_position": null,
       "order": null,
       "overflow": null,
       "overflow_x": null,
       "overflow_y": null,
       "padding": null,
       "right": null,
       "top": null,
       "visibility": null,
       "width": null
      }
     },
     "b87ab0d3d0e64791a85e173cce4d7b6c": {
      "model_module": "@jupyter-widgets/controls",
      "model_module_version": "1.5.0",
      "model_name": "HTMLModel",
      "state": {
       "_dom_classes": [],
       "_model_module": "@jupyter-widgets/controls",
       "_model_module_version": "1.5.0",
       "_model_name": "HTMLModel",
       "_view_count": null,
       "_view_module": "@jupyter-widgets/controls",
       "_view_module_version": "1.5.0",
       "_view_name": "HTMLView",
       "description": "",
       "description_tooltip": null,
       "layout": "IPY_MODEL_d097b46a3804453ba5873698e0bf6e23",
       "placeholder": "​",
       "style": "IPY_MODEL_d716f165f2e04a6898d46273f9167456",
       "value": " 759/759 [00:00&lt;00:00, 59.3kB/s]"
      }
     },
     "b8b5bed69c1249f88099fd0cacf8312b": {
      "model_module": "@jupyter-widgets/base",
      "model_module_version": "1.2.0",
      "model_name": "LayoutModel",
      "state": {
       "_model_module": "@jupyter-widgets/base",
       "_model_module_version": "1.2.0",
       "_model_name": "LayoutModel",
       "_view_count": null,
       "_view_module": "@jupyter-widgets/base",
       "_view_module_version": "1.2.0",
       "_view_name": "LayoutView",
       "align_content": null,
       "align_items": null,
       "align_self": null,
       "border": null,
       "bottom": null,
       "display": null,
       "flex": null,
       "flex_flow": null,
       "grid_area": null,
       "grid_auto_columns": null,
       "grid_auto_flow": null,
       "grid_auto_rows": null,
       "grid_column": null,
       "grid_gap": null,
       "grid_row": null,
       "grid_template_areas": null,
       "grid_template_columns": null,
       "grid_template_rows": null,
       "height": null,
       "justify_content": null,
       "justify_items": null,
       "left": null,
       "margin": null,
       "max_height": null,
       "max_width": null,
       "min_height": null,
       "min_width": null,
       "object_fit": null,
       "object_position": null,
       "order": null,
       "overflow": null,
       "overflow_x": null,
       "overflow_y": null,
       "padding": null,
       "right": null,
       "top": null,
       "visibility": null,
       "width": null
      }
     },
     "b8f5f75796744e6989d09e1db97ef091": {
      "model_module": "@jupyter-widgets/controls",
      "model_module_version": "1.5.0",
      "model_name": "FloatProgressModel",
      "state": {
       "_dom_classes": [],
       "_model_module": "@jupyter-widgets/controls",
       "_model_module_version": "1.5.0",
       "_model_name": "FloatProgressModel",
       "_view_count": null,
       "_view_module": "@jupyter-widgets/controls",
       "_view_module_version": "1.5.0",
       "_view_name": "ProgressView",
       "bar_style": "success",
       "description": "",
       "description_tooltip": null,
       "layout": "IPY_MODEL_bdd0ad8f843349a8a469fd4011e172d4",
       "max": 995526.0,
       "min": 0.0,
       "orientation": "horizontal",
       "style": "IPY_MODEL_5681991b92944ddfb219f06f9b424209",
       "value": 995526.0
      }
     },
     "bdd0ad8f843349a8a469fd4011e172d4": {
      "model_module": "@jupyter-widgets/base",
      "model_module_version": "1.2.0",
      "model_name": "LayoutModel",
      "state": {
       "_model_module": "@jupyter-widgets/base",
       "_model_module_version": "1.2.0",
       "_model_name": "LayoutModel",
       "_view_count": null,
       "_view_module": "@jupyter-widgets/base",
       "_view_module_version": "1.2.0",
       "_view_name": "LayoutView",
       "align_content": null,
       "align_items": null,
       "align_self": null,
       "border": null,
       "bottom": null,
       "display": null,
       "flex": null,
       "flex_flow": null,
       "grid_area": null,
       "grid_auto_columns": null,
       "grid_auto_flow": null,
       "grid_auto_rows": null,
       "grid_column": null,
       "grid_gap": null,
       "grid_row": null,
       "grid_template_areas": null,
       "grid_template_columns": null,
       "grid_template_rows": null,
       "height": null,
       "justify_content": null,
       "justify_items": null,
       "left": null,
       "margin": null,
       "max_height": null,
       "max_width": null,
       "min_height": null,
       "min_width": null,
       "object_fit": null,
       "object_position": null,
       "order": null,
       "overflow": null,
       "overflow_x": null,
       "overflow_y": null,
       "padding": null,
       "right": null,
       "top": null,
       "visibility": null,
       "width": null
      }
     },
     "bebdd5cd36ea4cb2921cd3102a257247": {
      "model_module": "@jupyter-widgets/controls",
      "model_module_version": "1.5.0",
      "model_name": "DescriptionStyleModel",
      "state": {
       "_model_module": "@jupyter-widgets/controls",
       "_model_module_version": "1.5.0",
       "_model_name": "DescriptionStyleModel",
       "_view_count": null,
       "_view_module": "@jupyter-widgets/base",
       "_view_module_version": "1.2.0",
       "_view_name": "StyleView",
       "description_width": ""
      }
     },
     "c42b191d080141248ec2fe7c94f246ca": {
      "model_module": "@jupyter-widgets/controls",
      "model_module_version": "1.5.0",
      "model_name": "HTMLModel",
      "state": {
       "_dom_classes": [],
       "_model_module": "@jupyter-widgets/controls",
       "_model_module_version": "1.5.0",
       "_model_name": "HTMLModel",
       "_view_count": null,
       "_view_module": "@jupyter-widgets/controls",
       "_view_module_version": "1.5.0",
       "_view_name": "HTMLView",
       "description": "",
       "description_tooltip": null,
       "layout": "IPY_MODEL_166b36b24e59461ca6026e8c051ac727",
       "placeholder": "​",
       "style": "IPY_MODEL_f7dd35af5ea1450e8ef5ff574e0ae190",
       "value": " 373/373 [00:00&lt;00:00, 29.3kB/s]"
      }
     },
     "c8e08f3cffa94d04862863722d6fad37": {
      "model_module": "@jupyter-widgets/controls",
      "model_module_version": "1.5.0",
      "model_name": "HTMLModel",
      "state": {
       "_dom_classes": [],
       "_model_module": "@jupyter-widgets/controls",
       "_model_module_version": "1.5.0",
       "_model_name": "HTMLModel",
       "_view_count": null,
       "_view_module": "@jupyter-widgets/controls",
       "_view_module_version": "1.5.0",
       "_view_name": "HTMLView",
       "description": "",
       "description_tooltip": null,
       "layout": "IPY_MODEL_642a9e7490f74d96930d5b7d50fe75ca",
       "placeholder": "​",
       "style": "IPY_MODEL_bebdd5cd36ea4cb2921cd3102a257247",
       "value": "special_tokens_map.json: 100%"
      }
     },
     "cfd68f6c6be343098cfafc68b59d7a20": {
      "model_module": "@jupyter-widgets/controls",
      "model_module_version": "1.5.0",
      "model_name": "ProgressStyleModel",
      "state": {
       "_model_module": "@jupyter-widgets/controls",
       "_model_module_version": "1.5.0",
       "_model_name": "ProgressStyleModel",
       "_view_count": null,
       "_view_module": "@jupyter-widgets/base",
       "_view_module_version": "1.2.0",
       "_view_name": "StyleView",
       "bar_color": null,
       "description_width": ""
      }
     },
     "d097b46a3804453ba5873698e0bf6e23": {
      "model_module": "@jupyter-widgets/base",
      "model_module_version": "1.2.0",
      "model_name": "LayoutModel",
      "state": {
       "_model_module": "@jupyter-widgets/base",
       "_model_module_version": "1.2.0",
       "_model_name": "LayoutModel",
       "_view_count": null,
       "_view_module": "@jupyter-widgets/base",
       "_view_module_version": "1.2.0",
       "_view_name": "LayoutView",
       "align_content": null,
       "align_items": null,
       "align_self": null,
       "border": null,
       "bottom": null,
       "display": null,
       "flex": null,
       "flex_flow": null,
       "grid_area": null,
       "grid_auto_columns": null,
       "grid_auto_flow": null,
       "grid_auto_rows": null,
       "grid_column": null,
       "grid_gap": null,
       "grid_row": null,
       "grid_template_areas": null,
       "grid_template_columns": null,
       "grid_template_rows": null,
       "height": null,
       "justify_content": null,
       "justify_items": null,
       "left": null,
       "margin": null,
       "max_height": null,
       "max_width": null,
       "min_height": null,
       "min_width": null,
       "object_fit": null,
       "object_position": null,
       "order": null,
       "overflow": null,
       "overflow_x": null,
       "overflow_y": null,
       "padding": null,
       "right": null,
       "top": null,
       "visibility": null,
       "width": null
      }
     },
     "d4d949a1aa4b498682f4b046d03a360c": {
      "model_module": "@jupyter-widgets/controls",
      "model_module_version": "1.5.0",
      "model_name": "HTMLModel",
      "state": {
       "_dom_classes": [],
       "_model_module": "@jupyter-widgets/controls",
       "_model_module_version": "1.5.0",
       "_model_name": "HTMLModel",
       "_view_count": null,
       "_view_module": "@jupyter-widgets/controls",
       "_view_module_version": "1.5.0",
       "_view_name": "HTMLView",
       "description": "",
       "description_tooltip": null,
       "layout": "IPY_MODEL_54d56662358a4c90820172bb69a597de",
       "placeholder": "​",
       "style": "IPY_MODEL_7c12cebc2d9c4607a53a5cb94f208d86",
       "value": "config.json: 100%"
      }
     },
     "d5b509ba831e4affb05fd59c960aa5df": {
      "model_module": "@jupyter-widgets/controls",
      "model_module_version": "1.5.0",
      "model_name": "ProgressStyleModel",
      "state": {
       "_model_module": "@jupyter-widgets/controls",
       "_model_module_version": "1.5.0",
       "_model_name": "ProgressStyleModel",
       "_view_count": null,
       "_view_module": "@jupyter-widgets/base",
       "_view_module_version": "1.2.0",
       "_view_name": "StyleView",
       "bar_color": null,
       "description_width": ""
      }
     },
     "d716f165f2e04a6898d46273f9167456": {
      "model_module": "@jupyter-widgets/controls",
      "model_module_version": "1.5.0",
      "model_name": "DescriptionStyleModel",
      "state": {
       "_model_module": "@jupyter-widgets/controls",
       "_model_module_version": "1.5.0",
       "_model_name": "DescriptionStyleModel",
       "_view_count": null,
       "_view_module": "@jupyter-widgets/base",
       "_view_module_version": "1.2.0",
       "_view_name": "StyleView",
       "description_width": ""
      }
     },
     "e3691cb6b4db4e7a868de6c255a9a981": {
      "model_module": "@jupyter-widgets/base",
      "model_module_version": "1.2.0",
      "model_name": "LayoutModel",
      "state": {
       "_model_module": "@jupyter-widgets/base",
       "_model_module_version": "1.2.0",
       "_model_name": "LayoutModel",
       "_view_count": null,
       "_view_module": "@jupyter-widgets/base",
       "_view_module_version": "1.2.0",
       "_view_name": "LayoutView",
       "align_content": null,
       "align_items": null,
       "align_self": null,
       "border": null,
       "bottom": null,
       "display": null,
       "flex": null,
       "flex_flow": null,
       "grid_area": null,
       "grid_auto_columns": null,
       "grid_auto_flow": null,
       "grid_auto_rows": null,
       "grid_column": null,
       "grid_gap": null,
       "grid_row": null,
       "grid_template_areas": null,
       "grid_template_columns": null,
       "grid_template_rows": null,
       "height": null,
       "justify_content": null,
       "justify_items": null,
       "left": null,
       "margin": null,
       "max_height": null,
       "max_width": null,
       "min_height": null,
       "min_width": null,
       "object_fit": null,
       "object_position": null,
       "order": null,
       "overflow": null,
       "overflow_x": null,
       "overflow_y": null,
       "padding": null,
       "right": null,
       "top": null,
       "visibility": null,
       "width": null
      }
     },
     "e92c4c12a9c640e88573e1b54efebc1b": {
      "model_module": "@jupyter-widgets/base",
      "model_module_version": "1.2.0",
      "model_name": "LayoutModel",
      "state": {
       "_model_module": "@jupyter-widgets/base",
       "_model_module_version": "1.2.0",
       "_model_name": "LayoutModel",
       "_view_count": null,
       "_view_module": "@jupyter-widgets/base",
       "_view_module_version": "1.2.0",
       "_view_name": "LayoutView",
       "align_content": null,
       "align_items": null,
       "align_self": null,
       "border": null,
       "bottom": null,
       "display": null,
       "flex": null,
       "flex_flow": null,
       "grid_area": null,
       "grid_auto_columns": null,
       "grid_auto_flow": null,
       "grid_auto_rows": null,
       "grid_column": null,
       "grid_gap": null,
       "grid_row": null,
       "grid_template_areas": null,
       "grid_template_columns": null,
       "grid_template_rows": null,
       "height": null,
       "justify_content": null,
       "justify_items": null,
       "left": null,
       "margin": null,
       "max_height": null,
       "max_width": null,
       "min_height": null,
       "min_width": null,
       "object_fit": null,
       "object_position": null,
       "order": null,
       "overflow": null,
       "overflow_x": null,
       "overflow_y": null,
       "padding": null,
       "right": null,
       "top": null,
       "visibility": null,
       "width": null
      }
     },
     "eccb0f6090c24aa59cefc1791acb60aa": {
      "model_module": "@jupyter-widgets/base",
      "model_module_version": "1.2.0",
      "model_name": "LayoutModel",
      "state": {
       "_model_module": "@jupyter-widgets/base",
       "_model_module_version": "1.2.0",
       "_model_name": "LayoutModel",
       "_view_count": null,
       "_view_module": "@jupyter-widgets/base",
       "_view_module_version": "1.2.0",
       "_view_name": "LayoutView",
       "align_content": null,
       "align_items": null,
       "align_self": null,
       "border": null,
       "bottom": null,
       "display": null,
       "flex": null,
       "flex_flow": null,
       "grid_area": null,
       "grid_auto_columns": null,
       "grid_auto_flow": null,
       "grid_auto_rows": null,
       "grid_column": null,
       "grid_gap": null,
       "grid_row": null,
       "grid_template_areas": null,
       "grid_template_columns": null,
       "grid_template_rows": null,
       "height": null,
       "justify_content": null,
       "justify_items": null,
       "left": null,
       "margin": null,
       "max_height": null,
       "max_width": null,
       "min_height": null,
       "min_width": null,
       "object_fit": null,
       "object_position": null,
       "order": null,
       "overflow": null,
       "overflow_x": null,
       "overflow_y": null,
       "padding": null,
       "right": null,
       "top": null,
       "visibility": null,
       "width": null
      }
     },
     "f198191865c54b2abce7b22969c75ac0": {
      "model_module": "@jupyter-widgets/controls",
      "model_module_version": "1.5.0",
      "model_name": "DescriptionStyleModel",
      "state": {
       "_model_module": "@jupyter-widgets/controls",
       "_model_module_version": "1.5.0",
       "_model_name": "DescriptionStyleModel",
       "_view_count": null,
       "_view_module": "@jupyter-widgets/base",
       "_view_module_version": "1.2.0",
       "_view_name": "StyleView",
       "description_width": ""
      }
     },
     "f2017814159e4d9ba7319b4efb8d7cf9": {
      "model_module": "@jupyter-widgets/base",
      "model_module_version": "1.2.0",
      "model_name": "LayoutModel",
      "state": {
       "_model_module": "@jupyter-widgets/base",
       "_model_module_version": "1.2.0",
       "_model_name": "LayoutModel",
       "_view_count": null,
       "_view_module": "@jupyter-widgets/base",
       "_view_module_version": "1.2.0",
       "_view_name": "LayoutView",
       "align_content": null,
       "align_items": null,
       "align_self": null,
       "border": null,
       "bottom": null,
       "display": null,
       "flex": null,
       "flex_flow": null,
       "grid_area": null,
       "grid_auto_columns": null,
       "grid_auto_flow": null,
       "grid_auto_rows": null,
       "grid_column": null,
       "grid_gap": null,
       "grid_row": null,
       "grid_template_areas": null,
       "grid_template_columns": null,
       "grid_template_rows": null,
       "height": null,
       "justify_content": null,
       "justify_items": null,
       "left": null,
       "margin": null,
       "max_height": null,
       "max_width": null,
       "min_height": null,
       "min_width": null,
       "object_fit": null,
       "object_position": null,
       "order": null,
       "overflow": null,
       "overflow_x": null,
       "overflow_y": null,
       "padding": null,
       "right": null,
       "top": null,
       "visibility": null,
       "width": null
      }
     },
     "f5e6a36e299e49bc9d58d3944cb2eabc": {
      "model_module": "@jupyter-widgets/base",
      "model_module_version": "1.2.0",
      "model_name": "LayoutModel",
      "state": {
       "_model_module": "@jupyter-widgets/base",
       "_model_module_version": "1.2.0",
       "_model_name": "LayoutModel",
       "_view_count": null,
       "_view_module": "@jupyter-widgets/base",
       "_view_module_version": "1.2.0",
       "_view_name": "LayoutView",
       "align_content": null,
       "align_items": null,
       "align_self": null,
       "border": null,
       "bottom": null,
       "display": null,
       "flex": null,
       "flex_flow": null,
       "grid_area": null,
       "grid_auto_columns": null,
       "grid_auto_flow": null,
       "grid_auto_rows": null,
       "grid_column": null,
       "grid_gap": null,
       "grid_row": null,
       "grid_template_areas": null,
       "grid_template_columns": null,
       "grid_template_rows": null,
       "height": null,
       "justify_content": null,
       "justify_items": null,
       "left": null,
       "margin": null,
       "max_height": null,
       "max_width": null,
       "min_height": null,
       "min_width": null,
       "object_fit": null,
       "object_position": null,
       "order": null,
       "overflow": null,
       "overflow_x": null,
       "overflow_y": null,
       "padding": null,
       "right": null,
       "top": null,
       "visibility": null,
       "width": null
      }
     },
     "f7dd35af5ea1450e8ef5ff574e0ae190": {
      "model_module": "@jupyter-widgets/controls",
      "model_module_version": "1.5.0",
      "model_name": "DescriptionStyleModel",
      "state": {
       "_model_module": "@jupyter-widgets/controls",
       "_model_module_version": "1.5.0",
       "_model_name": "DescriptionStyleModel",
       "_view_count": null,
       "_view_module": "@jupyter-widgets/base",
       "_view_module_version": "1.2.0",
       "_view_name": "StyleView",
       "description_width": ""
      }
     },
     "f91cffb1ee244cbd85a3e2f5683449d9": {
      "model_module": "@jupyter-widgets/controls",
      "model_module_version": "1.5.0",
      "model_name": "FloatProgressModel",
      "state": {
       "_dom_classes": [],
       "_model_module": "@jupyter-widgets/controls",
       "_model_module_version": "1.5.0",
       "_model_name": "FloatProgressModel",
       "_view_count": null,
       "_view_module": "@jupyter-widgets/controls",
       "_view_module_version": "1.5.0",
       "_view_name": "ProgressView",
       "bar_style": "success",
       "description": "",
       "description_tooltip": null,
       "layout": "IPY_MODEL_6050383742c7419687d398f40a2ae91e",
       "max": 759.0,
       "min": 0.0,
       "orientation": "horizontal",
       "style": "IPY_MODEL_21a2629dbaed4a33aa0dcb01f3cea7cf",
       "value": 759.0
      }
     }
    },
    "version_major": 2,
    "version_minor": 0
   }
  }
 },
 "nbformat": 4,
 "nbformat_minor": 5
}
